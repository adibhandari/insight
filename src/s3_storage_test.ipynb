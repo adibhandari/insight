{
 "cells": [
  {
   "cell_type": "code",
   "execution_count": 1,
   "metadata": {},
   "outputs": [],
   "source": [
    "import os"
   ]
  },
  {
   "cell_type": "code",
   "execution_count": 5,
   "metadata": {},
   "outputs": [],
   "source": [
    "import boto3"
   ]
  },
  {
   "cell_type": "code",
   "execution_count": 6,
   "metadata": {},
   "outputs": [],
   "source": [
    "aws_access_key = os.getenv('AWS_ACCESS_KEY_ID', 'default')\n",
    "aws_secret_access_key = os.getenv('AWS_SECRET_ACCESS_KEY', 'default')"
   ]
  },
  {
   "cell_type": "code",
   "execution_count": 7,
   "metadata": {},
   "outputs": [],
   "source": [
    "def connect_s3(bucket_name, aws_access_key, aws_secret_access_key):\n",
    "    # get aws credentials\n",
    "    client = boto3.client(\"s3\", aws_access_key_id=aws_access_key, \\\n",
    "                                aws_secret_access_key=aws_secret_access_key)\n",
    "    s3 = boto3.resource(\"s3\")\n",
    "    bucket = s3.Bucket(bucket_name)\n",
    "    file_name_list = [file.key for file in bucket.objects.all()]\n",
    "    return file_name_list, client"
   ]
  },
  {
   "cell_type": "code",
   "execution_count": 8,
   "metadata": {},
   "outputs": [],
   "source": [
    "client = boto3.client(\"s3\", aws_access_key_id=aws_access_key, \\\n",
    "                                aws_secret_access_key=aws_secret_access_key)"
   ]
  },
  {
   "cell_type": "code",
   "execution_count": 9,
   "metadata": {},
   "outputs": [],
   "source": [
    "s3 = boto3.resource(\"s3\")"
   ]
  },
  {
   "cell_type": "code",
   "execution_count": 10,
   "metadata": {},
   "outputs": [
    {
     "name": "stdout",
     "output_type": "stream",
     "text": [
      "listdogs\n"
     ]
    }
   ],
   "source": [
    "for bucket in s3.buckets.all():\n",
    "    print(bucket.name)"
   ]
  },
  {
   "cell_type": "code",
   "execution_count": 11,
   "metadata": {},
   "outputs": [
    {
     "name": "stdout",
     "output_type": "stream",
     "text": [
      " Volume in drive C is OS\n",
      " Volume Serial Number is 0CFE-082E\n",
      "\n",
      " Directory of C:\\Users\\Aditya (Work)\\Documents\\insight\\dog\\data_acquistion\n",
      "\n",
      "01/20/2020  01:58 PM    <DIR>          .\n",
      "01/20/2020  01:58 PM    <DIR>          ..\n",
      "01/20/2020  01:31 PM    <DIR>          .ipynb_checkpoints\n",
      "01/18/2020  11:01 AM         4,057,569 alldogs_AK.csv\n",
      "01/17/2020  05:35 PM        71,345,489 alldogs_AL.csv\n",
      "01/17/2020  04:40 PM        16,407,973 alldogs_AL_temp.csv\n",
      "01/18/2020  11:48 AM        37,289,461 alldogs_AR.csv\n",
      "01/17/2020  07:34 PM        93,257,767 alldogs_AZ.csv\n",
      "01/17/2020  06:33 PM        75,745,059 alldogs_AZ_temp.csv\n",
      "01/18/2020  12:16 PM        73,307,792 alldogs_CA_ratelim.csv\n",
      "01/19/2020  11:02 PM       121,912,984 alldogs_CO.csv\n",
      "01/19/2020  11:27 PM        19,478,196 alldogs_CT.csv\n",
      "01/17/2020  04:18 PM           243,298 data_acquisition_1.ipynb\n",
      "01/20/2020  11:07 AM            77,301 data_acquisition_by_state.ipynb\n",
      "01/20/2020  01:58 PM             2,169 s3_storage_test.ipynb\n",
      "01/17/2020  04:03 PM             1,677 state_info.csv\n",
      "              13 File(s)    513,126,735 bytes\n",
      "               3 Dir(s)  12,138,303,488 bytes free\n"
     ]
    }
   ],
   "source": [
    "import logging\n",
    "from botocore.exceptions import ClientError\n",
    "def upload_file(file_name, bucket, object_name=None):\n",
    "    \"\"\"Upload a file to an S3 bucket\n",
    "\n",
    "    :param file_name: File to upload\n",
    "    :param bucket: Bucket to upload to\n",
    "    :param object_name: S3 object name. If not specified then file_name is used\n",
    "    :return: True if file was uploaded, else False\n",
    "    \"\"\"\n",
    "\n",
    "    # If S3 object_name was not specified, use file_name\n",
    "    if object_name is None:\n",
    "        object_name = file_name\n",
    "\n",
    "    # Upload the file\n",
    "    #s3_client = boto3.client('s3')\n",
    "    try:\n",
    "        response = client.upload_file(file_name, bucket, object_name)\n",
    "    except ClientError as e:\n",
    "        logging.error(e)\n",
    "        return False\n",
    "    return True"
   ]
  },
  {
   "cell_type": "code",
   "execution_count": 13,
   "metadata": {},
   "outputs": [],
   "source": [
    "client.upload_file('alldogs_AL.csv','listdogs','alldogs_AL.csv')"
   ]
  }
 ],
 "metadata": {
  "kernelspec": {
   "display_name": "Python 3",
   "language": "python",
   "name": "python3"
  },
  "language_info": {
   "codemirror_mode": {
    "name": "ipython",
    "version": 3
   },
   "file_extension": ".py",
   "mimetype": "text/x-python",
   "name": "python",
   "nbconvert_exporter": "python",
   "pygments_lexer": "ipython3",
   "version": "3.7.6"
  }
 },
 "nbformat": 4,
 "nbformat_minor": 2
}
