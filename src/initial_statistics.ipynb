{
 "cells": [
  {
   "cell_type": "code",
   "execution_count": 6,
   "metadata": {},
   "outputs": [
    {
     "name": "stdout",
     "output_type": "stream",
     "text": [
      "Collecting seaborn\n",
      "  Downloading https://files.pythonhosted.org/packages/a8/76/220ba4420459d9c4c9c9587c6ce607bf56c25b3d3d2de62056efe482dadc/seaborn-0.9.0-py3-none-any.whl (208kB)\n",
      "Collecting scipy>=0.14.0\n",
      "  Using cached https://files.pythonhosted.org/packages/61/51/046cbc61c7607e5ecead6ff1a9453fba5e7e47a5ea8d608cc7036586a5ef/scipy-1.4.1-cp37-cp37m-win_amd64.whl\n",
      "Requirement already satisfied: numpy>=1.9.3 in c:\\anaconda_python\\envs\\insight\\lib\\site-packages (from seaborn) (1.18.1)\n",
      "Requirement already satisfied: pandas>=0.15.2 in c:\\anaconda_python\\envs\\insight\\lib\\site-packages (from seaborn) (0.25.3)\n",
      "Requirement already satisfied: matplotlib>=1.4.3 in c:\\anaconda_python\\envs\\insight\\lib\\site-packages (from seaborn) (3.1.2)\n",
      "Requirement already satisfied: python-dateutil>=2.6.1 in c:\\anaconda_python\\envs\\insight\\lib\\site-packages (from pandas>=0.15.2->seaborn) (2.8.1)\n",
      "Requirement already satisfied: pytz>=2017.2 in c:\\anaconda_python\\envs\\insight\\lib\\site-packages (from pandas>=0.15.2->seaborn) (2019.3)\n",
      "Requirement already satisfied: pyparsing!=2.0.4,!=2.1.2,!=2.1.6,>=2.0.1 in c:\\anaconda_python\\envs\\insight\\lib\\site-packages (from matplotlib>=1.4.3->seaborn) (2.4.6)\n",
      "Requirement already satisfied: cycler>=0.10 in c:\\anaconda_python\\envs\\insight\\lib\\site-packages (from matplotlib>=1.4.3->seaborn) (0.10.0)\n",
      "Requirement already satisfied: kiwisolver>=1.0.1 in c:\\anaconda_python\\envs\\insight\\lib\\site-packages (from matplotlib>=1.4.3->seaborn) (1.1.0)\n",
      "Requirement already satisfied: six>=1.5 in c:\\anaconda_python\\envs\\insight\\lib\\site-packages (from python-dateutil>=2.6.1->pandas>=0.15.2->seaborn) (1.13.0)\n",
      "Requirement already satisfied: setuptools in c:\\anaconda_python\\envs\\insight\\lib\\site-packages (from kiwisolver>=1.0.1->matplotlib>=1.4.3->seaborn) (44.0.0.post20200106)\n",
      "Installing collected packages: scipy, seaborn\n",
      "Successfully installed scipy-1.4.1 seaborn-0.9.0\n",
      "Note: you may need to restart the kernel to use updated packages.\n"
     ]
    }
   ],
   "source": [
    "#pip install seaborn"
   ]
  },
  {
   "cell_type": "code",
   "execution_count": 7,
   "metadata": {},
   "outputs": [],
   "source": [
    "#merge data from several states\n",
    "import numpy as np\n",
    "import pandas as pd\n",
    "import json\n",
    "from pandas.io.json import json_normalize\n",
    "import matplotlib.pyplot as plt\n",
    "import pprint\n",
    "import seaborn as sns"
   ]
  },
  {
   "cell_type": "code",
   "execution_count": 3,
   "metadata": {},
   "outputs": [
    {
     "data": {
      "text/plain": [
       "'AL'"
      ]
     },
     "execution_count": 3,
     "metadata": {},
     "output_type": "execute_result"
    }
   ],
   "source": [
    "alldogs_merged = pd.read_csv('./data/alldogs_merged.csv')\n",
    "state_info = pd.read_csv('stats.csv')\n",
    "state_pos = 0\n",
    "current_state = state_info['state'][state_pos]\n",
    "current_city = state_info['city'][state_pos]\n",
    "current_state"
   ]
  },
  {
   "cell_type": "code",
   "execution_count": 4,
   "metadata": {},
   "outputs": [
    {
     "data": {
      "text/plain": [
       "265324"
      ]
     },
     "execution_count": 4,
     "metadata": {},
     "output_type": "execute_result"
    }
   ],
   "source": [
    "len(alldogs_merged)"
   ]
  },
  {
   "cell_type": "code",
   "execution_count": 8,
   "metadata": {},
   "outputs": [
    {
     "data": {
      "text/plain": [
       "id                              int64\n",
       "organization_id                object\n",
       "url                            object\n",
       "age                            object\n",
       "gender                         object\n",
       "size                           object\n",
       "coat                           object\n",
       "tags                           object\n",
       "name                           object\n",
       "status                         object\n",
       "status_changed_at              object\n",
       "published_at                   object\n",
       "distance                      float64\n",
       "breeds.primary                 object\n",
       "breeds.secondary               object\n",
       "breeds.mixed                     bool\n",
       "breeds.unknown                   bool\n",
       "colors.primary                 object\n",
       "colors.secondary               object\n",
       "colors.tertiary                object\n",
       "attributes.spayed_neutered       bool\n",
       "attributes.house_trained         bool\n",
       "attributes.declawed           float64\n",
       "attributes.special_needs         bool\n",
       "attributes.shots_current         bool\n",
       "environment.children           object\n",
       "environment.dogs               object\n",
       "environment.cats               object\n",
       "contact.address.city           object\n",
       "contact.address.state          object\n",
       "contact.address.postcode        int64\n",
       "adoption_time                   int64\n",
       "dtype: object"
      ]
     },
     "execution_count": 8,
     "metadata": {},
     "output_type": "execute_result"
    }
   ],
   "source": [
    "alldogs_merged.dtypes"
   ]
  },
  {
   "cell_type": "code",
   "execution_count": 9,
   "metadata": {},
   "outputs": [
    {
     "data": {
      "text/html": [
       "<div>\n",
       "<style scoped>\n",
       "    .dataframe tbody tr th:only-of-type {\n",
       "        vertical-align: middle;\n",
       "    }\n",
       "\n",
       "    .dataframe tbody tr th {\n",
       "        vertical-align: top;\n",
       "    }\n",
       "\n",
       "    .dataframe thead th {\n",
       "        text-align: right;\n",
       "    }\n",
       "</style>\n",
       "<table border=\"1\" class=\"dataframe\">\n",
       "  <thead>\n",
       "    <tr style=\"text-align: right;\">\n",
       "      <th></th>\n",
       "      <th>id</th>\n",
       "      <th>organization_id</th>\n",
       "      <th>url</th>\n",
       "      <th>age</th>\n",
       "      <th>gender</th>\n",
       "      <th>size</th>\n",
       "      <th>coat</th>\n",
       "      <th>tags</th>\n",
       "      <th>name</th>\n",
       "      <th>status</th>\n",
       "      <th>...</th>\n",
       "      <th>attributes.declawed</th>\n",
       "      <th>attributes.special_needs</th>\n",
       "      <th>attributes.shots_current</th>\n",
       "      <th>environment.children</th>\n",
       "      <th>environment.dogs</th>\n",
       "      <th>environment.cats</th>\n",
       "      <th>contact.address.city</th>\n",
       "      <th>contact.address.state</th>\n",
       "      <th>contact.address.postcode</th>\n",
       "      <th>adoption_time</th>\n",
       "    </tr>\n",
       "  </thead>\n",
       "  <tbody>\n",
       "    <tr>\n",
       "      <th>0</th>\n",
       "      <td>24113097</td>\n",
       "      <td>CA712</td>\n",
       "      <td>https://www.petfinder.com/dog/madonna-24113097...</td>\n",
       "      <td>Adult</td>\n",
       "      <td>Female</td>\n",
       "      <td>Small</td>\n",
       "      <td>Long</td>\n",
       "      <td>[]</td>\n",
       "      <td>Madonna</td>\n",
       "      <td>adopted</td>\n",
       "      <td>...</td>\n",
       "      <td>NaN</td>\n",
       "      <td>False</td>\n",
       "      <td>True</td>\n",
       "      <td>False</td>\n",
       "      <td>NaN</td>\n",
       "      <td>NaN</td>\n",
       "      <td>Birmingham</td>\n",
       "      <td>AL</td>\n",
       "      <td>35201</td>\n",
       "      <td>20</td>\n",
       "    </tr>\n",
       "    <tr>\n",
       "      <th>1</th>\n",
       "      <td>35898350</td>\n",
       "      <td>CA712</td>\n",
       "      <td>https://www.petfinder.com/dog/bess-located-in-...</td>\n",
       "      <td>Adult</td>\n",
       "      <td>Female</td>\n",
       "      <td>Small</td>\n",
       "      <td>Short</td>\n",
       "      <td>[]</td>\n",
       "      <td>Bess (located in Birmingam, AL)</td>\n",
       "      <td>adopted</td>\n",
       "      <td>...</td>\n",
       "      <td>NaN</td>\n",
       "      <td>False</td>\n",
       "      <td>True</td>\n",
       "      <td>NaN</td>\n",
       "      <td>NaN</td>\n",
       "      <td>NaN</td>\n",
       "      <td>Birmingham</td>\n",
       "      <td>AL</td>\n",
       "      <td>35201</td>\n",
       "      <td>96</td>\n",
       "    </tr>\n",
       "    <tr>\n",
       "      <th>2</th>\n",
       "      <td>30542160</td>\n",
       "      <td>TX1860</td>\n",
       "      <td>https://www.petfinder.com/dog/madonna-30542160...</td>\n",
       "      <td>Young</td>\n",
       "      <td>Female</td>\n",
       "      <td>Small</td>\n",
       "      <td>Medium</td>\n",
       "      <td>[]</td>\n",
       "      <td>Madonna</td>\n",
       "      <td>adopted</td>\n",
       "      <td>...</td>\n",
       "      <td>NaN</td>\n",
       "      <td>False</td>\n",
       "      <td>True</td>\n",
       "      <td>NaN</td>\n",
       "      <td>NaN</td>\n",
       "      <td>NaN</td>\n",
       "      <td>Birmingham</td>\n",
       "      <td>AL</td>\n",
       "      <td>35201</td>\n",
       "      <td>98</td>\n",
       "    </tr>\n",
       "    <tr>\n",
       "      <th>3</th>\n",
       "      <td>41000971</td>\n",
       "      <td>FL653</td>\n",
       "      <td>https://www.petfinder.com/dog/al-sweetie-birmi...</td>\n",
       "      <td>Adult</td>\n",
       "      <td>Female</td>\n",
       "      <td>Extra Large</td>\n",
       "      <td>Short</td>\n",
       "      <td>[]</td>\n",
       "      <td>AL - Sweetie/Birmingham</td>\n",
       "      <td>adopted</td>\n",
       "      <td>...</td>\n",
       "      <td>NaN</td>\n",
       "      <td>False</td>\n",
       "      <td>True</td>\n",
       "      <td>True</td>\n",
       "      <td>True</td>\n",
       "      <td>True</td>\n",
       "      <td>Birmingham</td>\n",
       "      <td>AL</td>\n",
       "      <td>35201</td>\n",
       "      <td>32</td>\n",
       "    </tr>\n",
       "    <tr>\n",
       "      <th>4</th>\n",
       "      <td>33618001</td>\n",
       "      <td>FL653</td>\n",
       "      <td>https://www.petfinder.com/dog/al-rosie-prattvi...</td>\n",
       "      <td>Young</td>\n",
       "      <td>Female</td>\n",
       "      <td>Large</td>\n",
       "      <td>NaN</td>\n",
       "      <td>[]</td>\n",
       "      <td>AL - Rosie/Prattville</td>\n",
       "      <td>adopted</td>\n",
       "      <td>...</td>\n",
       "      <td>NaN</td>\n",
       "      <td>False</td>\n",
       "      <td>True</td>\n",
       "      <td>NaN</td>\n",
       "      <td>NaN</td>\n",
       "      <td>NaN</td>\n",
       "      <td>Birmingham</td>\n",
       "      <td>AL</td>\n",
       "      <td>35201</td>\n",
       "      <td>16</td>\n",
       "    </tr>\n",
       "  </tbody>\n",
       "</table>\n",
       "<p>5 rows × 32 columns</p>\n",
       "</div>"
      ],
      "text/plain": [
       "         id organization_id  \\\n",
       "0  24113097           CA712   \n",
       "1  35898350           CA712   \n",
       "2  30542160          TX1860   \n",
       "3  41000971           FL653   \n",
       "4  33618001           FL653   \n",
       "\n",
       "                                                 url    age  gender  \\\n",
       "0  https://www.petfinder.com/dog/madonna-24113097...  Adult  Female   \n",
       "1  https://www.petfinder.com/dog/bess-located-in-...  Adult  Female   \n",
       "2  https://www.petfinder.com/dog/madonna-30542160...  Young  Female   \n",
       "3  https://www.petfinder.com/dog/al-sweetie-birmi...  Adult  Female   \n",
       "4  https://www.petfinder.com/dog/al-rosie-prattvi...  Young  Female   \n",
       "\n",
       "          size    coat tags                             name   status  ...  \\\n",
       "0        Small    Long   []                          Madonna  adopted  ...   \n",
       "1        Small   Short   []  Bess (located in Birmingam, AL)  adopted  ...   \n",
       "2        Small  Medium   []                          Madonna  adopted  ...   \n",
       "3  Extra Large   Short   []          AL - Sweetie/Birmingham  adopted  ...   \n",
       "4        Large     NaN   []            AL - Rosie/Prattville  adopted  ...   \n",
       "\n",
       "  attributes.declawed attributes.special_needs  attributes.shots_current  \\\n",
       "0                 NaN                    False                      True   \n",
       "1                 NaN                    False                      True   \n",
       "2                 NaN                    False                      True   \n",
       "3                 NaN                    False                      True   \n",
       "4                 NaN                    False                      True   \n",
       "\n",
       "  environment.children environment.dogs  environment.cats  \\\n",
       "0                False              NaN               NaN   \n",
       "1                  NaN              NaN               NaN   \n",
       "2                  NaN              NaN               NaN   \n",
       "3                 True             True              True   \n",
       "4                  NaN              NaN               NaN   \n",
       "\n",
       "   contact.address.city contact.address.state contact.address.postcode  \\\n",
       "0            Birmingham                    AL                    35201   \n",
       "1            Birmingham                    AL                    35201   \n",
       "2            Birmingham                    AL                    35201   \n",
       "3            Birmingham                    AL                    35201   \n",
       "4            Birmingham                    AL                    35201   \n",
       "\n",
       "  adoption_time  \n",
       "0            20  \n",
       "1            96  \n",
       "2            98  \n",
       "3            32  \n",
       "4            16  \n",
       "\n",
       "[5 rows x 32 columns]"
      ]
     },
     "execution_count": 9,
     "metadata": {},
     "output_type": "execute_result"
    }
   ],
   "source": [
    "alldogs_merged.head()"
   ]
  },
  {
   "cell_type": "code",
   "execution_count": 64,
   "metadata": {},
   "outputs": [
    {
     "data": {
      "image/png": "[encoded data removed]",
      "text/plain": [
       "<Figure size 432x288 with 1 Axes>"
      ]
     },
     "metadata": {
      "needs_background": "light"
     },
     "output_type": "display_data"
    }
   ],
   "source": [
    "hist = alldogs_merged.hist(column='adoption_time', bins = 30, range=[0,200], density=True)"
   ]
  },
  {
   "cell_type": "code",
   "execution_count": 15,
   "metadata": {},
   "outputs": [
    {
     "data": {
      "image/png": "[encoded data removed]",
      "text/plain": [
       "<Figure size 432x288 with 1 Axes>"
      ]
     },
     "metadata": {
      "needs_background": "light"
     },
     "output_type": "display_data"
    }
   ],
   "source": [
    "hist = alldogs_merged[alldogs_merged['contact.address.state'] == 'AL'].hist(column='adoption_time', bins = 30, range=[0,200])"
   ]
  },
  {
   "cell_type": "code",
   "execution_count": 65,
   "metadata": {},
   "outputs": [
    {
     "data": {
      "image/png": "[encoded data removed]",
      "text/plain": [
       "<Figure size 432x288 with 1 Axes>"
      ]
     },
     "metadata": {
      "needs_background": "light"
     },
     "output_type": "display_data"
    }
   ],
   "source": [
    "hist = alldogs_merged[alldogs_merged['age'] == 'Senior'].hist(column='adoption_time', bins = 30, range=[0,200], density = True)"
   ]
  },
  {
   "cell_type": "code",
   "execution_count": 66,
   "metadata": {},
   "outputs": [
    {
     "data": {
      "image/png": "[encoded data removed]",
      "text/plain": [
       "<Figure size 432x288 with 1 Axes>"
      ]
     },
     "metadata": {
      "needs_background": "light"
     },
     "output_type": "display_data"
    }
   ],
   "source": [
    "hist = alldogs_merged[alldogs_merged['age'] == 'Baby'].hist(column='adoption_time', bins = 30, range=[0,200], density = True)"
   ]
  },
  {
   "cell_type": "code",
   "execution_count": 67,
   "metadata": {},
   "outputs": [
    {
     "data": {
      "image/png": "[encoded data removed]",
      "text/plain": [
       "<Figure size 432x288 with 1 Axes>"
      ]
     },
     "metadata": {
      "needs_background": "light"
     },
     "output_type": "display_data"
    }
   ],
   "source": [
    "hist = alldogs_merged[alldogs_merged['size'] == 'Small'].hist(column='adoption_time', bins = 30, range=[0,200], density = True)"
   ]
  },
  {
   "cell_type": "code",
   "execution_count": 68,
   "metadata": {},
   "outputs": [
    {
     "data": {
      "image/png": "[encoded data removed]",
      "text/plain": [
       "<Figure size 432x288 with 1 Axes>"
      ]
     },
     "metadata": {
      "needs_background": "light"
     },
     "output_type": "display_data"
    }
   ],
   "source": [
    "hist = alldogs_merged[alldogs_merged['size'] == 'Extra Large'].hist(column='adoption_time', bins = 30, range=[0,200], density = True)"
   ]
  },
  {
   "cell_type": "code",
   "execution_count": 60,
   "metadata": {},
   "outputs": [
    {
     "name": "stdout",
     "output_type": "stream",
     "text": [
      "{'AK': 126.14481762369087,\n",
      " 'AL': 170.06322266376105,\n",
      " 'AR': 125.39647538080057,\n",
      " 'AZ': 139.03937021048756,\n",
      " 'CA': 184.01237496363595,\n",
      " 'CO': 84.86054070545164,\n",
      " 'CT': 167.97148171109734}\n"
     ]
    }
   ],
   "source": [
    "mean_adpt_time = {}\n",
    "#create a dict with each state and average adoption time\n",
    "for i in range(0,7):\n",
    "    key = state_info.iloc[i]['state']\n",
    "    val = alldogs_merged[alldogs_merged['contact.address.state'] == state_info.iloc[i]['state']]['adoption_time'].mean()\n",
    "    mean_adpt_time[key] = val\n",
    "pprint(mean_adpt_time)"
   ]
  },
  {
   "cell_type": "code",
   "execution_count": 38,
   "metadata": {},
   "outputs": [
    {
     "data": {
      "text/plain": [
       "'CO'"
      ]
     },
     "execution_count": 38,
     "metadata": {},
     "output_type": "execute_result"
    }
   ],
   "source": [
    "state_info.iloc[i]['state']"
   ]
  },
  {
   "cell_type": "code",
   "execution_count": 54,
   "metadata": {},
   "outputs": [
    {
     "data": {
      "text/plain": [
       "{'CO': 84.86054070545164,\n",
       " 'AR': 125.39647538080057,\n",
       " 'AK': 126.14481762369087,\n",
       " 'AZ': 139.03937021048756,\n",
       " 'CT': 167.97148171109734,\n",
       " 'AL': 170.06322266376105,\n",
       " 'CA': 184.01237496363595}"
      ]
     },
     "execution_count": 54,
     "metadata": {},
     "output_type": "execute_result"
    }
   ],
   "source": [
    "{key: value for key, value in sorted(mean_adpt_time.items(), key=lambda item: item[1])}"
   ]
  },
  {
   "cell_type": "code",
   "execution_count": 61,
   "metadata": {},
   "outputs": [
    {
     "name": "stdout",
     "output_type": "stream",
     "text": [
      "{'AK': 289.8858847932409,\n",
      " 'AL': 394.31090881863236,\n",
      " 'AR': 289.66755555383185,\n",
      " 'AZ': 321.2568032682665,\n",
      " 'CA': 407.849730568399,\n",
      " 'CO': 229.02571736712306,\n",
      " 'CT': 369.2792895560888}\n"
     ]
    }
   ],
   "source": [
    "var_adpt_time = {}\n",
    "#create a dict with each state and average adoption time\n",
    "for i in range(0,7):\n",
    "    key = state_info.iloc[i]['state']\n",
    "    val = alldogs_merged[alldogs_merged['contact.address.state'] == state_info.iloc[i]['state']]['adoption_time'].std()\n",
    "    var_adpt_time[key] = val\n",
    "pprint(var_adpt_time)"
   ]
  },
  {
   "cell_type": "code",
   "execution_count": 59,
   "metadata": {},
   "outputs": [
    {
     "data": {
      "text/plain": [
       "136367.1936950497"
      ]
     },
     "execution_count": 59,
     "metadata": {},
     "output_type": "execute_result"
    }
   ],
   "source": [
    "alldogs_merged[alldogs_merged['contact.address.state'] == state_info.iloc[i]['state']]['adoption_time'].var()"
   ]
  },
  {
   "cell_type": "code",
   "execution_count": 14,
   "metadata": {},
   "outputs": [
    {
     "name": "stdout",
     "output_type": "stream",
     "text": [
      "Table size - (265324, 32)\n",
      "Checking for missing values..\n",
      "coat                    113765\n",
      "name                        57\n",
      "breeds.secondary        169752\n",
      "colors.primary          101161\n",
      "colors.secondary        182830\n",
      "colors.tertiary         263287\n",
      "attributes.declawed     265324\n",
      "environment.children    214990\n",
      "environment.dogs        212236\n",
      "environment.cats        238603\n",
      "dtype: int64\n"
     ]
    }
   ],
   "source": [
    "# Check for any missing data\n",
    "print(\"Table size -\", end=' ')\n",
    "print(alldogs_merged.shape)\n",
    "\n",
    "print(\"Checking for missing values..\")\n",
    "# Number of missing values in each column of training data\n",
    "missing_val_count_by_column = (alldogs_merged.isnull().sum())\n",
    "print(missing_val_count_by_column[missing_val_count_by_column > 0])\n",
    "\n",
    "# Get names of columns with missing values\n",
    "missing_cols = [col for col in alldogs_merged.columns\n",
    "                     if alldogs_merged[col].isnull().any()]"
   ]
  },
  {
   "cell_type": "code",
   "execution_count": 30,
   "metadata": {},
   "outputs": [
    {
     "data": {
      "text/plain": [
       "list"
      ]
     },
     "execution_count": 30,
     "metadata": {},
     "output_type": "execute_result"
    }
   ],
   "source": [
    "type(missing_cols)"
   ]
  },
  {
   "cell_type": "code",
   "execution_count": 90,
   "metadata": {},
   "outputs": [],
   "source": [
    "alldogs_nm = alldogs_merged.drop(missing_cols, axis=1)"
   ]
  },
  {
   "cell_type": "code",
   "execution_count": 91,
   "metadata": {},
   "outputs": [
    {
     "data": {
      "text/html": [
       "<div>\n",
       "<style scoped>\n",
       "    .dataframe tbody tr th:only-of-type {\n",
       "        vertical-align: middle;\n",
       "    }\n",
       "\n",
       "    .dataframe tbody tr th {\n",
       "        vertical-align: top;\n",
       "    }\n",
       "\n",
       "    .dataframe thead th {\n",
       "        text-align: right;\n",
       "    }\n",
       "</style>\n",
       "<table border=\"1\" class=\"dataframe\">\n",
       "  <thead>\n",
       "    <tr style=\"text-align: right;\">\n",
       "      <th></th>\n",
       "      <th>id</th>\n",
       "      <th>organization_id</th>\n",
       "      <th>url</th>\n",
       "      <th>age</th>\n",
       "      <th>gender</th>\n",
       "      <th>size</th>\n",
       "      <th>tags</th>\n",
       "      <th>status</th>\n",
       "      <th>status_changed_at</th>\n",
       "      <th>published_at</th>\n",
       "      <th>...</th>\n",
       "      <th>breeds.mixed</th>\n",
       "      <th>breeds.unknown</th>\n",
       "      <th>attributes.spayed_neutered</th>\n",
       "      <th>attributes.house_trained</th>\n",
       "      <th>attributes.special_needs</th>\n",
       "      <th>attributes.shots_current</th>\n",
       "      <th>contact.address.city</th>\n",
       "      <th>contact.address.state</th>\n",
       "      <th>contact.address.postcode</th>\n",
       "      <th>adoption_time</th>\n",
       "    </tr>\n",
       "  </thead>\n",
       "  <tbody>\n",
       "    <tr>\n",
       "      <th>0</th>\n",
       "      <td>24113097</td>\n",
       "      <td>CA712</td>\n",
       "      <td>https://www.petfinder.com/dog/madonna-24113097...</td>\n",
       "      <td>Adult</td>\n",
       "      <td>Female</td>\n",
       "      <td>Small</td>\n",
       "      <td>[]</td>\n",
       "      <td>adopted</td>\n",
       "      <td>2012-10-04T11:36:05+0000</td>\n",
       "      <td>2012-09-13T12:51:33+0000</td>\n",
       "      <td>...</td>\n",
       "      <td>False</td>\n",
       "      <td>False</td>\n",
       "      <td>True</td>\n",
       "      <td>True</td>\n",
       "      <td>False</td>\n",
       "      <td>True</td>\n",
       "      <td>Birmingham</td>\n",
       "      <td>AL</td>\n",
       "      <td>35201</td>\n",
       "      <td>20</td>\n",
       "    </tr>\n",
       "    <tr>\n",
       "      <th>1</th>\n",
       "      <td>35898350</td>\n",
       "      <td>CA712</td>\n",
       "      <td>https://www.petfinder.com/dog/bess-located-in-...</td>\n",
       "      <td>Adult</td>\n",
       "      <td>Female</td>\n",
       "      <td>Small</td>\n",
       "      <td>[]</td>\n",
       "      <td>adopted</td>\n",
       "      <td>2016-11-13T08:14:08+0000</td>\n",
       "      <td>2016-08-08T19:15:43+0000</td>\n",
       "      <td>...</td>\n",
       "      <td>False</td>\n",
       "      <td>False</td>\n",
       "      <td>True</td>\n",
       "      <td>True</td>\n",
       "      <td>False</td>\n",
       "      <td>True</td>\n",
       "      <td>Birmingham</td>\n",
       "      <td>AL</td>\n",
       "      <td>35201</td>\n",
       "      <td>96</td>\n",
       "    </tr>\n",
       "    <tr>\n",
       "      <th>2</th>\n",
       "      <td>30542160</td>\n",
       "      <td>TX1860</td>\n",
       "      <td>https://www.petfinder.com/dog/madonna-30542160...</td>\n",
       "      <td>Young</td>\n",
       "      <td>Female</td>\n",
       "      <td>Small</td>\n",
       "      <td>[]</td>\n",
       "      <td>adopted</td>\n",
       "      <td>2015-01-20T17:31:49+0000</td>\n",
       "      <td>2014-10-14T09:20:08+0000</td>\n",
       "      <td>...</td>\n",
       "      <td>True</td>\n",
       "      <td>False</td>\n",
       "      <td>True</td>\n",
       "      <td>True</td>\n",
       "      <td>False</td>\n",
       "      <td>True</td>\n",
       "      <td>Birmingham</td>\n",
       "      <td>AL</td>\n",
       "      <td>35201</td>\n",
       "      <td>98</td>\n",
       "    </tr>\n",
       "    <tr>\n",
       "      <th>3</th>\n",
       "      <td>41000971</td>\n",
       "      <td>FL653</td>\n",
       "      <td>https://www.petfinder.com/dog/al-sweetie-birmi...</td>\n",
       "      <td>Adult</td>\n",
       "      <td>Female</td>\n",
       "      <td>Extra Large</td>\n",
       "      <td>[]</td>\n",
       "      <td>adopted</td>\n",
       "      <td>2018-03-25T13:18:45+0000</td>\n",
       "      <td>2018-02-21T00:02:35+0000</td>\n",
       "      <td>...</td>\n",
       "      <td>False</td>\n",
       "      <td>False</td>\n",
       "      <td>True</td>\n",
       "      <td>True</td>\n",
       "      <td>False</td>\n",
       "      <td>True</td>\n",
       "      <td>Birmingham</td>\n",
       "      <td>AL</td>\n",
       "      <td>35201</td>\n",
       "      <td>32</td>\n",
       "    </tr>\n",
       "    <tr>\n",
       "      <th>4</th>\n",
       "      <td>33618001</td>\n",
       "      <td>FL653</td>\n",
       "      <td>https://www.petfinder.com/dog/al-rosie-prattvi...</td>\n",
       "      <td>Young</td>\n",
       "      <td>Female</td>\n",
       "      <td>Large</td>\n",
       "      <td>[]</td>\n",
       "      <td>adopted</td>\n",
       "      <td>2015-11-11T18:28:03+0000</td>\n",
       "      <td>2015-10-26T11:05:40+0000</td>\n",
       "      <td>...</td>\n",
       "      <td>False</td>\n",
       "      <td>False</td>\n",
       "      <td>True</td>\n",
       "      <td>True</td>\n",
       "      <td>False</td>\n",
       "      <td>True</td>\n",
       "      <td>Birmingham</td>\n",
       "      <td>AL</td>\n",
       "      <td>35201</td>\n",
       "      <td>16</td>\n",
       "    </tr>\n",
       "  </tbody>\n",
       "</table>\n",
       "<p>5 rows × 22 columns</p>\n",
       "</div>"
      ],
      "text/plain": [
       "         id organization_id  \\\n",
       "0  24113097           CA712   \n",
       "1  35898350           CA712   \n",
       "2  30542160          TX1860   \n",
       "3  41000971           FL653   \n",
       "4  33618001           FL653   \n",
       "\n",
       "                                                 url    age  gender  \\\n",
       "0  https://www.petfinder.com/dog/madonna-24113097...  Adult  Female   \n",
       "1  https://www.petfinder.com/dog/bess-located-in-...  Adult  Female   \n",
       "2  https://www.petfinder.com/dog/madonna-30542160...  Young  Female   \n",
       "3  https://www.petfinder.com/dog/al-sweetie-birmi...  Adult  Female   \n",
       "4  https://www.petfinder.com/dog/al-rosie-prattvi...  Young  Female   \n",
       "\n",
       "          size tags   status         status_changed_at  \\\n",
       "0        Small   []  adopted  2012-10-04T11:36:05+0000   \n",
       "1        Small   []  adopted  2016-11-13T08:14:08+0000   \n",
       "2        Small   []  adopted  2015-01-20T17:31:49+0000   \n",
       "3  Extra Large   []  adopted  2018-03-25T13:18:45+0000   \n",
       "4        Large   []  adopted  2015-11-11T18:28:03+0000   \n",
       "\n",
       "               published_at  ...  breeds.mixed breeds.unknown  \\\n",
       "0  2012-09-13T12:51:33+0000  ...         False          False   \n",
       "1  2016-08-08T19:15:43+0000  ...         False          False   \n",
       "2  2014-10-14T09:20:08+0000  ...          True          False   \n",
       "3  2018-02-21T00:02:35+0000  ...         False          False   \n",
       "4  2015-10-26T11:05:40+0000  ...         False          False   \n",
       "\n",
       "   attributes.spayed_neutered  attributes.house_trained  \\\n",
       "0                        True                      True   \n",
       "1                        True                      True   \n",
       "2                        True                      True   \n",
       "3                        True                      True   \n",
       "4                        True                      True   \n",
       "\n",
       "   attributes.special_needs  attributes.shots_current  contact.address.city  \\\n",
       "0                     False                      True            Birmingham   \n",
       "1                     False                      True            Birmingham   \n",
       "2                     False                      True            Birmingham   \n",
       "3                     False                      True            Birmingham   \n",
       "4                     False                      True            Birmingham   \n",
       "\n",
       "   contact.address.state contact.address.postcode adoption_time  \n",
       "0                     AL                    35201            20  \n",
       "1                     AL                    35201            96  \n",
       "2                     AL                    35201            98  \n",
       "3                     AL                    35201            32  \n",
       "4                     AL                    35201            16  \n",
       "\n",
       "[5 rows x 22 columns]"
      ]
     },
     "execution_count": 91,
     "metadata": {},
     "output_type": "execute_result"
    }
   ],
   "source": [
    "alldogs_nm.head()"
   ]
  },
  {
   "cell_type": "code",
   "execution_count": 104,
   "metadata": {},
   "outputs": [],
   "source": [
    "#remove negative days error\n",
    "alldogs_nm = alldogs_nm[alldogs_nm['adoption_time']>=0]"
   ]
  },
  {
   "cell_type": "code",
   "execution_count": 105,
   "metadata": {},
   "outputs": [
    {
     "data": {
      "text/plain": [
       "Index(['id', 'organization_id', 'url', 'age', 'gender', 'size', 'tags',\n",
       "       'status', 'status_changed_at', 'published_at', 'distance',\n",
       "       'breeds.primary', 'breeds.mixed', 'breeds.unknown',\n",
       "       'attributes.spayed_neutered', 'attributes.house_trained',\n",
       "       'attributes.special_needs', 'attributes.shots_current',\n",
       "       'contact.address.city', 'contact.address.state',\n",
       "       'contact.address.postcode', 'adoption_time'],\n",
       "      dtype='object')"
      ]
     },
     "execution_count": 105,
     "metadata": {},
     "output_type": "execute_result"
    }
   ],
   "source": [
    "alldogs_nm.columns"
   ]
  },
  {
   "cell_type": "code",
   "execution_count": 106,
   "metadata": {},
   "outputs": [
    {
     "data": {
      "text/html": [
       "<div>\n",
       "<style scoped>\n",
       "    .dataframe tbody tr th:only-of-type {\n",
       "        vertical-align: middle;\n",
       "    }\n",
       "\n",
       "    .dataframe tbody tr th {\n",
       "        vertical-align: top;\n",
       "    }\n",
       "\n",
       "    .dataframe thead th {\n",
       "        text-align: right;\n",
       "    }\n",
       "</style>\n",
       "<table border=\"1\" class=\"dataframe\">\n",
       "  <thead>\n",
       "    <tr style=\"text-align: right;\">\n",
       "      <th></th>\n",
       "      <th>age</th>\n",
       "      <th>gender</th>\n",
       "      <th>size</th>\n",
       "      <th>breeds.mixed</th>\n",
       "      <th>breeds.unknown</th>\n",
       "      <th>attributes.spayed_neutered</th>\n",
       "      <th>attributes.house_trained</th>\n",
       "      <th>attributes.special_needs</th>\n",
       "      <th>attributes.shots_current</th>\n",
       "      <th>contact.address.state</th>\n",
       "    </tr>\n",
       "  </thead>\n",
       "  <tbody>\n",
       "    <tr>\n",
       "      <th>0</th>\n",
       "      <td>Adult</td>\n",
       "      <td>Female</td>\n",
       "      <td>Small</td>\n",
       "      <td>False</td>\n",
       "      <td>False</td>\n",
       "      <td>True</td>\n",
       "      <td>True</td>\n",
       "      <td>False</td>\n",
       "      <td>True</td>\n",
       "      <td>AL</td>\n",
       "    </tr>\n",
       "    <tr>\n",
       "      <th>1</th>\n",
       "      <td>Adult</td>\n",
       "      <td>Female</td>\n",
       "      <td>Small</td>\n",
       "      <td>False</td>\n",
       "      <td>False</td>\n",
       "      <td>True</td>\n",
       "      <td>True</td>\n",
       "      <td>False</td>\n",
       "      <td>True</td>\n",
       "      <td>AL</td>\n",
       "    </tr>\n",
       "    <tr>\n",
       "      <th>2</th>\n",
       "      <td>Young</td>\n",
       "      <td>Female</td>\n",
       "      <td>Small</td>\n",
       "      <td>True</td>\n",
       "      <td>False</td>\n",
       "      <td>True</td>\n",
       "      <td>True</td>\n",
       "      <td>False</td>\n",
       "      <td>True</td>\n",
       "      <td>AL</td>\n",
       "    </tr>\n",
       "    <tr>\n",
       "      <th>3</th>\n",
       "      <td>Adult</td>\n",
       "      <td>Female</td>\n",
       "      <td>Extra Large</td>\n",
       "      <td>False</td>\n",
       "      <td>False</td>\n",
       "      <td>True</td>\n",
       "      <td>True</td>\n",
       "      <td>False</td>\n",
       "      <td>True</td>\n",
       "      <td>AL</td>\n",
       "    </tr>\n",
       "    <tr>\n",
       "      <th>4</th>\n",
       "      <td>Young</td>\n",
       "      <td>Female</td>\n",
       "      <td>Large</td>\n",
       "      <td>False</td>\n",
       "      <td>False</td>\n",
       "      <td>True</td>\n",
       "      <td>True</td>\n",
       "      <td>False</td>\n",
       "      <td>True</td>\n",
       "      <td>AL</td>\n",
       "    </tr>\n",
       "  </tbody>\n",
       "</table>\n",
       "</div>"
      ],
      "text/plain": [
       "     age  gender         size  breeds.mixed  breeds.unknown  \\\n",
       "0  Adult  Female        Small         False           False   \n",
       "1  Adult  Female        Small         False           False   \n",
       "2  Young  Female        Small          True           False   \n",
       "3  Adult  Female  Extra Large         False           False   \n",
       "4  Young  Female        Large         False           False   \n",
       "\n",
       "   attributes.spayed_neutered  attributes.house_trained  \\\n",
       "0                        True                      True   \n",
       "1                        True                      True   \n",
       "2                        True                      True   \n",
       "3                        True                      True   \n",
       "4                        True                      True   \n",
       "\n",
       "   attributes.special_needs  attributes.shots_current contact.address.state  \n",
       "0                     False                      True                    AL  \n",
       "1                     False                      True                    AL  \n",
       "2                     False                      True                    AL  \n",
       "3                     False                      True                    AL  \n",
       "4                     False                      True                    AL  "
      ]
     },
     "execution_count": 106,
     "metadata": {},
     "output_type": "execute_result"
    }
   ],
   "source": [
    "X_features = ['age', 'gender', 'size',\n",
    "       'breeds.mixed', 'breeds.unknown',\n",
    "       'attributes.spayed_neutered', 'attributes.house_trained',\n",
    "       'attributes.special_needs', 'attributes.shots_current', 'contact.address.state']\n",
    "X = alldogs_nm[X_features]\n",
    "X.head()"
   ]
  },
  {
   "cell_type": "code",
   "execution_count": 107,
   "metadata": {},
   "outputs": [
    {
     "data": {
      "text/plain": [
       "age                           object\n",
       "gender                        object\n",
       "size                          object\n",
       "breeds.mixed                    bool\n",
       "breeds.unknown                  bool\n",
       "attributes.spayed_neutered      bool\n",
       "attributes.house_trained        bool\n",
       "attributes.special_needs        bool\n",
       "attributes.shots_current        bool\n",
       "contact.address.state         object\n",
       "dtype: object"
      ]
     },
     "execution_count": 107,
     "metadata": {},
     "output_type": "execute_result"
    }
   ],
   "source": [
    "X.dtypes"
   ]
  },
  {
   "cell_type": "code",
   "execution_count": 108,
   "metadata": {},
   "outputs": [
    {
     "data": {
      "text/plain": [
       "Young     92229\n",
       "Baby      79792\n",
       "Adult     79719\n",
       "Senior     9032\n",
       "Name: age, dtype: int64"
      ]
     },
     "execution_count": 108,
     "metadata": {},
     "output_type": "execute_result"
    }
   ],
   "source": [
    "X['age'].value_counts()"
   ]
  },
  {
   "cell_type": "code",
   "execution_count": 109,
   "metadata": {},
   "outputs": [
    {
     "data": {
      "text/plain": [
       "Male       132636\n",
       "Female     127794\n",
       "Unknown       342\n",
       "Name: gender, dtype: int64"
      ]
     },
     "execution_count": 109,
     "metadata": {},
     "output_type": "execute_result"
    }
   ],
   "source": [
    "X['gender'].value_counts()"
   ]
  },
  {
   "cell_type": "code",
   "execution_count": 110,
   "metadata": {},
   "outputs": [
    {
     "data": {
      "text/plain": [
       "Medium         107000\n",
       "Small           77521\n",
       "Large           68398\n",
       "Extra Large      7853\n",
       "Name: size, dtype: int64"
      ]
     },
     "execution_count": 110,
     "metadata": {},
     "output_type": "execute_result"
    }
   ],
   "source": [
    "X['size'].value_counts()"
   ]
  },
  {
   "cell_type": "code",
   "execution_count": 111,
   "metadata": {},
   "outputs": [
    {
     "data": {
      "text/plain": [
       "CO    83703\n",
       "AZ    58948\n",
       "CA    43852\n",
       "AL    38311\n",
       "AR    22113\n",
       "CT    11118\n",
       "AK     2727\n",
       "Name: contact.address.state, dtype: int64"
      ]
     },
     "execution_count": 111,
     "metadata": {},
     "output_type": "execute_result"
    }
   ],
   "source": [
    "X['contact.address.state'].value_counts()"
   ]
  },
  {
   "cell_type": "code",
   "execution_count": 112,
   "metadata": {},
   "outputs": [
    {
     "data": {
      "text/plain": [
       "Daisy        931\n",
       "Bella        896\n",
       "Buddy        825\n",
       "Charlie      802\n",
       "Lucy         751\n",
       "            ... \n",
       "Gordie        11\n",
       "Jodie         11\n",
       "Brother       11\n",
       "Suzette       11\n",
       "Annabella     11\n",
       "Name: name, Length: 3343, dtype: int64"
      ]
     },
     "execution_count": 112,
     "metadata": {},
     "output_type": "execute_result"
    }
   ],
   "source": [
    "test = alldogs_merged['name'].value_counts()\n",
    "test[test>10]"
   ]
  },
  {
   "cell_type": "code",
   "execution_count": 113,
   "metadata": {},
   "outputs": [
    {
     "data": {
      "text/plain": [
       "pandas.core.series.Series"
      ]
     },
     "execution_count": 113,
     "metadata": {},
     "output_type": "execute_result"
    }
   ],
   "source": [
    "type(test)"
   ]
  },
  {
   "cell_type": "code",
   "execution_count": 114,
   "metadata": {},
   "outputs": [],
   "source": [
    "test.to_csv('names.csv', header=False, index=True)"
   ]
  },
  {
   "cell_type": "code",
   "execution_count": 115,
   "metadata": {},
   "outputs": [
    {
     "data": {
      "text/html": [
       "<div>\n",
       "<style scoped>\n",
       "    .dataframe tbody tr th:only-of-type {\n",
       "        vertical-align: middle;\n",
       "    }\n",
       "\n",
       "    .dataframe tbody tr th {\n",
       "        vertical-align: top;\n",
       "    }\n",
       "\n",
       "    .dataframe thead th {\n",
       "        text-align: right;\n",
       "    }\n",
       "</style>\n",
       "<table border=\"1\" class=\"dataframe\">\n",
       "  <thead>\n",
       "    <tr style=\"text-align: right;\">\n",
       "      <th></th>\n",
       "      <th>age</th>\n",
       "      <th>gender</th>\n",
       "      <th>size</th>\n",
       "      <th>breeds.mixed</th>\n",
       "      <th>breeds.unknown</th>\n",
       "      <th>attributes.spayed_neutered</th>\n",
       "      <th>attributes.house_trained</th>\n",
       "      <th>attributes.special_needs</th>\n",
       "      <th>attributes.shots_current</th>\n",
       "      <th>contact.address.state</th>\n",
       "    </tr>\n",
       "  </thead>\n",
       "  <tbody>\n",
       "    <tr>\n",
       "      <th>0</th>\n",
       "      <td>Adult</td>\n",
       "      <td>Female</td>\n",
       "      <td>Small</td>\n",
       "      <td>False</td>\n",
       "      <td>False</td>\n",
       "      <td>True</td>\n",
       "      <td>True</td>\n",
       "      <td>False</td>\n",
       "      <td>True</td>\n",
       "      <td>AL</td>\n",
       "    </tr>\n",
       "    <tr>\n",
       "      <th>1</th>\n",
       "      <td>Adult</td>\n",
       "      <td>Female</td>\n",
       "      <td>Small</td>\n",
       "      <td>False</td>\n",
       "      <td>False</td>\n",
       "      <td>True</td>\n",
       "      <td>True</td>\n",
       "      <td>False</td>\n",
       "      <td>True</td>\n",
       "      <td>AL</td>\n",
       "    </tr>\n",
       "    <tr>\n",
       "      <th>2</th>\n",
       "      <td>Young</td>\n",
       "      <td>Female</td>\n",
       "      <td>Small</td>\n",
       "      <td>True</td>\n",
       "      <td>False</td>\n",
       "      <td>True</td>\n",
       "      <td>True</td>\n",
       "      <td>False</td>\n",
       "      <td>True</td>\n",
       "      <td>AL</td>\n",
       "    </tr>\n",
       "    <tr>\n",
       "      <th>3</th>\n",
       "      <td>Adult</td>\n",
       "      <td>Female</td>\n",
       "      <td>Extra Large</td>\n",
       "      <td>False</td>\n",
       "      <td>False</td>\n",
       "      <td>True</td>\n",
       "      <td>True</td>\n",
       "      <td>False</td>\n",
       "      <td>True</td>\n",
       "      <td>AL</td>\n",
       "    </tr>\n",
       "    <tr>\n",
       "      <th>4</th>\n",
       "      <td>Young</td>\n",
       "      <td>Female</td>\n",
       "      <td>Large</td>\n",
       "      <td>False</td>\n",
       "      <td>False</td>\n",
       "      <td>True</td>\n",
       "      <td>True</td>\n",
       "      <td>False</td>\n",
       "      <td>True</td>\n",
       "      <td>AL</td>\n",
       "    </tr>\n",
       "    <tr>\n",
       "      <th>...</th>\n",
       "      <td>...</td>\n",
       "      <td>...</td>\n",
       "      <td>...</td>\n",
       "      <td>...</td>\n",
       "      <td>...</td>\n",
       "      <td>...</td>\n",
       "      <td>...</td>\n",
       "      <td>...</td>\n",
       "      <td>...</td>\n",
       "      <td>...</td>\n",
       "    </tr>\n",
       "    <tr>\n",
       "      <th>265319</th>\n",
       "      <td>Young</td>\n",
       "      <td>Female</td>\n",
       "      <td>Large</td>\n",
       "      <td>False</td>\n",
       "      <td>False</td>\n",
       "      <td>True</td>\n",
       "      <td>True</td>\n",
       "      <td>False</td>\n",
       "      <td>True</td>\n",
       "      <td>CT</td>\n",
       "    </tr>\n",
       "    <tr>\n",
       "      <th>265320</th>\n",
       "      <td>Young</td>\n",
       "      <td>Male</td>\n",
       "      <td>Medium</td>\n",
       "      <td>True</td>\n",
       "      <td>False</td>\n",
       "      <td>True</td>\n",
       "      <td>True</td>\n",
       "      <td>False</td>\n",
       "      <td>True</td>\n",
       "      <td>CT</td>\n",
       "    </tr>\n",
       "    <tr>\n",
       "      <th>265321</th>\n",
       "      <td>Baby</td>\n",
       "      <td>Female</td>\n",
       "      <td>Medium</td>\n",
       "      <td>True</td>\n",
       "      <td>False</td>\n",
       "      <td>True</td>\n",
       "      <td>True</td>\n",
       "      <td>False</td>\n",
       "      <td>True</td>\n",
       "      <td>CT</td>\n",
       "    </tr>\n",
       "    <tr>\n",
       "      <th>265322</th>\n",
       "      <td>Young</td>\n",
       "      <td>Female</td>\n",
       "      <td>Large</td>\n",
       "      <td>True</td>\n",
       "      <td>False</td>\n",
       "      <td>True</td>\n",
       "      <td>True</td>\n",
       "      <td>False</td>\n",
       "      <td>True</td>\n",
       "      <td>CT</td>\n",
       "    </tr>\n",
       "    <tr>\n",
       "      <th>265323</th>\n",
       "      <td>Young</td>\n",
       "      <td>Female</td>\n",
       "      <td>Medium</td>\n",
       "      <td>False</td>\n",
       "      <td>False</td>\n",
       "      <td>True</td>\n",
       "      <td>True</td>\n",
       "      <td>False</td>\n",
       "      <td>True</td>\n",
       "      <td>CT</td>\n",
       "    </tr>\n",
       "  </tbody>\n",
       "</table>\n",
       "<p>260772 rows × 10 columns</p>\n",
       "</div>"
      ],
      "text/plain": [
       "          age  gender         size  breeds.mixed  breeds.unknown  \\\n",
       "0       Adult  Female        Small         False           False   \n",
       "1       Adult  Female        Small         False           False   \n",
       "2       Young  Female        Small          True           False   \n",
       "3       Adult  Female  Extra Large         False           False   \n",
       "4       Young  Female        Large         False           False   \n",
       "...       ...     ...          ...           ...             ...   \n",
       "265319  Young  Female        Large         False           False   \n",
       "265320  Young    Male       Medium          True           False   \n",
       "265321   Baby  Female       Medium          True           False   \n",
       "265322  Young  Female        Large          True           False   \n",
       "265323  Young  Female       Medium         False           False   \n",
       "\n",
       "        attributes.spayed_neutered  attributes.house_trained  \\\n",
       "0                             True                      True   \n",
       "1                             True                      True   \n",
       "2                             True                      True   \n",
       "3                             True                      True   \n",
       "4                             True                      True   \n",
       "...                            ...                       ...   \n",
       "265319                        True                      True   \n",
       "265320                        True                      True   \n",
       "265321                        True                      True   \n",
       "265322                        True                      True   \n",
       "265323                        True                      True   \n",
       "\n",
       "        attributes.special_needs  attributes.shots_current  \\\n",
       "0                          False                      True   \n",
       "1                          False                      True   \n",
       "2                          False                      True   \n",
       "3                          False                      True   \n",
       "4                          False                      True   \n",
       "...                          ...                       ...   \n",
       "265319                     False                      True   \n",
       "265320                     False                      True   \n",
       "265321                     False                      True   \n",
       "265322                     False                      True   \n",
       "265323                     False                      True   \n",
       "\n",
       "       contact.address.state  \n",
       "0                         AL  \n",
       "1                         AL  \n",
       "2                         AL  \n",
       "3                         AL  \n",
       "4                         AL  \n",
       "...                      ...  \n",
       "265319                    CT  \n",
       "265320                    CT  \n",
       "265321                    CT  \n",
       "265322                    CT  \n",
       "265323                    CT  \n",
       "\n",
       "[260772 rows x 10 columns]"
      ]
     },
     "execution_count": 115,
     "metadata": {},
     "output_type": "execute_result"
    }
   ],
   "source": [
    "X"
   ]
  },
  {
   "cell_type": "code",
   "execution_count": 116,
   "metadata": {},
   "outputs": [
    {
     "data": {
      "text/plain": [
       "pandas.core.series.Series"
      ]
     },
     "execution_count": 116,
     "metadata": {},
     "output_type": "execute_result"
    }
   ],
   "source": [
    "y = alldogs_nm['adoption_time']\n",
    "type(y)"
   ]
  },
  {
   "cell_type": "code",
   "execution_count": 57,
   "metadata": {},
   "outputs": [],
   "source": []
  },
  {
   "cell_type": "code",
   "execution_count": 117,
   "metadata": {},
   "outputs": [],
   "source": [
    "cat_col = ['age','gender','size','contact.address.state']"
   ]
  },
  {
   "cell_type": "code",
   "execution_count": 118,
   "metadata": {},
   "outputs": [
    {
     "name": "stderr",
     "output_type": "stream",
     "text": [
      "C:\\anaconda_python\\envs\\Insight\\lib\\site-packages\\pandas\\core\\frame.py:3509: SettingWithCopyWarning: \n",
      "A value is trying to be set on a copy of a slice from a DataFrame.\n",
      "Try using .loc[row_indexer,col_indexer] = value instead\n",
      "\n",
      "See the caveats in the documentation: http://pandas.pydata.org/pandas-docs/stable/user_guide/indexing.html#returning-a-view-versus-a-copy\n",
      "  self[k1] = value[k2]\n"
     ]
    }
   ],
   "source": [
    "X[cat_col]=X[cat_col].astype('category')"
   ]
  },
  {
   "cell_type": "code",
   "execution_count": 119,
   "metadata": {},
   "outputs": [
    {
     "data": {
      "text/plain": [
       "age                           category\n",
       "gender                        category\n",
       "size                          category\n",
       "breeds.mixed                      bool\n",
       "breeds.unknown                    bool\n",
       "attributes.spayed_neutered        bool\n",
       "attributes.house_trained          bool\n",
       "attributes.special_needs          bool\n",
       "attributes.shots_current          bool\n",
       "contact.address.state         category\n",
       "dtype: object"
      ]
     },
     "execution_count": 119,
     "metadata": {},
     "output_type": "execute_result"
    }
   ],
   "source": [
    "X.dtypes"
   ]
  },
  {
   "cell_type": "code",
   "execution_count": 120,
   "metadata": {},
   "outputs": [
    {
     "data": {
      "text/plain": [
       "age                           category\n",
       "gender                        category\n",
       "size                          category\n",
       "breeds.mixed                      bool\n",
       "breeds.unknown                    bool\n",
       "attributes.spayed_neutered        bool\n",
       "attributes.house_trained          bool\n",
       "attributes.special_needs          bool\n",
       "attributes.shots_current          bool\n",
       "contact.address.state         category\n",
       "adoption_time                    int64\n",
       "dtype: object"
      ]
     },
     "execution_count": 120,
     "metadata": {},
     "output_type": "execute_result"
    }
   ],
   "source": [
    "total = pd.concat([X,y], axis=1)\n",
    "total.dtypes"
   ]
  },
  {
   "cell_type": "code",
   "execution_count": 121,
   "metadata": {},
   "outputs": [
    {
     "data": {
      "text/html": [
       "<div>\n",
       "<style scoped>\n",
       "    .dataframe tbody tr th:only-of-type {\n",
       "        vertical-align: middle;\n",
       "    }\n",
       "\n",
       "    .dataframe tbody tr th {\n",
       "        vertical-align: top;\n",
       "    }\n",
       "\n",
       "    .dataframe thead th {\n",
       "        text-align: right;\n",
       "    }\n",
       "</style>\n",
       "<table border=\"1\" class=\"dataframe\">\n",
       "  <thead>\n",
       "    <tr style=\"text-align: right;\">\n",
       "      <th></th>\n",
       "      <th>age</th>\n",
       "      <th>gender</th>\n",
       "      <th>size</th>\n",
       "      <th>breeds.mixed</th>\n",
       "      <th>breeds.unknown</th>\n",
       "      <th>attributes.spayed_neutered</th>\n",
       "      <th>attributes.house_trained</th>\n",
       "      <th>attributes.special_needs</th>\n",
       "      <th>attributes.shots_current</th>\n",
       "      <th>contact.address.state</th>\n",
       "      <th>adoption_time</th>\n",
       "    </tr>\n",
       "  </thead>\n",
       "  <tbody>\n",
       "    <tr>\n",
       "      <th>0</th>\n",
       "      <td>Adult</td>\n",
       "      <td>Female</td>\n",
       "      <td>Small</td>\n",
       "      <td>False</td>\n",
       "      <td>False</td>\n",
       "      <td>True</td>\n",
       "      <td>True</td>\n",
       "      <td>False</td>\n",
       "      <td>True</td>\n",
       "      <td>AL</td>\n",
       "      <td>20</td>\n",
       "    </tr>\n",
       "    <tr>\n",
       "      <th>1</th>\n",
       "      <td>Adult</td>\n",
       "      <td>Female</td>\n",
       "      <td>Small</td>\n",
       "      <td>False</td>\n",
       "      <td>False</td>\n",
       "      <td>True</td>\n",
       "      <td>True</td>\n",
       "      <td>False</td>\n",
       "      <td>True</td>\n",
       "      <td>AL</td>\n",
       "      <td>96</td>\n",
       "    </tr>\n",
       "    <tr>\n",
       "      <th>2</th>\n",
       "      <td>Young</td>\n",
       "      <td>Female</td>\n",
       "      <td>Small</td>\n",
       "      <td>True</td>\n",
       "      <td>False</td>\n",
       "      <td>True</td>\n",
       "      <td>True</td>\n",
       "      <td>False</td>\n",
       "      <td>True</td>\n",
       "      <td>AL</td>\n",
       "      <td>98</td>\n",
       "    </tr>\n",
       "    <tr>\n",
       "      <th>3</th>\n",
       "      <td>Adult</td>\n",
       "      <td>Female</td>\n",
       "      <td>Extra Large</td>\n",
       "      <td>False</td>\n",
       "      <td>False</td>\n",
       "      <td>True</td>\n",
       "      <td>True</td>\n",
       "      <td>False</td>\n",
       "      <td>True</td>\n",
       "      <td>AL</td>\n",
       "      <td>32</td>\n",
       "    </tr>\n",
       "    <tr>\n",
       "      <th>4</th>\n",
       "      <td>Young</td>\n",
       "      <td>Female</td>\n",
       "      <td>Large</td>\n",
       "      <td>False</td>\n",
       "      <td>False</td>\n",
       "      <td>True</td>\n",
       "      <td>True</td>\n",
       "      <td>False</td>\n",
       "      <td>True</td>\n",
       "      <td>AL</td>\n",
       "      <td>16</td>\n",
       "    </tr>\n",
       "    <tr>\n",
       "      <th>...</th>\n",
       "      <td>...</td>\n",
       "      <td>...</td>\n",
       "      <td>...</td>\n",
       "      <td>...</td>\n",
       "      <td>...</td>\n",
       "      <td>...</td>\n",
       "      <td>...</td>\n",
       "      <td>...</td>\n",
       "      <td>...</td>\n",
       "      <td>...</td>\n",
       "      <td>...</td>\n",
       "    </tr>\n",
       "    <tr>\n",
       "      <th>265319</th>\n",
       "      <td>Young</td>\n",
       "      <td>Female</td>\n",
       "      <td>Large</td>\n",
       "      <td>False</td>\n",
       "      <td>False</td>\n",
       "      <td>True</td>\n",
       "      <td>True</td>\n",
       "      <td>False</td>\n",
       "      <td>True</td>\n",
       "      <td>CT</td>\n",
       "      <td>30</td>\n",
       "    </tr>\n",
       "    <tr>\n",
       "      <th>265320</th>\n",
       "      <td>Young</td>\n",
       "      <td>Male</td>\n",
       "      <td>Medium</td>\n",
       "      <td>True</td>\n",
       "      <td>False</td>\n",
       "      <td>True</td>\n",
       "      <td>True</td>\n",
       "      <td>False</td>\n",
       "      <td>True</td>\n",
       "      <td>CT</td>\n",
       "      <td>100</td>\n",
       "    </tr>\n",
       "    <tr>\n",
       "      <th>265321</th>\n",
       "      <td>Baby</td>\n",
       "      <td>Female</td>\n",
       "      <td>Medium</td>\n",
       "      <td>True</td>\n",
       "      <td>False</td>\n",
       "      <td>True</td>\n",
       "      <td>True</td>\n",
       "      <td>False</td>\n",
       "      <td>True</td>\n",
       "      <td>CT</td>\n",
       "      <td>20</td>\n",
       "    </tr>\n",
       "    <tr>\n",
       "      <th>265322</th>\n",
       "      <td>Young</td>\n",
       "      <td>Female</td>\n",
       "      <td>Large</td>\n",
       "      <td>True</td>\n",
       "      <td>False</td>\n",
       "      <td>True</td>\n",
       "      <td>True</td>\n",
       "      <td>False</td>\n",
       "      <td>True</td>\n",
       "      <td>CT</td>\n",
       "      <td>55</td>\n",
       "    </tr>\n",
       "    <tr>\n",
       "      <th>265323</th>\n",
       "      <td>Young</td>\n",
       "      <td>Female</td>\n",
       "      <td>Medium</td>\n",
       "      <td>False</td>\n",
       "      <td>False</td>\n",
       "      <td>True</td>\n",
       "      <td>True</td>\n",
       "      <td>False</td>\n",
       "      <td>True</td>\n",
       "      <td>CT</td>\n",
       "      <td>19</td>\n",
       "    </tr>\n",
       "  </tbody>\n",
       "</table>\n",
       "<p>260772 rows × 11 columns</p>\n",
       "</div>"
      ],
      "text/plain": [
       "          age  gender         size  breeds.mixed  breeds.unknown  \\\n",
       "0       Adult  Female        Small         False           False   \n",
       "1       Adult  Female        Small         False           False   \n",
       "2       Young  Female        Small          True           False   \n",
       "3       Adult  Female  Extra Large         False           False   \n",
       "4       Young  Female        Large         False           False   \n",
       "...       ...     ...          ...           ...             ...   \n",
       "265319  Young  Female        Large         False           False   \n",
       "265320  Young    Male       Medium          True           False   \n",
       "265321   Baby  Female       Medium          True           False   \n",
       "265322  Young  Female        Large          True           False   \n",
       "265323  Young  Female       Medium         False           False   \n",
       "\n",
       "        attributes.spayed_neutered  attributes.house_trained  \\\n",
       "0                             True                      True   \n",
       "1                             True                      True   \n",
       "2                             True                      True   \n",
       "3                             True                      True   \n",
       "4                             True                      True   \n",
       "...                            ...                       ...   \n",
       "265319                        True                      True   \n",
       "265320                        True                      True   \n",
       "265321                        True                      True   \n",
       "265322                        True                      True   \n",
       "265323                        True                      True   \n",
       "\n",
       "        attributes.special_needs  attributes.shots_current  \\\n",
       "0                          False                      True   \n",
       "1                          False                      True   \n",
       "2                          False                      True   \n",
       "3                          False                      True   \n",
       "4                          False                      True   \n",
       "...                          ...                       ...   \n",
       "265319                     False                      True   \n",
       "265320                     False                      True   \n",
       "265321                     False                      True   \n",
       "265322                     False                      True   \n",
       "265323                     False                      True   \n",
       "\n",
       "       contact.address.state  adoption_time  \n",
       "0                         AL             20  \n",
       "1                         AL             96  \n",
       "2                         AL             98  \n",
       "3                         AL             32  \n",
       "4                         AL             16  \n",
       "...                      ...            ...  \n",
       "265319                    CT             30  \n",
       "265320                    CT            100  \n",
       "265321                    CT             20  \n",
       "265322                    CT             55  \n",
       "265323                    CT             19  \n",
       "\n",
       "[260772 rows x 11 columns]"
      ]
     },
     "execution_count": 121,
     "metadata": {},
     "output_type": "execute_result"
    }
   ],
   "source": [
    "total"
   ]
  },
  {
   "cell_type": "code",
   "execution_count": 135,
   "metadata": {},
   "outputs": [
    {
     "data": {
      "image/png": "[encoded data removed]",
      "text/plain": [
       "<Figure size 360x360 with 1 Axes>"
      ]
     },
     "metadata": {
      "needs_background": "light"
     },
     "output_type": "display_data"
    }
   ],
   "source": [
    "sizeplot = sns.catplot(x='size', y='adoption_time', order=[\"Small\", \"Medium\", \"Large\", \"Extra Large\"] , data=total, kind='boxen');"
   ]
  },
  {
   "cell_type": "code",
   "execution_count": 139,
   "metadata": {},
   "outputs": [
    {
     "data": {
      "text/plain": [
       "<seaborn.axisgrid.FacetGrid at 0x12a9128a708>"
      ]
     },
     "execution_count": 139,
     "metadata": {},
     "output_type": "execute_result"
    },
    {
     "data": {
      "image/png": "[encoded data removed]",
      "text/plain": [
       "<Figure size 360x360 with 1 Axes>"
      ]
     },
     "metadata": {
      "needs_background": "light"
     },
     "output_type": "display_data"
    }
   ],
   "source": [
    "sizeplot2 = sns.catplot(x='size', y='adoption_time', order=[\"Small\", \"Medium\", \"Large\", \"Extra Large\"] , data=total, kind='box');\n",
    "sizeplot2.set(ylim=(0,250))"
   ]
  },
  {
   "cell_type": "code",
   "execution_count": 132,
   "metadata": {},
   "outputs": [],
   "source": []
  },
  {
   "cell_type": "code",
   "execution_count": 124,
   "metadata": {},
   "outputs": [
    {
     "data": {
      "image/png": "[encoded data removed]",
      "text/plain": [
       "<Figure size 360x360 with 1 Axes>"
      ]
     },
     "metadata": {
      "needs_background": "light"
     },
     "output_type": "display_data"
    }
   ],
   "source": [
    "sns.catplot(x='contact.address.state', y='adoption_time', kind=\"boxen\", data=total);"
   ]
  },
  {
   "cell_type": "code",
   "execution_count": 125,
   "metadata": {},
   "outputs": [
    {
     "data": {
      "image/png": "[encoded data removed]",
      "text/plain": [
       "<Figure size 360x360 with 1 Axes>"
      ]
     },
     "metadata": {
      "needs_background": "light"
     },
     "output_type": "display_data"
    }
   ],
   "source": [
    "sns.catplot(x=\"contact.address.state\", kind=\"count\", palette=\"ch:.25\", data=total);"
   ]
  },
  {
   "cell_type": "code",
   "execution_count": null,
   "metadata": {},
   "outputs": [],
   "source": [
    "from sklearn.model_selection import train_test_split\n",
    "train_X, test_X, train_y, test_y = train_test_split(X, y, test_size=0.2, random_state = 0)\n",
    "print('Training set size = {} and Test set size = {}'.format(len(train_X),len(test_X)))"
   ]
  }
 ],
 "metadata": {
  "kernelspec": {
   "display_name": "Python 3",
   "language": "python",
   "name": "python3"
  },
  "language_info": {
   "codemirror_mode": {
    "name": "ipython",
    "version": 3
   },
   "file_extension": ".py",
   "mimetype": "text/x-python",
   "name": "python",
   "nbconvert_exporter": "python",
   "pygments_lexer": "ipython3",
   "version": "3.7.6"
  }
 },
 "nbformat": 4,
 "nbformat_minor": 2
}
