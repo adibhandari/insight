{
 "cells": [
  {
   "cell_type": "code",
   "execution_count": 1,
   "metadata": {},
   "outputs": [],
   "source": [
    "#merge data from several states\n",
    "import numpy as np\n",
    "import pandas as pd\n",
    "import matplotlib.pyplot as plt"
   ]
  },
  {
   "cell_type": "code",
   "execution_count": 2,
   "metadata": {},
   "outputs": [
    {
     "data": {
      "text/html": [
       "<div>\n",
       "<style scoped>\n",
       "    .dataframe tbody tr th:only-of-type {\n",
       "        vertical-align: middle;\n",
       "    }\n",
       "\n",
       "    .dataframe tbody tr th {\n",
       "        vertical-align: top;\n",
       "    }\n",
       "\n",
       "    .dataframe thead th {\n",
       "        text-align: right;\n",
       "    }\n",
       "</style>\n",
       "<table border=\"1\" class=\"dataframe\">\n",
       "  <thead>\n",
       "    <tr style=\"text-align: right;\">\n",
       "      <th></th>\n",
       "      <th>age</th>\n",
       "      <th>gender</th>\n",
       "      <th>size</th>\n",
       "      <th>breeds.mixed</th>\n",
       "      <th>breeds.unknown</th>\n",
       "      <th>attributes.spayed_neutered</th>\n",
       "      <th>attributes.house_trained</th>\n",
       "      <th>attributes.special_needs</th>\n",
       "      <th>attributes.shots_current</th>\n",
       "      <th>contact.address.state</th>\n",
       "      <th>adoption_time</th>\n",
       "    </tr>\n",
       "  </thead>\n",
       "  <tbody>\n",
       "    <tr>\n",
       "      <th>0</th>\n",
       "      <td>Young</td>\n",
       "      <td>Female</td>\n",
       "      <td>Small</td>\n",
       "      <td>True</td>\n",
       "      <td>False</td>\n",
       "      <td>True</td>\n",
       "      <td>False</td>\n",
       "      <td>False</td>\n",
       "      <td>True</td>\n",
       "      <td>NY</td>\n",
       "      <td>35</td>\n",
       "    </tr>\n",
       "    <tr>\n",
       "      <th>1</th>\n",
       "      <td>Young</td>\n",
       "      <td>Female</td>\n",
       "      <td>Medium</td>\n",
       "      <td>True</td>\n",
       "      <td>False</td>\n",
       "      <td>True</td>\n",
       "      <td>True</td>\n",
       "      <td>True</td>\n",
       "      <td>True</td>\n",
       "      <td>MN</td>\n",
       "      <td>290</td>\n",
       "    </tr>\n",
       "    <tr>\n",
       "      <th>2</th>\n",
       "      <td>Adult</td>\n",
       "      <td>Female</td>\n",
       "      <td>Large</td>\n",
       "      <td>True</td>\n",
       "      <td>False</td>\n",
       "      <td>True</td>\n",
       "      <td>True</td>\n",
       "      <td>False</td>\n",
       "      <td>True</td>\n",
       "      <td>CA</td>\n",
       "      <td>124</td>\n",
       "    </tr>\n",
       "    <tr>\n",
       "      <th>3</th>\n",
       "      <td>Baby</td>\n",
       "      <td>Female</td>\n",
       "      <td>Small</td>\n",
       "      <td>True</td>\n",
       "      <td>False</td>\n",
       "      <td>False</td>\n",
       "      <td>False</td>\n",
       "      <td>False</td>\n",
       "      <td>True</td>\n",
       "      <td>CA</td>\n",
       "      <td>3</td>\n",
       "    </tr>\n",
       "    <tr>\n",
       "      <th>4</th>\n",
       "      <td>Baby</td>\n",
       "      <td>Female</td>\n",
       "      <td>Medium</td>\n",
       "      <td>True</td>\n",
       "      <td>False</td>\n",
       "      <td>True</td>\n",
       "      <td>True</td>\n",
       "      <td>False</td>\n",
       "      <td>True</td>\n",
       "      <td>NY</td>\n",
       "      <td>13</td>\n",
       "    </tr>\n",
       "  </tbody>\n",
       "</table>\n",
       "</div>"
      ],
      "text/plain": [
       "     age  gender    size  breeds.mixed  breeds.unknown  \\\n",
       "0  Young  Female   Small          True           False   \n",
       "1  Young  Female  Medium          True           False   \n",
       "2  Adult  Female   Large          True           False   \n",
       "3   Baby  Female   Small          True           False   \n",
       "4   Baby  Female  Medium          True           False   \n",
       "\n",
       "   attributes.spayed_neutered  attributes.house_trained  \\\n",
       "0                        True                     False   \n",
       "1                        True                      True   \n",
       "2                        True                      True   \n",
       "3                       False                     False   \n",
       "4                        True                      True   \n",
       "\n",
       "   attributes.special_needs  attributes.shots_current contact.address.state  \\\n",
       "0                     False                      True                    NY   \n",
       "1                      True                      True                    MN   \n",
       "2                     False                      True                    CA   \n",
       "3                     False                      True                    CA   \n",
       "4                     False                      True                    NY   \n",
       "\n",
       "   adoption_time  \n",
       "0             35  \n",
       "1            290  \n",
       "2            124  \n",
       "3              3  \n",
       "4             13  "
      ]
     },
     "execution_count": 2,
     "metadata": {},
     "output_type": "execute_result"
    }
   ],
   "source": [
    "trainval = pd.read_csv('./data/trainval_set_scoped.csv')\n",
    "trainval.head()"
   ]
  },
  {
   "cell_type": "code",
   "execution_count": 3,
   "metadata": {},
   "outputs": [
    {
     "data": {
      "text/html": [
       "<div>\n",
       "<style scoped>\n",
       "    .dataframe tbody tr th:only-of-type {\n",
       "        vertical-align: middle;\n",
       "    }\n",
       "\n",
       "    .dataframe tbody tr th {\n",
       "        vertical-align: top;\n",
       "    }\n",
       "\n",
       "    .dataframe thead th {\n",
       "        text-align: right;\n",
       "    }\n",
       "</style>\n",
       "<table border=\"1\" class=\"dataframe\">\n",
       "  <thead>\n",
       "    <tr style=\"text-align: right;\">\n",
       "      <th></th>\n",
       "      <th>age</th>\n",
       "      <th>gender</th>\n",
       "      <th>size</th>\n",
       "      <th>breeds.mixed</th>\n",
       "      <th>breeds.unknown</th>\n",
       "      <th>attributes.spayed_neutered</th>\n",
       "      <th>attributes.house_trained</th>\n",
       "      <th>attributes.special_needs</th>\n",
       "      <th>attributes.shots_current</th>\n",
       "      <th>contact.address.state</th>\n",
       "      <th>adoption_time</th>\n",
       "    </tr>\n",
       "  </thead>\n",
       "  <tbody>\n",
       "    <tr>\n",
       "      <th>0</th>\n",
       "      <td>Adult</td>\n",
       "      <td>Female</td>\n",
       "      <td>Small</td>\n",
       "      <td>False</td>\n",
       "      <td>False</td>\n",
       "      <td>True</td>\n",
       "      <td>False</td>\n",
       "      <td>False</td>\n",
       "      <td>False</td>\n",
       "      <td>CA</td>\n",
       "      <td>24</td>\n",
       "    </tr>\n",
       "    <tr>\n",
       "      <th>1</th>\n",
       "      <td>Adult</td>\n",
       "      <td>Male</td>\n",
       "      <td>Large</td>\n",
       "      <td>False</td>\n",
       "      <td>False</td>\n",
       "      <td>True</td>\n",
       "      <td>False</td>\n",
       "      <td>False</td>\n",
       "      <td>True</td>\n",
       "      <td>CA</td>\n",
       "      <td>160</td>\n",
       "    </tr>\n",
       "    <tr>\n",
       "      <th>2</th>\n",
       "      <td>Adult</td>\n",
       "      <td>Female</td>\n",
       "      <td>Medium</td>\n",
       "      <td>True</td>\n",
       "      <td>False</td>\n",
       "      <td>False</td>\n",
       "      <td>False</td>\n",
       "      <td>False</td>\n",
       "      <td>False</td>\n",
       "      <td>NY</td>\n",
       "      <td>42</td>\n",
       "    </tr>\n",
       "    <tr>\n",
       "      <th>3</th>\n",
       "      <td>Adult</td>\n",
       "      <td>Male</td>\n",
       "      <td>Medium</td>\n",
       "      <td>True</td>\n",
       "      <td>False</td>\n",
       "      <td>True</td>\n",
       "      <td>False</td>\n",
       "      <td>False</td>\n",
       "      <td>True</td>\n",
       "      <td>MN</td>\n",
       "      <td>44</td>\n",
       "    </tr>\n",
       "    <tr>\n",
       "      <th>4</th>\n",
       "      <td>Adult</td>\n",
       "      <td>Female</td>\n",
       "      <td>Large</td>\n",
       "      <td>True</td>\n",
       "      <td>False</td>\n",
       "      <td>False</td>\n",
       "      <td>True</td>\n",
       "      <td>False</td>\n",
       "      <td>False</td>\n",
       "      <td>TX</td>\n",
       "      <td>39</td>\n",
       "    </tr>\n",
       "  </tbody>\n",
       "</table>\n",
       "</div>"
      ],
      "text/plain": [
       "     age  gender    size  breeds.mixed  breeds.unknown  \\\n",
       "0  Adult  Female   Small         False           False   \n",
       "1  Adult    Male   Large         False           False   \n",
       "2  Adult  Female  Medium          True           False   \n",
       "3  Adult    Male  Medium          True           False   \n",
       "4  Adult  Female   Large          True           False   \n",
       "\n",
       "   attributes.spayed_neutered  attributes.house_trained  \\\n",
       "0                        True                     False   \n",
       "1                        True                     False   \n",
       "2                       False                     False   \n",
       "3                        True                     False   \n",
       "4                       False                      True   \n",
       "\n",
       "   attributes.special_needs  attributes.shots_current contact.address.state  \\\n",
       "0                     False                     False                    CA   \n",
       "1                     False                      True                    CA   \n",
       "2                     False                     False                    NY   \n",
       "3                     False                      True                    MN   \n",
       "4                     False                     False                    TX   \n",
       "\n",
       "   adoption_time  \n",
       "0             24  \n",
       "1            160  \n",
       "2             42  \n",
       "3             44  \n",
       "4             39  "
      ]
     },
     "execution_count": 3,
     "metadata": {},
     "output_type": "execute_result"
    }
   ],
   "source": [
    "test = pd.read_csv('./data/test_set_scoped.csv')\n",
    "test.head()"
   ]
  },
  {
   "cell_type": "code",
   "execution_count": 5,
   "metadata": {},
   "outputs": [],
   "source": [
    "cat_col = ['age','gender','size','contact.address.state']\n",
    "trainval[cat_col]=trainval[cat_col].astype('category')\n",
    "test[cat_col]=test[cat_col].astype('category')"
   ]
  },
  {
   "cell_type": "code",
   "execution_count": 6,
   "metadata": {},
   "outputs": [
    {
     "name": "stdout",
     "output_type": "stream",
     "text": [
      "Table size - (140321, 11)\n",
      "Checking for missing values..\n",
      "Series([], dtype: int64)\n"
     ]
    }
   ],
   "source": [
    "# Check for any missing data\n",
    "print(\"Table size -\", end=' ')\n",
    "print(trainval.shape)\n",
    "\n",
    "print(\"Checking for missing values..\")\n",
    "# Number of missing values in each column of training data\n",
    "missing_val_count_by_column = (trainval.isnull().sum())\n",
    "print(missing_val_count_by_column[missing_val_count_by_column > 0])\n",
    "\n",
    "# Get names of columns with missing values\n",
    "#missing_cols = [col for col in extension_data.columns\n",
    "#                     if extension_train[col].isnull().any()]"
   ]
  },
  {
   "cell_type": "code",
   "execution_count": 7,
   "metadata": {},
   "outputs": [
    {
     "data": {
      "text/html": [
       "<div>\n",
       "<style scoped>\n",
       "    .dataframe tbody tr th:only-of-type {\n",
       "        vertical-align: middle;\n",
       "    }\n",
       "\n",
       "    .dataframe tbody tr th {\n",
       "        vertical-align: top;\n",
       "    }\n",
       "\n",
       "    .dataframe thead th {\n",
       "        text-align: right;\n",
       "    }\n",
       "</style>\n",
       "<table border=\"1\" class=\"dataframe\">\n",
       "  <thead>\n",
       "    <tr style=\"text-align: right;\">\n",
       "      <th></th>\n",
       "      <th>age</th>\n",
       "      <th>gender</th>\n",
       "      <th>size</th>\n",
       "      <th>breeds.mixed</th>\n",
       "      <th>breeds.unknown</th>\n",
       "      <th>attributes.spayed_neutered</th>\n",
       "      <th>attributes.house_trained</th>\n",
       "      <th>attributes.special_needs</th>\n",
       "      <th>attributes.shots_current</th>\n",
       "      <th>contact.address.state</th>\n",
       "    </tr>\n",
       "  </thead>\n",
       "  <tbody>\n",
       "    <tr>\n",
       "      <th>0</th>\n",
       "      <td>Young</td>\n",
       "      <td>Female</td>\n",
       "      <td>Small</td>\n",
       "      <td>True</td>\n",
       "      <td>False</td>\n",
       "      <td>True</td>\n",
       "      <td>False</td>\n",
       "      <td>False</td>\n",
       "      <td>True</td>\n",
       "      <td>NY</td>\n",
       "    </tr>\n",
       "    <tr>\n",
       "      <th>1</th>\n",
       "      <td>Young</td>\n",
       "      <td>Female</td>\n",
       "      <td>Medium</td>\n",
       "      <td>True</td>\n",
       "      <td>False</td>\n",
       "      <td>True</td>\n",
       "      <td>True</td>\n",
       "      <td>True</td>\n",
       "      <td>True</td>\n",
       "      <td>MN</td>\n",
       "    </tr>\n",
       "    <tr>\n",
       "      <th>2</th>\n",
       "      <td>Adult</td>\n",
       "      <td>Female</td>\n",
       "      <td>Large</td>\n",
       "      <td>True</td>\n",
       "      <td>False</td>\n",
       "      <td>True</td>\n",
       "      <td>True</td>\n",
       "      <td>False</td>\n",
       "      <td>True</td>\n",
       "      <td>CA</td>\n",
       "    </tr>\n",
       "    <tr>\n",
       "      <th>3</th>\n",
       "      <td>Baby</td>\n",
       "      <td>Female</td>\n",
       "      <td>Small</td>\n",
       "      <td>True</td>\n",
       "      <td>False</td>\n",
       "      <td>False</td>\n",
       "      <td>False</td>\n",
       "      <td>False</td>\n",
       "      <td>True</td>\n",
       "      <td>CA</td>\n",
       "    </tr>\n",
       "    <tr>\n",
       "      <th>4</th>\n",
       "      <td>Baby</td>\n",
       "      <td>Female</td>\n",
       "      <td>Medium</td>\n",
       "      <td>True</td>\n",
       "      <td>False</td>\n",
       "      <td>True</td>\n",
       "      <td>True</td>\n",
       "      <td>False</td>\n",
       "      <td>True</td>\n",
       "      <td>NY</td>\n",
       "    </tr>\n",
       "  </tbody>\n",
       "</table>\n",
       "</div>"
      ],
      "text/plain": [
       "     age  gender    size  breeds.mixed  breeds.unknown  \\\n",
       "0  Young  Female   Small          True           False   \n",
       "1  Young  Female  Medium          True           False   \n",
       "2  Adult  Female   Large          True           False   \n",
       "3   Baby  Female   Small          True           False   \n",
       "4   Baby  Female  Medium          True           False   \n",
       "\n",
       "   attributes.spayed_neutered  attributes.house_trained  \\\n",
       "0                        True                     False   \n",
       "1                        True                      True   \n",
       "2                        True                      True   \n",
       "3                       False                     False   \n",
       "4                        True                      True   \n",
       "\n",
       "   attributes.special_needs  attributes.shots_current contact.address.state  \n",
       "0                     False                      True                    NY  \n",
       "1                      True                      True                    MN  \n",
       "2                     False                      True                    CA  \n",
       "3                     False                      True                    CA  \n",
       "4                     False                      True                    NY  "
      ]
     },
     "execution_count": 7,
     "metadata": {},
     "output_type": "execute_result"
    }
   ],
   "source": [
    "X_features = ['age', 'gender', 'size',\n",
    "       'breeds.mixed', 'breeds.unknown',\n",
    "       'attributes.spayed_neutered', 'attributes.house_trained',\n",
    "       'attributes.special_needs', 'attributes.shots_current', 'contact.address.state']\n",
    "trainval_X = trainval[X_features]\n",
    "trainval_X.head()"
   ]
  },
  {
   "cell_type": "code",
   "execution_count": 8,
   "metadata": {},
   "outputs": [
    {
     "data": {
      "text/plain": [
       "0     35\n",
       "1    290\n",
       "2    124\n",
       "3      3\n",
       "4     13\n",
       "Name: adoption_time, dtype: int64"
      ]
     },
     "execution_count": 8,
     "metadata": {},
     "output_type": "execute_result"
    }
   ],
   "source": [
    "trainval_y = trainval['adoption_time']\n",
    "trainval_y.head()"
   ]
  },
  {
   "cell_type": "code",
   "execution_count": 9,
   "metadata": {},
   "outputs": [
    {
     "name": "stdout",
     "output_type": "stream",
     "text": [
      "Training set size = 112256 and Validation set size = 28065\n"
     ]
    }
   ],
   "source": [
    "from sklearn.model_selection import train_test_split\n",
    "train_X, val_X, train_y, val_y = train_test_split(trainval_X, trainval_y, test_size=0.2)\n",
    "print('Training set size = {} and Validation set size = {}'.format(len(train_X),len(val_X)))"
   ]
  },
  {
   "cell_type": "code",
   "execution_count": 10,
   "metadata": {},
   "outputs": [],
   "source": [
    "from sklearn.ensemble import RandomForestRegressor\n",
    "from sklearn.tree import DecisionTreeRegressor\n",
    "from sklearn.linear_model import LogisticRegression\n",
    "from xgboost import XGBRegressor\n",
    "from sklearn.pipeline import Pipeline\n",
    "from sklearn.model_selection import cross_val_score\n",
    "from sklearn.metrics import mean_absolute_error\n",
    "#pipeline_1 = Pipeline(steps=[('model', RandomForestRegressor(random_state=0))])\n",
    "#pipeline_2 = Pipeline(steps=[('model', DecisionTreeRegressor(random_state=0))])\n",
    "#pipeline_3 = Pipeline(steps=[('model', XGBRegressor(random_state=0))])"
   ]
  },
  {
   "cell_type": "code",
   "execution_count": null,
   "metadata": {},
   "outputs": [],
   "source": [
    "#next few cells are just testing"
   ]
  },
  {
   "cell_type": "code",
   "execution_count": null,
   "metadata": {},
   "outputs": [],
   "source": [
    "#testing out encoders"
   ]
  },
  {
   "cell_type": "code",
   "execution_count": 36,
   "metadata": {},
   "outputs": [],
   "source": []
  },
  {
   "cell_type": "code",
   "execution_count": 37,
   "metadata": {},
   "outputs": [],
   "source": [
    "OH_encoder = OneHotEncoder(handle_unknown='ignore', sparse=False)\n",
    "OH_cols_train = pd.DataFrame(OH_encoder.fit_transform(train_X[cat_col]))\n",
    "OH_cols_val = pd.DataFrame(OH_encoder.transform(val_X[cat_col]))"
   ]
  },
  {
   "cell_type": "code",
   "execution_count": 39,
   "metadata": {},
   "outputs": [],
   "source": [
    "# One-hot encoding removed index; put it back\n",
    "OH_cols_train.index = train_X.index\n",
    "OH_cols_val.index = val_X.index\n",
    "rest_train = train_X.drop(cat_col, axis=1)\n",
    "rest_val = val_X.drop(cat_col, axis=1)\n",
    "OH_train_X = pd.concat([rest_train, OH_cols_train], axis=1)\n",
    "OH_val_X = pd.concat([rest_val, OH_cols_val], axis=1)"
   ]
  },
  {
   "cell_type": "code",
   "execution_count": 42,
   "metadata": {},
   "outputs": [
    {
     "data": {
      "text/plain": [
       "198.06307707707575"
      ]
     },
     "execution_count": 42,
     "metadata": {},
     "output_type": "execute_result"
    }
   ],
   "source": [
    "rf = RandomForestRegressor(n_estimators=10, max_depth=5, n_jobs=-1)\n",
    "rf_model = rf.fit(OH_train_X, train_y)\n",
    "y_pred = rf_model.predict(OH_val_X)\n",
    "mae_x=mean_absolute_error(val_y, y_pred)\n",
    "mae_x"
   ]
  },
  {
   "cell_type": "code",
   "execution_count": 12,
   "metadata": {},
   "outputs": [
    {
     "name": "stdout",
     "output_type": "stream",
     "text": [
      "Est: 10 / Depth: 10 ---- MAE: 196.655\n"
     ]
    }
   ],
   "source": [
    "oh = OneHotEncoder(handle_unknown='ignore', sparse=False)\n",
    "rf = RandomForestRegressor(n_estimators=10, max_depth=5, n_jobs=-1)\n",
    "pipeline_temp = Pipeline(steps=[('preprocessor', oh),('model', rf)])\n",
    "scores= -1 * cross_val_score(pipeline_temp, train_X, train_y,cv=5,scoring='neg_mean_absolute_error')\n",
    "print('Est: {} / Depth: {} ---- MAE: {}'.format(n_est,depth,round(scores.mean(), 3)))"
   ]
  },
  {
   "cell_type": "code",
   "execution_count": null,
   "metadata": {},
   "outputs": [],
   "source": [
    "#main code starts here"
   ]
  },
  {
   "cell_type": "code",
   "execution_count": null,
   "metadata": {},
   "outputs": [],
   "source": []
  },
  {
   "cell_type": "code",
   "execution_count": 11,
   "metadata": {},
   "outputs": [],
   "source": [
    "from sklearn.preprocessing import OneHotEncoder\n",
    "oh = OneHotEncoder(handle_unknown='ignore', sparse=False)"
   ]
  },
  {
   "cell_type": "code",
   "execution_count": 14,
   "metadata": {},
   "outputs": [],
   "source": [
    "def train_RF(n_est, depth):\n",
    "    rf = RandomForestRegressor(n_estimators=n_est, max_depth=depth, n_jobs=-1)\n",
    "    pipeline_temp = Pipeline(steps=[('preprocessor', oh),('model', rf)])\n",
    "    scores= -1 * cross_val_score(pipeline_temp, train_X, train_y,cv=5,scoring='neg_mean_absolute_error')\n",
    "    print('Est: {} / Depth: {} ---- MAE: {}'.format(n_est,depth,round(scores.mean(), 3)))"
   ]
  },
  {
   "cell_type": "code",
   "execution_count": 13,
   "metadata": {},
   "outputs": [
    {
     "name": "stdout",
     "output_type": "stream",
     "text": [
      "Est: 10 / Depth: 10 ---- MAE: 95.202\n",
      "Est: 10 / Depth: 50 ---- MAE: 95.494\n",
      "Est: 10 / Depth: 100 ---- MAE: 95.501\n",
      "Est: 50 / Depth: 10 ---- MAE: 95.192\n",
      "Est: 50 / Depth: 50 ---- MAE: 95.43\n",
      "Est: 50 / Depth: 100 ---- MAE: 95.416\n",
      "Est: 100 / Depth: 10 ---- MAE: 95.167\n",
      "Est: 100 / Depth: 50 ---- MAE: 95.402\n",
      "Est: 100 / Depth: 100 ---- MAE: 95.408\n"
     ]
    },
    {
     "ename": "NameError",
     "evalue": "name 'rf' is not defined",
     "output_type": "error",
     "traceback": [
      "\u001b[1;31m---------------------------------------------------------------------------\u001b[0m",
      "\u001b[1;31mNameError\u001b[0m                                 Traceback (most recent call last)",
      "\u001b[1;32m<ipython-input-13-ace30ec53b84>\u001b[0m in \u001b[0;36m<module>\u001b[1;34m\u001b[0m\n\u001b[0;32m      2\u001b[0m     \u001b[1;32mfor\u001b[0m \u001b[0mdepth\u001b[0m \u001b[1;32min\u001b[0m \u001b[1;33m[\u001b[0m\u001b[1;36m10\u001b[0m\u001b[1;33m,\u001b[0m \u001b[1;36m50\u001b[0m\u001b[1;33m,\u001b[0m \u001b[1;36m100\u001b[0m\u001b[1;33m]\u001b[0m\u001b[1;33m:\u001b[0m\u001b[1;33m\u001b[0m\u001b[1;33m\u001b[0m\u001b[0m\n\u001b[0;32m      3\u001b[0m         \u001b[0mtrain_RF\u001b[0m\u001b[1;33m(\u001b[0m\u001b[0mn_est\u001b[0m\u001b[1;33m,\u001b[0m \u001b[0mdepth\u001b[0m\u001b[1;33m)\u001b[0m\u001b[1;33m\u001b[0m\u001b[1;33m\u001b[0m\u001b[0m\n\u001b[1;32m----> 4\u001b[1;33m \u001b[1;32mdel\u001b[0m \u001b[0mrf\u001b[0m\u001b[1;33m,\u001b[0m \u001b[0mscores\u001b[0m\u001b[1;33m,\u001b[0m \u001b[0mpipeline_temp\u001b[0m\u001b[1;33m\u001b[0m\u001b[1;33m\u001b[0m\u001b[0m\n\u001b[0m",
      "\u001b[1;31mNameError\u001b[0m: name 'rf' is not defined"
     ]
    }
   ],
   "source": [
    "for n_est in [10, 50, 100]:\n",
    "    for depth in [10, 50, 100]:\n",
    "        train_RF(n_est, depth)"
   ]
  },
  {
   "cell_type": "code",
   "execution_count": 19,
   "metadata": {},
   "outputs": [],
   "source": [
    "def train_DT(n_est, depth):\n",
    "    rf = DecisionTreeRegressor(min_samples_split=mss, max_depth=depth)\n",
    "    pipeline_temp = Pipeline(steps=[('preprocessor', oh),('model', rf)])\n",
    "    scores= -1 * cross_val_score(pipeline_temp, trainval_X, trainval_y,cv=5,scoring='neg_mean_absolute_error')\n",
    "    print('MSS: {} / Depth: {} ---- MAE: {}'.format(n_est,depth,round(scores.mean(), 3)))"
   ]
  },
  {
   "cell_type": "code",
   "execution_count": 20,
   "metadata": {},
   "outputs": [
    {
     "name": "stdout",
     "output_type": "stream",
     "text": [
      "Est: 2 / Depth: 10 ---- MAE: 95.435\n",
      "Est: 2 / Depth: 50 ---- MAE: 95.535\n",
      "Est: 2 / Depth: 100 ---- MAE: 95.539\n",
      "Est: 5 / Depth: 10 ---- MAE: 95.436\n",
      "Est: 5 / Depth: 50 ---- MAE: 95.508\n",
      "Est: 5 / Depth: 100 ---- MAE: 95.504\n",
      "Est: 10 / Depth: 10 ---- MAE: 95.413\n",
      "Est: 10 / Depth: 50 ---- MAE: 95.44\n",
      "Est: 10 / Depth: 100 ---- MAE: 95.441\n"
     ]
    }
   ],
   "source": [
    "for mss in [2, 5, 10]:\n",
    "    for depth in [10, 50, 100]:\n",
    "        train_DT(mss, depth)"
   ]
  },
  {
   "cell_type": "code",
   "execution_count": null,
   "metadata": {},
   "outputs": [],
   "source": [
    "#model validation"
   ]
  },
  {
   "cell_type": "code",
   "execution_count": 23,
   "metadata": {},
   "outputs": [],
   "source": [
    "import time\n",
    "from sklearn.metrics import r2_score\n",
    "rf = RandomForestRegressor(n_estimators=100, max_depth=None, n_jobs=-1)\n",
    "oh = OneHotEncoder(handle_unknown='ignore', sparse=False)\n",
    "OH_cols_train = pd.DataFrame(oh.fit_transform(train_X[cat_col]))\n",
    "OH_cols_val = pd.DataFrame(oh.transform(val_X[cat_col]))\n",
    "OH_cols_train.index = train_X.index\n",
    "OH_cols_val.index = val_X.index\n",
    "rest_train = train_X.drop(cat_col, axis=1)\n",
    "rest_val = val_X.drop(cat_col, axis=1)\n",
    "OH_train_X = pd.concat([rest_train, OH_cols_train], axis=1)\n",
    "OH_val_X = pd.concat([rest_val, OH_cols_val], axis=1)"
   ]
  },
  {
   "cell_type": "code",
   "execution_count": 25,
   "metadata": {},
   "outputs": [
    {
     "data": {
      "text/html": [
       "<div>\n",
       "<style scoped>\n",
       "    .dataframe tbody tr th:only-of-type {\n",
       "        vertical-align: middle;\n",
       "    }\n",
       "\n",
       "    .dataframe tbody tr th {\n",
       "        vertical-align: top;\n",
       "    }\n",
       "\n",
       "    .dataframe thead th {\n",
       "        text-align: right;\n",
       "    }\n",
       "</style>\n",
       "<table border=\"1\" class=\"dataframe\">\n",
       "  <thead>\n",
       "    <tr style=\"text-align: right;\">\n",
       "      <th></th>\n",
       "      <th>breeds.mixed</th>\n",
       "      <th>breeds.unknown</th>\n",
       "      <th>attributes.spayed_neutered</th>\n",
       "      <th>attributes.house_trained</th>\n",
       "      <th>attributes.special_needs</th>\n",
       "      <th>attributes.shots_current</th>\n",
       "      <th>0</th>\n",
       "      <th>1</th>\n",
       "      <th>2</th>\n",
       "      <th>3</th>\n",
       "      <th>...</th>\n",
       "      <th>5</th>\n",
       "      <th>6</th>\n",
       "      <th>7</th>\n",
       "      <th>8</th>\n",
       "      <th>9</th>\n",
       "      <th>10</th>\n",
       "      <th>11</th>\n",
       "      <th>12</th>\n",
       "      <th>13</th>\n",
       "      <th>14</th>\n",
       "    </tr>\n",
       "  </thead>\n",
       "  <tbody>\n",
       "    <tr>\n",
       "      <th>67781</th>\n",
       "      <td>True</td>\n",
       "      <td>False</td>\n",
       "      <td>False</td>\n",
       "      <td>False</td>\n",
       "      <td>False</td>\n",
       "      <td>True</td>\n",
       "      <td>0.0</td>\n",
       "      <td>1.0</td>\n",
       "      <td>0.0</td>\n",
       "      <td>0.0</td>\n",
       "      <td>...</td>\n",
       "      <td>0.0</td>\n",
       "      <td>0.0</td>\n",
       "      <td>0.0</td>\n",
       "      <td>0.0</td>\n",
       "      <td>0.0</td>\n",
       "      <td>1.0</td>\n",
       "      <td>0.0</td>\n",
       "      <td>0.0</td>\n",
       "      <td>0.0</td>\n",
       "      <td>1.0</td>\n",
       "    </tr>\n",
       "    <tr>\n",
       "      <th>8064</th>\n",
       "      <td>False</td>\n",
       "      <td>False</td>\n",
       "      <td>True</td>\n",
       "      <td>True</td>\n",
       "      <td>False</td>\n",
       "      <td>True</td>\n",
       "      <td>1.0</td>\n",
       "      <td>0.0</td>\n",
       "      <td>0.0</td>\n",
       "      <td>0.0</td>\n",
       "      <td>...</td>\n",
       "      <td>1.0</td>\n",
       "      <td>0.0</td>\n",
       "      <td>0.0</td>\n",
       "      <td>0.0</td>\n",
       "      <td>0.0</td>\n",
       "      <td>1.0</td>\n",
       "      <td>0.0</td>\n",
       "      <td>1.0</td>\n",
       "      <td>0.0</td>\n",
       "      <td>0.0</td>\n",
       "    </tr>\n",
       "    <tr>\n",
       "      <th>22118</th>\n",
       "      <td>True</td>\n",
       "      <td>False</td>\n",
       "      <td>True</td>\n",
       "      <td>True</td>\n",
       "      <td>False</td>\n",
       "      <td>True</td>\n",
       "      <td>1.0</td>\n",
       "      <td>0.0</td>\n",
       "      <td>0.0</td>\n",
       "      <td>0.0</td>\n",
       "      <td>...</td>\n",
       "      <td>1.0</td>\n",
       "      <td>0.0</td>\n",
       "      <td>0.0</td>\n",
       "      <td>1.0</td>\n",
       "      <td>0.0</td>\n",
       "      <td>0.0</td>\n",
       "      <td>0.0</td>\n",
       "      <td>1.0</td>\n",
       "      <td>0.0</td>\n",
       "      <td>0.0</td>\n",
       "    </tr>\n",
       "    <tr>\n",
       "      <th>60056</th>\n",
       "      <td>True</td>\n",
       "      <td>False</td>\n",
       "      <td>False</td>\n",
       "      <td>False</td>\n",
       "      <td>False</td>\n",
       "      <td>True</td>\n",
       "      <td>0.0</td>\n",
       "      <td>0.0</td>\n",
       "      <td>0.0</td>\n",
       "      <td>1.0</td>\n",
       "      <td>...</td>\n",
       "      <td>0.0</td>\n",
       "      <td>0.0</td>\n",
       "      <td>0.0</td>\n",
       "      <td>0.0</td>\n",
       "      <td>0.0</td>\n",
       "      <td>1.0</td>\n",
       "      <td>0.0</td>\n",
       "      <td>0.0</td>\n",
       "      <td>1.0</td>\n",
       "      <td>0.0</td>\n",
       "    </tr>\n",
       "    <tr>\n",
       "      <th>70138</th>\n",
       "      <td>True</td>\n",
       "      <td>False</td>\n",
       "      <td>True</td>\n",
       "      <td>True</td>\n",
       "      <td>False</td>\n",
       "      <td>True</td>\n",
       "      <td>0.0</td>\n",
       "      <td>0.0</td>\n",
       "      <td>0.0</td>\n",
       "      <td>1.0</td>\n",
       "      <td>...</td>\n",
       "      <td>1.0</td>\n",
       "      <td>0.0</td>\n",
       "      <td>0.0</td>\n",
       "      <td>0.0</td>\n",
       "      <td>0.0</td>\n",
       "      <td>1.0</td>\n",
       "      <td>0.0</td>\n",
       "      <td>1.0</td>\n",
       "      <td>0.0</td>\n",
       "      <td>0.0</td>\n",
       "    </tr>\n",
       "  </tbody>\n",
       "</table>\n",
       "<p>5 rows × 21 columns</p>\n",
       "</div>"
      ],
      "text/plain": [
       "       breeds.mixed  breeds.unknown  attributes.spayed_neutered  \\\n",
       "67781          True           False                       False   \n",
       "8064          False           False                        True   \n",
       "22118          True           False                        True   \n",
       "60056          True           False                       False   \n",
       "70138          True           False                        True   \n",
       "\n",
       "       attributes.house_trained  attributes.special_needs  \\\n",
       "67781                     False                     False   \n",
       "8064                       True                     False   \n",
       "22118                      True                     False   \n",
       "60056                     False                     False   \n",
       "70138                      True                     False   \n",
       "\n",
       "       attributes.shots_current    0    1    2    3  ...    5    6    7    8  \\\n",
       "67781                      True  0.0  1.0  0.0  0.0  ...  0.0  0.0  0.0  0.0   \n",
       "8064                       True  1.0  0.0  0.0  0.0  ...  1.0  0.0  0.0  0.0   \n",
       "22118                      True  1.0  0.0  0.0  0.0  ...  1.0  0.0  0.0  1.0   \n",
       "60056                      True  0.0  0.0  0.0  1.0  ...  0.0  0.0  0.0  0.0   \n",
       "70138                      True  0.0  0.0  0.0  1.0  ...  1.0  0.0  0.0  0.0   \n",
       "\n",
       "         9   10   11   12   13   14  \n",
       "67781  0.0  1.0  0.0  0.0  0.0  1.0  \n",
       "8064   0.0  1.0  0.0  1.0  0.0  0.0  \n",
       "22118  0.0  0.0  0.0  1.0  0.0  0.0  \n",
       "60056  0.0  1.0  0.0  0.0  1.0  0.0  \n",
       "70138  0.0  1.0  0.0  1.0  0.0  0.0  \n",
       "\n",
       "[5 rows x 21 columns]"
      ]
     },
     "execution_count": 25,
     "metadata": {},
     "output_type": "execute_result"
    }
   ],
   "source": [
    "OH_train_X.head()"
   ]
  },
  {
   "cell_type": "code",
   "execution_count": 26,
   "metadata": {},
   "outputs": [
    {
     "name": "stdout",
     "output_type": "stream",
     "text": [
      "Fit time: 9.555 / Predict time: 0.29 ---- MAE: 96.09 / R^2: 0.07\n"
     ]
    }
   ],
   "source": [
    "start = time.time()\n",
    "rf_model = rf.fit(OH_train_X, train_y)\n",
    "end = time.time()\n",
    "fit_time = (end - start)\n",
    "\n",
    "start = time.time()\n",
    "y_pred = rf_model.predict(OH_val_X)\n",
    "end = time.time()\n",
    "pred_time = (end - start)\n",
    "mae_x=mean_absolute_error(val_y, y_pred)\n",
    "r2 =r2_score(val_y,y_pred)\n",
    "print('Fit time: {} / Predict time: {} ---- MAE: {} / R^2: {}'.format(\n",
    "    round(fit_time, 3), round(pred_time, 3), round(mae_x, 3), round(r2,3)))"
   ]
  },
  {
   "cell_type": "code",
   "execution_count": 27,
   "metadata": {},
   "outputs": [
    {
     "data": {
      "image/png": "[encoded data removed]",
      "text/plain": [
       "<Figure size 432x288 with 1 Axes>"
      ]
     },
     "metadata": {
      "needs_background": "light"
     },
     "output_type": "display_data"
    }
   ],
   "source": [
    "fig, ax = plt.subplots()\n",
    "ax.scatter(val_y, y_pred)\n",
    "ax.plot([val_y.min(), val_y.max()], [val_y.min(), val_y.max()], 'k--', lw=4)\n",
    "ax.set_xlabel('Actual')\n",
    "ax.set_ylabel('Predicted')\n",
    "plt.show()"
   ]
  },
  {
   "cell_type": "code",
   "execution_count": 28,
   "metadata": {},
   "outputs": [
    {
     "name": "stdout",
     "output_type": "stream",
     "text": [
      "Fit time: 1.03 / Predict time: 0.16 ---- MAE: 95.866 / R^2: 0.076\n"
     ]
    }
   ],
   "source": [
    "rf = RandomForestRegressor(n_estimators=10, max_depth=10, n_jobs=-1)\n",
    "\n",
    "start = time.time()\n",
    "rf_model = rf.fit(OH_train_X, train_y)\n",
    "end = time.time()\n",
    "fit_time = (end - start)\n",
    "\n",
    "start = time.time()\n",
    "y_pred = rf_model.predict(OH_val_X)\n",
    "end = time.time()\n",
    "pred_time = (end - start)\n",
    "mae_x=mean_absolute_error(val_y, y_pred)\n",
    "r2 =r2_score(val_y,y_pred)\n",
    "print('Fit time: {} / Predict time: {} ---- MAE: {} / R^2: {}'.format(\n",
    "    round(fit_time, 3), round(pred_time, 3), round(mae_x, 3), round(r2,3)))"
   ]
  },
  {
   "cell_type": "code",
   "execution_count": 29,
   "metadata": {},
   "outputs": [
    {
     "data": {
      "image/png": "[encoded data removed]",
      "text/plain": [
       "<Figure size 432x288 with 1 Axes>"
      ]
     },
     "metadata": {
      "needs_background": "light"
     },
     "output_type": "display_data"
    }
   ],
   "source": [
    "fig, ax = plt.subplots()\n",
    "ax.scatter(val_y, y_pred)\n",
    "ax.plot([val_y.min(), val_y.max()], [val_y.min(), val_y.max()], 'k--', lw=4)\n",
    "ax.set_xlabel('Actual')\n",
    "ax.set_ylabel('Predicted')\n",
    "plt.show()"
   ]
  },
  {
   "cell_type": "code",
   "execution_count": 30,
   "metadata": {},
   "outputs": [
    {
     "name": "stderr",
     "output_type": "stream",
     "text": [
      "C:\\anaconda_python\\lib\\site-packages\\xgboost\\core.py:587: FutureWarning: Series.base is deprecated and will be removed in a future version\n",
      "  if getattr(data, 'base', None) is not None and \\\n"
     ]
    },
    {
     "name": "stdout",
     "output_type": "stream",
     "text": [
      "[16:52:10] WARNING: C:/Jenkins/workspace/xgboost-win64_release_0.90/src/objective/regression_obj.cu:152: reg:linear is now deprecated in favor of reg:squarederror.\n",
      "Fit time: 1.855 / Predict time: 0.097 ---- MAE: 82.995 / R^2: 0.032\n"
     ]
    }
   ],
   "source": [
    "from xgboost import XGBRegressor\n",
    "rf = XGBRegressor(n_estimators=10, max_depth=10, n_jobs=-1)\n",
    "\n",
    "start = time.time()\n",
    "rf_model = rf.fit(OH_train_X, train_y)\n",
    "end = time.time()\n",
    "fit_time = (end - start)\n",
    "\n",
    "start = time.time()\n",
    "y_pred = rf_model.predict(OH_val_X)\n",
    "end = time.time()\n",
    "pred_time = (end - start)\n",
    "mae_x=mean_absolute_error(val_y, y_pred)\n",
    "r2 =r2_score(val_y,y_pred)\n",
    "print('Fit time: {} / Predict time: {} ---- MAE: {} / R^2: {}'.format(\n",
    "    round(fit_time, 3), round(pred_time, 3), round(mae_x, 3), round(r2,3)))"
   ]
  },
  {
   "cell_type": "code",
   "execution_count": 32,
   "metadata": {},
   "outputs": [
    {
     "name": "stderr",
     "output_type": "stream",
     "text": [
      "C:\\anaconda_python\\lib\\site-packages\\xgboost\\core.py:587: FutureWarning: Series.base is deprecated and will be removed in a future version\n",
      "  if getattr(data, 'base', None) is not None and \\\n"
     ]
    },
    {
     "name": "stdout",
     "output_type": "stream",
     "text": [
      "[16:52:53] WARNING: C:/Jenkins/workspace/xgboost-win64_release_0.90/src/objective/regression_obj.cu:152: reg:linear is now deprecated in favor of reg:squarederror.\n",
      "Fit time: 15.18 / Predict time: 0.185 ---- MAE: 95.999 / R^2: 0.071\n"
     ]
    }
   ],
   "source": [
    "from xgboost import XGBRegressor\n",
    "rf = XGBRegressor(n_estimators=100, max_depth=10, n_jobs=-1)\n",
    "\n",
    "start = time.time()\n",
    "rf_model = rf.fit(OH_train_X, train_y)\n",
    "end = time.time()\n",
    "fit_time = (end - start)\n",
    "\n",
    "start = time.time()\n",
    "y_pred = rf_model.predict(OH_val_X)\n",
    "end = time.time()\n",
    "pred_time = (end - start)\n",
    "mae_x=mean_absolute_error(val_y, y_pred)\n",
    "r2 =r2_score(val_y,y_pred)\n",
    "print('Fit time: {} / Predict time: {} ---- MAE: {} / R^2: {}'.format(\n",
    "    round(fit_time, 3), round(pred_time, 3), round(mae_x, 3), round(r2,3)))"
   ]
  },
  {
   "cell_type": "code",
   "execution_count": 33,
   "metadata": {},
   "outputs": [
    {
     "data": {
      "image/png": "[encoded data removed]",
      "text/plain": [
       "<Figure size 432x288 with 1 Axes>"
      ]
     },
     "metadata": {
      "needs_background": "light"
     },
     "output_type": "display_data"
    }
   ],
   "source": [
    "fig, ax = plt.subplots()\n",
    "ax.scatter(val_y, y_pred)\n",
    "ax.plot([val_y.min(), val_y.max()], [val_y.min(), val_y.max()], 'k--', lw=4)\n",
    "ax.set_xlabel('Actual')\n",
    "ax.set_ylabel('Predicted')\n",
    "plt.show()"
   ]
  },
  {
   "cell_type": "code",
   "execution_count": 31,
   "metadata": {},
   "outputs": [
    {
     "data": {
      "text/plain": [
       "112256"
      ]
     },
     "execution_count": 31,
     "metadata": {},
     "output_type": "execute_result"
    }
   ],
   "source": [
    "len(OH_train_X)"
   ]
  },
  {
   "cell_type": "code",
   "execution_count": 59,
   "metadata": {},
   "outputs": [
    {
     "ename": "NameError",
     "evalue": "name 'scores' is not defined",
     "output_type": "error",
     "traceback": [
      "\u001b[1;31m---------------------------------------------------------------------------\u001b[0m",
      "\u001b[1;31mNameError\u001b[0m                                 Traceback (most recent call last)",
      "\u001b[1;32m<ipython-input-59-fa8cef49474b>\u001b[0m in \u001b[0;36m<module>\u001b[1;34m\u001b[0m\n\u001b[1;32m----> 1\u001b[1;33m \u001b[0mscores\u001b[0m\u001b[1;33m\u001b[0m\u001b[1;33m\u001b[0m\u001b[0m\n\u001b[0m",
      "\u001b[1;31mNameError\u001b[0m: name 'scores' is not defined"
     ]
    }
   ],
   "source": [
    "#import pickle\n",
    "#filename = 'finalized_model_demo.sav'\n",
    "#pickle.dump(model, open(filename, 'wb'))\n",
    "\n",
    "#filename = 'finalized_model_demo.sav'\n",
    "#loaded_model = pickle.load(open(filename, 'rb'))\n",
    "#test pickle\n",
    "#from sklearn.metrics import mean_absolute_error\n",
    "#extension_preds = loaded_model.predict(test_X)\n",
    "#mae_x=mean_absolute_error(test_y, extension_preds)\n",
    "#print('The mean absolute error is {} which is about {:.2%} of the mean extension'.format(mae_x,(mae_x/mean_x_total)))"
   ]
  }
 ],
 "metadata": {
  "kernelspec": {
   "display_name": "Python 3",
   "language": "python",
   "name": "python3"
  },
  "language_info": {
   "codemirror_mode": {
    "name": "ipython",
    "version": 3
   },
   "file_extension": ".py",
   "mimetype": "text/x-python",
   "name": "python",
   "nbconvert_exporter": "python",
   "pygments_lexer": "ipython3",
   "version": "3.7.3"
  }
 },
 "nbformat": 4,
 "nbformat_minor": 2
}
