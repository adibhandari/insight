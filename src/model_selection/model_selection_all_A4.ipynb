{
 "cells": [
  {
   "cell_type": "markdown",
   "metadata": {},
   "source": [
    "# Import libraries and read in trainval and test datasets"
   ]
  },
  {
   "cell_type": "code",
   "execution_count": 118,
   "metadata": {},
   "outputs": [],
   "source": [
    "#merge data from several states\n",
    "import numpy as np\n",
    "import pandas as pd\n",
    "import matplotlib.pyplot as plt"
   ]
  },
  {
   "cell_type": "code",
   "execution_count": 163,
   "metadata": {},
   "outputs": [
    {
     "data": {
      "text/html": [
       "<div>\n",
       "<style scoped>\n",
       "    .dataframe tbody tr th:only-of-type {\n",
       "        vertical-align: middle;\n",
       "    }\n",
       "\n",
       "    .dataframe tbody tr th {\n",
       "        vertical-align: top;\n",
       "    }\n",
       "\n",
       "    .dataframe thead th {\n",
       "        text-align: right;\n",
       "    }\n",
       "</style>\n",
       "<table border=\"1\" class=\"dataframe\">\n",
       "  <thead>\n",
       "    <tr style=\"text-align: right;\">\n",
       "      <th></th>\n",
       "      <th>id</th>\n",
       "      <th>age</th>\n",
       "      <th>gender</th>\n",
       "      <th>size</th>\n",
       "      <th>breeds.primary</th>\n",
       "      <th>breeds.mixed</th>\n",
       "      <th>attributes.spayed_neutered</th>\n",
       "      <th>attributes.house_trained</th>\n",
       "      <th>contact.address.state</th>\n",
       "      <th>breed_pop</th>\n",
       "      <th>month</th>\n",
       "      <th>cg_adpt_time</th>\n",
       "    </tr>\n",
       "  </thead>\n",
       "  <tbody>\n",
       "    <tr>\n",
       "      <th>0</th>\n",
       "      <td>34340680</td>\n",
       "      <td>Baby</td>\n",
       "      <td>Male</td>\n",
       "      <td>Medium</td>\n",
       "      <td>Labrador Retriever</td>\n",
       "      <td>True</td>\n",
       "      <td>False</td>\n",
       "      <td>True</td>\n",
       "      <td>MN</td>\n",
       "      <td>High</td>\n",
       "      <td>2</td>\n",
       "      <td>1 - 2 weeks</td>\n",
       "    </tr>\n",
       "    <tr>\n",
       "      <th>1</th>\n",
       "      <td>39949411</td>\n",
       "      <td>Adult</td>\n",
       "      <td>Female</td>\n",
       "      <td>Medium</td>\n",
       "      <td>Retriever</td>\n",
       "      <td>True</td>\n",
       "      <td>True</td>\n",
       "      <td>True</td>\n",
       "      <td>MD</td>\n",
       "      <td>Medium</td>\n",
       "      <td>11</td>\n",
       "      <td>1 - 2 weeks</td>\n",
       "    </tr>\n",
       "    <tr>\n",
       "      <th>2</th>\n",
       "      <td>38627637</td>\n",
       "      <td>Adult</td>\n",
       "      <td>Male</td>\n",
       "      <td>Large</td>\n",
       "      <td>Great Pyrenees</td>\n",
       "      <td>False</td>\n",
       "      <td>True</td>\n",
       "      <td>True</td>\n",
       "      <td>NE</td>\n",
       "      <td>Low</td>\n",
       "      <td>7</td>\n",
       "      <td>&lt; 1 week</td>\n",
       "    </tr>\n",
       "    <tr>\n",
       "      <th>3</th>\n",
       "      <td>31484643</td>\n",
       "      <td>Baby</td>\n",
       "      <td>Male</td>\n",
       "      <td>Small</td>\n",
       "      <td>Pomeranian</td>\n",
       "      <td>True</td>\n",
       "      <td>False</td>\n",
       "      <td>False</td>\n",
       "      <td>CA</td>\n",
       "      <td>Low</td>\n",
       "      <td>4</td>\n",
       "      <td>&lt; 3 months</td>\n",
       "    </tr>\n",
       "    <tr>\n",
       "      <th>4</th>\n",
       "      <td>33307974</td>\n",
       "      <td>Adult</td>\n",
       "      <td>Male</td>\n",
       "      <td>Medium</td>\n",
       "      <td>Rare</td>\n",
       "      <td>True</td>\n",
       "      <td>True</td>\n",
       "      <td>True</td>\n",
       "      <td>NH</td>\n",
       "      <td>Low</td>\n",
       "      <td>10</td>\n",
       "      <td>&lt; 3 months</td>\n",
       "    </tr>\n",
       "  </tbody>\n",
       "</table>\n",
       "</div>"
      ],
      "text/plain": [
       "         id    age  gender    size      breeds.primary  breeds.mixed  \\\n",
       "0  34340680   Baby    Male  Medium  Labrador Retriever          True   \n",
       "1  39949411  Adult  Female  Medium           Retriever          True   \n",
       "2  38627637  Adult    Male   Large      Great Pyrenees         False   \n",
       "3  31484643   Baby    Male   Small          Pomeranian          True   \n",
       "4  33307974  Adult    Male  Medium                Rare          True   \n",
       "\n",
       "   attributes.spayed_neutered  attributes.house_trained contact.address.state  \\\n",
       "0                       False                      True                    MN   \n",
       "1                        True                      True                    MD   \n",
       "2                        True                      True                    NE   \n",
       "3                       False                     False                    CA   \n",
       "4                        True                      True                    NH   \n",
       "\n",
       "  breed_pop  month cg_adpt_time  \n",
       "0      High      2  1 - 2 weeks  \n",
       "1    Medium     11  1 - 2 weeks  \n",
       "2       Low      7     < 1 week  \n",
       "3       Low      4   < 3 months  \n",
       "4       Low     10   < 3 months  "
      ]
     },
     "execution_count": 163,
     "metadata": {},
     "output_type": "execute_result"
    }
   ],
   "source": [
    "trainval = pd.read_csv('./data/trainval_set_all_a4.csv')\n",
    "trainval.head()"
   ]
  },
  {
   "cell_type": "code",
   "execution_count": 138,
   "metadata": {},
   "outputs": [],
   "source": [
    "trainvalmain = trainval"
   ]
  },
  {
   "cell_type": "code",
   "execution_count": 164,
   "metadata": {},
   "outputs": [
    {
     "data": {
      "text/html": [
       "<div>\n",
       "<style scoped>\n",
       "    .dataframe tbody tr th:only-of-type {\n",
       "        vertical-align: middle;\n",
       "    }\n",
       "\n",
       "    .dataframe tbody tr th {\n",
       "        vertical-align: top;\n",
       "    }\n",
       "\n",
       "    .dataframe thead th {\n",
       "        text-align: right;\n",
       "    }\n",
       "</style>\n",
       "<table border=\"1\" class=\"dataframe\">\n",
       "  <thead>\n",
       "    <tr style=\"text-align: right;\">\n",
       "      <th></th>\n",
       "      <th>id</th>\n",
       "      <th>age</th>\n",
       "      <th>gender</th>\n",
       "      <th>size</th>\n",
       "      <th>breeds.primary</th>\n",
       "      <th>breeds.mixed</th>\n",
       "      <th>attributes.spayed_neutered</th>\n",
       "      <th>attributes.house_trained</th>\n",
       "      <th>contact.address.state</th>\n",
       "      <th>breed_pop</th>\n",
       "      <th>month</th>\n",
       "      <th>cg_adpt_time</th>\n",
       "    </tr>\n",
       "  </thead>\n",
       "  <tbody>\n",
       "    <tr>\n",
       "      <th>0</th>\n",
       "      <td>37587980</td>\n",
       "      <td>Young</td>\n",
       "      <td>Female</td>\n",
       "      <td>Large</td>\n",
       "      <td>Pit Bull Terrier</td>\n",
       "      <td>False</td>\n",
       "      <td>True</td>\n",
       "      <td>True</td>\n",
       "      <td>NC</td>\n",
       "      <td>High</td>\n",
       "      <td>7</td>\n",
       "      <td>&gt; 3 months</td>\n",
       "    </tr>\n",
       "    <tr>\n",
       "      <th>1</th>\n",
       "      <td>43998498</td>\n",
       "      <td>Young</td>\n",
       "      <td>Female</td>\n",
       "      <td>Large</td>\n",
       "      <td>Basset Hound</td>\n",
       "      <td>True</td>\n",
       "      <td>True</td>\n",
       "      <td>True</td>\n",
       "      <td>IA</td>\n",
       "      <td>Low</td>\n",
       "      <td>2</td>\n",
       "      <td>1 - 2 weeks</td>\n",
       "    </tr>\n",
       "    <tr>\n",
       "      <th>2</th>\n",
       "      <td>41405428</td>\n",
       "      <td>Young</td>\n",
       "      <td>Female</td>\n",
       "      <td>Small</td>\n",
       "      <td>Jack Russell Terrier</td>\n",
       "      <td>True</td>\n",
       "      <td>True</td>\n",
       "      <td>False</td>\n",
       "      <td>MA</td>\n",
       "      <td>Low</td>\n",
       "      <td>4</td>\n",
       "      <td>1 - 2 weeks</td>\n",
       "    </tr>\n",
       "    <tr>\n",
       "      <th>3</th>\n",
       "      <td>34892143</td>\n",
       "      <td>Young</td>\n",
       "      <td>Female</td>\n",
       "      <td>Medium</td>\n",
       "      <td>Labrador Retriever</td>\n",
       "      <td>True</td>\n",
       "      <td>True</td>\n",
       "      <td>False</td>\n",
       "      <td>Other</td>\n",
       "      <td>High</td>\n",
       "      <td>7</td>\n",
       "      <td>&lt; 3 months</td>\n",
       "    </tr>\n",
       "    <tr>\n",
       "      <th>4</th>\n",
       "      <td>43001651</td>\n",
       "      <td>Adult</td>\n",
       "      <td>Male</td>\n",
       "      <td>Large</td>\n",
       "      <td>German Shepherd Dog</td>\n",
       "      <td>True</td>\n",
       "      <td>True</td>\n",
       "      <td>False</td>\n",
       "      <td>OR</td>\n",
       "      <td>Medium</td>\n",
       "      <td>10</td>\n",
       "      <td>&lt; 1 week</td>\n",
       "    </tr>\n",
       "  </tbody>\n",
       "</table>\n",
       "</div>"
      ],
      "text/plain": [
       "         id    age  gender    size        breeds.primary  breeds.mixed  \\\n",
       "0  37587980  Young  Female   Large      Pit Bull Terrier         False   \n",
       "1  43998498  Young  Female   Large          Basset Hound          True   \n",
       "2  41405428  Young  Female   Small  Jack Russell Terrier          True   \n",
       "3  34892143  Young  Female  Medium    Labrador Retriever          True   \n",
       "4  43001651  Adult    Male   Large   German Shepherd Dog          True   \n",
       "\n",
       "   attributes.spayed_neutered  attributes.house_trained contact.address.state  \\\n",
       "0                        True                      True                    NC   \n",
       "1                        True                      True                    IA   \n",
       "2                        True                     False                    MA   \n",
       "3                        True                     False                 Other   \n",
       "4                        True                     False                    OR   \n",
       "\n",
       "  breed_pop  month cg_adpt_time  \n",
       "0      High      7   > 3 months  \n",
       "1       Low      2  1 - 2 weeks  \n",
       "2       Low      4  1 - 2 weeks  \n",
       "3      High      7   < 3 months  \n",
       "4    Medium     10     < 1 week  "
      ]
     },
     "execution_count": 164,
     "metadata": {},
     "output_type": "execute_result"
    }
   ],
   "source": [
    "test = pd.read_csv('./data/test_set_all_a4.csv')\n",
    "test.head()"
   ]
  },
  {
   "cell_type": "markdown",
   "metadata": {},
   "source": [
    "# Convert columns and check for any remaining missing values"
   ]
  },
  {
   "cell_type": "code",
   "execution_count": 165,
   "metadata": {},
   "outputs": [],
   "source": [
    "# Convert columns and check for any remaining missing values\n",
    "cat_col = ['age','gender','size','breeds.primary','contact.address.state','breed_pop','month','cg_adpt_time']\n",
    "trainval[cat_col]=trainval[cat_col].astype('category')\n",
    "test[cat_col]=test[cat_col].astype('category')"
   ]
  },
  {
   "cell_type": "code",
   "execution_count": 166,
   "metadata": {},
   "outputs": [
    {
     "name": "stdout",
     "output_type": "stream",
     "text": [
      "Table size - (483796, 12)\n",
      "Checking for missing values..\n",
      "Series([], dtype: int64)\n"
     ]
    }
   ],
   "source": [
    "# Check for any missing data\n",
    "print(\"Table size -\", end=' ')\n",
    "print(trainval.shape)\n",
    "\n",
    "print(\"Checking for missing values..\")\n",
    "# Number of missing values in each column of training data\n",
    "missing_val_count_by_column = (trainval.isnull().sum())\n",
    "print(missing_val_count_by_column[missing_val_count_by_column > 0])\n",
    "\n",
    "# Get names of columns with missing values\n",
    "#missing_cols = [col for col in extension_data.columns\n",
    "#                     if extension_train[col].isnull().any()]"
   ]
  },
  {
   "cell_type": "code",
   "execution_count": 139,
   "metadata": {},
   "outputs": [],
   "source": [
    "trainval = trainvalmain[trainvalmain['contact.address.state']=='CA']"
   ]
  },
  {
   "cell_type": "code",
   "execution_count": 149,
   "metadata": {},
   "outputs": [],
   "source": [
    "trainval = trainvalmain"
   ]
  },
  {
   "cell_type": "code",
   "execution_count": 167,
   "metadata": {},
   "outputs": [
    {
     "data": {
      "text/plain": [
       "483796"
      ]
     },
     "execution_count": 167,
     "metadata": {},
     "output_type": "execute_result"
    }
   ],
   "source": [
    "len(trainval)"
   ]
  },
  {
   "cell_type": "markdown",
   "metadata": {},
   "source": [
    "# Divide into features and target"
   ]
  },
  {
   "cell_type": "code",
   "execution_count": 171,
   "metadata": {},
   "outputs": [
    {
     "data": {
      "text/html": [
       "<div>\n",
       "<style scoped>\n",
       "    .dataframe tbody tr th:only-of-type {\n",
       "        vertical-align: middle;\n",
       "    }\n",
       "\n",
       "    .dataframe tbody tr th {\n",
       "        vertical-align: top;\n",
       "    }\n",
       "\n",
       "    .dataframe thead th {\n",
       "        text-align: right;\n",
       "    }\n",
       "</style>\n",
       "<table border=\"1\" class=\"dataframe\">\n",
       "  <thead>\n",
       "    <tr style=\"text-align: right;\">\n",
       "      <th></th>\n",
       "      <th>age</th>\n",
       "      <th>gender</th>\n",
       "      <th>size</th>\n",
       "      <th>breed_pop</th>\n",
       "      <th>breeds.primary</th>\n",
       "      <th>breeds.mixed</th>\n",
       "      <th>contact.address.state</th>\n",
       "    </tr>\n",
       "  </thead>\n",
       "  <tbody>\n",
       "    <tr>\n",
       "      <th>0</th>\n",
       "      <td>Baby</td>\n",
       "      <td>Male</td>\n",
       "      <td>Medium</td>\n",
       "      <td>High</td>\n",
       "      <td>Labrador Retriever</td>\n",
       "      <td>True</td>\n",
       "      <td>MN</td>\n",
       "    </tr>\n",
       "    <tr>\n",
       "      <th>1</th>\n",
       "      <td>Adult</td>\n",
       "      <td>Female</td>\n",
       "      <td>Medium</td>\n",
       "      <td>Medium</td>\n",
       "      <td>Retriever</td>\n",
       "      <td>True</td>\n",
       "      <td>MD</td>\n",
       "    </tr>\n",
       "    <tr>\n",
       "      <th>2</th>\n",
       "      <td>Adult</td>\n",
       "      <td>Male</td>\n",
       "      <td>Large</td>\n",
       "      <td>Low</td>\n",
       "      <td>Great Pyrenees</td>\n",
       "      <td>False</td>\n",
       "      <td>NE</td>\n",
       "    </tr>\n",
       "    <tr>\n",
       "      <th>3</th>\n",
       "      <td>Baby</td>\n",
       "      <td>Male</td>\n",
       "      <td>Small</td>\n",
       "      <td>Low</td>\n",
       "      <td>Pomeranian</td>\n",
       "      <td>True</td>\n",
       "      <td>CA</td>\n",
       "    </tr>\n",
       "    <tr>\n",
       "      <th>4</th>\n",
       "      <td>Adult</td>\n",
       "      <td>Male</td>\n",
       "      <td>Medium</td>\n",
       "      <td>Low</td>\n",
       "      <td>Rare</td>\n",
       "      <td>True</td>\n",
       "      <td>NH</td>\n",
       "    </tr>\n",
       "  </tbody>\n",
       "</table>\n",
       "</div>"
      ],
      "text/plain": [
       "     age  gender    size breed_pop      breeds.primary  breeds.mixed  \\\n",
       "0   Baby    Male  Medium      High  Labrador Retriever          True   \n",
       "1  Adult  Female  Medium    Medium           Retriever          True   \n",
       "2  Adult    Male   Large       Low      Great Pyrenees         False   \n",
       "3   Baby    Male   Small       Low          Pomeranian          True   \n",
       "4  Adult    Male  Medium       Low                Rare          True   \n",
       "\n",
       "  contact.address.state  \n",
       "0                    MN  \n",
       "1                    MD  \n",
       "2                    NE  \n",
       "3                    CA  \n",
       "4                    NH  "
      ]
     },
     "execution_count": 171,
     "metadata": {},
     "output_type": "execute_result"
    }
   ],
   "source": [
    "#test with small number of features, take off name_pop for now\n",
    "X_features = ['age', 'gender', 'size', 'breed_pop',\n",
    "               'breeds.primary',\n",
    "              'breeds.mixed',\n",
    "             'contact.address.state']\n",
    "trainval_X = trainval[X_features]\n",
    "trainval_X.head()"
   ]
  },
  {
   "cell_type": "code",
   "execution_count": 193,
   "metadata": {},
   "outputs": [
    {
     "data": {
      "text/html": [
       "<div>\n",
       "<style scoped>\n",
       "    .dataframe tbody tr th:only-of-type {\n",
       "        vertical-align: middle;\n",
       "    }\n",
       "\n",
       "    .dataframe tbody tr th {\n",
       "        vertical-align: top;\n",
       "    }\n",
       "\n",
       "    .dataframe thead th {\n",
       "        text-align: right;\n",
       "    }\n",
       "</style>\n",
       "<table border=\"1\" class=\"dataframe\">\n",
       "  <thead>\n",
       "    <tr style=\"text-align: right;\">\n",
       "      <th></th>\n",
       "      <th>age</th>\n",
       "      <th>gender</th>\n",
       "      <th>size</th>\n",
       "      <th>breed_pop</th>\n",
       "      <th>breeds.primary</th>\n",
       "      <th>breeds.mixed</th>\n",
       "      <th>contact.address.state</th>\n",
       "    </tr>\n",
       "  </thead>\n",
       "  <tbody>\n",
       "    <tr>\n",
       "      <th>0</th>\n",
       "      <td>Baby</td>\n",
       "      <td>Male</td>\n",
       "      <td>Medium</td>\n",
       "      <td>High</td>\n",
       "      <td>Labrador Retriever</td>\n",
       "      <td>True</td>\n",
       "      <td>MN</td>\n",
       "    </tr>\n",
       "    <tr>\n",
       "      <th>1</th>\n",
       "      <td>Adult</td>\n",
       "      <td>Female</td>\n",
       "      <td>Medium</td>\n",
       "      <td>Medium</td>\n",
       "      <td>Retriever</td>\n",
       "      <td>True</td>\n",
       "      <td>MD</td>\n",
       "    </tr>\n",
       "    <tr>\n",
       "      <th>2</th>\n",
       "      <td>Adult</td>\n",
       "      <td>Male</td>\n",
       "      <td>Large</td>\n",
       "      <td>Low</td>\n",
       "      <td>Great Pyrenees</td>\n",
       "      <td>False</td>\n",
       "      <td>NE</td>\n",
       "    </tr>\n",
       "    <tr>\n",
       "      <th>3</th>\n",
       "      <td>Baby</td>\n",
       "      <td>Male</td>\n",
       "      <td>Small</td>\n",
       "      <td>Low</td>\n",
       "      <td>Pomeranian</td>\n",
       "      <td>True</td>\n",
       "      <td>CA</td>\n",
       "    </tr>\n",
       "    <tr>\n",
       "      <th>4</th>\n",
       "      <td>Adult</td>\n",
       "      <td>Male</td>\n",
       "      <td>Medium</td>\n",
       "      <td>Low</td>\n",
       "      <td>Rare</td>\n",
       "      <td>True</td>\n",
       "      <td>NH</td>\n",
       "    </tr>\n",
       "  </tbody>\n",
       "</table>\n",
       "</div>"
      ],
      "text/plain": [
       "     age  gender    size breed_pop      breeds.primary  breeds.mixed  \\\n",
       "0   Baby    Male  Medium      High  Labrador Retriever          True   \n",
       "1  Adult  Female  Medium    Medium           Retriever          True   \n",
       "2  Adult    Male   Large       Low      Great Pyrenees         False   \n",
       "3   Baby    Male   Small       Low          Pomeranian          True   \n",
       "4  Adult    Male  Medium       Low                Rare          True   \n",
       "\n",
       "  contact.address.state  \n",
       "0                    MN  \n",
       "1                    MD  \n",
       "2                    NE  \n",
       "3                    CA  \n",
       "4                    NH  "
      ]
     },
     "execution_count": 193,
     "metadata": {},
     "output_type": "execute_result"
    }
   ],
   "source": [
    "#test with small number of features, take off name_pop for now\n",
    "X_features = ['age', 'gender', 'size', 'breed_pop',\n",
    "               'breeds.primary',\n",
    "              'breeds.mixed',\n",
    "              'contact.address.state'\n",
    "             ]\n",
    "trainval_X = trainval[X_features]\n",
    "trainval_X.head()"
   ]
  },
  {
   "cell_type": "code",
   "execution_count": 108,
   "metadata": {},
   "outputs": [
    {
     "data": {
      "text/html": [
       "<div>\n",
       "<style scoped>\n",
       "    .dataframe tbody tr th:only-of-type {\n",
       "        vertical-align: middle;\n",
       "    }\n",
       "\n",
       "    .dataframe tbody tr th {\n",
       "        vertical-align: top;\n",
       "    }\n",
       "\n",
       "    .dataframe thead th {\n",
       "        text-align: right;\n",
       "    }\n",
       "</style>\n",
       "<table border=\"1\" class=\"dataframe\">\n",
       "  <thead>\n",
       "    <tr style=\"text-align: right;\">\n",
       "      <th></th>\n",
       "      <th>age</th>\n",
       "      <th>size</th>\n",
       "      <th>breed_pop</th>\n",
       "      <th>breeds.mixed</th>\n",
       "      <th>contact.address.state</th>\n",
       "    </tr>\n",
       "  </thead>\n",
       "  <tbody>\n",
       "    <tr>\n",
       "      <th>0</th>\n",
       "      <td>Baby</td>\n",
       "      <td>Medium</td>\n",
       "      <td>High</td>\n",
       "      <td>True</td>\n",
       "      <td>MN</td>\n",
       "    </tr>\n",
       "    <tr>\n",
       "      <th>1</th>\n",
       "      <td>Adult</td>\n",
       "      <td>Medium</td>\n",
       "      <td>Medium</td>\n",
       "      <td>True</td>\n",
       "      <td>MD</td>\n",
       "    </tr>\n",
       "    <tr>\n",
       "      <th>2</th>\n",
       "      <td>Adult</td>\n",
       "      <td>Large</td>\n",
       "      <td>Low</td>\n",
       "      <td>False</td>\n",
       "      <td>NE</td>\n",
       "    </tr>\n",
       "    <tr>\n",
       "      <th>3</th>\n",
       "      <td>Baby</td>\n",
       "      <td>Small</td>\n",
       "      <td>Low</td>\n",
       "      <td>True</td>\n",
       "      <td>CA</td>\n",
       "    </tr>\n",
       "    <tr>\n",
       "      <th>4</th>\n",
       "      <td>Adult</td>\n",
       "      <td>Medium</td>\n",
       "      <td>Low</td>\n",
       "      <td>True</td>\n",
       "      <td>NH</td>\n",
       "    </tr>\n",
       "  </tbody>\n",
       "</table>\n",
       "</div>"
      ],
      "text/plain": [
       "     age    size breed_pop  breeds.mixed contact.address.state\n",
       "0   Baby  Medium      High          True                    MN\n",
       "1  Adult  Medium    Medium          True                    MD\n",
       "2  Adult   Large       Low         False                    NE\n",
       "3   Baby   Small       Low          True                    CA\n",
       "4  Adult  Medium       Low          True                    NH"
      ]
     },
     "execution_count": 108,
     "metadata": {},
     "output_type": "execute_result"
    }
   ],
   "source": [
    "#test with small number of features, take off gender, breed_pop\n",
    "X_features = ['age', 'size',\n",
    "               'breed_pop',\n",
    "              'breeds.mixed',\n",
    "             'contact.address.state']\n",
    "trainval_X = trainval[X_features]\n",
    "trainval_X.head()"
   ]
  },
  {
   "cell_type": "code",
   "execution_count": 129,
   "metadata": {},
   "outputs": [
    {
     "data": {
      "text/plain": [
       "Labrador Retriever                      1426\n",
       "Terrier                                 1120\n",
       "Chihuahua                                681\n",
       "Retriever                                617\n",
       "Shepherd                                 559\n",
       "                                        ... \n",
       "Saint Bernard                             15\n",
       "Lhasa Apso                                 8\n",
       "West Highland White Terrier / Westie       6\n",
       "Bichon Frise                               3\n",
       "Greyhound                                  2\n",
       "Name: breeds.primary, Length: 70, dtype: int64"
      ]
     },
     "execution_count": 129,
     "metadata": {},
     "output_type": "execute_result"
    }
   ],
   "source": [
    "trainval_X['breeds.primary'].value_counts()"
   ]
  },
  {
   "cell_type": "code",
   "execution_count": null,
   "metadata": {},
   "outputs": [],
   "source": [
    "#X_features = ['age', 'gender', 'size', 'breeds.primary', 'name_pop', 'breed_pop', 'month',\n",
    "#              'breeds.mixed', 'attributes.spayed_neutered', 'attributes.house_trained',\n",
    "#              'attributes.special_needs', 'attributes.shots_current', 'contact.address.state']\n",
    "#trainval_X = trainval[X_features]\n",
    "#trainval_X.head()"
   ]
  },
  {
   "cell_type": "code",
   "execution_count": 194,
   "metadata": {},
   "outputs": [
    {
     "data": {
      "text/plain": [
       "0    1 - 2 weeks\n",
       "1    1 - 2 weeks\n",
       "2       < 1 week\n",
       "3     < 3 months\n",
       "4     < 3 months\n",
       "Name: cg_adpt_time, dtype: category\n",
       "Categories (5, object): [1 - 2 weeks, < 1 month, < 1 week, < 3 months, > 3 months]"
      ]
     },
     "execution_count": 194,
     "metadata": {},
     "output_type": "execute_result"
    }
   ],
   "source": [
    "trainval_y = trainval['cg_adpt_time']\n",
    "trainval_y.head()"
   ]
  },
  {
   "cell_type": "code",
   "execution_count": 195,
   "metadata": {},
   "outputs": [
    {
     "data": {
      "text/html": [
       "<div>\n",
       "<style scoped>\n",
       "    .dataframe tbody tr th:only-of-type {\n",
       "        vertical-align: middle;\n",
       "    }\n",
       "\n",
       "    .dataframe tbody tr th {\n",
       "        vertical-align: top;\n",
       "    }\n",
       "\n",
       "    .dataframe thead th {\n",
       "        text-align: right;\n",
       "    }\n",
       "</style>\n",
       "<table border=\"1\" class=\"dataframe\">\n",
       "  <thead>\n",
       "    <tr style=\"text-align: right;\">\n",
       "      <th></th>\n",
       "      <th>age</th>\n",
       "      <th>gender</th>\n",
       "      <th>size</th>\n",
       "      <th>breed_pop</th>\n",
       "      <th>breeds.primary</th>\n",
       "      <th>breeds.mixed</th>\n",
       "      <th>contact.address.state</th>\n",
       "    </tr>\n",
       "  </thead>\n",
       "  <tbody>\n",
       "    <tr>\n",
       "      <th>0</th>\n",
       "      <td>Baby</td>\n",
       "      <td>Male</td>\n",
       "      <td>Medium</td>\n",
       "      <td>High</td>\n",
       "      <td>Labrador Retriever</td>\n",
       "      <td>True</td>\n",
       "      <td>MN</td>\n",
       "    </tr>\n",
       "    <tr>\n",
       "      <th>1</th>\n",
       "      <td>Adult</td>\n",
       "      <td>Female</td>\n",
       "      <td>Medium</td>\n",
       "      <td>Medium</td>\n",
       "      <td>Retriever</td>\n",
       "      <td>True</td>\n",
       "      <td>MD</td>\n",
       "    </tr>\n",
       "    <tr>\n",
       "      <th>2</th>\n",
       "      <td>Adult</td>\n",
       "      <td>Male</td>\n",
       "      <td>Large</td>\n",
       "      <td>Low</td>\n",
       "      <td>Great Pyrenees</td>\n",
       "      <td>False</td>\n",
       "      <td>NE</td>\n",
       "    </tr>\n",
       "    <tr>\n",
       "      <th>3</th>\n",
       "      <td>Baby</td>\n",
       "      <td>Male</td>\n",
       "      <td>Small</td>\n",
       "      <td>Low</td>\n",
       "      <td>Pomeranian</td>\n",
       "      <td>True</td>\n",
       "      <td>CA</td>\n",
       "    </tr>\n",
       "    <tr>\n",
       "      <th>4</th>\n",
       "      <td>Adult</td>\n",
       "      <td>Male</td>\n",
       "      <td>Medium</td>\n",
       "      <td>Low</td>\n",
       "      <td>Rare</td>\n",
       "      <td>True</td>\n",
       "      <td>NH</td>\n",
       "    </tr>\n",
       "  </tbody>\n",
       "</table>\n",
       "</div>"
      ],
      "text/plain": [
       "     age  gender    size breed_pop      breeds.primary  breeds.mixed  \\\n",
       "0   Baby    Male  Medium      High  Labrador Retriever          True   \n",
       "1  Adult  Female  Medium    Medium           Retriever          True   \n",
       "2  Adult    Male   Large       Low      Great Pyrenees         False   \n",
       "3   Baby    Male   Small       Low          Pomeranian          True   \n",
       "4  Adult    Male  Medium       Low                Rare          True   \n",
       "\n",
       "  contact.address.state  \n",
       "0                    MN  \n",
       "1                    MD  \n",
       "2                    NE  \n",
       "3                    CA  \n",
       "4                    NH  "
      ]
     },
     "execution_count": 195,
     "metadata": {},
     "output_type": "execute_result"
    }
   ],
   "source": [
    "trainval_X.head()"
   ]
  },
  {
   "cell_type": "markdown",
   "metadata": {},
   "source": [
    "# Split trainval into train and validation"
   ]
  },
  {
   "cell_type": "code",
   "execution_count": 196,
   "metadata": {},
   "outputs": [
    {
     "name": "stdout",
     "output_type": "stream",
     "text": [
      "Training set size = 387036 and Validation set size = 96760\n"
     ]
    }
   ],
   "source": [
    "from sklearn.model_selection import train_test_split\n",
    "train_X, val_X, train_y, val_y = train_test_split(trainval_X, trainval_y, test_size=0.2)\n",
    "print('Training set size = {} and Validation set size = {}'.format(len(train_X),len(val_X)))"
   ]
  },
  {
   "cell_type": "code",
   "execution_count": 197,
   "metadata": {},
   "outputs": [
    {
     "data": {
      "text/html": [
       "<div>\n",
       "<style scoped>\n",
       "    .dataframe tbody tr th:only-of-type {\n",
       "        vertical-align: middle;\n",
       "    }\n",
       "\n",
       "    .dataframe tbody tr th {\n",
       "        vertical-align: top;\n",
       "    }\n",
       "\n",
       "    .dataframe thead th {\n",
       "        text-align: right;\n",
       "    }\n",
       "</style>\n",
       "<table border=\"1\" class=\"dataframe\">\n",
       "  <thead>\n",
       "    <tr style=\"text-align: right;\">\n",
       "      <th></th>\n",
       "      <th>age</th>\n",
       "      <th>gender</th>\n",
       "      <th>size</th>\n",
       "      <th>breed_pop</th>\n",
       "      <th>breeds.primary</th>\n",
       "      <th>breeds.mixed</th>\n",
       "      <th>contact.address.state</th>\n",
       "    </tr>\n",
       "  </thead>\n",
       "  <tbody>\n",
       "    <tr>\n",
       "      <th>24690</th>\n",
       "      <td>Adult</td>\n",
       "      <td>Male</td>\n",
       "      <td>Large</td>\n",
       "      <td>Medium</td>\n",
       "      <td>Retriever</td>\n",
       "      <td>True</td>\n",
       "      <td>MA</td>\n",
       "    </tr>\n",
       "    <tr>\n",
       "      <th>54556</th>\n",
       "      <td>Adult</td>\n",
       "      <td>Male</td>\n",
       "      <td>Small</td>\n",
       "      <td>Low</td>\n",
       "      <td>Cocker Spaniel</td>\n",
       "      <td>False</td>\n",
       "      <td>TX</td>\n",
       "    </tr>\n",
       "    <tr>\n",
       "      <th>382824</th>\n",
       "      <td>Baby</td>\n",
       "      <td>Female</td>\n",
       "      <td>Medium</td>\n",
       "      <td>High</td>\n",
       "      <td>Terrier</td>\n",
       "      <td>True</td>\n",
       "      <td>IL</td>\n",
       "    </tr>\n",
       "    <tr>\n",
       "      <th>401514</th>\n",
       "      <td>Young</td>\n",
       "      <td>Female</td>\n",
       "      <td>Small</td>\n",
       "      <td>Low</td>\n",
       "      <td>West Highland White Terrier / Westie</td>\n",
       "      <td>True</td>\n",
       "      <td>NM</td>\n",
       "    </tr>\n",
       "    <tr>\n",
       "      <th>30470</th>\n",
       "      <td>Young</td>\n",
       "      <td>Male</td>\n",
       "      <td>Large</td>\n",
       "      <td>High</td>\n",
       "      <td>Labrador Retriever</td>\n",
       "      <td>True</td>\n",
       "      <td>OH</td>\n",
       "    </tr>\n",
       "  </tbody>\n",
       "</table>\n",
       "</div>"
      ],
      "text/plain": [
       "          age  gender    size breed_pop                        breeds.primary  \\\n",
       "24690   Adult    Male   Large    Medium                             Retriever   \n",
       "54556   Adult    Male   Small       Low                        Cocker Spaniel   \n",
       "382824   Baby  Female  Medium      High                               Terrier   \n",
       "401514  Young  Female   Small       Low  West Highland White Terrier / Westie   \n",
       "30470   Young    Male   Large      High                    Labrador Retriever   \n",
       "\n",
       "        breeds.mixed contact.address.state  \n",
       "24690           True                    MA  \n",
       "54556          False                    TX  \n",
       "382824          True                    IL  \n",
       "401514          True                    NM  \n",
       "30470           True                    OH  "
      ]
     },
     "execution_count": 197,
     "metadata": {},
     "output_type": "execute_result"
    }
   ],
   "source": [
    "train_X.head()"
   ]
  },
  {
   "cell_type": "code",
   "execution_count": 173,
   "metadata": {},
   "outputs": [],
   "source": [
    "from sklearn.preprocessing import OneHotEncoder\n",
    "oh = OneHotEncoder(handle_unknown='ignore', sparse=False)\n",
    "cat_col = ['age','gender','size','breeds.primary','breed_pop','contact.address.state']"
   ]
  },
  {
   "cell_type": "markdown",
   "metadata": {},
   "source": [
    "# One hot encode and train models"
   ]
  },
  {
   "cell_type": "code",
   "execution_count": null,
   "metadata": {},
   "outputs": [],
   "source": [
    "OH_cols_train = pd.DataFrame(oh.fit_transform(train_X[cat_col]))\n",
    "OH_cols_val = pd.DataFrame(oh.transform(val_X[cat_col]))\n",
    "# One-hot encoding removed index; put it back\n",
    "OH_cols_train.index = train_X.index\n",
    "OH_cols_val.index = val_X.index\n",
    "rest_train = train_X.drop(cat_col, axis=1)\n",
    "rest_val = val_X.drop(cat_col, axis=1)\n",
    "OH_train_X = pd.concat([rest_train, OH_cols_train], axis=1)\n",
    "OH_val_X = pd.concat([rest_val, OH_cols_val], axis=1)"
   ]
  },
  {
   "cell_type": "code",
   "execution_count": 174,
   "metadata": {},
   "outputs": [],
   "source": [
    "import warnings\n",
    "warnings.filterwarnings(\"ignore\", category=DeprecationWarning)\n",
    "from sklearn.ensemble import RandomForestClassifier\n",
    "from sklearn.model_selection import GridSearchCV\n",
    "import time\n",
    "from sklearn.metrics import precision_recall_fscore_support as score\n",
    "from sklearn.metrics import accuracy_score"
   ]
  },
  {
   "cell_type": "code",
   "execution_count": 75,
   "metadata": {},
   "outputs": [
    {
     "data": {
      "text/plain": [
       "CategoricalDtype(categories=['1 - 2 weeks', '< 1 month', '< 1 week', '< 3 months',\n",
       "                  '> 3 months'],\n",
       "                 ordered=False)"
      ]
     },
     "execution_count": 75,
     "metadata": {},
     "output_type": "execute_result"
    }
   ],
   "source": [
    "train_y.dtypes"
   ]
  },
  {
   "cell_type": "code",
   "execution_count": 84,
   "metadata": {},
   "outputs": [
    {
     "name": "stdout",
     "output_type": "stream",
     "text": [
      "Fit time: 27.989 / Predict time: 1.184 ---- Accuracy: 0.34\n"
     ]
    }
   ],
   "source": [
    "rf = RandomForestClassifier(n_estimators=150, max_depth=30, n_jobs=-1)\n",
    "\n",
    "start = time.time()\n",
    "rf_model = rf.fit(OH_train_X, train_y)\n",
    "end = time.time()\n",
    "fit_time = (end - start)\n",
    "\n",
    "start = time.time()\n",
    "y_pred = rf_model.predict(OH_val_X)\n",
    "end = time.time()\n",
    "pred_time = (end - start)\n",
    "\n",
    "#precision, recall, fscore, train_support = score(y_test, y_pred, pos_label='spam', average='binary')\n",
    "print('Fit time: {} / Predict time: {} ---- Accuracy: {}'.format(\n",
    "    round(fit_time, 3), round(pred_time, 3), round((y_pred==val_y).sum()/len(y_pred), 3)))"
   ]
  },
  {
   "cell_type": "code",
   "execution_count": 58,
   "metadata": {},
   "outputs": [
    {
     "name": "stdout",
     "output_type": "stream",
     "text": [
      "Fit time: 6.734 / Predict time: 0.476 ---- Accuracy: 0.32\n"
     ]
    }
   ],
   "source": [
    "rf = RandomForestClassifier(n_estimators=150, max_depth=None, n_jobs=-1)\n",
    "\n",
    "start = time.time()\n",
    "rf_model = rf.fit(OH_train_X, train_y)\n",
    "end = time.time()\n",
    "fit_time = (end - start)\n",
    "\n",
    "start = time.time()\n",
    "y_pred = rf_model.predict(OH_val_X)\n",
    "end = time.time()\n",
    "pred_time = (end - start)\n",
    "\n",
    "#precision, recall, fscore, train_support = score(y_test, y_pred, pos_label='spam', average='binary')\n",
    "print('Fit time: {} / Predict time: {} ---- Accuracy: {}'.format(\n",
    "    round(fit_time, 3), round(pred_time, 3), round((y_pred==val_y).sum()/len(y_pred), 3)))"
   ]
  },
  {
   "cell_type": "code",
   "execution_count": 96,
   "metadata": {},
   "outputs": [
    {
     "data": {
      "text/plain": [
       "array([[ 808,  338,  360,  718,  115],\n",
       "       [ 410,  390,  461,  964,  186],\n",
       "       [ 363,  378,  715, 1443,  255],\n",
       "       [ 313,  385,  703, 2358,  562],\n",
       "       [  94,  155,  246, 1123,  658]], dtype=int64)"
      ]
     },
     "execution_count": 96,
     "metadata": {},
     "output_type": "execute_result"
    }
   ],
   "source": [
    "from sklearn.metrics import confusion_matrix\n",
    "confusion_matrix(val_y, y_pred, labels=[\"< 1 week\" , \"1 - 2 weeks\", \"< 1 month\", \"< 100 days\", \"> 100 days\"])"
   ]
  },
  {
   "cell_type": "code",
   "execution_count": 97,
   "metadata": {},
   "outputs": [
    {
     "data": {
      "text/plain": [
       "2411"
      ]
     },
     "execution_count": 97,
     "metadata": {},
     "output_type": "execute_result"
    }
   ],
   "source": [
    "(val_y == '1 - 2 weeks').sum()"
   ]
  },
  {
   "cell_type": "code",
   "execution_count": 98,
   "metadata": {},
   "outputs": [],
   "source": [
    "feature_importances = pd.DataFrame(rf_model.feature_importances_,index = OH_train_X.columns,columns=['importance']).sort_values('importance',ascending=False)"
   ]
  },
  {
   "cell_type": "code",
   "execution_count": 99,
   "metadata": {},
   "outputs": [
    {
     "data": {
      "text/html": [
       "<div>\n",
       "<style scoped>\n",
       "    .dataframe tbody tr th:only-of-type {\n",
       "        vertical-align: middle;\n",
       "    }\n",
       "\n",
       "    .dataframe tbody tr th {\n",
       "        vertical-align: top;\n",
       "    }\n",
       "\n",
       "    .dataframe thead th {\n",
       "        text-align: right;\n",
       "    }\n",
       "</style>\n",
       "<table border=\"1\" class=\"dataframe\">\n",
       "  <thead>\n",
       "    <tr style=\"text-align: right;\">\n",
       "      <th></th>\n",
       "      <th>importance</th>\n",
       "    </tr>\n",
       "  </thead>\n",
       "  <tbody>\n",
       "    <tr>\n",
       "      <th>breeds.mixed</th>\n",
       "      <td>0.075601</td>\n",
       "    </tr>\n",
       "    <tr>\n",
       "      <th>attributes.house_trained</th>\n",
       "      <td>0.063092</td>\n",
       "    </tr>\n",
       "    <tr>\n",
       "      <th>attributes.shots_current</th>\n",
       "      <td>0.047451</td>\n",
       "    </tr>\n",
       "    <tr>\n",
       "      <th>attributes.spayed_neutered</th>\n",
       "      <td>0.044599</td>\n",
       "    </tr>\n",
       "    <tr>\n",
       "      <th>gender_Male</th>\n",
       "      <td>0.040937</td>\n",
       "    </tr>\n",
       "    <tr>\n",
       "      <th>...</th>\n",
       "      <td>...</td>\n",
       "    </tr>\n",
       "    <tr>\n",
       "      <th>breeds.primary_Kerry Blue Terrier</th>\n",
       "      <td>0.000012</td>\n",
       "    </tr>\n",
       "    <tr>\n",
       "      <th>breeds.primary_Munsterlander</th>\n",
       "      <td>0.000012</td>\n",
       "    </tr>\n",
       "    <tr>\n",
       "      <th>breeds.primary_Entlebucher</th>\n",
       "      <td>0.000009</td>\n",
       "    </tr>\n",
       "    <tr>\n",
       "      <th>breeds.primary_Afghan Hound</th>\n",
       "      <td>0.000006</td>\n",
       "    </tr>\n",
       "    <tr>\n",
       "      <th>breeds.primary_Hovawart</th>\n",
       "      <td>0.000003</td>\n",
       "    </tr>\n",
       "  </tbody>\n",
       "</table>\n",
       "<p>253 rows × 1 columns</p>\n",
       "</div>"
      ],
      "text/plain": [
       "                                   importance\n",
       "breeds.mixed                         0.075601\n",
       "attributes.house_trained             0.063092\n",
       "attributes.shots_current             0.047451\n",
       "attributes.spayed_neutered           0.044599\n",
       "gender_Male                          0.040937\n",
       "...                                       ...\n",
       "breeds.primary_Kerry Blue Terrier    0.000012\n",
       "breeds.primary_Munsterlander         0.000012\n",
       "breeds.primary_Entlebucher           0.000009\n",
       "breeds.primary_Afghan Hound          0.000006\n",
       "breeds.primary_Hovawart              0.000003\n",
       "\n",
       "[253 rows x 1 columns]"
      ]
     },
     "execution_count": 99,
     "metadata": {},
     "output_type": "execute_result"
    }
   ],
   "source": [
    "feature_importances"
   ]
  },
  {
   "cell_type": "code",
   "execution_count": 100,
   "metadata": {},
   "outputs": [],
   "source": [
    "import pickle\n",
    "filename = './models/rfmodel_cg.sav'\n",
    "pickle.dump(rf_model, open(filename, 'wb'))"
   ]
  },
  {
   "cell_type": "markdown",
   "metadata": {},
   "source": [
    "# Train models using a pipeline for real time predictions"
   ]
  },
  {
   "cell_type": "code",
   "execution_count": 96,
   "metadata": {},
   "outputs": [],
   "source": [
    "from sklearn.pipeline import Pipeline"
   ]
  },
  {
   "cell_type": "code",
   "execution_count": 153,
   "metadata": {},
   "outputs": [],
   "source": [
    "oh = OneHotEncoder(handle_unknown='ignore', sparse=False)\n",
    "rf = RandomForestClassifier(n_estimators=150, max_depth=30, n_jobs=-1)\n",
    "pipeline_temp = Pipeline(steps=[('preprocessor', oh),('model', rf)])"
   ]
  },
  {
   "cell_type": "code",
   "execution_count": 154,
   "metadata": {},
   "outputs": [
    {
     "name": "stdout",
     "output_type": "stream",
     "text": [
      "Fit time : 0.6187512874603271\n"
     ]
    }
   ],
   "source": [
    "start = time.time()\n",
    "pipeline_temp.fit(train_X, train_y)\n",
    "end = time.time()\n",
    "fit_time = end - start\n",
    "print(\"Fit time : {}\".format(fit_time))"
   ]
  },
  {
   "cell_type": "code",
   "execution_count": 175,
   "metadata": {},
   "outputs": [],
   "source": [
    "from sklearn.linear_model import LogisticRegression"
   ]
  },
  {
   "cell_type": "code",
   "execution_count": 198,
   "metadata": {},
   "outputs": [],
   "source": [
    "oh = OneHotEncoder(handle_unknown='ignore', sparse=False)\n",
    "lr = LogisticRegression(max_iter = 1000, n_jobs=-1)\n",
    "pipeline_temp3 = Pipeline(steps=[('preprocessor', oh),('model', rf)])"
   ]
  },
  {
   "cell_type": "code",
   "execution_count": 199,
   "metadata": {},
   "outputs": [
    {
     "name": "stdout",
     "output_type": "stream",
     "text": [
      "Fit time : 162.92299795150757\n"
     ]
    }
   ],
   "source": [
    "start = time.time()\n",
    "pipeline_temp3.fit(train_X, train_y)\n",
    "end = time.time()\n",
    "fit_time = end - start\n",
    "print(\"Fit time : {}\".format(fit_time))"
   ]
  },
  {
   "cell_type": "code",
   "execution_count": 200,
   "metadata": {},
   "outputs": [],
   "source": [
    "y_pred = pipeline_temp3.predict(val_X)"
   ]
  },
  {
   "cell_type": "code",
   "execution_count": 201,
   "metadata": {},
   "outputs": [
    {
     "data": {
      "text/plain": [
       "0.316"
      ]
     },
     "execution_count": 201,
     "metadata": {},
     "output_type": "execute_result"
    }
   ],
   "source": [
    "round((y_pred==val_y).sum()/len(y_pred), 3)"
   ]
  },
  {
   "cell_type": "code",
   "execution_count": 202,
   "metadata": {},
   "outputs": [],
   "source": [
    "import pickle\n",
    "filename = './models/lrpipe_cg.pkl'\n",
    "pickle.dump(pipeline_temp3, open(filename, 'wb'))"
   ]
  },
  {
   "cell_type": "code",
   "execution_count": 188,
   "metadata": {},
   "outputs": [
    {
     "data": {
      "text/html": [
       "<div>\n",
       "<style scoped>\n",
       "    .dataframe tbody tr th:only-of-type {\n",
       "        vertical-align: middle;\n",
       "    }\n",
       "\n",
       "    .dataframe tbody tr th {\n",
       "        vertical-align: top;\n",
       "    }\n",
       "\n",
       "    .dataframe thead th {\n",
       "        text-align: right;\n",
       "    }\n",
       "</style>\n",
       "<table border=\"1\" class=\"dataframe\">\n",
       "  <thead>\n",
       "    <tr style=\"text-align: right;\">\n",
       "      <th></th>\n",
       "      <th>age</th>\n",
       "      <th>gender</th>\n",
       "      <th>size</th>\n",
       "      <th>breed_pop</th>\n",
       "      <th>breeds.primary</th>\n",
       "      <th>breeds.mixed</th>\n",
       "    </tr>\n",
       "  </thead>\n",
       "  <tbody>\n",
       "    <tr>\n",
       "      <th>480227</th>\n",
       "      <td>Baby</td>\n",
       "      <td>Female</td>\n",
       "      <td>Small</td>\n",
       "      <td>Medium</td>\n",
       "      <td>Dachshund</td>\n",
       "      <td>True</td>\n",
       "    </tr>\n",
       "    <tr>\n",
       "      <th>279249</th>\n",
       "      <td>Baby</td>\n",
       "      <td>Female</td>\n",
       "      <td>Medium</td>\n",
       "      <td>Medium</td>\n",
       "      <td>Boxer</td>\n",
       "      <td>True</td>\n",
       "    </tr>\n",
       "    <tr>\n",
       "      <th>76894</th>\n",
       "      <td>Baby</td>\n",
       "      <td>Male</td>\n",
       "      <td>Medium</td>\n",
       "      <td>High</td>\n",
       "      <td>Terrier</td>\n",
       "      <td>True</td>\n",
       "    </tr>\n",
       "    <tr>\n",
       "      <th>248831</th>\n",
       "      <td>Young</td>\n",
       "      <td>Male</td>\n",
       "      <td>Large</td>\n",
       "      <td>Medium</td>\n",
       "      <td>Australian Shepherd</td>\n",
       "      <td>False</td>\n",
       "    </tr>\n",
       "    <tr>\n",
       "      <th>281824</th>\n",
       "      <td>Senior</td>\n",
       "      <td>Male</td>\n",
       "      <td>Large</td>\n",
       "      <td>Low</td>\n",
       "      <td>Great Dane</td>\n",
       "      <td>False</td>\n",
       "    </tr>\n",
       "  </tbody>\n",
       "</table>\n",
       "</div>"
      ],
      "text/plain": [
       "           age  gender    size breed_pop       breeds.primary  breeds.mixed\n",
       "480227    Baby  Female   Small    Medium            Dachshund          True\n",
       "279249    Baby  Female  Medium    Medium                Boxer          True\n",
       "76894     Baby    Male  Medium      High              Terrier          True\n",
       "248831   Young    Male   Large    Medium  Australian Shepherd         False\n",
       "281824  Senior    Male   Large       Low           Great Dane         False"
      ]
     },
     "execution_count": 188,
     "metadata": {},
     "output_type": "execute_result"
    }
   ],
   "source": [
    "train_X.head()"
   ]
  },
  {
   "cell_type": "code",
   "execution_count": 190,
   "metadata": {},
   "outputs": [
    {
     "data": {
      "text/plain": [
       "387036"
      ]
     },
     "execution_count": 190,
     "metadata": {},
     "output_type": "execute_result"
    }
   ],
   "source": [
    "len(train_X)"
   ]
  },
  {
   "cell_type": "code",
   "execution_count": 157,
   "metadata": {},
   "outputs": [
    {
     "data": {
      "text/plain": [
       "0.361"
      ]
     },
     "execution_count": 157,
     "metadata": {},
     "output_type": "execute_result"
    }
   ],
   "source": [
    "y_pred_train = pipeline_temp.predict(train_X)\n",
    "round((y_pred_train==train_y).sum()/len(y_pred_train), 3)"
   ]
  },
  {
   "cell_type": "code",
   "execution_count": 158,
   "metadata": {},
   "outputs": [
    {
     "data": {
      "text/plain": [
       "array([[445,  13,  22, 188,  24],\n",
       "       [197,  12,  31, 231,  35],\n",
       "       [179,  11,  40, 271,  57],\n",
       "       [134,  10,  56, 408,  99],\n",
       "       [ 59,   3,  37, 317, 111]], dtype=int64)"
      ]
     },
     "execution_count": 158,
     "metadata": {},
     "output_type": "execute_result"
    }
   ],
   "source": [
    "from sklearn.metrics import confusion_matrix\n",
    "confusion_matrix(val_y, y_pred, labels=[\"< 1 week\" , \"1 - 2 weeks\", \"< 1 month\", \"< 3 months\", \"> 3 months\"])"
   ]
  },
  {
   "cell_type": "code",
   "execution_count": 117,
   "metadata": {},
   "outputs": [
    {
     "data": {
      "image/png": "[encoded data removed]",
      "text/plain": [
       "<Figure size 432x288 with 1 Axes>"
      ]
     },
     "metadata": {
      "needs_background": "light"
     },
     "output_type": "display_data"
    }
   ],
   "source": [
    "plt.bar(range(len(pipeline_temp['model'].feature_importances_)), pipeline_temp['model'].feature_importances_)\n",
    "plt.show()"
   ]
  },
  {
   "cell_type": "markdown",
   "metadata": {},
   "source": [
    "# Try Gradient Boosting"
   ]
  },
  {
   "cell_type": "code",
   "execution_count": 151,
   "metadata": {},
   "outputs": [],
   "source": [
    "from sklearn.ensemble import GradientBoostingClassifier\n",
    "oh2 = OneHotEncoder(handle_unknown='ignore', sparse=False)\n",
    "gb = GradientBoostingClassifier(n_estimators=150, max_depth=30, learning_rate=0.3)\n",
    "pipeline_temp2 = Pipeline(steps=[('preprocessor', oh2),('model', gb)])"
   ]
  },
  {
   "cell_type": "code",
   "execution_count": 152,
   "metadata": {},
   "outputs": [
    {
     "data": {
      "text/plain": [
       "Pipeline(memory=None,\n",
       "         steps=[('preprocessor',\n",
       "                 OneHotEncoder(categories='auto', drop=None,\n",
       "                               dtype=<class 'numpy.float64'>,\n",
       "                               handle_unknown='ignore', sparse=False)),\n",
       "                ('model',\n",
       "                 GradientBoostingClassifier(ccp_alpha=0.0,\n",
       "                                            criterion='friedman_mse', init=None,\n",
       "                                            learning_rate=0.3, loss='deviance',\n",
       "                                            max_depth=30, max_features=None,\n",
       "                                            max_leaf_nodes=None,\n",
       "                                            min_impurity_decrease=0.0,\n",
       "                                            min_impurity_split=None,\n",
       "                                            min_samples_leaf=1,\n",
       "                                            min_samples_split=2,\n",
       "                                            min_weight_fraction_leaf=0.0,\n",
       "                                            n_estimators=150,\n",
       "                                            n_iter_no_change=None,\n",
       "                                            presort='deprecated',\n",
       "                                            random_state=None, subsample=1.0,\n",
       "                                            tol=0.0001, validation_fraction=0.1,\n",
       "                                            verbose=0, warm_start=False))],\n",
       "         verbose=False)"
      ]
     },
     "execution_count": 152,
     "metadata": {},
     "output_type": "execute_result"
    }
   ],
   "source": [
    "pipeline_temp2.fit(train_X, train_y)"
   ]
  },
  {
   "cell_type": "code",
   "execution_count": 155,
   "metadata": {},
   "outputs": [
    {
     "data": {
      "text/plain": [
       "0.326"
      ]
     },
     "execution_count": 155,
     "metadata": {},
     "output_type": "execute_result"
    }
   ],
   "source": [
    "y_pred2 = pipeline_temp2.predict(val_X)\n",
    "round((y_pred2==val_y).sum()/len(y_pred), 3)"
   ]
  },
  {
   "cell_type": "code",
   "execution_count": 128,
   "metadata": {},
   "outputs": [],
   "source": [
    "import pickle\n",
    "filename = './models/rfpipe_cg.pkl'\n",
    "pickle.dump(pipeline_temp, open(filename, 'wb'))"
   ]
  },
  {
   "cell_type": "code",
   "execution_count": 11,
   "metadata": {},
   "outputs": [],
   "source": [
    "from sklearn.ensemble import RandomForestRegressor\n",
    "from sklearn.tree import DecisionTreeRegressor\n",
    "from sklearn.linear_model import LogisticRegression\n",
    "from xgboost import XGBRegressor\n",
    "from sklearn.pipeline import Pipeline\n",
    "from sklearn.model_selection import cross_val_score\n",
    "from sklearn.metrics import mean_absolute_error\n",
    "#pipeline_1 = Pipeline(steps=[('model', RandomForestRegressor(random_state=0))])\n",
    "#pipeline_2 = Pipeline(steps=[('model', DecisionTreeRegressor(random_state=0))])\n",
    "#pipeline_3 = Pipeline(steps=[('model', XGBRegressor(random_state=0))])"
   ]
  }
 ],
 "metadata": {
  "kernelspec": {
   "display_name": "Python 3",
   "language": "python",
   "name": "python3"
  },
  "language_info": {
   "codemirror_mode": {
    "name": "ipython",
    "version": 3
   },
   "file_extension": ".py",
   "mimetype": "text/x-python",
   "name": "python",
   "nbconvert_exporter": "python",
   "pygments_lexer": "ipython3",
   "version": "3.7.6"
  }
 },
 "nbformat": 4,
 "nbformat_minor": 2
}
