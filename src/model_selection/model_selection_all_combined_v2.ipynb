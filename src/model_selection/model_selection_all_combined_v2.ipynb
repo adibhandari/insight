{
 "cells": [
  {
   "cell_type": "markdown",
   "metadata": {},
   "source": [
    "# Import libraries and read in trainval and test datasets"
   ]
  },
  {
   "cell_type": "code",
   "execution_count": 2,
   "metadata": {},
   "outputs": [],
   "source": [
    "#merge data from several states\n",
    "import numpy as np\n",
    "import pandas as pd\n",
    "import matplotlib.pyplot as plt"
   ]
  },
  {
   "cell_type": "code",
   "execution_count": 3,
   "metadata": {},
   "outputs": [
    {
     "data": {
      "text/html": [
       "<div>\n",
       "<style scoped>\n",
       "    .dataframe tbody tr th:only-of-type {\n",
       "        vertical-align: middle;\n",
       "    }\n",
       "\n",
       "    .dataframe tbody tr th {\n",
       "        vertical-align: top;\n",
       "    }\n",
       "\n",
       "    .dataframe thead th {\n",
       "        text-align: right;\n",
       "    }\n",
       "</style>\n",
       "<table border=\"1\" class=\"dataframe\">\n",
       "  <thead>\n",
       "    <tr style=\"text-align: right;\">\n",
       "      <th></th>\n",
       "      <th>id</th>\n",
       "      <th>age</th>\n",
       "      <th>gender</th>\n",
       "      <th>size</th>\n",
       "      <th>breeds.primary</th>\n",
       "      <th>breeds.mixed</th>\n",
       "      <th>log_breed_pop</th>\n",
       "      <th>breed_popularity</th>\n",
       "      <th>contact.address.state</th>\n",
       "      <th>log_dog_pop</th>\n",
       "      <th>state_population</th>\n",
       "      <th>state_area</th>\n",
       "      <th>state_region</th>\n",
       "      <th>cg_adpt_time</th>\n",
       "    </tr>\n",
       "  </thead>\n",
       "  <tbody>\n",
       "    <tr>\n",
       "      <th>0</th>\n",
       "      <td>36351232</td>\n",
       "      <td>1</td>\n",
       "      <td>Male</td>\n",
       "      <td>2</td>\n",
       "      <td>Labrador Retriever</td>\n",
       "      <td>True</td>\n",
       "      <td>11.241825</td>\n",
       "      <td>High</td>\n",
       "      <td>SC</td>\n",
       "      <td>9.580524</td>\n",
       "      <td>15.442575</td>\n",
       "      <td>10.373710</td>\n",
       "      <td>South</td>\n",
       "      <td>&lt; 1 month</td>\n",
       "    </tr>\n",
       "    <tr>\n",
       "      <th>1</th>\n",
       "      <td>43002404</td>\n",
       "      <td>3</td>\n",
       "      <td>Male</td>\n",
       "      <td>2</td>\n",
       "      <td>Chocolate Labrador Retriever</td>\n",
       "      <td>True</td>\n",
       "      <td>7.844241</td>\n",
       "      <td>Low</td>\n",
       "      <td>LA</td>\n",
       "      <td>10.005954</td>\n",
       "      <td>15.359345</td>\n",
       "      <td>10.855975</td>\n",
       "      <td>South</td>\n",
       "      <td>1 - 2 weeks</td>\n",
       "    </tr>\n",
       "    <tr>\n",
       "      <th>2</th>\n",
       "      <td>33793853</td>\n",
       "      <td>2</td>\n",
       "      <td>Female</td>\n",
       "      <td>1</td>\n",
       "      <td>Beagle</td>\n",
       "      <td>False</td>\n",
       "      <td>9.883234</td>\n",
       "      <td>Medium</td>\n",
       "      <td>MA</td>\n",
       "      <td>10.196456</td>\n",
       "      <td>15.746440</td>\n",
       "      <td>9.264355</td>\n",
       "      <td>Northeast</td>\n",
       "      <td>&lt; 1 month</td>\n",
       "    </tr>\n",
       "    <tr>\n",
       "      <th>3</th>\n",
       "      <td>35622718</td>\n",
       "      <td>4</td>\n",
       "      <td>Female</td>\n",
       "      <td>2</td>\n",
       "      <td>Labrador Retriever</td>\n",
       "      <td>True</td>\n",
       "      <td>11.241825</td>\n",
       "      <td>High</td>\n",
       "      <td>AZ</td>\n",
       "      <td>10.126591</td>\n",
       "      <td>15.778966</td>\n",
       "      <td>11.644006</td>\n",
       "      <td>West</td>\n",
       "      <td>&gt; 3 months</td>\n",
       "    </tr>\n",
       "    <tr>\n",
       "      <th>4</th>\n",
       "      <td>45977377</td>\n",
       "      <td>3</td>\n",
       "      <td>Female</td>\n",
       "      <td>2</td>\n",
       "      <td>Border Collie</td>\n",
       "      <td>True</td>\n",
       "      <td>9.400465</td>\n",
       "      <td>Medium</td>\n",
       "      <td>LA</td>\n",
       "      <td>10.005954</td>\n",
       "      <td>15.359345</td>\n",
       "      <td>10.855975</td>\n",
       "      <td>South</td>\n",
       "      <td>&lt; 3 months</td>\n",
       "    </tr>\n",
       "  </tbody>\n",
       "</table>\n",
       "</div>"
      ],
      "text/plain": [
       "         id  age  gender  size                breeds.primary  breeds.mixed  \\\n",
       "0  36351232    1    Male     2            Labrador Retriever          True   \n",
       "1  43002404    3    Male     2  Chocolate Labrador Retriever          True   \n",
       "2  33793853    2  Female     1                        Beagle         False   \n",
       "3  35622718    4  Female     2            Labrador Retriever          True   \n",
       "4  45977377    3  Female     2                 Border Collie          True   \n",
       "\n",
       "   log_breed_pop breed_popularity contact.address.state  log_dog_pop  \\\n",
       "0      11.241825             High                    SC     9.580524   \n",
       "1       7.844241              Low                    LA    10.005954   \n",
       "2       9.883234           Medium                    MA    10.196456   \n",
       "3      11.241825             High                    AZ    10.126591   \n",
       "4       9.400465           Medium                    LA    10.005954   \n",
       "\n",
       "   state_population  state_area state_region cg_adpt_time  \n",
       "0         15.442575   10.373710        South    < 1 month  \n",
       "1         15.359345   10.855975        South  1 - 2 weeks  \n",
       "2         15.746440    9.264355    Northeast    < 1 month  \n",
       "3         15.778966   11.644006         West   > 3 months  \n",
       "4         15.359345   10.855975        South   < 3 months  "
      ]
     },
     "execution_count": 3,
     "metadata": {},
     "output_type": "execute_result"
    }
   ],
   "source": [
    "trainval = pd.read_csv('./data/trainval_all_combined_v2.csv')\n",
    "trainval.head()"
   ]
  },
  {
   "cell_type": "code",
   "execution_count": 4,
   "metadata": {},
   "outputs": [
    {
     "data": {
      "text/html": [
       "<div>\n",
       "<style scoped>\n",
       "    .dataframe tbody tr th:only-of-type {\n",
       "        vertical-align: middle;\n",
       "    }\n",
       "\n",
       "    .dataframe tbody tr th {\n",
       "        vertical-align: top;\n",
       "    }\n",
       "\n",
       "    .dataframe thead th {\n",
       "        text-align: right;\n",
       "    }\n",
       "</style>\n",
       "<table border=\"1\" class=\"dataframe\">\n",
       "  <thead>\n",
       "    <tr style=\"text-align: right;\">\n",
       "      <th></th>\n",
       "      <th>id</th>\n",
       "      <th>age</th>\n",
       "      <th>gender</th>\n",
       "      <th>size</th>\n",
       "      <th>breeds.primary</th>\n",
       "      <th>breeds.mixed</th>\n",
       "      <th>log_breed_pop</th>\n",
       "      <th>breed_popularity</th>\n",
       "      <th>contact.address.state</th>\n",
       "      <th>log_dog_pop</th>\n",
       "      <th>state_population</th>\n",
       "      <th>state_area</th>\n",
       "      <th>state_region</th>\n",
       "      <th>cg_adpt_time</th>\n",
       "    </tr>\n",
       "  </thead>\n",
       "  <tbody>\n",
       "    <tr>\n",
       "      <th>0</th>\n",
       "      <td>35051791</td>\n",
       "      <td>4</td>\n",
       "      <td>Male</td>\n",
       "      <td>1</td>\n",
       "      <td>Shih Tzu</td>\n",
       "      <td>True</td>\n",
       "      <td>9.274910</td>\n",
       "      <td>Medium</td>\n",
       "      <td>WA</td>\n",
       "      <td>9.942420</td>\n",
       "      <td>15.834479</td>\n",
       "      <td>11.174694</td>\n",
       "      <td>West</td>\n",
       "      <td>&lt; 3 months</td>\n",
       "    </tr>\n",
       "    <tr>\n",
       "      <th>1</th>\n",
       "      <td>39808452</td>\n",
       "      <td>1</td>\n",
       "      <td>Female</td>\n",
       "      <td>1</td>\n",
       "      <td>Terrier</td>\n",
       "      <td>True</td>\n",
       "      <td>10.291332</td>\n",
       "      <td>High</td>\n",
       "      <td>OR</td>\n",
       "      <td>9.680344</td>\n",
       "      <td>15.250491</td>\n",
       "      <td>11.496654</td>\n",
       "      <td>West</td>\n",
       "      <td>&lt; 1 week</td>\n",
       "    </tr>\n",
       "    <tr>\n",
       "      <th>2</th>\n",
       "      <td>32838635</td>\n",
       "      <td>3</td>\n",
       "      <td>Female</td>\n",
       "      <td>3</td>\n",
       "      <td>Golden Retriever</td>\n",
       "      <td>False</td>\n",
       "      <td>8.728912</td>\n",
       "      <td>Low</td>\n",
       "      <td>ME</td>\n",
       "      <td>9.285448</td>\n",
       "      <td>14.109360</td>\n",
       "      <td>10.474100</td>\n",
       "      <td>Northeast</td>\n",
       "      <td>&lt; 1 week</td>\n",
       "    </tr>\n",
       "    <tr>\n",
       "      <th>3</th>\n",
       "      <td>29518856</td>\n",
       "      <td>3</td>\n",
       "      <td>Female</td>\n",
       "      <td>3</td>\n",
       "      <td>Greyhound</td>\n",
       "      <td>False</td>\n",
       "      <td>8.146709</td>\n",
       "      <td>Low</td>\n",
       "      <td>GA</td>\n",
       "      <td>9.815039</td>\n",
       "      <td>16.171175</td>\n",
       "      <td>10.992740</td>\n",
       "      <td>South</td>\n",
       "      <td>&gt; 3 months</td>\n",
       "    </tr>\n",
       "    <tr>\n",
       "      <th>4</th>\n",
       "      <td>31272523</td>\n",
       "      <td>2</td>\n",
       "      <td>Male</td>\n",
       "      <td>3</td>\n",
       "      <td>Shepherd</td>\n",
       "      <td>False</td>\n",
       "      <td>10.066074</td>\n",
       "      <td>Medium</td>\n",
       "      <td>NV</td>\n",
       "      <td>9.605957</td>\n",
       "      <td>14.932887</td>\n",
       "      <td>11.613377</td>\n",
       "      <td>West</td>\n",
       "      <td>&lt; 1 month</td>\n",
       "    </tr>\n",
       "  </tbody>\n",
       "</table>\n",
       "</div>"
      ],
      "text/plain": [
       "         id  age  gender  size    breeds.primary  breeds.mixed  log_breed_pop  \\\n",
       "0  35051791    4    Male     1          Shih Tzu          True       9.274910   \n",
       "1  39808452    1  Female     1           Terrier          True      10.291332   \n",
       "2  32838635    3  Female     3  Golden Retriever         False       8.728912   \n",
       "3  29518856    3  Female     3         Greyhound         False       8.146709   \n",
       "4  31272523    2    Male     3          Shepherd         False      10.066074   \n",
       "\n",
       "  breed_popularity contact.address.state  log_dog_pop  state_population  \\\n",
       "0           Medium                    WA     9.942420         15.834479   \n",
       "1             High                    OR     9.680344         15.250491   \n",
       "2              Low                    ME     9.285448         14.109360   \n",
       "3              Low                    GA     9.815039         16.171175   \n",
       "4           Medium                    NV     9.605957         14.932887   \n",
       "\n",
       "   state_area state_region cg_adpt_time  \n",
       "0   11.174694         West   < 3 months  \n",
       "1   11.496654         West     < 1 week  \n",
       "2   10.474100    Northeast     < 1 week  \n",
       "3   10.992740        South   > 3 months  \n",
       "4   11.613377         West    < 1 month  "
      ]
     },
     "execution_count": 4,
     "metadata": {},
     "output_type": "execute_result"
    }
   ],
   "source": [
    "test = pd.read_csv('./data/test_all_combined_v2.csv')\n",
    "test.head()"
   ]
  },
  {
   "cell_type": "markdown",
   "metadata": {},
   "source": [
    "# Convert columns and check for any remaining missing values"
   ]
  },
  {
   "cell_type": "code",
   "execution_count": 6,
   "metadata": {},
   "outputs": [],
   "source": [
    "# Convert columns and check for any remaining missing values\n",
    "cat_col = ['gender','breeds.primary','breed_popularity','contact.address.state','state_region','cg_adpt_time']\n",
    "trainval[cat_col]=trainval[cat_col].astype('category')\n",
    "test[cat_col]=test[cat_col].astype('category')"
   ]
  },
  {
   "cell_type": "code",
   "execution_count": 7,
   "metadata": {},
   "outputs": [
    {
     "name": "stdout",
     "output_type": "stream",
     "text": [
      "Table size - (483796, 14)\n",
      "Checking for missing values..\n",
      "Series([], dtype: int64)\n"
     ]
    }
   ],
   "source": [
    "# Check for any missing data\n",
    "print(\"Table size -\", end=' ')\n",
    "print(trainval.shape)\n",
    "\n",
    "print(\"Checking for missing values..\")\n",
    "# Number of missing values in each column of training data\n",
    "missing_val_count_by_column = (trainval.isnull().sum())\n",
    "print(missing_val_count_by_column[missing_val_count_by_column > 0])\n",
    "\n",
    "# Get names of columns with missing values\n",
    "#missing_cols = [col for col in extension_data.columns\n",
    "#                     if extension_train[col].isnull().any()]"
   ]
  },
  {
   "cell_type": "code",
   "execution_count": 8,
   "metadata": {},
   "outputs": [
    {
     "data": {
      "text/plain": [
       "483796"
      ]
     },
     "execution_count": 8,
     "metadata": {},
     "output_type": "execute_result"
    }
   ],
   "source": [
    "len(trainval)"
   ]
  },
  {
   "cell_type": "markdown",
   "metadata": {},
   "source": [
    "# Divide into features and target"
   ]
  },
  {
   "cell_type": "code",
   "execution_count": 9,
   "metadata": {},
   "outputs": [
    {
     "data": {
      "text/html": [
       "<div>\n",
       "<style scoped>\n",
       "    .dataframe tbody tr th:only-of-type {\n",
       "        vertical-align: middle;\n",
       "    }\n",
       "\n",
       "    .dataframe tbody tr th {\n",
       "        vertical-align: top;\n",
       "    }\n",
       "\n",
       "    .dataframe thead th {\n",
       "        text-align: right;\n",
       "    }\n",
       "</style>\n",
       "<table border=\"1\" class=\"dataframe\">\n",
       "  <thead>\n",
       "    <tr style=\"text-align: right;\">\n",
       "      <th></th>\n",
       "      <th>age</th>\n",
       "      <th>gender</th>\n",
       "      <th>size</th>\n",
       "      <th>breeds.primary</th>\n",
       "      <th>breeds.mixed</th>\n",
       "      <th>breed_popularity</th>\n",
       "      <th>log_breed_pop</th>\n",
       "      <th>log_dog_pop</th>\n",
       "      <th>state_population</th>\n",
       "      <th>state_area</th>\n",
       "      <th>state_region</th>\n",
       "      <th>contact.address.state</th>\n",
       "    </tr>\n",
       "  </thead>\n",
       "  <tbody>\n",
       "    <tr>\n",
       "      <th>0</th>\n",
       "      <td>1</td>\n",
       "      <td>Male</td>\n",
       "      <td>2</td>\n",
       "      <td>Labrador Retriever</td>\n",
       "      <td>True</td>\n",
       "      <td>High</td>\n",
       "      <td>11.241825</td>\n",
       "      <td>9.580524</td>\n",
       "      <td>15.442575</td>\n",
       "      <td>10.373710</td>\n",
       "      <td>South</td>\n",
       "      <td>SC</td>\n",
       "    </tr>\n",
       "    <tr>\n",
       "      <th>1</th>\n",
       "      <td>3</td>\n",
       "      <td>Male</td>\n",
       "      <td>2</td>\n",
       "      <td>Chocolate Labrador Retriever</td>\n",
       "      <td>True</td>\n",
       "      <td>Low</td>\n",
       "      <td>7.844241</td>\n",
       "      <td>10.005954</td>\n",
       "      <td>15.359345</td>\n",
       "      <td>10.855975</td>\n",
       "      <td>South</td>\n",
       "      <td>LA</td>\n",
       "    </tr>\n",
       "    <tr>\n",
       "      <th>2</th>\n",
       "      <td>2</td>\n",
       "      <td>Female</td>\n",
       "      <td>1</td>\n",
       "      <td>Beagle</td>\n",
       "      <td>False</td>\n",
       "      <td>Medium</td>\n",
       "      <td>9.883234</td>\n",
       "      <td>10.196456</td>\n",
       "      <td>15.746440</td>\n",
       "      <td>9.264355</td>\n",
       "      <td>Northeast</td>\n",
       "      <td>MA</td>\n",
       "    </tr>\n",
       "    <tr>\n",
       "      <th>3</th>\n",
       "      <td>4</td>\n",
       "      <td>Female</td>\n",
       "      <td>2</td>\n",
       "      <td>Labrador Retriever</td>\n",
       "      <td>True</td>\n",
       "      <td>High</td>\n",
       "      <td>11.241825</td>\n",
       "      <td>10.126591</td>\n",
       "      <td>15.778966</td>\n",
       "      <td>11.644006</td>\n",
       "      <td>West</td>\n",
       "      <td>AZ</td>\n",
       "    </tr>\n",
       "    <tr>\n",
       "      <th>4</th>\n",
       "      <td>3</td>\n",
       "      <td>Female</td>\n",
       "      <td>2</td>\n",
       "      <td>Border Collie</td>\n",
       "      <td>True</td>\n",
       "      <td>Medium</td>\n",
       "      <td>9.400465</td>\n",
       "      <td>10.005954</td>\n",
       "      <td>15.359345</td>\n",
       "      <td>10.855975</td>\n",
       "      <td>South</td>\n",
       "      <td>LA</td>\n",
       "    </tr>\n",
       "  </tbody>\n",
       "</table>\n",
       "</div>"
      ],
      "text/plain": [
       "   age  gender  size                breeds.primary  breeds.mixed  \\\n",
       "0    1    Male     2            Labrador Retriever          True   \n",
       "1    3    Male     2  Chocolate Labrador Retriever          True   \n",
       "2    2  Female     1                        Beagle         False   \n",
       "3    4  Female     2            Labrador Retriever          True   \n",
       "4    3  Female     2                 Border Collie          True   \n",
       "\n",
       "  breed_popularity  log_breed_pop  log_dog_pop  state_population  state_area  \\\n",
       "0             High      11.241825     9.580524         15.442575   10.373710   \n",
       "1              Low       7.844241    10.005954         15.359345   10.855975   \n",
       "2           Medium       9.883234    10.196456         15.746440    9.264355   \n",
       "3             High      11.241825    10.126591         15.778966   11.644006   \n",
       "4           Medium       9.400465    10.005954         15.359345   10.855975   \n",
       "\n",
       "  state_region contact.address.state  \n",
       "0        South                    SC  \n",
       "1        South                    LA  \n",
       "2    Northeast                    MA  \n",
       "3         West                    AZ  \n",
       "4        South                    LA  "
      ]
     },
     "execution_count": 9,
     "metadata": {},
     "output_type": "execute_result"
    }
   ],
   "source": [
    "# Divide into features and target#test with small number of features, take off name_pop for now\n",
    "X_features = ['age', 'gender', 'size',\n",
    "               'breeds.primary','breeds.mixed', 'breed_popularity',\n",
    "              'log_breed_pop', 'log_dog_pop', 'state_population',\n",
    "             'state_area', 'state_region','contact.address.state']\n",
    "trainval_X = trainval[X_features]\n",
    "trainval_X.head()"
   ]
  },
  {
   "cell_type": "code",
   "execution_count": 10,
   "metadata": {},
   "outputs": [
    {
     "data": {
      "text/plain": [
       "0      < 1 month\n",
       "1    1 - 2 weeks\n",
       "2      < 1 month\n",
       "3     > 3 months\n",
       "4     < 3 months\n",
       "Name: cg_adpt_time, dtype: category\n",
       "Categories (5, object): [1 - 2 weeks, < 1 month, < 1 week, < 3 months, > 3 months]"
      ]
     },
     "execution_count": 10,
     "metadata": {},
     "output_type": "execute_result"
    }
   ],
   "source": [
    "trainval_y = trainval['cg_adpt_time']\n",
    "trainval_y.head()"
   ]
  },
  {
   "cell_type": "markdown",
   "metadata": {},
   "source": [
    "# Split trainval into train and validation"
   ]
  },
  {
   "cell_type": "code",
   "execution_count": 12,
   "metadata": {},
   "outputs": [
    {
     "name": "stdout",
     "output_type": "stream",
     "text": [
      "Training set size = 387036 and Validation set size = 96760\n"
     ]
    }
   ],
   "source": [
    "from sklearn.model_selection import train_test_split\n",
    "train_X, val_X, train_y, val_y = train_test_split(trainval_X, trainval_y, test_size=0.2)\n",
    "print('Training set size = {} and Validation set size = {}'.format(len(train_X),len(val_X)))"
   ]
  },
  {
   "cell_type": "code",
   "execution_count": 13,
   "metadata": {},
   "outputs": [
    {
     "data": {
      "text/html": [
       "<div>\n",
       "<style scoped>\n",
       "    .dataframe tbody tr th:only-of-type {\n",
       "        vertical-align: middle;\n",
       "    }\n",
       "\n",
       "    .dataframe tbody tr th {\n",
       "        vertical-align: top;\n",
       "    }\n",
       "\n",
       "    .dataframe thead th {\n",
       "        text-align: right;\n",
       "    }\n",
       "</style>\n",
       "<table border=\"1\" class=\"dataframe\">\n",
       "  <thead>\n",
       "    <tr style=\"text-align: right;\">\n",
       "      <th></th>\n",
       "      <th>age</th>\n",
       "      <th>gender</th>\n",
       "      <th>size</th>\n",
       "      <th>breeds.primary</th>\n",
       "      <th>breeds.mixed</th>\n",
       "      <th>breed_popularity</th>\n",
       "      <th>log_breed_pop</th>\n",
       "      <th>log_dog_pop</th>\n",
       "      <th>state_population</th>\n",
       "      <th>state_area</th>\n",
       "      <th>state_region</th>\n",
       "      <th>contact.address.state</th>\n",
       "    </tr>\n",
       "  </thead>\n",
       "  <tbody>\n",
       "    <tr>\n",
       "      <th>183779</th>\n",
       "      <td>2</td>\n",
       "      <td>Female</td>\n",
       "      <td>2</td>\n",
       "      <td>Shepherd</td>\n",
       "      <td>True</td>\n",
       "      <td>Medium</td>\n",
       "      <td>10.066074</td>\n",
       "      <td>10.126591</td>\n",
       "      <td>15.778966</td>\n",
       "      <td>11.644006</td>\n",
       "      <td>West</td>\n",
       "      <td>AZ</td>\n",
       "    </tr>\n",
       "    <tr>\n",
       "      <th>273712</th>\n",
       "      <td>3</td>\n",
       "      <td>Female</td>\n",
       "      <td>2</td>\n",
       "      <td>Black Labrador Retriever</td>\n",
       "      <td>True</td>\n",
       "      <td>Medium</td>\n",
       "      <td>8.959183</td>\n",
       "      <td>9.728777</td>\n",
       "      <td>17.172559</td>\n",
       "      <td>12.500982</td>\n",
       "      <td>South</td>\n",
       "      <td>TX</td>\n",
       "    </tr>\n",
       "    <tr>\n",
       "      <th>351832</th>\n",
       "      <td>2</td>\n",
       "      <td>Female</td>\n",
       "      <td>2</td>\n",
       "      <td>Basset Hound</td>\n",
       "      <td>False</td>\n",
       "      <td>Low</td>\n",
       "      <td>8.216899</td>\n",
       "      <td>8.735364</td>\n",
       "      <td>14.553013</td>\n",
       "      <td>11.708435</td>\n",
       "      <td>West</td>\n",
       "      <td>NM</td>\n",
       "    </tr>\n",
       "    <tr>\n",
       "      <th>136485</th>\n",
       "      <td>3</td>\n",
       "      <td>Male</td>\n",
       "      <td>2</td>\n",
       "      <td>Pit Bull Terrier</td>\n",
       "      <td>True</td>\n",
       "      <td>High</td>\n",
       "      <td>10.450481</td>\n",
       "      <td>9.726571</td>\n",
       "      <td>15.729866</td>\n",
       "      <td>10.648895</td>\n",
       "      <td>South</td>\n",
       "      <td>TN</td>\n",
       "    </tr>\n",
       "    <tr>\n",
       "      <th>164747</th>\n",
       "      <td>3</td>\n",
       "      <td>Female</td>\n",
       "      <td>2</td>\n",
       "      <td>Australian Shepherd</td>\n",
       "      <td>True</td>\n",
       "      <td>Medium</td>\n",
       "      <td>9.400299</td>\n",
       "      <td>9.547812</td>\n",
       "      <td>16.156369</td>\n",
       "      <td>10.893419</td>\n",
       "      <td>South</td>\n",
       "      <td>NC</td>\n",
       "    </tr>\n",
       "  </tbody>\n",
       "</table>\n",
       "</div>"
      ],
      "text/plain": [
       "        age  gender  size            breeds.primary  breeds.mixed  \\\n",
       "183779    2  Female     2                  Shepherd          True   \n",
       "273712    3  Female     2  Black Labrador Retriever          True   \n",
       "351832    2  Female     2              Basset Hound         False   \n",
       "136485    3    Male     2          Pit Bull Terrier          True   \n",
       "164747    3  Female     2       Australian Shepherd          True   \n",
       "\n",
       "       breed_popularity  log_breed_pop  log_dog_pop  state_population  \\\n",
       "183779           Medium      10.066074    10.126591         15.778966   \n",
       "273712           Medium       8.959183     9.728777         17.172559   \n",
       "351832              Low       8.216899     8.735364         14.553013   \n",
       "136485             High      10.450481     9.726571         15.729866   \n",
       "164747           Medium       9.400299     9.547812         16.156369   \n",
       "\n",
       "        state_area state_region contact.address.state  \n",
       "183779   11.644006         West                    AZ  \n",
       "273712   12.500982        South                    TX  \n",
       "351832   11.708435         West                    NM  \n",
       "136485   10.648895        South                    TN  \n",
       "164747   10.893419        South                    NC  "
      ]
     },
     "execution_count": 13,
     "metadata": {},
     "output_type": "execute_result"
    }
   ],
   "source": [
    "train_X.head()"
   ]
  },
  {
   "cell_type": "code",
   "execution_count": 14,
   "metadata": {},
   "outputs": [],
   "source": [
    "from sklearn.preprocessing import OneHotEncoder\n",
    "oh = OneHotEncoder(handle_unknown='ignore', sparse=False)\n",
    "cat_col = ['gender','breeds.primary','breed_popularity','contact.address.state','state_region','cg_adpt_time']"
   ]
  },
  {
   "cell_type": "code",
   "execution_count": 15,
   "metadata": {},
   "outputs": [
    {
     "data": {
      "text/plain": [
       "age                         int64\n",
       "gender                   category\n",
       "size                        int64\n",
       "breeds.primary           category\n",
       "breeds.mixed                 bool\n",
       "breed_popularity         category\n",
       "log_breed_pop             float64\n",
       "log_dog_pop               float64\n",
       "state_population          float64\n",
       "state_area                float64\n",
       "state_region             category\n",
       "contact.address.state    category\n",
       "dtype: object"
      ]
     },
     "execution_count": 15,
     "metadata": {},
     "output_type": "execute_result"
    }
   ],
   "source": [
    "train_X.dtypes"
   ]
  },
  {
   "cell_type": "code",
   "execution_count": 16,
   "metadata": {},
   "outputs": [],
   "source": [
    "import warnings\n",
    "warnings.filterwarnings(\"ignore\", category=DeprecationWarning)\n",
    "warnings.filterwarnings('ignore', category = FutureWarning)\n",
    "from sklearn.ensemble import RandomForestClassifier\n",
    "from sklearn.model_selection import GridSearchCV\n",
    "import time\n",
    "from sklearn.metrics import precision_recall_fscore_support as score\n",
    "from sklearn.metrics import accuracy_score"
   ]
  },
  {
   "cell_type": "code",
   "execution_count": 17,
   "metadata": {},
   "outputs": [
    {
     "data": {
      "text/plain": [
       "CategoricalDtype(categories=['1 - 2 weeks', '< 1 month', '< 1 week', '< 3 months',\n",
       "                  '> 3 months'],\n",
       "                 ordered=False)"
      ]
     },
     "execution_count": 17,
     "metadata": {},
     "output_type": "execute_result"
    }
   ],
   "source": [
    "train_y.dtypes"
   ]
  },
  {
   "cell_type": "markdown",
   "metadata": {},
   "source": [
    "# Make a pipeline of random forest"
   ]
  },
  {
   "cell_type": "code",
   "execution_count": 18,
   "metadata": {},
   "outputs": [],
   "source": [
    "from sklearn.pipeline import Pipeline"
   ]
  },
  {
   "cell_type": "code",
   "execution_count": 49,
   "metadata": {},
   "outputs": [],
   "source": [
    "def train_RF(n_est, depth):\n",
    "    rf = RandomForestClassifier(n_estimators=n_est, max_depth=depth, n_jobs=-1)\n",
    "    pipeline_temp = Pipeline(steps=[('preprocessor', oh),('model', rf)])\n",
    "    start = time.time()\n",
    "    pipeline_temp.fit(train_X, train_y)\n",
    "    end = time.time()\n",
    "    fit_time = end - start\n",
    "    #scores= -1 * cross_val_score(pipeline_temp, train_X, train_y,cv=5,scoring='neg_mean_absolute_error')\n",
    "    start = time.time()\n",
    "    y_pred = pipeline_temp.predict(val_X)\n",
    "    end = time.time()\n",
    "    predict_time = end - start\n",
    "    #r2s= cross_val_score(pipeline_temp, train_X, train_y,cv=5,scoring='r2')\n",
    "    #print('Est: {} / Depth: {} ---- MAE: {} R^2: {}'.format(n_est,depth,round(scores.mean(), 3),round(r2s.mean(), 3)))\n",
    "    print('Est: {} / Depth: {} ---- Fit time: {} / Predict time: {} / Accuracy: {}'.format(\n",
    "        n_est,depth,fit_time, predict_time, round((y_pred==val_y).sum()/len(y_pred), 3)))"
   ]
  },
  {
   "cell_type": "markdown",
   "metadata": {},
   "source": [
    "## Tune hyperparameters"
   ]
  },
  {
   "cell_type": "code",
   "execution_count": 50,
   "metadata": {},
   "outputs": [
    {
     "name": "stdout",
     "output_type": "stream",
     "text": [
      "Est: 10 / Depth: 10 ---- Fit time: 15.473611116409302 / Predict time: 2.494481086730957 / Accuracy: 0.301\n",
      "Est: 10 / Depth: 50 ---- Fit time: 24.592058420181274 / Predict time: 0.7177867889404297 / Accuracy: 0.311\n",
      "Est: 10 / Depth: 100 ---- Fit time: 26.772536754608154 / Predict time: 0.7061645984649658 / Accuracy: 0.304\n",
      "Est: 10 / Depth: None ---- Fit time: 25.013928413391113 / Predict time: 0.6990461349487305 / Accuracy: 0.304\n",
      "Est: 50 / Depth: 10 ---- Fit time: 39.952818870544434 / Predict time: 0.8098020553588867 / Accuracy: 0.303\n",
      "Est: 50 / Depth: 50 ---- Fit time: 105.8734941482544 / Predict time: 1.4912152290344238 / Accuracy: 0.316\n",
      "Est: 50 / Depth: 100 ---- Fit time: 110.92152380943298 / Predict time: 2.265547752380371 / Accuracy: 0.307\n",
      "Est: 50 / Depth: None ---- Fit time: 104.27123022079468 / Predict time: 2.061232805252075 / Accuracy: 0.306\n",
      "Est: 100 / Depth: 10 ---- Fit time: 67.69448971748352 / Predict time: 1.5016143321990967 / Accuracy: 0.303\n",
      "Est: 100 / Depth: 50 ---- Fit time: 189.77438688278198 / Predict time: 2.485517978668213 / Accuracy: 0.315\n",
      "Est: 100 / Depth: 100 ---- Fit time: 206.98789358139038 / Predict time: 3.0928900241851807 / Accuracy: 0.306\n",
      "Est: 100 / Depth: None ---- Fit time: 185.93531727790833 / Predict time: 2.9992990493774414 / Accuracy: 0.308\n",
      "Est: 200 / Depth: 10 ---- Fit time: 119.1370542049408 / Predict time: 2.153320550918579 / Accuracy: 0.303\n",
      "Est: 200 / Depth: 50 ---- Fit time: 342.72791743278503 / Predict time: 4.218092918395996 / Accuracy: 0.316\n",
      "Est: 200 / Depth: 100 ---- Fit time: 374.64633870124817 / Predict time: 6.4417643547058105 / Accuracy: 0.307\n",
      "Est: 200 / Depth: None ---- Fit time: 402.0775249004364 / Predict time: 5.724821329116821 / Accuracy: 0.307\n"
     ]
    }
   ],
   "source": [
    "for n_est in [10, 50, 100, 200]:\n",
    "    for depth in [10, 50, 100, None]:\n",
    "        train_RF(n_est, depth)"
   ]
  },
  {
   "cell_type": "code",
   "execution_count": 38,
   "metadata": {},
   "outputs": [
    {
     "name": "stdout",
     "output_type": "stream",
     "text": [
      "Est: 100 / Depth: 30 ---- Fit time: 199.89548540115356 / Predict time: 2.6306707859039307 / Accuracy: 0.322\n",
      "Est: 100 / Depth: 40 ---- Fit time: 234.63526678085327 / Predict time: 3.1803433895111084 / Accuracy: 0.32\n",
      "Est: 100 / Depth: 50 ---- Fit time: 255.78041696548462 / Predict time: 3.786173105239868 / Accuracy: 0.314\n",
      "Est: 100 / Depth: 60 ---- Fit time: 271.31245279312134 / Predict time: 3.815086603164673 / Accuracy: 0.312\n",
      "Est: 150 / Depth: 30 ---- Fit time: 303.3616180419922 / Predict time: 3.494270086288452 / Accuracy: 0.324\n",
      "Est: 150 / Depth: 40 ---- Fit time: 376.6917893886566 / Predict time: 4.659846305847168 / Accuracy: 0.319\n",
      "Est: 150 / Depth: 50 ---- Fit time: 394.3275411128998 / Predict time: 5.69328761100769 / Accuracy: 0.315\n",
      "Est: 150 / Depth: 60 ---- Fit time: 408.54864287376404 / Predict time: 5.598904848098755 / Accuracy: 0.311\n",
      "Est: 200 / Depth: 30 ---- Fit time: 405.64442110061646 / Predict time: 4.876736640930176 / Accuracy: 0.323\n",
      "Est: 200 / Depth: 40 ---- Fit time: 479.49499773979187 / Predict time: 5.630284070968628 / Accuracy: 0.319\n",
      "Est: 200 / Depth: 50 ---- Fit time: 505.85049510002136 / Predict time: 6.663372755050659 / Accuracy: 0.316\n",
      "Est: 200 / Depth: 60 ---- Fit time: 536.643550157547 / Predict time: 7.2398576736450195 / Accuracy: 0.311\n",
      "Est: 250 / Depth: 30 ---- Fit time: 503.7146706581116 / Predict time: 5.875686168670654 / Accuracy: 0.324\n",
      "Est: 250 / Depth: 40 ---- Fit time: 586.8201310634613 / Predict time: 7.108208894729614 / Accuracy: 0.319\n",
      "Est: 250 / Depth: 50 ---- Fit time: 549.6250221729279 / Predict time: 5.983004570007324 / Accuracy: 0.316\n",
      "Est: 250 / Depth: 60 ---- Fit time: 543.4004461765289 / Predict time: 10.559512376785278 / Accuracy: 0.312\n"
     ]
    }
   ],
   "source": [
    "for n_est in [100, 150, 200, 250]:\n",
    "    for depth in [30, 40, 50, 60]:\n",
    "        train_RF(n_est, depth)"
   ]
  },
  {
   "cell_type": "code",
   "execution_count": null,
   "metadata": {},
   "outputs": [],
   "source": [
    "rf = RandomForestClassifier(n_estimators=150, max_depth=30, n_jobs=-1)\n",
    "pipeline_temp2 = Pipeline(steps=[('preprocessor', oh),('model', rf)])\n",
    "start = time.time()\n",
    "pipeline_temp2.fit(train_X, train_y)\n",
    "end = time.time()\n",
    "fit_time = end - start\n",
    "#scores= -1 * cross_val_score(pipeline_temp, train_X, train_y,cv=5,scoring='neg_mean_absolute_error')\n",
    "y_pred = pipeline_temp2.predict(val_X)\n",
    "round((y_pred==val_y).sum()/len(y_pred), 3)"
   ]
  },
  {
   "cell_type": "code",
   "execution_count": 20,
   "metadata": {},
   "outputs": [],
   "source": [
    "from sklearn.pipeline import Pipeline\n",
    "from sklearn.compose import ColumnTransformer"
   ]
  },
  {
   "cell_type": "code",
   "execution_count": 22,
   "metadata": {},
   "outputs": [],
   "source": [
    "rf = RandomForestClassifier(n_estimators=150, max_depth=30, n_jobs=-1)\n",
    "categorical_features = ['gender','breeds.primary','breed_popularity','contact.address.state','state_region']\n",
    "categorical_transformer = Pipeline(steps=[\n",
    "    ('onehot', OneHotEncoder(handle_unknown='ignore', sparse=False))])\n",
    "preprocessor = ColumnTransformer(\n",
    "    transformers=[\n",
    "        ('cat', categorical_transformer, categorical_features)], remainder='passthrough')\n",
    "pipeline_temp = Pipeline(steps=[('preprocessor', preprocessor),('model', rf)])\n",
    "start = time.time()\n",
    "pipeline_temp.fit(train_X, train_y)\n",
    "end = time.time()"
   ]
  },
  {
   "cell_type": "markdown",
   "metadata": {},
   "source": [
    "# look for feature importances in one hot encoded"
   ]
  },
  {
   "cell_type": "code",
   "execution_count": 23,
   "metadata": {},
   "outputs": [
    {
     "data": {
      "text/plain": [
       "array([0.04095653, 0.04111344, 0.00318689, 0.00688339, 0.00400655,\n",
       "       0.00496026, 0.00244575, 0.00510502, 0.00192092, 0.00381635,\n",
       "       0.00124437, 0.00426865, 0.00240664, 0.0050331 , 0.00138886,\n",
       "       0.00189136, 0.00217637, 0.00239393, 0.00466397, 0.00191413,\n",
       "       0.00151818, 0.00263083, 0.00208589, 0.00163129, 0.00233757,\n",
       "       0.00463112, 0.00223994, 0.0017546 , 0.00470521, 0.00165049,\n",
       "       0.00329448, 0.00240778, 0.00241489, 0.00316199, 0.00415221,\n",
       "       0.00289904, 0.00317957, 0.00443762, 0.00179266, 0.00274861,\n",
       "       0.0018412 , 0.00281454, 0.00838105, 0.00164744, 0.00168278,\n",
       "       0.00833217, 0.00148196, 0.00189435, 0.00272091, 0.00532075,\n",
       "       0.00284234, 0.00573466, 0.00280885, 0.0035433 , 0.00261423,\n",
       "       0.00154503, 0.00320587, 0.00172396, 0.00445538, 0.00178918,\n",
       "       0.00431035, 0.00242793, 0.00232073, 0.00230671, 0.00475224,\n",
       "       0.00167645, 0.00281773, 0.00163334, 0.00143742, 0.00216702,\n",
       "       0.00242105, 0.00327275, 0.00434899, 0.00385917, 0.00483949,\n",
       "       0.00130918, 0.00111472, 0.00154552, 0.00133354, 0.00212066,\n",
       "       0.0010401 , 0.00233337, 0.0012567 , 0.00258318, 0.00300707,\n",
       "       0.00170255, 0.00117106, 0.0014488 , 0.00423094, 0.00119059,\n",
       "       0.00164251, 0.0016834 , 0.00482861, 0.00219252, 0.00173598,\n",
       "       0.00109351, 0.00114025, 0.00234255, 0.0015204 , 0.00129756,\n",
       "       0.0019426 , 0.0012408 , 0.00694307, 0.00396797, 0.00202807,\n",
       "       0.00104067, 0.00405103, 0.00182797, 0.00335736, 0.00122762,\n",
       "       0.00083213, 0.00113264, 0.00257491, 0.00325784, 0.00448116,\n",
       "       0.00403573, 0.00715101, 0.21388694, 0.10415444, 0.07332579,\n",
       "       0.11705302, 0.02674382, 0.02739886, 0.03105753])"
      ]
     },
     "execution_count": 23,
     "metadata": {},
     "output_type": "execute_result"
    }
   ],
   "source": [
    "pipeline_temp['model'].feature_importances_"
   ]
  },
  {
   "cell_type": "code",
   "execution_count": 24,
   "metadata": {},
   "outputs": [
    {
     "data": {
      "text/plain": [
       "0.313"
      ]
     },
     "execution_count": 24,
     "metadata": {},
     "output_type": "execute_result"
    }
   ],
   "source": [
    "y_pred = pipeline_temp.predict(val_X)\n",
    "round((y_pred==val_y).sum()/len(y_pred), 3)"
   ]
  },
  {
   "cell_type": "code",
   "execution_count": 46,
   "metadata": {},
   "outputs": [],
   "source": [
    "def train_RF_2(n_est, depth):\n",
    "    categorical_features = ['gender', 'state_region']\n",
    "    categorical_transformer = Pipeline(steps=[\n",
    "        ('onehot', OneHotEncoder(handle_unknown='ignore', sparse=False))])\n",
    "    preprocessor = ColumnTransformer(\n",
    "        transformers=[\n",
    "            ('cat', categorical_transformer, categorical_features)], remainder='passthrough')\n",
    "    pipeline_temp = Pipeline(steps=[('preprocessor', preprocessor),('model', rf)])\n",
    "    start = time.time()\n",
    "    pipeline_temp.fit(train_X, train_y)\n",
    "    end = time.time()\n",
    "    fit_time = end - start\n",
    "    #scores= -1 * cross_val_score(pipeline_temp, train_X, train_y,cv=5,scoring='neg_mean_absolute_error')\n",
    "    start = time.time()\n",
    "    y_pred = pipeline_temp.predict(val_X)\n",
    "    end = time.time()\n",
    "    predict_time = end - start\n",
    "    #r2s= cross_val_score(pipeline_temp, train_X, train_y,cv=5,scoring='r2')\n",
    "    #print('Est: {} / Depth: {} ---- MAE: {} R^2: {}'.format(n_est,depth,round(scores.mean(), 3),round(r2s.mean(), 3)))\n",
    "    print('Est: {} / Depth: {} ---- Fit time: {} / Predict time: {} / Accuracy: {}'.format(\n",
    "        n_est,depth,fit_time, predict_time, round((y_pred==val_y).sum()/len(y_pred), 3)))"
   ]
  },
  {
   "cell_type": "code",
   "execution_count": 48,
   "metadata": {},
   "outputs": [
    {
     "name": "stdout",
     "output_type": "stream",
     "text": [
      "Est: 100 / Depth: 30 ---- Fit time: 54.64836120605469 / Predict time: 3.0222551822662354 / Accuracy: 0.304\n",
      "Est: 100 / Depth: 40 ---- Fit time: 52.29619288444519 / Predict time: 4.100038290023804 / Accuracy: 0.303\n",
      "Est: 100 / Depth: 50 ---- Fit time: 59.462018728256226 / Predict time: 3.8525631427764893 / Accuracy: 0.302\n",
      "Est: 100 / Depth: 60 ---- Fit time: 55.26665735244751 / Predict time: 3.5056264400482178 / Accuracy: 0.303\n",
      "Est: 150 / Depth: 30 ---- Fit time: 52.687329053878784 / Predict time: 2.758556604385376 / Accuracy: 0.303\n",
      "Est: 150 / Depth: 40 ---- Fit time: 49.007484912872314 / Predict time: 2.799514055252075 / Accuracy: 0.303\n",
      "Est: 150 / Depth: 50 ---- Fit time: 47.07659840583801 / Predict time: 2.7487106323242188 / Accuracy: 0.304\n",
      "Est: 150 / Depth: 60 ---- Fit time: 47.86254525184631 / Predict time: 2.8676652908325195 / Accuracy: 0.302\n",
      "Est: 200 / Depth: 30 ---- Fit time: 48.47635579109192 / Predict time: 3.041867256164551 / Accuracy: 0.303\n",
      "Est: 200 / Depth: 40 ---- Fit time: 48.38663196563721 / Predict time: 3.0000698566436768 / Accuracy: 0.302\n",
      "Est: 200 / Depth: 50 ---- Fit time: 48.33975601196289 / Predict time: 2.9852066040039062 / Accuracy: 0.303\n",
      "Est: 200 / Depth: 60 ---- Fit time: 48.48227524757385 / Predict time: 3.048848867416382 / Accuracy: 0.303\n",
      "Est: 250 / Depth: 30 ---- Fit time: 49.0451774597168 / Predict time: 3.1625442504882812 / Accuracy: 0.303\n",
      "Est: 250 / Depth: 40 ---- Fit time: 49.64152646064758 / Predict time: 2.8276963233947754 / Accuracy: 0.303\n",
      "Est: 250 / Depth: 50 ---- Fit time: 49.28685545921326 / Predict time: 3.1635398864746094 / Accuracy: 0.304\n",
      "Est: 250 / Depth: 60 ---- Fit time: 49.29571866989136 / Predict time: 3.489625930786133 / Accuracy: 0.303\n"
     ]
    }
   ],
   "source": [
    "for n_est in [100, 150, 200, 250]:\n",
    "    for depth in [30, 40, 50, 60]:\n",
    "        train_RF_2(n_est, depth)"
   ]
  },
  {
   "cell_type": "code",
   "execution_count": 157,
   "metadata": {},
   "outputs": [
    {
     "data": {
      "text/plain": [
       "0.361"
      ]
     },
     "execution_count": 157,
     "metadata": {},
     "output_type": "execute_result"
    }
   ],
   "source": [
    "y_pred_train = pipeline_temp.predict(train_X)\n",
    "round((y_pred_train==train_y).sum()/len(y_pred_train), 3)"
   ]
  },
  {
   "cell_type": "code",
   "execution_count": 158,
   "metadata": {},
   "outputs": [
    {
     "data": {
      "text/plain": [
       "array([[445,  13,  22, 188,  24],\n",
       "       [197,  12,  31, 231,  35],\n",
       "       [179,  11,  40, 271,  57],\n",
       "       [134,  10,  56, 408,  99],\n",
       "       [ 59,   3,  37, 317, 111]], dtype=int64)"
      ]
     },
     "execution_count": 158,
     "metadata": {},
     "output_type": "execute_result"
    }
   ],
   "source": [
    "from sklearn.metrics import confusion_matrix\n",
    "confusion_matrix(val_y, y_pred, labels=[\"< 1 week\" , \"1 - 2 weeks\", \"< 1 month\", \"< 3 months\", \"> 3 months\"])"
   ]
  },
  {
   "cell_type": "code",
   "execution_count": 117,
   "metadata": {},
   "outputs": [
    {
     "data": {
      "image/png": "[encoded data removed]",
      "text/plain": [
       "<Figure size 432x288 with 1 Axes>"
      ]
     },
     "metadata": {
      "needs_background": "light"
     },
     "output_type": "display_data"
    }
   ],
   "source": [
    "plt.bar(range(len(pipeline_temp['model'].feature_importances_)), pipeline_temp['model'].feature_importances_)\n",
    "plt.show()"
   ]
  },
  {
   "cell_type": "markdown",
   "metadata": {},
   "source": [
    "# Gradient Boosting"
   ]
  },
  {
   "cell_type": "code",
   "execution_count": 151,
   "metadata": {},
   "outputs": [],
   "source": [
    "from sklearn.ensemble import GradientBoostingClassifier\n",
    "oh2 = OneHotEncoder(handle_unknown='ignore', sparse=False)\n",
    "gb = GradientBoostingClassifier(n_estimators=150, max_depth=30, learning_rate=0.3)\n",
    "pipeline_temp2 = Pipeline(steps=[('preprocessor', oh2),('model', gb)])"
   ]
  },
  {
   "cell_type": "code",
   "execution_count": 152,
   "metadata": {},
   "outputs": [
    {
     "data": {
      "text/plain": [
       "Pipeline(memory=None,\n",
       "         steps=[('preprocessor',\n",
       "                 OneHotEncoder(categories='auto', drop=None,\n",
       "                               dtype=<class 'numpy.float64'>,\n",
       "                               handle_unknown='ignore', sparse=False)),\n",
       "                ('model',\n",
       "                 GradientBoostingClassifier(ccp_alpha=0.0,\n",
       "                                            criterion='friedman_mse', init=None,\n",
       "                                            learning_rate=0.3, loss='deviance',\n",
       "                                            max_depth=30, max_features=None,\n",
       "                                            max_leaf_nodes=None,\n",
       "                                            min_impurity_decrease=0.0,\n",
       "                                            min_impurity_split=None,\n",
       "                                            min_samples_leaf=1,\n",
       "                                            min_samples_split=2,\n",
       "                                            min_weight_fraction_leaf=0.0,\n",
       "                                            n_estimators=150,\n",
       "                                            n_iter_no_change=None,\n",
       "                                            presort='deprecated',\n",
       "                                            random_state=None, subsample=1.0,\n",
       "                                            tol=0.0001, validation_fraction=0.1,\n",
       "                                            verbose=0, warm_start=False))],\n",
       "         verbose=False)"
      ]
     },
     "execution_count": 152,
     "metadata": {},
     "output_type": "execute_result"
    }
   ],
   "source": [
    "pipeline_temp2.fit(train_X, train_y)"
   ]
  },
  {
   "cell_type": "code",
   "execution_count": 155,
   "metadata": {},
   "outputs": [
    {
     "data": {
      "text/plain": [
       "0.326"
      ]
     },
     "execution_count": 155,
     "metadata": {},
     "output_type": "execute_result"
    }
   ],
   "source": [
    "y_pred2 = pipeline_temp2.predict(val_X)\n",
    "round((y_pred2==val_y).sum()/len(y_pred), 3)"
   ]
  },
  {
   "cell_type": "code",
   "execution_count": 128,
   "metadata": {},
   "outputs": [],
   "source": [
    "import pickle\n",
    "filename = './models/rfpipe_cg.pkl'\n",
    "pickle.dump(pipeline_temp, open(filename, 'wb'))"
   ]
  },
  {
   "cell_type": "code",
   "execution_count": 153,
   "metadata": {},
   "outputs": [],
   "source": [
    "import pickle\n",
    "filename = './models/gbpipe_cg.pkl'\n",
    "pickle.dump(pipeline_temp2, open(filename, 'wb'))"
   ]
  }
 ],
 "metadata": {
  "kernelspec": {
   "display_name": "Python 3",
   "language": "python",
   "name": "python3"
  },
  "language_info": {
   "codemirror_mode": {
    "name": "ipython",
    "version": 3
   },
   "file_extension": ".py",
   "mimetype": "text/x-python",
   "name": "python",
   "nbconvert_exporter": "python",
   "pygments_lexer": "ipython3",
   "version": "3.7.6"
  }
 },
 "nbformat": 4,
 "nbformat_minor": 2
}
