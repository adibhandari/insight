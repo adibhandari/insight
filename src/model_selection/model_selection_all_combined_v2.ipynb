{
 "cells": [
  {
   "cell_type": "code",
   "execution_count": null,
   "metadata": {},
   "outputs": [],
   "source": []
  },
  {
   "cell_type": "code",
   "execution_count": 1,
   "metadata": {},
   "outputs": [],
   "source": [
    "#merge data from several states\n",
    "import numpy as np\n",
    "import pandas as pd\n",
    "import matplotlib.pyplot as plt"
   ]
  },
  {
   "cell_type": "code",
   "execution_count": 26,
   "metadata": {},
   "outputs": [
    {
     "data": {
      "text/html": [
       "<div>\n",
       "<style scoped>\n",
       "    .dataframe tbody tr th:only-of-type {\n",
       "        vertical-align: middle;\n",
       "    }\n",
       "\n",
       "    .dataframe tbody tr th {\n",
       "        vertical-align: top;\n",
       "    }\n",
       "\n",
       "    .dataframe thead th {\n",
       "        text-align: right;\n",
       "    }\n",
       "</style>\n",
       "<table border=\"1\" class=\"dataframe\">\n",
       "  <thead>\n",
       "    <tr style=\"text-align: right;\">\n",
       "      <th></th>\n",
       "      <th>id</th>\n",
       "      <th>age</th>\n",
       "      <th>gender</th>\n",
       "      <th>size</th>\n",
       "      <th>breeds.primary</th>\n",
       "      <th>breeds.mixed</th>\n",
       "      <th>log_breed_pop</th>\n",
       "      <th>breed_popularity</th>\n",
       "      <th>contact.address.state</th>\n",
       "      <th>log_dog_pop</th>\n",
       "      <th>state_population</th>\n",
       "      <th>state_area</th>\n",
       "      <th>state_region</th>\n",
       "      <th>cg_adpt_time</th>\n",
       "    </tr>\n",
       "  </thead>\n",
       "  <tbody>\n",
       "    <tr>\n",
       "      <th>0</th>\n",
       "      <td>36351232</td>\n",
       "      <td>1</td>\n",
       "      <td>Male</td>\n",
       "      <td>2</td>\n",
       "      <td>Labrador Retriever</td>\n",
       "      <td>True</td>\n",
       "      <td>11.241825</td>\n",
       "      <td>High</td>\n",
       "      <td>SC</td>\n",
       "      <td>9.580524</td>\n",
       "      <td>15.442575</td>\n",
       "      <td>10.373710</td>\n",
       "      <td>South</td>\n",
       "      <td>&lt; 1 month</td>\n",
       "    </tr>\n",
       "    <tr>\n",
       "      <th>1</th>\n",
       "      <td>43002404</td>\n",
       "      <td>3</td>\n",
       "      <td>Male</td>\n",
       "      <td>2</td>\n",
       "      <td>Chocolate Labrador Retriever</td>\n",
       "      <td>True</td>\n",
       "      <td>7.844241</td>\n",
       "      <td>Low</td>\n",
       "      <td>LA</td>\n",
       "      <td>10.005954</td>\n",
       "      <td>15.359345</td>\n",
       "      <td>10.855975</td>\n",
       "      <td>South</td>\n",
       "      <td>1 - 2 weeks</td>\n",
       "    </tr>\n",
       "    <tr>\n",
       "      <th>2</th>\n",
       "      <td>33793853</td>\n",
       "      <td>2</td>\n",
       "      <td>Female</td>\n",
       "      <td>1</td>\n",
       "      <td>Beagle</td>\n",
       "      <td>False</td>\n",
       "      <td>9.883234</td>\n",
       "      <td>Medium</td>\n",
       "      <td>MA</td>\n",
       "      <td>10.196456</td>\n",
       "      <td>15.746440</td>\n",
       "      <td>9.264355</td>\n",
       "      <td>Northeast</td>\n",
       "      <td>&lt; 1 month</td>\n",
       "    </tr>\n",
       "    <tr>\n",
       "      <th>3</th>\n",
       "      <td>35622718</td>\n",
       "      <td>4</td>\n",
       "      <td>Female</td>\n",
       "      <td>2</td>\n",
       "      <td>Labrador Retriever</td>\n",
       "      <td>True</td>\n",
       "      <td>11.241825</td>\n",
       "      <td>High</td>\n",
       "      <td>AZ</td>\n",
       "      <td>10.126591</td>\n",
       "      <td>15.778966</td>\n",
       "      <td>11.644006</td>\n",
       "      <td>West</td>\n",
       "      <td>&gt; 3 months</td>\n",
       "    </tr>\n",
       "    <tr>\n",
       "      <th>4</th>\n",
       "      <td>45977377</td>\n",
       "      <td>3</td>\n",
       "      <td>Female</td>\n",
       "      <td>2</td>\n",
       "      <td>Border Collie</td>\n",
       "      <td>True</td>\n",
       "      <td>9.400465</td>\n",
       "      <td>Medium</td>\n",
       "      <td>LA</td>\n",
       "      <td>10.005954</td>\n",
       "      <td>15.359345</td>\n",
       "      <td>10.855975</td>\n",
       "      <td>South</td>\n",
       "      <td>&lt; 3 months</td>\n",
       "    </tr>\n",
       "  </tbody>\n",
       "</table>\n",
       "</div>"
      ],
      "text/plain": [
       "         id  age  gender  size                breeds.primary  breeds.mixed  \\\n",
       "0  36351232    1    Male     2            Labrador Retriever          True   \n",
       "1  43002404    3    Male     2  Chocolate Labrador Retriever          True   \n",
       "2  33793853    2  Female     1                        Beagle         False   \n",
       "3  35622718    4  Female     2            Labrador Retriever          True   \n",
       "4  45977377    3  Female     2                 Border Collie          True   \n",
       "\n",
       "   log_breed_pop breed_popularity contact.address.state  log_dog_pop  \\\n",
       "0      11.241825             High                    SC     9.580524   \n",
       "1       7.844241              Low                    LA    10.005954   \n",
       "2       9.883234           Medium                    MA    10.196456   \n",
       "3      11.241825             High                    AZ    10.126591   \n",
       "4       9.400465           Medium                    LA    10.005954   \n",
       "\n",
       "   state_population  state_area state_region cg_adpt_time  \n",
       "0         15.442575   10.373710        South    < 1 month  \n",
       "1         15.359345   10.855975        South  1 - 2 weeks  \n",
       "2         15.746440    9.264355    Northeast    < 1 month  \n",
       "3         15.778966   11.644006         West   > 3 months  \n",
       "4         15.359345   10.855975        South   < 3 months  "
      ]
     },
     "execution_count": 26,
     "metadata": {},
     "output_type": "execute_result"
    }
   ],
   "source": [
    "trainval = pd.read_csv('./data/trainval_all_combined_v2.csv')\n",
    "trainval.head()"
   ]
  },
  {
   "cell_type": "code",
   "execution_count": 8,
   "metadata": {},
   "outputs": [
    {
     "data": {
      "text/html": [
       "<div>\n",
       "<style scoped>\n",
       "    .dataframe tbody tr th:only-of-type {\n",
       "        vertical-align: middle;\n",
       "    }\n",
       "\n",
       "    .dataframe tbody tr th {\n",
       "        vertical-align: top;\n",
       "    }\n",
       "\n",
       "    .dataframe thead th {\n",
       "        text-align: right;\n",
       "    }\n",
       "</style>\n",
       "<table border=\"1\" class=\"dataframe\">\n",
       "  <thead>\n",
       "    <tr style=\"text-align: right;\">\n",
       "      <th></th>\n",
       "      <th>id</th>\n",
       "      <th>age</th>\n",
       "      <th>gender</th>\n",
       "      <th>size</th>\n",
       "      <th>breeds.primary</th>\n",
       "      <th>breeds.mixed</th>\n",
       "      <th>log_breed_pop</th>\n",
       "      <th>breed_popularity</th>\n",
       "      <th>contact.address.state</th>\n",
       "      <th>log_dog_pop</th>\n",
       "      <th>state_population</th>\n",
       "      <th>state_area</th>\n",
       "      <th>state_region</th>\n",
       "      <th>cg_adpt_time</th>\n",
       "    </tr>\n",
       "  </thead>\n",
       "  <tbody>\n",
       "    <tr>\n",
       "      <th>0</th>\n",
       "      <td>35051791</td>\n",
       "      <td>4</td>\n",
       "      <td>Male</td>\n",
       "      <td>1</td>\n",
       "      <td>Shih Tzu</td>\n",
       "      <td>True</td>\n",
       "      <td>9.274910</td>\n",
       "      <td>Medium</td>\n",
       "      <td>WA</td>\n",
       "      <td>9.942420</td>\n",
       "      <td>15.834479</td>\n",
       "      <td>11.174694</td>\n",
       "      <td>West</td>\n",
       "      <td>&lt; 3 months</td>\n",
       "    </tr>\n",
       "    <tr>\n",
       "      <th>1</th>\n",
       "      <td>39808452</td>\n",
       "      <td>1</td>\n",
       "      <td>Female</td>\n",
       "      <td>1</td>\n",
       "      <td>Terrier</td>\n",
       "      <td>True</td>\n",
       "      <td>10.291332</td>\n",
       "      <td>High</td>\n",
       "      <td>OR</td>\n",
       "      <td>9.680344</td>\n",
       "      <td>15.250491</td>\n",
       "      <td>11.496654</td>\n",
       "      <td>West</td>\n",
       "      <td>&lt; 1 week</td>\n",
       "    </tr>\n",
       "    <tr>\n",
       "      <th>2</th>\n",
       "      <td>32838635</td>\n",
       "      <td>3</td>\n",
       "      <td>Female</td>\n",
       "      <td>3</td>\n",
       "      <td>Golden Retriever</td>\n",
       "      <td>False</td>\n",
       "      <td>8.728912</td>\n",
       "      <td>Low</td>\n",
       "      <td>ME</td>\n",
       "      <td>9.285448</td>\n",
       "      <td>14.109360</td>\n",
       "      <td>10.474100</td>\n",
       "      <td>Northeast</td>\n",
       "      <td>&lt; 1 week</td>\n",
       "    </tr>\n",
       "    <tr>\n",
       "      <th>3</th>\n",
       "      <td>29518856</td>\n",
       "      <td>3</td>\n",
       "      <td>Female</td>\n",
       "      <td>3</td>\n",
       "      <td>Greyhound</td>\n",
       "      <td>False</td>\n",
       "      <td>8.146709</td>\n",
       "      <td>Low</td>\n",
       "      <td>GA</td>\n",
       "      <td>9.815039</td>\n",
       "      <td>16.171175</td>\n",
       "      <td>10.992740</td>\n",
       "      <td>South</td>\n",
       "      <td>&gt; 3 months</td>\n",
       "    </tr>\n",
       "    <tr>\n",
       "      <th>4</th>\n",
       "      <td>31272523</td>\n",
       "      <td>2</td>\n",
       "      <td>Male</td>\n",
       "      <td>3</td>\n",
       "      <td>Shepherd</td>\n",
       "      <td>False</td>\n",
       "      <td>10.066074</td>\n",
       "      <td>Medium</td>\n",
       "      <td>NV</td>\n",
       "      <td>9.605957</td>\n",
       "      <td>14.932887</td>\n",
       "      <td>11.613377</td>\n",
       "      <td>West</td>\n",
       "      <td>&lt; 1 month</td>\n",
       "    </tr>\n",
       "  </tbody>\n",
       "</table>\n",
       "</div>"
      ],
      "text/plain": [
       "         id  age  gender  size    breeds.primary  breeds.mixed  log_breed_pop  \\\n",
       "0  35051791    4    Male     1          Shih Tzu          True       9.274910   \n",
       "1  39808452    1  Female     1           Terrier          True      10.291332   \n",
       "2  32838635    3  Female     3  Golden Retriever         False       8.728912   \n",
       "3  29518856    3  Female     3         Greyhound         False       8.146709   \n",
       "4  31272523    2    Male     3          Shepherd         False      10.066074   \n",
       "\n",
       "  breed_popularity contact.address.state  log_dog_pop  state_population  \\\n",
       "0           Medium                    WA     9.942420         15.834479   \n",
       "1             High                    OR     9.680344         15.250491   \n",
       "2              Low                    ME     9.285448         14.109360   \n",
       "3              Low                    GA     9.815039         16.171175   \n",
       "4           Medium                    NV     9.605957         14.932887   \n",
       "\n",
       "   state_area state_region cg_adpt_time  \n",
       "0   11.174694         West   < 3 months  \n",
       "1   11.496654         West     < 1 week  \n",
       "2   10.474100    Northeast     < 1 week  \n",
       "3   10.992740        South   > 3 months  \n",
       "4   11.613377         West    < 1 month  "
      ]
     },
     "execution_count": 8,
     "metadata": {},
     "output_type": "execute_result"
    }
   ],
   "source": [
    "test = pd.read_csv('./data/test_all_combined_v2.csv')\n",
    "test.head()"
   ]
  },
  {
   "cell_type": "code",
   "execution_count": 9,
   "metadata": {},
   "outputs": [],
   "source": [
    "cat_col = ['gender','breeds.primary','breed_popularity','contact.address.state','state_region','cg_adpt_time']\n",
    "trainval[cat_col]=trainval[cat_col].astype('category')\n",
    "test[cat_col]=test[cat_col].astype('category')"
   ]
  },
  {
   "cell_type": "code",
   "execution_count": 5,
   "metadata": {},
   "outputs": [
    {
     "name": "stdout",
     "output_type": "stream",
     "text": [
      "Table size - (483796, 13)\n",
      "Checking for missing values..\n",
      "Series([], dtype: int64)\n"
     ]
    }
   ],
   "source": [
    "# Check for any missing data\n",
    "print(\"Table size -\", end=' ')\n",
    "print(trainval.shape)\n",
    "\n",
    "print(\"Checking for missing values..\")\n",
    "# Number of missing values in each column of training data\n",
    "missing_val_count_by_column = (trainval.isnull().sum())\n",
    "print(missing_val_count_by_column[missing_val_count_by_column > 0])\n",
    "\n",
    "# Get names of columns with missing values\n",
    "#missing_cols = [col for col in extension_data.columns\n",
    "#                     if extension_train[col].isnull().any()]"
   ]
  },
  {
   "cell_type": "code",
   "execution_count": 6,
   "metadata": {},
   "outputs": [
    {
     "data": {
      "text/plain": [
       "483796"
      ]
     },
     "execution_count": 6,
     "metadata": {},
     "output_type": "execute_result"
    }
   ],
   "source": [
    "len(trainval)"
   ]
  },
  {
   "cell_type": "code",
   "execution_count": 10,
   "metadata": {},
   "outputs": [
    {
     "data": {
      "text/html": [
       "<div>\n",
       "<style scoped>\n",
       "    .dataframe tbody tr th:only-of-type {\n",
       "        vertical-align: middle;\n",
       "    }\n",
       "\n",
       "    .dataframe tbody tr th {\n",
       "        vertical-align: top;\n",
       "    }\n",
       "\n",
       "    .dataframe thead th {\n",
       "        text-align: right;\n",
       "    }\n",
       "</style>\n",
       "<table border=\"1\" class=\"dataframe\">\n",
       "  <thead>\n",
       "    <tr style=\"text-align: right;\">\n",
       "      <th></th>\n",
       "      <th>age</th>\n",
       "      <th>gender</th>\n",
       "      <th>size</th>\n",
       "      <th>breeds.primary</th>\n",
       "      <th>breeds.mixed</th>\n",
       "      <th>breed_popularity</th>\n",
       "      <th>log_breed_pop</th>\n",
       "      <th>log_dog_pop</th>\n",
       "      <th>state_population</th>\n",
       "      <th>state_area</th>\n",
       "      <th>state_region</th>\n",
       "      <th>contact.address.state</th>\n",
       "    </tr>\n",
       "  </thead>\n",
       "  <tbody>\n",
       "    <tr>\n",
       "      <th>0</th>\n",
       "      <td>1</td>\n",
       "      <td>Male</td>\n",
       "      <td>2</td>\n",
       "      <td>Labrador Retriever</td>\n",
       "      <td>True</td>\n",
       "      <td>High</td>\n",
       "      <td>11.241825</td>\n",
       "      <td>9.580524</td>\n",
       "      <td>15.442575</td>\n",
       "      <td>10.373710</td>\n",
       "      <td>South</td>\n",
       "      <td>SC</td>\n",
       "    </tr>\n",
       "    <tr>\n",
       "      <th>1</th>\n",
       "      <td>3</td>\n",
       "      <td>Male</td>\n",
       "      <td>2</td>\n",
       "      <td>Chocolate Labrador Retriever</td>\n",
       "      <td>True</td>\n",
       "      <td>Low</td>\n",
       "      <td>7.844241</td>\n",
       "      <td>10.005954</td>\n",
       "      <td>15.359345</td>\n",
       "      <td>10.855975</td>\n",
       "      <td>South</td>\n",
       "      <td>LA</td>\n",
       "    </tr>\n",
       "    <tr>\n",
       "      <th>2</th>\n",
       "      <td>2</td>\n",
       "      <td>Female</td>\n",
       "      <td>1</td>\n",
       "      <td>Beagle</td>\n",
       "      <td>False</td>\n",
       "      <td>Medium</td>\n",
       "      <td>9.883234</td>\n",
       "      <td>10.196456</td>\n",
       "      <td>15.746440</td>\n",
       "      <td>9.264355</td>\n",
       "      <td>Northeast</td>\n",
       "      <td>MA</td>\n",
       "    </tr>\n",
       "    <tr>\n",
       "      <th>3</th>\n",
       "      <td>4</td>\n",
       "      <td>Female</td>\n",
       "      <td>2</td>\n",
       "      <td>Labrador Retriever</td>\n",
       "      <td>True</td>\n",
       "      <td>High</td>\n",
       "      <td>11.241825</td>\n",
       "      <td>10.126591</td>\n",
       "      <td>15.778966</td>\n",
       "      <td>11.644006</td>\n",
       "      <td>West</td>\n",
       "      <td>AZ</td>\n",
       "    </tr>\n",
       "    <tr>\n",
       "      <th>4</th>\n",
       "      <td>3</td>\n",
       "      <td>Female</td>\n",
       "      <td>2</td>\n",
       "      <td>Border Collie</td>\n",
       "      <td>True</td>\n",
       "      <td>Medium</td>\n",
       "      <td>9.400465</td>\n",
       "      <td>10.005954</td>\n",
       "      <td>15.359345</td>\n",
       "      <td>10.855975</td>\n",
       "      <td>South</td>\n",
       "      <td>LA</td>\n",
       "    </tr>\n",
       "  </tbody>\n",
       "</table>\n",
       "</div>"
      ],
      "text/plain": [
       "   age  gender  size                breeds.primary  breeds.mixed  \\\n",
       "0    1    Male     2            Labrador Retriever          True   \n",
       "1    3    Male     2  Chocolate Labrador Retriever          True   \n",
       "2    2  Female     1                        Beagle         False   \n",
       "3    4  Female     2            Labrador Retriever          True   \n",
       "4    3  Female     2                 Border Collie          True   \n",
       "\n",
       "  breed_popularity  log_breed_pop  log_dog_pop  state_population  state_area  \\\n",
       "0             High      11.241825     9.580524         15.442575   10.373710   \n",
       "1              Low       7.844241    10.005954         15.359345   10.855975   \n",
       "2           Medium       9.883234    10.196456         15.746440    9.264355   \n",
       "3             High      11.241825    10.126591         15.778966   11.644006   \n",
       "4           Medium       9.400465    10.005954         15.359345   10.855975   \n",
       "\n",
       "  state_region contact.address.state  \n",
       "0        South                    SC  \n",
       "1        South                    LA  \n",
       "2    Northeast                    MA  \n",
       "3         West                    AZ  \n",
       "4        South                    LA  "
      ]
     },
     "execution_count": 10,
     "metadata": {},
     "output_type": "execute_result"
    }
   ],
   "source": [
    "#test with small number of features, take off name_pop for now\n",
    "X_features = ['age', 'gender', 'size',\n",
    "               'breeds.primary','breeds.mixed', 'breed_popularity',\n",
    "              'log_breed_pop', 'log_dog_pop', 'state_population',\n",
    "             'state_area', 'state_region','contact.address.state']\n",
    "trainval_X = trainval[X_features]\n",
    "trainval_X.head()"
   ]
  },
  {
   "cell_type": "code",
   "execution_count": 11,
   "metadata": {},
   "outputs": [
    {
     "data": {
      "text/plain": [
       "0      < 1 month\n",
       "1    1 - 2 weeks\n",
       "2      < 1 month\n",
       "3     > 3 months\n",
       "4     < 3 months\n",
       "Name: cg_adpt_time, dtype: category\n",
       "Categories (5, object): [1 - 2 weeks, < 1 month, < 1 week, < 3 months, > 3 months]"
      ]
     },
     "execution_count": 11,
     "metadata": {},
     "output_type": "execute_result"
    }
   ],
   "source": [
    "trainval_y = trainval['cg_adpt_time']\n",
    "trainval_y.head()"
   ]
  },
  {
   "cell_type": "code",
   "execution_count": 12,
   "metadata": {},
   "outputs": [
    {
     "data": {
      "text/html": [
       "<div>\n",
       "<style scoped>\n",
       "    .dataframe tbody tr th:only-of-type {\n",
       "        vertical-align: middle;\n",
       "    }\n",
       "\n",
       "    .dataframe tbody tr th {\n",
       "        vertical-align: top;\n",
       "    }\n",
       "\n",
       "    .dataframe thead th {\n",
       "        text-align: right;\n",
       "    }\n",
       "</style>\n",
       "<table border=\"1\" class=\"dataframe\">\n",
       "  <thead>\n",
       "    <tr style=\"text-align: right;\">\n",
       "      <th></th>\n",
       "      <th>age</th>\n",
       "      <th>gender</th>\n",
       "      <th>size</th>\n",
       "      <th>breeds.primary</th>\n",
       "      <th>breeds.mixed</th>\n",
       "      <th>breed_popularity</th>\n",
       "      <th>log_breed_pop</th>\n",
       "      <th>log_dog_pop</th>\n",
       "      <th>state_population</th>\n",
       "      <th>state_area</th>\n",
       "      <th>state_region</th>\n",
       "      <th>contact.address.state</th>\n",
       "    </tr>\n",
       "  </thead>\n",
       "  <tbody>\n",
       "    <tr>\n",
       "      <th>0</th>\n",
       "      <td>1</td>\n",
       "      <td>Male</td>\n",
       "      <td>2</td>\n",
       "      <td>Labrador Retriever</td>\n",
       "      <td>True</td>\n",
       "      <td>High</td>\n",
       "      <td>11.241825</td>\n",
       "      <td>9.580524</td>\n",
       "      <td>15.442575</td>\n",
       "      <td>10.373710</td>\n",
       "      <td>South</td>\n",
       "      <td>SC</td>\n",
       "    </tr>\n",
       "    <tr>\n",
       "      <th>1</th>\n",
       "      <td>3</td>\n",
       "      <td>Male</td>\n",
       "      <td>2</td>\n",
       "      <td>Chocolate Labrador Retriever</td>\n",
       "      <td>True</td>\n",
       "      <td>Low</td>\n",
       "      <td>7.844241</td>\n",
       "      <td>10.005954</td>\n",
       "      <td>15.359345</td>\n",
       "      <td>10.855975</td>\n",
       "      <td>South</td>\n",
       "      <td>LA</td>\n",
       "    </tr>\n",
       "    <tr>\n",
       "      <th>2</th>\n",
       "      <td>2</td>\n",
       "      <td>Female</td>\n",
       "      <td>1</td>\n",
       "      <td>Beagle</td>\n",
       "      <td>False</td>\n",
       "      <td>Medium</td>\n",
       "      <td>9.883234</td>\n",
       "      <td>10.196456</td>\n",
       "      <td>15.746440</td>\n",
       "      <td>9.264355</td>\n",
       "      <td>Northeast</td>\n",
       "      <td>MA</td>\n",
       "    </tr>\n",
       "    <tr>\n",
       "      <th>3</th>\n",
       "      <td>4</td>\n",
       "      <td>Female</td>\n",
       "      <td>2</td>\n",
       "      <td>Labrador Retriever</td>\n",
       "      <td>True</td>\n",
       "      <td>High</td>\n",
       "      <td>11.241825</td>\n",
       "      <td>10.126591</td>\n",
       "      <td>15.778966</td>\n",
       "      <td>11.644006</td>\n",
       "      <td>West</td>\n",
       "      <td>AZ</td>\n",
       "    </tr>\n",
       "    <tr>\n",
       "      <th>4</th>\n",
       "      <td>3</td>\n",
       "      <td>Female</td>\n",
       "      <td>2</td>\n",
       "      <td>Border Collie</td>\n",
       "      <td>True</td>\n",
       "      <td>Medium</td>\n",
       "      <td>9.400465</td>\n",
       "      <td>10.005954</td>\n",
       "      <td>15.359345</td>\n",
       "      <td>10.855975</td>\n",
       "      <td>South</td>\n",
       "      <td>LA</td>\n",
       "    </tr>\n",
       "  </tbody>\n",
       "</table>\n",
       "</div>"
      ],
      "text/plain": [
       "   age  gender  size                breeds.primary  breeds.mixed  \\\n",
       "0    1    Male     2            Labrador Retriever          True   \n",
       "1    3    Male     2  Chocolate Labrador Retriever          True   \n",
       "2    2  Female     1                        Beagle         False   \n",
       "3    4  Female     2            Labrador Retriever          True   \n",
       "4    3  Female     2                 Border Collie          True   \n",
       "\n",
       "  breed_popularity  log_breed_pop  log_dog_pop  state_population  state_area  \\\n",
       "0             High      11.241825     9.580524         15.442575   10.373710   \n",
       "1              Low       7.844241    10.005954         15.359345   10.855975   \n",
       "2           Medium       9.883234    10.196456         15.746440    9.264355   \n",
       "3             High      11.241825    10.126591         15.778966   11.644006   \n",
       "4           Medium       9.400465    10.005954         15.359345   10.855975   \n",
       "\n",
       "  state_region contact.address.state  \n",
       "0        South                    SC  \n",
       "1        South                    LA  \n",
       "2    Northeast                    MA  \n",
       "3         West                    AZ  \n",
       "4        South                    LA  "
      ]
     },
     "execution_count": 12,
     "metadata": {},
     "output_type": "execute_result"
    }
   ],
   "source": [
    "trainval_X.head()"
   ]
  },
  {
   "cell_type": "code",
   "execution_count": 13,
   "metadata": {},
   "outputs": [
    {
     "name": "stdout",
     "output_type": "stream",
     "text": [
      "Training set size = 387036 and Validation set size = 96760\n"
     ]
    }
   ],
   "source": [
    "from sklearn.model_selection import train_test_split\n",
    "train_X, val_X, train_y, val_y = train_test_split(trainval_X, trainval_y, test_size=0.2)\n",
    "print('Training set size = {} and Validation set size = {}'.format(len(train_X),len(val_X)))"
   ]
  },
  {
   "cell_type": "code",
   "execution_count": 14,
   "metadata": {},
   "outputs": [
    {
     "data": {
      "text/html": [
       "<div>\n",
       "<style scoped>\n",
       "    .dataframe tbody tr th:only-of-type {\n",
       "        vertical-align: middle;\n",
       "    }\n",
       "\n",
       "    .dataframe tbody tr th {\n",
       "        vertical-align: top;\n",
       "    }\n",
       "\n",
       "    .dataframe thead th {\n",
       "        text-align: right;\n",
       "    }\n",
       "</style>\n",
       "<table border=\"1\" class=\"dataframe\">\n",
       "  <thead>\n",
       "    <tr style=\"text-align: right;\">\n",
       "      <th></th>\n",
       "      <th>age</th>\n",
       "      <th>gender</th>\n",
       "      <th>size</th>\n",
       "      <th>breeds.primary</th>\n",
       "      <th>breeds.mixed</th>\n",
       "      <th>breed_popularity</th>\n",
       "      <th>log_breed_pop</th>\n",
       "      <th>log_dog_pop</th>\n",
       "      <th>state_population</th>\n",
       "      <th>state_area</th>\n",
       "      <th>state_region</th>\n",
       "      <th>contact.address.state</th>\n",
       "    </tr>\n",
       "  </thead>\n",
       "  <tbody>\n",
       "    <tr>\n",
       "      <th>106205</th>\n",
       "      <td>2</td>\n",
       "      <td>Female</td>\n",
       "      <td>2</td>\n",
       "      <td>Labrador Retriever</td>\n",
       "      <td>True</td>\n",
       "      <td>High</td>\n",
       "      <td>11.241825</td>\n",
       "      <td>10.539985</td>\n",
       "      <td>15.553201</td>\n",
       "      <td>11.553107</td>\n",
       "      <td>West</td>\n",
       "      <td>CO</td>\n",
       "    </tr>\n",
       "    <tr>\n",
       "      <th>338140</th>\n",
       "      <td>2</td>\n",
       "      <td>Male</td>\n",
       "      <td>1</td>\n",
       "      <td>Shih Tzu</td>\n",
       "      <td>True</td>\n",
       "      <td>Medium</td>\n",
       "      <td>9.274910</td>\n",
       "      <td>9.822820</td>\n",
       "      <td>15.576476</td>\n",
       "      <td>11.089851</td>\n",
       "      <td>Midwest</td>\n",
       "      <td>WI</td>\n",
       "    </tr>\n",
       "    <tr>\n",
       "      <th>328888</th>\n",
       "      <td>2</td>\n",
       "      <td>Female</td>\n",
       "      <td>1</td>\n",
       "      <td>Terrier</td>\n",
       "      <td>True</td>\n",
       "      <td>High</td>\n",
       "      <td>10.291332</td>\n",
       "      <td>10.539985</td>\n",
       "      <td>15.553201</td>\n",
       "      <td>11.553107</td>\n",
       "      <td>West</td>\n",
       "      <td>CO</td>\n",
       "    </tr>\n",
       "    <tr>\n",
       "      <th>146822</th>\n",
       "      <td>3</td>\n",
       "      <td>Male</td>\n",
       "      <td>3</td>\n",
       "      <td>Mastiff</td>\n",
       "      <td>False</td>\n",
       "      <td>Low</td>\n",
       "      <td>8.016978</td>\n",
       "      <td>9.739261</td>\n",
       "      <td>15.717563</td>\n",
       "      <td>10.502873</td>\n",
       "      <td>Midwest</td>\n",
       "      <td>IN</td>\n",
       "    </tr>\n",
       "    <tr>\n",
       "      <th>130293</th>\n",
       "      <td>3</td>\n",
       "      <td>Female</td>\n",
       "      <td>2</td>\n",
       "      <td>Basset Hound</td>\n",
       "      <td>False</td>\n",
       "      <td>Low</td>\n",
       "      <td>8.216899</td>\n",
       "      <td>10.005954</td>\n",
       "      <td>15.359345</td>\n",
       "      <td>10.855975</td>\n",
       "      <td>South</td>\n",
       "      <td>LA</td>\n",
       "    </tr>\n",
       "  </tbody>\n",
       "</table>\n",
       "</div>"
      ],
      "text/plain": [
       "        age  gender  size      breeds.primary  breeds.mixed breed_popularity  \\\n",
       "106205    2  Female     2  Labrador Retriever          True             High   \n",
       "338140    2    Male     1            Shih Tzu          True           Medium   \n",
       "328888    2  Female     1             Terrier          True             High   \n",
       "146822    3    Male     3             Mastiff         False              Low   \n",
       "130293    3  Female     2        Basset Hound         False              Low   \n",
       "\n",
       "        log_breed_pop  log_dog_pop  state_population  state_area state_region  \\\n",
       "106205      11.241825    10.539985         15.553201   11.553107         West   \n",
       "338140       9.274910     9.822820         15.576476   11.089851      Midwest   \n",
       "328888      10.291332    10.539985         15.553201   11.553107         West   \n",
       "146822       8.016978     9.739261         15.717563   10.502873      Midwest   \n",
       "130293       8.216899    10.005954         15.359345   10.855975        South   \n",
       "\n",
       "       contact.address.state  \n",
       "106205                    CO  \n",
       "338140                    WI  \n",
       "328888                    CO  \n",
       "146822                    IN  \n",
       "130293                    LA  "
      ]
     },
     "execution_count": 14,
     "metadata": {},
     "output_type": "execute_result"
    }
   ],
   "source": [
    "train_X.head()"
   ]
  },
  {
   "cell_type": "code",
   "execution_count": 15,
   "metadata": {},
   "outputs": [],
   "source": [
    "from sklearn.preprocessing import OneHotEncoder\n",
    "oh = OneHotEncoder(handle_unknown='ignore', sparse=False)\n",
    "cat_col = ['gender','breeds.primary','breed_popularity','contact.address.state','state_region','cg_adpt_time']"
   ]
  },
  {
   "cell_type": "code",
   "execution_count": 16,
   "metadata": {},
   "outputs": [
    {
     "data": {
      "text/plain": [
       "age                         int64\n",
       "gender                   category\n",
       "size                        int64\n",
       "breeds.primary           category\n",
       "breeds.mixed                 bool\n",
       "breed_popularity         category\n",
       "log_breed_pop             float64\n",
       "log_dog_pop               float64\n",
       "state_population          float64\n",
       "state_area                float64\n",
       "state_region             category\n",
       "contact.address.state    category\n",
       "dtype: object"
      ]
     },
     "execution_count": 16,
     "metadata": {},
     "output_type": "execute_result"
    }
   ],
   "source": [
    "train_X.dtypes"
   ]
  },
  {
   "cell_type": "code",
   "execution_count": 17,
   "metadata": {},
   "outputs": [],
   "source": [
    "import warnings\n",
    "warnings.filterwarnings(\"ignore\", category=DeprecationWarning)\n",
    "from sklearn.ensemble import RandomForestClassifier\n",
    "from sklearn.model_selection import GridSearchCV\n",
    "import time\n",
    "from sklearn.metrics import precision_recall_fscore_support as score\n",
    "from sklearn.metrics import accuracy_score"
   ]
  },
  {
   "cell_type": "code",
   "execution_count": 18,
   "metadata": {},
   "outputs": [
    {
     "data": {
      "text/plain": [
       "CategoricalDtype(categories=['1 - 2 weeks', '< 1 month', '< 1 week', '< 3 months',\n",
       "                  '> 3 months'],\n",
       "                 ordered=False)"
      ]
     },
     "execution_count": 18,
     "metadata": {},
     "output_type": "execute_result"
    }
   ],
   "source": [
    "train_y.dtypes"
   ]
  },
  {
   "cell_type": "code",
   "execution_count": 19,
   "metadata": {},
   "outputs": [],
   "source": [
    "from sklearn.pipeline import Pipeline"
   ]
  },
  {
   "cell_type": "code",
   "execution_count": 49,
   "metadata": {},
   "outputs": [],
   "source": [
    "def train_RF(n_est, depth):\n",
    "    rf = RandomForestClassifier(n_estimators=n_est, max_depth=depth, n_jobs=-1)\n",
    "    pipeline_temp = Pipeline(steps=[('preprocessor', oh),('model', rf)])\n",
    "    start = time.time()\n",
    "    pipeline_temp.fit(train_X, train_y)\n",
    "    end = time.time()\n",
    "    fit_time = end - start\n",
    "    #scores= -1 * cross_val_score(pipeline_temp, train_X, train_y,cv=5,scoring='neg_mean_absolute_error')\n",
    "    start = time.time()\n",
    "    y_pred = pipeline_temp.predict(val_X)\n",
    "    end = time.time()\n",
    "    predict_time = end - start\n",
    "    #r2s= cross_val_score(pipeline_temp, train_X, train_y,cv=5,scoring='r2')\n",
    "    #print('Est: {} / Depth: {} ---- MAE: {} R^2: {}'.format(n_est,depth,round(scores.mean(), 3),round(r2s.mean(), 3)))\n",
    "    print('Est: {} / Depth: {} ---- Fit time: {} / Predict time: {} / Accuracy: {}'.format(\n",
    "        n_est,depth,fit_time, predict_time, round((y_pred==val_y).sum()/len(y_pred), 3)))"
   ]
  },
  {
   "cell_type": "code",
   "execution_count": 50,
   "metadata": {},
   "outputs": [
    {
     "name": "stdout",
     "output_type": "stream",
     "text": [
      "Est: 10 / Depth: 10 ---- Fit time: 15.473611116409302 / Predict time: 2.494481086730957 / Accuracy: 0.301\n",
      "Est: 10 / Depth: 50 ---- Fit time: 24.592058420181274 / Predict time: 0.7177867889404297 / Accuracy: 0.311\n",
      "Est: 10 / Depth: 100 ---- Fit time: 26.772536754608154 / Predict time: 0.7061645984649658 / Accuracy: 0.304\n",
      "Est: 10 / Depth: None ---- Fit time: 25.013928413391113 / Predict time: 0.6990461349487305 / Accuracy: 0.304\n",
      "Est: 50 / Depth: 10 ---- Fit time: 39.952818870544434 / Predict time: 0.8098020553588867 / Accuracy: 0.303\n",
      "Est: 50 / Depth: 50 ---- Fit time: 105.8734941482544 / Predict time: 1.4912152290344238 / Accuracy: 0.316\n",
      "Est: 50 / Depth: 100 ---- Fit time: 110.92152380943298 / Predict time: 2.265547752380371 / Accuracy: 0.307\n",
      "Est: 50 / Depth: None ---- Fit time: 104.27123022079468 / Predict time: 2.061232805252075 / Accuracy: 0.306\n",
      "Est: 100 / Depth: 10 ---- Fit time: 67.69448971748352 / Predict time: 1.5016143321990967 / Accuracy: 0.303\n",
      "Est: 100 / Depth: 50 ---- Fit time: 189.77438688278198 / Predict time: 2.485517978668213 / Accuracy: 0.315\n",
      "Est: 100 / Depth: 100 ---- Fit time: 206.98789358139038 / Predict time: 3.0928900241851807 / Accuracy: 0.306\n",
      "Est: 100 / Depth: None ---- Fit time: 185.93531727790833 / Predict time: 2.9992990493774414 / Accuracy: 0.308\n",
      "Est: 200 / Depth: 10 ---- Fit time: 119.1370542049408 / Predict time: 2.153320550918579 / Accuracy: 0.303\n",
      "Est: 200 / Depth: 50 ---- Fit time: 342.72791743278503 / Predict time: 4.218092918395996 / Accuracy: 0.316\n",
      "Est: 200 / Depth: 100 ---- Fit time: 374.64633870124817 / Predict time: 6.4417643547058105 / Accuracy: 0.307\n",
      "Est: 200 / Depth: None ---- Fit time: 402.0775249004364 / Predict time: 5.724821329116821 / Accuracy: 0.307\n"
     ]
    }
   ],
   "source": [
    "for n_est in [10, 50, 100, 200]:\n",
    "    for depth in [10, 50, 100, None]:\n",
    "        train_RF(n_est, depth)"
   ]
  },
  {
   "cell_type": "code",
   "execution_count": 38,
   "metadata": {},
   "outputs": [
    {
     "name": "stdout",
     "output_type": "stream",
     "text": [
      "Est: 100 / Depth: 30 ---- Fit time: 199.89548540115356 / Predict time: 2.6306707859039307 / Accuracy: 0.322\n",
      "Est: 100 / Depth: 40 ---- Fit time: 234.63526678085327 / Predict time: 3.1803433895111084 / Accuracy: 0.32\n",
      "Est: 100 / Depth: 50 ---- Fit time: 255.78041696548462 / Predict time: 3.786173105239868 / Accuracy: 0.314\n",
      "Est: 100 / Depth: 60 ---- Fit time: 271.31245279312134 / Predict time: 3.815086603164673 / Accuracy: 0.312\n",
      "Est: 150 / Depth: 30 ---- Fit time: 303.3616180419922 / Predict time: 3.494270086288452 / Accuracy: 0.324\n",
      "Est: 150 / Depth: 40 ---- Fit time: 376.6917893886566 / Predict time: 4.659846305847168 / Accuracy: 0.319\n",
      "Est: 150 / Depth: 50 ---- Fit time: 394.3275411128998 / Predict time: 5.69328761100769 / Accuracy: 0.315\n",
      "Est: 150 / Depth: 60 ---- Fit time: 408.54864287376404 / Predict time: 5.598904848098755 / Accuracy: 0.311\n",
      "Est: 200 / Depth: 30 ---- Fit time: 405.64442110061646 / Predict time: 4.876736640930176 / Accuracy: 0.323\n",
      "Est: 200 / Depth: 40 ---- Fit time: 479.49499773979187 / Predict time: 5.630284070968628 / Accuracy: 0.319\n",
      "Est: 200 / Depth: 50 ---- Fit time: 505.85049510002136 / Predict time: 6.663372755050659 / Accuracy: 0.316\n",
      "Est: 200 / Depth: 60 ---- Fit time: 536.643550157547 / Predict time: 7.2398576736450195 / Accuracy: 0.311\n",
      "Est: 250 / Depth: 30 ---- Fit time: 503.7146706581116 / Predict time: 5.875686168670654 / Accuracy: 0.324\n",
      "Est: 250 / Depth: 40 ---- Fit time: 586.8201310634613 / Predict time: 7.108208894729614 / Accuracy: 0.319\n",
      "Est: 250 / Depth: 50 ---- Fit time: 549.6250221729279 / Predict time: 5.983004570007324 / Accuracy: 0.316\n",
      "Est: 250 / Depth: 60 ---- Fit time: 543.4004461765289 / Predict time: 10.559512376785278 / Accuracy: 0.312\n"
     ]
    }
   ],
   "source": [
    "for n_est in [100, 150, 200, 250]:\n",
    "    for depth in [30, 40, 50, 60]:\n",
    "        train_RF(n_est, depth)"
   ]
  },
  {
   "cell_type": "code",
   "execution_count": null,
   "metadata": {},
   "outputs": [],
   "source": [
    "rf = RandomForestClassifier(n_estimators=150, max_depth=30, n_jobs=-1)\n",
    "pipeline_temp2 = Pipeline(steps=[('preprocessor', oh),('model', rf)])\n",
    "start = time.time()\n",
    "pipeline_temp2.fit(train_X, train_y)\n",
    "end = time.time()\n",
    "fit_time = end - start\n",
    "#scores= -1 * cross_val_score(pipeline_temp, train_X, train_y,cv=5,scoring='neg_mean_absolute_error')\n",
    "y_pred = pipeline_temp2.predict(val_X)\n",
    "round((y_pred==val_y).sum()/len(y_pred), 3)"
   ]
  },
  {
   "cell_type": "code",
   "execution_count": 20,
   "metadata": {},
   "outputs": [],
   "source": [
    "from sklearn.pipeline import Pipeline\n",
    "from sklearn.compose import ColumnTransformer"
   ]
  },
  {
   "cell_type": "code",
   "execution_count": 22,
   "metadata": {},
   "outputs": [],
   "source": [
    "rf = RandomForestClassifier(n_estimators=150, max_depth=30, n_jobs=-1)\n",
    "categorical_features = ['gender','breeds.primary','breed_popularity','contact.address.state','state_region']\n",
    "categorical_transformer = Pipeline(steps=[\n",
    "    ('onehot', OneHotEncoder(handle_unknown='ignore', sparse=False))])\n",
    "preprocessor = ColumnTransformer(\n",
    "    transformers=[\n",
    "        ('cat', categorical_transformer, categorical_features)], remainder='passthrough')\n",
    "pipeline_temp = Pipeline(steps=[('preprocessor', preprocessor),('model', rf)])\n",
    "start = time.time()\n",
    "pipeline_temp.fit(train_X, train_y)\n",
    "end = time.time()"
   ]
  },
  {
   "cell_type": "code",
   "execution_count": null,
   "metadata": {},
   "outputs": [],
   "source": []
  },
  {
   "cell_type": "code",
   "execution_count": 23,
   "metadata": {},
   "outputs": [
    {
     "data": {
      "text/plain": [
       "array([0.04095653, 0.04111344, 0.00318689, 0.00688339, 0.00400655,\n",
       "       0.00496026, 0.00244575, 0.00510502, 0.00192092, 0.00381635,\n",
       "       0.00124437, 0.00426865, 0.00240664, 0.0050331 , 0.00138886,\n",
       "       0.00189136, 0.00217637, 0.00239393, 0.00466397, 0.00191413,\n",
       "       0.00151818, 0.00263083, 0.00208589, 0.00163129, 0.00233757,\n",
       "       0.00463112, 0.00223994, 0.0017546 , 0.00470521, 0.00165049,\n",
       "       0.00329448, 0.00240778, 0.00241489, 0.00316199, 0.00415221,\n",
       "       0.00289904, 0.00317957, 0.00443762, 0.00179266, 0.00274861,\n",
       "       0.0018412 , 0.00281454, 0.00838105, 0.00164744, 0.00168278,\n",
       "       0.00833217, 0.00148196, 0.00189435, 0.00272091, 0.00532075,\n",
       "       0.00284234, 0.00573466, 0.00280885, 0.0035433 , 0.00261423,\n",
       "       0.00154503, 0.00320587, 0.00172396, 0.00445538, 0.00178918,\n",
       "       0.00431035, 0.00242793, 0.00232073, 0.00230671, 0.00475224,\n",
       "       0.00167645, 0.00281773, 0.00163334, 0.00143742, 0.00216702,\n",
       "       0.00242105, 0.00327275, 0.00434899, 0.00385917, 0.00483949,\n",
       "       0.00130918, 0.00111472, 0.00154552, 0.00133354, 0.00212066,\n",
       "       0.0010401 , 0.00233337, 0.0012567 , 0.00258318, 0.00300707,\n",
       "       0.00170255, 0.00117106, 0.0014488 , 0.00423094, 0.00119059,\n",
       "       0.00164251, 0.0016834 , 0.00482861, 0.00219252, 0.00173598,\n",
       "       0.00109351, 0.00114025, 0.00234255, 0.0015204 , 0.00129756,\n",
       "       0.0019426 , 0.0012408 , 0.00694307, 0.00396797, 0.00202807,\n",
       "       0.00104067, 0.00405103, 0.00182797, 0.00335736, 0.00122762,\n",
       "       0.00083213, 0.00113264, 0.00257491, 0.00325784, 0.00448116,\n",
       "       0.00403573, 0.00715101, 0.21388694, 0.10415444, 0.07332579,\n",
       "       0.11705302, 0.02674382, 0.02739886, 0.03105753])"
      ]
     },
     "execution_count": 23,
     "metadata": {},
     "output_type": "execute_result"
    }
   ],
   "source": [
    "pipeline_temp['model'].feature_importances_"
   ]
  },
  {
   "cell_type": "code",
   "execution_count": 24,
   "metadata": {},
   "outputs": [
    {
     "data": {
      "text/plain": [
       "0.313"
      ]
     },
     "execution_count": 24,
     "metadata": {},
     "output_type": "execute_result"
    }
   ],
   "source": [
    "y_pred = pipeline_temp.predict(val_X)\n",
    "round((y_pred==val_y).sum()/len(y_pred), 3)"
   ]
  },
  {
   "cell_type": "code",
   "execution_count": 46,
   "metadata": {},
   "outputs": [],
   "source": [
    "def train_RF_2(n_est, depth):\n",
    "    categorical_features = ['gender', 'state_region']\n",
    "    categorical_transformer = Pipeline(steps=[\n",
    "        ('onehot', OneHotEncoder(handle_unknown='ignore', sparse=False))])\n",
    "    preprocessor = ColumnTransformer(\n",
    "        transformers=[\n",
    "            ('cat', categorical_transformer, categorical_features)], remainder='passthrough')\n",
    "    pipeline_temp = Pipeline(steps=[('preprocessor', preprocessor),('model', rf)])\n",
    "    start = time.time()\n",
    "    pipeline_temp.fit(train_X, train_y)\n",
    "    end = time.time()\n",
    "    fit_time = end - start\n",
    "    #scores= -1 * cross_val_score(pipeline_temp, train_X, train_y,cv=5,scoring='neg_mean_absolute_error')\n",
    "    start = time.time()\n",
    "    y_pred = pipeline_temp.predict(val_X)\n",
    "    end = time.time()\n",
    "    predict_time = end - start\n",
    "    #r2s= cross_val_score(pipeline_temp, train_X, train_y,cv=5,scoring='r2')\n",
    "    #print('Est: {} / Depth: {} ---- MAE: {} R^2: {}'.format(n_est,depth,round(scores.mean(), 3),round(r2s.mean(), 3)))\n",
    "    print('Est: {} / Depth: {} ---- Fit time: {} / Predict time: {} / Accuracy: {}'.format(\n",
    "        n_est,depth,fit_time, predict_time, round((y_pred==val_y).sum()/len(y_pred), 3)))"
   ]
  },
  {
   "cell_type": "code",
   "execution_count": 48,
   "metadata": {},
   "outputs": [
    {
     "name": "stdout",
     "output_type": "stream",
     "text": [
      "Est: 100 / Depth: 30 ---- Fit time: 54.64836120605469 / Predict time: 3.0222551822662354 / Accuracy: 0.304\n",
      "Est: 100 / Depth: 40 ---- Fit time: 52.29619288444519 / Predict time: 4.100038290023804 / Accuracy: 0.303\n",
      "Est: 100 / Depth: 50 ---- Fit time: 59.462018728256226 / Predict time: 3.8525631427764893 / Accuracy: 0.302\n",
      "Est: 100 / Depth: 60 ---- Fit time: 55.26665735244751 / Predict time: 3.5056264400482178 / Accuracy: 0.303\n",
      "Est: 150 / Depth: 30 ---- Fit time: 52.687329053878784 / Predict time: 2.758556604385376 / Accuracy: 0.303\n",
      "Est: 150 / Depth: 40 ---- Fit time: 49.007484912872314 / Predict time: 2.799514055252075 / Accuracy: 0.303\n",
      "Est: 150 / Depth: 50 ---- Fit time: 47.07659840583801 / Predict time: 2.7487106323242188 / Accuracy: 0.304\n",
      "Est: 150 / Depth: 60 ---- Fit time: 47.86254525184631 / Predict time: 2.8676652908325195 / Accuracy: 0.302\n",
      "Est: 200 / Depth: 30 ---- Fit time: 48.47635579109192 / Predict time: 3.041867256164551 / Accuracy: 0.303\n",
      "Est: 200 / Depth: 40 ---- Fit time: 48.38663196563721 / Predict time: 3.0000698566436768 / Accuracy: 0.302\n",
      "Est: 200 / Depth: 50 ---- Fit time: 48.33975601196289 / Predict time: 2.9852066040039062 / Accuracy: 0.303\n",
      "Est: 200 / Depth: 60 ---- Fit time: 48.48227524757385 / Predict time: 3.048848867416382 / Accuracy: 0.303\n",
      "Est: 250 / Depth: 30 ---- Fit time: 49.0451774597168 / Predict time: 3.1625442504882812 / Accuracy: 0.303\n",
      "Est: 250 / Depth: 40 ---- Fit time: 49.64152646064758 / Predict time: 2.8276963233947754 / Accuracy: 0.303\n",
      "Est: 250 / Depth: 50 ---- Fit time: 49.28685545921326 / Predict time: 3.1635398864746094 / Accuracy: 0.304\n",
      "Est: 250 / Depth: 60 ---- Fit time: 49.29571866989136 / Predict time: 3.489625930786133 / Accuracy: 0.303\n"
     ]
    }
   ],
   "source": [
    "for n_est in [100, 150, 200, 250]:\n",
    "    for depth in [30, 40, 50, 60]:\n",
    "        train_RF_2(n_est, depth)"
   ]
  },
  {
   "cell_type": "code",
   "execution_count": 17,
   "metadata": {},
   "outputs": [],
   "source": [
    "from sklearn.linear_model import LogisticRegression"
   ]
  },
  {
   "cell_type": "code",
   "execution_count": 20,
   "metadata": {},
   "outputs": [],
   "source": [
    "def train_LR(c, m):\n",
    "    lr = LogisticRegression(C=c, max_iter=m, n_jobs=-1)\n",
    "    pipeline_temp = Pipeline(steps=[('preprocessor', oh),('model', lr)])\n",
    "    start = time.time()\n",
    "    pipeline_temp.fit(train_X, train_y)\n",
    "    end = time.time()\n",
    "    fit_time = end - start\n",
    "    #scores= -1 * cross_val_score(pipeline_temp, train_X, train_y,cv=5,scoring='neg_mean_absolute_error')\n",
    "    start = time.time()\n",
    "    y_pred = pipeline_temp.predict(val_X)\n",
    "    end = time.time()\n",
    "    predict_time = end - start\n",
    "    #r2s= cross_val_score(pipeline_temp, train_X, train_y,cv=5,scoring='r2')\n",
    "    #print('Est: {} / Depth: {} ---- MAE: {} R^2: {}'.format(n_est,depth,round(scores.mean(), 3),round(r2s.mean(), 3)))\n",
    "    print('C: {} / Max Iter: {} ---- Fit time: {} / Predict time: {} / Accuracy: {}'.format(\n",
    "        c,m,fit_time, predict_time, round((y_pred==val_y).sum()/len(y_pred), 3)))"
   ]
  },
  {
   "cell_type": "code",
   "execution_count": 21,
   "metadata": {},
   "outputs": [
    {
     "name": "stdout",
     "output_type": "stream",
     "text": [
      "C: 0.001 / Max Iter: 10 ---- Fit time: 24.62791347503662 / Predict time: 0.22440147399902344 / Accuracy: 0.3\n",
      "C: 0.001 / Max Iter: 100 ---- Fit time: 73.36837077140808 / Predict time: 0.23833060264587402 / Accuracy: 0.305\n",
      "C: 0.001 / Max Iter: 1000 ---- Fit time: 74.21368265151978 / Predict time: 0.22735953330993652 / Accuracy: 0.305\n",
      "C: 0.001 / Max Iter: 5000 ---- Fit time: 73.00452828407288 / Predict time: 0.22140932083129883 / Accuracy: 0.305\n",
      "C: 0.01 / Max Iter: 10 ---- Fit time: 14.92389464378357 / Predict time: 0.21342897415161133 / Accuracy: 0.302\n",
      "C: 0.01 / Max Iter: 100 ---- Fit time: 94.2195496559143 / Predict time: 0.2682819366455078 / Accuracy: 0.307\n",
      "C: 0.01 / Max Iter: 1000 ---- Fit time: 147.55042243003845 / Predict time: 0.2453446388244629 / Accuracy: 0.307\n",
      "C: 0.01 / Max Iter: 5000 ---- Fit time: 147.33505249023438 / Predict time: 0.2373332977294922 / Accuracy: 0.307\n",
      "C: 0.1 / Max Iter: 10 ---- Fit time: 15.23764419555664 / Predict time: 0.24830365180969238 / Accuracy: 0.302\n",
      "C: 0.1 / Max Iter: 100 ---- Fit time: 93.54297184944153 / Predict time: 0.20844292640686035 / Accuracy: 0.307\n",
      "C: 0.1 / Max Iter: 1000 ---- Fit time: 138.32800674438477 / Predict time: 0.23537111282348633 / Accuracy: 0.308\n",
      "C: 0.1 / Max Iter: 5000 ---- Fit time: 139.07282161712646 / Predict time: 0.22440028190612793 / Accuracy: 0.308\n",
      "C: 1 / Max Iter: 10 ---- Fit time: 14.855583906173706 / Predict time: 0.23041629791259766 / Accuracy: 0.302\n",
      "C: 1 / Max Iter: 100 ---- Fit time: 96.90889239311218 / Predict time: 0.28025007247924805 / Accuracy: 0.307\n",
      "C: 1 / Max Iter: 1000 ---- Fit time: 146.66636180877686 / Predict time: 0.2124323844909668 / Accuracy: 0.308\n",
      "C: 1 / Max Iter: 5000 ---- Fit time: 140.96941471099854 / Predict time: 0.23237967491149902 / Accuracy: 0.308\n",
      "C: 10 / Max Iter: 10 ---- Fit time: 14.427071332931519 / Predict time: 0.23833036422729492 / Accuracy: 0.302\n",
      "C: 10 / Max Iter: 100 ---- Fit time: 91.53714108467102 / Predict time: 0.2313830852508545 / Accuracy: 0.308\n",
      "C: 10 / Max Iter: 1000 ---- Fit time: 132.7794065475464 / Predict time: 0.22439980506896973 / Accuracy: 0.308\n",
      "C: 10 / Max Iter: 5000 ---- Fit time: 129.8093650341034 / Predict time: 0.2323758602142334 / Accuracy: 0.308\n",
      "C: 100 / Max Iter: 10 ---- Fit time: 14.644374132156372 / Predict time: 0.2233719825744629 / Accuracy: 0.302\n",
      "C: 100 / Max Iter: 100 ---- Fit time: 94.61279964447021 / Predict time: 0.23337411880493164 / Accuracy: 0.307\n",
      "C: 100 / Max Iter: 1000 ---- Fit time: 150.62105894088745 / Predict time: 0.24135327339172363 / Accuracy: 0.308\n",
      "C: 100 / Max Iter: 5000 ---- Fit time: 149.17759013175964 / Predict time: 0.22838902473449707 / Accuracy: 0.308\n",
      "C: 1000 / Max Iter: 10 ---- Fit time: 15.00244951248169 / Predict time: 0.24135351181030273 / Accuracy: 0.302\n",
      "C: 1000 / Max Iter: 100 ---- Fit time: 95.81570267677307 / Predict time: 0.23337721824645996 / Accuracy: 0.307\n",
      "C: 1000 / Max Iter: 1000 ---- Fit time: 135.21771717071533 / Predict time: 0.22838830947875977 / Accuracy: 0.308\n",
      "C: 1000 / Max Iter: 5000 ---- Fit time: 135.27449822425842 / Predict time: 0.2603013515472412 / Accuracy: 0.308\n"
     ]
    }
   ],
   "source": [
    "for c in [0.001, 0.01, 0.1, 1, 10, 100, 1000]:\n",
    "    for m in [10, 100, 1000, 5000]:\n",
    "        train_LR(c,m)"
   ]
  },
  {
   "cell_type": "code",
   "execution_count": 22,
   "metadata": {},
   "outputs": [],
   "source": [
    "from sklearn.linear_model import RidgeClassifier"
   ]
  },
  {
   "cell_type": "code",
   "execution_count": 25,
   "metadata": {},
   "outputs": [],
   "source": [
    "def train_RC(a):\n",
    "    rc = RidgeClassifier(alpha=a)\n",
    "    pipeline_temp = Pipeline(steps=[('preprocessor', oh),('model', rc)])\n",
    "    start = time.time()\n",
    "    pipeline_temp.fit(train_X, train_y)\n",
    "    end = time.time()\n",
    "    fit_time = end - start\n",
    "    #scores= -1 * cross_val_score(pipeline_temp, train_X, train_y,cv=5,scoring='neg_mean_absolute_error')\n",
    "    start = time.time()\n",
    "    y_pred = pipeline_temp.predict(val_X)\n",
    "    end = time.time()\n",
    "    predict_time = end - start\n",
    "    #r2s= cross_val_score(pipeline_temp, train_X, train_y,cv=5,scoring='r2')\n",
    "    #print('Est: {} / Depth: {} ---- MAE: {} R^2: {}'.format(n_est,depth,round(scores.mean(), 3),round(r2s.mean(), 3)))\n",
    "    print('Alpha: {} ---- Fit time: {} / Predict time: {} / Accuracy: {}'.format(\n",
    "        a,fit_time, predict_time, round((y_pred==val_y).sum()/len(y_pred), 3)))"
   ]
  },
  {
   "cell_type": "code",
   "execution_count": 26,
   "metadata": {},
   "outputs": [
    {
     "name": "stdout",
     "output_type": "stream",
     "text": [
      "Alpha: 0.001 ---- Fit time: 4.415618181228638 / Predict time: 0.32364511489868164 / Accuracy: 0.307\n",
      "Alpha: 0.01 ---- Fit time: 3.6600544452667236 / Predict time: 0.24135541915893555 / Accuracy: 0.307\n",
      "Alpha: 0.1 ---- Fit time: 3.588601589202881 / Predict time: 0.22838807106018066 / Accuracy: 0.307\n",
      "Alpha: 1 ---- Fit time: 3.6231701374053955 / Predict time: 0.2329120635986328 / Accuracy: 0.307\n",
      "Alpha: 10 ---- Fit time: 3.849255084991455 / Predict time: 0.2373669147491455 / Accuracy: 0.307\n",
      "Alpha: 100 ---- Fit time: 3.5573558807373047 / Predict time: 0.23138093948364258 / Accuracy: 0.306\n",
      "Alpha: 1000 ---- Fit time: 3.807166337966919 / Predict time: 0.23537564277648926 / Accuracy: 0.305\n"
     ]
    }
   ],
   "source": [
    "for a in [0.001, 0.01, 0.1, 1, 10, 100, 1000]:\n",
    "    train_RC(a)"
   ]
  },
  {
   "cell_type": "code",
   "execution_count": 28,
   "metadata": {},
   "outputs": [
    {
     "data": {
      "text/plain": [
       "0.307"
      ]
     },
     "execution_count": 28,
     "metadata": {},
     "output_type": "execute_result"
    }
   ],
   "source": [
    "rc = RidgeClassifier(alpha=0.1)\n",
    "pipeline_rc = Pipeline(steps=[('preprocessor', oh),('model', rc)])\n",
    "pipeline_rc.fit(train_X, train_y)\n",
    "y_pred = pipeline_rc.predict(val_X)\n",
    "round((y_pred==val_y).sum()/len(y_pred), 3)"
   ]
  },
  {
   "cell_type": "code",
   "execution_count": 38,
   "metadata": {},
   "outputs": [
    {
     "data": {
      "text/plain": [
       "array([[-3.56900367e-02,  1.16781764e-01, -7.33985118e-02,\n",
       "        -7.69321654e-03,  1.34929262e-03, -1.34929262e-03,\n",
       "        -1.28448448e-02, -1.22099834e-02,  2.50548280e-02,\n",
       "        -1.50214686e-02, -1.33962164e-03,  1.63610902e-02,\n",
       "        -6.47243395e-02, -1.13781832e-01,  4.29682461e-03,\n",
       "         2.86872979e-02,  9.46410266e-04,  1.51007371e-02,\n",
       "        -6.54616490e-02,  2.89887923e-02, -3.19962316e-02,\n",
       "         4.53952974e-02,  9.79364060e-02, -2.66149883e-02,\n",
       "        -3.92609840e-02,  6.88711495e-02,  2.24545795e-02,\n",
       "        -1.70294801e-02, -1.24635349e-02,  6.69953803e-02,\n",
       "        -2.29049391e-02,  3.19044249e-02,  2.86353661e-02,\n",
       "        -2.70928341e-02,  2.30064597e-02, -3.45499495e-03,\n",
       "        -3.80917807e-02,  3.64369766e-03, -4.03373574e-03,\n",
       "        -2.32828220e-02,  2.75895799e-02, -2.18427653e-02,\n",
       "        -5.72410932e-03, -1.14281418e-01, -3.11420346e-02,\n",
       "         6.20759158e-02,  5.87746516e-03,  2.06592259e-02,\n",
       "         1.38217013e-02,  2.25652823e-02,  1.23454538e-02,\n",
       "        -2.77611851e-02, -3.39035601e-02,  2.17859733e-02,\n",
       "        -1.46476878e-03, -5.56842545e-02, -9.88901775e-03,\n",
       "         5.96193807e-03,  3.04605194e-02,  5.17079945e-02,\n",
       "         2.25722094e-04, -9.63815443e-04, -2.43401056e-02,\n",
       "         5.21307952e-03,  4.31088745e-03,  1.66447844e-02,\n",
       "         3.75998693e-02, -1.39680642e-02, -1.56810356e-02,\n",
       "         9.80771102e-03,  2.64136875e-02, -3.03573679e-02,\n",
       "         3.95923897e-02, -9.71937587e-02,  3.24670951e-02,\n",
       "        -7.81304118e-02,  3.65588821e-02, -1.80248669e-02,\n",
       "         3.21579526e-02, -5.61405440e-02,  1.04811735e-01,\n",
       "         3.91695607e-02, -6.37747651e-03,  6.37747650e-03,\n",
       "        -2.96542956e-02,  2.70554470e-02, -1.94179948e-02,\n",
       "        -6.53821686e-02,  2.49036425e-02,  2.37155398e-02,\n",
       "        -2.65335751e-02,  2.36552968e-02,  5.75452550e-02,\n",
       "         1.45219913e-01,  6.50816272e-02,  3.35560447e-02,\n",
       "         3.49343373e-02,  1.35598525e-01,  5.97634181e-02,\n",
       "        -4.97646920e-02, -3.58698295e-02, -9.64373601e-02,\n",
       "        -9.37888999e-02, -6.98363227e-02,  3.41957092e-05,\n",
       "         5.37140746e-02, -1.06769603e-01, -1.74100716e-02,\n",
       "         1.15680117e-02,  2.13798302e-02, -3.62580993e-02,\n",
       "         4.17079836e-02, -1.26215230e-02, -5.35837071e-02,\n",
       "         9.74491393e-02,  2.18246702e-02, -6.72060702e-02,\n",
       "        -1.26592692e-01, -1.51116731e-02,  2.93797760e-02,\n",
       "         1.29746782e-02,  1.17717204e-03],\n",
       "       [-2.02110431e-02,  4.44756054e-02, -2.90038566e-02,\n",
       "         4.73929346e-03, -2.68873141e-03,  2.68873141e-03,\n",
       "        -3.30182214e-03, -1.53077235e-03,  4.83259451e-03,\n",
       "        -2.27776910e-03,  6.01621223e-03, -3.73844326e-03,\n",
       "        -2.33022309e-02, -5.84264989e-02,  2.88208572e-02,\n",
       "        -4.52425250e-03,  1.39476854e-02,  2.51017867e-02,\n",
       "        -6.14874970e-02,  3.79386803e-02,  2.21616795e-02,\n",
       "        -2.31182202e-02,  1.64187380e-02,  1.13037832e-02,\n",
       "        -4.25395967e-02, -5.90451689e-03,  1.21760819e-02,\n",
       "        -4.77267885e-03, -4.76857050e-04,  2.76937215e-02,\n",
       "        -6.40240096e-03, -2.37873033e-02, -2.04031815e-02,\n",
       "        -1.34577481e-02,  1.66305252e-02,  1.26147068e-02,\n",
       "         5.00556063e-02,  2.42324023e-02,  3.55309613e-03,\n",
       "         1.64213076e-02,  4.48029894e-02,  2.56981465e-02,\n",
       "        -3.60429296e-03, -8.05445687e-03,  2.06897776e-02,\n",
       "        -1.56582455e-02, -1.60813163e-02,  2.99744451e-02,\n",
       "        -1.11627141e-02,  1.87855607e-02, -1.93435876e-02,\n",
       "        -1.16990916e-03, -4.95166212e-02, -1.90451013e-02,\n",
       "         3.16525756e-02, -3.45218531e-02,  3.13154774e-02,\n",
       "         5.08160621e-03, -2.29232264e-03, -2.20231630e-03,\n",
       "        -8.68703783e-03,  1.85998851e-04,  1.61615472e-02,\n",
       "        -1.69190687e-02, -1.78312318e-02,  5.12402696e-02,\n",
       "         2.72369041e-02, -2.51382599e-02,  1.80457790e-02,\n",
       "         3.05793709e-02,  6.15330192e-03, -4.26796233e-02,\n",
       "        -3.18995262e-03, -4.47594738e-02,  2.74649586e-03,\n",
       "         4.62460190e-06,  5.07757916e-03, -3.73552107e-02,\n",
       "         2.04647339e-02, -3.24508188e-03, -2.06539469e-02,\n",
       "        -1.32532350e-02, -3.82125144e-03,  3.82125144e-03,\n",
       "         2.01975349e-02, -5.76827718e-02, -5.31404521e-02,\n",
       "        -4.05210397e-02, -5.17924773e-04, -1.09330423e-02,\n",
       "        -4.15966973e-02, -1.15589480e-02, -7.60505831e-02,\n",
       "         3.44899965e-02, -3.85112204e-02,  4.63391382e-02,\n",
       "        -2.35074328e-02,  2.13273021e-01,  6.09741238e-03,\n",
       "         7.16439753e-02, -4.97147624e-02,  8.68926484e-02,\n",
       "         5.36587493e-03,  8.68322202e-02,  7.84519145e-02,\n",
       "         6.63852561e-03, -7.63409363e-02, -7.32687807e-02,\n",
       "         5.40712090e-02, -5.36302950e-02, -9.37154453e-03,\n",
       "        -8.06836310e-02,  1.14732828e-02, -4.35500462e-02,\n",
       "         1.27446863e-01, -9.14421264e-02, -6.89297278e-03,\n",
       "        -2.89775914e-02, -3.57402438e-02,  7.67915968e-02,\n",
       "        -1.74658630e-02, -4.90630753e-03],\n",
       "       [-5.20263321e-02,  1.81284012e-01, -1.39964654e-01,\n",
       "         1.07069733e-02,  9.28028498e-03, -9.28028498e-03,\n",
       "        -3.91892311e-02, -2.65509924e-02,  6.57402227e-02,\n",
       "        -2.89890445e-02, -1.27650076e-02,  4.17540522e-02,\n",
       "        -1.04606623e-01, -2.25689828e-01, -1.69349020e-02,\n",
       "         8.88133701e-02,  1.75122821e-02, -3.41431557e-02,\n",
       "         3.92310220e-02, -3.62893410e-02, -1.11829425e-01,\n",
       "         1.43824494e-02, -1.59705955e-02, -1.12998428e-01,\n",
       "        -1.10204667e-01,  4.46102353e-02, -1.68397074e-02,\n",
       "        -4.36159721e-03, -3.77019711e-02,  6.06907278e-02,\n",
       "        -2.14021018e-02,  9.58039675e-02,  1.00562413e-01,\n",
       "        -8.13422419e-02,  6.74693481e-02, -6.67837926e-02,\n",
       "        -5.91698013e-02,  6.51997008e-02, -2.35436210e-02,\n",
       "        -9.39259360e-03,  1.11227109e-01, -7.53667722e-02,\n",
       "        -7.25568598e-03, -2.20803550e-01, -8.69614365e-02,\n",
       "         8.84757052e-02, -7.21783954e-02,  2.99322333e-02,\n",
       "         1.10694325e-01,  1.47490042e-01, -1.71573066e-02,\n",
       "        -9.26490782e-02,  1.96096910e-01,  7.32304966e-02,\n",
       "         2.04606131e-03, -5.78868569e-02, -9.32443306e-02,\n",
       "        -3.73438062e-02,  9.00712838e-02,  1.12510807e-01,\n",
       "         2.16437555e-02,  1.08087305e-04, -8.50312204e-02,\n",
       "         3.67047049e-02,  1.98580186e-02, -1.09233270e-01,\n",
       "         7.08821709e-02, -9.06258853e-03, -2.26506258e-02,\n",
       "         9.94567461e-02,  1.15581859e-01,  1.57852097e-01,\n",
       "         8.69067597e-02, -1.80652208e-01,  3.66675504e-02,\n",
       "        -1.39870038e-01,  5.44944744e-02, -3.87215623e-03,\n",
       "         6.67416178e-02, -8.39012525e-02,  5.77175580e-02,\n",
       "         1.03659082e-01, -2.50271761e-04,  2.50271761e-04,\n",
       "        -4.31446575e-02,  5.33941744e-03, -3.90386063e-03,\n",
       "        -2.16488227e-02,  1.24955300e-01, -4.97216357e-02,\n",
       "         1.48169821e-01,  1.54790770e-01,  4.07315846e-01,\n",
       "        -6.11354764e-02,  6.98446023e-02, -4.01756132e-02,\n",
       "         7.43324450e-02, -2.07798875e-01, -5.13609912e-03,\n",
       "        -2.01137524e-01,  9.14683700e-03, -2.18251301e-01,\n",
       "        -1.38826560e-01, -2.52951329e-01, -7.67278338e-02,\n",
       "         5.36798653e-02, -1.55597188e-01,  1.57606661e-01,\n",
       "        -1.84963551e-01,  1.75403007e-01, -5.11403941e-02,\n",
       "         4.00033963e-01, -6.77173973e-02,  1.95446917e-01,\n",
       "        -1.19205045e-01,  2.44194786e-01, -1.10299830e-01,\n",
       "        -2.11174190e-01, -3.85745348e-02, -1.02879372e-01,\n",
       "         7.84629117e-02,  6.33879386e-02],\n",
       "       [ 3.85815653e-02, -1.27650714e-01,  8.78012984e-02,\n",
       "         1.26785163e-03, -2.45924294e-03,  2.45924294e-03,\n",
       "         2.01898419e-02,  2.37104619e-02, -4.39003033e-02,\n",
       "         2.01862967e-02,  5.49587829e-03, -2.56821747e-02,\n",
       "         4.95526303e-02,  1.19233874e-01,  8.58271543e-03,\n",
       "        -4.38577889e-02, -2.21849134e-02,  2.66895227e-03,\n",
       "         1.00535864e-02, -2.10843103e-02,  8.24366274e-02,\n",
       "        -1.62408132e-02, -5.83619207e-02,  5.66727353e-02,\n",
       "         7.55773424e-02, -3.75964527e-02,  1.28825336e-02,\n",
       "         2.15060048e-02,  2.91819850e-02, -5.61435326e-02,\n",
       "         1.06786276e-03, -6.81425613e-02, -6.82184739e-02,\n",
       "         5.57685797e-02, -3.99880822e-02,  3.71665969e-02,\n",
       "         3.54829860e-02, -7.37699395e-02,  2.36543269e-02,\n",
       "        -3.11380732e-02, -5.62763405e-02,  7.49794998e-02,\n",
       "        -6.88582105e-04,  2.91944327e-01,  5.97104620e-02,\n",
       "        -5.90449846e-02,  3.76540201e-02, -2.59889824e-02,\n",
       "        -4.70321186e-02, -7.57298332e-02,  2.36474790e-02,\n",
       "         4.49394927e-02, -8.38227760e-02, -1.40601566e-02,\n",
       "        -1.69471926e-02,  3.77886922e-02,  5.47035104e-02,\n",
       "         2.46654855e-02, -4.93723974e-02, -4.90507049e-02,\n",
       "         2.40884975e-02,  3.21512381e-03,  4.98781185e-02,\n",
       "        -1.86395622e-02, -1.64547858e-02,  1.21654417e-02,\n",
       "        -4.05935334e-02, -1.61730037e-02,  1.48282976e-02,\n",
       "        -9.10536661e-02, -6.15711179e-02, -4.31384299e-02,\n",
       "        -3.93122258e-02,  8.46118054e-02, -2.07953981e-02,\n",
       "         5.75438464e-02, -5.73572008e-02, -1.85974231e-02,\n",
       "        -4.27347374e-02,  7.54698643e-02, -5.82282255e-02,\n",
       "        -5.39330618e-02,  5.64170249e-03, -5.64170249e-03,\n",
       "         2.66152912e-02,  1.10518994e-02, -7.46096149e-03,\n",
       "         3.09386215e-02, -7.62222809e-02, -1.12079633e-02,\n",
       "        -3.84387548e-02, -9.98828320e-02, -1.87354905e-01,\n",
       "        -6.67501538e-02, -7.16267130e-02,  8.47282193e-03,\n",
       "        -4.79321330e-02, -4.01405210e-02, -1.04283593e-02,\n",
       "         1.61235804e-01,  6.40703467e-03,  2.08810673e-01,\n",
       "         9.36149700e-02,  1.27768331e-01,  6.49858596e-02,\n",
       "        -5.03084078e-02,  4.35381370e-02, -7.42562067e-02,\n",
       "         6.92682058e-02, -7.27858302e-02,  4.03477259e-02,\n",
       "        -2.09212216e-01,  5.30498572e-02, -3.91202031e-02,\n",
       "        -6.18587428e-03, -1.16720210e-01,  1.04922529e-01,\n",
       "         1.21167773e-01,  2.40463428e-02,  5.44780639e-02,\n",
       "        -3.31623688e-02,  8.47695389e-03],\n",
       "       [ 6.93458469e-02, -2.14890667e-01,  1.54565724e-01,\n",
       "        -9.02090157e-03, -5.48160325e-03,  5.48160325e-03,\n",
       "         3.51460562e-02,  1.65812863e-02, -5.17273419e-02,\n",
       "         2.61019855e-02,  2.59253885e-03, -2.86945243e-02,\n",
       "         1.43080563e-01,  2.78664285e-01, -2.47654953e-02,\n",
       "        -6.91186266e-02, -1.02214644e-02, -8.72832051e-03,\n",
       "         7.76645375e-02, -9.55382133e-03,  3.92273498e-02,\n",
       "        -2.04187133e-02, -4.00226278e-02,  7.16368977e-02,\n",
       "         1.16427905e-01, -6.99804152e-02, -3.06734876e-02,\n",
       "         4.65775131e-03,  2.14603781e-02, -9.92362970e-02,\n",
       "         4.96415791e-02, -3.57785278e-02, -4.05761241e-02,\n",
       "         6.61242445e-02, -6.71182507e-02,  2.04574838e-02,\n",
       "         1.17229898e-02, -1.93058612e-02,  3.69933716e-04,\n",
       "         4.73921812e-02, -1.27343338e-01, -3.46810881e-03,\n",
       "         1.72726704e-02,  5.11950986e-02,  3.77032313e-02,\n",
       "        -7.58483909e-02,  4.47282264e-02, -5.45769218e-02,\n",
       "        -6.63211940e-02, -1.13111052e-01,  5.07961420e-04,\n",
       "         7.66406797e-02, -2.88539532e-02, -6.19112120e-02,\n",
       "        -1.52866755e-02,  1.10304272e-01,  1.71143606e-02,\n",
       "         1.63477645e-03, -6.88670831e-02, -1.12965780e-01,\n",
       "        -3.72709372e-02, -2.54539453e-03,  4.33316604e-02,\n",
       "        -6.35915356e-03,  1.01171115e-02,  2.91827746e-02,\n",
       "        -9.51254109e-02,  6.43419163e-02,  5.45758478e-03,\n",
       "        -4.87901619e-02, -8.65777303e-02, -4.16766762e-02,\n",
       "        -8.39969710e-02,  2.37993635e-01, -5.10857432e-02,\n",
       "         1.60451979e-01, -3.87737349e-02,  7.78496570e-02,\n",
       "        -7.66295669e-02,  6.78170141e-02, -8.36471210e-02,\n",
       "        -7.56423459e-02,  4.80729722e-03, -4.80729722e-03,\n",
       "         2.59861269e-02,  1.42360080e-02,  8.39232691e-02,\n",
       "         9.66134096e-02, -7.31187367e-02,  4.81471014e-02,\n",
       "        -4.16007940e-02, -6.70042868e-02, -2.01455613e-01,\n",
       "        -5.18242794e-02, -2.47882961e-02, -4.81923916e-02,\n",
       "        -3.78272164e-02, -1.00932151e-01, -5.02963721e-02,\n",
       "         1.80224364e-02,  7.00307202e-02,  1.89853393e-02,\n",
       "         1.33634615e-01,  1.08187100e-01, -6.67441360e-02,\n",
       "        -6.37240578e-02,  2.95169591e-01,  7.32839783e-03,\n",
       "         5.00561241e-02, -7.03667117e-02,  5.64223120e-02,\n",
       "        -1.51846099e-01,  1.58157803e-02, -5.91929610e-02,\n",
       "        -9.95050828e-02, -5.78571193e-02,  7.94763439e-02,\n",
       "         2.45576700e-01,  6.53801090e-02, -5.77700644e-02,\n",
       "        -4.08093580e-02, -6.81357570e-02]])"
      ]
     },
     "execution_count": 38,
     "metadata": {},
     "output_type": "execute_result"
    }
   ],
   "source": [
    "pipeline_rc['model'].coef_"
   ]
  },
  {
   "cell_type": "code",
   "execution_count": 40,
   "metadata": {},
   "outputs": [
    {
     "data": {
      "text/plain": [
       "DescribeResult(nobs=122, minmax=(3.4195709196420286e-05, 0.14521991311142265), mean=0.03630902064766919, variance=0.0010520283757738452, skewness=1.3667499143775914, kurtosis=1.3418872103062567)"
      ]
     },
     "execution_count": 40,
     "metadata": {},
     "output_type": "execute_result"
    }
   ],
   "source": [
    "from scipy import stats\n",
    "stats.describe(abs(pipeline_rc['model'].coef_[0]))"
   ]
  },
  {
   "cell_type": "code",
   "execution_count": 16,
   "metadata": {},
   "outputs": [],
   "source": [
    "from xgboost import XGBClassifier\n",
    "def train_XGB(lr, depth):\n",
    "    xg = XGBClassifier(learning_rate=lr, max_depth=depth, n_jobs=-1)\n",
    "    pipeline_temp = Pipeline(steps=[('preprocessor', oh),('model', xg)])\n",
    "    start = time.time()\n",
    "    pipeline_temp.fit(train_X, train_y)\n",
    "    end = time.time()\n",
    "    fit_time = end - start\n",
    "    #scores= -1 * cross_val_score(pipeline_temp, train_X, train_y,cv=5,scoring='neg_mean_absolute_error')\n",
    "    start = time.time()\n",
    "    y_pred = pipeline_temp.predict(val_X)\n",
    "    end = time.time()\n",
    "    predict_time = end - start\n",
    "    #r2s= cross_val_score(pipeline_temp, train_X, train_y,cv=5,scoring='r2')\n",
    "    #print('Est: {} / Depth: {} ---- MAE: {} R^2: {}'.format(n_est,depth,round(scores.mean(), 3),round(r2s.mean(), 3)))\n",
    "    print('Learning Rate: {} / Max Depth: {} ---- Fit time: {} / Predict time: {} / Accuracy: {}'.format(\n",
    "        lr,depth,fit_time, predict_time, round((y_pred==val_y).sum()/len(y_pred), 3)))"
   ]
  },
  {
   "cell_type": "code",
   "execution_count": 18,
   "metadata": {},
   "outputs": [
    {
     "name": "stdout",
     "output_type": "stream",
     "text": [
      "Learning Rate: 0.0001 / Max Depth: 10 ---- Fit time: 1229.0884399414062 / Predict time: 3.676210641860962 / Accuracy: 0.3\n"
     ]
    },
    {
     "ename": "KeyboardInterrupt",
     "evalue": "",
     "output_type": "error",
     "traceback": [
      "\u001b[1;31m---------------------------------------------------------------------------\u001b[0m",
      "\u001b[1;31mKeyboardInterrupt\u001b[0m                         Traceback (most recent call last)",
      "\u001b[1;32m<ipython-input-18-b4ca40e5ce1c>\u001b[0m in \u001b[0;36m<module>\u001b[1;34m\u001b[0m\n\u001b[0;32m      1\u001b[0m \u001b[1;32mfor\u001b[0m \u001b[0mlr\u001b[0m \u001b[1;32min\u001b[0m \u001b[1;33m[\u001b[0m\u001b[1;36m0.0001\u001b[0m\u001b[1;33m,\u001b[0m \u001b[1;36m0.001\u001b[0m\u001b[1;33m,\u001b[0m \u001b[1;36m0.01\u001b[0m\u001b[1;33m,\u001b[0m \u001b[1;36m0.1\u001b[0m\u001b[1;33m,\u001b[0m \u001b[1;36m0.2\u001b[0m\u001b[1;33m,\u001b[0m \u001b[1;36m0.3\u001b[0m\u001b[1;33m,\u001b[0m \u001b[1;36m0.5\u001b[0m\u001b[1;33m]\u001b[0m\u001b[1;33m:\u001b[0m\u001b[1;33m\u001b[0m\u001b[1;33m\u001b[0m\u001b[0m\n\u001b[0;32m      2\u001b[0m     \u001b[1;32mfor\u001b[0m \u001b[0mdepth\u001b[0m \u001b[1;32min\u001b[0m \u001b[1;33m[\u001b[0m\u001b[1;36m10\u001b[0m\u001b[1;33m,\u001b[0m \u001b[1;36m100\u001b[0m\u001b[1;33m,\u001b[0m \u001b[1;32mNone\u001b[0m\u001b[1;33m]\u001b[0m\u001b[1;33m:\u001b[0m\u001b[1;33m\u001b[0m\u001b[1;33m\u001b[0m\u001b[0m\n\u001b[1;32m----> 3\u001b[1;33m         \u001b[0mtrain_XGB\u001b[0m\u001b[1;33m(\u001b[0m\u001b[0mlr\u001b[0m\u001b[1;33m,\u001b[0m\u001b[0mdepth\u001b[0m\u001b[1;33m)\u001b[0m\u001b[1;33m\u001b[0m\u001b[1;33m\u001b[0m\u001b[0m\n\u001b[0m",
      "\u001b[1;32m<ipython-input-16-2f32bc5fe595>\u001b[0m in \u001b[0;36mtrain_XGB\u001b[1;34m(lr, depth)\u001b[0m\n\u001b[0;32m      4\u001b[0m     \u001b[0mpipeline_temp\u001b[0m \u001b[1;33m=\u001b[0m \u001b[0mPipeline\u001b[0m\u001b[1;33m(\u001b[0m\u001b[0msteps\u001b[0m\u001b[1;33m=\u001b[0m\u001b[1;33m[\u001b[0m\u001b[1;33m(\u001b[0m\u001b[1;34m'preprocessor'\u001b[0m\u001b[1;33m,\u001b[0m \u001b[0moh\u001b[0m\u001b[1;33m)\u001b[0m\u001b[1;33m,\u001b[0m\u001b[1;33m(\u001b[0m\u001b[1;34m'model'\u001b[0m\u001b[1;33m,\u001b[0m \u001b[0mxg\u001b[0m\u001b[1;33m)\u001b[0m\u001b[1;33m]\u001b[0m\u001b[1;33m)\u001b[0m\u001b[1;33m\u001b[0m\u001b[1;33m\u001b[0m\u001b[0m\n\u001b[0;32m      5\u001b[0m     \u001b[0mstart\u001b[0m \u001b[1;33m=\u001b[0m \u001b[0mtime\u001b[0m\u001b[1;33m.\u001b[0m\u001b[0mtime\u001b[0m\u001b[1;33m(\u001b[0m\u001b[1;33m)\u001b[0m\u001b[1;33m\u001b[0m\u001b[1;33m\u001b[0m\u001b[0m\n\u001b[1;32m----> 6\u001b[1;33m     \u001b[0mpipeline_temp\u001b[0m\u001b[1;33m.\u001b[0m\u001b[0mfit\u001b[0m\u001b[1;33m(\u001b[0m\u001b[0mtrain_X\u001b[0m\u001b[1;33m,\u001b[0m \u001b[0mtrain_y\u001b[0m\u001b[1;33m)\u001b[0m\u001b[1;33m\u001b[0m\u001b[1;33m\u001b[0m\u001b[0m\n\u001b[0m\u001b[0;32m      7\u001b[0m     \u001b[0mend\u001b[0m \u001b[1;33m=\u001b[0m \u001b[0mtime\u001b[0m\u001b[1;33m.\u001b[0m\u001b[0mtime\u001b[0m\u001b[1;33m(\u001b[0m\u001b[1;33m)\u001b[0m\u001b[1;33m\u001b[0m\u001b[1;33m\u001b[0m\u001b[0m\n\u001b[0;32m      8\u001b[0m     \u001b[0mfit_time\u001b[0m \u001b[1;33m=\u001b[0m \u001b[0mend\u001b[0m \u001b[1;33m-\u001b[0m \u001b[0mstart\u001b[0m\u001b[1;33m\u001b[0m\u001b[1;33m\u001b[0m\u001b[0m\n",
      "\u001b[1;32mC:\\anaconda_python\\envs\\Insight\\lib\\site-packages\\sklearn\\pipeline.py\u001b[0m in \u001b[0;36mfit\u001b[1;34m(self, X, y, **fit_params)\u001b[0m\n\u001b[0;32m    352\u001b[0m                                  self._log_message(len(self.steps) - 1)):\n\u001b[0;32m    353\u001b[0m             \u001b[1;32mif\u001b[0m \u001b[0mself\u001b[0m\u001b[1;33m.\u001b[0m\u001b[0m_final_estimator\u001b[0m \u001b[1;33m!=\u001b[0m \u001b[1;34m'passthrough'\u001b[0m\u001b[1;33m:\u001b[0m\u001b[1;33m\u001b[0m\u001b[1;33m\u001b[0m\u001b[0m\n\u001b[1;32m--> 354\u001b[1;33m                 \u001b[0mself\u001b[0m\u001b[1;33m.\u001b[0m\u001b[0m_final_estimator\u001b[0m\u001b[1;33m.\u001b[0m\u001b[0mfit\u001b[0m\u001b[1;33m(\u001b[0m\u001b[0mXt\u001b[0m\u001b[1;33m,\u001b[0m \u001b[0my\u001b[0m\u001b[1;33m,\u001b[0m \u001b[1;33m**\u001b[0m\u001b[0mfit_params\u001b[0m\u001b[1;33m)\u001b[0m\u001b[1;33m\u001b[0m\u001b[1;33m\u001b[0m\u001b[0m\n\u001b[0m\u001b[0;32m    355\u001b[0m         \u001b[1;32mreturn\u001b[0m \u001b[0mself\u001b[0m\u001b[1;33m\u001b[0m\u001b[1;33m\u001b[0m\u001b[0m\n\u001b[0;32m    356\u001b[0m \u001b[1;33m\u001b[0m\u001b[0m\n",
      "\u001b[1;32mC:\\anaconda_python\\envs\\Insight\\lib\\site-packages\\xgboost\\sklearn.py\u001b[0m in \u001b[0;36mfit\u001b[1;34m(self, X, y, sample_weight, eval_set, eval_metric, early_stopping_rounds, verbose, xgb_model, sample_weight_eval_set, callbacks)\u001b[0m\n\u001b[0;32m    730\u001b[0m                               \u001b[0mevals_result\u001b[0m\u001b[1;33m=\u001b[0m\u001b[0mevals_result\u001b[0m\u001b[1;33m,\u001b[0m \u001b[0mobj\u001b[0m\u001b[1;33m=\u001b[0m\u001b[0mobj\u001b[0m\u001b[1;33m,\u001b[0m \u001b[0mfeval\u001b[0m\u001b[1;33m=\u001b[0m\u001b[0mfeval\u001b[0m\u001b[1;33m,\u001b[0m\u001b[1;33m\u001b[0m\u001b[1;33m\u001b[0m\u001b[0m\n\u001b[0;32m    731\u001b[0m                               \u001b[0mverbose_eval\u001b[0m\u001b[1;33m=\u001b[0m\u001b[0mverbose\u001b[0m\u001b[1;33m,\u001b[0m \u001b[0mxgb_model\u001b[0m\u001b[1;33m=\u001b[0m\u001b[0mxgb_model\u001b[0m\u001b[1;33m,\u001b[0m\u001b[1;33m\u001b[0m\u001b[1;33m\u001b[0m\u001b[0m\n\u001b[1;32m--> 732\u001b[1;33m                               callbacks=callbacks)\n\u001b[0m\u001b[0;32m    733\u001b[0m \u001b[1;33m\u001b[0m\u001b[0m\n\u001b[0;32m    734\u001b[0m         \u001b[0mself\u001b[0m\u001b[1;33m.\u001b[0m\u001b[0mobjective\u001b[0m \u001b[1;33m=\u001b[0m \u001b[0mxgb_options\u001b[0m\u001b[1;33m[\u001b[0m\u001b[1;34m\"objective\"\u001b[0m\u001b[1;33m]\u001b[0m\u001b[1;33m\u001b[0m\u001b[1;33m\u001b[0m\u001b[0m\n",
      "\u001b[1;32mC:\\anaconda_python\\envs\\Insight\\lib\\site-packages\\xgboost\\training.py\u001b[0m in \u001b[0;36mtrain\u001b[1;34m(params, dtrain, num_boost_round, evals, obj, feval, maximize, early_stopping_rounds, evals_result, verbose_eval, xgb_model, callbacks, learning_rates)\u001b[0m\n\u001b[0;32m    214\u001b[0m                            \u001b[0mevals\u001b[0m\u001b[1;33m=\u001b[0m\u001b[0mevals\u001b[0m\u001b[1;33m,\u001b[0m\u001b[1;33m\u001b[0m\u001b[1;33m\u001b[0m\u001b[0m\n\u001b[0;32m    215\u001b[0m                            \u001b[0mobj\u001b[0m\u001b[1;33m=\u001b[0m\u001b[0mobj\u001b[0m\u001b[1;33m,\u001b[0m \u001b[0mfeval\u001b[0m\u001b[1;33m=\u001b[0m\u001b[0mfeval\u001b[0m\u001b[1;33m,\u001b[0m\u001b[1;33m\u001b[0m\u001b[1;33m\u001b[0m\u001b[0m\n\u001b[1;32m--> 216\u001b[1;33m                            xgb_model=xgb_model, callbacks=callbacks)\n\u001b[0m\u001b[0;32m    217\u001b[0m \u001b[1;33m\u001b[0m\u001b[0m\n\u001b[0;32m    218\u001b[0m \u001b[1;33m\u001b[0m\u001b[0m\n",
      "\u001b[1;32mC:\\anaconda_python\\envs\\Insight\\lib\\site-packages\\xgboost\\training.py\u001b[0m in \u001b[0;36m_train_internal\u001b[1;34m(params, dtrain, num_boost_round, evals, obj, feval, xgb_model, callbacks)\u001b[0m\n\u001b[0;32m     72\u001b[0m         \u001b[1;31m# Skip the first update if it is a recovery step.\u001b[0m\u001b[1;33m\u001b[0m\u001b[1;33m\u001b[0m\u001b[1;33m\u001b[0m\u001b[0m\n\u001b[0;32m     73\u001b[0m         \u001b[1;32mif\u001b[0m \u001b[0mversion\u001b[0m \u001b[1;33m%\u001b[0m \u001b[1;36m2\u001b[0m \u001b[1;33m==\u001b[0m \u001b[1;36m0\u001b[0m\u001b[1;33m:\u001b[0m\u001b[1;33m\u001b[0m\u001b[1;33m\u001b[0m\u001b[0m\n\u001b[1;32m---> 74\u001b[1;33m             \u001b[0mbst\u001b[0m\u001b[1;33m.\u001b[0m\u001b[0mupdate\u001b[0m\u001b[1;33m(\u001b[0m\u001b[0mdtrain\u001b[0m\u001b[1;33m,\u001b[0m \u001b[0mi\u001b[0m\u001b[1;33m,\u001b[0m \u001b[0mobj\u001b[0m\u001b[1;33m)\u001b[0m\u001b[1;33m\u001b[0m\u001b[1;33m\u001b[0m\u001b[0m\n\u001b[0m\u001b[0;32m     75\u001b[0m             \u001b[0mbst\u001b[0m\u001b[1;33m.\u001b[0m\u001b[0msave_rabit_checkpoint\u001b[0m\u001b[1;33m(\u001b[0m\u001b[1;33m)\u001b[0m\u001b[1;33m\u001b[0m\u001b[1;33m\u001b[0m\u001b[0m\n\u001b[0;32m     76\u001b[0m             \u001b[0mversion\u001b[0m \u001b[1;33m+=\u001b[0m \u001b[1;36m1\u001b[0m\u001b[1;33m\u001b[0m\u001b[1;33m\u001b[0m\u001b[0m\n",
      "\u001b[1;32mC:\\anaconda_python\\envs\\Insight\\lib\\site-packages\\xgboost\\core.py\u001b[0m in \u001b[0;36mupdate\u001b[1;34m(self, dtrain, iteration, fobj)\u001b[0m\n\u001b[0;32m   1107\u001b[0m         \u001b[1;32mif\u001b[0m \u001b[0mfobj\u001b[0m \u001b[1;32mis\u001b[0m \u001b[1;32mNone\u001b[0m\u001b[1;33m:\u001b[0m\u001b[1;33m\u001b[0m\u001b[1;33m\u001b[0m\u001b[0m\n\u001b[0;32m   1108\u001b[0m             _check_call(_LIB.XGBoosterUpdateOneIter(self.handle, ctypes.c_int(iteration),\n\u001b[1;32m-> 1109\u001b[1;33m                                                     dtrain.handle))\n\u001b[0m\u001b[0;32m   1110\u001b[0m         \u001b[1;32melse\u001b[0m\u001b[1;33m:\u001b[0m\u001b[1;33m\u001b[0m\u001b[1;33m\u001b[0m\u001b[0m\n\u001b[0;32m   1111\u001b[0m             \u001b[0mpred\u001b[0m \u001b[1;33m=\u001b[0m \u001b[0mself\u001b[0m\u001b[1;33m.\u001b[0m\u001b[0mpredict\u001b[0m\u001b[1;33m(\u001b[0m\u001b[0mdtrain\u001b[0m\u001b[1;33m)\u001b[0m\u001b[1;33m\u001b[0m\u001b[1;33m\u001b[0m\u001b[0m\n",
      "\u001b[1;31mKeyboardInterrupt\u001b[0m: "
     ]
    }
   ],
   "source": [
    "for lr in [0.0001, 0.001, 0.01, 0.1, 0.2, 0.3, 0.5]:\n",
    "    for depth in [10, 100, None]:\n",
    "        train_XGB(lr,depth)"
   ]
  },
  {
   "cell_type": "code",
   "execution_count": 18,
   "metadata": {},
   "outputs": [],
   "source": [
    "oh = OneHotEncoder(handle_unknown='ignore', sparse=False)\n",
    "rf = RandomForestClassifier(n_estimators=150, max_depth=30, n_jobs=-1)\n",
    "pipeline_temp = Pipeline(steps=[('preprocessor', oh),('model', rf)])"
   ]
  },
  {
   "cell_type": "code",
   "execution_count": 19,
   "metadata": {},
   "outputs": [
    {
     "name": "stdout",
     "output_type": "stream",
     "text": [
      "Fit time : 162.05718278884888\n"
     ]
    }
   ],
   "source": [
    "start = time.time()\n",
    "pipeline_temp.fit(train_X, train_y)\n",
    "end = time.time()\n",
    "fit_time = end - start\n",
    "print(\"Fit time : {}\".format(fit_time))"
   ]
  },
  {
   "cell_type": "code",
   "execution_count": 21,
   "metadata": {},
   "outputs": [
    {
     "data": {
      "text/plain": [
       "0.319"
      ]
     },
     "execution_count": 21,
     "metadata": {},
     "output_type": "execute_result"
    }
   ],
   "source": [
    "y_pred = pipeline_temp.predict(val_X)\n",
    "round((y_pred==val_y).sum()/len(y_pred), 3)"
   ]
  },
  {
   "cell_type": "code",
   "execution_count": 23,
   "metadata": {},
   "outputs": [],
   "source": [
    "from sklearn.linear_model import LogisticRegression"
   ]
  },
  {
   "cell_type": "code",
   "execution_count": 24,
   "metadata": {},
   "outputs": [],
   "source": [
    "oh = OneHotEncoder(handle_unknown='ignore', sparse=False)\n",
    "lr = LogisticRegression(max_iter = 1000, n_jobs=-1)\n",
    "pipeline_temp3 = Pipeline(steps=[('preprocessor', oh),('model', lr)])"
   ]
  },
  {
   "cell_type": "code",
   "execution_count": 25,
   "metadata": {},
   "outputs": [
    {
     "name": "stdout",
     "output_type": "stream",
     "text": [
      "Fit time : 139.53930497169495\n"
     ]
    }
   ],
   "source": [
    "start = time.time()\n",
    "pipeline_temp3.fit(train_X, train_y)\n",
    "end = time.time()\n",
    "fit_time = end - start\n",
    "print(\"Fit time : {}\".format(fit_time))"
   ]
  },
  {
   "cell_type": "code",
   "execution_count": 26,
   "metadata": {},
   "outputs": [],
   "source": [
    "y_pred = pipeline_temp3.predict(val_X)"
   ]
  },
  {
   "cell_type": "code",
   "execution_count": 27,
   "metadata": {},
   "outputs": [
    {
     "data": {
      "text/plain": [
       "0.308"
      ]
     },
     "execution_count": 27,
     "metadata": {},
     "output_type": "execute_result"
    }
   ],
   "source": [
    "round((y_pred==val_y).sum()/len(y_pred), 3)"
   ]
  },
  {
   "cell_type": "code",
   "execution_count": 30,
   "metadata": {},
   "outputs": [],
   "source": [
    "from sklearn.decomposition import PCA\n",
    "oh = OneHotEncoder(handle_unknown='ignore', sparse=False)\n",
    "lr = LogisticRegression(max_iter = 1000, n_jobs=-1)\n",
    "pca=PCA()\n",
    "pipeline_temp4 = Pipeline(steps=[('preprocessor', oh),('pca', pca),('model', lr)])"
   ]
  },
  {
   "cell_type": "code",
   "execution_count": 31,
   "metadata": {},
   "outputs": [
    {
     "name": "stdout",
     "output_type": "stream",
     "text": [
      "Fit time : 98.6362578868866\n"
     ]
    }
   ],
   "source": [
    "start = time.time()\n",
    "pipeline_temp4.fit(train_X, train_y)\n",
    "end = time.time()\n",
    "fit_time = end - start\n",
    "print(\"Fit time : {}\".format(fit_time))"
   ]
  },
  {
   "cell_type": "code",
   "execution_count": 32,
   "metadata": {},
   "outputs": [
    {
     "data": {
      "text/plain": [
       "0.319"
      ]
     },
     "execution_count": 32,
     "metadata": {},
     "output_type": "execute_result"
    }
   ],
   "source": [
    "y_pred = pipeline_temp.predict(val_X)\n",
    "round((y_pred==val_y).sum()/len(y_pred), 3)"
   ]
  },
  {
   "cell_type": "code",
   "execution_count": 33,
   "metadata": {},
   "outputs": [],
   "source": [
    "oh = OneHotEncoder(handle_unknown='ignore', sparse=False)\n",
    "lr = LogisticRegression(max_iter = 1000, n_jobs=-1)\n",
    "pca=PCA(n_components = 10)\n",
    "pipeline_temp4 = Pipeline(steps=[('preprocessor', oh),('pca', pca),('model', lr)])"
   ]
  },
  {
   "cell_type": "code",
   "execution_count": 34,
   "metadata": {},
   "outputs": [
    {
     "name": "stdout",
     "output_type": "stream",
     "text": [
      "Fit time : 13.779888153076172\n"
     ]
    }
   ],
   "source": [
    "start = time.time()\n",
    "pipeline_temp4.fit(train_X, train_y)\n",
    "end = time.time()\n",
    "fit_time = end - start\n",
    "print(\"Fit time : {}\".format(fit_time))"
   ]
  },
  {
   "cell_type": "code",
   "execution_count": 35,
   "metadata": {},
   "outputs": [
    {
     "data": {
      "text/plain": [
       "0.319"
      ]
     },
     "execution_count": 35,
     "metadata": {},
     "output_type": "execute_result"
    }
   ],
   "source": [
    "y_pred = pipeline_temp.predict(val_X)\n",
    "round((y_pred==val_y).sum()/len(y_pred), 3)"
   ]
  },
  {
   "cell_type": "code",
   "execution_count": 202,
   "metadata": {},
   "outputs": [],
   "source": [
    "import pickle\n",
    "filename = './models/lrpipe_cg.pkl'\n",
    "pickle.dump(pipeline_temp3, open(filename, 'wb'))"
   ]
  },
  {
   "cell_type": "code",
   "execution_count": 188,
   "metadata": {},
   "outputs": [
    {
     "data": {
      "text/html": [
       "<div>\n",
       "<style scoped>\n",
       "    .dataframe tbody tr th:only-of-type {\n",
       "        vertical-align: middle;\n",
       "    }\n",
       "\n",
       "    .dataframe tbody tr th {\n",
       "        vertical-align: top;\n",
       "    }\n",
       "\n",
       "    .dataframe thead th {\n",
       "        text-align: right;\n",
       "    }\n",
       "</style>\n",
       "<table border=\"1\" class=\"dataframe\">\n",
       "  <thead>\n",
       "    <tr style=\"text-align: right;\">\n",
       "      <th></th>\n",
       "      <th>age</th>\n",
       "      <th>gender</th>\n",
       "      <th>size</th>\n",
       "      <th>breed_pop</th>\n",
       "      <th>breeds.primary</th>\n",
       "      <th>breeds.mixed</th>\n",
       "    </tr>\n",
       "  </thead>\n",
       "  <tbody>\n",
       "    <tr>\n",
       "      <th>480227</th>\n",
       "      <td>Baby</td>\n",
       "      <td>Female</td>\n",
       "      <td>Small</td>\n",
       "      <td>Medium</td>\n",
       "      <td>Dachshund</td>\n",
       "      <td>True</td>\n",
       "    </tr>\n",
       "    <tr>\n",
       "      <th>279249</th>\n",
       "      <td>Baby</td>\n",
       "      <td>Female</td>\n",
       "      <td>Medium</td>\n",
       "      <td>Medium</td>\n",
       "      <td>Boxer</td>\n",
       "      <td>True</td>\n",
       "    </tr>\n",
       "    <tr>\n",
       "      <th>76894</th>\n",
       "      <td>Baby</td>\n",
       "      <td>Male</td>\n",
       "      <td>Medium</td>\n",
       "      <td>High</td>\n",
       "      <td>Terrier</td>\n",
       "      <td>True</td>\n",
       "    </tr>\n",
       "    <tr>\n",
       "      <th>248831</th>\n",
       "      <td>Young</td>\n",
       "      <td>Male</td>\n",
       "      <td>Large</td>\n",
       "      <td>Medium</td>\n",
       "      <td>Australian Shepherd</td>\n",
       "      <td>False</td>\n",
       "    </tr>\n",
       "    <tr>\n",
       "      <th>281824</th>\n",
       "      <td>Senior</td>\n",
       "      <td>Male</td>\n",
       "      <td>Large</td>\n",
       "      <td>Low</td>\n",
       "      <td>Great Dane</td>\n",
       "      <td>False</td>\n",
       "    </tr>\n",
       "  </tbody>\n",
       "</table>\n",
       "</div>"
      ],
      "text/plain": [
       "           age  gender    size breed_pop       breeds.primary  breeds.mixed\n",
       "480227    Baby  Female   Small    Medium            Dachshund          True\n",
       "279249    Baby  Female  Medium    Medium                Boxer          True\n",
       "76894     Baby    Male  Medium      High              Terrier          True\n",
       "248831   Young    Male   Large    Medium  Australian Shepherd         False\n",
       "281824  Senior    Male   Large       Low           Great Dane         False"
      ]
     },
     "execution_count": 188,
     "metadata": {},
     "output_type": "execute_result"
    }
   ],
   "source": [
    "train_X.head()"
   ]
  },
  {
   "cell_type": "code",
   "execution_count": 190,
   "metadata": {},
   "outputs": [
    {
     "data": {
      "text/plain": [
       "387036"
      ]
     },
     "execution_count": 190,
     "metadata": {},
     "output_type": "execute_result"
    }
   ],
   "source": [
    "len(train_X)"
   ]
  },
  {
   "cell_type": "code",
   "execution_count": 157,
   "metadata": {},
   "outputs": [
    {
     "data": {
      "text/plain": [
       "0.361"
      ]
     },
     "execution_count": 157,
     "metadata": {},
     "output_type": "execute_result"
    }
   ],
   "source": [
    "y_pred_train = pipeline_temp.predict(train_X)\n",
    "round((y_pred_train==train_y).sum()/len(y_pred_train), 3)"
   ]
  },
  {
   "cell_type": "code",
   "execution_count": 158,
   "metadata": {},
   "outputs": [
    {
     "data": {
      "text/plain": [
       "array([[445,  13,  22, 188,  24],\n",
       "       [197,  12,  31, 231,  35],\n",
       "       [179,  11,  40, 271,  57],\n",
       "       [134,  10,  56, 408,  99],\n",
       "       [ 59,   3,  37, 317, 111]], dtype=int64)"
      ]
     },
     "execution_count": 158,
     "metadata": {},
     "output_type": "execute_result"
    }
   ],
   "source": [
    "from sklearn.metrics import confusion_matrix\n",
    "confusion_matrix(val_y, y_pred, labels=[\"< 1 week\" , \"1 - 2 weeks\", \"< 1 month\", \"< 3 months\", \"> 3 months\"])"
   ]
  },
  {
   "cell_type": "code",
   "execution_count": 117,
   "metadata": {},
   "outputs": [
    {
     "data": {
      "image/png": "[encoded data removed]",
      "text/plain": [
       "<Figure size 432x288 with 1 Axes>"
      ]
     },
     "metadata": {
      "needs_background": "light"
     },
     "output_type": "display_data"
    }
   ],
   "source": [
    "plt.bar(range(len(pipeline_temp['model'].feature_importances_)), pipeline_temp['model'].feature_importances_)\n",
    "plt.show()"
   ]
  },
  {
   "cell_type": "code",
   "execution_count": 151,
   "metadata": {},
   "outputs": [],
   "source": [
    "from sklearn.ensemble import GradientBoostingClassifier\n",
    "oh2 = OneHotEncoder(handle_unknown='ignore', sparse=False)\n",
    "gb = GradientBoostingClassifier(n_estimators=150, max_depth=30, learning_rate=0.3)\n",
    "pipeline_temp2 = Pipeline(steps=[('preprocessor', oh2),('model', gb)])"
   ]
  },
  {
   "cell_type": "code",
   "execution_count": 152,
   "metadata": {},
   "outputs": [
    {
     "data": {
      "text/plain": [
       "Pipeline(memory=None,\n",
       "         steps=[('preprocessor',\n",
       "                 OneHotEncoder(categories='auto', drop=None,\n",
       "                               dtype=<class 'numpy.float64'>,\n",
       "                               handle_unknown='ignore', sparse=False)),\n",
       "                ('model',\n",
       "                 GradientBoostingClassifier(ccp_alpha=0.0,\n",
       "                                            criterion='friedman_mse', init=None,\n",
       "                                            learning_rate=0.3, loss='deviance',\n",
       "                                            max_depth=30, max_features=None,\n",
       "                                            max_leaf_nodes=None,\n",
       "                                            min_impurity_decrease=0.0,\n",
       "                                            min_impurity_split=None,\n",
       "                                            min_samples_leaf=1,\n",
       "                                            min_samples_split=2,\n",
       "                                            min_weight_fraction_leaf=0.0,\n",
       "                                            n_estimators=150,\n",
       "                                            n_iter_no_change=None,\n",
       "                                            presort='deprecated',\n",
       "                                            random_state=None, subsample=1.0,\n",
       "                                            tol=0.0001, validation_fraction=0.1,\n",
       "                                            verbose=0, warm_start=False))],\n",
       "         verbose=False)"
      ]
     },
     "execution_count": 152,
     "metadata": {},
     "output_type": "execute_result"
    }
   ],
   "source": [
    "pipeline_temp2.fit(train_X, train_y)"
   ]
  },
  {
   "cell_type": "code",
   "execution_count": 155,
   "metadata": {},
   "outputs": [
    {
     "data": {
      "text/plain": [
       "0.326"
      ]
     },
     "execution_count": 155,
     "metadata": {},
     "output_type": "execute_result"
    }
   ],
   "source": [
    "y_pred2 = pipeline_temp2.predict(val_X)\n",
    "round((y_pred2==val_y).sum()/len(y_pred), 3)"
   ]
  },
  {
   "cell_type": "code",
   "execution_count": 115,
   "metadata": {},
   "outputs": [],
   "source": [
    "a=train_X.iloc[0]"
   ]
  },
  {
   "cell_type": "code",
   "execution_count": 116,
   "metadata": {},
   "outputs": [
    {
     "data": {
      "text/plain": [
       "age                                                     Baby\n",
       "gender                                                Female\n",
       "size                                                  Medium\n",
       "breeds.primary                American Staffordshire Terrier\n",
       "name_pop                                                High\n",
       "breed_pop                                             Medium\n",
       "breeds.mixed                                            True\n",
       "attributes.spayed_neutered                              True\n",
       "attributes.house_trained                                True\n",
       "attributes.special_needs                               False\n",
       "attributes.shots_current                                True\n",
       "contact.address.state                                     MN\n",
       "Name: 36084, dtype: object"
      ]
     },
     "execution_count": 116,
     "metadata": {},
     "output_type": "execute_result"
    }
   ],
   "source": [
    "a"
   ]
  },
  {
   "cell_type": "code",
   "execution_count": 118,
   "metadata": {},
   "outputs": [
    {
     "data": {
      "text/html": [
       "<div>\n",
       "<style scoped>\n",
       "    .dataframe tbody tr th:only-of-type {\n",
       "        vertical-align: middle;\n",
       "    }\n",
       "\n",
       "    .dataframe tbody tr th {\n",
       "        vertical-align: top;\n",
       "    }\n",
       "\n",
       "    .dataframe thead th {\n",
       "        text-align: right;\n",
       "    }\n",
       "</style>\n",
       "<table border=\"1\" class=\"dataframe\">\n",
       "  <thead>\n",
       "    <tr style=\"text-align: right;\">\n",
       "      <th></th>\n",
       "      <th>age</th>\n",
       "      <th>gender</th>\n",
       "      <th>size</th>\n",
       "      <th>breeds.primary</th>\n",
       "      <th>name_pop</th>\n",
       "      <th>breed_pop</th>\n",
       "      <th>breeds.mixed</th>\n",
       "      <th>attributes.spayed_neutered</th>\n",
       "      <th>attributes.house_trained</th>\n",
       "      <th>attributes.special_needs</th>\n",
       "      <th>attributes.shots_current</th>\n",
       "      <th>contact.address.state</th>\n",
       "    </tr>\n",
       "  </thead>\n",
       "  <tbody>\n",
       "    <tr>\n",
       "      <th>36084</th>\n",
       "      <td>Baby</td>\n",
       "      <td>Female</td>\n",
       "      <td>Medium</td>\n",
       "      <td>American Staffordshire Terrier</td>\n",
       "      <td>High</td>\n",
       "      <td>Medium</td>\n",
       "      <td>True</td>\n",
       "      <td>True</td>\n",
       "      <td>True</td>\n",
       "      <td>False</td>\n",
       "      <td>True</td>\n",
       "      <td>MN</td>\n",
       "    </tr>\n",
       "    <tr>\n",
       "      <th>24913</th>\n",
       "      <td>Young</td>\n",
       "      <td>Female</td>\n",
       "      <td>Large</td>\n",
       "      <td>Labrador Retriever</td>\n",
       "      <td>Low</td>\n",
       "      <td>High</td>\n",
       "      <td>True</td>\n",
       "      <td>True</td>\n",
       "      <td>True</td>\n",
       "      <td>False</td>\n",
       "      <td>True</td>\n",
       "      <td>TX</td>\n",
       "    </tr>\n",
       "    <tr>\n",
       "      <th>57946</th>\n",
       "      <td>Young</td>\n",
       "      <td>Female</td>\n",
       "      <td>Medium</td>\n",
       "      <td>Boxer</td>\n",
       "      <td>Low</td>\n",
       "      <td>Medium</td>\n",
       "      <td>True</td>\n",
       "      <td>True</td>\n",
       "      <td>False</td>\n",
       "      <td>False</td>\n",
       "      <td>True</td>\n",
       "      <td>CA</td>\n",
       "    </tr>\n",
       "    <tr>\n",
       "      <th>26656</th>\n",
       "      <td>Young</td>\n",
       "      <td>Female</td>\n",
       "      <td>Medium</td>\n",
       "      <td>American Staffordshire Terrier</td>\n",
       "      <td>Medium</td>\n",
       "      <td>Medium</td>\n",
       "      <td>False</td>\n",
       "      <td>True</td>\n",
       "      <td>True</td>\n",
       "      <td>False</td>\n",
       "      <td>True</td>\n",
       "      <td>NY</td>\n",
       "    </tr>\n",
       "    <tr>\n",
       "      <th>55646</th>\n",
       "      <td>Baby</td>\n",
       "      <td>Female</td>\n",
       "      <td>Medium</td>\n",
       "      <td>Labrador Retriever</td>\n",
       "      <td>High</td>\n",
       "      <td>High</td>\n",
       "      <td>True</td>\n",
       "      <td>True</td>\n",
       "      <td>False</td>\n",
       "      <td>False</td>\n",
       "      <td>True</td>\n",
       "      <td>MN</td>\n",
       "    </tr>\n",
       "  </tbody>\n",
       "</table>\n",
       "</div>"
      ],
      "text/plain": [
       "         age  gender    size                  breeds.primary name_pop  \\\n",
       "36084   Baby  Female  Medium  American Staffordshire Terrier     High   \n",
       "24913  Young  Female   Large              Labrador Retriever      Low   \n",
       "57946  Young  Female  Medium                           Boxer      Low   \n",
       "26656  Young  Female  Medium  American Staffordshire Terrier   Medium   \n",
       "55646   Baby  Female  Medium              Labrador Retriever     High   \n",
       "\n",
       "      breed_pop  breeds.mixed  attributes.spayed_neutered  \\\n",
       "36084    Medium          True                        True   \n",
       "24913      High          True                        True   \n",
       "57946    Medium          True                        True   \n",
       "26656    Medium         False                        True   \n",
       "55646      High          True                        True   \n",
       "\n",
       "       attributes.house_trained  attributes.special_needs  \\\n",
       "36084                      True                     False   \n",
       "24913                      True                     False   \n",
       "57946                     False                     False   \n",
       "26656                      True                     False   \n",
       "55646                     False                     False   \n",
       "\n",
       "       attributes.shots_current contact.address.state  \n",
       "36084                      True                    MN  \n",
       "24913                      True                    TX  \n",
       "57946                      True                    CA  \n",
       "26656                      True                    NY  \n",
       "55646                      True                    MN  "
      ]
     },
     "execution_count": 118,
     "metadata": {},
     "output_type": "execute_result"
    }
   ],
   "source": [
    "train_X.head()"
   ]
  },
  {
   "cell_type": "code",
   "execution_count": 128,
   "metadata": {},
   "outputs": [],
   "source": [
    "import pickle\n",
    "filename = './models/rfpipe_cg.pkl'\n",
    "pickle.dump(pipeline_temp, open(filename, 'wb'))"
   ]
  },
  {
   "cell_type": "code",
   "execution_count": 153,
   "metadata": {},
   "outputs": [],
   "source": [
    "import pickle\n",
    "filename = './models/gbpipe_cg.pkl'\n",
    "pickle.dump(pipeline_temp2, open(filename, 'wb'))"
   ]
  },
  {
   "cell_type": "code",
   "execution_count": null,
   "metadata": {},
   "outputs": [],
   "source": [
    "rf = RandomForestClassifier()\n",
    "param = {'n_estimators': [10, 150, 300],\n",
    "        'max_depth': [30, 60, 90, None]}\n",
    "\n",
    "gs = GridSearchCV(rf, param, cv=5, n_jobs=-1)\n",
    "gs_fit = gs.fit(OH_train_X, train_y)\n",
    "pd.DataFrame(gs_fit.cv_results_).sort_values('mean_test_score', ascending=False)[0:5]"
   ]
  },
  {
   "cell_type": "code",
   "execution_count": 11,
   "metadata": {},
   "outputs": [],
   "source": [
    "from sklearn.ensemble import RandomForestRegressor\n",
    "from sklearn.tree import DecisionTreeRegressor\n",
    "from sklearn.linear_model import LogisticRegression\n",
    "from xgboost import XGBRegressor\n",
    "from sklearn.pipeline import Pipeline\n",
    "from sklearn.model_selection import cross_val_score\n",
    "from sklearn.metrics import mean_absolute_error\n",
    "#pipeline_1 = Pipeline(steps=[('model', RandomForestRegressor(random_state=0))])\n",
    "#pipeline_2 = Pipeline(steps=[('model', DecisionTreeRegressor(random_state=0))])\n",
    "#pipeline_3 = Pipeline(steps=[('model', XGBRegressor(random_state=0))])"
   ]
  },
  {
   "cell_type": "code",
   "execution_count": null,
   "metadata": {},
   "outputs": [],
   "source": [
    "#next few cells are just testing"
   ]
  },
  {
   "cell_type": "code",
   "execution_count": null,
   "metadata": {},
   "outputs": [],
   "source": [
    "#testing out encoders"
   ]
  },
  {
   "cell_type": "code",
   "execution_count": 9,
   "metadata": {},
   "outputs": [
    {
     "data": {
      "text/html": [
       "<div>\n",
       "<style scoped>\n",
       "    .dataframe tbody tr th:only-of-type {\n",
       "        vertical-align: middle;\n",
       "    }\n",
       "\n",
       "    .dataframe tbody tr th {\n",
       "        vertical-align: top;\n",
       "    }\n",
       "\n",
       "    .dataframe thead th {\n",
       "        text-align: right;\n",
       "    }\n",
       "</style>\n",
       "<table border=\"1\" class=\"dataframe\">\n",
       "  <thead>\n",
       "    <tr style=\"text-align: right;\">\n",
       "      <th></th>\n",
       "      <th>age</th>\n",
       "      <th>gender</th>\n",
       "      <th>size</th>\n",
       "      <th>name_pop</th>\n",
       "      <th>breed_pop</th>\n",
       "      <th>breeds.mixed</th>\n",
       "      <th>attributes.spayed_neutered</th>\n",
       "      <th>attributes.house_trained</th>\n",
       "      <th>attributes.special_needs</th>\n",
       "      <th>attributes.shots_current</th>\n",
       "      <th>contact.address.state</th>\n",
       "    </tr>\n",
       "  </thead>\n",
       "  <tbody>\n",
       "    <tr>\n",
       "      <th>8969</th>\n",
       "      <td>Baby</td>\n",
       "      <td>Female</td>\n",
       "      <td>Medium</td>\n",
       "      <td>Low</td>\n",
       "      <td>High</td>\n",
       "      <td>True</td>\n",
       "      <td>True</td>\n",
       "      <td>False</td>\n",
       "      <td>False</td>\n",
       "      <td>True</td>\n",
       "      <td>NY</td>\n",
       "    </tr>\n",
       "    <tr>\n",
       "      <th>16555</th>\n",
       "      <td>Adult</td>\n",
       "      <td>Male</td>\n",
       "      <td>Medium</td>\n",
       "      <td>Low</td>\n",
       "      <td>Medium</td>\n",
       "      <td>False</td>\n",
       "      <td>True</td>\n",
       "      <td>False</td>\n",
       "      <td>False</td>\n",
       "      <td>True</td>\n",
       "      <td>TX</td>\n",
       "    </tr>\n",
       "    <tr>\n",
       "      <th>58815</th>\n",
       "      <td>Adult</td>\n",
       "      <td>Female</td>\n",
       "      <td>Medium</td>\n",
       "      <td>High</td>\n",
       "      <td>Low</td>\n",
       "      <td>True</td>\n",
       "      <td>False</td>\n",
       "      <td>False</td>\n",
       "      <td>False</td>\n",
       "      <td>False</td>\n",
       "      <td>CA</td>\n",
       "    </tr>\n",
       "    <tr>\n",
       "      <th>23874</th>\n",
       "      <td>Adult</td>\n",
       "      <td>Male</td>\n",
       "      <td>Small</td>\n",
       "      <td>High</td>\n",
       "      <td>Medium</td>\n",
       "      <td>True</td>\n",
       "      <td>True</td>\n",
       "      <td>False</td>\n",
       "      <td>False</td>\n",
       "      <td>True</td>\n",
       "      <td>NY</td>\n",
       "    </tr>\n",
       "    <tr>\n",
       "      <th>17596</th>\n",
       "      <td>Young</td>\n",
       "      <td>Male</td>\n",
       "      <td>Large</td>\n",
       "      <td>High</td>\n",
       "      <td>Low</td>\n",
       "      <td>True</td>\n",
       "      <td>True</td>\n",
       "      <td>True</td>\n",
       "      <td>False</td>\n",
       "      <td>True</td>\n",
       "      <td>CA</td>\n",
       "    </tr>\n",
       "  </tbody>\n",
       "</table>\n",
       "</div>"
      ],
      "text/plain": [
       "         age  gender    size name_pop breed_pop  breeds.mixed  \\\n",
       "8969    Baby  Female  Medium      Low      High          True   \n",
       "16555  Adult    Male  Medium      Low    Medium         False   \n",
       "58815  Adult  Female  Medium     High       Low          True   \n",
       "23874  Adult    Male   Small     High    Medium          True   \n",
       "17596  Young    Male   Large     High       Low          True   \n",
       "\n",
       "       attributes.spayed_neutered  attributes.house_trained  \\\n",
       "8969                         True                     False   \n",
       "16555                        True                     False   \n",
       "58815                       False                     False   \n",
       "23874                        True                     False   \n",
       "17596                        True                      True   \n",
       "\n",
       "       attributes.special_needs  attributes.shots_current  \\\n",
       "8969                      False                      True   \n",
       "16555                     False                      True   \n",
       "58815                     False                     False   \n",
       "23874                     False                      True   \n",
       "17596                     False                      True   \n",
       "\n",
       "      contact.address.state  \n",
       "8969                     NY  \n",
       "16555                    TX  \n",
       "58815                    CA  \n",
       "23874                    NY  \n",
       "17596                    CA  "
      ]
     },
     "execution_count": 9,
     "metadata": {},
     "output_type": "execute_result"
    }
   ],
   "source": [
    "train_X.head()"
   ]
  },
  {
   "cell_type": "code",
   "execution_count": 12,
   "metadata": {},
   "outputs": [],
   "source": [
    "OH_encoder = OneHotEncoder(handle_unknown='ignore', sparse=False)\n",
    "OH_cols_train = pd.DataFrame(OH_encoder.fit_transform(train_X[cat_col]))\n",
    "OH_cols_val = pd.DataFrame(OH_encoder.transform(val_X[cat_col]))"
   ]
  },
  {
   "cell_type": "code",
   "execution_count": 13,
   "metadata": {},
   "outputs": [],
   "source": [
    "# One-hot encoding removed index; put it back\n",
    "OH_cols_train.index = train_X.index\n",
    "OH_cols_val.index = val_X.index\n",
    "rest_train = train_X.drop(cat_col, axis=1)\n",
    "rest_val = val_X.drop(cat_col, axis=1)\n",
    "OH_train_X = pd.concat([rest_train, OH_cols_train], axis=1)\n",
    "OH_val_X = pd.concat([rest_val, OH_cols_val], axis=1)"
   ]
  },
  {
   "cell_type": "code",
   "execution_count": 42,
   "metadata": {},
   "outputs": [
    {
     "data": {
      "text/plain": [
       "198.06307707707575"
      ]
     },
     "execution_count": 42,
     "metadata": {},
     "output_type": "execute_result"
    }
   ],
   "source": [
    "rf = RandomForestRegressor(n_estimators=10, max_depth=5, n_jobs=-1)\n",
    "rf_model = rf.fit(OH_train_X, train_y)\n",
    "y_pred = rf_model.predict(OH_val_X)\n",
    "mae_x=mean_absolute_error(val_y, y_pred)\n",
    "mae_x"
   ]
  },
  {
   "cell_type": "code",
   "execution_count": 12,
   "metadata": {},
   "outputs": [
    {
     "name": "stdout",
     "output_type": "stream",
     "text": [
      "Est: 10 / Depth: 10 ---- MAE: 196.655\n"
     ]
    }
   ],
   "source": [
    "oh = OneHotEncoder(handle_unknown='ignore', sparse=False)\n",
    "rf = RandomForestRegressor(n_estimators=10, max_depth=5, n_jobs=-1)\n",
    "pipeline_temp = Pipeline(steps=[('preprocessor', oh),('model', rf)])\n",
    "scores= -1 * cross_val_score(pipeline_temp, train_X, train_y,cv=5,scoring='neg_mean_absolute_error')\n",
    "print('Est: {} / Depth: {} ---- MAE: {}'.format(n_est,depth,round(scores.mean(), 3)))"
   ]
  },
  {
   "cell_type": "code",
   "execution_count": null,
   "metadata": {},
   "outputs": [],
   "source": [
    "#main code starts here"
   ]
  },
  {
   "cell_type": "code",
   "execution_count": null,
   "metadata": {},
   "outputs": [],
   "source": []
  },
  {
   "cell_type": "code",
   "execution_count": 11,
   "metadata": {},
   "outputs": [],
   "source": [
    "from sklearn.preprocessing import OneHotEncoder\n",
    "oh = OneHotEncoder(handle_unknown='ignore', sparse=False)"
   ]
  },
  {
   "cell_type": "code",
   "execution_count": 27,
   "metadata": {},
   "outputs": [],
   "source": [
    "def train_RF(n_est, depth):\n",
    "    rf = RandomForestRegressor(n_estimators=n_est, max_depth=depth, n_jobs=-1)\n",
    "    pipeline_temp = Pipeline(steps=[('preprocessor', oh),('model', rf)])\n",
    "    #scores= -1 * cross_val_score(pipeline_temp, train_X, train_y,cv=5,scoring='neg_mean_absolute_error')\n",
    "    r2s= cross_val_score(pipeline_temp, train_X, train_y,cv=5,scoring='r2')\n",
    "    #print('Est: {} / Depth: {} ---- MAE: {} R^2: {}'.format(n_est,depth,round(scores.mean(), 3),round(r2s.mean(), 3)))\n",
    "    print('Est: {} / Depth: {} ---- R^2: {}'.format(n_est,depth,round(r2s.mean(), 3)))"
   ]
  },
  {
   "cell_type": "code",
   "execution_count": 28,
   "metadata": {},
   "outputs": [
    {
     "name": "stdout",
     "output_type": "stream",
     "text": [
      "Est: 10 / Depth: 10 ---- R^2: 0.098\n",
      "Est: 10 / Depth: 50 ---- R^2: 0.087\n",
      "Est: 10 / Depth: 100 ---- R^2: 0.087\n",
      "Est: 50 / Depth: 10 ---- R^2: 0.098\n",
      "Est: 50 / Depth: 50 ---- R^2: 0.088\n",
      "Est: 50 / Depth: 100 ---- R^2: 0.089\n",
      "Est: 100 / Depth: 10 ---- R^2: 0.099\n",
      "Est: 100 / Depth: 50 ---- R^2: 0.089\n",
      "Est: 100 / Depth: 100 ---- R^2: 0.089\n"
     ]
    }
   ],
   "source": [
    "for n_est in [10, 50, 100]:\n",
    "    for depth in [10, 50, 100]:\n",
    "        train_RF(n_est, depth)"
   ]
  },
  {
   "cell_type": "code",
   "execution_count": 19,
   "metadata": {},
   "outputs": [],
   "source": [
    "def train_DT(n_est, depth):\n",
    "    rf = DecisionTreeRegressor(min_samples_split=mss, max_depth=depth,n_jobs=-1)\n",
    "    pipeline_temp = Pipeline(steps=[('preprocessor', oh),('model', rf)])\n",
    "    scores= -1 * cross_val_score(pipeline_temp, trainval_X, trainval_y,cv=5,scoring='neg_mean_absolute_error')\n",
    "    print('MSS: {} / Depth: {} ---- MAE: {}'.format(n_est,depth,round(scores.mean(), 3)))"
   ]
  },
  {
   "cell_type": "code",
   "execution_count": 20,
   "metadata": {},
   "outputs": [
    {
     "name": "stdout",
     "output_type": "stream",
     "text": [
      "Est: 2 / Depth: 10 ---- MAE: 95.435\n",
      "Est: 2 / Depth: 50 ---- MAE: 95.535\n",
      "Est: 2 / Depth: 100 ---- MAE: 95.539\n",
      "Est: 5 / Depth: 10 ---- MAE: 95.436\n",
      "Est: 5 / Depth: 50 ---- MAE: 95.508\n",
      "Est: 5 / Depth: 100 ---- MAE: 95.504\n",
      "Est: 10 / Depth: 10 ---- MAE: 95.413\n",
      "Est: 10 / Depth: 50 ---- MAE: 95.44\n",
      "Est: 10 / Depth: 100 ---- MAE: 95.441\n"
     ]
    }
   ],
   "source": [
    "for mss in [2, 5, 10]:\n",
    "    for depth in [10, 50, 100]:\n",
    "        train_DT(mss, depth)"
   ]
  },
  {
   "cell_type": "code",
   "execution_count": null,
   "metadata": {},
   "outputs": [],
   "source": [
    "#model validation"
   ]
  },
  {
   "cell_type": "code",
   "execution_count": 12,
   "metadata": {},
   "outputs": [],
   "source": [
    "import time\n",
    "from sklearn.preprocessing import OneHotEncoder\n",
    "from sklearn.metrics import r2_score\n",
    "oh = OneHotEncoder(handle_unknown='ignore', sparse=False)\n",
    "OH_cols_train = pd.DataFrame(oh.fit_transform(train_X[cat_col]))\n",
    "OH_cols_val = pd.DataFrame(oh.transform(val_X[cat_col]))\n",
    "OH_cols_train.index = train_X.index\n",
    "OH_cols_val.index = val_X.index\n",
    "rest_train = train_X.drop(cat_col, axis=1)\n",
    "rest_val = val_X.drop(cat_col, axis=1)\n",
    "OH_train_X = pd.concat([rest_train, OH_cols_train], axis=1)\n",
    "OH_val_X = pd.concat([rest_val, OH_cols_val], axis=1)"
   ]
  },
  {
   "cell_type": "code",
   "execution_count": 20,
   "metadata": {},
   "outputs": [],
   "source": [
    "def train_GB(est, max_depth, lr):\n",
    "    gb = XGBRegressor(n_estimators=est, max_depth=max_depth, learning_rate=lr, n_jobs=-1)\n",
    "    gb_model = gb.fit(OH_train_X, train_y)\n",
    "    y_pred = gb_model.predict(OH_val_X)\n",
    "    r2 =r2_score(val_y,y_pred)\n",
    "    print('Est: {} / Depth: {} / Learning Rate: {} ---- R^2: {}'.format(n_est,max_depth,lr,round(r2, 3)))"
   ]
  },
  {
   "cell_type": "code",
   "execution_count": 21,
   "metadata": {},
   "outputs": [
    {
     "name": "stderr",
     "output_type": "stream",
     "text": [
      "C:\\anaconda_python\\lib\\site-packages\\xgboost\\core.py:587: FutureWarning: Series.base is deprecated and will be removed in a future version\n",
      "  if getattr(data, 'base', None) is not None and \\\n"
     ]
    },
    {
     "name": "stdout",
     "output_type": "stream",
     "text": [
      "[21:28:16] WARNING: C:/Jenkins/workspace/xgboost-win64_release_0.90/src/objective/regression_obj.cu:152: reg:linear is now deprecated in favor of reg:squarederror.\n",
      "Est: 50 / Depth: 3 / Learning Rate: 0.01 ---- R^2: -1.973\n"
     ]
    },
    {
     "name": "stderr",
     "output_type": "stream",
     "text": [
      "C:\\anaconda_python\\lib\\site-packages\\xgboost\\core.py:587: FutureWarning: Series.base is deprecated and will be removed in a future version\n",
      "  if getattr(data, 'base', None) is not None and \\\n"
     ]
    },
    {
     "name": "stdout",
     "output_type": "stream",
     "text": [
      "[21:28:18] WARNING: C:/Jenkins/workspace/xgboost-win64_release_0.90/src/objective/regression_obj.cu:152: reg:linear is now deprecated in favor of reg:squarederror.\n",
      "Est: 50 / Depth: 3 / Learning Rate: 0.1 ---- R^2: 0.081\n"
     ]
    },
    {
     "name": "stderr",
     "output_type": "stream",
     "text": [
      "C:\\anaconda_python\\lib\\site-packages\\xgboost\\core.py:587: FutureWarning: Series.base is deprecated and will be removed in a future version\n",
      "  if getattr(data, 'base', None) is not None and \\\n"
     ]
    },
    {
     "name": "stdout",
     "output_type": "stream",
     "text": [
      "[21:28:21] WARNING: C:/Jenkins/workspace/xgboost-win64_release_0.90/src/objective/regression_obj.cu:152: reg:linear is now deprecated in favor of reg:squarederror.\n",
      "Est: 50 / Depth: 3 / Learning Rate: 1 ---- R^2: 0.086\n"
     ]
    },
    {
     "name": "stderr",
     "output_type": "stream",
     "text": [
      "C:\\anaconda_python\\lib\\site-packages\\xgboost\\core.py:587: FutureWarning: Series.base is deprecated and will be removed in a future version\n",
      "  if getattr(data, 'base', None) is not None and \\\n"
     ]
    },
    {
     "name": "stdout",
     "output_type": "stream",
     "text": [
      "[21:28:23] WARNING: C:/Jenkins/workspace/xgboost-win64_release_0.90/src/objective/regression_obj.cu:152: reg:linear is now deprecated in favor of reg:squarederror.\n",
      "Est: 50 / Depth: 7 / Learning Rate: 0.01 ---- R^2: -1.962\n"
     ]
    },
    {
     "name": "stderr",
     "output_type": "stream",
     "text": [
      "C:\\anaconda_python\\lib\\site-packages\\xgboost\\core.py:587: FutureWarning: Series.base is deprecated and will be removed in a future version\n",
      "  if getattr(data, 'base', None) is not None and \\\n"
     ]
    },
    {
     "name": "stdout",
     "output_type": "stream",
     "text": [
      "[21:28:28] WARNING: C:/Jenkins/workspace/xgboost-win64_release_0.90/src/objective/regression_obj.cu:152: reg:linear is now deprecated in favor of reg:squarederror.\n",
      "Est: 50 / Depth: 7 / Learning Rate: 0.1 ---- R^2: 0.088\n"
     ]
    },
    {
     "name": "stderr",
     "output_type": "stream",
     "text": [
      "C:\\anaconda_python\\lib\\site-packages\\xgboost\\core.py:587: FutureWarning: Series.base is deprecated and will be removed in a future version\n",
      "  if getattr(data, 'base', None) is not None and \\\n"
     ]
    },
    {
     "name": "stdout",
     "output_type": "stream",
     "text": [
      "[21:28:33] WARNING: C:/Jenkins/workspace/xgboost-win64_release_0.90/src/objective/regression_obj.cu:152: reg:linear is now deprecated in favor of reg:squarederror.\n",
      "Est: 50 / Depth: 7 / Learning Rate: 1 ---- R^2: 0.079\n",
      "[21:28:38] WARNING: C:/Jenkins/workspace/xgboost-win64_release_0.90/src/objective/regression_obj.cu:152: reg:linear is now deprecated in favor of reg:squarederror."
     ]
    },
    {
     "name": "stderr",
     "output_type": "stream",
     "text": [
      "C:\\anaconda_python\\lib\\site-packages\\xgboost\\core.py:587: FutureWarning: Series.base is deprecated and will be removed in a future version\n",
      "  if getattr(data, 'base', None) is not None and \\\n"
     ]
    },
    {
     "name": "stdout",
     "output_type": "stream",
     "text": [
      "\n",
      "Est: 50 / Depth: 11 / Learning Rate: 0.01 ---- R^2: -1.961\n"
     ]
    },
    {
     "name": "stderr",
     "output_type": "stream",
     "text": [
      "C:\\anaconda_python\\lib\\site-packages\\xgboost\\core.py:587: FutureWarning: Series.base is deprecated and will be removed in a future version\n",
      "  if getattr(data, 'base', None) is not None and \\\n"
     ]
    },
    {
     "name": "stdout",
     "output_type": "stream",
     "text": [
      "[21:28:45] WARNING: C:/Jenkins/workspace/xgboost-win64_release_0.90/src/objective/regression_obj.cu:152: reg:linear is now deprecated in favor of reg:squarederror.\n",
      "Est: 50 / Depth: 11 / Learning Rate: 0.1 ---- R^2: 0.082\n"
     ]
    },
    {
     "name": "stderr",
     "output_type": "stream",
     "text": [
      "C:\\anaconda_python\\lib\\site-packages\\xgboost\\core.py:587: FutureWarning: Series.base is deprecated and will be removed in a future version\n",
      "  if getattr(data, 'base', None) is not None and \\\n"
     ]
    },
    {
     "name": "stdout",
     "output_type": "stream",
     "text": [
      "[21:28:53] WARNING: C:/Jenkins/workspace/xgboost-win64_release_0.90/src/objective/regression_obj.cu:152: reg:linear is now deprecated in favor of reg:squarederror.\n",
      "Est: 50 / Depth: 11 / Learning Rate: 1 ---- R^2: 0.077\n"
     ]
    },
    {
     "name": "stderr",
     "output_type": "stream",
     "text": [
      "C:\\anaconda_python\\lib\\site-packages\\xgboost\\core.py:587: FutureWarning: Series.base is deprecated and will be removed in a future version\n",
      "  if getattr(data, 'base', None) is not None and \\\n"
     ]
    },
    {
     "name": "stdout",
     "output_type": "stream",
     "text": [
      "[21:28:57] WARNING: C:/Jenkins/workspace/xgboost-win64_release_0.90/src/objective/regression_obj.cu:152: reg:linear is now deprecated in favor of reg:squarederror.\n",
      "Est: 50 / Depth: 15 / Learning Rate: 0.01 ---- R^2: -1.961\n"
     ]
    },
    {
     "name": "stderr",
     "output_type": "stream",
     "text": [
      "C:\\anaconda_python\\lib\\site-packages\\xgboost\\core.py:587: FutureWarning: Series.base is deprecated and will be removed in a future version\n",
      "  if getattr(data, 'base', None) is not None and \\\n"
     ]
    },
    {
     "name": "stdout",
     "output_type": "stream",
     "text": [
      "[21:29:05] WARNING: C:/Jenkins/workspace/xgboost-win64_release_0.90/src/objective/regression_obj.cu:152: reg:linear is now deprecated in favor of reg:squarederror.\n",
      "Est: 50 / Depth: 15 / Learning Rate: 0.1 ---- R^2: 0.08\n"
     ]
    },
    {
     "name": "stderr",
     "output_type": "stream",
     "text": [
      "C:\\anaconda_python\\lib\\site-packages\\xgboost\\core.py:587: FutureWarning: Series.base is deprecated and will be removed in a future version\n",
      "  if getattr(data, 'base', None) is not None and \\\n"
     ]
    },
    {
     "name": "stdout",
     "output_type": "stream",
     "text": [
      "[21:29:14] WARNING: C:/Jenkins/workspace/xgboost-win64_release_0.90/src/objective/regression_obj.cu:152: reg:linear is now deprecated in favor of reg:squarederror.\n",
      "Est: 50 / Depth: 15 / Learning Rate: 1 ---- R^2: 0.077\n",
      "[21:29:17] WARNING: C:/Jenkins/workspace/xgboost-win64_release_0.90/src/objective/regression_obj.cu:152: reg:linear is now deprecated in favor of reg:squarederror.\n"
     ]
    },
    {
     "name": "stderr",
     "output_type": "stream",
     "text": [
      "C:\\anaconda_python\\lib\\site-packages\\xgboost\\core.py:587: FutureWarning: Series.base is deprecated and will be removed in a future version\n",
      "  if getattr(data, 'base', None) is not None and \\\n"
     ]
    },
    {
     "name": "stdout",
     "output_type": "stream",
     "text": [
      "Est: 100 / Depth: 3 / Learning Rate: 0.01 ---- R^2: -0.668\n"
     ]
    },
    {
     "name": "stderr",
     "output_type": "stream",
     "text": [
      "C:\\anaconda_python\\lib\\site-packages\\xgboost\\core.py:587: FutureWarning: Series.base is deprecated and will be removed in a future version\n",
      "  if getattr(data, 'base', None) is not None and \\\n"
     ]
    },
    {
     "name": "stdout",
     "output_type": "stream",
     "text": [
      "[21:29:22] WARNING: C:/Jenkins/workspace/xgboost-win64_release_0.90/src/objective/regression_obj.cu:152: reg:linear is now deprecated in favor of reg:squarederror.\n",
      "Est: 100 / Depth: 3 / Learning Rate: 0.1 ---- R^2: 0.083\n"
     ]
    },
    {
     "name": "stderr",
     "output_type": "stream",
     "text": [
      "C:\\anaconda_python\\lib\\site-packages\\xgboost\\core.py:587: FutureWarning: Series.base is deprecated and will be removed in a future version\n",
      "  if getattr(data, 'base', None) is not None and \\\n"
     ]
    },
    {
     "name": "stdout",
     "output_type": "stream",
     "text": [
      "[21:29:27] WARNING: C:/Jenkins/workspace/xgboost-win64_release_0.90/src/objective/regression_obj.cu:152: reg:linear is now deprecated in favor of reg:squarederror.\n",
      "Est: 100 / Depth: 3 / Learning Rate: 1 ---- R^2: 0.087\n"
     ]
    },
    {
     "name": "stderr",
     "output_type": "stream",
     "text": [
      "C:\\anaconda_python\\lib\\site-packages\\xgboost\\core.py:587: FutureWarning: Series.base is deprecated and will be removed in a future version\n",
      "  if getattr(data, 'base', None) is not None and \\\n"
     ]
    },
    {
     "name": "stdout",
     "output_type": "stream",
     "text": [
      "[21:29:33] WARNING: C:/Jenkins/workspace/xgboost-win64_release_0.90/src/objective/regression_obj.cu:152: reg:linear is now deprecated in favor of reg:squarederror.\n",
      "Est: 100 / Depth: 7 / Learning Rate: 0.01 ---- R^2: -0.653\n"
     ]
    },
    {
     "name": "stderr",
     "output_type": "stream",
     "text": [
      "C:\\anaconda_python\\lib\\site-packages\\xgboost\\core.py:587: FutureWarning: Series.base is deprecated and will be removed in a future version\n",
      "  if getattr(data, 'base', None) is not None and \\\n"
     ]
    },
    {
     "name": "stdout",
     "output_type": "stream",
     "text": [
      "[21:29:43] WARNING: C:/Jenkins/workspace/xgboost-win64_release_0.90/src/objective/regression_obj.cu:152: reg:linear is now deprecated in favor of reg:squarederror.\n",
      "Est: 100 / Depth: 7 / Learning Rate: 0.1 ---- R^2: 0.086\n"
     ]
    },
    {
     "name": "stderr",
     "output_type": "stream",
     "text": [
      "C:\\anaconda_python\\lib\\site-packages\\xgboost\\core.py:587: FutureWarning: Series.base is deprecated and will be removed in a future version\n",
      "  if getattr(data, 'base', None) is not None and \\\n"
     ]
    },
    {
     "name": "stdout",
     "output_type": "stream",
     "text": [
      "[21:29:53] WARNING: C:/Jenkins/workspace/xgboost-win64_release_0.90/src/objective/regression_obj.cu:152: reg:linear is now deprecated in favor of reg:squarederror.\n",
      "Est: 100 / Depth: 7 / Learning Rate: 1 ---- R^2: 0.077\n"
     ]
    },
    {
     "name": "stderr",
     "output_type": "stream",
     "text": [
      "C:\\anaconda_python\\lib\\site-packages\\xgboost\\core.py:587: FutureWarning: Series.base is deprecated and will be removed in a future version\n",
      "  if getattr(data, 'base', None) is not None and \\\n"
     ]
    },
    {
     "name": "stdout",
     "output_type": "stream",
     "text": [
      "[21:30:02] WARNING: C:/Jenkins/workspace/xgboost-win64_release_0.90/src/objective/regression_obj.cu:152: reg:linear is now deprecated in favor of reg:squarederror.\n",
      "Est: 100 / Depth: 11 / Learning Rate: 0.01 ---- R^2: -0.653\n"
     ]
    },
    {
     "name": "stderr",
     "output_type": "stream",
     "text": [
      "C:\\anaconda_python\\lib\\site-packages\\xgboost\\core.py:587: FutureWarning: Series.base is deprecated and will be removed in a future version\n",
      "  if getattr(data, 'base', None) is not None and \\\n"
     ]
    },
    {
     "name": "stdout",
     "output_type": "stream",
     "text": [
      "[21:30:16] WARNING: C:/Jenkins/workspace/xgboost-win64_release_0.90/src/objective/regression_obj.cu:152: reg:linear is now deprecated in favor of reg:squarederror.\n",
      "Est: 100 / Depth: 11 / Learning Rate: 0.1 ---- R^2: 0.078\n",
      "[21:30:30] WARNING: C:/Jenkins/workspace/xgboost-win64_release_0.90/src/objective/regression_obj.cu:152: reg:linear is now deprecated in favor of reg:squarederror."
     ]
    },
    {
     "name": "stderr",
     "output_type": "stream",
     "text": [
      "C:\\anaconda_python\\lib\\site-packages\\xgboost\\core.py:587: FutureWarning: Series.base is deprecated and will be removed in a future version\n",
      "  if getattr(data, 'base', None) is not None and \\\n"
     ]
    },
    {
     "name": "stdout",
     "output_type": "stream",
     "text": [
      "\n",
      "Est: 100 / Depth: 11 / Learning Rate: 1 ---- R^2: 0.077\n"
     ]
    },
    {
     "name": "stderr",
     "output_type": "stream",
     "text": [
      "C:\\anaconda_python\\lib\\site-packages\\xgboost\\core.py:587: FutureWarning: Series.base is deprecated and will be removed in a future version\n",
      "  if getattr(data, 'base', None) is not None and \\\n"
     ]
    },
    {
     "name": "stdout",
     "output_type": "stream",
     "text": [
      "[21:30:34] WARNING: C:/Jenkins/workspace/xgboost-win64_release_0.90/src/objective/regression_obj.cu:152: reg:linear is now deprecated in favor of reg:squarederror.\n",
      "Est: 100 / Depth: 15 / Learning Rate: 0.01 ---- R^2: -0.653\n"
     ]
    },
    {
     "name": "stderr",
     "output_type": "stream",
     "text": [
      "C:\\anaconda_python\\lib\\site-packages\\xgboost\\core.py:587: FutureWarning: Series.base is deprecated and will be removed in a future version\n",
      "  if getattr(data, 'base', None) is not None and \\\n"
     ]
    },
    {
     "name": "stdout",
     "output_type": "stream",
     "text": [
      "[21:30:49] WARNING: C:/Jenkins/workspace/xgboost-win64_release_0.90/src/objective/regression_obj.cu:152: reg:linear is now deprecated in favor of reg:squarederror.\n",
      "Est: 100 / Depth: 15 / Learning Rate: 0.1 ---- R^2: 0.078\n"
     ]
    },
    {
     "name": "stderr",
     "output_type": "stream",
     "text": [
      "C:\\anaconda_python\\lib\\site-packages\\xgboost\\core.py:587: FutureWarning: Series.base is deprecated and will be removed in a future version\n",
      "  if getattr(data, 'base', None) is not None and \\\n"
     ]
    },
    {
     "name": "stdout",
     "output_type": "stream",
     "text": [
      "[21:31:06] WARNING: C:/Jenkins/workspace/xgboost-win64_release_0.90/src/objective/regression_obj.cu:152: reg:linear is now deprecated in favor of reg:squarederror.\n",
      "Est: 100 / Depth: 15 / Learning Rate: 1 ---- R^2: 0.077\n"
     ]
    },
    {
     "name": "stderr",
     "output_type": "stream",
     "text": [
      "C:\\anaconda_python\\lib\\site-packages\\xgboost\\core.py:587: FutureWarning: Series.base is deprecated and will be removed in a future version\n",
      "  if getattr(data, 'base', None) is not None and \\\n"
     ]
    },
    {
     "name": "stdout",
     "output_type": "stream",
     "text": [
      "[21:31:10] WARNING: C:/Jenkins/workspace/xgboost-win64_release_0.90/src/objective/regression_obj.cu:152: reg:linear is now deprecated in favor of reg:squarederror.\n",
      "Est: 150 / Depth: 3 / Learning Rate: 0.01 ---- R^2: -0.193\n",
      "[21:31:17] WARNING: C:/Jenkins/workspace/xgboost-win64_release_0.90/src/objective/regression_obj.cu:152: reg:linear is now deprecated in favor of reg:squarederror."
     ]
    },
    {
     "name": "stderr",
     "output_type": "stream",
     "text": [
      "C:\\anaconda_python\\lib\\site-packages\\xgboost\\core.py:587: FutureWarning: Series.base is deprecated and will be removed in a future version\n",
      "  if getattr(data, 'base', None) is not None and \\\n"
     ]
    },
    {
     "name": "stdout",
     "output_type": "stream",
     "text": [
      "\n",
      "Est: 150 / Depth: 3 / Learning Rate: 0.1 ---- R^2: 0.085\n"
     ]
    },
    {
     "name": "stderr",
     "output_type": "stream",
     "text": [
      "C:\\anaconda_python\\lib\\site-packages\\xgboost\\core.py:587: FutureWarning: Series.base is deprecated and will be removed in a future version\n",
      "  if getattr(data, 'base', None) is not None and \\\n"
     ]
    },
    {
     "name": "stdout",
     "output_type": "stream",
     "text": [
      "[21:31:23] WARNING: C:/Jenkins/workspace/xgboost-win64_release_0.90/src/objective/regression_obj.cu:152: reg:linear is now deprecated in favor of reg:squarederror.\n",
      "Est: 150 / Depth: 3 / Learning Rate: 1 ---- R^2: 0.087\n"
     ]
    },
    {
     "name": "stderr",
     "output_type": "stream",
     "text": [
      "C:\\anaconda_python\\lib\\site-packages\\xgboost\\core.py:587: FutureWarning: Series.base is deprecated and will be removed in a future version\n",
      "  if getattr(data, 'base', None) is not None and \\\n"
     ]
    },
    {
     "name": "stdout",
     "output_type": "stream",
     "text": [
      "[21:31:30] WARNING: C:/Jenkins/workspace/xgboost-win64_release_0.90/src/objective/regression_obj.cu:152: reg:linear is now deprecated in favor of reg:squarederror.\n",
      "Est: 150 / Depth: 7 / Learning Rate: 0.01 ---- R^2: -0.177\n"
     ]
    },
    {
     "name": "stderr",
     "output_type": "stream",
     "text": [
      "C:\\anaconda_python\\lib\\site-packages\\xgboost\\core.py:587: FutureWarning: Series.base is deprecated and will be removed in a future version\n",
      "  if getattr(data, 'base', None) is not None and \\\n"
     ]
    },
    {
     "name": "stdout",
     "output_type": "stream",
     "text": [
      "[21:31:43] WARNING: C:/Jenkins/workspace/xgboost-win64_release_0.90/src/objective/regression_obj.cu:152: reg:linear is now deprecated in favor of reg:squarederror.\n",
      "Est: 150 / Depth: 7 / Learning Rate: 0.1 ---- R^2: 0.085\n"
     ]
    },
    {
     "name": "stderr",
     "output_type": "stream",
     "text": [
      "C:\\anaconda_python\\lib\\site-packages\\xgboost\\core.py:587: FutureWarning: Series.base is deprecated and will be removed in a future version\n",
      "  if getattr(data, 'base', None) is not None and \\\n"
     ]
    },
    {
     "name": "stdout",
     "output_type": "stream",
     "text": [
      "[21:31:57] WARNING: C:/Jenkins/workspace/xgboost-win64_release_0.90/src/objective/regression_obj.cu:152: reg:linear is now deprecated in favor of reg:squarederror.\n",
      "Est: 150 / Depth: 7 / Learning Rate: 1 ---- R^2: 0.077\n"
     ]
    },
    {
     "name": "stderr",
     "output_type": "stream",
     "text": [
      "C:\\anaconda_python\\lib\\site-packages\\xgboost\\core.py:587: FutureWarning: Series.base is deprecated and will be removed in a future version\n",
      "  if getattr(data, 'base', None) is not None and \\\n"
     ]
    },
    {
     "name": "stdout",
     "output_type": "stream",
     "text": [
      "[21:32:10] WARNING: C:/Jenkins/workspace/xgboost-win64_release_0.90/src/objective/regression_obj.cu:152: reg:linear is now deprecated in favor of reg:squarederror.\n",
      "Est: 150 / Depth: 11 / Learning Rate: 0.01 ---- R^2: -0.178\n"
     ]
    },
    {
     "name": "stderr",
     "output_type": "stream",
     "text": [
      "C:\\anaconda_python\\lib\\site-packages\\xgboost\\core.py:587: FutureWarning: Series.base is deprecated and will be removed in a future version\n",
      "  if getattr(data, 'base', None) is not None and \\\n"
     ]
    },
    {
     "name": "stdout",
     "output_type": "stream",
     "text": [
      "[21:32:30] WARNING: C:/Jenkins/workspace/xgboost-win64_release_0.90/src/objective/regression_obj.cu:152: reg:linear is now deprecated in favor of reg:squarederror.\n",
      "Est: 150 / Depth: 11 / Learning Rate: 0.1 ---- R^2: 0.078\n"
     ]
    },
    {
     "name": "stderr",
     "output_type": "stream",
     "text": [
      "C:\\anaconda_python\\lib\\site-packages\\xgboost\\core.py:587: FutureWarning: Series.base is deprecated and will be removed in a future version\n",
      "  if getattr(data, 'base', None) is not None and \\\n"
     ]
    },
    {
     "name": "stdout",
     "output_type": "stream",
     "text": [
      "[21:32:50] WARNING: C:/Jenkins/workspace/xgboost-win64_release_0.90/src/objective/regression_obj.cu:152: reg:linear is now deprecated in favor of reg:squarederror.\n",
      "Est: 150 / Depth: 11 / Learning Rate: 1 ---- R^2: 0.077\n"
     ]
    },
    {
     "name": "stderr",
     "output_type": "stream",
     "text": [
      "C:\\anaconda_python\\lib\\site-packages\\xgboost\\core.py:587: FutureWarning: Series.base is deprecated and will be removed in a future version\n",
      "  if getattr(data, 'base', None) is not None and \\\n"
     ]
    },
    {
     "name": "stdout",
     "output_type": "stream",
     "text": [
      "[21:32:56] WARNING: C:/Jenkins/workspace/xgboost-win64_release_0.90/src/objective/regression_obj.cu:152: reg:linear is now deprecated in favor of reg:squarederror.\n",
      "Est: 150 / Depth: 15 / Learning Rate: 0.01 ---- R^2: -0.178\n"
     ]
    },
    {
     "name": "stderr",
     "output_type": "stream",
     "text": [
      "C:\\anaconda_python\\lib\\site-packages\\xgboost\\core.py:587: FutureWarning: Series.base is deprecated and will be removed in a future version\n",
      "  if getattr(data, 'base', None) is not None and \\\n"
     ]
    },
    {
     "name": "stdout",
     "output_type": "stream",
     "text": [
      "[21:33:18] WARNING: C:/Jenkins/workspace/xgboost-win64_release_0.90/src/objective/regression_obj.cu:152: reg:linear is now deprecated in favor of reg:squarederror.\n",
      "Est: 150 / Depth: 15 / Learning Rate: 0.1 ---- R^2: 0.078\n"
     ]
    },
    {
     "name": "stderr",
     "output_type": "stream",
     "text": [
      "C:\\anaconda_python\\lib\\site-packages\\xgboost\\core.py:587: FutureWarning: Series.base is deprecated and will be removed in a future version\n",
      "  if getattr(data, 'base', None) is not None and \\\n"
     ]
    },
    {
     "name": "stdout",
     "output_type": "stream",
     "text": [
      "[21:33:40] WARNING: C:/Jenkins/workspace/xgboost-win64_release_0.90/src/objective/regression_obj.cu:152: reg:linear is now deprecated in favor of reg:squarederror.\n",
      "Est: 150 / Depth: 15 / Learning Rate: 1 ---- R^2: 0.077\n"
     ]
    }
   ],
   "source": [
    "for n_est in [50, 100, 150]:\n",
    "    for max_depth in [3, 7, 11, 15]:\n",
    "        for lr in [0.01, 0.1, 1]:\n",
    "            train_GB(n_est, max_depth, lr)"
   ]
  },
  {
   "cell_type": "code",
   "execution_count": 24,
   "metadata": {},
   "outputs": [
    {
     "name": "stderr",
     "output_type": "stream",
     "text": [
      "C:\\anaconda_python\\envs\\Insight\\lib\\site-packages\\xgboost\\core.py:587: FutureWarning: Series.base is deprecated and will be removed in a future version\n",
      "  if getattr(data, 'base', None) is not None and \\\n"
     ]
    },
    {
     "name": "stdout",
     "output_type": "stream",
     "text": [
      "[17:24:49] WARNING: C:/Jenkins/workspace/xgboost-win64_release_0.90/src/objective/regression_obj.cu:152: reg:linear is now deprecated in favor of reg:squarederror.\n",
      "Fit time: 55.172 / Predict time: 0.747 ---- MAE: 0.248 / R^2: 0.174\n"
     ]
    }
   ],
   "source": [
    "from xgboost import XGBRegressor\n",
    "gb = XGBRegressor(n_estimators=150, max_depth=7, learning_rate=0.1, n_jobs=-1)\n",
    "\n",
    "start = time.time()\n",
    "gb_model = gb.fit(OH_train_X, train_y)\n",
    "end = time.time()\n",
    "fit_time = (end - start)\n",
    "\n",
    "start = time.time()\n",
    "y_pred = gb_model.predict(OH_val_X)\n",
    "end = time.time()\n",
    "pred_time = (end - start)\n",
    "mae_x=mean_absolute_error(val_y, y_pred)\n",
    "r2 =r2_score(val_y,y_pred)\n",
    "print('Fit time: {} / Predict time: {} ---- MAE: {} / R^2: {}'.format(\n",
    "    round(fit_time, 3), round(pred_time, 3), round(mae_x, 3), round(r2,3)))"
   ]
  },
  {
   "cell_type": "code",
   "execution_count": 33,
   "metadata": {},
   "outputs": [
    {
     "name": "stderr",
     "output_type": "stream",
     "text": [
      "C:\\anaconda_python\\lib\\site-packages\\xgboost\\core.py:587: FutureWarning: Series.base is deprecated and will be removed in a future version\n",
      "  if getattr(data, 'base', None) is not None and \\\n"
     ]
    },
    {
     "name": "stdout",
     "output_type": "stream",
     "text": [
      "[18:44:38] WARNING: C:/Jenkins/workspace/xgboost-win64_release_0.90/src/objective/regression_obj.cu:152: reg:linear is now deprecated in favor of reg:squarederror.\n",
      "Fit time: 13.329 / Predict time: 0.161 ---- MAE: 0.863 / R^2: 0.088\n"
     ]
    }
   ],
   "source": [
    "from xgboost import XGBRegressor\n",
    "xg = XGBRegressor(n_estimators=100, max_depth=10, n_jobs=-1)\n",
    "\n",
    "start = time.time()\n",
    "xg_model = xg.fit(OH_train_X, train_y)\n",
    "end = time.time()\n",
    "fit_time = (end - start)\n",
    "\n",
    "start = time.time()\n",
    "y_pred = xg_model.predict(OH_val_X)\n",
    "end = time.time()\n",
    "pred_time = (end - start)\n",
    "mae_x=mean_absolute_error(val_y, y_pred)\n",
    "r2 =r2_score(val_y,y_pred)\n",
    "print('Fit time: {} / Predict time: {} ---- MAE: {} / R^2: {}'.format(\n",
    "    round(fit_time, 3), round(pred_time, 3), round(mae_x, 3), round(r2,3)))"
   ]
  },
  {
   "cell_type": "code",
   "execution_count": 31,
   "metadata": {},
   "outputs": [
    {
     "data": {
      "text/plain": [
       "[<matplotlib.lines.Line2D at 0x1f491dfa808>]"
      ]
     },
     "execution_count": 31,
     "metadata": {},
     "output_type": "execute_result"
    },
    {
     "data": {
      "image/png": "[encoded data removed]",
      "text/plain": [
       "<Figure size 432x432 with 3 Axes>"
      ]
     },
     "metadata": {},
     "output_type": "display_data"
    }
   ],
   "source": [
    "import seaborn as sns\n",
    "with sns.axes_style(\"white\"):\n",
    "    ax = sns.jointplot(x=val_y, y=y_pred, kind=\"hex\", color=\"k\");\n",
    "    ax.set_axis_labels('Actual','Predicted')\n",
    "plt.plot([1.6, 2.6], [1.6, 2.6], linewidth=2)\n",
    "    #ax.set_ylabel('Predicted')\n",
    "    #ax.set(xlim=(1.4,2.8))\n",
    "    #ax.set(ylim=(1.4,2.8))"
   ]
  },
  {
   "cell_type": "code",
   "execution_count": 59,
   "metadata": {},
   "outputs": [
    {
     "ename": "NameError",
     "evalue": "name 'scores' is not defined",
     "output_type": "error",
     "traceback": [
      "\u001b[1;31m---------------------------------------------------------------------------\u001b[0m",
      "\u001b[1;31mNameError\u001b[0m                                 Traceback (most recent call last)",
      "\u001b[1;32m<ipython-input-59-fa8cef49474b>\u001b[0m in \u001b[0;36m<module>\u001b[1;34m\u001b[0m\n\u001b[1;32m----> 1\u001b[1;33m \u001b[0mscores\u001b[0m\u001b[1;33m\u001b[0m\u001b[1;33m\u001b[0m\u001b[0m\n\u001b[0m",
      "\u001b[1;31mNameError\u001b[0m: name 'scores' is not defined"
     ]
    }
   ],
   "source": [
    "#import pickle\n",
    "#filename = 'finalized_model_demo.sav'\n",
    "#pickle.dump(model, open(filename, 'wb'))\n",
    "\n",
    "#filename = 'finalized_model_demo.sav'\n",
    "#loaded_model = pickle.load(open(filename, 'rb'))\n",
    "#test pickle\n",
    "#from sklearn.metrics import mean_absolute_error\n",
    "#extension_preds = loaded_model.predict(test_X)\n",
    "#mae_x=mean_absolute_error(test_y, extension_preds)\n",
    "#print('The mean absolute error is {} which is about {:.2%} of the mean extension'.format(mae_x,(mae_x/mean_x_total)))"
   ]
  },
  {
   "cell_type": "code",
   "execution_count": 34,
   "metadata": {},
   "outputs": [],
   "source": [
    "import pickle\n",
    "filename = './models/xgmodel_A2.sav'\n",
    "pickle.dump(gb_model, open(filename, 'wb'))"
   ]
  },
  {
   "cell_type": "code",
   "execution_count": 37,
   "metadata": {},
   "outputs": [],
   "source": [
    "a=OH_train_X.iloc[0]"
   ]
  },
  {
   "cell_type": "code",
   "execution_count": 38,
   "metadata": {},
   "outputs": [
    {
     "data": {
      "text/plain": [
       "breeds.mixed                  True\n",
       "attributes.spayed_neutered    True\n",
       "attributes.house_trained      True\n",
       "attributes.shots_current      True\n",
       "0                                0\n",
       "1                                1\n",
       "2                                0\n",
       "3                                0\n",
       "4                                0\n",
       "5                                1\n",
       "6                                0\n",
       "7                                0\n",
       "8                                1\n",
       "9                                0\n",
       "10                               1\n",
       "11                               0\n",
       "12                               0\n",
       "13                               0\n",
       "Name: 2223, dtype: object"
      ]
     },
     "execution_count": 38,
     "metadata": {},
     "output_type": "execute_result"
    }
   ],
   "source": [
    "a"
   ]
  },
  {
   "cell_type": "code",
   "execution_count": 47,
   "metadata": {},
   "outputs": [],
   "source": [
    "xnew = [[True, True, True, True, 0, 1, 0, 0, 0, 1, 0, 0, 1, 0, 1, 0, 0, 0]]"
   ]
  },
  {
   "cell_type": "code",
   "execution_count": 50,
   "metadata": {},
   "outputs": [],
   "source": [
    "d = pd.DataFrame(xnew, columns=['breeds.mixed', 'attributes.spayed_neutered', 'attributes.house_trained', 'attributes.shots_current', '0', '1', '2', '3', '4', '5', '6', '7', '8', '9', '10', '11', '12', '13'])"
   ]
  },
  {
   "cell_type": "code",
   "execution_count": 51,
   "metadata": {},
   "outputs": [
    {
     "data": {
      "text/html": [
       "<div>\n",
       "<style scoped>\n",
       "    .dataframe tbody tr th:only-of-type {\n",
       "        vertical-align: middle;\n",
       "    }\n",
       "\n",
       "    .dataframe tbody tr th {\n",
       "        vertical-align: top;\n",
       "    }\n",
       "\n",
       "    .dataframe thead th {\n",
       "        text-align: right;\n",
       "    }\n",
       "</style>\n",
       "<table border=\"1\" class=\"dataframe\">\n",
       "  <thead>\n",
       "    <tr style=\"text-align: right;\">\n",
       "      <th></th>\n",
       "      <th>breeds.mixed</th>\n",
       "      <th>attributes.spayed_neutered</th>\n",
       "      <th>attributes.house_trained</th>\n",
       "      <th>attributes.shots_current</th>\n",
       "      <th>0</th>\n",
       "      <th>1</th>\n",
       "      <th>2</th>\n",
       "      <th>3</th>\n",
       "      <th>4</th>\n",
       "      <th>5</th>\n",
       "      <th>6</th>\n",
       "      <th>7</th>\n",
       "      <th>8</th>\n",
       "      <th>9</th>\n",
       "      <th>10</th>\n",
       "      <th>11</th>\n",
       "      <th>12</th>\n",
       "      <th>13</th>\n",
       "    </tr>\n",
       "  </thead>\n",
       "  <tbody>\n",
       "    <tr>\n",
       "      <th>0</th>\n",
       "      <td>True</td>\n",
       "      <td>True</td>\n",
       "      <td>True</td>\n",
       "      <td>True</td>\n",
       "      <td>0</td>\n",
       "      <td>1</td>\n",
       "      <td>0</td>\n",
       "      <td>0</td>\n",
       "      <td>0</td>\n",
       "      <td>1</td>\n",
       "      <td>0</td>\n",
       "      <td>0</td>\n",
       "      <td>1</td>\n",
       "      <td>0</td>\n",
       "      <td>1</td>\n",
       "      <td>0</td>\n",
       "      <td>0</td>\n",
       "      <td>0</td>\n",
       "    </tr>\n",
       "  </tbody>\n",
       "</table>\n",
       "</div>"
      ],
      "text/plain": [
       "   breeds.mixed  attributes.spayed_neutered  attributes.house_trained  \\\n",
       "0          True                        True                      True   \n",
       "\n",
       "   attributes.shots_current  0  1  2  3  4  5  6  7  8  9  10  11  12  13  \n",
       "0                      True  0  1  0  0  0  1  0  0  1  0   1   0   0   0  "
      ]
     },
     "execution_count": 51,
     "metadata": {},
     "output_type": "execute_result"
    }
   ],
   "source": [
    "d"
   ]
  },
  {
   "cell_type": "code",
   "execution_count": 53,
   "metadata": {},
   "outputs": [
    {
     "data": {
      "text/plain": [
       "array([30.07968], dtype=float32)"
      ]
     },
     "execution_count": 53,
     "metadata": {},
     "output_type": "execute_result"
    }
   ],
   "source": [
    "np.exp(gb_model.predict(d))"
   ]
  },
  {
   "cell_type": "code",
   "execution_count": 54,
   "metadata": {},
   "outputs": [
    {
     "data": {
      "text/html": [
       "<div>\n",
       "<style scoped>\n",
       "    .dataframe tbody tr th:only-of-type {\n",
       "        vertical-align: middle;\n",
       "    }\n",
       "\n",
       "    .dataframe tbody tr th {\n",
       "        vertical-align: top;\n",
       "    }\n",
       "\n",
       "    .dataframe thead th {\n",
       "        text-align: right;\n",
       "    }\n",
       "</style>\n",
       "<table border=\"1\" class=\"dataframe\">\n",
       "  <thead>\n",
       "    <tr style=\"text-align: right;\">\n",
       "      <th></th>\n",
       "      <th>breeds.mixed</th>\n",
       "      <th>attributes.spayed_neutered</th>\n",
       "      <th>attributes.house_trained</th>\n",
       "      <th>attributes.shots_current</th>\n",
       "      <th>0</th>\n",
       "      <th>1</th>\n",
       "      <th>2</th>\n",
       "      <th>3</th>\n",
       "      <th>4</th>\n",
       "      <th>5</th>\n",
       "      <th>6</th>\n",
       "      <th>7</th>\n",
       "      <th>8</th>\n",
       "      <th>9</th>\n",
       "      <th>10</th>\n",
       "      <th>11</th>\n",
       "      <th>12</th>\n",
       "      <th>13</th>\n",
       "    </tr>\n",
       "  </thead>\n",
       "  <tbody>\n",
       "    <tr>\n",
       "      <th>0</th>\n",
       "      <td>True</td>\n",
       "      <td>True</td>\n",
       "      <td>True</td>\n",
       "      <td>True</td>\n",
       "      <td>0</td>\n",
       "      <td>1</td>\n",
       "      <td>0</td>\n",
       "      <td>0</td>\n",
       "      <td>0</td>\n",
       "      <td>1</td>\n",
       "      <td>0</td>\n",
       "      <td>0</td>\n",
       "      <td>1</td>\n",
       "      <td>0</td>\n",
       "      <td>0</td>\n",
       "      <td>1</td>\n",
       "      <td>0</td>\n",
       "      <td>0</td>\n",
       "    </tr>\n",
       "  </tbody>\n",
       "</table>\n",
       "</div>"
      ],
      "text/plain": [
       "   breeds.mixed  attributes.spayed_neutered  attributes.house_trained  \\\n",
       "0          True                        True                      True   \n",
       "\n",
       "   attributes.shots_current  0  1  2  3  4  5  6  7  8  9  10  11  12  13  \n",
       "0                      True  0  1  0  0  0  1  0  0  1  0   0   1   0   0  "
      ]
     },
     "execution_count": 54,
     "metadata": {},
     "output_type": "execute_result"
    }
   ],
   "source": [
    "d['10'] = 0\n",
    "d['11'] = 1\n",
    "d"
   ]
  },
  {
   "cell_type": "code",
   "execution_count": 55,
   "metadata": {},
   "outputs": [
    {
     "data": {
      "text/plain": [
       "array([19.768171], dtype=float32)"
      ]
     },
     "execution_count": 55,
     "metadata": {},
     "output_type": "execute_result"
    }
   ],
   "source": [
    "np.exp(gb_model.predict(d))"
   ]
  },
  {
   "cell_type": "code",
   "execution_count": 56,
   "metadata": {},
   "outputs": [
    {
     "data": {
      "text/plain": [
       "array([21.004389], dtype=float32)"
      ]
     },
     "execution_count": 56,
     "metadata": {},
     "output_type": "execute_result"
    }
   ],
   "source": [
    "d['11'] = 0\n",
    "d['12'] = 1\n",
    "np.exp(gb_model.predict(d))"
   ]
  },
  {
   "cell_type": "code",
   "execution_count": 57,
   "metadata": {},
   "outputs": [
    {
     "data": {
      "text/plain": [
       "array([31.470345], dtype=float32)"
      ]
     },
     "execution_count": 57,
     "metadata": {},
     "output_type": "execute_result"
    }
   ],
   "source": [
    "d['12'] = 0\n",
    "d['13'] = 1\n",
    "np.exp(gb_model.predict(d))"
   ]
  },
  {
   "cell_type": "code",
   "execution_count": 44,
   "metadata": {},
   "outputs": [
    {
     "name": "stdout",
     "output_type": "stream",
     "text": [
      "Fit time: 0.243 / Predict time: 0.028 ---- MAE: 0.876 / R^2: 0.069\n"
     ]
    }
   ],
   "source": [
    "#Linear regression\n",
    "from sklearn.linear_model import LinearRegression\n",
    "lr = LinearRegression()\n",
    "\n",
    "start = time.time()\n",
    "lr_model = lr.fit(OH_train_X, train_y)\n",
    "end = time.time()\n",
    "fit_time = (end - start)\n",
    "\n",
    "start = time.time()\n",
    "y_pred = lr_model.predict(OH_val_X)\n",
    "end = time.time()\n",
    "pred_time = (end - start)\n",
    "mae_x=mean_absolute_error(val_y, y_pred)\n",
    "r2 =r2_score(val_y,y_pred)\n",
    "print('Fit time: {} / Predict time: {} ---- MAE: {} / R^2: {}'.format(\n",
    "    round(fit_time, 3), round(pred_time, 3), round(mae_x, 3), round(r2,3)))"
   ]
  },
  {
   "cell_type": "code",
   "execution_count": 48,
   "metadata": {},
   "outputs": [
    {
     "name": "stdout",
     "output_type": "stream",
     "text": [
      "{'alpha': 10}\n",
      "0.06972839584829206\n"
     ]
    }
   ],
   "source": [
    "from sklearn.model_selection import GridSearchCV\n",
    "from sklearn.linear_model import Ridge\n",
    "ridge = Ridge()\n",
    "params = {'alpha': [0.001, 0.01, 0.1, 1, 5, 10]}\n",
    "ridge_regressor = GridSearchCV(ridge, params, scoring='r2', cv=5)\n",
    "ridge_regressor.fit(OH_train_X, train_y)\n",
    "print(ridge_regressor.best_params_)\n",
    "print(ridge_regressor.best_score_)"
   ]
  },
  {
   "cell_type": "code",
   "execution_count": 161,
   "metadata": {},
   "outputs": [
    {
     "data": {
      "text/plain": [
       "OneHotEncoder(categories='auto', drop=None, dtype=<class 'numpy.float64'>,\n",
       "              handle_unknown='ignore', sparse=False)"
      ]
     },
     "execution_count": 161,
     "metadata": {},
     "output_type": "execute_result"
    }
   ],
   "source": [
    "oh"
   ]
  },
  {
   "cell_type": "code",
   "execution_count": 160,
   "metadata": {},
   "outputs": [
    {
     "ename": "ValueError",
     "evalue": "could not convert string to float: '1 - 2 weeks'",
     "output_type": "error",
     "traceback": [
      "\u001b[1;31m---------------------------------------------------------------------------\u001b[0m",
      "\u001b[1;31mValueError\u001b[0m                                Traceback (most recent call last)",
      "\u001b[1;32m<ipython-input-160-cfa3caa0a3be>\u001b[0m in \u001b[0;36m<module>\u001b[1;34m\u001b[0m\n\u001b[0;32m      2\u001b[0m \u001b[0mridge\u001b[0m \u001b[1;33m=\u001b[0m \u001b[0mRidge\u001b[0m\u001b[1;33m(\u001b[0m\u001b[1;33m)\u001b[0m\u001b[1;33m\u001b[0m\u001b[1;33m\u001b[0m\u001b[0m\n\u001b[0;32m      3\u001b[0m \u001b[0mpipeline_temp3\u001b[0m \u001b[1;33m=\u001b[0m \u001b[0mPipeline\u001b[0m\u001b[1;33m(\u001b[0m\u001b[0msteps\u001b[0m\u001b[1;33m=\u001b[0m\u001b[1;33m[\u001b[0m\u001b[1;33m(\u001b[0m\u001b[1;34m'preprocessor'\u001b[0m\u001b[1;33m,\u001b[0m \u001b[0moh\u001b[0m\u001b[1;33m)\u001b[0m\u001b[1;33m,\u001b[0m\u001b[1;33m(\u001b[0m\u001b[1;34m'model'\u001b[0m\u001b[1;33m,\u001b[0m \u001b[0mridge\u001b[0m\u001b[1;33m)\u001b[0m\u001b[1;33m]\u001b[0m\u001b[1;33m)\u001b[0m\u001b[1;33m\u001b[0m\u001b[1;33m\u001b[0m\u001b[0m\n\u001b[1;32m----> 4\u001b[1;33m \u001b[0mpipeline_temp3\u001b[0m\u001b[1;33m.\u001b[0m\u001b[0mfit\u001b[0m\u001b[1;33m(\u001b[0m\u001b[0mtrain_X\u001b[0m\u001b[1;33m,\u001b[0m \u001b[0mtrain_y\u001b[0m\u001b[1;33m)\u001b[0m\u001b[1;33m\u001b[0m\u001b[1;33m\u001b[0m\u001b[0m\n\u001b[0m",
      "\u001b[1;32mC:\\anaconda_python\\envs\\Insight\\lib\\site-packages\\sklearn\\pipeline.py\u001b[0m in \u001b[0;36mfit\u001b[1;34m(self, X, y, **fit_params)\u001b[0m\n\u001b[0;32m    352\u001b[0m                                  self._log_message(len(self.steps) - 1)):\n\u001b[0;32m    353\u001b[0m             \u001b[1;32mif\u001b[0m \u001b[0mself\u001b[0m\u001b[1;33m.\u001b[0m\u001b[0m_final_estimator\u001b[0m \u001b[1;33m!=\u001b[0m \u001b[1;34m'passthrough'\u001b[0m\u001b[1;33m:\u001b[0m\u001b[1;33m\u001b[0m\u001b[1;33m\u001b[0m\u001b[0m\n\u001b[1;32m--> 354\u001b[1;33m                 \u001b[0mself\u001b[0m\u001b[1;33m.\u001b[0m\u001b[0m_final_estimator\u001b[0m\u001b[1;33m.\u001b[0m\u001b[0mfit\u001b[0m\u001b[1;33m(\u001b[0m\u001b[0mXt\u001b[0m\u001b[1;33m,\u001b[0m \u001b[0my\u001b[0m\u001b[1;33m,\u001b[0m \u001b[1;33m**\u001b[0m\u001b[0mfit_params\u001b[0m\u001b[1;33m)\u001b[0m\u001b[1;33m\u001b[0m\u001b[1;33m\u001b[0m\u001b[0m\n\u001b[0m\u001b[0;32m    355\u001b[0m         \u001b[1;32mreturn\u001b[0m \u001b[0mself\u001b[0m\u001b[1;33m\u001b[0m\u001b[1;33m\u001b[0m\u001b[0m\n\u001b[0;32m    356\u001b[0m \u001b[1;33m\u001b[0m\u001b[0m\n",
      "\u001b[1;32mC:\\anaconda_python\\envs\\Insight\\lib\\site-packages\\sklearn\\linear_model\\_ridge.py\u001b[0m in \u001b[0;36mfit\u001b[1;34m(self, X, y, sample_weight)\u001b[0m\n\u001b[0;32m    764\u001b[0m         \u001b[0mself\u001b[0m \u001b[1;33m:\u001b[0m \u001b[0mreturns\u001b[0m \u001b[0man\u001b[0m \u001b[0minstance\u001b[0m \u001b[0mof\u001b[0m \u001b[0mself\u001b[0m\u001b[1;33m.\u001b[0m\u001b[1;33m\u001b[0m\u001b[1;33m\u001b[0m\u001b[0m\n\u001b[0;32m    765\u001b[0m         \"\"\"\n\u001b[1;32m--> 766\u001b[1;33m         \u001b[1;32mreturn\u001b[0m \u001b[0msuper\u001b[0m\u001b[1;33m(\u001b[0m\u001b[1;33m)\u001b[0m\u001b[1;33m.\u001b[0m\u001b[0mfit\u001b[0m\u001b[1;33m(\u001b[0m\u001b[0mX\u001b[0m\u001b[1;33m,\u001b[0m \u001b[0my\u001b[0m\u001b[1;33m,\u001b[0m \u001b[0msample_weight\u001b[0m\u001b[1;33m=\u001b[0m\u001b[0msample_weight\u001b[0m\u001b[1;33m)\u001b[0m\u001b[1;33m\u001b[0m\u001b[1;33m\u001b[0m\u001b[0m\n\u001b[0m\u001b[0;32m    767\u001b[0m \u001b[1;33m\u001b[0m\u001b[0m\n\u001b[0;32m    768\u001b[0m \u001b[1;33m\u001b[0m\u001b[0m\n",
      "\u001b[1;32mC:\\anaconda_python\\envs\\Insight\\lib\\site-packages\\sklearn\\linear_model\\_ridge.py\u001b[0m in \u001b[0;36mfit\u001b[1;34m(self, X, y, sample_weight)\u001b[0m\n\u001b[0;32m    545\u001b[0m                          \u001b[0maccept_sparse\u001b[0m\u001b[1;33m=\u001b[0m\u001b[0m_accept_sparse\u001b[0m\u001b[1;33m,\u001b[0m\u001b[1;33m\u001b[0m\u001b[1;33m\u001b[0m\u001b[0m\n\u001b[0;32m    546\u001b[0m                          \u001b[0mdtype\u001b[0m\u001b[1;33m=\u001b[0m\u001b[0m_dtype\u001b[0m\u001b[1;33m,\u001b[0m\u001b[1;33m\u001b[0m\u001b[1;33m\u001b[0m\u001b[0m\n\u001b[1;32m--> 547\u001b[1;33m                          multi_output=True, y_numeric=True)\n\u001b[0m\u001b[0;32m    548\u001b[0m         \u001b[1;32mif\u001b[0m \u001b[0msparse\u001b[0m\u001b[1;33m.\u001b[0m\u001b[0missparse\u001b[0m\u001b[1;33m(\u001b[0m\u001b[0mX\u001b[0m\u001b[1;33m)\u001b[0m \u001b[1;32mand\u001b[0m \u001b[0mself\u001b[0m\u001b[1;33m.\u001b[0m\u001b[0mfit_intercept\u001b[0m\u001b[1;33m:\u001b[0m\u001b[1;33m\u001b[0m\u001b[1;33m\u001b[0m\u001b[0m\n\u001b[0;32m    549\u001b[0m             \u001b[1;32mif\u001b[0m \u001b[0mself\u001b[0m\u001b[1;33m.\u001b[0m\u001b[0msolver\u001b[0m \u001b[1;32mnot\u001b[0m \u001b[1;32min\u001b[0m \u001b[1;33m[\u001b[0m\u001b[1;34m'auto'\u001b[0m\u001b[1;33m,\u001b[0m \u001b[1;34m'sparse_cg'\u001b[0m\u001b[1;33m,\u001b[0m \u001b[1;34m'sag'\u001b[0m\u001b[1;33m]\u001b[0m\u001b[1;33m:\u001b[0m\u001b[1;33m\u001b[0m\u001b[1;33m\u001b[0m\u001b[0m\n",
      "\u001b[1;32mC:\\anaconda_python\\envs\\Insight\\lib\\site-packages\\sklearn\\utils\\validation.py\u001b[0m in \u001b[0;36mcheck_X_y\u001b[1;34m(X, y, accept_sparse, accept_large_sparse, dtype, order, copy, force_all_finite, ensure_2d, allow_nd, multi_output, ensure_min_samples, ensure_min_features, y_numeric, warn_on_dtype, estimator)\u001b[0m\n\u001b[0;32m    761\u001b[0m         \u001b[0m_assert_all_finite\u001b[0m\u001b[1;33m(\u001b[0m\u001b[0my\u001b[0m\u001b[1;33m)\u001b[0m\u001b[1;33m\u001b[0m\u001b[1;33m\u001b[0m\u001b[0m\n\u001b[0;32m    762\u001b[0m     \u001b[1;32mif\u001b[0m \u001b[0my_numeric\u001b[0m \u001b[1;32mand\u001b[0m \u001b[0my\u001b[0m\u001b[1;33m.\u001b[0m\u001b[0mdtype\u001b[0m\u001b[1;33m.\u001b[0m\u001b[0mkind\u001b[0m \u001b[1;33m==\u001b[0m \u001b[1;34m'O'\u001b[0m\u001b[1;33m:\u001b[0m\u001b[1;33m\u001b[0m\u001b[1;33m\u001b[0m\u001b[0m\n\u001b[1;32m--> 763\u001b[1;33m         \u001b[0my\u001b[0m \u001b[1;33m=\u001b[0m \u001b[0my\u001b[0m\u001b[1;33m.\u001b[0m\u001b[0mastype\u001b[0m\u001b[1;33m(\u001b[0m\u001b[0mnp\u001b[0m\u001b[1;33m.\u001b[0m\u001b[0mfloat64\u001b[0m\u001b[1;33m)\u001b[0m\u001b[1;33m\u001b[0m\u001b[1;33m\u001b[0m\u001b[0m\n\u001b[0m\u001b[0;32m    764\u001b[0m \u001b[1;33m\u001b[0m\u001b[0m\n\u001b[0;32m    765\u001b[0m     \u001b[0mcheck_consistent_length\u001b[0m\u001b[1;33m(\u001b[0m\u001b[0mX\u001b[0m\u001b[1;33m,\u001b[0m \u001b[0my\u001b[0m\u001b[1;33m)\u001b[0m\u001b[1;33m\u001b[0m\u001b[1;33m\u001b[0m\u001b[0m\n",
      "\u001b[1;31mValueError\u001b[0m: could not convert string to float: '1 - 2 weeks'"
     ]
    }
   ],
   "source": [
    "from sklearn.linear_model import Ridge\n",
    "ridge = Ridge()\n",
    "pipeline_temp3 = Pipeline(steps=[('preprocessor', oh),('model', ridge)])\n",
    "pipeline_temp3.fit(train_X, train_y)"
   ]
  },
  {
   "cell_type": "code",
   "execution_count": 49,
   "metadata": {},
   "outputs": [
    {
     "name": "stderr",
     "output_type": "stream",
     "text": [
      "C:\\anaconda_python\\lib\\site-packages\\sklearn\\linear_model\\coordinate_descent.py:492: ConvergenceWarning: Objective did not converge. You might want to increase the number of iterations. Fitting data with very small alpha may cause precision problems.\n",
      "  ConvergenceWarning)\n",
      "C:\\anaconda_python\\lib\\site-packages\\sklearn\\linear_model\\coordinate_descent.py:492: ConvergenceWarning: Objective did not converge. You might want to increase the number of iterations. Fitting data with very small alpha may cause precision problems.\n",
      "  ConvergenceWarning)\n",
      "C:\\anaconda_python\\lib\\site-packages\\sklearn\\linear_model\\coordinate_descent.py:492: ConvergenceWarning: Objective did not converge. You might want to increase the number of iterations. Fitting data with very small alpha may cause precision problems.\n",
      "  ConvergenceWarning)\n",
      "C:\\anaconda_python\\lib\\site-packages\\sklearn\\linear_model\\coordinate_descent.py:492: ConvergenceWarning: Objective did not converge. You might want to increase the number of iterations. Fitting data with very small alpha may cause precision problems.\n",
      "  ConvergenceWarning)\n",
      "C:\\anaconda_python\\lib\\site-packages\\sklearn\\linear_model\\coordinate_descent.py:492: ConvergenceWarning: Objective did not converge. You might want to increase the number of iterations. Fitting data with very small alpha may cause precision problems.\n",
      "  ConvergenceWarning)\n",
      "C:\\anaconda_python\\lib\\site-packages\\sklearn\\linear_model\\coordinate_descent.py:492: ConvergenceWarning: Objective did not converge. You might want to increase the number of iterations. Fitting data with very small alpha may cause precision problems.\n",
      "  ConvergenceWarning)\n",
      "C:\\anaconda_python\\lib\\site-packages\\sklearn\\linear_model\\coordinate_descent.py:492: ConvergenceWarning: Objective did not converge. You might want to increase the number of iterations. Fitting data with very small alpha may cause precision problems.\n",
      "  ConvergenceWarning)\n",
      "C:\\anaconda_python\\lib\\site-packages\\sklearn\\linear_model\\coordinate_descent.py:492: ConvergenceWarning: Objective did not converge. You might want to increase the number of iterations. Fitting data with very small alpha may cause precision problems.\n",
      "  ConvergenceWarning)\n",
      "C:\\anaconda_python\\lib\\site-packages\\sklearn\\linear_model\\coordinate_descent.py:492: ConvergenceWarning: Objective did not converge. You might want to increase the number of iterations. Fitting data with very small alpha may cause precision problems.\n",
      "  ConvergenceWarning)\n",
      "C:\\anaconda_python\\lib\\site-packages\\sklearn\\linear_model\\coordinate_descent.py:492: ConvergenceWarning: Objective did not converge. You might want to increase the number of iterations. Fitting data with very small alpha may cause precision problems.\n",
      "  ConvergenceWarning)\n"
     ]
    },
    {
     "name": "stdout",
     "output_type": "stream",
     "text": [
      "{'alpha': 10}\n",
      "0.06972839584829206\n"
     ]
    },
    {
     "name": "stderr",
     "output_type": "stream",
     "text": [
      "C:\\anaconda_python\\lib\\site-packages\\sklearn\\linear_model\\coordinate_descent.py:492: ConvergenceWarning: Objective did not converge. You might want to increase the number of iterations. Fitting data with very small alpha may cause precision problems.\n",
      "  ConvergenceWarning)\n"
     ]
    }
   ],
   "source": [
    "from sklearn.linear_model import Lasso\n",
    "lasso = Lasso()\n",
    "params = {'alpha': [1e-10, 1e-5, 1e-3, 1, 10, 30]}\n",
    "lasso_regressor = GridSearchCV(lasso, params, scoring='r2', cv=5)\n",
    "lasso_regressor.fit(OH_train_X, train_y)\n",
    "print(ridge_regressor.best_params_)\n",
    "print(ridge_regressor.best_score_)"
   ]
  },
  {
   "cell_type": "code",
   "execution_count": 50,
   "metadata": {},
   "outputs": [
    {
     "name": "stdout",
     "output_type": "stream",
     "text": [
      "{'alpha': 1e-05}\n",
      "0.06973029023361599\n"
     ]
    }
   ],
   "source": [
    "print(lasso_regressor.best_params_)\n",
    "print(lasso_regressor.best_score_)"
   ]
  },
  {
   "cell_type": "code",
   "execution_count": null,
   "metadata": {},
   "outputs": [],
   "source": [
    "#Lasso regression\n",
    "from sklearn.linear_model import Lasso\n",
    "lasso = Lasso()\n",
    "\n",
    "start = time.time()\n",
    "lr_model = lr.fit(OH_train_X, train_y)\n",
    "end = time.time()\n",
    "fit_time = (end - start)\n",
    "\n",
    "start = time.time()\n",
    "y_pred = lr_model.predict(OH_val_X)\n",
    "end = time.time()\n",
    "pred_time = (end - start)\n",
    "mae_x=mean_absolute_error(val_y, y_pred)\n",
    "r2 =r2_score(val_y,y_pred)\n",
    "print('Fit time: {} / Predict time: {} ---- MAE: {} / R^2: {}'.format(\n",
    "    round(fit_time, 3), round(pred_time, 3), round(mae_x, 3), round(r2,3)))"
   ]
  },
  {
   "cell_type": "code",
   "execution_count": 57,
   "metadata": {},
   "outputs": [],
   "source": [
    "alphas = 10**np.linspace(10,-2,100)*0.5"
   ]
  },
  {
   "cell_type": "code",
   "execution_count": 60,
   "metadata": {},
   "outputs": [
    {
     "data": {
      "text/plain": [
       "0.005"
      ]
     },
     "execution_count": 60,
     "metadata": {},
     "output_type": "execute_result"
    }
   ],
   "source": [
    "from sklearn.linear_model import RidgeCV\n",
    "rcv = RidgeCV(alphas=alphas, scoring='r2', normalize=True)\n",
    "rcv.fit(OH_train_X, train_y)\n",
    "rcv.alpha_"
   ]
  },
  {
   "cell_type": "code",
   "execution_count": 63,
   "metadata": {},
   "outputs": [
    {
     "data": {
      "text/plain": [
       "0.06922171956313983"
      ]
     },
     "execution_count": 63,
     "metadata": {},
     "output_type": "execute_result"
    }
   ],
   "source": [
    "ridgemodel = Ridge(alpha = rcv.alpha_, normalize = True)\n",
    "ridgemodel.fit(OH_train_X, train_y)\n",
    "y_pred = ridgemodel.predict(OH_val_X)\n",
    "r2 =r2_score(val_y,y_pred)\n",
    "r2"
   ]
  },
  {
   "cell_type": "code",
   "execution_count": 64,
   "metadata": {},
   "outputs": [
    {
     "data": {
      "text/plain": [
       "breeds.mixed                  0.011778\n",
       "breeds.unknown                0.000000\n",
       "attributes.spayed_neutered    0.044283\n",
       "attributes.house_trained      0.238269\n",
       "attributes.special_needs      0.432499\n",
       "attributes.shots_current      0.099156\n",
       "0                             0.169981\n",
       "1                            -0.276809\n",
       "2                             0.352069\n",
       "3                             0.083693\n",
       "4                             0.001179\n",
       "5                            -0.001202\n",
       "6                             0.027061\n",
       "7                            -0.074519\n",
       "8                             0.113026\n",
       "9                             0.050514\n",
       "10                           -0.120750\n",
       "11                           -0.109579\n",
       "12                            0.034705\n",
       "13                            0.005263\n",
       "14                            0.065023\n",
       "dtype: float64"
      ]
     },
     "execution_count": 64,
     "metadata": {},
     "output_type": "execute_result"
    }
   ],
   "source": [
    "pd.Series(ridgemodel.coef_, index = OH_val_X.columns)"
   ]
  },
  {
   "cell_type": "code",
   "execution_count": 66,
   "metadata": {},
   "outputs": [
    {
     "name": "stderr",
     "output_type": "stream",
     "text": [
      "C:\\anaconda_python\\lib\\site-packages\\sklearn\\model_selection\\_split.py:2053: FutureWarning: You should specify a value for 'cv' instead of relying on the default value. The default value will change from 3 to 5 in version 0.22.\n",
      "  warnings.warn(CV_WARNING, FutureWarning)\n"
     ]
    },
    {
     "data": {
      "text/plain": [
       "5000000000.0"
      ]
     },
     "execution_count": 66,
     "metadata": {},
     "output_type": "execute_result"
    }
   ],
   "source": [
    "from sklearn.linear_model import LassoCV\n",
    "lcv = LassoCV(alphas=alphas, max_iter=100000, normalize=True)\n",
    "lcv.fit(OH_train_X, train_y)\n",
    "lcv.alpha_"
   ]
  },
  {
   "cell_type": "code",
   "execution_count": 70,
   "metadata": {},
   "outputs": [
    {
     "data": {
      "text/plain": [
       "-0.00012802684020307709"
      ]
     },
     "execution_count": 70,
     "metadata": {},
     "output_type": "execute_result"
    }
   ],
   "source": [
    "lmodel = Lasso(alpha = 0.005, max_iter=100000, normalize = True)\n",
    "lmodel.fit(OH_train_X, train_y)\n",
    "y_pred = lmodel.predict(OH_val_X)\n",
    "r2 =r2_score(val_y,y_pred)\n",
    "r2"
   ]
  },
  {
   "cell_type": "code",
   "execution_count": 72,
   "metadata": {},
   "outputs": [
    {
     "data": {
      "text/plain": [
       "98217"
      ]
     },
     "execution_count": 72,
     "metadata": {},
     "output_type": "execute_result"
    }
   ],
   "source": [
    "len(train_y)"
   ]
  },
  {
   "cell_type": "code",
   "execution_count": 51,
   "metadata": {},
   "outputs": [
    {
     "name": "stdout",
     "output_type": "stream",
     "text": [
      "Fit time: 0.158 / Predict time: 0.029 ---- MAE: 0.876 / R^2: 0.069\n"
     ]
    }
   ],
   "source": [
    "#Ridge regression\n",
    "from sklearn.linear_model import Ridge\n",
    "rr = Ridge()\n",
    "\n",
    "start = time.time()\n",
    "rr_model = rr.fit(OH_train_X, train_y)\n",
    "end = time.time()\n",
    "fit_time = (end - start)\n",
    "\n",
    "start = time.time()\n",
    "y_pred = rr_model.predict(OH_val_X)\n",
    "end = time.time()\n",
    "pred_time = (end - start)\n",
    "mae_x=mean_absolute_error(val_y, y_pred)\n",
    "r2 =r2_score(val_y,y_pred)\n",
    "print('Fit time: {} / Predict time: {} ---- MAE: {} / R^2: {}'.format(\n",
    "    round(fit_time, 3), round(pred_time, 3), round(mae_x, 3), round(r2,3)))"
   ]
  }
 ],
 "metadata": {
  "kernelspec": {
   "display_name": "Python 3",
   "language": "python",
   "name": "python3"
  },
  "language_info": {
   "codemirror_mode": {
    "name": "ipython",
    "version": 3
   },
   "file_extension": ".py",
   "mimetype": "text/x-python",
   "name": "python",
   "nbconvert_exporter": "python",
   "pygments_lexer": "ipython3",
   "version": "3.7.6"
  }
 },
 "nbformat": 4,
 "nbformat_minor": 2
}
