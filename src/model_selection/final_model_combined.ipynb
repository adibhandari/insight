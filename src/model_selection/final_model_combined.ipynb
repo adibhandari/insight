{
 "cells": [
  {
   "cell_type": "markdown",
   "metadata": {},
   "source": [
    "# This notebook is for testing the final model (combined) on the holdout test set"
   ]
  },
  {
   "cell_type": "markdown",
   "metadata": {},
   "source": [
    "# Import modules and load in data"
   ]
  },
  {
   "cell_type": "code",
   "execution_count": 1,
   "metadata": {},
   "outputs": [],
   "source": [
    "import numpy as np\n",
    "import pandas as pd\n",
    "import matplotlib.pyplot as plt"
   ]
  },
  {
   "cell_type": "code",
   "execution_count": 2,
   "metadata": {},
   "outputs": [
    {
     "data": {
      "text/html": [
       "<div>\n",
       "<style scoped>\n",
       "    .dataframe tbody tr th:only-of-type {\n",
       "        vertical-align: middle;\n",
       "    }\n",
       "\n",
       "    .dataframe tbody tr th {\n",
       "        vertical-align: top;\n",
       "    }\n",
       "\n",
       "    .dataframe thead th {\n",
       "        text-align: right;\n",
       "    }\n",
       "</style>\n",
       "<table border=\"1\" class=\"dataframe\">\n",
       "  <thead>\n",
       "    <tr style=\"text-align: right;\">\n",
       "      <th></th>\n",
       "      <th>id</th>\n",
       "      <th>age</th>\n",
       "      <th>gender</th>\n",
       "      <th>size</th>\n",
       "      <th>breeds.primary</th>\n",
       "      <th>breeds.mixed</th>\n",
       "      <th>log_breed_pop</th>\n",
       "      <th>log_dog_pop</th>\n",
       "      <th>contact.address.state</th>\n",
       "      <th>state_population</th>\n",
       "      <th>state_area</th>\n",
       "      <th>state_region</th>\n",
       "      <th>cg_adpt_time</th>\n",
       "    </tr>\n",
       "  </thead>\n",
       "  <tbody>\n",
       "    <tr>\n",
       "      <th>0</th>\n",
       "      <td>36278338</td>\n",
       "      <td>2</td>\n",
       "      <td>Male</td>\n",
       "      <td>2</td>\n",
       "      <td>Terrier</td>\n",
       "      <td>True</td>\n",
       "      <td>10.291332</td>\n",
       "      <td>9.919066</td>\n",
       "      <td>MN</td>\n",
       "      <td>15.543293</td>\n",
       "      <td>11.373008</td>\n",
       "      <td>Midwest</td>\n",
       "      <td>1 - 2 weeks</td>\n",
       "    </tr>\n",
       "    <tr>\n",
       "      <th>1</th>\n",
       "      <td>44480910</td>\n",
       "      <td>3</td>\n",
       "      <td>Male</td>\n",
       "      <td>2</td>\n",
       "      <td>American Staffordshire Terrier</td>\n",
       "      <td>True</td>\n",
       "      <td>9.106423</td>\n",
       "      <td>9.819834</td>\n",
       "      <td>IL</td>\n",
       "      <td>16.362478</td>\n",
       "      <td>10.966784</td>\n",
       "      <td>Midwest</td>\n",
       "      <td>&lt; 3 months</td>\n",
       "    </tr>\n",
       "    <tr>\n",
       "      <th>2</th>\n",
       "      <td>41950416</td>\n",
       "      <td>3</td>\n",
       "      <td>Female</td>\n",
       "      <td>3</td>\n",
       "      <td>Greyhound</td>\n",
       "      <td>False</td>\n",
       "      <td>8.146709</td>\n",
       "      <td>9.913190</td>\n",
       "      <td>MI</td>\n",
       "      <td>16.117213</td>\n",
       "      <td>11.480506</td>\n",
       "      <td>Midwest</td>\n",
       "      <td>&lt; 3 months</td>\n",
       "    </tr>\n",
       "    <tr>\n",
       "      <th>3</th>\n",
       "      <td>40975541</td>\n",
       "      <td>1</td>\n",
       "      <td>Male</td>\n",
       "      <td>2</td>\n",
       "      <td>Shepherd</td>\n",
       "      <td>True</td>\n",
       "      <td>10.066074</td>\n",
       "      <td>9.913190</td>\n",
       "      <td>MI</td>\n",
       "      <td>16.117213</td>\n",
       "      <td>11.480506</td>\n",
       "      <td>Midwest</td>\n",
       "      <td>1 - 2 weeks</td>\n",
       "    </tr>\n",
       "    <tr>\n",
       "      <th>4</th>\n",
       "      <td>33677967</td>\n",
       "      <td>1</td>\n",
       "      <td>Female</td>\n",
       "      <td>2</td>\n",
       "      <td>Golden Retriever</td>\n",
       "      <td>False</td>\n",
       "      <td>8.728912</td>\n",
       "      <td>9.593969</td>\n",
       "      <td>AL</td>\n",
       "      <td>15.402488</td>\n",
       "      <td>10.867101</td>\n",
       "      <td>South</td>\n",
       "      <td>&lt; 1 month</td>\n",
       "    </tr>\n",
       "  </tbody>\n",
       "</table>\n",
       "</div>"
      ],
      "text/plain": [
       "         id  age  gender  size                  breeds.primary  breeds.mixed  \\\n",
       "0  36278338    2    Male     2                         Terrier          True   \n",
       "1  44480910    3    Male     2  American Staffordshire Terrier          True   \n",
       "2  41950416    3  Female     3                       Greyhound         False   \n",
       "3  40975541    1    Male     2                        Shepherd          True   \n",
       "4  33677967    1  Female     2                Golden Retriever         False   \n",
       "\n",
       "   log_breed_pop  log_dog_pop contact.address.state  state_population  \\\n",
       "0      10.291332     9.919066                    MN         15.543293   \n",
       "1       9.106423     9.819834                    IL         16.362478   \n",
       "2       8.146709     9.913190                    MI         16.117213   \n",
       "3      10.066074     9.913190                    MI         16.117213   \n",
       "4       8.728912     9.593969                    AL         15.402488   \n",
       "\n",
       "   state_area state_region cg_adpt_time  \n",
       "0   11.373008      Midwest  1 - 2 weeks  \n",
       "1   10.966784      Midwest   < 3 months  \n",
       "2   11.480506      Midwest   < 3 months  \n",
       "3   11.480506      Midwest  1 - 2 weeks  \n",
       "4   10.867101        South    < 1 month  "
      ]
     },
     "execution_count": 2,
     "metadata": {},
     "output_type": "execute_result"
    }
   ],
   "source": [
    "trainval = pd.read_csv('./data/trainval_all_combined.csv')\n",
    "trainval.head()"
   ]
  },
  {
   "cell_type": "code",
   "execution_count": 3,
   "metadata": {},
   "outputs": [
    {
     "data": {
      "text/html": [
       "<div>\n",
       "<style scoped>\n",
       "    .dataframe tbody tr th:only-of-type {\n",
       "        vertical-align: middle;\n",
       "    }\n",
       "\n",
       "    .dataframe tbody tr th {\n",
       "        vertical-align: top;\n",
       "    }\n",
       "\n",
       "    .dataframe thead th {\n",
       "        text-align: right;\n",
       "    }\n",
       "</style>\n",
       "<table border=\"1\" class=\"dataframe\">\n",
       "  <thead>\n",
       "    <tr style=\"text-align: right;\">\n",
       "      <th></th>\n",
       "      <th>id</th>\n",
       "      <th>age</th>\n",
       "      <th>gender</th>\n",
       "      <th>size</th>\n",
       "      <th>breeds.primary</th>\n",
       "      <th>breeds.mixed</th>\n",
       "      <th>log_breed_pop</th>\n",
       "      <th>log_dog_pop</th>\n",
       "      <th>contact.address.state</th>\n",
       "      <th>state_population</th>\n",
       "      <th>state_area</th>\n",
       "      <th>state_region</th>\n",
       "      <th>cg_adpt_time</th>\n",
       "    </tr>\n",
       "  </thead>\n",
       "  <tbody>\n",
       "    <tr>\n",
       "      <th>0</th>\n",
       "      <td>30190826</td>\n",
       "      <td>1</td>\n",
       "      <td>Female</td>\n",
       "      <td>2</td>\n",
       "      <td>Hound</td>\n",
       "      <td>True</td>\n",
       "      <td>9.583695</td>\n",
       "      <td>9.739261</td>\n",
       "      <td>IN</td>\n",
       "      <td>15.717563</td>\n",
       "      <td>10.502873</td>\n",
       "      <td>Midwest</td>\n",
       "      <td>&gt; 3 months</td>\n",
       "    </tr>\n",
       "    <tr>\n",
       "      <th>1</th>\n",
       "      <td>43437410</td>\n",
       "      <td>2</td>\n",
       "      <td>Male</td>\n",
       "      <td>2</td>\n",
       "      <td>Hound</td>\n",
       "      <td>True</td>\n",
       "      <td>9.583695</td>\n",
       "      <td>10.196456</td>\n",
       "      <td>MA</td>\n",
       "      <td>15.746440</td>\n",
       "      <td>9.264355</td>\n",
       "      <td>Northeast</td>\n",
       "      <td>1 - 2 weeks</td>\n",
       "    </tr>\n",
       "    <tr>\n",
       "      <th>2</th>\n",
       "      <td>36961937</td>\n",
       "      <td>3</td>\n",
       "      <td>Male</td>\n",
       "      <td>1</td>\n",
       "      <td>Chihuahua</td>\n",
       "      <td>True</td>\n",
       "      <td>10.711993</td>\n",
       "      <td>8.761863</td>\n",
       "      <td>IA</td>\n",
       "      <td>14.966258</td>\n",
       "      <td>10.938023</td>\n",
       "      <td>Midwest</td>\n",
       "      <td>&lt; 3 months</td>\n",
       "    </tr>\n",
       "    <tr>\n",
       "      <th>3</th>\n",
       "      <td>35269929</td>\n",
       "      <td>3</td>\n",
       "      <td>Female</td>\n",
       "      <td>3</td>\n",
       "      <td>Pit Bull Terrier</td>\n",
       "      <td>True</td>\n",
       "      <td>10.450481</td>\n",
       "      <td>9.146974</td>\n",
       "      <td>NJ</td>\n",
       "      <td>16.016381</td>\n",
       "      <td>9.073604</td>\n",
       "      <td>Northeast</td>\n",
       "      <td>1 - 2 weeks</td>\n",
       "    </tr>\n",
       "    <tr>\n",
       "      <th>4</th>\n",
       "      <td>36960456</td>\n",
       "      <td>3</td>\n",
       "      <td>Male</td>\n",
       "      <td>2</td>\n",
       "      <td>Basset Hound</td>\n",
       "      <td>True</td>\n",
       "      <td>8.216899</td>\n",
       "      <td>8.936956</td>\n",
       "      <td>NE</td>\n",
       "      <td>14.474350</td>\n",
       "      <td>11.256199</td>\n",
       "      <td>Midwest</td>\n",
       "      <td>&gt; 3 months</td>\n",
       "    </tr>\n",
       "  </tbody>\n",
       "</table>\n",
       "</div>"
      ],
      "text/plain": [
       "         id  age  gender  size    breeds.primary  breeds.mixed  log_breed_pop  \\\n",
       "0  30190826    1  Female     2             Hound          True       9.583695   \n",
       "1  43437410    2    Male     2             Hound          True       9.583695   \n",
       "2  36961937    3    Male     1         Chihuahua          True      10.711993   \n",
       "3  35269929    3  Female     3  Pit Bull Terrier          True      10.450481   \n",
       "4  36960456    3    Male     2      Basset Hound          True       8.216899   \n",
       "\n",
       "   log_dog_pop contact.address.state  state_population  state_area  \\\n",
       "0     9.739261                    IN         15.717563   10.502873   \n",
       "1    10.196456                    MA         15.746440    9.264355   \n",
       "2     8.761863                    IA         14.966258   10.938023   \n",
       "3     9.146974                    NJ         16.016381    9.073604   \n",
       "4     8.936956                    NE         14.474350   11.256199   \n",
       "\n",
       "  state_region cg_adpt_time  \n",
       "0      Midwest   > 3 months  \n",
       "1    Northeast  1 - 2 weeks  \n",
       "2      Midwest   < 3 months  \n",
       "3    Northeast  1 - 2 weeks  \n",
       "4      Midwest   > 3 months  "
      ]
     },
     "execution_count": 3,
     "metadata": {},
     "output_type": "execute_result"
    }
   ],
   "source": [
    "test = pd.read_csv('./data/test_all_combined.csv')\n",
    "test.head()"
   ]
  },
  {
   "cell_type": "markdown",
   "metadata": {},
   "source": [
    "# Define the categorical columns and split into feature vectors and target"
   ]
  },
  {
   "cell_type": "code",
   "execution_count": 4,
   "metadata": {},
   "outputs": [],
   "source": [
    "# Define these columns as categorical instead of object\n",
    "cat_col = ['gender','state_region']\n",
    "trainval[cat_col]=trainval[cat_col].astype('category')\n",
    "test[cat_col]=test[cat_col].astype('category')"
   ]
  },
  {
   "cell_type": "code",
   "execution_count": 5,
   "metadata": {},
   "outputs": [
    {
     "data": {
      "text/html": [
       "<div>\n",
       "<style scoped>\n",
       "    .dataframe tbody tr th:only-of-type {\n",
       "        vertical-align: middle;\n",
       "    }\n",
       "\n",
       "    .dataframe tbody tr th {\n",
       "        vertical-align: top;\n",
       "    }\n",
       "\n",
       "    .dataframe thead th {\n",
       "        text-align: right;\n",
       "    }\n",
       "</style>\n",
       "<table border=\"1\" class=\"dataframe\">\n",
       "  <thead>\n",
       "    <tr style=\"text-align: right;\">\n",
       "      <th></th>\n",
       "      <th>age</th>\n",
       "      <th>gender</th>\n",
       "      <th>size</th>\n",
       "      <th>log_breed_pop</th>\n",
       "      <th>breeds.mixed</th>\n",
       "      <th>log_dog_pop</th>\n",
       "      <th>state_population</th>\n",
       "      <th>state_area</th>\n",
       "      <th>state_region</th>\n",
       "    </tr>\n",
       "  </thead>\n",
       "  <tbody>\n",
       "    <tr>\n",
       "      <th>0</th>\n",
       "      <td>2</td>\n",
       "      <td>Male</td>\n",
       "      <td>2</td>\n",
       "      <td>10.291332</td>\n",
       "      <td>True</td>\n",
       "      <td>9.919066</td>\n",
       "      <td>15.543293</td>\n",
       "      <td>11.373008</td>\n",
       "      <td>Midwest</td>\n",
       "    </tr>\n",
       "    <tr>\n",
       "      <th>1</th>\n",
       "      <td>3</td>\n",
       "      <td>Male</td>\n",
       "      <td>2</td>\n",
       "      <td>9.106423</td>\n",
       "      <td>True</td>\n",
       "      <td>9.819834</td>\n",
       "      <td>16.362478</td>\n",
       "      <td>10.966784</td>\n",
       "      <td>Midwest</td>\n",
       "    </tr>\n",
       "    <tr>\n",
       "      <th>2</th>\n",
       "      <td>3</td>\n",
       "      <td>Female</td>\n",
       "      <td>3</td>\n",
       "      <td>8.146709</td>\n",
       "      <td>False</td>\n",
       "      <td>9.913190</td>\n",
       "      <td>16.117213</td>\n",
       "      <td>11.480506</td>\n",
       "      <td>Midwest</td>\n",
       "    </tr>\n",
       "    <tr>\n",
       "      <th>3</th>\n",
       "      <td>1</td>\n",
       "      <td>Male</td>\n",
       "      <td>2</td>\n",
       "      <td>10.066074</td>\n",
       "      <td>True</td>\n",
       "      <td>9.913190</td>\n",
       "      <td>16.117213</td>\n",
       "      <td>11.480506</td>\n",
       "      <td>Midwest</td>\n",
       "    </tr>\n",
       "    <tr>\n",
       "      <th>4</th>\n",
       "      <td>1</td>\n",
       "      <td>Female</td>\n",
       "      <td>2</td>\n",
       "      <td>8.728912</td>\n",
       "      <td>False</td>\n",
       "      <td>9.593969</td>\n",
       "      <td>15.402488</td>\n",
       "      <td>10.867101</td>\n",
       "      <td>South</td>\n",
       "    </tr>\n",
       "  </tbody>\n",
       "</table>\n",
       "</div>"
      ],
      "text/plain": [
       "   age  gender  size  log_breed_pop  breeds.mixed  log_dog_pop  \\\n",
       "0    2    Male     2      10.291332          True     9.919066   \n",
       "1    3    Male     2       9.106423          True     9.819834   \n",
       "2    3  Female     3       8.146709         False     9.913190   \n",
       "3    1    Male     2      10.066074          True     9.913190   \n",
       "4    1  Female     2       8.728912         False     9.593969   \n",
       "\n",
       "   state_population  state_area state_region  \n",
       "0         15.543293   11.373008      Midwest  \n",
       "1         16.362478   10.966784      Midwest  \n",
       "2         16.117213   11.480506      Midwest  \n",
       "3         16.117213   11.480506      Midwest  \n",
       "4         15.402488   10.867101        South  "
      ]
     },
     "execution_count": 5,
     "metadata": {},
     "output_type": "execute_result"
    }
   ],
   "source": [
    "#features\n",
    "X_features = ['age', 'gender', 'size', 'log_breed_pop',\n",
    "              'breeds.mixed', 'log_dog_pop', 'state_population',\n",
    "             'state_area', 'state_region']\n",
    "trainval_X = trainval[X_features]\n",
    "trainval_X.head()"
   ]
  },
  {
   "cell_type": "code",
   "execution_count": 7,
   "metadata": {},
   "outputs": [
    {
     "data": {
      "text/plain": [
       "age                    int64\n",
       "gender              category\n",
       "size                   int64\n",
       "log_breed_pop        float64\n",
       "breeds.mixed            bool\n",
       "log_dog_pop          float64\n",
       "state_population     float64\n",
       "state_area           float64\n",
       "state_region        category\n",
       "dtype: object"
      ]
     },
     "execution_count": 7,
     "metadata": {},
     "output_type": "execute_result"
    }
   ],
   "source": [
    "trainval_X.dtypes"
   ]
  },
  {
   "cell_type": "code",
   "execution_count": 8,
   "metadata": {},
   "outputs": [
    {
     "data": {
      "text/html": [
       "<div>\n",
       "<style scoped>\n",
       "    .dataframe tbody tr th:only-of-type {\n",
       "        vertical-align: middle;\n",
       "    }\n",
       "\n",
       "    .dataframe tbody tr th {\n",
       "        vertical-align: top;\n",
       "    }\n",
       "\n",
       "    .dataframe thead th {\n",
       "        text-align: right;\n",
       "    }\n",
       "</style>\n",
       "<table border=\"1\" class=\"dataframe\">\n",
       "  <thead>\n",
       "    <tr style=\"text-align: right;\">\n",
       "      <th></th>\n",
       "      <th>age</th>\n",
       "      <th>gender</th>\n",
       "      <th>size</th>\n",
       "      <th>log_breed_pop</th>\n",
       "      <th>breeds.mixed</th>\n",
       "      <th>log_dog_pop</th>\n",
       "      <th>state_population</th>\n",
       "      <th>state_area</th>\n",
       "      <th>state_region</th>\n",
       "    </tr>\n",
       "  </thead>\n",
       "  <tbody>\n",
       "    <tr>\n",
       "      <th>0</th>\n",
       "      <td>1</td>\n",
       "      <td>Female</td>\n",
       "      <td>2</td>\n",
       "      <td>9.583695</td>\n",
       "      <td>True</td>\n",
       "      <td>9.739261</td>\n",
       "      <td>15.717563</td>\n",
       "      <td>10.502873</td>\n",
       "      <td>Midwest</td>\n",
       "    </tr>\n",
       "    <tr>\n",
       "      <th>1</th>\n",
       "      <td>2</td>\n",
       "      <td>Male</td>\n",
       "      <td>2</td>\n",
       "      <td>9.583695</td>\n",
       "      <td>True</td>\n",
       "      <td>10.196456</td>\n",
       "      <td>15.746440</td>\n",
       "      <td>9.264355</td>\n",
       "      <td>Northeast</td>\n",
       "    </tr>\n",
       "    <tr>\n",
       "      <th>2</th>\n",
       "      <td>3</td>\n",
       "      <td>Male</td>\n",
       "      <td>1</td>\n",
       "      <td>10.711993</td>\n",
       "      <td>True</td>\n",
       "      <td>8.761863</td>\n",
       "      <td>14.966258</td>\n",
       "      <td>10.938023</td>\n",
       "      <td>Midwest</td>\n",
       "    </tr>\n",
       "    <tr>\n",
       "      <th>3</th>\n",
       "      <td>3</td>\n",
       "      <td>Female</td>\n",
       "      <td>3</td>\n",
       "      <td>10.450481</td>\n",
       "      <td>True</td>\n",
       "      <td>9.146974</td>\n",
       "      <td>16.016381</td>\n",
       "      <td>9.073604</td>\n",
       "      <td>Northeast</td>\n",
       "    </tr>\n",
       "    <tr>\n",
       "      <th>4</th>\n",
       "      <td>3</td>\n",
       "      <td>Male</td>\n",
       "      <td>2</td>\n",
       "      <td>8.216899</td>\n",
       "      <td>True</td>\n",
       "      <td>8.936956</td>\n",
       "      <td>14.474350</td>\n",
       "      <td>11.256199</td>\n",
       "      <td>Midwest</td>\n",
       "    </tr>\n",
       "  </tbody>\n",
       "</table>\n",
       "</div>"
      ],
      "text/plain": [
       "   age  gender  size  log_breed_pop  breeds.mixed  log_dog_pop  \\\n",
       "0    1  Female     2       9.583695          True     9.739261   \n",
       "1    2    Male     2       9.583695          True    10.196456   \n",
       "2    3    Male     1      10.711993          True     8.761863   \n",
       "3    3  Female     3      10.450481          True     9.146974   \n",
       "4    3    Male     2       8.216899          True     8.936956   \n",
       "\n",
       "   state_population  state_area state_region  \n",
       "0         15.717563   10.502873      Midwest  \n",
       "1         15.746440    9.264355    Northeast  \n",
       "2         14.966258   10.938023      Midwest  \n",
       "3         16.016381    9.073604    Northeast  \n",
       "4         14.474350   11.256199      Midwest  "
      ]
     },
     "execution_count": 8,
     "metadata": {},
     "output_type": "execute_result"
    }
   ],
   "source": [
    "test_X = test[X_features]\n",
    "test_y = test['cg_adpt_time']\n",
    "test_X.head()"
   ]
  },
  {
   "cell_type": "code",
   "execution_count": 9,
   "metadata": {},
   "outputs": [
    {
     "data": {
      "text/plain": [
       "0    1 - 2 weeks\n",
       "1     < 3 months\n",
       "2     < 3 months\n",
       "3    1 - 2 weeks\n",
       "4      < 1 month\n",
       "Name: cg_adpt_time, dtype: object"
      ]
     },
     "execution_count": 9,
     "metadata": {},
     "output_type": "execute_result"
    }
   ],
   "source": [
    "trainval_y = trainval['cg_adpt_time']\n",
    "trainval_y.head()"
   ]
  },
  {
   "cell_type": "markdown",
   "metadata": {},
   "source": [
    "# One hot encode to check feature importances"
   ]
  },
  {
   "cell_type": "code",
   "execution_count": 11,
   "metadata": {},
   "outputs": [],
   "source": [
    "from sklearn.preprocessing import OneHotEncoder\n",
    "oh = OneHotEncoder(handle_unknown='ignore', sparse=False)\n",
    "cat_col = ['gender','state_region']"
   ]
  },
  {
   "cell_type": "code",
   "execution_count": 17,
   "metadata": {},
   "outputs": [],
   "source": [
    "# Best performing model from model selection\n",
    "OH_encoder = OneHotEncoder(handle_unknown='ignore', sparse=False)\n",
    "OH_cols_trainval = pd.DataFrame(oh.fit_transform(trainval_X[cat_col]))\n",
    "OH_cols_trainval.columns = oh.get_feature_names(cat_col)\n",
    "OH_cols_test = pd.DataFrame(oh.transform(test_X[cat_col]))\n",
    "OH_cols_test.columns = oh.get_feature_names(cat_col)\n",
    "# One-hot encoding removed index; put it back\n",
    "OH_cols_trainval.index = trainval_X.index\n",
    "OH_cols_test.index = test_X.index\n",
    "rest_trainval = trainval_X.drop(cat_col, axis=1)\n",
    "rest_test = test_X.drop(cat_col, axis=1)\n",
    "OH_trainval_X = pd.concat([rest_trainval, OH_cols_trainval], axis=1)\n",
    "OH_test_X = pd.concat([rest_test, OH_cols_test], axis=1)"
   ]
  },
  {
   "cell_type": "code",
   "execution_count": 18,
   "metadata": {},
   "outputs": [
    {
     "data": {
      "text/html": [
       "<div>\n",
       "<style scoped>\n",
       "    .dataframe tbody tr th:only-of-type {\n",
       "        vertical-align: middle;\n",
       "    }\n",
       "\n",
       "    .dataframe tbody tr th {\n",
       "        vertical-align: top;\n",
       "    }\n",
       "\n",
       "    .dataframe thead th {\n",
       "        text-align: right;\n",
       "    }\n",
       "</style>\n",
       "<table border=\"1\" class=\"dataframe\">\n",
       "  <thead>\n",
       "    <tr style=\"text-align: right;\">\n",
       "      <th></th>\n",
       "      <th>age</th>\n",
       "      <th>size</th>\n",
       "      <th>log_breed_pop</th>\n",
       "      <th>breeds.mixed</th>\n",
       "      <th>log_dog_pop</th>\n",
       "      <th>state_population</th>\n",
       "      <th>state_area</th>\n",
       "      <th>gender_Female</th>\n",
       "      <th>gender_Male</th>\n",
       "      <th>state_region_Midwest</th>\n",
       "      <th>state_region_Northeast</th>\n",
       "      <th>state_region_South</th>\n",
       "      <th>state_region_West</th>\n",
       "    </tr>\n",
       "  </thead>\n",
       "  <tbody>\n",
       "    <tr>\n",
       "      <th>0</th>\n",
       "      <td>2</td>\n",
       "      <td>2</td>\n",
       "      <td>10.291332</td>\n",
       "      <td>True</td>\n",
       "      <td>9.919066</td>\n",
       "      <td>15.543293</td>\n",
       "      <td>11.373008</td>\n",
       "      <td>0.0</td>\n",
       "      <td>1.0</td>\n",
       "      <td>1.0</td>\n",
       "      <td>0.0</td>\n",
       "      <td>0.0</td>\n",
       "      <td>0.0</td>\n",
       "    </tr>\n",
       "    <tr>\n",
       "      <th>1</th>\n",
       "      <td>3</td>\n",
       "      <td>2</td>\n",
       "      <td>9.106423</td>\n",
       "      <td>True</td>\n",
       "      <td>9.819834</td>\n",
       "      <td>16.362478</td>\n",
       "      <td>10.966784</td>\n",
       "      <td>0.0</td>\n",
       "      <td>1.0</td>\n",
       "      <td>1.0</td>\n",
       "      <td>0.0</td>\n",
       "      <td>0.0</td>\n",
       "      <td>0.0</td>\n",
       "    </tr>\n",
       "    <tr>\n",
       "      <th>2</th>\n",
       "      <td>3</td>\n",
       "      <td>3</td>\n",
       "      <td>8.146709</td>\n",
       "      <td>False</td>\n",
       "      <td>9.913190</td>\n",
       "      <td>16.117213</td>\n",
       "      <td>11.480506</td>\n",
       "      <td>1.0</td>\n",
       "      <td>0.0</td>\n",
       "      <td>1.0</td>\n",
       "      <td>0.0</td>\n",
       "      <td>0.0</td>\n",
       "      <td>0.0</td>\n",
       "    </tr>\n",
       "    <tr>\n",
       "      <th>3</th>\n",
       "      <td>1</td>\n",
       "      <td>2</td>\n",
       "      <td>10.066074</td>\n",
       "      <td>True</td>\n",
       "      <td>9.913190</td>\n",
       "      <td>16.117213</td>\n",
       "      <td>11.480506</td>\n",
       "      <td>0.0</td>\n",
       "      <td>1.0</td>\n",
       "      <td>1.0</td>\n",
       "      <td>0.0</td>\n",
       "      <td>0.0</td>\n",
       "      <td>0.0</td>\n",
       "    </tr>\n",
       "    <tr>\n",
       "      <th>4</th>\n",
       "      <td>1</td>\n",
       "      <td>2</td>\n",
       "      <td>8.728912</td>\n",
       "      <td>False</td>\n",
       "      <td>9.593969</td>\n",
       "      <td>15.402488</td>\n",
       "      <td>10.867101</td>\n",
       "      <td>1.0</td>\n",
       "      <td>0.0</td>\n",
       "      <td>0.0</td>\n",
       "      <td>0.0</td>\n",
       "      <td>1.0</td>\n",
       "      <td>0.0</td>\n",
       "    </tr>\n",
       "  </tbody>\n",
       "</table>\n",
       "</div>"
      ],
      "text/plain": [
       "  age size  log_breed_pop  breeds.mixed  log_dog_pop  state_population  \\\n",
       "0   2    2      10.291332          True     9.919066         15.543293   \n",
       "1   3    2       9.106423          True     9.819834         16.362478   \n",
       "2   3    3       8.146709         False     9.913190         16.117213   \n",
       "3   1    2      10.066074          True     9.913190         16.117213   \n",
       "4   1    2       8.728912         False     9.593969         15.402488   \n",
       "\n",
       "   state_area  gender_Female  gender_Male  state_region_Midwest  \\\n",
       "0   11.373008            0.0          1.0                   1.0   \n",
       "1   10.966784            0.0          1.0                   1.0   \n",
       "2   11.480506            1.0          0.0                   1.0   \n",
       "3   11.480506            0.0          1.0                   1.0   \n",
       "4   10.867101            1.0          0.0                   0.0   \n",
       "\n",
       "   state_region_Northeast  state_region_South  state_region_West  \n",
       "0                     0.0                 0.0                0.0  \n",
       "1                     0.0                 0.0                0.0  \n",
       "2                     0.0                 0.0                0.0  \n",
       "3                     0.0                 0.0                0.0  \n",
       "4                     0.0                 1.0                0.0  "
      ]
     },
     "execution_count": 18,
     "metadata": {},
     "output_type": "execute_result"
    }
   ],
   "source": [
    "OH_trainval_X.head()"
   ]
  },
  {
   "cell_type": "code",
   "execution_count": 20,
   "metadata": {},
   "outputs": [
    {
     "data": {
      "text/plain": [
       "Index(['age', 'size', 'log_breed_pop', 'breeds.mixed', 'log_dog_pop',\n",
       "       'state_population', 'state_area', 'gender_Female', 'gender_Male',\n",
       "       'state_region_Midwest', 'state_region_Northeast', 'state_region_South',\n",
       "       'state_region_West'],\n",
       "      dtype='object')"
      ]
     },
     "execution_count": 20,
     "metadata": {},
     "output_type": "execute_result"
    }
   ],
   "source": [
    "OH_trainval_X.columns"
   ]
  },
  {
   "cell_type": "code",
   "execution_count": 21,
   "metadata": {},
   "outputs": [
    {
     "name": "stdout",
     "output_type": "stream",
     "text": [
      "Fit time: 87.621 / Predict time: 5.305 ---- Accuracy: 0.308\n"
     ]
    }
   ],
   "source": [
    "from sklearn.ensemble import RandomForestClassifier\n",
    "import time\n",
    "rf = RandomForestClassifier(n_estimators=150, max_depth=30, n_jobs=-1)\n",
    "\n",
    "start = time.time()\n",
    "rf_model = rf.fit(OH_trainval_X, trainval_y)\n",
    "end = time.time()\n",
    "fit_time = (end - start)\n",
    "\n",
    "start = time.time()\n",
    "y_pred = rf_model.predict(OH_test_X)\n",
    "end = time.time()\n",
    "pred_time = (end - start)\n",
    "\n",
    "print('Fit time: {} / Predict time: {} ---- Accuracy: {}'.format(\n",
    "    round(fit_time, 3), round(pred_time, 3), round((y_pred==test_y).sum()/len(y_pred), 3)))"
   ]
  },
  {
   "cell_type": "markdown",
   "metadata": {},
   "source": [
    "# Plot feature importances"
   ]
  },
  {
   "cell_type": "code",
   "execution_count": 22,
   "metadata": {},
   "outputs": [],
   "source": [
    "feature_importances = pd.DataFrame(rf_model.feature_importances_,index = OH_trainval_X.columns,columns=['importance']).sort_values('importance',ascending=False)"
   ]
  },
  {
   "cell_type": "code",
   "execution_count": 57,
   "metadata": {},
   "outputs": [
    {
     "data": {
      "text/html": [
       "<div>\n",
       "<style scoped>\n",
       "    .dataframe tbody tr th:only-of-type {\n",
       "        vertical-align: middle;\n",
       "    }\n",
       "\n",
       "    .dataframe tbody tr th {\n",
       "        vertical-align: top;\n",
       "    }\n",
       "\n",
       "    .dataframe thead th {\n",
       "        text-align: right;\n",
       "    }\n",
       "</style>\n",
       "<table border=\"1\" class=\"dataframe\">\n",
       "  <thead>\n",
       "    <tr style=\"text-align: right;\">\n",
       "      <th></th>\n",
       "      <th>importance</th>\n",
       "    </tr>\n",
       "  </thead>\n",
       "  <tbody>\n",
       "    <tr>\n",
       "      <th>log_breed_pop</th>\n",
       "      <td>0.736047</td>\n",
       "    </tr>\n",
       "    <tr>\n",
       "      <th>age</th>\n",
       "      <td>0.082994</td>\n",
       "    </tr>\n",
       "    <tr>\n",
       "      <th>size</th>\n",
       "      <td>0.040648</td>\n",
       "    </tr>\n",
       "    <tr>\n",
       "      <th>state_area</th>\n",
       "      <td>0.033719</td>\n",
       "    </tr>\n",
       "    <tr>\n",
       "      <th>state_population</th>\n",
       "      <td>0.028132</td>\n",
       "    </tr>\n",
       "    <tr>\n",
       "      <th>log_dog_pop</th>\n",
       "      <td>0.027379</td>\n",
       "    </tr>\n",
       "    <tr>\n",
       "      <th>breeds.mixed</th>\n",
       "      <td>0.022588</td>\n",
       "    </tr>\n",
       "    <tr>\n",
       "      <th>gender_Male</th>\n",
       "      <td>0.007357</td>\n",
       "    </tr>\n",
       "    <tr>\n",
       "      <th>gender_Female</th>\n",
       "      <td>0.007340</td>\n",
       "    </tr>\n",
       "    <tr>\n",
       "      <th>state_region_West</th>\n",
       "      <td>0.006188</td>\n",
       "    </tr>\n",
       "    <tr>\n",
       "      <th>state_region_Northeast</th>\n",
       "      <td>0.003305</td>\n",
       "    </tr>\n",
       "    <tr>\n",
       "      <th>state_region_South</th>\n",
       "      <td>0.002281</td>\n",
       "    </tr>\n",
       "    <tr>\n",
       "      <th>state_region_Midwest</th>\n",
       "      <td>0.002021</td>\n",
       "    </tr>\n",
       "  </tbody>\n",
       "</table>\n",
       "</div>"
      ],
      "text/plain": [
       "                        importance\n",
       "log_breed_pop             0.736047\n",
       "age                       0.082994\n",
       "size                      0.040648\n",
       "state_area                0.033719\n",
       "state_population          0.028132\n",
       "log_dog_pop               0.027379\n",
       "breeds.mixed              0.022588\n",
       "gender_Male               0.007357\n",
       "gender_Female             0.007340\n",
       "state_region_West         0.006188\n",
       "state_region_Northeast    0.003305\n",
       "state_region_South        0.002281\n",
       "state_region_Midwest      0.002021"
      ]
     },
     "execution_count": 57,
     "metadata": {},
     "output_type": "execute_result"
    }
   ],
   "source": [
    "feature_importances"
   ]
  },
  {
   "cell_type": "code",
   "execution_count": 59,
   "metadata": {},
   "outputs": [
    {
     "data": {
      "text/plain": [
       "<matplotlib.axes._subplots.AxesSubplot at 0x2ac8b77c4c8>"
      ]
     },
     "execution_count": 59,
     "metadata": {},
     "output_type": "execute_result"
    },
    {
     "data": {
      "image/png": "[encoded data removed]",
      "text/plain": [
       "<Figure size 432x288 with 1 Axes>"
      ]
     },
     "metadata": {
      "needs_background": "light"
     },
     "output_type": "display_data"
    }
   ],
   "source": [
    "import seaborn as sns\n",
    "fig = plt.subplots()\n",
    "sns.barplot(y=feature_importances.index, x=feature_importances.importance)"
   ]
  },
  {
   "cell_type": "code",
   "execution_count": 40,
   "metadata": {},
   "outputs": [],
   "source": [
    "feature_importances.to_csv(\"rf_feat_imp.csv\", header=True, index=True)"
   ]
  },
  {
   "cell_type": "code",
   "execution_count": 46,
   "metadata": {},
   "outputs": [
    {
     "data": {
      "text/plain": [
       "age                                 Young\n",
       "gender                             Female\n",
       "size                                Large\n",
       "breed_pop                            High\n",
       "breeds.primary           Pit Bull Terrier\n",
       "breeds.mixed                        False\n",
       "contact.address.state                  NC\n",
       "Name: 0, dtype: object"
      ]
     },
     "execution_count": 46,
     "metadata": {},
     "output_type": "execute_result"
    }
   ],
   "source": [
    "test_X.iloc[0]"
   ]
  },
  {
   "cell_type": "markdown",
   "metadata": {},
   "source": [
    "# Test model on subsets of breed for any difference between breeds"
   ]
  },
  {
   "cell_type": "code",
   "execution_count": 32,
   "metadata": {},
   "outputs": [],
   "source": [
    "trainval2 = trainval[trainval['breeds.primary']=='Chihuahua']\n",
    "test2 = test[test['breeds.primary']=='Chihuahua']"
   ]
  },
  {
   "cell_type": "code",
   "execution_count": 33,
   "metadata": {},
   "outputs": [],
   "source": [
    "#features\n",
    "X_features = ['age', 'gender', 'size',\n",
    "              'breeds.mixed', 'log_dog_pop', 'state_population',\n",
    "             'state_area', 'state_region']\n",
    "trainval2_X = trainval2[X_features]\n",
    "test2_X = test2[X_features]"
   ]
  },
  {
   "cell_type": "code",
   "execution_count": 34,
   "metadata": {},
   "outputs": [],
   "source": [
    "trainval2_y = trainval2['cg_adpt_time']\n",
    "test2_y = test2['cg_adpt_time']"
   ]
  },
  {
   "cell_type": "code",
   "execution_count": 35,
   "metadata": {},
   "outputs": [],
   "source": [
    "oh = OneHotEncoder(handle_unknown='ignore', sparse=False)\n",
    "cat_col = ['gender','state_region']\n",
    "OH_cols_trainval2 = pd.DataFrame(oh.fit_transform(trainval2_X[cat_col]))\n",
    "OH_cols_trainval2.columns = oh.get_feature_names(cat_col)\n",
    "OH_cols_test2 = pd.DataFrame(oh.transform(test2_X[cat_col]))\n",
    "OH_cols_test2.columns = oh.get_feature_names(cat_col)\n",
    "# One-hot encoding removed index; put it back\n",
    "OH_cols_trainval2.index = trainval2_X.index\n",
    "OH_cols_test2.index = test2_X.index\n",
    "rest_trainval2 = trainval2_X.drop(cat_col, axis=1)\n",
    "rest_test2 = test2_X.drop(cat_col, axis=1)\n",
    "OH_trainval2_X = pd.concat([rest_trainval2, OH_cols_trainval2], axis=1)\n",
    "OH_test2_X = pd.concat([rest_test2, OH_cols_test2], axis=1)"
   ]
  },
  {
   "cell_type": "code",
   "execution_count": 36,
   "metadata": {},
   "outputs": [
    {
     "data": {
      "text/plain": [
       "35886"
      ]
     },
     "execution_count": 36,
     "metadata": {},
     "output_type": "execute_result"
    }
   ],
   "source": [
    "len(trainval2_X)"
   ]
  },
  {
   "cell_type": "code",
   "execution_count": 37,
   "metadata": {},
   "outputs": [
    {
     "name": "stdout",
     "output_type": "stream",
     "text": [
      "Fit time: 2.63 / Predict time: 0.242 ---- Accuracy: 0.302\n"
     ]
    }
   ],
   "source": [
    "rf2 = RandomForestClassifier(n_estimators=150, max_depth=30, n_jobs=-1)\n",
    "\n",
    "start = time.time()\n",
    "rf_model2 = rf2.fit(OH_trainval2_X, trainval2_y)\n",
    "end = time.time()\n",
    "fit_time = (end - start)\n",
    "\n",
    "start = time.time()\n",
    "y_pred = rf_model2.predict(OH_test2_X)\n",
    "end = time.time()\n",
    "pred_time = (end - start)\n",
    "\n",
    "print('Fit time: {} / Predict time: {} ---- Accuracy: {}'.format(\n",
    "    round(fit_time, 3), round(pred_time, 3), round((y_pred==test2_y).sum()/len(y_pred), 3)))"
   ]
  },
  {
   "cell_type": "code",
   "execution_count": 38,
   "metadata": {},
   "outputs": [
    {
     "data": {
      "text/html": [
       "<div>\n",
       "<style scoped>\n",
       "    .dataframe tbody tr th:only-of-type {\n",
       "        vertical-align: middle;\n",
       "    }\n",
       "\n",
       "    .dataframe tbody tr th {\n",
       "        vertical-align: top;\n",
       "    }\n",
       "\n",
       "    .dataframe thead th {\n",
       "        text-align: right;\n",
       "    }\n",
       "</style>\n",
       "<table border=\"1\" class=\"dataframe\">\n",
       "  <thead>\n",
       "    <tr style=\"text-align: right;\">\n",
       "      <th></th>\n",
       "      <th>importance</th>\n",
       "    </tr>\n",
       "  </thead>\n",
       "  <tbody>\n",
       "    <tr>\n",
       "      <th>age</th>\n",
       "      <td>0.264904</td>\n",
       "    </tr>\n",
       "    <tr>\n",
       "      <th>state_area</th>\n",
       "      <td>0.174707</td>\n",
       "    </tr>\n",
       "    <tr>\n",
       "      <th>state_population</th>\n",
       "      <td>0.153633</td>\n",
       "    </tr>\n",
       "    <tr>\n",
       "      <th>log_dog_pop</th>\n",
       "      <td>0.129368</td>\n",
       "    </tr>\n",
       "    <tr>\n",
       "      <th>size</th>\n",
       "      <td>0.081547</td>\n",
       "    </tr>\n",
       "    <tr>\n",
       "      <th>breeds.mixed</th>\n",
       "      <td>0.075901</td>\n",
       "    </tr>\n",
       "    <tr>\n",
       "      <th>gender_Female</th>\n",
       "      <td>0.036248</td>\n",
       "    </tr>\n",
       "    <tr>\n",
       "      <th>gender_Male</th>\n",
       "      <td>0.035807</td>\n",
       "    </tr>\n",
       "    <tr>\n",
       "      <th>state_region_Northeast</th>\n",
       "      <td>0.014638</td>\n",
       "    </tr>\n",
       "    <tr>\n",
       "      <th>state_region_West</th>\n",
       "      <td>0.012567</td>\n",
       "    </tr>\n",
       "    <tr>\n",
       "      <th>state_region_South</th>\n",
       "      <td>0.011098</td>\n",
       "    </tr>\n",
       "    <tr>\n",
       "      <th>state_region_Midwest</th>\n",
       "      <td>0.009581</td>\n",
       "    </tr>\n",
       "  </tbody>\n",
       "</table>\n",
       "</div>"
      ],
      "text/plain": [
       "                        importance\n",
       "age                       0.264904\n",
       "state_area                0.174707\n",
       "state_population          0.153633\n",
       "log_dog_pop               0.129368\n",
       "size                      0.081547\n",
       "breeds.mixed              0.075901\n",
       "gender_Female             0.036248\n",
       "gender_Male               0.035807\n",
       "state_region_Northeast    0.014638\n",
       "state_region_West         0.012567\n",
       "state_region_South        0.011098\n",
       "state_region_Midwest      0.009581"
      ]
     },
     "execution_count": 38,
     "metadata": {},
     "output_type": "execute_result"
    }
   ],
   "source": [
    "feature_importances2 = pd.DataFrame(rf_model2.feature_importances_,index = OH_trainval2_X.columns,columns=['importance']).sort_values('importance',ascending=False)\n",
    "feature_importances2.head(20)"
   ]
  },
  {
   "cell_type": "code",
   "execution_count": 13,
   "metadata": {},
   "outputs": [],
   "source": [
    "from sklearn.pipeline import Pipeline\n",
    "from sklearn.ensemble import RandomForestClassifier\n",
    "import time\n",
    "oh = OneHotEncoder(handle_unknown='ignore', sparse=False)\n",
    "rf = RandomForestClassifier(n_estimators=150, max_depth=30, n_jobs=-1)\n",
    "pipeline_final = Pipeline(steps=[('preprocessor', oh),('model', rf)])"
   ]
  },
  {
   "cell_type": "code",
   "execution_count": 14,
   "metadata": {},
   "outputs": [
    {
     "data": {
      "text/plain": [
       "Pipeline(memory=None,\n",
       "         steps=[('preprocessor',\n",
       "                 OneHotEncoder(categories='auto', drop=None,\n",
       "                               dtype=<class 'numpy.float64'>,\n",
       "                               handle_unknown='ignore', sparse=False)),\n",
       "                ('model',\n",
       "                 RandomForestClassifier(bootstrap=True, ccp_alpha=0.0,\n",
       "                                        class_weight=None, criterion='gini',\n",
       "                                        max_depth=30, max_features='auto',\n",
       "                                        max_leaf_nodes=None, max_samples=None,\n",
       "                                        min_impurity_decrease=0.0,\n",
       "                                        min_impurity_split=None,\n",
       "                                        min_samples_leaf=1, min_samples_split=2,\n",
       "                                        min_weight_fraction_leaf=0.0,\n",
       "                                        n_estimators=150, n_jobs=-1,\n",
       "                                        oob_score=False, random_state=None,\n",
       "                                        verbose=0, warm_start=False))],\n",
       "         verbose=False)"
      ]
     },
     "execution_count": 14,
     "metadata": {},
     "output_type": "execute_result"
    }
   ],
   "source": [
    "pipeline_final.fit(trainval_X, trainval_y)"
   ]
  },
  {
   "cell_type": "code",
   "execution_count": 18,
   "metadata": {},
   "outputs": [],
   "source": [
    "start = time.time()\n",
    "y_pred = pipeline_final.predict(test_X)\n",
    "end = time.time()\n",
    "pred_time = (end - start)"
   ]
  },
  {
   "cell_type": "code",
   "execution_count": 20,
   "metadata": {},
   "outputs": [
    {
     "data": {
      "text/plain": [
       "0.326"
      ]
     },
     "execution_count": 20,
     "metadata": {},
     "output_type": "execute_result"
    }
   ],
   "source": [
    "round((y_pred==test_y).sum()/len(y_pred), 3)"
   ]
  },
  {
   "cell_type": "code",
   "execution_count": null,
   "metadata": {},
   "outputs": [],
   "source": []
  },
  {
   "cell_type": "code",
   "execution_count": 21,
   "metadata": {},
   "outputs": [],
   "source": [
    "import pickle\n",
    "filename = './models/rfpipe_final.pkl'\n",
    "pickle.dump(pipeline_final, open(filename, 'wb'))"
   ]
  }
 ],
 "metadata": {
  "kernelspec": {
   "display_name": "Python 3",
   "language": "python",
   "name": "python3"
  },
  "language_info": {
   "codemirror_mode": {
    "name": "ipython",
    "version": 3
   },
   "file_extension": ".py",
   "mimetype": "text/x-python",
   "name": "python",
   "nbconvert_exporter": "python",
   "pygments_lexer": "ipython3",
   "version": "3.7.6"
  }
 },
 "nbformat": 4,
 "nbformat_minor": 2
}
