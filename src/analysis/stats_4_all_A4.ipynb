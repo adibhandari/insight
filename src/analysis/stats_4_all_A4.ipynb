{
 "cells": [
  {
   "cell_type": "markdown",
   "metadata": {},
   "source": [
    "# This notebook is for stage 2 cleaning and EDA"
   ]
  },
  {
   "cell_type": "code",
   "execution_count": 23,
   "metadata": {},
   "outputs": [],
   "source": [
    "#import modules\n",
    "import numpy as np\n",
    "import pandas as pd\n",
    "import json\n",
    "from pandas.io.json import json_normalize\n",
    "import matplotlib.pyplot as plt\n",
    "import pprint\n",
    "import seaborn as sns\n",
    "from pprint import pprint"
   ]
  },
  {
   "cell_type": "markdown",
   "metadata": {},
   "source": [
    "## Loading and initial inspection"
   ]
  },
  {
   "cell_type": "code",
   "execution_count": 24,
   "metadata": {},
   "outputs": [],
   "source": [
    "#change this file to access different subsets of the data stored in csv files\n",
    "alldogs_merged = pd.read_csv('./data_all/alldogs_merged_all.csv')"
   ]
  },
  {
   "cell_type": "code",
   "execution_count": 3,
   "metadata": {},
   "outputs": [
    {
     "data": {
      "text/plain": [
       "1472050"
      ]
     },
     "execution_count": 3,
     "metadata": {},
     "output_type": "execute_result"
    }
   ],
   "source": [
    "len(alldogs_merged)"
   ]
  },
  {
   "cell_type": "code",
   "execution_count": 4,
   "metadata": {},
   "outputs": [
    {
     "data": {
      "text/html": [
       "<div>\n",
       "<style scoped>\n",
       "    .dataframe tbody tr th:only-of-type {\n",
       "        vertical-align: middle;\n",
       "    }\n",
       "\n",
       "    .dataframe tbody tr th {\n",
       "        vertical-align: top;\n",
       "    }\n",
       "\n",
       "    .dataframe thead th {\n",
       "        text-align: right;\n",
       "    }\n",
       "</style>\n",
       "<table border=\"1\" class=\"dataframe\">\n",
       "  <thead>\n",
       "    <tr style=\"text-align: right;\">\n",
       "      <th></th>\n",
       "      <th>adoption_time</th>\n",
       "      <th>age</th>\n",
       "      <th>attributes.declawed</th>\n",
       "      <th>attributes.house_trained</th>\n",
       "      <th>attributes.shots_current</th>\n",
       "      <th>attributes.spayed_neutered</th>\n",
       "      <th>attributes.special_needs</th>\n",
       "      <th>breeds.mixed</th>\n",
       "      <th>breeds.primary</th>\n",
       "      <th>breeds.secondary</th>\n",
       "      <th>...</th>\n",
       "      <th>month</th>\n",
       "      <th>name</th>\n",
       "      <th>organization_id</th>\n",
       "      <th>published_at</th>\n",
       "      <th>size</th>\n",
       "      <th>status</th>\n",
       "      <th>status_changed_at</th>\n",
       "      <th>tags</th>\n",
       "      <th>url</th>\n",
       "      <th>year</th>\n",
       "    </tr>\n",
       "  </thead>\n",
       "  <tbody>\n",
       "    <tr>\n",
       "      <th>0</th>\n",
       "      <td>20</td>\n",
       "      <td>Adult</td>\n",
       "      <td>NaN</td>\n",
       "      <td>True</td>\n",
       "      <td>True</td>\n",
       "      <td>True</td>\n",
       "      <td>False</td>\n",
       "      <td>False</td>\n",
       "      <td>Japanese Chin</td>\n",
       "      <td>NaN</td>\n",
       "      <td>...</td>\n",
       "      <td>10</td>\n",
       "      <td>Madonna</td>\n",
       "      <td>CA712</td>\n",
       "      <td>2012-09-13T12:51:33+0000</td>\n",
       "      <td>Small</td>\n",
       "      <td>adopted</td>\n",
       "      <td>2012-10-04T11:36:05+0000</td>\n",
       "      <td>[]</td>\n",
       "      <td>https://www.petfinder.com/dog/madonna-24113097...</td>\n",
       "      <td>2012</td>\n",
       "    </tr>\n",
       "    <tr>\n",
       "      <th>1</th>\n",
       "      <td>96</td>\n",
       "      <td>Adult</td>\n",
       "      <td>NaN</td>\n",
       "      <td>True</td>\n",
       "      <td>True</td>\n",
       "      <td>True</td>\n",
       "      <td>False</td>\n",
       "      <td>False</td>\n",
       "      <td>Japanese Chin</td>\n",
       "      <td>NaN</td>\n",
       "      <td>...</td>\n",
       "      <td>11</td>\n",
       "      <td>Bess (located in Birmingam, AL)</td>\n",
       "      <td>CA712</td>\n",
       "      <td>2016-08-08T19:15:43+0000</td>\n",
       "      <td>Small</td>\n",
       "      <td>adopted</td>\n",
       "      <td>2016-11-13T08:14:08+0000</td>\n",
       "      <td>[]</td>\n",
       "      <td>https://www.petfinder.com/dog/bess-located-in-...</td>\n",
       "      <td>2016</td>\n",
       "    </tr>\n",
       "    <tr>\n",
       "      <th>2</th>\n",
       "      <td>98</td>\n",
       "      <td>Young</td>\n",
       "      <td>NaN</td>\n",
       "      <td>True</td>\n",
       "      <td>True</td>\n",
       "      <td>True</td>\n",
       "      <td>False</td>\n",
       "      <td>True</td>\n",
       "      <td>Scottish Terrier</td>\n",
       "      <td>NaN</td>\n",
       "      <td>...</td>\n",
       "      <td>1</td>\n",
       "      <td>Madonna</td>\n",
       "      <td>TX1860</td>\n",
       "      <td>2014-10-14T09:20:08+0000</td>\n",
       "      <td>Small</td>\n",
       "      <td>adopted</td>\n",
       "      <td>2015-01-20T17:31:49+0000</td>\n",
       "      <td>[]</td>\n",
       "      <td>https://www.petfinder.com/dog/madonna-30542160...</td>\n",
       "      <td>2015</td>\n",
       "    </tr>\n",
       "    <tr>\n",
       "      <th>3</th>\n",
       "      <td>32</td>\n",
       "      <td>Adult</td>\n",
       "      <td>NaN</td>\n",
       "      <td>True</td>\n",
       "      <td>True</td>\n",
       "      <td>True</td>\n",
       "      <td>False</td>\n",
       "      <td>False</td>\n",
       "      <td>Bullmastiff</td>\n",
       "      <td>NaN</td>\n",
       "      <td>...</td>\n",
       "      <td>3</td>\n",
       "      <td>AL - Sweetie/Birmingham</td>\n",
       "      <td>FL653</td>\n",
       "      <td>2018-02-21T00:02:35+0000</td>\n",
       "      <td>Extra Large</td>\n",
       "      <td>adopted</td>\n",
       "      <td>2018-03-25T13:18:45+0000</td>\n",
       "      <td>[]</td>\n",
       "      <td>https://www.petfinder.com/dog/al-sweetie-birmi...</td>\n",
       "      <td>2018</td>\n",
       "    </tr>\n",
       "    <tr>\n",
       "      <th>4</th>\n",
       "      <td>16</td>\n",
       "      <td>Young</td>\n",
       "      <td>NaN</td>\n",
       "      <td>True</td>\n",
       "      <td>True</td>\n",
       "      <td>True</td>\n",
       "      <td>False</td>\n",
       "      <td>False</td>\n",
       "      <td>Bullmastiff</td>\n",
       "      <td>NaN</td>\n",
       "      <td>...</td>\n",
       "      <td>11</td>\n",
       "      <td>AL - Rosie/Prattville</td>\n",
       "      <td>FL653</td>\n",
       "      <td>2015-10-26T11:05:40+0000</td>\n",
       "      <td>Large</td>\n",
       "      <td>adopted</td>\n",
       "      <td>2015-11-11T18:28:03+0000</td>\n",
       "      <td>[]</td>\n",
       "      <td>https://www.petfinder.com/dog/al-rosie-prattvi...</td>\n",
       "      <td>2015</td>\n",
       "    </tr>\n",
       "  </tbody>\n",
       "</table>\n",
       "<p>5 rows × 34 columns</p>\n",
       "</div>"
      ],
      "text/plain": [
       "   adoption_time    age  attributes.declawed  attributes.house_trained  \\\n",
       "0             20  Adult                  NaN                      True   \n",
       "1             96  Adult                  NaN                      True   \n",
       "2             98  Young                  NaN                      True   \n",
       "3             32  Adult                  NaN                      True   \n",
       "4             16  Young                  NaN                      True   \n",
       "\n",
       "   attributes.shots_current  attributes.spayed_neutered  \\\n",
       "0                      True                        True   \n",
       "1                      True                        True   \n",
       "2                      True                        True   \n",
       "3                      True                        True   \n",
       "4                      True                        True   \n",
       "\n",
       "   attributes.special_needs  breeds.mixed    breeds.primary breeds.secondary  \\\n",
       "0                     False         False     Japanese Chin              NaN   \n",
       "1                     False         False     Japanese Chin              NaN   \n",
       "2                     False          True  Scottish Terrier              NaN   \n",
       "3                     False         False       Bullmastiff              NaN   \n",
       "4                     False         False       Bullmastiff              NaN   \n",
       "\n",
       "   ...  month                             name organization_id  \\\n",
       "0  ...     10                          Madonna           CA712   \n",
       "1  ...     11  Bess (located in Birmingam, AL)           CA712   \n",
       "2  ...      1                          Madonna          TX1860   \n",
       "3  ...      3          AL - Sweetie/Birmingham           FL653   \n",
       "4  ...     11            AL - Rosie/Prattville           FL653   \n",
       "\n",
       "               published_at         size   status         status_changed_at  \\\n",
       "0  2012-09-13T12:51:33+0000        Small  adopted  2012-10-04T11:36:05+0000   \n",
       "1  2016-08-08T19:15:43+0000        Small  adopted  2016-11-13T08:14:08+0000   \n",
       "2  2014-10-14T09:20:08+0000        Small  adopted  2015-01-20T17:31:49+0000   \n",
       "3  2018-02-21T00:02:35+0000  Extra Large  adopted  2018-03-25T13:18:45+0000   \n",
       "4  2015-10-26T11:05:40+0000        Large  adopted  2015-11-11T18:28:03+0000   \n",
       "\n",
       "  tags                                                url  year  \n",
       "0   []  https://www.petfinder.com/dog/madonna-24113097...  2012  \n",
       "1   []  https://www.petfinder.com/dog/bess-located-in-...  2016  \n",
       "2   []  https://www.petfinder.com/dog/madonna-30542160...  2015  \n",
       "3   []  https://www.petfinder.com/dog/al-sweetie-birmi...  2018  \n",
       "4   []  https://www.petfinder.com/dog/al-rosie-prattvi...  2015  \n",
       "\n",
       "[5 rows x 34 columns]"
      ]
     },
     "execution_count": 4,
     "metadata": {},
     "output_type": "execute_result"
    }
   ],
   "source": [
    "alldogs_merged.head()"
   ]
  },
  {
   "cell_type": "code",
   "execution_count": 5,
   "metadata": {},
   "outputs": [
    {
     "name": "stdout",
     "output_type": "stream",
     "text": [
      "{'CA': 184.01237496363595,\n",
      " 'MN': 102.96562054208273,\n",
      " 'NY': 227.69666935576814,\n",
      " 'TX': 140.0659042704393}\n"
     ]
    }
   ],
   "source": [
    "state_info = pd.read_csv('stats_all.csv')\n",
    "mean_adpt_time = {}\n",
    "#create a dict with each state and average adoption time\n",
    "for state_pos in range(1,49):\n",
    "    current_state = state_info['state'][state_pos]\n",
    "    key = current_state\n",
    "    val = alldogs_merged[alldogs_merged['contact.address.state'] == current_state]['adoption_time'].mean()\n",
    "    mean_adpt_time[key] = val\n",
    "pprint(mean_adpt_time)"
   ]
  },
  {
   "cell_type": "code",
   "execution_count": 5,
   "metadata": {},
   "outputs": [
    {
     "data": {
      "text/plain": [
       "contact.address.state\n",
       "MT     36.828786\n",
       "WY     46.584674\n",
       "ID     49.849677\n",
       "SC     67.454908\n",
       "NH     70.808894\n",
       "MS     83.079180\n",
       "PA     84.188627\n",
       "CO     85.838635\n",
       "OH     87.721029\n",
       "VT     88.836907\n",
       "IL     93.102591\n",
       "ND     93.470378\n",
       "WA     93.814776\n",
       "MN    102.965621\n",
       "RI    107.201073\n",
       "MA    108.364548\n",
       "WI    109.686375\n",
       "MD    110.435780\n",
       "VA    118.225938\n",
       "LA    120.193585\n",
       "ME    122.736462\n",
       "AK    124.820449\n",
       "AR    125.363077\n",
       "UT    125.400673\n",
       "TN    131.549588\n",
       "AZ    138.621148\n",
       "TX    140.065904\n",
       "GA    141.359581\n",
       "NE    144.288541\n",
       "KS    153.267549\n",
       "NM    162.038734\n",
       "KY    166.339105\n",
       "IA    166.441197\n",
       "CT    167.932088\n",
       "AL    169.512191\n",
       "NJ    173.957788\n",
       "MO    174.401168\n",
       "IN    174.763227\n",
       "CA    184.012375\n",
       "OR    189.981649\n",
       "WV    204.210876\n",
       "FL    211.237100\n",
       "MI    222.346728\n",
       "NY    227.696669\n",
       "OK    238.790731\n",
       "NV    265.662577\n",
       "DE    276.759936\n",
       "NC    288.047769\n",
       "SD    379.557841\n",
       "Name: adoption_time, dtype: float64"
      ]
     },
     "execution_count": 5,
     "metadata": {},
     "output_type": "execute_result"
    }
   ],
   "source": [
    "alldogs_merged.groupby('contact.address.state')['adoption_time'].mean().sort_values()"
   ]
  },
  {
   "cell_type": "code",
   "execution_count": 25,
   "metadata": {},
   "outputs": [
    {
     "data": {
      "text/html": [
       "<div>\n",
       "<style scoped>\n",
       "    .dataframe tbody tr th:only-of-type {\n",
       "        vertical-align: middle;\n",
       "    }\n",
       "\n",
       "    .dataframe tbody tr th {\n",
       "        vertical-align: top;\n",
       "    }\n",
       "\n",
       "    .dataframe thead th {\n",
       "        text-align: right;\n",
       "    }\n",
       "</style>\n",
       "<table border=\"1\" class=\"dataframe\">\n",
       "  <thead>\n",
       "    <tr style=\"text-align: right;\">\n",
       "      <th></th>\n",
       "      <th>adoption_time</th>\n",
       "      <th>age</th>\n",
       "      <th>attributes.declawed</th>\n",
       "      <th>attributes.house_trained</th>\n",
       "      <th>attributes.shots_current</th>\n",
       "      <th>attributes.spayed_neutered</th>\n",
       "      <th>attributes.special_needs</th>\n",
       "      <th>breeds.mixed</th>\n",
       "      <th>breeds.primary</th>\n",
       "      <th>breeds.secondary</th>\n",
       "      <th>...</th>\n",
       "      <th>month</th>\n",
       "      <th>name</th>\n",
       "      <th>organization_id</th>\n",
       "      <th>published_at</th>\n",
       "      <th>size</th>\n",
       "      <th>status</th>\n",
       "      <th>status_changed_at</th>\n",
       "      <th>tags</th>\n",
       "      <th>url</th>\n",
       "      <th>year</th>\n",
       "    </tr>\n",
       "  </thead>\n",
       "  <tbody>\n",
       "    <tr>\n",
       "      <th>0</th>\n",
       "      <td>20</td>\n",
       "      <td>Adult</td>\n",
       "      <td>NaN</td>\n",
       "      <td>True</td>\n",
       "      <td>True</td>\n",
       "      <td>True</td>\n",
       "      <td>False</td>\n",
       "      <td>False</td>\n",
       "      <td>Japanese Chin</td>\n",
       "      <td>NaN</td>\n",
       "      <td>...</td>\n",
       "      <td>10</td>\n",
       "      <td>Madonna</td>\n",
       "      <td>CA712</td>\n",
       "      <td>2012-09-13T12:51:33+0000</td>\n",
       "      <td>Small</td>\n",
       "      <td>adopted</td>\n",
       "      <td>2012-10-04T11:36:05+0000</td>\n",
       "      <td>[]</td>\n",
       "      <td>https://www.petfinder.com/dog/madonna-24113097...</td>\n",
       "      <td>2012</td>\n",
       "    </tr>\n",
       "    <tr>\n",
       "      <th>1</th>\n",
       "      <td>96</td>\n",
       "      <td>Adult</td>\n",
       "      <td>NaN</td>\n",
       "      <td>True</td>\n",
       "      <td>True</td>\n",
       "      <td>True</td>\n",
       "      <td>False</td>\n",
       "      <td>False</td>\n",
       "      <td>Japanese Chin</td>\n",
       "      <td>NaN</td>\n",
       "      <td>...</td>\n",
       "      <td>11</td>\n",
       "      <td>Bess (located in Birmingam, AL)</td>\n",
       "      <td>CA712</td>\n",
       "      <td>2016-08-08T19:15:43+0000</td>\n",
       "      <td>Small</td>\n",
       "      <td>adopted</td>\n",
       "      <td>2016-11-13T08:14:08+0000</td>\n",
       "      <td>[]</td>\n",
       "      <td>https://www.petfinder.com/dog/bess-located-in-...</td>\n",
       "      <td>2016</td>\n",
       "    </tr>\n",
       "    <tr>\n",
       "      <th>2</th>\n",
       "      <td>98</td>\n",
       "      <td>Young</td>\n",
       "      <td>NaN</td>\n",
       "      <td>True</td>\n",
       "      <td>True</td>\n",
       "      <td>True</td>\n",
       "      <td>False</td>\n",
       "      <td>True</td>\n",
       "      <td>Scottish Terrier</td>\n",
       "      <td>NaN</td>\n",
       "      <td>...</td>\n",
       "      <td>1</td>\n",
       "      <td>Madonna</td>\n",
       "      <td>TX1860</td>\n",
       "      <td>2014-10-14T09:20:08+0000</td>\n",
       "      <td>Small</td>\n",
       "      <td>adopted</td>\n",
       "      <td>2015-01-20T17:31:49+0000</td>\n",
       "      <td>[]</td>\n",
       "      <td>https://www.petfinder.com/dog/madonna-30542160...</td>\n",
       "      <td>2015</td>\n",
       "    </tr>\n",
       "    <tr>\n",
       "      <th>3</th>\n",
       "      <td>32</td>\n",
       "      <td>Adult</td>\n",
       "      <td>NaN</td>\n",
       "      <td>True</td>\n",
       "      <td>True</td>\n",
       "      <td>True</td>\n",
       "      <td>False</td>\n",
       "      <td>False</td>\n",
       "      <td>Bullmastiff</td>\n",
       "      <td>NaN</td>\n",
       "      <td>...</td>\n",
       "      <td>3</td>\n",
       "      <td>AL - Sweetie/Birmingham</td>\n",
       "      <td>FL653</td>\n",
       "      <td>2018-02-21T00:02:35+0000</td>\n",
       "      <td>Extra Large</td>\n",
       "      <td>adopted</td>\n",
       "      <td>2018-03-25T13:18:45+0000</td>\n",
       "      <td>[]</td>\n",
       "      <td>https://www.petfinder.com/dog/al-sweetie-birmi...</td>\n",
       "      <td>2018</td>\n",
       "    </tr>\n",
       "    <tr>\n",
       "      <th>4</th>\n",
       "      <td>16</td>\n",
       "      <td>Young</td>\n",
       "      <td>NaN</td>\n",
       "      <td>True</td>\n",
       "      <td>True</td>\n",
       "      <td>True</td>\n",
       "      <td>False</td>\n",
       "      <td>False</td>\n",
       "      <td>Bullmastiff</td>\n",
       "      <td>NaN</td>\n",
       "      <td>...</td>\n",
       "      <td>11</td>\n",
       "      <td>AL - Rosie/Prattville</td>\n",
       "      <td>FL653</td>\n",
       "      <td>2015-10-26T11:05:40+0000</td>\n",
       "      <td>Large</td>\n",
       "      <td>adopted</td>\n",
       "      <td>2015-11-11T18:28:03+0000</td>\n",
       "      <td>[]</td>\n",
       "      <td>https://www.petfinder.com/dog/al-rosie-prattvi...</td>\n",
       "      <td>2015</td>\n",
       "    </tr>\n",
       "  </tbody>\n",
       "</table>\n",
       "<p>5 rows × 34 columns</p>\n",
       "</div>"
      ],
      "text/plain": [
       "   adoption_time    age  attributes.declawed  attributes.house_trained  \\\n",
       "0             20  Adult                  NaN                      True   \n",
       "1             96  Adult                  NaN                      True   \n",
       "2             98  Young                  NaN                      True   \n",
       "3             32  Adult                  NaN                      True   \n",
       "4             16  Young                  NaN                      True   \n",
       "\n",
       "   attributes.shots_current  attributes.spayed_neutered  \\\n",
       "0                      True                        True   \n",
       "1                      True                        True   \n",
       "2                      True                        True   \n",
       "3                      True                        True   \n",
       "4                      True                        True   \n",
       "\n",
       "   attributes.special_needs  breeds.mixed    breeds.primary breeds.secondary  \\\n",
       "0                     False         False     Japanese Chin              NaN   \n",
       "1                     False         False     Japanese Chin              NaN   \n",
       "2                     False          True  Scottish Terrier              NaN   \n",
       "3                     False         False       Bullmastiff              NaN   \n",
       "4                     False         False       Bullmastiff              NaN   \n",
       "\n",
       "   ...  month                             name organization_id  \\\n",
       "0  ...     10                          Madonna           CA712   \n",
       "1  ...     11  Bess (located in Birmingam, AL)           CA712   \n",
       "2  ...      1                          Madonna          TX1860   \n",
       "3  ...      3          AL - Sweetie/Birmingham           FL653   \n",
       "4  ...     11            AL - Rosie/Prattville           FL653   \n",
       "\n",
       "               published_at         size   status         status_changed_at  \\\n",
       "0  2012-09-13T12:51:33+0000        Small  adopted  2012-10-04T11:36:05+0000   \n",
       "1  2016-08-08T19:15:43+0000        Small  adopted  2016-11-13T08:14:08+0000   \n",
       "2  2014-10-14T09:20:08+0000        Small  adopted  2015-01-20T17:31:49+0000   \n",
       "3  2018-02-21T00:02:35+0000  Extra Large  adopted  2018-03-25T13:18:45+0000   \n",
       "4  2015-10-26T11:05:40+0000        Large  adopted  2015-11-11T18:28:03+0000   \n",
       "\n",
       "  tags                                                url  year  \n",
       "0   []  https://www.petfinder.com/dog/madonna-24113097...  2012  \n",
       "1   []  https://www.petfinder.com/dog/bess-located-in-...  2016  \n",
       "2   []  https://www.petfinder.com/dog/madonna-30542160...  2015  \n",
       "3   []  https://www.petfinder.com/dog/al-sweetie-birmi...  2018  \n",
       "4   []  https://www.petfinder.com/dog/al-rosie-prattvi...  2015  \n",
       "\n",
       "[5 rows x 34 columns]"
      ]
     },
     "execution_count": 25,
     "metadata": {},
     "output_type": "execute_result"
    }
   ],
   "source": [
    "alldogs_merged.head()"
   ]
  },
  {
   "cell_type": "code",
   "execution_count": 5,
   "metadata": {},
   "outputs": [
    {
     "data": {
      "text/plain": [
       "2010    163612\n",
       "2019    149381\n",
       "2015    143465\n",
       "2014    142116\n",
       "2016    141410\n",
       "2017    138204\n",
       "2018    137070\n",
       "2013    134959\n",
       "2012    126292\n",
       "2011    107894\n",
       "2009     61292\n",
       "2008     12617\n",
       "2020      6470\n",
       "2007      4466\n",
       "2006      1299\n",
       "2005       896\n",
       "2004       564\n",
       "2003        43\n",
       "Name: year, dtype: int64"
      ]
     },
     "execution_count": 5,
     "metadata": {},
     "output_type": "execute_result"
    }
   ],
   "source": [
    "alldogs_merged['year'].value_counts()"
   ]
  },
  {
   "cell_type": "code",
   "execution_count": 11,
   "metadata": {},
   "outputs": [
    {
     "data": {
      "text/plain": [
       "year\n",
       "2016     73.414059\n",
       "2017     76.365089\n",
       "2012     76.758136\n",
       "2019     77.032733\n",
       "2015     79.491374\n",
       "2018     79.584242\n",
       "2013     80.056278\n",
       "2014     86.780699\n",
       "2020     89.714441\n",
       "2011     92.026516\n",
       "2008    274.882463\n",
       "2006    401.583333\n",
       "2009    543.729739\n",
       "2007    615.247781\n",
       "2010    653.359691\n",
       "Name: adoption_time, dtype: float64"
      ]
     },
     "execution_count": 11,
     "metadata": {},
     "output_type": "execute_result"
    }
   ],
   "source": [
    "alldogs_merged.groupby('year')['adoption_time'].mean().sort_values()"
   ]
  },
  {
   "cell_type": "code",
   "execution_count": 6,
   "metadata": {},
   "outputs": [],
   "source": [
    "time_year = alldogs_merged.groupby('year')['adoption_time'].mean()"
   ]
  },
  {
   "cell_type": "code",
   "execution_count": 11,
   "metadata": {},
   "outputs": [],
   "source": [
    "tydf = pd.DataFrame({'Year':time_year.index, 'Adoption Time':time_year.values})"
   ]
  },
  {
   "cell_type": "code",
   "execution_count": 14,
   "metadata": {},
   "outputs": [
    {
     "data": {
      "text/html": [
       "<div>\n",
       "<style scoped>\n",
       "    .dataframe tbody tr th:only-of-type {\n",
       "        vertical-align: middle;\n",
       "    }\n",
       "\n",
       "    .dataframe tbody tr th {\n",
       "        vertical-align: top;\n",
       "    }\n",
       "\n",
       "    .dataframe thead th {\n",
       "        text-align: right;\n",
       "    }\n",
       "</style>\n",
       "<table border=\"1\" class=\"dataframe\">\n",
       "  <thead>\n",
       "    <tr style=\"text-align: right;\">\n",
       "      <th></th>\n",
       "      <th>Year</th>\n",
       "      <th>Adoption Time</th>\n",
       "    </tr>\n",
       "  </thead>\n",
       "  <tbody>\n",
       "    <tr>\n",
       "      <th>0</th>\n",
       "      <td>2003</td>\n",
       "      <td>73.744186</td>\n",
       "    </tr>\n",
       "    <tr>\n",
       "      <th>1</th>\n",
       "      <td>2004</td>\n",
       "      <td>38.049645</td>\n",
       "    </tr>\n",
       "    <tr>\n",
       "      <th>2</th>\n",
       "      <td>2005</td>\n",
       "      <td>35.929688</td>\n",
       "    </tr>\n",
       "    <tr>\n",
       "      <th>3</th>\n",
       "      <td>2006</td>\n",
       "      <td>113.030023</td>\n",
       "    </tr>\n",
       "    <tr>\n",
       "      <th>4</th>\n",
       "      <td>2007</td>\n",
       "      <td>381.198164</td>\n",
       "    </tr>\n",
       "    <tr>\n",
       "      <th>5</th>\n",
       "      <td>2008</td>\n",
       "      <td>399.921851</td>\n",
       "    </tr>\n",
       "    <tr>\n",
       "      <th>6</th>\n",
       "      <td>2009</td>\n",
       "      <td>591.395598</td>\n",
       "    </tr>\n",
       "    <tr>\n",
       "      <th>7</th>\n",
       "      <td>2010</td>\n",
       "      <td>563.675054</td>\n",
       "    </tr>\n",
       "    <tr>\n",
       "      <th>8</th>\n",
       "      <td>2011</td>\n",
       "      <td>72.797125</td>\n",
       "    </tr>\n",
       "    <tr>\n",
       "      <th>9</th>\n",
       "      <td>2012</td>\n",
       "      <td>61.266937</td>\n",
       "    </tr>\n",
       "    <tr>\n",
       "      <th>10</th>\n",
       "      <td>2013</td>\n",
       "      <td>61.857423</td>\n",
       "    </tr>\n",
       "    <tr>\n",
       "      <th>11</th>\n",
       "      <td>2014</td>\n",
       "      <td>66.129760</td>\n",
       "    </tr>\n",
       "    <tr>\n",
       "      <th>12</th>\n",
       "      <td>2015</td>\n",
       "      <td>63.672380</td>\n",
       "    </tr>\n",
       "    <tr>\n",
       "      <th>13</th>\n",
       "      <td>2016</td>\n",
       "      <td>64.327898</td>\n",
       "    </tr>\n",
       "    <tr>\n",
       "      <th>14</th>\n",
       "      <td>2017</td>\n",
       "      <td>65.049058</td>\n",
       "    </tr>\n",
       "    <tr>\n",
       "      <th>15</th>\n",
       "      <td>2018</td>\n",
       "      <td>67.081688</td>\n",
       "    </tr>\n",
       "    <tr>\n",
       "      <th>16</th>\n",
       "      <td>2019</td>\n",
       "      <td>64.281769</td>\n",
       "    </tr>\n",
       "    <tr>\n",
       "      <th>17</th>\n",
       "      <td>2020</td>\n",
       "      <td>106.078362</td>\n",
       "    </tr>\n",
       "  </tbody>\n",
       "</table>\n",
       "</div>"
      ],
      "text/plain": [
       "    Year  Adoption Time\n",
       "0   2003      73.744186\n",
       "1   2004      38.049645\n",
       "2   2005      35.929688\n",
       "3   2006     113.030023\n",
       "4   2007     381.198164\n",
       "5   2008     399.921851\n",
       "6   2009     591.395598\n",
       "7   2010     563.675054\n",
       "8   2011      72.797125\n",
       "9   2012      61.266937\n",
       "10  2013      61.857423\n",
       "11  2014      66.129760\n",
       "12  2015      63.672380\n",
       "13  2016      64.327898\n",
       "14  2017      65.049058\n",
       "15  2018      67.081688\n",
       "16  2019      64.281769\n",
       "17  2020     106.078362"
      ]
     },
     "execution_count": 14,
     "metadata": {},
     "output_type": "execute_result"
    }
   ],
   "source": [
    "tydf"
   ]
  },
  {
   "cell_type": "code",
   "execution_count": 21,
   "metadata": {},
   "outputs": [
    {
     "data": {
      "image/png": "[encoded data removed]",
      "text/plain": [
       "<Figure size 432x288 with 1 Axes>"
      ]
     },
     "metadata": {
      "needs_background": "light"
     },
     "output_type": "display_data"
    }
   ],
   "source": [
    "ax = sns.lineplot(x='Year', y='Adoption Time', data=tydf[8:17])"
   ]
  },
  {
   "cell_type": "code",
   "execution_count": 27,
   "metadata": {},
   "outputs": [],
   "source": [
    "alldogs_year = alldogs_merged[alldogs_merged['year'] >= 2015]"
   ]
  },
  {
   "cell_type": "code",
   "execution_count": 28,
   "metadata": {},
   "outputs": [],
   "source": [
    "alldogs_year = alldogs_year[alldogs_year['year'] <= 2019]"
   ]
  },
  {
   "cell_type": "code",
   "execution_count": 29,
   "metadata": {},
   "outputs": [
    {
     "data": {
      "text/plain": [
       "709530"
      ]
     },
     "execution_count": 29,
     "metadata": {},
     "output_type": "execute_result"
    }
   ],
   "source": [
    "len(alldogs_year)"
   ]
  },
  {
   "cell_type": "code",
   "execution_count": 11,
   "metadata": {},
   "outputs": [
    {
     "data": {
      "text/plain": [
       "month\n",
       "8     57.733467\n",
       "5     58.336647\n",
       "3     58.903002\n",
       "4     60.224461\n",
       "6     60.682694\n",
       "2     62.149868\n",
       "7     63.089704\n",
       "12    63.235770\n",
       "11    63.978540\n",
       "10    67.510244\n",
       "9     72.287168\n",
       "1     90.359256\n",
       "Name: adoption_time, dtype: float64"
      ]
     },
     "execution_count": 11,
     "metadata": {},
     "output_type": "execute_result"
    }
   ],
   "source": [
    "alldogs_year.groupby('month')['adoption_time'].mean().sort_values()"
   ]
  },
  {
   "cell_type": "code",
   "execution_count": 13,
   "metadata": {},
   "outputs": [
    {
     "data": {
      "text/plain": [
       "contact.address.state\n",
       "MT     27.106177\n",
       "ID     32.793261\n",
       "MA     35.887956\n",
       "OR     39.156860\n",
       "CO     39.176136\n",
       "NH     40.242068\n",
       "WI     42.400867\n",
       "RI     45.503346\n",
       "SC     47.184469\n",
       "IL     47.184934\n",
       "KS     47.968023\n",
       "OH     48.101776\n",
       "WA     49.291108\n",
       "NJ     52.181629\n",
       "WY     53.744130\n",
       "MD     53.896849\n",
       "VT     53.997183\n",
       "CT     54.055388\n",
       "KY     54.687719\n",
       "MN     55.005669\n",
       "PA     58.397293\n",
       "IN     58.398325\n",
       "GA     60.170324\n",
       "ME     62.050048\n",
       "LA     62.055538\n",
       "AR     65.572507\n",
       "MS     67.256293\n",
       "WV     69.679245\n",
       "CA     69.839142\n",
       "VA     71.376932\n",
       "IA     71.808607\n",
       "UT     72.596894\n",
       "SD     73.270777\n",
       "AL     76.111783\n",
       "TN     76.179214\n",
       "MI     77.320471\n",
       "NY     79.316067\n",
       "FL     81.583583\n",
       "AZ     82.648072\n",
       "ND     83.162210\n",
       "OK     85.146336\n",
       "DE     92.433011\n",
       "AK     96.318218\n",
       "NE    101.236522\n",
       "NM    101.290124\n",
       "TX    104.615195\n",
       "NC    120.649395\n",
       "NV    126.796669\n",
       "MO    196.583009\n",
       "Name: adoption_time, dtype: float64"
      ]
     },
     "execution_count": 13,
     "metadata": {},
     "output_type": "execute_result"
    }
   ],
   "source": [
    "alldogs_year.groupby('contact.address.state')['adoption_time'].mean().sort_values()"
   ]
  },
  {
   "cell_type": "code",
   "execution_count": 219,
   "metadata": {},
   "outputs": [
    {
     "data": {
      "text/plain": [
       "<matplotlib.axes._subplots.AxesSubplot at 0x25c33c961c8>"
      ]
     },
     "execution_count": 219,
     "metadata": {},
     "output_type": "execute_result"
    },
    {
     "data": {
      "image/png": "[encoded data removed]",
      "text/plain": [
       "<Figure size 432x288 with 1 Axes>"
      ]
     },
     "metadata": {
      "needs_background": "light"
     },
     "output_type": "display_data"
    }
   ],
   "source": [
    "m.plot()"
   ]
  },
  {
   "cell_type": "code",
   "execution_count": 21,
   "metadata": {},
   "outputs": [
    {
     "data": {
      "text/plain": [
       "<matplotlib.axes._subplots.AxesSubplot at 0x25c6b467988>"
      ]
     },
     "execution_count": 21,
     "metadata": {},
     "output_type": "execute_result"
    },
    {
     "data": {
      "image/png": "[encoded data removed]",
      "text/plain": [
       "<Figure size 432x288 with 1 Axes>"
      ]
     },
     "metadata": {
      "needs_background": "light"
     },
     "output_type": "display_data"
    }
   ],
   "source": [
    "y=alldogs_year.groupby('year')['adoption_time'].mean()\n",
    "y.plot()"
   ]
  },
  {
   "cell_type": "markdown",
   "metadata": {},
   "source": [
    "## Remove outliers based on z-score\n",
    "### (need to log transform to gaussian ish first)"
   ]
  },
  {
   "cell_type": "code",
   "execution_count": 30,
   "metadata": {},
   "outputs": [
    {
     "data": {
      "text/plain": [
       "<matplotlib.axes._subplots.AxesSubplot at 0x1c0a7a13f48>"
      ]
     },
     "execution_count": 30,
     "metadata": {},
     "output_type": "execute_result"
    },
    {
     "data": {
      "image/png": "[encoded data removed]",
      "text/plain": [
       "<Figure size 432x288 with 1 Axes>"
      ]
     },
     "metadata": {
      "needs_background": "light"
     },
     "output_type": "display_data"
    }
   ],
   "source": [
    "sns.distplot(alldogs_year['adoption_time'], kde=False)"
   ]
  },
  {
   "cell_type": "code",
   "execution_count": 31,
   "metadata": {},
   "outputs": [],
   "source": [
    "#remove negative days error\n",
    "alldogs_year = alldogs_year[alldogs_year['adoption_time']>=0]"
   ]
  },
  {
   "cell_type": "code",
   "execution_count": 32,
   "metadata": {},
   "outputs": [
    {
     "data": {
      "text/plain": [
       "<matplotlib.axes._subplots.AxesSubplot at 0x1c0844e0d48>"
      ]
     },
     "execution_count": 32,
     "metadata": {},
     "output_type": "execute_result"
    },
    {
     "data": {
      "image/png": "[encoded data removed]",
      "text/plain": [
       "<Figure size 432x288 with 1 Axes>"
      ]
     },
     "metadata": {
      "needs_background": "light"
     },
     "output_type": "display_data"
    }
   ],
   "source": [
    "sns.distplot(alldogs_year['adoption_time'], kde=False)"
   ]
  },
  {
   "cell_type": "code",
   "execution_count": 33,
   "metadata": {},
   "outputs": [],
   "source": [
    "alldogs_year['log_adpt_time'] = alldogs_year.apply(lambda x: np.log((x['adoption_time'])+1.1), axis=1)"
   ]
  },
  {
   "cell_type": "code",
   "execution_count": 34,
   "metadata": {},
   "outputs": [
    {
     "data": {
      "text/plain": [
       "<matplotlib.axes._subplots.AxesSubplot at 0x1c0844c0948>"
      ]
     },
     "execution_count": 34,
     "metadata": {},
     "output_type": "execute_result"
    },
    {
     "data": {
      "image/png": "[encoded data removed]",
      "text/plain": [
       "<Figure size 432x288 with 1 Axes>"
      ]
     },
     "metadata": {
      "needs_background": "light"
     },
     "output_type": "display_data"
    }
   ],
   "source": [
    "sns.distplot(alldogs_year['log_adpt_time'], kde=False)"
   ]
  },
  {
   "cell_type": "code",
   "execution_count": 35,
   "metadata": {},
   "outputs": [
    {
     "data": {
      "text/plain": [
       "9707"
      ]
     },
     "execution_count": 35,
     "metadata": {},
     "output_type": "execute_result"
    }
   ],
   "source": [
    "from scipy import stats\n",
    "z = (stats.zscore(alldogs_year['log_adpt_time']))\n",
    "len(np.where(z >= 2.5)[0])"
   ]
  },
  {
   "cell_type": "code",
   "execution_count": 36,
   "metadata": {},
   "outputs": [
    {
     "data": {
      "text/plain": [
       "699822"
      ]
     },
     "execution_count": 36,
     "metadata": {},
     "output_type": "execute_result"
    }
   ],
   "source": [
    "alldogs_year_otl = alldogs_year[z<2.5]\n",
    "len(alldogs_year_otl)"
   ]
  },
  {
   "cell_type": "code",
   "execution_count": 98,
   "metadata": {},
   "outputs": [
    {
     "data": {
      "text/plain": [
       "[Text(0, 0.5, 'Count'), Text(0.5, 0, 'Adoption time (days)')]"
      ]
     },
     "execution_count": 98,
     "metadata": {},
     "output_type": "execute_result"
    },
    {
     "data": {
      "image/png": "[encoded data removed]",
      "text/plain": [
       "<Figure size 432x288 with 1 Axes>"
      ]
     },
     "metadata": {
      "needs_background": "light"
     },
     "output_type": "display_data"
    }
   ],
   "source": [
    "ax = sns.distplot(alldogs_year_otl['adoption_time'], kde=False)\n",
    "ax.set(xlabel='Adoption time (days)', ylabel='Count')"
   ]
  },
  {
   "cell_type": "code",
   "execution_count": 99,
   "metadata": {},
   "outputs": [
    {
     "data": {
      "text/plain": [
       "[Text(0, 0.5, 'Count'), Text(0.5, 0, 'log(Adoption time)')]"
      ]
     },
     "execution_count": 99,
     "metadata": {},
     "output_type": "execute_result"
    },
    {
     "data": {
      "image/png": "[encoded data removed]",
      "text/plain": [
       "<Figure size 432x288 with 1 Axes>"
      ]
     },
     "metadata": {
      "needs_background": "light"
     },
     "output_type": "display_data"
    }
   ],
   "source": [
    "ax = sns.distplot(alldogs_year['log_adpt_time'], kde=False)\n",
    "ax.set(xlabel='log(Adoption time)', ylabel='Count')"
   ]
  },
  {
   "cell_type": "code",
   "execution_count": 39,
   "metadata": {},
   "outputs": [
    {
     "data": {
      "text/plain": [
       "<seaborn.axisgrid.FacetGrid at 0x1c087500908>"
      ]
     },
     "execution_count": 39,
     "metadata": {},
     "output_type": "execute_result"
    },
    {
     "data": {
      "image/png": "[encoded data removed]",
      "text/plain": [
       "<Figure size 360x360 with 1 Axes>"
      ]
     },
     "metadata": {
      "needs_background": "light"
     },
     "output_type": "display_data"
    }
   ],
   "source": [
    "sizeplot3 = sns.catplot(x='contact.address.state', y='adoption_time', data=alldogs_year_otl, kind='box');\n",
    "sizeplot3.set(ylim=(0,200))"
   ]
  },
  {
   "cell_type": "code",
   "execution_count": 41,
   "metadata": {},
   "outputs": [
    {
     "data": {
      "text/plain": [
       "<seaborn.axisgrid.FacetGrid at 0x1c0878d5088>"
      ]
     },
     "execution_count": 41,
     "metadata": {},
     "output_type": "execute_result"
    },
    {
     "data": {
      "image/png": "[encoded data removed]",
      "text/plain": [
       "<Figure size 360x360 with 1 Axes>"
      ]
     },
     "metadata": {
      "needs_background": "light"
     },
     "output_type": "display_data"
    }
   ],
   "source": [
    "sizeplot3 = sns.catplot(y='contact.address.state', x='adoption_time', data=alldogs_year_otl, kind='box');\n",
    "sizeplot3.set(xlim=(0,100))"
   ]
  },
  {
   "cell_type": "code",
   "execution_count": 42,
   "metadata": {
    "scrolled": true
   },
   "outputs": [
    {
     "data": {
      "text/plain": [
       "attributes.special_needs\n",
       "False    45.753490\n",
       "True     95.330781\n",
       "Name: adoption_time, dtype: float64"
      ]
     },
     "execution_count": 42,
     "metadata": {},
     "output_type": "execute_result"
    }
   ],
   "source": [
    "# dogs with special needs need 2.08 times more time\n",
    "alldogs_year_otl.groupby('attributes.special_needs')['adoption_time'].mean().sort_values()"
   ]
  },
  {
   "cell_type": "code",
   "execution_count": 43,
   "metadata": {},
   "outputs": [
    {
     "data": {
      "text/plain": [
       "687282"
      ]
     },
     "execution_count": 43,
     "metadata": {},
     "output_type": "execute_result"
    }
   ],
   "source": [
    "#remove dogs with special needs from model\n",
    "alldogs_year_otl = alldogs_year_otl[alldogs_year_otl['attributes.special_needs']==False]\n",
    "len(alldogs_year_otl)"
   ]
  },
  {
   "cell_type": "code",
   "execution_count": 44,
   "metadata": {},
   "outputs": [
    {
     "data": {
      "text/plain": [
       "attributes.shots_current\n",
       "False    37.000473\n",
       "True     46.948122\n",
       "Name: adoption_time, dtype: float64"
      ]
     },
     "execution_count": 44,
     "metadata": {},
     "output_type": "execute_result"
    }
   ],
   "source": [
    "# correlation != causation here, maybe because they were there longer they got shots\n",
    "alldogs_year_otl.groupby('attributes.shots_current')['adoption_time'].mean().sort_values()"
   ]
  },
  {
   "cell_type": "code",
   "execution_count": 45,
   "metadata": {},
   "outputs": [
    {
     "data": {
      "text/plain": [
       "604745"
      ]
     },
     "execution_count": 45,
     "metadata": {},
     "output_type": "execute_result"
    }
   ],
   "source": [
    "#remove dogs with special needs from model\n",
    "alldogs_year_otl = alldogs_year_otl[alldogs_year_otl['attributes.shots_current']==True]\n",
    "len(alldogs_year_otl)"
   ]
  },
  {
   "cell_type": "code",
   "execution_count": 46,
   "metadata": {},
   "outputs": [
    {
     "data": {
      "text/plain": [
       "86.73755053783"
      ]
     },
     "execution_count": 46,
     "metadata": {},
     "output_type": "execute_result"
    }
   ],
   "source": [
    "#1 week -23%, 2 weeks = 43%, 1 month - 64%%, 90 days - 87%\n",
    "(len(alldogs_year_otl[alldogs_year_otl['adoption_time']<90])/len(alldogs_year_otl))*100"
   ]
  },
  {
   "cell_type": "code",
   "execution_count": 47,
   "metadata": {},
   "outputs": [],
   "source": [
    "def categorize_times(time):\n",
    "    if time < 7:\n",
    "        return '< 1 week'\n",
    "    elif time <= 14:\n",
    "        return '1 - 2 weeks'\n",
    "    elif time < 30:\n",
    "        return '< 1 month'\n",
    "    elif time < 90:\n",
    "        return '< 3 months'\n",
    "    else:\n",
    "        return '> 3 months'"
   ]
  },
  {
   "cell_type": "code",
   "execution_count": 48,
   "metadata": {},
   "outputs": [],
   "source": [
    "alldogs_year_otl['cg_adpt_time'] = alldogs_year_otl.apply(lambda x: categorize_times(x['adoption_time']), axis=1)"
   ]
  },
  {
   "cell_type": "code",
   "execution_count": 49,
   "metadata": {},
   "outputs": [
    {
     "data": {
      "text/html": [
       "<div>\n",
       "<style scoped>\n",
       "    .dataframe tbody tr th:only-of-type {\n",
       "        vertical-align: middle;\n",
       "    }\n",
       "\n",
       "    .dataframe tbody tr th {\n",
       "        vertical-align: top;\n",
       "    }\n",
       "\n",
       "    .dataframe thead th {\n",
       "        text-align: right;\n",
       "    }\n",
       "</style>\n",
       "<table border=\"1\" class=\"dataframe\">\n",
       "  <thead>\n",
       "    <tr style=\"text-align: right;\">\n",
       "      <th></th>\n",
       "      <th>adoption_time</th>\n",
       "      <th>age</th>\n",
       "      <th>attributes.declawed</th>\n",
       "      <th>attributes.house_trained</th>\n",
       "      <th>attributes.shots_current</th>\n",
       "      <th>attributes.spayed_neutered</th>\n",
       "      <th>attributes.special_needs</th>\n",
       "      <th>breeds.mixed</th>\n",
       "      <th>breeds.primary</th>\n",
       "      <th>breeds.secondary</th>\n",
       "      <th>...</th>\n",
       "      <th>organization_id</th>\n",
       "      <th>published_at</th>\n",
       "      <th>size</th>\n",
       "      <th>status</th>\n",
       "      <th>status_changed_at</th>\n",
       "      <th>tags</th>\n",
       "      <th>url</th>\n",
       "      <th>year</th>\n",
       "      <th>log_adpt_time</th>\n",
       "      <th>cg_adpt_time</th>\n",
       "    </tr>\n",
       "  </thead>\n",
       "  <tbody>\n",
       "    <tr>\n",
       "      <th>1</th>\n",
       "      <td>96</td>\n",
       "      <td>Adult</td>\n",
       "      <td>NaN</td>\n",
       "      <td>True</td>\n",
       "      <td>True</td>\n",
       "      <td>True</td>\n",
       "      <td>False</td>\n",
       "      <td>False</td>\n",
       "      <td>Japanese Chin</td>\n",
       "      <td>NaN</td>\n",
       "      <td>...</td>\n",
       "      <td>CA712</td>\n",
       "      <td>2016-08-08T19:15:43+0000</td>\n",
       "      <td>Small</td>\n",
       "      <td>adopted</td>\n",
       "      <td>2016-11-13T08:14:08+0000</td>\n",
       "      <td>[]</td>\n",
       "      <td>https://www.petfinder.com/dog/bess-located-in-...</td>\n",
       "      <td>2016</td>\n",
       "      <td>4.575741</td>\n",
       "      <td>&gt; 3 months</td>\n",
       "    </tr>\n",
       "    <tr>\n",
       "      <th>2</th>\n",
       "      <td>98</td>\n",
       "      <td>Young</td>\n",
       "      <td>NaN</td>\n",
       "      <td>True</td>\n",
       "      <td>True</td>\n",
       "      <td>True</td>\n",
       "      <td>False</td>\n",
       "      <td>True</td>\n",
       "      <td>Scottish Terrier</td>\n",
       "      <td>NaN</td>\n",
       "      <td>...</td>\n",
       "      <td>TX1860</td>\n",
       "      <td>2014-10-14T09:20:08+0000</td>\n",
       "      <td>Small</td>\n",
       "      <td>adopted</td>\n",
       "      <td>2015-01-20T17:31:49+0000</td>\n",
       "      <td>[]</td>\n",
       "      <td>https://www.petfinder.com/dog/madonna-30542160...</td>\n",
       "      <td>2015</td>\n",
       "      <td>4.596129</td>\n",
       "      <td>&gt; 3 months</td>\n",
       "    </tr>\n",
       "    <tr>\n",
       "      <th>3</th>\n",
       "      <td>32</td>\n",
       "      <td>Adult</td>\n",
       "      <td>NaN</td>\n",
       "      <td>True</td>\n",
       "      <td>True</td>\n",
       "      <td>True</td>\n",
       "      <td>False</td>\n",
       "      <td>False</td>\n",
       "      <td>Bullmastiff</td>\n",
       "      <td>NaN</td>\n",
       "      <td>...</td>\n",
       "      <td>FL653</td>\n",
       "      <td>2018-02-21T00:02:35+0000</td>\n",
       "      <td>Extra Large</td>\n",
       "      <td>adopted</td>\n",
       "      <td>2018-03-25T13:18:45+0000</td>\n",
       "      <td>[]</td>\n",
       "      <td>https://www.petfinder.com/dog/al-sweetie-birmi...</td>\n",
       "      <td>2018</td>\n",
       "      <td>3.499533</td>\n",
       "      <td>&lt; 3 months</td>\n",
       "    </tr>\n",
       "    <tr>\n",
       "      <th>4</th>\n",
       "      <td>16</td>\n",
       "      <td>Young</td>\n",
       "      <td>NaN</td>\n",
       "      <td>True</td>\n",
       "      <td>True</td>\n",
       "      <td>True</td>\n",
       "      <td>False</td>\n",
       "      <td>False</td>\n",
       "      <td>Bullmastiff</td>\n",
       "      <td>NaN</td>\n",
       "      <td>...</td>\n",
       "      <td>FL653</td>\n",
       "      <td>2015-10-26T11:05:40+0000</td>\n",
       "      <td>Large</td>\n",
       "      <td>adopted</td>\n",
       "      <td>2015-11-11T18:28:03+0000</td>\n",
       "      <td>[]</td>\n",
       "      <td>https://www.petfinder.com/dog/al-rosie-prattvi...</td>\n",
       "      <td>2015</td>\n",
       "      <td>2.839078</td>\n",
       "      <td>&lt; 1 month</td>\n",
       "    </tr>\n",
       "    <tr>\n",
       "      <th>5</th>\n",
       "      <td>56</td>\n",
       "      <td>Adult</td>\n",
       "      <td>NaN</td>\n",
       "      <td>True</td>\n",
       "      <td>True</td>\n",
       "      <td>True</td>\n",
       "      <td>False</td>\n",
       "      <td>False</td>\n",
       "      <td>Bullmastiff</td>\n",
       "      <td>NaN</td>\n",
       "      <td>...</td>\n",
       "      <td>FL653</td>\n",
       "      <td>2016-06-24T16:49:40+0000</td>\n",
       "      <td>Extra Large</td>\n",
       "      <td>adopted</td>\n",
       "      <td>2016-08-20T13:23:19+0000</td>\n",
       "      <td>[]</td>\n",
       "      <td>https://www.petfinder.com/dog/al-tank-montgome...</td>\n",
       "      <td>2016</td>\n",
       "      <td>4.044804</td>\n",
       "      <td>&lt; 3 months</td>\n",
       "    </tr>\n",
       "  </tbody>\n",
       "</table>\n",
       "<p>5 rows × 36 columns</p>\n",
       "</div>"
      ],
      "text/plain": [
       "   adoption_time    age  attributes.declawed  attributes.house_trained  \\\n",
       "1             96  Adult                  NaN                      True   \n",
       "2             98  Young                  NaN                      True   \n",
       "3             32  Adult                  NaN                      True   \n",
       "4             16  Young                  NaN                      True   \n",
       "5             56  Adult                  NaN                      True   \n",
       "\n",
       "   attributes.shots_current  attributes.spayed_neutered  \\\n",
       "1                      True                        True   \n",
       "2                      True                        True   \n",
       "3                      True                        True   \n",
       "4                      True                        True   \n",
       "5                      True                        True   \n",
       "\n",
       "   attributes.special_needs  breeds.mixed    breeds.primary breeds.secondary  \\\n",
       "1                     False         False     Japanese Chin              NaN   \n",
       "2                     False          True  Scottish Terrier              NaN   \n",
       "3                     False         False       Bullmastiff              NaN   \n",
       "4                     False         False       Bullmastiff              NaN   \n",
       "5                     False         False       Bullmastiff              NaN   \n",
       "\n",
       "   ...  organization_id              published_at         size   status  \\\n",
       "1  ...            CA712  2016-08-08T19:15:43+0000        Small  adopted   \n",
       "2  ...           TX1860  2014-10-14T09:20:08+0000        Small  adopted   \n",
       "3  ...            FL653  2018-02-21T00:02:35+0000  Extra Large  adopted   \n",
       "4  ...            FL653  2015-10-26T11:05:40+0000        Large  adopted   \n",
       "5  ...            FL653  2016-06-24T16:49:40+0000  Extra Large  adopted   \n",
       "\n",
       "          status_changed_at tags  \\\n",
       "1  2016-11-13T08:14:08+0000   []   \n",
       "2  2015-01-20T17:31:49+0000   []   \n",
       "3  2018-03-25T13:18:45+0000   []   \n",
       "4  2015-11-11T18:28:03+0000   []   \n",
       "5  2016-08-20T13:23:19+0000   []   \n",
       "\n",
       "                                                 url  year  log_adpt_time  \\\n",
       "1  https://www.petfinder.com/dog/bess-located-in-...  2016       4.575741   \n",
       "2  https://www.petfinder.com/dog/madonna-30542160...  2015       4.596129   \n",
       "3  https://www.petfinder.com/dog/al-sweetie-birmi...  2018       3.499533   \n",
       "4  https://www.petfinder.com/dog/al-rosie-prattvi...  2015       2.839078   \n",
       "5  https://www.petfinder.com/dog/al-tank-montgome...  2016       4.044804   \n",
       "\n",
       "  cg_adpt_time  \n",
       "1   > 3 months  \n",
       "2   > 3 months  \n",
       "3   < 3 months  \n",
       "4    < 1 month  \n",
       "5   < 3 months  \n",
       "\n",
       "[5 rows x 36 columns]"
      ]
     },
     "execution_count": 49,
     "metadata": {},
     "output_type": "execute_result"
    }
   ],
   "source": [
    "alldogs_year_otl.head()"
   ]
  },
  {
   "cell_type": "code",
   "execution_count": 50,
   "metadata": {},
   "outputs": [
    {
     "data": {
      "text/plain": [
       "<matplotlib.axes._subplots.AxesSubplot at 0x1c10f11bf08>"
      ]
     },
     "execution_count": 50,
     "metadata": {},
     "output_type": "execute_result"
    },
    {
     "data": {
      "image/png": "[encoded data removed]",
      "text/plain": [
       "<Figure size 432x288 with 1 Axes>"
      ]
     },
     "metadata": {
      "needs_background": "light"
     },
     "output_type": "display_data"
    }
   ],
   "source": [
    "sns.boxplot(x=alldogs_year_otl['adoption_time'])"
   ]
  },
  {
   "cell_type": "code",
   "execution_count": 51,
   "metadata": {},
   "outputs": [
    {
     "data": {
      "text/plain": [
       "< 3 months     142108\n",
       "< 1 week       136956\n",
       "< 1 month      126695\n",
       "1 - 2 weeks    118782\n",
       "> 3 months      80204\n",
       "Name: cg_adpt_time, dtype: int64"
      ]
     },
     "execution_count": 51,
     "metadata": {},
     "output_type": "execute_result"
    }
   ],
   "source": [
    "alldogs_year_otl['cg_adpt_time'].value_counts()"
   ]
  },
  {
   "cell_type": "code",
   "execution_count": 52,
   "metadata": {},
   "outputs": [
    {
     "data": {
      "text/plain": [
       "0"
      ]
     },
     "execution_count": 52,
     "metadata": {},
     "output_type": "execute_result"
    }
   ],
   "source": [
    "len(alldogs_year_otl[alldogs_year_otl['gender']=='Unknown'])"
   ]
  },
  {
   "cell_type": "code",
   "execution_count": 53,
   "metadata": {},
   "outputs": [
    {
     "data": {
      "text/plain": [
       "604745"
      ]
     },
     "execution_count": 53,
     "metadata": {},
     "output_type": "execute_result"
    }
   ],
   "source": [
    "alldogs_nm = alldogs_year_otl[alldogs_year_otl['gender']!='Unknown']\n",
    "len(alldogs_nm)"
   ]
  },
  {
   "cell_type": "code",
   "execution_count": 54,
   "metadata": {},
   "outputs": [
    {
     "name": "stdout",
     "output_type": "stream",
     "text": [
      "Table size - (604745, 36)\n",
      "Checking for missing values..\n",
      "attributes.declawed         604745\n",
      "breeds.secondary            378861\n",
      "coat                        184552\n",
      "colors.primary              141382\n",
      "colors.secondary            364106\n",
      "colors.tertiary             593772\n",
      "contact.address.postcode        15\n",
      "environment.cats            487161\n",
      "environment.children        413701\n",
      "environment.dogs            383513\n",
      "dtype: int64\n"
     ]
    }
   ],
   "source": [
    "# Check for any missing data\n",
    "print(\"Table size -\", end=' ')\n",
    "print(alldogs_nm.shape)\n",
    "\n",
    "print(\"Checking for missing values..\")\n",
    "# Number of missing values in each column of training data\n",
    "missing_val_count_by_column = (alldogs_year_otl.isnull().sum())\n",
    "print(missing_val_count_by_column[missing_val_count_by_column > 0])\n",
    "\n",
    "# Get names of columns with missing values\n",
    "missing_cols = [col for col in alldogs_year_otl.columns\n",
    "                     if alldogs_year_otl[col].isnull().any()]"
   ]
  },
  {
   "cell_type": "code",
   "execution_count": 55,
   "metadata": {},
   "outputs": [],
   "source": [
    "alldogs_year_otl['contact.address.postcode'] = alldogs_year_otl['contact.address.postcode'].fillna(method='ffill')"
   ]
  },
  {
   "cell_type": "code",
   "execution_count": 56,
   "metadata": {},
   "outputs": [
    {
     "name": "stdout",
     "output_type": "stream",
     "text": [
      "Table size - (604745, 36)\n",
      "Checking for missing values..\n",
      "attributes.declawed     604745\n",
      "breeds.secondary        378861\n",
      "coat                    184552\n",
      "colors.primary          141382\n",
      "colors.secondary        364106\n",
      "colors.tertiary         593772\n",
      "environment.cats        487161\n",
      "environment.children    413701\n",
      "environment.dogs        383513\n",
      "dtype: int64\n"
     ]
    }
   ],
   "source": [
    "# Check for any missing data\n",
    "print(\"Table size -\", end=' ')\n",
    "print(alldogs_nm.shape)\n",
    "\n",
    "print(\"Checking for missing values..\")\n",
    "# Number of missing values in each column of training data\n",
    "missing_val_count_by_column = (alldogs_year_otl.isnull().sum())\n",
    "print(missing_val_count_by_column[missing_val_count_by_column > 0])\n",
    "\n",
    "# Get names of columns with missing values\n",
    "missing_cols = [col for col in alldogs_year_otl.columns\n",
    "                     if alldogs_year_otl[col].isnull().any()]"
   ]
  },
  {
   "cell_type": "code",
   "execution_count": 120,
   "metadata": {},
   "outputs": [],
   "source": [
    "#not needed for this set\n",
    "#alldogs_nm = alldogs_merged.fillna({'name':'Unknown'})"
   ]
  },
  {
   "cell_type": "code",
   "execution_count": 99,
   "metadata": {},
   "outputs": [
    {
     "name": "stdout",
     "output_type": "stream",
     "text": [
      "Table size - (90628, 38)\n",
      "Checking for missing values..\n",
      "coat                    35414\n",
      "breeds.secondary        52059\n",
      "colors.primary          23938\n",
      "colors.secondary        55765\n",
      "colors.tertiary         88930\n",
      "attributes.declawed     90628\n",
      "environment.children    65588\n",
      "environment.dogs        57343\n",
      "environment.cats        75276\n",
      "dtype: int64\n"
     ]
    }
   ],
   "source": [
    "# recheck for any missing data\n",
    "print(\"Table size -\", end=' ')\n",
    "print(alldogs_nm.shape)\n",
    "\n",
    "print(\"Checking for missing values..\")\n",
    "# Number of missing values in each column of training data\n",
    "missing_val_count_by_column = (alldogs_nm.isnull().sum())\n",
    "print(missing_val_count_by_column[missing_val_count_by_column > 0])\n",
    "\n",
    "# Get names of columns with missing values\n",
    "missing_cols = [col for col in alldogs_nm.columns\n",
    "                     if alldogs_nm[col].isnull().any()]"
   ]
  },
  {
   "cell_type": "code",
   "execution_count": 57,
   "metadata": {},
   "outputs": [],
   "source": [
    "alldogs_nm = alldogs_year_otl.drop(missing_cols, axis=1)"
   ]
  },
  {
   "cell_type": "code",
   "execution_count": 58,
   "metadata": {},
   "outputs": [
    {
     "data": {
      "text/html": [
       "<div>\n",
       "<style scoped>\n",
       "    .dataframe tbody tr th:only-of-type {\n",
       "        vertical-align: middle;\n",
       "    }\n",
       "\n",
       "    .dataframe tbody tr th {\n",
       "        vertical-align: top;\n",
       "    }\n",
       "\n",
       "    .dataframe thead th {\n",
       "        text-align: right;\n",
       "    }\n",
       "</style>\n",
       "<table border=\"1\" class=\"dataframe\">\n",
       "  <thead>\n",
       "    <tr style=\"text-align: right;\">\n",
       "      <th></th>\n",
       "      <th>adoption_time</th>\n",
       "      <th>age</th>\n",
       "      <th>attributes.house_trained</th>\n",
       "      <th>attributes.shots_current</th>\n",
       "      <th>attributes.spayed_neutered</th>\n",
       "      <th>attributes.special_needs</th>\n",
       "      <th>breeds.mixed</th>\n",
       "      <th>breeds.primary</th>\n",
       "      <th>breeds.unknown</th>\n",
       "      <th>contact.address.city</th>\n",
       "      <th>...</th>\n",
       "      <th>organization_id</th>\n",
       "      <th>published_at</th>\n",
       "      <th>size</th>\n",
       "      <th>status</th>\n",
       "      <th>status_changed_at</th>\n",
       "      <th>tags</th>\n",
       "      <th>url</th>\n",
       "      <th>year</th>\n",
       "      <th>log_adpt_time</th>\n",
       "      <th>cg_adpt_time</th>\n",
       "    </tr>\n",
       "  </thead>\n",
       "  <tbody>\n",
       "    <tr>\n",
       "      <th>1</th>\n",
       "      <td>96</td>\n",
       "      <td>Adult</td>\n",
       "      <td>True</td>\n",
       "      <td>True</td>\n",
       "      <td>True</td>\n",
       "      <td>False</td>\n",
       "      <td>False</td>\n",
       "      <td>Japanese Chin</td>\n",
       "      <td>False</td>\n",
       "      <td>Birmingham</td>\n",
       "      <td>...</td>\n",
       "      <td>CA712</td>\n",
       "      <td>2016-08-08T19:15:43+0000</td>\n",
       "      <td>Small</td>\n",
       "      <td>adopted</td>\n",
       "      <td>2016-11-13T08:14:08+0000</td>\n",
       "      <td>[]</td>\n",
       "      <td>https://www.petfinder.com/dog/bess-located-in-...</td>\n",
       "      <td>2016</td>\n",
       "      <td>4.575741</td>\n",
       "      <td>&gt; 3 months</td>\n",
       "    </tr>\n",
       "    <tr>\n",
       "      <th>2</th>\n",
       "      <td>98</td>\n",
       "      <td>Young</td>\n",
       "      <td>True</td>\n",
       "      <td>True</td>\n",
       "      <td>True</td>\n",
       "      <td>False</td>\n",
       "      <td>True</td>\n",
       "      <td>Scottish Terrier</td>\n",
       "      <td>False</td>\n",
       "      <td>Birmingham</td>\n",
       "      <td>...</td>\n",
       "      <td>TX1860</td>\n",
       "      <td>2014-10-14T09:20:08+0000</td>\n",
       "      <td>Small</td>\n",
       "      <td>adopted</td>\n",
       "      <td>2015-01-20T17:31:49+0000</td>\n",
       "      <td>[]</td>\n",
       "      <td>https://www.petfinder.com/dog/madonna-30542160...</td>\n",
       "      <td>2015</td>\n",
       "      <td>4.596129</td>\n",
       "      <td>&gt; 3 months</td>\n",
       "    </tr>\n",
       "    <tr>\n",
       "      <th>3</th>\n",
       "      <td>32</td>\n",
       "      <td>Adult</td>\n",
       "      <td>True</td>\n",
       "      <td>True</td>\n",
       "      <td>True</td>\n",
       "      <td>False</td>\n",
       "      <td>False</td>\n",
       "      <td>Bullmastiff</td>\n",
       "      <td>False</td>\n",
       "      <td>Birmingham</td>\n",
       "      <td>...</td>\n",
       "      <td>FL653</td>\n",
       "      <td>2018-02-21T00:02:35+0000</td>\n",
       "      <td>Extra Large</td>\n",
       "      <td>adopted</td>\n",
       "      <td>2018-03-25T13:18:45+0000</td>\n",
       "      <td>[]</td>\n",
       "      <td>https://www.petfinder.com/dog/al-sweetie-birmi...</td>\n",
       "      <td>2018</td>\n",
       "      <td>3.499533</td>\n",
       "      <td>&lt; 3 months</td>\n",
       "    </tr>\n",
       "    <tr>\n",
       "      <th>4</th>\n",
       "      <td>16</td>\n",
       "      <td>Young</td>\n",
       "      <td>True</td>\n",
       "      <td>True</td>\n",
       "      <td>True</td>\n",
       "      <td>False</td>\n",
       "      <td>False</td>\n",
       "      <td>Bullmastiff</td>\n",
       "      <td>False</td>\n",
       "      <td>Birmingham</td>\n",
       "      <td>...</td>\n",
       "      <td>FL653</td>\n",
       "      <td>2015-10-26T11:05:40+0000</td>\n",
       "      <td>Large</td>\n",
       "      <td>adopted</td>\n",
       "      <td>2015-11-11T18:28:03+0000</td>\n",
       "      <td>[]</td>\n",
       "      <td>https://www.petfinder.com/dog/al-rosie-prattvi...</td>\n",
       "      <td>2015</td>\n",
       "      <td>2.839078</td>\n",
       "      <td>&lt; 1 month</td>\n",
       "    </tr>\n",
       "    <tr>\n",
       "      <th>5</th>\n",
       "      <td>56</td>\n",
       "      <td>Adult</td>\n",
       "      <td>True</td>\n",
       "      <td>True</td>\n",
       "      <td>True</td>\n",
       "      <td>False</td>\n",
       "      <td>False</td>\n",
       "      <td>Bullmastiff</td>\n",
       "      <td>False</td>\n",
       "      <td>Birmingham</td>\n",
       "      <td>...</td>\n",
       "      <td>FL653</td>\n",
       "      <td>2016-06-24T16:49:40+0000</td>\n",
       "      <td>Extra Large</td>\n",
       "      <td>adopted</td>\n",
       "      <td>2016-08-20T13:23:19+0000</td>\n",
       "      <td>[]</td>\n",
       "      <td>https://www.petfinder.com/dog/al-tank-montgome...</td>\n",
       "      <td>2016</td>\n",
       "      <td>4.044804</td>\n",
       "      <td>&lt; 3 months</td>\n",
       "    </tr>\n",
       "  </tbody>\n",
       "</table>\n",
       "<p>5 rows × 27 columns</p>\n",
       "</div>"
      ],
      "text/plain": [
       "   adoption_time    age  attributes.house_trained  attributes.shots_current  \\\n",
       "1             96  Adult                      True                      True   \n",
       "2             98  Young                      True                      True   \n",
       "3             32  Adult                      True                      True   \n",
       "4             16  Young                      True                      True   \n",
       "5             56  Adult                      True                      True   \n",
       "\n",
       "   attributes.spayed_neutered  attributes.special_needs  breeds.mixed  \\\n",
       "1                        True                     False         False   \n",
       "2                        True                     False          True   \n",
       "3                        True                     False         False   \n",
       "4                        True                     False         False   \n",
       "5                        True                     False         False   \n",
       "\n",
       "     breeds.primary  breeds.unknown contact.address.city  ...  \\\n",
       "1     Japanese Chin           False           Birmingham  ...   \n",
       "2  Scottish Terrier           False           Birmingham  ...   \n",
       "3       Bullmastiff           False           Birmingham  ...   \n",
       "4       Bullmastiff           False           Birmingham  ...   \n",
       "5       Bullmastiff           False           Birmingham  ...   \n",
       "\n",
       "   organization_id              published_at         size   status  \\\n",
       "1            CA712  2016-08-08T19:15:43+0000        Small  adopted   \n",
       "2           TX1860  2014-10-14T09:20:08+0000        Small  adopted   \n",
       "3            FL653  2018-02-21T00:02:35+0000  Extra Large  adopted   \n",
       "4            FL653  2015-10-26T11:05:40+0000        Large  adopted   \n",
       "5            FL653  2016-06-24T16:49:40+0000  Extra Large  adopted   \n",
       "\n",
       "          status_changed_at  tags  \\\n",
       "1  2016-11-13T08:14:08+0000    []   \n",
       "2  2015-01-20T17:31:49+0000    []   \n",
       "3  2018-03-25T13:18:45+0000    []   \n",
       "4  2015-11-11T18:28:03+0000    []   \n",
       "5  2016-08-20T13:23:19+0000    []   \n",
       "\n",
       "                                                 url  year log_adpt_time  \\\n",
       "1  https://www.petfinder.com/dog/bess-located-in-...  2016      4.575741   \n",
       "2  https://www.petfinder.com/dog/madonna-30542160...  2015      4.596129   \n",
       "3  https://www.petfinder.com/dog/al-sweetie-birmi...  2018      3.499533   \n",
       "4  https://www.petfinder.com/dog/al-rosie-prattvi...  2015      2.839078   \n",
       "5  https://www.petfinder.com/dog/al-tank-montgome...  2016      4.044804   \n",
       "\n",
       "  cg_adpt_time  \n",
       "1   > 3 months  \n",
       "2   > 3 months  \n",
       "3   < 3 months  \n",
       "4    < 1 month  \n",
       "5   < 3 months  \n",
       "\n",
       "[5 rows x 27 columns]"
      ]
     },
     "execution_count": 58,
     "metadata": {},
     "output_type": "execute_result"
    }
   ],
   "source": [
    "alldogs_nm.head()"
   ]
  },
  {
   "cell_type": "code",
   "execution_count": 59,
   "metadata": {},
   "outputs": [
    {
     "data": {
      "text/plain": [
       "604745"
      ]
     },
     "execution_count": 59,
     "metadata": {},
     "output_type": "execute_result"
    }
   ],
   "source": [
    "len(alldogs_nm)"
   ]
  },
  {
   "cell_type": "code",
   "execution_count": 60,
   "metadata": {},
   "outputs": [],
   "source": [
    "#remove negative days error\n",
    "alldogs_nm = alldogs_nm[alldogs_nm['adoption_time']>=0]"
   ]
  },
  {
   "cell_type": "code",
   "execution_count": 61,
   "metadata": {},
   "outputs": [
    {
     "data": {
      "text/plain": [
       "604745"
      ]
     },
     "execution_count": 61,
     "metadata": {},
     "output_type": "execute_result"
    }
   ],
   "source": [
    "len(alldogs_nm)"
   ]
  },
  {
   "cell_type": "code",
   "execution_count": 179,
   "metadata": {},
   "outputs": [
    {
     "data": {
      "text/plain": [
       "Index(['adoption_time', 'age', 'attributes.house_trained',\n",
       "       'attributes.shots_current', 'attributes.spayed_neutered',\n",
       "       'attributes.special_needs', 'breeds.mixed', 'breeds.primary',\n",
       "       'breeds.unknown', 'contact.address.city', 'contact.address.postcode',\n",
       "       'contact.address.state', 'distance', 'gender', 'id', 'month', 'name',\n",
       "       'organization_id', 'published_at', 'size', 'status',\n",
       "       'status_changed_at', 'tags', 'url', 'year', 'log_adpt_time',\n",
       "       'cg_adpt_time'],\n",
       "      dtype='object')"
      ]
     },
     "execution_count": 179,
     "metadata": {},
     "output_type": "execute_result"
    }
   ],
   "source": [
    "alldogs_nm.columns"
   ]
  },
  {
   "cell_type": "code",
   "execution_count": 25,
   "metadata": {
    "scrolled": true
   },
   "outputs": [
    {
     "data": {
      "text/plain": [
       "Bella      2150\n",
       "Daisy      1879\n",
       "Buddy      1797\n",
       "Max        1791\n",
       "Charlie    1714\n",
       "Name: name, dtype: int64"
      ]
     },
     "execution_count": 25,
     "metadata": {},
     "output_type": "execute_result"
    }
   ],
   "source": [
    "namelist = alldogs_nm['name'].value_counts()\n",
    "namelist.head()"
   ]
  },
  {
   "cell_type": "code",
   "execution_count": 26,
   "metadata": {},
   "outputs": [
    {
     "data": {
      "text/plain": [
       "159418"
      ]
     },
     "execution_count": 26,
     "metadata": {},
     "output_type": "execute_result"
    }
   ],
   "source": [
    "len(namelist)"
   ]
  },
  {
   "cell_type": "code",
   "execution_count": 260,
   "metadata": {},
   "outputs": [
    {
     "data": {
      "text/plain": [
       "0.00040404040404040404"
      ]
     },
     "execution_count": 260,
     "metadata": {},
     "output_type": "execute_result"
    }
   ],
   "source": [
    "namelist[alldogs_nm['name'].iloc[89983]]/namelist.max()"
   ]
  },
  {
   "cell_type": "code",
   "execution_count": 261,
   "metadata": {},
   "outputs": [],
   "source": [
    "maxname = namelist.max()"
   ]
  },
  {
   "cell_type": "code",
   "execution_count": 262,
   "metadata": {},
   "outputs": [
    {
     "data": {
      "text/html": [
       "<div>\n",
       "<style scoped>\n",
       "    .dataframe tbody tr th:only-of-type {\n",
       "        vertical-align: middle;\n",
       "    }\n",
       "\n",
       "    .dataframe tbody tr th {\n",
       "        vertical-align: top;\n",
       "    }\n",
       "\n",
       "    .dataframe thead th {\n",
       "        text-align: right;\n",
       "    }\n",
       "</style>\n",
       "<table border=\"1\" class=\"dataframe\">\n",
       "  <thead>\n",
       "    <tr style=\"text-align: right;\">\n",
       "      <th></th>\n",
       "      <th>adoption_time</th>\n",
       "      <th>age</th>\n",
       "      <th>attributes.house_trained</th>\n",
       "      <th>attributes.shots_current</th>\n",
       "      <th>attributes.spayed_neutered</th>\n",
       "      <th>attributes.special_needs</th>\n",
       "      <th>breeds.mixed</th>\n",
       "      <th>breeds.primary</th>\n",
       "      <th>breeds.unknown</th>\n",
       "      <th>contact.address.city</th>\n",
       "      <th>...</th>\n",
       "      <th>organization_id</th>\n",
       "      <th>published_at</th>\n",
       "      <th>size</th>\n",
       "      <th>status</th>\n",
       "      <th>status_changed_at</th>\n",
       "      <th>tags</th>\n",
       "      <th>url</th>\n",
       "      <th>year</th>\n",
       "      <th>log_adpt_time</th>\n",
       "      <th>cg_adpt_time</th>\n",
       "    </tr>\n",
       "  </thead>\n",
       "  <tbody>\n",
       "  </tbody>\n",
       "</table>\n",
       "<p>0 rows × 27 columns</p>\n",
       "</div>"
      ],
      "text/plain": [
       "Empty DataFrame\n",
       "Columns: [adoption_time, age, attributes.house_trained, attributes.shots_current, attributes.spayed_neutered, attributes.special_needs, breeds.mixed, breeds.primary, breeds.unknown, contact.address.city, contact.address.postcode, contact.address.state, distance, gender, id, month, name, organization_id, published_at, size, status, status_changed_at, tags, url, year, log_adpt_time, cg_adpt_time]\n",
       "Index: []\n",
       "\n",
       "[0 rows x 27 columns]"
      ]
     },
     "execution_count": 262,
     "metadata": {},
     "output_type": "execute_result"
    }
   ],
   "source": [
    "alldogs_nm[alldogs_nm['name'].isnull()]"
   ]
  },
  {
   "cell_type": "code",
   "execution_count": 107,
   "metadata": {},
   "outputs": [
    {
     "data": {
      "text/plain": [
       "0.21978021978021978"
      ]
     },
     "execution_count": 107,
     "metadata": {},
     "output_type": "execute_result"
    }
   ],
   "source": [
    "def get_norm_name_freq(name):\n",
    "    return namelist[name]/maxname\n",
    "get_norm_name_freq(alldogs_nm['name'].iloc[0])"
   ]
  },
  {
   "cell_type": "code",
   "execution_count": 108,
   "metadata": {},
   "outputs": [
    {
     "data": {
      "text/html": [
       "<div>\n",
       "<style scoped>\n",
       "    .dataframe tbody tr th:only-of-type {\n",
       "        vertical-align: middle;\n",
       "    }\n",
       "\n",
       "    .dataframe tbody tr th {\n",
       "        vertical-align: top;\n",
       "    }\n",
       "\n",
       "    .dataframe thead th {\n",
       "        text-align: right;\n",
       "    }\n",
       "</style>\n",
       "<table border=\"1\" class=\"dataframe\">\n",
       "  <thead>\n",
       "    <tr style=\"text-align: right;\">\n",
       "      <th></th>\n",
       "      <th>id</th>\n",
       "      <th>organization_id</th>\n",
       "      <th>url</th>\n",
       "      <th>age</th>\n",
       "      <th>gender</th>\n",
       "      <th>size</th>\n",
       "      <th>tags</th>\n",
       "      <th>name</th>\n",
       "      <th>status</th>\n",
       "      <th>status_changed_at</th>\n",
       "      <th>...</th>\n",
       "      <th>contact.address.state</th>\n",
       "      <th>contact.address.postcode</th>\n",
       "      <th>adoption_time</th>\n",
       "      <th>month</th>\n",
       "      <th>year</th>\n",
       "      <th>log_adpt_time</th>\n",
       "      <th>mod_adpt_time</th>\n",
       "      <th>logmod_adpt_time</th>\n",
       "      <th>cg_adpt_time</th>\n",
       "      <th>norm_name_freq</th>\n",
       "    </tr>\n",
       "  </thead>\n",
       "  <tbody>\n",
       "    <tr>\n",
       "      <th>0</th>\n",
       "      <td>33853923</td>\n",
       "      <td>CA2395</td>\n",
       "      <td>https://www.petfinder.com/dog/sunny-33853923/c...</td>\n",
       "      <td>Baby</td>\n",
       "      <td>Female</td>\n",
       "      <td>Small</td>\n",
       "      <td>[]</td>\n",
       "      <td>Sunny</td>\n",
       "      <td>adopted</td>\n",
       "      <td>2015-12-11T20:50:51+0000</td>\n",
       "      <td>...</td>\n",
       "      <td>CA</td>\n",
       "      <td>90013</td>\n",
       "      <td>19</td>\n",
       "      <td>12</td>\n",
       "      <td>2015</td>\n",
       "      <td>3.000720</td>\n",
       "      <td>1.903654</td>\n",
       "      <td>4.779123</td>\n",
       "      <td>&lt; 1 month</td>\n",
       "      <td>0.219780</td>\n",
       "    </tr>\n",
       "    <tr>\n",
       "      <th>1</th>\n",
       "      <td>33853969</td>\n",
       "      <td>CA2395</td>\n",
       "      <td>https://www.petfinder.com/dog/batman-33853969/...</td>\n",
       "      <td>Young</td>\n",
       "      <td>Male</td>\n",
       "      <td>Small</td>\n",
       "      <td>[]</td>\n",
       "      <td>Batman</td>\n",
       "      <td>adopted</td>\n",
       "      <td>2015-12-21T22:23:16+0000</td>\n",
       "      <td>...</td>\n",
       "      <td>CA</td>\n",
       "      <td>90013</td>\n",
       "      <td>29</td>\n",
       "      <td>12</td>\n",
       "      <td>2015</td>\n",
       "      <td>3.404525</td>\n",
       "      <td>2.036168</td>\n",
       "      <td>4.859812</td>\n",
       "      <td>&lt; 1 month</td>\n",
       "      <td>0.109890</td>\n",
       "    </tr>\n",
       "    <tr>\n",
       "      <th>2</th>\n",
       "      <td>34004290</td>\n",
       "      <td>CA2395</td>\n",
       "      <td>https://www.petfinder.com/dog/benji-34004290/c...</td>\n",
       "      <td>Young</td>\n",
       "      <td>Male</td>\n",
       "      <td>Medium</td>\n",
       "      <td>[]</td>\n",
       "      <td>Benji</td>\n",
       "      <td>adopted</td>\n",
       "      <td>2015-12-30T01:22:04+0000</td>\n",
       "      <td>...</td>\n",
       "      <td>CA</td>\n",
       "      <td>90013</td>\n",
       "      <td>18</td>\n",
       "      <td>12</td>\n",
       "      <td>2015</td>\n",
       "      <td>2.949688</td>\n",
       "      <td>1.888175</td>\n",
       "      <td>4.770685</td>\n",
       "      <td>&lt; 1 month</td>\n",
       "      <td>0.267399</td>\n",
       "    </tr>\n",
       "    <tr>\n",
       "      <th>3</th>\n",
       "      <td>34042721</td>\n",
       "      <td>CA2395</td>\n",
       "      <td>https://www.petfinder.com/dog/zuma-34042721/ca...</td>\n",
       "      <td>Adult</td>\n",
       "      <td>Female</td>\n",
       "      <td>Medium</td>\n",
       "      <td>[]</td>\n",
       "      <td>Zuma</td>\n",
       "      <td>adopted</td>\n",
       "      <td>2016-02-12T19:13:27+0000</td>\n",
       "      <td>...</td>\n",
       "      <td>CA</td>\n",
       "      <td>90013</td>\n",
       "      <td>57</td>\n",
       "      <td>2</td>\n",
       "      <td>2016</td>\n",
       "      <td>4.062166</td>\n",
       "      <td>2.290172</td>\n",
       "      <td>5.056246</td>\n",
       "      <td>&lt; 100 days</td>\n",
       "      <td>0.025641</td>\n",
       "    </tr>\n",
       "    <tr>\n",
       "      <th>4</th>\n",
       "      <td>34079567</td>\n",
       "      <td>CA2395</td>\n",
       "      <td>https://www.petfinder.com/dog/diego-34079567/c...</td>\n",
       "      <td>Young</td>\n",
       "      <td>Male</td>\n",
       "      <td>Medium</td>\n",
       "      <td>[]</td>\n",
       "      <td>Diego</td>\n",
       "      <td>adopted</td>\n",
       "      <td>2015-12-30T01:21:59+0000</td>\n",
       "      <td>...</td>\n",
       "      <td>CA</td>\n",
       "      <td>90013</td>\n",
       "      <td>8</td>\n",
       "      <td>12</td>\n",
       "      <td>2015</td>\n",
       "      <td>2.208274</td>\n",
       "      <td>1.695218</td>\n",
       "      <td>4.682131</td>\n",
       "      <td>1 - 2 weeks</td>\n",
       "      <td>0.095238</td>\n",
       "    </tr>\n",
       "  </tbody>\n",
       "</table>\n",
       "<p>5 rows × 30 columns</p>\n",
       "</div>"
      ],
      "text/plain": [
       "         id organization_id  \\\n",
       "0  33853923          CA2395   \n",
       "1  33853969          CA2395   \n",
       "2  34004290          CA2395   \n",
       "3  34042721          CA2395   \n",
       "4  34079567          CA2395   \n",
       "\n",
       "                                                 url    age  gender    size  \\\n",
       "0  https://www.petfinder.com/dog/sunny-33853923/c...   Baby  Female   Small   \n",
       "1  https://www.petfinder.com/dog/batman-33853969/...  Young    Male   Small   \n",
       "2  https://www.petfinder.com/dog/benji-34004290/c...  Young    Male  Medium   \n",
       "3  https://www.petfinder.com/dog/zuma-34042721/ca...  Adult  Female  Medium   \n",
       "4  https://www.petfinder.com/dog/diego-34079567/c...  Young    Male  Medium   \n",
       "\n",
       "  tags    name   status         status_changed_at  ... contact.address.state  \\\n",
       "0   []   Sunny  adopted  2015-12-11T20:50:51+0000  ...                    CA   \n",
       "1   []  Batman  adopted  2015-12-21T22:23:16+0000  ...                    CA   \n",
       "2   []   Benji  adopted  2015-12-30T01:22:04+0000  ...                    CA   \n",
       "3   []    Zuma  adopted  2016-02-12T19:13:27+0000  ...                    CA   \n",
       "4   []   Diego  adopted  2015-12-30T01:21:59+0000  ...                    CA   \n",
       "\n",
       "   contact.address.postcode adoption_time  month  year  log_adpt_time  \\\n",
       "0                     90013            19     12  2015       3.000720   \n",
       "1                     90013            29     12  2015       3.404525   \n",
       "2                     90013            18     12  2015       2.949688   \n",
       "3                     90013            57      2  2016       4.062166   \n",
       "4                     90013             8     12  2015       2.208274   \n",
       "\n",
       "   mod_adpt_time  logmod_adpt_time  cg_adpt_time norm_name_freq  \n",
       "0       1.903654          4.779123     < 1 month       0.219780  \n",
       "1       2.036168          4.859812     < 1 month       0.109890  \n",
       "2       1.888175          4.770685     < 1 month       0.267399  \n",
       "3       2.290172          5.056246    < 100 days       0.025641  \n",
       "4       1.695218          4.682131   1 - 2 weeks       0.095238  \n",
       "\n",
       "[5 rows x 30 columns]"
      ]
     },
     "execution_count": 108,
     "metadata": {},
     "output_type": "execute_result"
    }
   ],
   "source": [
    "alldogs_nm['norm_name_freq'] = alldogs_nm.apply(lambda x: get_norm_name_freq(x['name']), axis=1)\n",
    "alldogs_nm.head()"
   ]
  },
  {
   "cell_type": "code",
   "execution_count": 62,
   "metadata": {},
   "outputs": [
    {
     "data": {
      "text/plain": [
       "Labrador Retriever    76253\n",
       "Chihuahua             44890\n",
       "Pit Bull Terrier      34560\n",
       "Terrier               29475\n",
       "Shepherd              23530\n",
       "Name: breeds.primary, dtype: int64"
      ]
     },
     "execution_count": 62,
     "metadata": {},
     "output_type": "execute_result"
    }
   ],
   "source": [
    "breedlist = alldogs_nm['breeds.primary'].value_counts()\n",
    "breedlist.head()"
   ]
  },
  {
   "cell_type": "code",
   "execution_count": 63,
   "metadata": {},
   "outputs": [
    {
     "data": {
      "text/plain": [
       "261"
      ]
     },
     "execution_count": 63,
     "metadata": {},
     "output_type": "execute_result"
    }
   ],
   "source": [
    "len(breedlist)"
   ]
  },
  {
   "cell_type": "code",
   "execution_count": 182,
   "metadata": {},
   "outputs": [
    {
     "data": {
      "text/plain": [
       "188"
      ]
     },
     "execution_count": 182,
     "metadata": {},
     "output_type": "execute_result"
    }
   ],
   "source": [
    "(breedlist<=1000).sum()"
   ]
  },
  {
   "cell_type": "code",
   "execution_count": 184,
   "metadata": {},
   "outputs": [
    {
     "data": {
      "text/plain": [
       "35333"
      ]
     },
     "execution_count": 184,
     "metadata": {},
     "output_type": "execute_result"
    }
   ],
   "source": [
    "breedlist[(breedlist>100) & (breedlist<=1000)].sum()"
   ]
  },
  {
   "cell_type": "code",
   "execution_count": 185,
   "metadata": {},
   "outputs": [
    {
     "data": {
      "text/plain": [
       "Flat-Coated Retriever                 1000\n",
       "Akita                                  980\n",
       "Dalmatian                              919\n",
       "Cavalier King Charles Spaniel          895\n",
       "Basenji                                881\n",
       "                                      ... \n",
       "Nova Scotia Duck Tolling Retriever     104\n",
       "Mountain Dog                           104\n",
       "Presa Canario                          103\n",
       "Sheep Dog                              101\n",
       "Blue Lacy                              101\n",
       "Name: breeds.primary, Length: 83, dtype: int64"
      ]
     },
     "execution_count": 185,
     "metadata": {},
     "output_type": "execute_result"
    }
   ],
   "source": [
    "breedlist[(breedlist>100) & (breedlist<=1000)]"
   ]
  },
  {
   "cell_type": "code",
   "execution_count": 64,
   "metadata": {},
   "outputs": [
    {
     "data": {
      "text/plain": [
       "0.0030818459601589447"
      ]
     },
     "execution_count": 64,
     "metadata": {},
     "output_type": "execute_result"
    }
   ],
   "source": [
    "def get_norm_breed_freq(breed):\n",
    "    return breedlist[breed]/breedlist.max()\n",
    "alldogs_nm['breeds.primary'].iloc[0]\n",
    "get_norm_breed_freq(alldogs_nm['breeds.primary'].iloc[0])"
   ]
  },
  {
   "cell_type": "code",
   "execution_count": 65,
   "metadata": {},
   "outputs": [
    {
     "data": {
      "text/html": [
       "<div>\n",
       "<style scoped>\n",
       "    .dataframe tbody tr th:only-of-type {\n",
       "        vertical-align: middle;\n",
       "    }\n",
       "\n",
       "    .dataframe tbody tr th {\n",
       "        vertical-align: top;\n",
       "    }\n",
       "\n",
       "    .dataframe thead th {\n",
       "        text-align: right;\n",
       "    }\n",
       "</style>\n",
       "<table border=\"1\" class=\"dataframe\">\n",
       "  <thead>\n",
       "    <tr style=\"text-align: right;\">\n",
       "      <th></th>\n",
       "      <th>adoption_time</th>\n",
       "      <th>age</th>\n",
       "      <th>attributes.house_trained</th>\n",
       "      <th>attributes.shots_current</th>\n",
       "      <th>attributes.spayed_neutered</th>\n",
       "      <th>attributes.special_needs</th>\n",
       "      <th>breeds.mixed</th>\n",
       "      <th>breeds.primary</th>\n",
       "      <th>breeds.unknown</th>\n",
       "      <th>contact.address.city</th>\n",
       "      <th>...</th>\n",
       "      <th>published_at</th>\n",
       "      <th>size</th>\n",
       "      <th>status</th>\n",
       "      <th>status_changed_at</th>\n",
       "      <th>tags</th>\n",
       "      <th>url</th>\n",
       "      <th>year</th>\n",
       "      <th>log_adpt_time</th>\n",
       "      <th>cg_adpt_time</th>\n",
       "      <th>norm_breed_freq</th>\n",
       "    </tr>\n",
       "  </thead>\n",
       "  <tbody>\n",
       "    <tr>\n",
       "      <th>1</th>\n",
       "      <td>96</td>\n",
       "      <td>Adult</td>\n",
       "      <td>True</td>\n",
       "      <td>True</td>\n",
       "      <td>True</td>\n",
       "      <td>False</td>\n",
       "      <td>False</td>\n",
       "      <td>Japanese Chin</td>\n",
       "      <td>False</td>\n",
       "      <td>Birmingham</td>\n",
       "      <td>...</td>\n",
       "      <td>2016-08-08T19:15:43+0000</td>\n",
       "      <td>Small</td>\n",
       "      <td>adopted</td>\n",
       "      <td>2016-11-13T08:14:08+0000</td>\n",
       "      <td>[]</td>\n",
       "      <td>https://www.petfinder.com/dog/bess-located-in-...</td>\n",
       "      <td>2016</td>\n",
       "      <td>4.575741</td>\n",
       "      <td>&gt; 3 months</td>\n",
       "      <td>0.003082</td>\n",
       "    </tr>\n",
       "    <tr>\n",
       "      <th>2</th>\n",
       "      <td>98</td>\n",
       "      <td>Young</td>\n",
       "      <td>True</td>\n",
       "      <td>True</td>\n",
       "      <td>True</td>\n",
       "      <td>False</td>\n",
       "      <td>True</td>\n",
       "      <td>Scottish Terrier</td>\n",
       "      <td>False</td>\n",
       "      <td>Birmingham</td>\n",
       "      <td>...</td>\n",
       "      <td>2014-10-14T09:20:08+0000</td>\n",
       "      <td>Small</td>\n",
       "      <td>adopted</td>\n",
       "      <td>2015-01-20T17:31:49+0000</td>\n",
       "      <td>[]</td>\n",
       "      <td>https://www.petfinder.com/dog/madonna-30542160...</td>\n",
       "      <td>2015</td>\n",
       "      <td>4.596129</td>\n",
       "      <td>&gt; 3 months</td>\n",
       "      <td>0.006990</td>\n",
       "    </tr>\n",
       "    <tr>\n",
       "      <th>3</th>\n",
       "      <td>32</td>\n",
       "      <td>Adult</td>\n",
       "      <td>True</td>\n",
       "      <td>True</td>\n",
       "      <td>True</td>\n",
       "      <td>False</td>\n",
       "      <td>False</td>\n",
       "      <td>Bullmastiff</td>\n",
       "      <td>False</td>\n",
       "      <td>Birmingham</td>\n",
       "      <td>...</td>\n",
       "      <td>2018-02-21T00:02:35+0000</td>\n",
       "      <td>Extra Large</td>\n",
       "      <td>adopted</td>\n",
       "      <td>2018-03-25T13:18:45+0000</td>\n",
       "      <td>[]</td>\n",
       "      <td>https://www.petfinder.com/dog/al-sweetie-birmi...</td>\n",
       "      <td>2018</td>\n",
       "      <td>3.499533</td>\n",
       "      <td>&lt; 3 months</td>\n",
       "      <td>0.006583</td>\n",
       "    </tr>\n",
       "    <tr>\n",
       "      <th>4</th>\n",
       "      <td>16</td>\n",
       "      <td>Young</td>\n",
       "      <td>True</td>\n",
       "      <td>True</td>\n",
       "      <td>True</td>\n",
       "      <td>False</td>\n",
       "      <td>False</td>\n",
       "      <td>Bullmastiff</td>\n",
       "      <td>False</td>\n",
       "      <td>Birmingham</td>\n",
       "      <td>...</td>\n",
       "      <td>2015-10-26T11:05:40+0000</td>\n",
       "      <td>Large</td>\n",
       "      <td>adopted</td>\n",
       "      <td>2015-11-11T18:28:03+0000</td>\n",
       "      <td>[]</td>\n",
       "      <td>https://www.petfinder.com/dog/al-rosie-prattvi...</td>\n",
       "      <td>2015</td>\n",
       "      <td>2.839078</td>\n",
       "      <td>&lt; 1 month</td>\n",
       "      <td>0.006583</td>\n",
       "    </tr>\n",
       "    <tr>\n",
       "      <th>5</th>\n",
       "      <td>56</td>\n",
       "      <td>Adult</td>\n",
       "      <td>True</td>\n",
       "      <td>True</td>\n",
       "      <td>True</td>\n",
       "      <td>False</td>\n",
       "      <td>False</td>\n",
       "      <td>Bullmastiff</td>\n",
       "      <td>False</td>\n",
       "      <td>Birmingham</td>\n",
       "      <td>...</td>\n",
       "      <td>2016-06-24T16:49:40+0000</td>\n",
       "      <td>Extra Large</td>\n",
       "      <td>adopted</td>\n",
       "      <td>2016-08-20T13:23:19+0000</td>\n",
       "      <td>[]</td>\n",
       "      <td>https://www.petfinder.com/dog/al-tank-montgome...</td>\n",
       "      <td>2016</td>\n",
       "      <td>4.044804</td>\n",
       "      <td>&lt; 3 months</td>\n",
       "      <td>0.006583</td>\n",
       "    </tr>\n",
       "  </tbody>\n",
       "</table>\n",
       "<p>5 rows × 28 columns</p>\n",
       "</div>"
      ],
      "text/plain": [
       "   adoption_time    age  attributes.house_trained  attributes.shots_current  \\\n",
       "1             96  Adult                      True                      True   \n",
       "2             98  Young                      True                      True   \n",
       "3             32  Adult                      True                      True   \n",
       "4             16  Young                      True                      True   \n",
       "5             56  Adult                      True                      True   \n",
       "\n",
       "   attributes.spayed_neutered  attributes.special_needs  breeds.mixed  \\\n",
       "1                        True                     False         False   \n",
       "2                        True                     False          True   \n",
       "3                        True                     False         False   \n",
       "4                        True                     False         False   \n",
       "5                        True                     False         False   \n",
       "\n",
       "     breeds.primary  breeds.unknown contact.address.city  ...  \\\n",
       "1     Japanese Chin           False           Birmingham  ...   \n",
       "2  Scottish Terrier           False           Birmingham  ...   \n",
       "3       Bullmastiff           False           Birmingham  ...   \n",
       "4       Bullmastiff           False           Birmingham  ...   \n",
       "5       Bullmastiff           False           Birmingham  ...   \n",
       "\n",
       "               published_at         size   status         status_changed_at  \\\n",
       "1  2016-08-08T19:15:43+0000        Small  adopted  2016-11-13T08:14:08+0000   \n",
       "2  2014-10-14T09:20:08+0000        Small  adopted  2015-01-20T17:31:49+0000   \n",
       "3  2018-02-21T00:02:35+0000  Extra Large  adopted  2018-03-25T13:18:45+0000   \n",
       "4  2015-10-26T11:05:40+0000        Large  adopted  2015-11-11T18:28:03+0000   \n",
       "5  2016-06-24T16:49:40+0000  Extra Large  adopted  2016-08-20T13:23:19+0000   \n",
       "\n",
       "   tags                                                url  year  \\\n",
       "1    []  https://www.petfinder.com/dog/bess-located-in-...  2016   \n",
       "2    []  https://www.petfinder.com/dog/madonna-30542160...  2015   \n",
       "3    []  https://www.petfinder.com/dog/al-sweetie-birmi...  2018   \n",
       "4    []  https://www.petfinder.com/dog/al-rosie-prattvi...  2015   \n",
       "5    []  https://www.petfinder.com/dog/al-tank-montgome...  2016   \n",
       "\n",
       "  log_adpt_time cg_adpt_time norm_breed_freq  \n",
       "1      4.575741   > 3 months        0.003082  \n",
       "2      4.596129   > 3 months        0.006990  \n",
       "3      3.499533   < 3 months        0.006583  \n",
       "4      2.839078    < 1 month        0.006583  \n",
       "5      4.044804   < 3 months        0.006583  \n",
       "\n",
       "[5 rows x 28 columns]"
      ]
     },
     "execution_count": 65,
     "metadata": {},
     "output_type": "execute_result"
    }
   ],
   "source": [
    "alldogs_nm['norm_breed_freq'] = alldogs_nm.apply(lambda x: get_norm_breed_freq(x['breeds.primary']), axis=1)\n",
    "alldogs_nm.head()"
   ]
  },
  {
   "cell_type": "code",
   "execution_count": null,
   "metadata": {},
   "outputs": [],
   "source": []
  },
  {
   "cell_type": "code",
   "execution_count": 66,
   "metadata": {},
   "outputs": [
    {
     "data": {
      "text/plain": [
       "count    604745.000000\n",
       "mean          0.302959\n",
       "std           0.311070\n",
       "min           0.000013\n",
       "25%           0.065506\n",
       "50%           0.190484\n",
       "75%           0.453228\n",
       "max           1.000000\n",
       "Name: norm_breed_freq, dtype: float64"
      ]
     },
     "execution_count": 66,
     "metadata": {},
     "output_type": "execute_result"
    }
   ],
   "source": [
    "alldogs_nm['norm_breed_freq'].describe()"
   ]
  },
  {
   "cell_type": "code",
   "execution_count": null,
   "metadata": {},
   "outputs": [],
   "source": []
  },
  {
   "cell_type": "code",
   "execution_count": 113,
   "metadata": {},
   "outputs": [
    {
     "data": {
      "text/plain": [
       "0           High\n",
       "1           High\n",
       "2           High\n",
       "3         Medium\n",
       "4           High\n",
       "           ...  \n",
       "184384      High\n",
       "184385      High\n",
       "184386    Medium\n",
       "184387       Low\n",
       "184388    Medium\n",
       "Name: norm_name_freq, Length: 90628, dtype: category\n",
       "Categories (3, object): [Low < Medium < High]"
      ]
     },
     "execution_count": 113,
     "metadata": {},
     "output_type": "execute_result"
    }
   ],
   "source": [
    "pd.qcut(alldogs_nm['norm_name_freq'], q=[0, 0.33, 0.67, 1], labels = ['Low', 'Medium', 'High'])"
   ]
  },
  {
   "cell_type": "code",
   "execution_count": 114,
   "metadata": {},
   "outputs": [],
   "source": [
    "alldogs_nm['name_pop'] = pd.qcut(alldogs_nm['norm_name_freq'], q=[0, 0.33, 0.67, 1], labels = ['Low', 'Medium', 'High'])"
   ]
  },
  {
   "cell_type": "code",
   "execution_count": 115,
   "metadata": {},
   "outputs": [
    {
     "data": {
      "text/plain": [
       "Low       33137\n",
       "High      29506\n",
       "Medium    27985\n",
       "Name: name_pop, dtype: int64"
      ]
     },
     "execution_count": 115,
     "metadata": {},
     "output_type": "execute_result"
    }
   ],
   "source": [
    "alldogs_nm['name_pop'].value_counts()"
   ]
  },
  {
   "cell_type": "code",
   "execution_count": 67,
   "metadata": {},
   "outputs": [
    {
     "data": {
      "text/plain": [
       "Medium    218555\n",
       "Low       201012\n",
       "High      185178\n",
       "Name: breed_pop, dtype: int64"
      ]
     },
     "execution_count": 67,
     "metadata": {},
     "output_type": "execute_result"
    }
   ],
   "source": [
    "alldogs_nm['breed_pop'] = pd.qcut(alldogs_nm['norm_breed_freq'], q=[0, 0.33, 0.67, 1], labels = ['Low', 'Medium', 'High'])\n",
    "alldogs_nm['breed_pop'].value_counts()"
   ]
  },
  {
   "cell_type": "code",
   "execution_count": 68,
   "metadata": {},
   "outputs": [
    {
     "data": {
      "text/plain": [
       "breed_pop\n",
       "Medium    43.215964\n",
       "High      48.717682\n",
       "Low       49.375828\n",
       "Name: adoption_time, dtype: float64"
      ]
     },
     "execution_count": 68,
     "metadata": {},
     "output_type": "execute_result"
    }
   ],
   "source": [
    "alldogs_nm.groupby('breed_pop')['adoption_time'].mean().sort_values()"
   ]
  },
  {
   "cell_type": "code",
   "execution_count": 191,
   "metadata": {},
   "outputs": [
    {
     "ename": "KeyError",
     "evalue": "'name_pop'",
     "output_type": "error",
     "traceback": [
      "\u001b[1;31m---------------------------------------------------------------------------\u001b[0m",
      "\u001b[1;31mKeyError\u001b[0m                                  Traceback (most recent call last)",
      "\u001b[1;32m<ipython-input-191-6d44e5247ce1>\u001b[0m in \u001b[0;36m<module>\u001b[1;34m\u001b[0m\n\u001b[1;32m----> 1\u001b[1;33m \u001b[0malldogs_nm\u001b[0m\u001b[1;33m.\u001b[0m\u001b[0mgroupby\u001b[0m\u001b[1;33m(\u001b[0m\u001b[1;34m'name_pop'\u001b[0m\u001b[1;33m)\u001b[0m\u001b[1;33m[\u001b[0m\u001b[1;34m'adoption_time'\u001b[0m\u001b[1;33m]\u001b[0m\u001b[1;33m.\u001b[0m\u001b[0mmean\u001b[0m\u001b[1;33m(\u001b[0m\u001b[1;33m)\u001b[0m\u001b[1;33m.\u001b[0m\u001b[0msort_values\u001b[0m\u001b[1;33m(\u001b[0m\u001b[1;33m)\u001b[0m\u001b[1;33m\u001b[0m\u001b[1;33m\u001b[0m\u001b[0m\n\u001b[0m",
      "\u001b[1;32mC:\\anaconda_python\\envs\\Insight\\lib\\site-packages\\pandas\\core\\generic.py\u001b[0m in \u001b[0;36mgroupby\u001b[1;34m(self, by, axis, level, as_index, sort, group_keys, squeeze, observed, **kwargs)\u001b[0m\n\u001b[0;32m   7892\u001b[0m             \u001b[0msqueeze\u001b[0m\u001b[1;33m=\u001b[0m\u001b[0msqueeze\u001b[0m\u001b[1;33m,\u001b[0m\u001b[1;33m\u001b[0m\u001b[1;33m\u001b[0m\u001b[0m\n\u001b[0;32m   7893\u001b[0m             \u001b[0mobserved\u001b[0m\u001b[1;33m=\u001b[0m\u001b[0mobserved\u001b[0m\u001b[1;33m,\u001b[0m\u001b[1;33m\u001b[0m\u001b[1;33m\u001b[0m\u001b[0m\n\u001b[1;32m-> 7894\u001b[1;33m             \u001b[1;33m**\u001b[0m\u001b[0mkwargs\u001b[0m\u001b[1;33m\u001b[0m\u001b[1;33m\u001b[0m\u001b[0m\n\u001b[0m\u001b[0;32m   7895\u001b[0m         )\n\u001b[0;32m   7896\u001b[0m \u001b[1;33m\u001b[0m\u001b[0m\n",
      "\u001b[1;32mC:\\anaconda_python\\envs\\Insight\\lib\\site-packages\\pandas\\core\\groupby\\groupby.py\u001b[0m in \u001b[0;36mgroupby\u001b[1;34m(obj, by, **kwds)\u001b[0m\n\u001b[0;32m   2520\u001b[0m         \u001b[1;32mraise\u001b[0m \u001b[0mTypeError\u001b[0m\u001b[1;33m(\u001b[0m\u001b[1;34m\"invalid type: {}\"\u001b[0m\u001b[1;33m.\u001b[0m\u001b[0mformat\u001b[0m\u001b[1;33m(\u001b[0m\u001b[0mobj\u001b[0m\u001b[1;33m)\u001b[0m\u001b[1;33m)\u001b[0m\u001b[1;33m\u001b[0m\u001b[1;33m\u001b[0m\u001b[0m\n\u001b[0;32m   2521\u001b[0m \u001b[1;33m\u001b[0m\u001b[0m\n\u001b[1;32m-> 2522\u001b[1;33m     \u001b[1;32mreturn\u001b[0m \u001b[0mklass\u001b[0m\u001b[1;33m(\u001b[0m\u001b[0mobj\u001b[0m\u001b[1;33m,\u001b[0m \u001b[0mby\u001b[0m\u001b[1;33m,\u001b[0m \u001b[1;33m**\u001b[0m\u001b[0mkwds\u001b[0m\u001b[1;33m)\u001b[0m\u001b[1;33m\u001b[0m\u001b[1;33m\u001b[0m\u001b[0m\n\u001b[0m",
      "\u001b[1;32mC:\\anaconda_python\\envs\\Insight\\lib\\site-packages\\pandas\\core\\groupby\\groupby.py\u001b[0m in \u001b[0;36m__init__\u001b[1;34m(self, obj, keys, axis, level, grouper, exclusions, selection, as_index, sort, group_keys, squeeze, observed, **kwargs)\u001b[0m\n\u001b[0;32m    389\u001b[0m                 \u001b[0msort\u001b[0m\u001b[1;33m=\u001b[0m\u001b[0msort\u001b[0m\u001b[1;33m,\u001b[0m\u001b[1;33m\u001b[0m\u001b[1;33m\u001b[0m\u001b[0m\n\u001b[0;32m    390\u001b[0m                 \u001b[0mobserved\u001b[0m\u001b[1;33m=\u001b[0m\u001b[0mobserved\u001b[0m\u001b[1;33m,\u001b[0m\u001b[1;33m\u001b[0m\u001b[1;33m\u001b[0m\u001b[0m\n\u001b[1;32m--> 391\u001b[1;33m                 \u001b[0mmutated\u001b[0m\u001b[1;33m=\u001b[0m\u001b[0mself\u001b[0m\u001b[1;33m.\u001b[0m\u001b[0mmutated\u001b[0m\u001b[1;33m,\u001b[0m\u001b[1;33m\u001b[0m\u001b[1;33m\u001b[0m\u001b[0m\n\u001b[0m\u001b[0;32m    392\u001b[0m             )\n\u001b[0;32m    393\u001b[0m \u001b[1;33m\u001b[0m\u001b[0m\n",
      "\u001b[1;32mC:\\anaconda_python\\envs\\Insight\\lib\\site-packages\\pandas\\core\\groupby\\grouper.py\u001b[0m in \u001b[0;36m_get_grouper\u001b[1;34m(obj, key, axis, level, sort, observed, mutated, validate)\u001b[0m\n\u001b[0;32m    619\u001b[0m                 \u001b[0min_axis\u001b[0m\u001b[1;33m,\u001b[0m \u001b[0mname\u001b[0m\u001b[1;33m,\u001b[0m \u001b[0mlevel\u001b[0m\u001b[1;33m,\u001b[0m \u001b[0mgpr\u001b[0m \u001b[1;33m=\u001b[0m \u001b[1;32mFalse\u001b[0m\u001b[1;33m,\u001b[0m \u001b[1;32mNone\u001b[0m\u001b[1;33m,\u001b[0m \u001b[0mgpr\u001b[0m\u001b[1;33m,\u001b[0m \u001b[1;32mNone\u001b[0m\u001b[1;33m\u001b[0m\u001b[1;33m\u001b[0m\u001b[0m\n\u001b[0;32m    620\u001b[0m             \u001b[1;32melse\u001b[0m\u001b[1;33m:\u001b[0m\u001b[1;33m\u001b[0m\u001b[1;33m\u001b[0m\u001b[0m\n\u001b[1;32m--> 621\u001b[1;33m                 \u001b[1;32mraise\u001b[0m \u001b[0mKeyError\u001b[0m\u001b[1;33m(\u001b[0m\u001b[0mgpr\u001b[0m\u001b[1;33m)\u001b[0m\u001b[1;33m\u001b[0m\u001b[1;33m\u001b[0m\u001b[0m\n\u001b[0m\u001b[0;32m    622\u001b[0m         \u001b[1;32melif\u001b[0m \u001b[0misinstance\u001b[0m\u001b[1;33m(\u001b[0m\u001b[0mgpr\u001b[0m\u001b[1;33m,\u001b[0m \u001b[0mGrouper\u001b[0m\u001b[1;33m)\u001b[0m \u001b[1;32mand\u001b[0m \u001b[0mgpr\u001b[0m\u001b[1;33m.\u001b[0m\u001b[0mkey\u001b[0m \u001b[1;32mis\u001b[0m \u001b[1;32mnot\u001b[0m \u001b[1;32mNone\u001b[0m\u001b[1;33m:\u001b[0m\u001b[1;33m\u001b[0m\u001b[1;33m\u001b[0m\u001b[0m\n\u001b[0;32m    623\u001b[0m             \u001b[1;31m# Add key to exclusions\u001b[0m\u001b[1;33m\u001b[0m\u001b[1;33m\u001b[0m\u001b[1;33m\u001b[0m\u001b[0m\n",
      "\u001b[1;31mKeyError\u001b[0m: 'name_pop'"
     ]
    }
   ],
   "source": [
    "alldogs_nm.groupby('name_pop')['adoption_time'].mean().sort_values()"
   ]
  },
  {
   "cell_type": "code",
   "execution_count": 69,
   "metadata": {},
   "outputs": [
    {
     "data": {
      "text/html": [
       "<div>\n",
       "<style scoped>\n",
       "    .dataframe tbody tr th:only-of-type {\n",
       "        vertical-align: middle;\n",
       "    }\n",
       "\n",
       "    .dataframe tbody tr th {\n",
       "        vertical-align: top;\n",
       "    }\n",
       "\n",
       "    .dataframe thead th {\n",
       "        text-align: right;\n",
       "    }\n",
       "</style>\n",
       "<table border=\"1\" class=\"dataframe\">\n",
       "  <thead>\n",
       "    <tr style=\"text-align: right;\">\n",
       "      <th></th>\n",
       "      <th>adoption_time</th>\n",
       "      <th>age</th>\n",
       "      <th>attributes.house_trained</th>\n",
       "      <th>attributes.shots_current</th>\n",
       "      <th>attributes.spayed_neutered</th>\n",
       "      <th>attributes.special_needs</th>\n",
       "      <th>breeds.mixed</th>\n",
       "      <th>breeds.primary</th>\n",
       "      <th>breeds.unknown</th>\n",
       "      <th>contact.address.city</th>\n",
       "      <th>...</th>\n",
       "      <th>size</th>\n",
       "      <th>status</th>\n",
       "      <th>status_changed_at</th>\n",
       "      <th>tags</th>\n",
       "      <th>url</th>\n",
       "      <th>year</th>\n",
       "      <th>log_adpt_time</th>\n",
       "      <th>cg_adpt_time</th>\n",
       "      <th>norm_breed_freq</th>\n",
       "      <th>breed_pop</th>\n",
       "    </tr>\n",
       "  </thead>\n",
       "  <tbody>\n",
       "    <tr>\n",
       "      <th>1</th>\n",
       "      <td>96</td>\n",
       "      <td>Adult</td>\n",
       "      <td>True</td>\n",
       "      <td>True</td>\n",
       "      <td>True</td>\n",
       "      <td>False</td>\n",
       "      <td>False</td>\n",
       "      <td>Japanese Chin</td>\n",
       "      <td>False</td>\n",
       "      <td>Birmingham</td>\n",
       "      <td>...</td>\n",
       "      <td>Small</td>\n",
       "      <td>adopted</td>\n",
       "      <td>2016-11-13T08:14:08+0000</td>\n",
       "      <td>[]</td>\n",
       "      <td>https://www.petfinder.com/dog/bess-located-in-...</td>\n",
       "      <td>2016</td>\n",
       "      <td>4.575741</td>\n",
       "      <td>&gt; 3 months</td>\n",
       "      <td>0.003082</td>\n",
       "      <td>Low</td>\n",
       "    </tr>\n",
       "    <tr>\n",
       "      <th>2</th>\n",
       "      <td>98</td>\n",
       "      <td>Young</td>\n",
       "      <td>True</td>\n",
       "      <td>True</td>\n",
       "      <td>True</td>\n",
       "      <td>False</td>\n",
       "      <td>True</td>\n",
       "      <td>Scottish Terrier</td>\n",
       "      <td>False</td>\n",
       "      <td>Birmingham</td>\n",
       "      <td>...</td>\n",
       "      <td>Small</td>\n",
       "      <td>adopted</td>\n",
       "      <td>2015-01-20T17:31:49+0000</td>\n",
       "      <td>[]</td>\n",
       "      <td>https://www.petfinder.com/dog/madonna-30542160...</td>\n",
       "      <td>2015</td>\n",
       "      <td>4.596129</td>\n",
       "      <td>&gt; 3 months</td>\n",
       "      <td>0.006990</td>\n",
       "      <td>Low</td>\n",
       "    </tr>\n",
       "    <tr>\n",
       "      <th>3</th>\n",
       "      <td>32</td>\n",
       "      <td>Adult</td>\n",
       "      <td>True</td>\n",
       "      <td>True</td>\n",
       "      <td>True</td>\n",
       "      <td>False</td>\n",
       "      <td>False</td>\n",
       "      <td>Bullmastiff</td>\n",
       "      <td>False</td>\n",
       "      <td>Birmingham</td>\n",
       "      <td>...</td>\n",
       "      <td>Extra Large</td>\n",
       "      <td>adopted</td>\n",
       "      <td>2018-03-25T13:18:45+0000</td>\n",
       "      <td>[]</td>\n",
       "      <td>https://www.petfinder.com/dog/al-sweetie-birmi...</td>\n",
       "      <td>2018</td>\n",
       "      <td>3.499533</td>\n",
       "      <td>&lt; 3 months</td>\n",
       "      <td>0.006583</td>\n",
       "      <td>Low</td>\n",
       "    </tr>\n",
       "    <tr>\n",
       "      <th>4</th>\n",
       "      <td>16</td>\n",
       "      <td>Young</td>\n",
       "      <td>True</td>\n",
       "      <td>True</td>\n",
       "      <td>True</td>\n",
       "      <td>False</td>\n",
       "      <td>False</td>\n",
       "      <td>Bullmastiff</td>\n",
       "      <td>False</td>\n",
       "      <td>Birmingham</td>\n",
       "      <td>...</td>\n",
       "      <td>Large</td>\n",
       "      <td>adopted</td>\n",
       "      <td>2015-11-11T18:28:03+0000</td>\n",
       "      <td>[]</td>\n",
       "      <td>https://www.petfinder.com/dog/al-rosie-prattvi...</td>\n",
       "      <td>2015</td>\n",
       "      <td>2.839078</td>\n",
       "      <td>&lt; 1 month</td>\n",
       "      <td>0.006583</td>\n",
       "      <td>Low</td>\n",
       "    </tr>\n",
       "    <tr>\n",
       "      <th>5</th>\n",
       "      <td>56</td>\n",
       "      <td>Adult</td>\n",
       "      <td>True</td>\n",
       "      <td>True</td>\n",
       "      <td>True</td>\n",
       "      <td>False</td>\n",
       "      <td>False</td>\n",
       "      <td>Bullmastiff</td>\n",
       "      <td>False</td>\n",
       "      <td>Birmingham</td>\n",
       "      <td>...</td>\n",
       "      <td>Extra Large</td>\n",
       "      <td>adopted</td>\n",
       "      <td>2016-08-20T13:23:19+0000</td>\n",
       "      <td>[]</td>\n",
       "      <td>https://www.petfinder.com/dog/al-tank-montgome...</td>\n",
       "      <td>2016</td>\n",
       "      <td>4.044804</td>\n",
       "      <td>&lt; 3 months</td>\n",
       "      <td>0.006583</td>\n",
       "      <td>Low</td>\n",
       "    </tr>\n",
       "  </tbody>\n",
       "</table>\n",
       "<p>5 rows × 29 columns</p>\n",
       "</div>"
      ],
      "text/plain": [
       "   adoption_time    age  attributes.house_trained  attributes.shots_current  \\\n",
       "1             96  Adult                      True                      True   \n",
       "2             98  Young                      True                      True   \n",
       "3             32  Adult                      True                      True   \n",
       "4             16  Young                      True                      True   \n",
       "5             56  Adult                      True                      True   \n",
       "\n",
       "   attributes.spayed_neutered  attributes.special_needs  breeds.mixed  \\\n",
       "1                        True                     False         False   \n",
       "2                        True                     False          True   \n",
       "3                        True                     False         False   \n",
       "4                        True                     False         False   \n",
       "5                        True                     False         False   \n",
       "\n",
       "     breeds.primary  breeds.unknown contact.address.city  ...         size  \\\n",
       "1     Japanese Chin           False           Birmingham  ...        Small   \n",
       "2  Scottish Terrier           False           Birmingham  ...        Small   \n",
       "3       Bullmastiff           False           Birmingham  ...  Extra Large   \n",
       "4       Bullmastiff           False           Birmingham  ...        Large   \n",
       "5       Bullmastiff           False           Birmingham  ...  Extra Large   \n",
       "\n",
       "    status         status_changed_at tags  \\\n",
       "1  adopted  2016-11-13T08:14:08+0000   []   \n",
       "2  adopted  2015-01-20T17:31:49+0000   []   \n",
       "3  adopted  2018-03-25T13:18:45+0000   []   \n",
       "4  adopted  2015-11-11T18:28:03+0000   []   \n",
       "5  adopted  2016-08-20T13:23:19+0000   []   \n",
       "\n",
       "                                                 url  year log_adpt_time  \\\n",
       "1  https://www.petfinder.com/dog/bess-located-in-...  2016      4.575741   \n",
       "2  https://www.petfinder.com/dog/madonna-30542160...  2015      4.596129   \n",
       "3  https://www.petfinder.com/dog/al-sweetie-birmi...  2018      3.499533   \n",
       "4  https://www.petfinder.com/dog/al-rosie-prattvi...  2015      2.839078   \n",
       "5  https://www.petfinder.com/dog/al-tank-montgome...  2016      4.044804   \n",
       "\n",
       "  cg_adpt_time norm_breed_freq breed_pop  \n",
       "1   > 3 months        0.003082       Low  \n",
       "2   > 3 months        0.006990       Low  \n",
       "3   < 3 months        0.006583       Low  \n",
       "4    < 1 month        0.006583       Low  \n",
       "5   < 3 months        0.006583       Low  \n",
       "\n",
       "[5 rows x 29 columns]"
      ]
     },
     "execution_count": 69,
     "metadata": {},
     "output_type": "execute_result"
    }
   ],
   "source": [
    "alldogs_nm.head()"
   ]
  },
  {
   "cell_type": "code",
   "execution_count": 70,
   "metadata": {},
   "outputs": [
    {
     "data": {
      "text/html": [
       "<div>\n",
       "<style scoped>\n",
       "    .dataframe tbody tr th:only-of-type {\n",
       "        vertical-align: middle;\n",
       "    }\n",
       "\n",
       "    .dataframe tbody tr th {\n",
       "        vertical-align: top;\n",
       "    }\n",
       "\n",
       "    .dataframe thead th {\n",
       "        text-align: right;\n",
       "    }\n",
       "</style>\n",
       "<table border=\"1\" class=\"dataframe\">\n",
       "  <thead>\n",
       "    <tr style=\"text-align: right;\">\n",
       "      <th></th>\n",
       "      <th>breeds.primary</th>\n",
       "      <th>breed_pop</th>\n",
       "      <th>norm_breed_freq</th>\n",
       "    </tr>\n",
       "  </thead>\n",
       "  <tbody>\n",
       "    <tr>\n",
       "      <th>1</th>\n",
       "      <td>Japanese Chin</td>\n",
       "      <td>Low</td>\n",
       "      <td>0.003082</td>\n",
       "    </tr>\n",
       "    <tr>\n",
       "      <th>2</th>\n",
       "      <td>Scottish Terrier</td>\n",
       "      <td>Low</td>\n",
       "      <td>0.006990</td>\n",
       "    </tr>\n",
       "    <tr>\n",
       "      <th>3</th>\n",
       "      <td>Bullmastiff</td>\n",
       "      <td>Low</td>\n",
       "      <td>0.006583</td>\n",
       "    </tr>\n",
       "    <tr>\n",
       "      <th>4</th>\n",
       "      <td>Bullmastiff</td>\n",
       "      <td>Low</td>\n",
       "      <td>0.006583</td>\n",
       "    </tr>\n",
       "    <tr>\n",
       "      <th>5</th>\n",
       "      <td>Bullmastiff</td>\n",
       "      <td>Low</td>\n",
       "      <td>0.006583</td>\n",
       "    </tr>\n",
       "  </tbody>\n",
       "</table>\n",
       "</div>"
      ],
      "text/plain": [
       "     breeds.primary breed_pop  norm_breed_freq\n",
       "1     Japanese Chin       Low         0.003082\n",
       "2  Scottish Terrier       Low         0.006990\n",
       "3       Bullmastiff       Low         0.006583\n",
       "4       Bullmastiff       Low         0.006583\n",
       "5       Bullmastiff       Low         0.006583"
      ]
     },
     "execution_count": 70,
     "metadata": {},
     "output_type": "execute_result"
    }
   ],
   "source": [
    "breedsdf = alldogs_nm.loc[:,['breeds.primary','breed_pop', 'norm_breed_freq']]\n",
    "breedsdf.head()"
   ]
  },
  {
   "cell_type": "code",
   "execution_count": 71,
   "metadata": {},
   "outputs": [],
   "source": [
    "breedsdf = breedsdf.drop_duplicates()"
   ]
  },
  {
   "cell_type": "code",
   "execution_count": null,
   "metadata": {},
   "outputs": [],
   "source": []
  },
  {
   "cell_type": "code",
   "execution_count": null,
   "metadata": {},
   "outputs": [],
   "source": []
  },
  {
   "cell_type": "code",
   "execution_count": 195,
   "metadata": {},
   "outputs": [],
   "source": []
  },
  {
   "cell_type": "code",
   "execution_count": 72,
   "metadata": {},
   "outputs": [],
   "source": [
    "# with <1000 occurences\n",
    "alldogs_nm.loc[alldogs_nm['norm_breed_freq'] <= 0.015, 'breeds.primary'] = 'Rare'"
   ]
  },
  {
   "cell_type": "code",
   "execution_count": 73,
   "metadata": {},
   "outputs": [],
   "source": [
    "# with <100 occurences\n",
    "alldogs_nm.loc[alldogs_nm['norm_breed_freq'] <= 0.0015, 'breeds.primary'] = 'Very Rare'"
   ]
  },
  {
   "cell_type": "code",
   "execution_count": 74,
   "metadata": {},
   "outputs": [],
   "source": [
    "def conv_breed(breed, freq):\n",
    "    if freq<=0.0015:\n",
    "        return 'Very Rare'\n",
    "    elif freq<=0.015:\n",
    "        return 'Rare'\n",
    "    else:\n",
    "        return breed"
   ]
  },
  {
   "cell_type": "code",
   "execution_count": 75,
   "metadata": {},
   "outputs": [
    {
     "data": {
      "text/html": [
       "<div>\n",
       "<style scoped>\n",
       "    .dataframe tbody tr th:only-of-type {\n",
       "        vertical-align: middle;\n",
       "    }\n",
       "\n",
       "    .dataframe tbody tr th {\n",
       "        vertical-align: top;\n",
       "    }\n",
       "\n",
       "    .dataframe thead th {\n",
       "        text-align: right;\n",
       "    }\n",
       "</style>\n",
       "<table border=\"1\" class=\"dataframe\">\n",
       "  <thead>\n",
       "    <tr style=\"text-align: right;\">\n",
       "      <th></th>\n",
       "      <th>breeds.primary</th>\n",
       "      <th>breed_pop</th>\n",
       "      <th>norm_breed_freq</th>\n",
       "    </tr>\n",
       "  </thead>\n",
       "  <tbody>\n",
       "    <tr>\n",
       "      <th>1</th>\n",
       "      <td>Japanese Chin</td>\n",
       "      <td>Low</td>\n",
       "      <td>0.003082</td>\n",
       "    </tr>\n",
       "    <tr>\n",
       "      <th>2</th>\n",
       "      <td>Scottish Terrier</td>\n",
       "      <td>Low</td>\n",
       "      <td>0.006990</td>\n",
       "    </tr>\n",
       "    <tr>\n",
       "      <th>3</th>\n",
       "      <td>Bullmastiff</td>\n",
       "      <td>Low</td>\n",
       "      <td>0.006583</td>\n",
       "    </tr>\n",
       "    <tr>\n",
       "      <th>129</th>\n",
       "      <td>Golden Retriever</td>\n",
       "      <td>Low</td>\n",
       "      <td>0.081020</td>\n",
       "    </tr>\n",
       "    <tr>\n",
       "      <th>283</th>\n",
       "      <td>Flat-Coated Retriever</td>\n",
       "      <td>Low</td>\n",
       "      <td>0.013114</td>\n",
       "    </tr>\n",
       "  </tbody>\n",
       "</table>\n",
       "</div>"
      ],
      "text/plain": [
       "            breeds.primary breed_pop  norm_breed_freq\n",
       "1            Japanese Chin       Low         0.003082\n",
       "2         Scottish Terrier       Low         0.006990\n",
       "3              Bullmastiff       Low         0.006583\n",
       "129       Golden Retriever       Low         0.081020\n",
       "283  Flat-Coated Retriever       Low         0.013114"
      ]
     },
     "execution_count": 75,
     "metadata": {},
     "output_type": "execute_result"
    }
   ],
   "source": [
    "breedsdf.head()"
   ]
  },
  {
   "cell_type": "code",
   "execution_count": 76,
   "metadata": {},
   "outputs": [],
   "source": [
    "breedsdf['breedconv'] = breedsdf.apply(lambda x: conv_breed(x['breeds.primary'], x['norm_breed_freq']), axis=1)"
   ]
  },
  {
   "cell_type": "code",
   "execution_count": 77,
   "metadata": {},
   "outputs": [
    {
     "data": {
      "text/html": [
       "<div>\n",
       "<style scoped>\n",
       "    .dataframe tbody tr th:only-of-type {\n",
       "        vertical-align: middle;\n",
       "    }\n",
       "\n",
       "    .dataframe tbody tr th {\n",
       "        vertical-align: top;\n",
       "    }\n",
       "\n",
       "    .dataframe thead th {\n",
       "        text-align: right;\n",
       "    }\n",
       "</style>\n",
       "<table border=\"1\" class=\"dataframe\">\n",
       "  <thead>\n",
       "    <tr style=\"text-align: right;\">\n",
       "      <th></th>\n",
       "      <th>breeds.primary</th>\n",
       "      <th>breed_pop</th>\n",
       "      <th>norm_breed_freq</th>\n",
       "      <th>breedconv</th>\n",
       "    </tr>\n",
       "  </thead>\n",
       "  <tbody>\n",
       "    <tr>\n",
       "      <th>1</th>\n",
       "      <td>Japanese Chin</td>\n",
       "      <td>Low</td>\n",
       "      <td>0.003082</td>\n",
       "      <td>Rare</td>\n",
       "    </tr>\n",
       "    <tr>\n",
       "      <th>2</th>\n",
       "      <td>Scottish Terrier</td>\n",
       "      <td>Low</td>\n",
       "      <td>0.006990</td>\n",
       "      <td>Rare</td>\n",
       "    </tr>\n",
       "    <tr>\n",
       "      <th>3</th>\n",
       "      <td>Bullmastiff</td>\n",
       "      <td>Low</td>\n",
       "      <td>0.006583</td>\n",
       "      <td>Rare</td>\n",
       "    </tr>\n",
       "    <tr>\n",
       "      <th>129</th>\n",
       "      <td>Golden Retriever</td>\n",
       "      <td>Low</td>\n",
       "      <td>0.081020</td>\n",
       "      <td>Golden Retriever</td>\n",
       "    </tr>\n",
       "    <tr>\n",
       "      <th>283</th>\n",
       "      <td>Flat-Coated Retriever</td>\n",
       "      <td>Low</td>\n",
       "      <td>0.013114</td>\n",
       "      <td>Rare</td>\n",
       "    </tr>\n",
       "    <tr>\n",
       "      <th>...</th>\n",
       "      <td>...</td>\n",
       "      <td>...</td>\n",
       "      <td>...</td>\n",
       "      <td>...</td>\n",
       "    </tr>\n",
       "    <tr>\n",
       "      <th>804873</th>\n",
       "      <td>Aussiedoodle</td>\n",
       "      <td>Low</td>\n",
       "      <td>0.000013</td>\n",
       "      <td>Very Rare</td>\n",
       "    </tr>\n",
       "    <tr>\n",
       "      <th>1049037</th>\n",
       "      <td>Shih poo</td>\n",
       "      <td>Low</td>\n",
       "      <td>0.000013</td>\n",
       "      <td>Very Rare</td>\n",
       "    </tr>\n",
       "    <tr>\n",
       "      <th>1143590</th>\n",
       "      <td>Sheepadoodle</td>\n",
       "      <td>Low</td>\n",
       "      <td>0.000013</td>\n",
       "      <td>Very Rare</td>\n",
       "    </tr>\n",
       "    <tr>\n",
       "      <th>1232167</th>\n",
       "      <td>South Russian Ovtcharka</td>\n",
       "      <td>Low</td>\n",
       "      <td>0.000013</td>\n",
       "      <td>Very Rare</td>\n",
       "    </tr>\n",
       "    <tr>\n",
       "      <th>1350669</th>\n",
       "      <td>Kishu</td>\n",
       "      <td>Low</td>\n",
       "      <td>0.000013</td>\n",
       "      <td>Very Rare</td>\n",
       "    </tr>\n",
       "  </tbody>\n",
       "</table>\n",
       "<p>261 rows × 4 columns</p>\n",
       "</div>"
      ],
      "text/plain": [
       "                  breeds.primary breed_pop  norm_breed_freq         breedconv\n",
       "1                  Japanese Chin       Low         0.003082              Rare\n",
       "2               Scottish Terrier       Low         0.006990              Rare\n",
       "3                    Bullmastiff       Low         0.006583              Rare\n",
       "129             Golden Retriever       Low         0.081020  Golden Retriever\n",
       "283        Flat-Coated Retriever       Low         0.013114              Rare\n",
       "...                          ...       ...              ...               ...\n",
       "804873              Aussiedoodle       Low         0.000013         Very Rare\n",
       "1049037                 Shih poo       Low         0.000013         Very Rare\n",
       "1143590             Sheepadoodle       Low         0.000013         Very Rare\n",
       "1232167  South Russian Ovtcharka       Low         0.000013         Very Rare\n",
       "1350669                    Kishu       Low         0.000013         Very Rare\n",
       "\n",
       "[261 rows x 4 columns]"
      ]
     },
     "execution_count": 77,
     "metadata": {},
     "output_type": "execute_result"
    }
   ],
   "source": [
    "breedsdf"
   ]
  },
  {
   "cell_type": "code",
   "execution_count": 43,
   "metadata": {},
   "outputs": [],
   "source": [
    "breedsdf.to_csv('breedlist_all_a4.csv', header=True, index=False)"
   ]
  },
  {
   "cell_type": "code",
   "execution_count": 78,
   "metadata": {},
   "outputs": [
    {
     "data": {
      "text/plain": [
       "Labrador Retriever                      76253\n",
       "Chihuahua                               44890\n",
       "Rare                                    39950\n",
       "Pit Bull Terrier                        34560\n",
       "Terrier                                 29475\n",
       "                                        ...  \n",
       "Black Mouth Cur                          1350\n",
       "West Highland White Terrier / Westie     1297\n",
       "German Shorthaired Pointer               1249\n",
       "Weimaraner                               1238\n",
       "Bull Terrier                             1213\n",
       "Name: breeds.primary, Length: 70, dtype: int64"
      ]
     },
     "execution_count": 78,
     "metadata": {},
     "output_type": "execute_result"
    }
   ],
   "source": [
    "alldogs_nm['breeds.primary'].value_counts()"
   ]
  },
  {
   "cell_type": "code",
   "execution_count": 79,
   "metadata": {},
   "outputs": [],
   "source": [
    "# replace less occurring states (<5000) with Other\n",
    "alldogs_nm.loc[(alldogs_nm['contact.address.state'] == 'CT') | (alldogs_nm['contact.address.state'] == 'UT')\n",
    "               | (alldogs_nm['contact.address.state'] == 'KS') | (alldogs_nm['contact.address.state'] == 'MO')\n",
    "                  | (alldogs_nm['contact.address.state'] == 'MS') | (alldogs_nm['contact.address.state'] == 'MT')\n",
    "                    | (alldogs_nm['contact.address.state'] == 'WV') | (alldogs_nm['contact.address.state'] == 'WY')\n",
    "                        | (alldogs_nm['contact.address.state'] == 'DE') | (alldogs_nm['contact.address.state'] == 'ND')\n",
    "                            | (alldogs_nm['contact.address.state'] == 'SD') | (alldogs_nm['contact.address.state'] == 'AK'),\n",
    "                'contact.address.state'] = 'Other'"
   ]
  },
  {
   "cell_type": "code",
   "execution_count": 80,
   "metadata": {},
   "outputs": [
    {
     "data": {
      "image/png": "[encoded data removed]",
      "text/plain": [
       "<Figure size 360x360 with 1 Axes>"
      ]
     },
     "metadata": {
      "needs_background": "light"
     },
     "output_type": "display_data"
    }
   ],
   "source": [
    "sns.catplot(x=\"size\", kind=\"count\", palette=\"ch:.25\", data=alldogs_nm);"
   ]
  },
  {
   "cell_type": "code",
   "execution_count": 81,
   "metadata": {},
   "outputs": [],
   "source": [
    "alldogs_nm.loc[alldogs_nm['size'] == 'Extra Large', 'size'] = 'Large'"
   ]
  },
  {
   "cell_type": "code",
   "execution_count": 82,
   "metadata": {},
   "outputs": [
    {
     "data": {
      "image/png": "[encoded data removed]",
      "text/plain": [
       "<Figure size 360x360 with 1 Axes>"
      ]
     },
     "metadata": {
      "needs_background": "light"
     },
     "output_type": "display_data"
    }
   ],
   "source": [
    "sns.catplot(x=\"size\", kind=\"count\", palette=\"ch:.25\", data=alldogs_nm);"
   ]
  },
  {
   "cell_type": "code",
   "execution_count": 65,
   "metadata": {},
   "outputs": [
    {
     "data": {
      "text/plain": [
       "Index(['adoption_time', 'age', 'attributes.house_trained',\n",
       "       'attributes.shots_current', 'attributes.spayed_neutered',\n",
       "       'attributes.special_needs', 'breeds.mixed', 'breeds.primary',\n",
       "       'breeds.unknown', 'contact.address.city', 'contact.address.postcode',\n",
       "       'contact.address.state', 'distance', 'gender', 'id', 'month', 'name',\n",
       "       'organization_id', 'published_at', 'size', 'status',\n",
       "       'status_changed_at', 'tags', 'url', 'year', 'log_adpt_time',\n",
       "       'cg_adpt_time', 'norm_breed_freq', 'breed_pop'],\n",
       "      dtype='object')"
      ]
     },
     "execution_count": 65,
     "metadata": {},
     "output_type": "execute_result"
    }
   ],
   "source": [
    "alldogs_nm.columns"
   ]
  },
  {
   "cell_type": "code",
   "execution_count": 236,
   "metadata": {},
   "outputs": [
    {
     "data": {
      "text/html": [
       "<div>\n",
       "<style scoped>\n",
       "    .dataframe tbody tr th:only-of-type {\n",
       "        vertical-align: middle;\n",
       "    }\n",
       "\n",
       "    .dataframe tbody tr th {\n",
       "        vertical-align: top;\n",
       "    }\n",
       "\n",
       "    .dataframe thead th {\n",
       "        text-align: right;\n",
       "    }\n",
       "</style>\n",
       "<table border=\"1\" class=\"dataframe\">\n",
       "  <thead>\n",
       "    <tr style=\"text-align: right;\">\n",
       "      <th></th>\n",
       "      <th>id</th>\n",
       "      <th>age</th>\n",
       "      <th>gender</th>\n",
       "      <th>size</th>\n",
       "      <th>breeds.primary</th>\n",
       "      <th>breeds.mixed</th>\n",
       "      <th>attributes.spayed_neutered</th>\n",
       "      <th>attributes.house_trained</th>\n",
       "      <th>contact.address.state</th>\n",
       "      <th>breed_pop</th>\n",
       "      <th>month</th>\n",
       "    </tr>\n",
       "  </thead>\n",
       "  <tbody>\n",
       "    <tr>\n",
       "      <th>1</th>\n",
       "      <td>35898350</td>\n",
       "      <td>Adult</td>\n",
       "      <td>Female</td>\n",
       "      <td>Small</td>\n",
       "      <td>Rare</td>\n",
       "      <td>False</td>\n",
       "      <td>True</td>\n",
       "      <td>True</td>\n",
       "      <td>AL</td>\n",
       "      <td>Low</td>\n",
       "      <td>11</td>\n",
       "    </tr>\n",
       "    <tr>\n",
       "      <th>2</th>\n",
       "      <td>30542160</td>\n",
       "      <td>Young</td>\n",
       "      <td>Female</td>\n",
       "      <td>Small</td>\n",
       "      <td>Rare</td>\n",
       "      <td>True</td>\n",
       "      <td>True</td>\n",
       "      <td>True</td>\n",
       "      <td>AL</td>\n",
       "      <td>Low</td>\n",
       "      <td>1</td>\n",
       "    </tr>\n",
       "    <tr>\n",
       "      <th>3</th>\n",
       "      <td>41000971</td>\n",
       "      <td>Adult</td>\n",
       "      <td>Female</td>\n",
       "      <td>Large</td>\n",
       "      <td>Rare</td>\n",
       "      <td>False</td>\n",
       "      <td>True</td>\n",
       "      <td>True</td>\n",
       "      <td>AL</td>\n",
       "      <td>Low</td>\n",
       "      <td>3</td>\n",
       "    </tr>\n",
       "    <tr>\n",
       "      <th>4</th>\n",
       "      <td>33618001</td>\n",
       "      <td>Young</td>\n",
       "      <td>Female</td>\n",
       "      <td>Large</td>\n",
       "      <td>Rare</td>\n",
       "      <td>False</td>\n",
       "      <td>True</td>\n",
       "      <td>True</td>\n",
       "      <td>AL</td>\n",
       "      <td>Low</td>\n",
       "      <td>11</td>\n",
       "    </tr>\n",
       "    <tr>\n",
       "      <th>5</th>\n",
       "      <td>35479179</td>\n",
       "      <td>Adult</td>\n",
       "      <td>Male</td>\n",
       "      <td>Large</td>\n",
       "      <td>Rare</td>\n",
       "      <td>False</td>\n",
       "      <td>True</td>\n",
       "      <td>True</td>\n",
       "      <td>AL</td>\n",
       "      <td>Low</td>\n",
       "      <td>8</td>\n",
       "    </tr>\n",
       "  </tbody>\n",
       "</table>\n",
       "</div>"
      ],
      "text/plain": [
       "         id    age  gender   size breeds.primary  breeds.mixed  \\\n",
       "1  35898350  Adult  Female  Small           Rare         False   \n",
       "2  30542160  Young  Female  Small           Rare          True   \n",
       "3  41000971  Adult  Female  Large           Rare         False   \n",
       "4  33618001  Young  Female  Large           Rare         False   \n",
       "5  35479179  Adult    Male  Large           Rare         False   \n",
       "\n",
       "   attributes.spayed_neutered  attributes.house_trained contact.address.state  \\\n",
       "1                        True                      True                    AL   \n",
       "2                        True                      True                    AL   \n",
       "3                        True                      True                    AL   \n",
       "4                        True                      True                    AL   \n",
       "5                        True                      True                    AL   \n",
       "\n",
       "  breed_pop  month  \n",
       "1       Low     11  \n",
       "2       Low      1  \n",
       "3       Low      3  \n",
       "4       Low     11  \n",
       "5       Low      8  "
      ]
     },
     "execution_count": 236,
     "metadata": {},
     "output_type": "execute_result"
    }
   ],
   "source": [
    "X_features = ['id','age', 'gender', 'size', 'breeds.primary',\n",
    "              'breeds.mixed', 'attributes.spayed_neutered', 'attributes.house_trained',\n",
    "               'contact.address.state', \n",
    "              'breed_pop', 'month']\n",
    "X = alldogs_nm[X_features]\n",
    "X.head()"
   ]
  },
  {
   "cell_type": "code",
   "execution_count": 209,
   "metadata": {},
   "outputs": [
    {
     "data": {
      "text/plain": [
       "Adult     200545\n",
       "Baby      193905\n",
       "Young     184998\n",
       "Senior     25297\n",
       "Name: age, dtype: int64"
      ]
     },
     "execution_count": 209,
     "metadata": {},
     "output_type": "execute_result"
    }
   ],
   "source": [
    "X['age'].value_counts()"
   ]
  },
  {
   "cell_type": "code",
   "execution_count": 210,
   "metadata": {},
   "outputs": [
    {
     "data": {
      "text/plain": [
       "Male      309353\n",
       "Female    295392\n",
       "Name: gender, dtype: int64"
      ]
     },
     "execution_count": 210,
     "metadata": {},
     "output_type": "execute_result"
    }
   ],
   "source": [
    "X['gender'].value_counts()"
   ]
  },
  {
   "cell_type": "code",
   "execution_count": 211,
   "metadata": {},
   "outputs": [
    {
     "data": {
      "text/plain": [
       "Medium    268166\n",
       "Small     180841\n",
       "Large     155738\n",
       "Name: size, dtype: int64"
      ]
     },
     "execution_count": 211,
     "metadata": {},
     "output_type": "execute_result"
    }
   ],
   "source": [
    "X['size'].value_counts()"
   ]
  },
  {
   "cell_type": "code",
   "execution_count": 237,
   "metadata": {},
   "outputs": [
    {
     "data": {
      "text/plain": [
       "CO       37797\n",
       "MA       26808\n",
       "Other    26095\n",
       "AZ       24999\n",
       "NY       22559\n",
       "LA       22158\n",
       "MD       22153\n",
       "WA       20794\n",
       "MN       20314\n",
       "MI       20195\n",
       "OH       18821\n",
       "CA       18754\n",
       "WI       18450\n",
       "OK       18404\n",
       "IL       18395\n",
       "GA       18307\n",
       "IN       16971\n",
       "TX       16794\n",
       "TN       16757\n",
       "OR       16000\n",
       "NV       14853\n",
       "AL       14676\n",
       "SC       14480\n",
       "NC       14014\n",
       "NH       12980\n",
       "FL       11965\n",
       "KY       10828\n",
       "ME       10780\n",
       "VA        9449\n",
       "NJ        9386\n",
       "PA        8954\n",
       "RI        8686\n",
       "AR        8434\n",
       "NE        7608\n",
       "VT        7363\n",
       "IA        6386\n",
       "NM        6219\n",
       "ID        6159\n",
       "Name: contact.address.state, dtype: int64"
      ]
     },
     "execution_count": 237,
     "metadata": {},
     "output_type": "execute_result"
    }
   ],
   "source": [
    "X['contact.address.state'].value_counts()"
   ]
  },
  {
   "cell_type": "code",
   "execution_count": 238,
   "metadata": {},
   "outputs": [
    {
     "data": {
      "text/plain": [
       "False    360785\n",
       "True     243960\n",
       "Name: attributes.house_trained, dtype: int64"
      ]
     },
     "execution_count": 238,
     "metadata": {},
     "output_type": "execute_result"
    }
   ],
   "source": [
    "X['attributes.house_trained'].value_counts()"
   ]
  },
  {
   "cell_type": "code",
   "execution_count": 239,
   "metadata": {},
   "outputs": [
    {
     "data": {
      "text/plain": [
       "True     510168\n",
       "False     94577\n",
       "Name: attributes.spayed_neutered, dtype: int64"
      ]
     },
     "execution_count": 239,
     "metadata": {},
     "output_type": "execute_result"
    }
   ],
   "source": [
    "X['attributes.spayed_neutered'].value_counts()"
   ]
  },
  {
   "cell_type": "code",
   "execution_count": 215,
   "metadata": {},
   "outputs": [
    {
     "data": {
      "text/html": [
       "<div>\n",
       "<style scoped>\n",
       "    .dataframe tbody tr th:only-of-type {\n",
       "        vertical-align: middle;\n",
       "    }\n",
       "\n",
       "    .dataframe tbody tr th {\n",
       "        vertical-align: top;\n",
       "    }\n",
       "\n",
       "    .dataframe thead th {\n",
       "        text-align: right;\n",
       "    }\n",
       "</style>\n",
       "<table border=\"1\" class=\"dataframe\">\n",
       "  <thead>\n",
       "    <tr style=\"text-align: right;\">\n",
       "      <th></th>\n",
       "      <th>id</th>\n",
       "      <th>age</th>\n",
       "      <th>gender</th>\n",
       "      <th>size</th>\n",
       "      <th>breeds.primary</th>\n",
       "      <th>breeds.mixed</th>\n",
       "      <th>attributes.spayed_neutered</th>\n",
       "      <th>attributes.house_trained</th>\n",
       "      <th>contact.address.state</th>\n",
       "      <th>breed_pop</th>\n",
       "      <th>month</th>\n",
       "    </tr>\n",
       "  </thead>\n",
       "  <tbody>\n",
       "    <tr>\n",
       "      <th>1</th>\n",
       "      <td>35898350</td>\n",
       "      <td>Adult</td>\n",
       "      <td>Female</td>\n",
       "      <td>Small</td>\n",
       "      <td>Rare</td>\n",
       "      <td>False</td>\n",
       "      <td>True</td>\n",
       "      <td>True</td>\n",
       "      <td>AL</td>\n",
       "      <td>Low</td>\n",
       "      <td>11</td>\n",
       "    </tr>\n",
       "    <tr>\n",
       "      <th>2</th>\n",
       "      <td>30542160</td>\n",
       "      <td>Young</td>\n",
       "      <td>Female</td>\n",
       "      <td>Small</td>\n",
       "      <td>Rare</td>\n",
       "      <td>True</td>\n",
       "      <td>True</td>\n",
       "      <td>True</td>\n",
       "      <td>AL</td>\n",
       "      <td>Low</td>\n",
       "      <td>1</td>\n",
       "    </tr>\n",
       "    <tr>\n",
       "      <th>3</th>\n",
       "      <td>41000971</td>\n",
       "      <td>Adult</td>\n",
       "      <td>Female</td>\n",
       "      <td>Large</td>\n",
       "      <td>Rare</td>\n",
       "      <td>False</td>\n",
       "      <td>True</td>\n",
       "      <td>True</td>\n",
       "      <td>AL</td>\n",
       "      <td>Low</td>\n",
       "      <td>3</td>\n",
       "    </tr>\n",
       "    <tr>\n",
       "      <th>4</th>\n",
       "      <td>33618001</td>\n",
       "      <td>Young</td>\n",
       "      <td>Female</td>\n",
       "      <td>Large</td>\n",
       "      <td>Rare</td>\n",
       "      <td>False</td>\n",
       "      <td>True</td>\n",
       "      <td>True</td>\n",
       "      <td>AL</td>\n",
       "      <td>Low</td>\n",
       "      <td>11</td>\n",
       "    </tr>\n",
       "    <tr>\n",
       "      <th>5</th>\n",
       "      <td>35479179</td>\n",
       "      <td>Adult</td>\n",
       "      <td>Male</td>\n",
       "      <td>Large</td>\n",
       "      <td>Rare</td>\n",
       "      <td>False</td>\n",
       "      <td>True</td>\n",
       "      <td>True</td>\n",
       "      <td>AL</td>\n",
       "      <td>Low</td>\n",
       "      <td>8</td>\n",
       "    </tr>\n",
       "  </tbody>\n",
       "</table>\n",
       "</div>"
      ],
      "text/plain": [
       "         id    age  gender   size breeds.primary  breeds.mixed  \\\n",
       "1  35898350  Adult  Female  Small           Rare         False   \n",
       "2  30542160  Young  Female  Small           Rare          True   \n",
       "3  41000971  Adult  Female  Large           Rare         False   \n",
       "4  33618001  Young  Female  Large           Rare         False   \n",
       "5  35479179  Adult    Male  Large           Rare         False   \n",
       "\n",
       "   attributes.spayed_neutered  attributes.house_trained contact.address.state  \\\n",
       "1                        True                      True                    AL   \n",
       "2                        True                      True                    AL   \n",
       "3                        True                      True                    AL   \n",
       "4                        True                      True                    AL   \n",
       "5                        True                      True                    AL   \n",
       "\n",
       "  breed_pop  month  \n",
       "1       Low     11  \n",
       "2       Low      1  \n",
       "3       Low      3  \n",
       "4       Low     11  \n",
       "5       Low      8  "
      ]
     },
     "execution_count": 215,
     "metadata": {},
     "output_type": "execute_result"
    }
   ],
   "source": [
    "X.head()"
   ]
  },
  {
   "cell_type": "code",
   "execution_count": 240,
   "metadata": {},
   "outputs": [],
   "source": [
    "y = alldogs_nm['cg_adpt_time']"
   ]
  },
  {
   "cell_type": "code",
   "execution_count": 241,
   "metadata": {},
   "outputs": [
    {
     "data": {
      "text/plain": [
       "< 3 months     142108\n",
       "< 1 week       136956\n",
       "< 1 month      126695\n",
       "1 - 2 weeks    118782\n",
       "> 3 months      80204\n",
       "Name: cg_adpt_time, dtype: int64"
      ]
     },
     "execution_count": 241,
     "metadata": {},
     "output_type": "execute_result"
    }
   ],
   "source": [
    "y.value_counts()"
   ]
  },
  {
   "cell_type": "code",
   "execution_count": 242,
   "metadata": {},
   "outputs": [
    {
     "data": {
      "text/plain": [
       "604745"
      ]
     },
     "execution_count": 242,
     "metadata": {},
     "output_type": "execute_result"
    }
   ],
   "source": [
    "len(X)"
   ]
  },
  {
   "cell_type": "code",
   "execution_count": 243,
   "metadata": {},
   "outputs": [],
   "source": [
    "cat_col = ['age','gender','size','contact.address.state', 'breed_pop', 'month']"
   ]
  },
  {
   "cell_type": "code",
   "execution_count": 244,
   "metadata": {},
   "outputs": [
    {
     "name": "stderr",
     "output_type": "stream",
     "text": [
      "C:\\anaconda_python\\envs\\Insight\\lib\\site-packages\\pandas\\core\\frame.py:3509: SettingWithCopyWarning: \n",
      "A value is trying to be set on a copy of a slice from a DataFrame.\n",
      "Try using .loc[row_indexer,col_indexer] = value instead\n",
      "\n",
      "See the caveats in the documentation: http://pandas.pydata.org/pandas-docs/stable/user_guide/indexing.html#returning-a-view-versus-a-copy\n",
      "  self[k1] = value[k2]\n"
     ]
    }
   ],
   "source": [
    "X[cat_col]=X[cat_col].astype('category')"
   ]
  },
  {
   "cell_type": "code",
   "execution_count": 245,
   "metadata": {},
   "outputs": [
    {
     "data": {
      "text/html": [
       "<div>\n",
       "<style scoped>\n",
       "    .dataframe tbody tr th:only-of-type {\n",
       "        vertical-align: middle;\n",
       "    }\n",
       "\n",
       "    .dataframe tbody tr th {\n",
       "        vertical-align: top;\n",
       "    }\n",
       "\n",
       "    .dataframe thead th {\n",
       "        text-align: right;\n",
       "    }\n",
       "</style>\n",
       "<table border=\"1\" class=\"dataframe\">\n",
       "  <thead>\n",
       "    <tr style=\"text-align: right;\">\n",
       "      <th></th>\n",
       "      <th>id</th>\n",
       "      <th>age</th>\n",
       "      <th>gender</th>\n",
       "      <th>size</th>\n",
       "      <th>breeds.primary</th>\n",
       "      <th>breeds.mixed</th>\n",
       "      <th>attributes.spayed_neutered</th>\n",
       "      <th>attributes.house_trained</th>\n",
       "      <th>contact.address.state</th>\n",
       "      <th>breed_pop</th>\n",
       "      <th>month</th>\n",
       "      <th>cg_adpt_time</th>\n",
       "    </tr>\n",
       "  </thead>\n",
       "  <tbody>\n",
       "    <tr>\n",
       "      <th>1</th>\n",
       "      <td>35898350</td>\n",
       "      <td>Adult</td>\n",
       "      <td>Female</td>\n",
       "      <td>Small</td>\n",
       "      <td>Rare</td>\n",
       "      <td>False</td>\n",
       "      <td>True</td>\n",
       "      <td>True</td>\n",
       "      <td>AL</td>\n",
       "      <td>Low</td>\n",
       "      <td>11</td>\n",
       "      <td>&gt; 3 months</td>\n",
       "    </tr>\n",
       "    <tr>\n",
       "      <th>2</th>\n",
       "      <td>30542160</td>\n",
       "      <td>Young</td>\n",
       "      <td>Female</td>\n",
       "      <td>Small</td>\n",
       "      <td>Rare</td>\n",
       "      <td>True</td>\n",
       "      <td>True</td>\n",
       "      <td>True</td>\n",
       "      <td>AL</td>\n",
       "      <td>Low</td>\n",
       "      <td>1</td>\n",
       "      <td>&gt; 3 months</td>\n",
       "    </tr>\n",
       "    <tr>\n",
       "      <th>3</th>\n",
       "      <td>41000971</td>\n",
       "      <td>Adult</td>\n",
       "      <td>Female</td>\n",
       "      <td>Large</td>\n",
       "      <td>Rare</td>\n",
       "      <td>False</td>\n",
       "      <td>True</td>\n",
       "      <td>True</td>\n",
       "      <td>AL</td>\n",
       "      <td>Low</td>\n",
       "      <td>3</td>\n",
       "      <td>&lt; 3 months</td>\n",
       "    </tr>\n",
       "    <tr>\n",
       "      <th>4</th>\n",
       "      <td>33618001</td>\n",
       "      <td>Young</td>\n",
       "      <td>Female</td>\n",
       "      <td>Large</td>\n",
       "      <td>Rare</td>\n",
       "      <td>False</td>\n",
       "      <td>True</td>\n",
       "      <td>True</td>\n",
       "      <td>AL</td>\n",
       "      <td>Low</td>\n",
       "      <td>11</td>\n",
       "      <td>&lt; 1 month</td>\n",
       "    </tr>\n",
       "    <tr>\n",
       "      <th>5</th>\n",
       "      <td>35479179</td>\n",
       "      <td>Adult</td>\n",
       "      <td>Male</td>\n",
       "      <td>Large</td>\n",
       "      <td>Rare</td>\n",
       "      <td>False</td>\n",
       "      <td>True</td>\n",
       "      <td>True</td>\n",
       "      <td>AL</td>\n",
       "      <td>Low</td>\n",
       "      <td>8</td>\n",
       "      <td>&lt; 3 months</td>\n",
       "    </tr>\n",
       "  </tbody>\n",
       "</table>\n",
       "</div>"
      ],
      "text/plain": [
       "         id    age  gender   size breeds.primary  breeds.mixed  \\\n",
       "1  35898350  Adult  Female  Small           Rare         False   \n",
       "2  30542160  Young  Female  Small           Rare          True   \n",
       "3  41000971  Adult  Female  Large           Rare         False   \n",
       "4  33618001  Young  Female  Large           Rare         False   \n",
       "5  35479179  Adult    Male  Large           Rare         False   \n",
       "\n",
       "   attributes.spayed_neutered  attributes.house_trained contact.address.state  \\\n",
       "1                        True                      True                    AL   \n",
       "2                        True                      True                    AL   \n",
       "3                        True                      True                    AL   \n",
       "4                        True                      True                    AL   \n",
       "5                        True                      True                    AL   \n",
       "\n",
       "  breed_pop month cg_adpt_time  \n",
       "1       Low    11   > 3 months  \n",
       "2       Low     1   > 3 months  \n",
       "3       Low     3   < 3 months  \n",
       "4       Low    11    < 1 month  \n",
       "5       Low     8   < 3 months  "
      ]
     },
     "execution_count": 245,
     "metadata": {},
     "output_type": "execute_result"
    }
   ],
   "source": [
    "total = pd.concat([X,y], axis=1)\n",
    "total.head()"
   ]
  },
  {
   "cell_type": "code",
   "execution_count": 73,
   "metadata": {},
   "outputs": [
    {
     "data": {
      "text/plain": [
       "id                               int64\n",
       "age                           category\n",
       "gender                        category\n",
       "size                          category\n",
       "breeds.primary                  object\n",
       "breeds.mixed                      bool\n",
       "attributes.spayed_neutered        bool\n",
       "attributes.house_trained          bool\n",
       "attributes.special_needs          bool\n",
       "attributes.shots_current          bool\n",
       "contact.address.state         category\n",
       "breed_pop                     category\n",
       "month                         category\n",
       "dtype: object"
      ]
     },
     "execution_count": 73,
     "metadata": {},
     "output_type": "execute_result"
    }
   ],
   "source": [
    "X.dtypes"
   ]
  },
  {
   "cell_type": "code",
   "execution_count": 74,
   "metadata": {},
   "outputs": [
    {
     "data": {
      "text/plain": [
       "604745"
      ]
     },
     "execution_count": 74,
     "metadata": {},
     "output_type": "execute_result"
    }
   ],
   "source": [
    "len(total)"
   ]
  },
  {
   "cell_type": "code",
   "execution_count": 246,
   "metadata": {},
   "outputs": [
    {
     "data": {
      "image/png": "[encoded data removed]",
      "text/plain": [
       "<Figure size 432x288 with 1 Axes>"
      ]
     },
     "metadata": {
      "needs_background": "light"
     },
     "output_type": "display_data"
    }
   ],
   "source": [
    "timeplot = sns.countplot(y='cg_adpt_time', data=total, palette=\"ch:.25\")"
   ]
  },
  {
   "cell_type": "code",
   "execution_count": 97,
   "metadata": {},
   "outputs": [
    {
     "data": {
      "text/plain": [
       "<seaborn.axisgrid.FacetGrid at 0x1c135b4c2c8>"
      ]
     },
     "execution_count": 97,
     "metadata": {},
     "output_type": "execute_result"
    },
    {
     "data": {
      "image/png": "[encoded data removed]",
      "text/plain": [
       "<Figure size 360x360 with 1 Axes>"
      ]
     },
     "metadata": {
      "needs_background": "light"
     },
     "output_type": "display_data"
    }
   ],
   "source": [
    "sizeplot2 = sns.catplot(x='age', y='adoption_time', order=[\"Baby\", \"Young\", \"Adult\", \"Senior\"] , data=alldogs_nm, kind='box', palette=\"muted\");\n",
    "sizeplot2.set(ylim=(0,200))"
   ]
  },
  {
   "cell_type": "code",
   "execution_count": 76,
   "metadata": {},
   "outputs": [
    {
     "ename": "ValueError",
     "evalue": "Could not interpret input 'name_pop'",
     "output_type": "error",
     "traceback": [
      "\u001b[1;31m---------------------------------------------------------------------------\u001b[0m",
      "\u001b[1;31mValueError\u001b[0m                                Traceback (most recent call last)",
      "\u001b[1;32m<ipython-input-76-a7b749ba62cf>\u001b[0m in \u001b[0;36m<module>\u001b[1;34m\u001b[0m\n\u001b[1;32m----> 1\u001b[1;33m \u001b[0mnameplot\u001b[0m \u001b[1;33m=\u001b[0m \u001b[0msns\u001b[0m\u001b[1;33m.\u001b[0m\u001b[0mcountplot\u001b[0m\u001b[1;33m(\u001b[0m\u001b[0my\u001b[0m\u001b[1;33m=\u001b[0m\u001b[1;34m'cg_adpt_time'\u001b[0m\u001b[1;33m,\u001b[0m \u001b[0mhue\u001b[0m\u001b[1;33m=\u001b[0m\u001b[1;34m'name_pop'\u001b[0m\u001b[1;33m,\u001b[0m \u001b[0mdata\u001b[0m\u001b[1;33m=\u001b[0m\u001b[0mtotal\u001b[0m\u001b[1;33m,\u001b[0m \u001b[0mpalette\u001b[0m\u001b[1;33m=\u001b[0m\u001b[1;34m\"ch:.25\"\u001b[0m\u001b[1;33m)\u001b[0m\u001b[1;33m\u001b[0m\u001b[1;33m\u001b[0m\u001b[0m\n\u001b[0m",
      "\u001b[1;32mC:\\anaconda_python\\envs\\Insight\\lib\\site-packages\\seaborn\\categorical.py\u001b[0m in \u001b[0;36mcountplot\u001b[1;34m(x, y, hue, data, order, hue_order, orient, color, palette, saturation, dodge, ax, **kwargs)\u001b[0m\n\u001b[0;32m   3551\u001b[0m                           \u001b[0mestimator\u001b[0m\u001b[1;33m,\u001b[0m \u001b[0mci\u001b[0m\u001b[1;33m,\u001b[0m \u001b[0mn_boot\u001b[0m\u001b[1;33m,\u001b[0m \u001b[0munits\u001b[0m\u001b[1;33m,\u001b[0m\u001b[1;33m\u001b[0m\u001b[1;33m\u001b[0m\u001b[0m\n\u001b[0;32m   3552\u001b[0m                           \u001b[0morient\u001b[0m\u001b[1;33m,\u001b[0m \u001b[0mcolor\u001b[0m\u001b[1;33m,\u001b[0m \u001b[0mpalette\u001b[0m\u001b[1;33m,\u001b[0m \u001b[0msaturation\u001b[0m\u001b[1;33m,\u001b[0m\u001b[1;33m\u001b[0m\u001b[1;33m\u001b[0m\u001b[0m\n\u001b[1;32m-> 3553\u001b[1;33m                           errcolor, errwidth, capsize, dodge)\n\u001b[0m\u001b[0;32m   3554\u001b[0m \u001b[1;33m\u001b[0m\u001b[0m\n\u001b[0;32m   3555\u001b[0m     \u001b[0mplotter\u001b[0m\u001b[1;33m.\u001b[0m\u001b[0mvalue_label\u001b[0m \u001b[1;33m=\u001b[0m \u001b[1;34m\"count\"\u001b[0m\u001b[1;33m\u001b[0m\u001b[1;33m\u001b[0m\u001b[0m\n",
      "\u001b[1;32mC:\\anaconda_python\\envs\\Insight\\lib\\site-packages\\seaborn\\categorical.py\u001b[0m in \u001b[0;36m__init__\u001b[1;34m(self, x, y, hue, data, order, hue_order, estimator, ci, n_boot, units, orient, color, palette, saturation, errcolor, errwidth, capsize, dodge)\u001b[0m\n\u001b[0;32m   1605\u001b[0m         \u001b[1;34m\"\"\"Initialize the plotter.\"\"\"\u001b[0m\u001b[1;33m\u001b[0m\u001b[1;33m\u001b[0m\u001b[0m\n\u001b[0;32m   1606\u001b[0m         self.establish_variables(x, y, hue, data, orient,\n\u001b[1;32m-> 1607\u001b[1;33m                                  order, hue_order, units)\n\u001b[0m\u001b[0;32m   1608\u001b[0m         \u001b[0mself\u001b[0m\u001b[1;33m.\u001b[0m\u001b[0mestablish_colors\u001b[0m\u001b[1;33m(\u001b[0m\u001b[0mcolor\u001b[0m\u001b[1;33m,\u001b[0m \u001b[0mpalette\u001b[0m\u001b[1;33m,\u001b[0m \u001b[0msaturation\u001b[0m\u001b[1;33m)\u001b[0m\u001b[1;33m\u001b[0m\u001b[1;33m\u001b[0m\u001b[0m\n\u001b[0;32m   1609\u001b[0m         \u001b[0mself\u001b[0m\u001b[1;33m.\u001b[0m\u001b[0mestimate_statistic\u001b[0m\u001b[1;33m(\u001b[0m\u001b[0mestimator\u001b[0m\u001b[1;33m,\u001b[0m \u001b[0mci\u001b[0m\u001b[1;33m,\u001b[0m \u001b[0mn_boot\u001b[0m\u001b[1;33m)\u001b[0m\u001b[1;33m\u001b[0m\u001b[1;33m\u001b[0m\u001b[0m\n",
      "\u001b[1;32mC:\\anaconda_python\\envs\\Insight\\lib\\site-packages\\seaborn\\categorical.py\u001b[0m in \u001b[0;36mestablish_variables\u001b[1;34m(self, x, y, hue, data, orient, order, hue_order, units)\u001b[0m\n\u001b[0;32m    153\u001b[0m                 \u001b[1;32mif\u001b[0m \u001b[0misinstance\u001b[0m\u001b[1;33m(\u001b[0m\u001b[0minput\u001b[0m\u001b[1;33m,\u001b[0m \u001b[0mstring_types\u001b[0m\u001b[1;33m)\u001b[0m\u001b[1;33m:\u001b[0m\u001b[1;33m\u001b[0m\u001b[1;33m\u001b[0m\u001b[0m\n\u001b[0;32m    154\u001b[0m                     \u001b[0merr\u001b[0m \u001b[1;33m=\u001b[0m \u001b[1;34m\"Could not interpret input '{}'\"\u001b[0m\u001b[1;33m.\u001b[0m\u001b[0mformat\u001b[0m\u001b[1;33m(\u001b[0m\u001b[0minput\u001b[0m\u001b[1;33m)\u001b[0m\u001b[1;33m\u001b[0m\u001b[1;33m\u001b[0m\u001b[0m\n\u001b[1;32m--> 155\u001b[1;33m                     \u001b[1;32mraise\u001b[0m \u001b[0mValueError\u001b[0m\u001b[1;33m(\u001b[0m\u001b[0merr\u001b[0m\u001b[1;33m)\u001b[0m\u001b[1;33m\u001b[0m\u001b[1;33m\u001b[0m\u001b[0m\n\u001b[0m\u001b[0;32m    156\u001b[0m \u001b[1;33m\u001b[0m\u001b[0m\n\u001b[0;32m    157\u001b[0m             \u001b[1;31m# Figure out the plotting orientation\u001b[0m\u001b[1;33m\u001b[0m\u001b[1;33m\u001b[0m\u001b[1;33m\u001b[0m\u001b[0m\n",
      "\u001b[1;31mValueError\u001b[0m: Could not interpret input 'name_pop'"
     ]
    }
   ],
   "source": [
    "nameplot = sns.countplot(y='cg_adpt_time', hue='name_pop', data=total, palette=\"ch:.25\")"
   ]
  },
  {
   "cell_type": "code",
   "execution_count": 77,
   "metadata": {},
   "outputs": [
    {
     "data": {
      "image/png": "[encoded data removed]",
      "text/plain": [
       "<Figure size 432x288 with 1 Axes>"
      ]
     },
     "metadata": {
      "needs_background": "light"
     },
     "output_type": "display_data"
    }
   ],
   "source": [
    "breedplot = sns.countplot(y='cg_adpt_time', hue='breed_pop', data=total, palette=\"ch:.25\")"
   ]
  },
  {
   "cell_type": "code",
   "execution_count": 78,
   "metadata": {},
   "outputs": [
    {
     "data": {
      "image/png": "[encoded data removed]",
      "text/plain": [
       "<Figure size 432x288 with 1 Axes>"
      ]
     },
     "metadata": {
      "needs_background": "light"
     },
     "output_type": "display_data"
    }
   ],
   "source": [
    "ageplot = sns.countplot(y='cg_adpt_time', hue='age', data=total, palette=\"ch:.25\")"
   ]
  },
  {
   "cell_type": "code",
   "execution_count": 79,
   "metadata": {},
   "outputs": [
    {
     "data": {
      "image/png": "[encoded data removed]",
      "text/plain": [
       "<Figure size 432x288 with 1 Axes>"
      ]
     },
     "metadata": {
      "needs_background": "light"
     },
     "output_type": "display_data"
    }
   ],
   "source": [
    "ageplot = sns.countplot(y='cg_adpt_time', hue='size', data=total, palette=\"ch:.25\")"
   ]
  },
  {
   "cell_type": "code",
   "execution_count": 80,
   "metadata": {},
   "outputs": [
    {
     "data": {
      "image/png": "[encoded data removed]",
      "text/plain": [
       "<Figure size 432x288 with 1 Axes>"
      ]
     },
     "metadata": {
      "needs_background": "light"
     },
     "output_type": "display_data"
    }
   ],
   "source": [
    "ageplot = sns.countplot(y='cg_adpt_time', hue='contact.address.state', data=total, palette=\"ch:.25\")"
   ]
  },
  {
   "cell_type": "code",
   "execution_count": 81,
   "metadata": {},
   "outputs": [
    {
     "data": {
      "image/png": "[encoded data removed]",
      "text/plain": [
       "<Figure size 432x288 with 1 Axes>"
      ]
     },
     "metadata": {
      "needs_background": "light"
     },
     "output_type": "display_data"
    }
   ],
   "source": [
    "ageplot = sns.countplot(y='cg_adpt_time', hue='gender', data=total, palette=\"ch:.25\")"
   ]
  },
  {
   "cell_type": "code",
   "execution_count": 82,
   "metadata": {},
   "outputs": [
    {
     "data": {
      "image/png": "[encoded data removed]",
      "text/plain": [
       "<Figure size 432x288 with 1 Axes>"
      ]
     },
     "metadata": {
      "needs_background": "light"
     },
     "output_type": "display_data"
    }
   ],
   "source": [
    "ageplot = sns.countplot(y='cg_adpt_time', hue='breeds.mixed', data=total, palette=\"ch:.25\")"
   ]
  },
  {
   "cell_type": "code",
   "execution_count": 83,
   "metadata": {},
   "outputs": [
    {
     "data": {
      "image/png": "[encoded data removed]",
      "text/plain": [
       "<Figure size 432x288 with 1 Axes>"
      ]
     },
     "metadata": {
      "needs_background": "light"
     },
     "output_type": "display_data"
    }
   ],
   "source": [
    "ageplot = sns.countplot(y='cg_adpt_time', hue='attributes.spayed_neutered', data=total, palette=\"ch:.25\")"
   ]
  },
  {
   "cell_type": "code",
   "execution_count": 84,
   "metadata": {},
   "outputs": [
    {
     "data": {
      "image/png": "[encoded data removed]",
      "text/plain": [
       "<Figure size 432x288 with 1 Axes>"
      ]
     },
     "metadata": {
      "needs_background": "light"
     },
     "output_type": "display_data"
    }
   ],
   "source": [
    "ageplot = sns.countplot(y='cg_adpt_time', hue='attributes.house_trained', data=total, palette=\"ch:.25\")"
   ]
  },
  {
   "cell_type": "code",
   "execution_count": 85,
   "metadata": {},
   "outputs": [
    {
     "data": {
      "image/png": "[encoded data removed]",
      "text/plain": [
       "<Figure size 432x288 with 1 Axes>"
      ]
     },
     "metadata": {
      "needs_background": "light"
     },
     "output_type": "display_data"
    }
   ],
   "source": [
    "ageplot = sns.countplot(y='cg_adpt_time', hue='attributes.shots_current', data=total, palette=\"ch:.25\")"
   ]
  },
  {
   "cell_type": "code",
   "execution_count": 86,
   "metadata": {},
   "outputs": [
    {
     "data": {
      "image/png": "[encoded data removed]",
      "text/plain": [
       "<Figure size 432x288 with 1 Axes>"
      ]
     },
     "metadata": {
      "needs_background": "light"
     },
     "output_type": "display_data"
    }
   ],
   "source": [
    "ageplot = sns.countplot(y='cg_adpt_time', hue='attributes.special_needs', data=total, palette=\"ch:.25\")"
   ]
  },
  {
   "cell_type": "code",
   "execution_count": 87,
   "metadata": {},
   "outputs": [
    {
     "data": {
      "image/png": "[encoded data removed]",
      "text/plain": [
       "<Figure size 360x360 with 1 Axes>"
      ]
     },
     "metadata": {
      "needs_background": "light"
     },
     "output_type": "display_data"
    }
   ],
   "source": [
    "sns.catplot(x=\"size\", kind=\"count\", palette=\"ch:.25\", data=total);"
   ]
  },
  {
   "cell_type": "code",
   "execution_count": 88,
   "metadata": {},
   "outputs": [
    {
     "data": {
      "image/png": "[encoded data removed]",
      "text/plain": [
       "<Figure size 427.75x360 with 1 Axes>"
      ]
     },
     "metadata": {
      "needs_background": "light"
     },
     "output_type": "display_data"
    }
   ],
   "source": [
    "sns.catplot(x=\"size\", kind=\"count\", hue=\"age\", palette=\"ch:.25\", data=total);"
   ]
  },
  {
   "cell_type": "code",
   "execution_count": 89,
   "metadata": {},
   "outputs": [
    {
     "data": {
      "text/plain": [
       "<Figure size 864x4608 with 0 Axes>"
      ]
     },
     "metadata": {},
     "output_type": "display_data"
    },
    {
     "data": {
      "image/png": "[encoded data removed]",
      "text/plain": [
       "<Figure size 360x360 with 1 Axes>"
      ]
     },
     "metadata": {
      "needs_background": "light"
     },
     "output_type": "display_data"
    }
   ],
   "source": [
    "plt.figure(figsize=(12, 64))\n",
    "sns.catplot(y=\"contact.address.state\", kind=\"count\", palette=\"ch:.25\", data=total);"
   ]
  },
  {
   "cell_type": "code",
   "execution_count": 90,
   "metadata": {},
   "outputs": [
    {
     "data": {
      "image/png": "[encoded data removed]",
      "text/plain": [
       "<Figure size 360x360 with 1 Axes>"
      ]
     },
     "metadata": {
      "needs_background": "light"
     },
     "output_type": "display_data"
    }
   ],
   "source": [
    "sns.catplot(x=\"age\", kind=\"count\", palette=\"ch:.25\",order=[\"Baby\", \"Young\", \"Adult\", \"Senior\"], data=total);"
   ]
  },
  {
   "cell_type": "code",
   "execution_count": 91,
   "metadata": {},
   "outputs": [
    {
     "data": {
      "image/png": "[encoded data removed]",
      "text/plain": [
       "<Figure size 360x360 with 1 Axes>"
      ]
     },
     "metadata": {
      "needs_background": "light"
     },
     "output_type": "display_data"
    }
   ],
   "source": [
    "sns.catplot(x=\"gender\", kind=\"count\", palette=\"ch:.25\", data=total);"
   ]
  },
  {
   "cell_type": "code",
   "execution_count": 92,
   "metadata": {},
   "outputs": [
    {
     "data": {
      "image/png": "[encoded data removed]",
      "text/plain": [
       "<Figure size 360x360 with 1 Axes>"
      ]
     },
     "metadata": {
      "needs_background": "light"
     },
     "output_type": "display_data"
    }
   ],
   "source": [
    "sns.catplot(x=\"breeds.mixed\", kind=\"count\", palette=\"ch:.25\", data=total);"
   ]
  },
  {
   "cell_type": "code",
   "execution_count": 93,
   "metadata": {},
   "outputs": [
    {
     "data": {
      "image/png": "[encoded data removed]",
      "text/plain": [
       "<Figure size 360x360 with 1 Axes>"
      ]
     },
     "metadata": {
      "needs_background": "light"
     },
     "output_type": "display_data"
    }
   ],
   "source": [
    "sns.catplot(x=\"attributes.spayed_neutered\", kind=\"count\", palette=\"ch:.25\", data=total);"
   ]
  },
  {
   "cell_type": "code",
   "execution_count": 94,
   "metadata": {},
   "outputs": [
    {
     "data": {
      "image/png": "[encoded data removed]",
      "text/plain": [
       "<Figure size 360x360 with 1 Axes>"
      ]
     },
     "metadata": {
      "needs_background": "light"
     },
     "output_type": "display_data"
    }
   ],
   "source": [
    "sns.catplot(x=\"attributes.house_trained\", kind=\"count\", palette=\"ch:.25\", data=total);"
   ]
  },
  {
   "cell_type": "code",
   "execution_count": 95,
   "metadata": {},
   "outputs": [
    {
     "data": {
      "image/png": "[encoded data removed]",
      "text/plain": [
       "<Figure size 360x360 with 1 Axes>"
      ]
     },
     "metadata": {
      "needs_background": "light"
     },
     "output_type": "display_data"
    }
   ],
   "source": [
    "sns.catplot(x=\"attributes.shots_current\", kind=\"count\", palette=\"ch:.25\", data=total);"
   ]
  },
  {
   "cell_type": "code",
   "execution_count": 247,
   "metadata": {},
   "outputs": [
    {
     "name": "stdout",
     "output_type": "stream",
     "text": [
      "Training set size = 483796 and Test set size = 120949\n"
     ]
    }
   ],
   "source": [
    "from sklearn.model_selection import train_test_split\n",
    "#trainval_X, test_X, trainval_y, test_y = train_test_split(X, y, test_size=0.2)\n",
    "#use log_adpt_time as feature\n",
    "trainval_X, test_X, trainval_y, test_y = train_test_split(X, total['cg_adpt_time'], test_size=0.2)\n",
    "print('Training set size = {} and Test set size = {}'.format(len(trainval_X),len(test_X)))"
   ]
  },
  {
   "cell_type": "code",
   "execution_count": null,
   "metadata": {},
   "outputs": [],
   "source": []
  },
  {
   "cell_type": "code",
   "execution_count": 218,
   "metadata": {},
   "outputs": [
    {
     "data": {
      "text/html": [
       "<div>\n",
       "<style scoped>\n",
       "    .dataframe tbody tr th:only-of-type {\n",
       "        vertical-align: middle;\n",
       "    }\n",
       "\n",
       "    .dataframe tbody tr th {\n",
       "        vertical-align: top;\n",
       "    }\n",
       "\n",
       "    .dataframe thead th {\n",
       "        text-align: right;\n",
       "    }\n",
       "</style>\n",
       "<table border=\"1\" class=\"dataframe\">\n",
       "  <thead>\n",
       "    <tr style=\"text-align: right;\">\n",
       "      <th></th>\n",
       "      <th>id</th>\n",
       "      <th>age</th>\n",
       "      <th>gender</th>\n",
       "      <th>size</th>\n",
       "      <th>breeds.primary</th>\n",
       "      <th>breeds.mixed</th>\n",
       "      <th>attributes.spayed_neutered</th>\n",
       "      <th>attributes.house_trained</th>\n",
       "      <th>contact.address.state</th>\n",
       "      <th>breed_pop</th>\n",
       "      <th>month</th>\n",
       "    </tr>\n",
       "  </thead>\n",
       "  <tbody>\n",
       "    <tr>\n",
       "      <th>1</th>\n",
       "      <td>35898350</td>\n",
       "      <td>Adult</td>\n",
       "      <td>Female</td>\n",
       "      <td>Small</td>\n",
       "      <td>Rare</td>\n",
       "      <td>False</td>\n",
       "      <td>True</td>\n",
       "      <td>True</td>\n",
       "      <td>AL</td>\n",
       "      <td>Low</td>\n",
       "      <td>11</td>\n",
       "    </tr>\n",
       "    <tr>\n",
       "      <th>2</th>\n",
       "      <td>30542160</td>\n",
       "      <td>Young</td>\n",
       "      <td>Female</td>\n",
       "      <td>Small</td>\n",
       "      <td>Rare</td>\n",
       "      <td>True</td>\n",
       "      <td>True</td>\n",
       "      <td>True</td>\n",
       "      <td>AL</td>\n",
       "      <td>Low</td>\n",
       "      <td>1</td>\n",
       "    </tr>\n",
       "    <tr>\n",
       "      <th>3</th>\n",
       "      <td>41000971</td>\n",
       "      <td>Adult</td>\n",
       "      <td>Female</td>\n",
       "      <td>Large</td>\n",
       "      <td>Rare</td>\n",
       "      <td>False</td>\n",
       "      <td>True</td>\n",
       "      <td>True</td>\n",
       "      <td>AL</td>\n",
       "      <td>Low</td>\n",
       "      <td>3</td>\n",
       "    </tr>\n",
       "    <tr>\n",
       "      <th>4</th>\n",
       "      <td>33618001</td>\n",
       "      <td>Young</td>\n",
       "      <td>Female</td>\n",
       "      <td>Large</td>\n",
       "      <td>Rare</td>\n",
       "      <td>False</td>\n",
       "      <td>True</td>\n",
       "      <td>True</td>\n",
       "      <td>AL</td>\n",
       "      <td>Low</td>\n",
       "      <td>11</td>\n",
       "    </tr>\n",
       "    <tr>\n",
       "      <th>5</th>\n",
       "      <td>35479179</td>\n",
       "      <td>Adult</td>\n",
       "      <td>Male</td>\n",
       "      <td>Large</td>\n",
       "      <td>Rare</td>\n",
       "      <td>False</td>\n",
       "      <td>True</td>\n",
       "      <td>True</td>\n",
       "      <td>AL</td>\n",
       "      <td>Low</td>\n",
       "      <td>8</td>\n",
       "    </tr>\n",
       "  </tbody>\n",
       "</table>\n",
       "</div>"
      ],
      "text/plain": [
       "         id    age  gender   size breeds.primary  breeds.mixed  \\\n",
       "1  35898350  Adult  Female  Small           Rare         False   \n",
       "2  30542160  Young  Female  Small           Rare          True   \n",
       "3  41000971  Adult  Female  Large           Rare         False   \n",
       "4  33618001  Young  Female  Large           Rare         False   \n",
       "5  35479179  Adult    Male  Large           Rare         False   \n",
       "\n",
       "   attributes.spayed_neutered  attributes.house_trained contact.address.state  \\\n",
       "1                        True                      True                    AL   \n",
       "2                        True                      True                    AL   \n",
       "3                        True                      True                    AL   \n",
       "4                        True                      True                    AL   \n",
       "5                        True                      True                    AL   \n",
       "\n",
       "  breed_pop  month  \n",
       "1       Low     11  \n",
       "2       Low      1  \n",
       "3       Low      3  \n",
       "4       Low     11  \n",
       "5       Low      8  "
      ]
     },
     "execution_count": 218,
     "metadata": {},
     "output_type": "execute_result"
    }
   ],
   "source": [
    "X.head()"
   ]
  },
  {
   "cell_type": "code",
   "execution_count": 248,
   "metadata": {},
   "outputs": [],
   "source": [
    "total_test = pd.concat([test_X,test_y], axis=1)"
   ]
  },
  {
   "cell_type": "code",
   "execution_count": 249,
   "metadata": {},
   "outputs": [],
   "source": [
    "export = total_test.to_csv('./data/test_set_all_A4.csv', header=True, index = False)"
   ]
  },
  {
   "cell_type": "code",
   "execution_count": 250,
   "metadata": {},
   "outputs": [],
   "source": [
    "total_trainval = pd.concat([trainval_X,trainval_y], axis=1)"
   ]
  },
  {
   "cell_type": "code",
   "execution_count": 251,
   "metadata": {},
   "outputs": [],
   "source": [
    "export = total_trainval.to_csv('./data/trainval_set_all_A4.csv', header=True, index = False)"
   ]
  },
  {
   "cell_type": "code",
   "execution_count": 147,
   "metadata": {},
   "outputs": [],
   "source": [
    "#from scipy import stats"
   ]
  },
  {
   "cell_type": "code",
   "execution_count": 169,
   "metadata": {},
   "outputs": [],
   "source": [
    "#bc_adpt_time,lmbda = stats.boxcox((total['adoption_time']+1))"
   ]
  },
  {
   "cell_type": "code",
   "execution_count": 170,
   "metadata": {},
   "outputs": [
    {
     "data": {
      "text/plain": [
       "<matplotlib.axes._subplots.AxesSubplot at 0x1fbf8ff4358>"
      ]
     },
     "execution_count": 170,
     "metadata": {},
     "output_type": "execute_result"
    },
    {
     "data": {
      "image/png": "[encoded data removed]",
      "text/plain": [
       "<Figure size 432x288 with 1 Axes>"
      ]
     },
     "metadata": {
      "needs_background": "light"
     },
     "output_type": "display_data"
    }
   ],
   "source": [
    "#sns.distplot(bc_adpt_time)"
   ]
  },
  {
   "cell_type": "code",
   "execution_count": 171,
   "metadata": {},
   "outputs": [
    {
     "data": {
      "text/plain": [
       "0.13720434611179522"
      ]
     },
     "execution_count": 171,
     "metadata": {},
     "output_type": "execute_result"
    }
   ],
   "source": [
    "#lmbda"
   ]
  },
  {
   "cell_type": "code",
   "execution_count": 172,
   "metadata": {},
   "outputs": [],
   "source": [
    "#from scipy.special import boxcox,inv_boxcox"
   ]
  },
  {
   "cell_type": "code",
   "execution_count": 251,
   "metadata": {},
   "outputs": [
    {
     "data": {
      "text/plain": [
       "[Text(0, 0.5, 'count'), Text(0.5, 0, 'transformed time')]"
      ]
     },
     "execution_count": 251,
     "metadata": {},
     "output_type": "execute_result"
    },
    {
     "data": {
      "image/png": "[encoded data removed]",
      "text/plain": [
       "<Figure size 432x288 with 1 Axes>"
      ]
     },
     "metadata": {
      "needs_background": "light"
     },
     "output_type": "display_data"
    }
   ],
   "source": [
    "tf_adpt_time = total.apply(lambda x: np.power(((x['adoption_time'])+6),(0.2)), axis=1)\n",
    "ax = sns.distplot(tf_adpt_time, kde=False)\n",
    "ax.set(xlabel='transformed time', ylabel='count')"
   ]
  },
  {
   "cell_type": "code",
   "execution_count": 86,
   "metadata": {},
   "outputs": [
    {
     "data": {
      "text/html": [
       "<div>\n",
       "<style scoped>\n",
       "    .dataframe tbody tr th:only-of-type {\n",
       "        vertical-align: middle;\n",
       "    }\n",
       "\n",
       "    .dataframe tbody tr th {\n",
       "        vertical-align: top;\n",
       "    }\n",
       "\n",
       "    .dataframe thead th {\n",
       "        text-align: right;\n",
       "    }\n",
       "</style>\n",
       "<table border=\"1\" class=\"dataframe\">\n",
       "  <thead>\n",
       "    <tr style=\"text-align: right;\">\n",
       "      <th></th>\n",
       "      <th>age</th>\n",
       "      <th>gender</th>\n",
       "      <th>size</th>\n",
       "      <th>breeds.mixed</th>\n",
       "      <th>attributes.spayed_neutered</th>\n",
       "      <th>attributes.house_trained</th>\n",
       "      <th>attributes.special_needs</th>\n",
       "      <th>attributes.shots_current</th>\n",
       "      <th>contact.address.state</th>\n",
       "      <th>adoption_time</th>\n",
       "    </tr>\n",
       "  </thead>\n",
       "  <tbody>\n",
       "    <tr>\n",
       "      <th>0</th>\n",
       "      <td>Baby</td>\n",
       "      <td>Female</td>\n",
       "      <td>Small</td>\n",
       "      <td>True</td>\n",
       "      <td>True</td>\n",
       "      <td>True</td>\n",
       "      <td>False</td>\n",
       "      <td>True</td>\n",
       "      <td>CA</td>\n",
       "      <td>19</td>\n",
       "    </tr>\n",
       "    <tr>\n",
       "      <th>1</th>\n",
       "      <td>Young</td>\n",
       "      <td>Male</td>\n",
       "      <td>Small</td>\n",
       "      <td>False</td>\n",
       "      <td>True</td>\n",
       "      <td>True</td>\n",
       "      <td>False</td>\n",
       "      <td>True</td>\n",
       "      <td>CA</td>\n",
       "      <td>29</td>\n",
       "    </tr>\n",
       "    <tr>\n",
       "      <th>2</th>\n",
       "      <td>Young</td>\n",
       "      <td>Male</td>\n",
       "      <td>Medium</td>\n",
       "      <td>False</td>\n",
       "      <td>True</td>\n",
       "      <td>False</td>\n",
       "      <td>False</td>\n",
       "      <td>True</td>\n",
       "      <td>CA</td>\n",
       "      <td>18</td>\n",
       "    </tr>\n",
       "    <tr>\n",
       "      <th>3</th>\n",
       "      <td>Adult</td>\n",
       "      <td>Female</td>\n",
       "      <td>Medium</td>\n",
       "      <td>False</td>\n",
       "      <td>True</td>\n",
       "      <td>False</td>\n",
       "      <td>False</td>\n",
       "      <td>True</td>\n",
       "      <td>CA</td>\n",
       "      <td>57</td>\n",
       "    </tr>\n",
       "    <tr>\n",
       "      <th>4</th>\n",
       "      <td>Young</td>\n",
       "      <td>Male</td>\n",
       "      <td>Medium</td>\n",
       "      <td>True</td>\n",
       "      <td>True</td>\n",
       "      <td>False</td>\n",
       "      <td>False</td>\n",
       "      <td>True</td>\n",
       "      <td>CA</td>\n",
       "      <td>8</td>\n",
       "    </tr>\n",
       "  </tbody>\n",
       "</table>\n",
       "</div>"
      ],
      "text/plain": [
       "     age  gender    size  breeds.mixed  attributes.spayed_neutered  \\\n",
       "0   Baby  Female   Small          True                        True   \n",
       "1  Young    Male   Small         False                        True   \n",
       "2  Young    Male  Medium         False                        True   \n",
       "3  Adult  Female  Medium         False                        True   \n",
       "4  Young    Male  Medium          True                        True   \n",
       "\n",
       "   attributes.house_trained  attributes.special_needs  \\\n",
       "0                      True                     False   \n",
       "1                      True                     False   \n",
       "2                     False                     False   \n",
       "3                     False                     False   \n",
       "4                     False                     False   \n",
       "\n",
       "   attributes.shots_current contact.address.state  adoption_time  \n",
       "0                      True                    CA             19  \n",
       "1                      True                    CA             29  \n",
       "2                      True                    CA             18  \n",
       "3                      True                    CA             57  \n",
       "4                      True                    CA              8  "
      ]
     },
     "execution_count": 86,
     "metadata": {},
     "output_type": "execute_result"
    }
   ],
   "source": [
    "total.head()"
   ]
  },
  {
   "cell_type": "code",
   "execution_count": 87,
   "metadata": {},
   "outputs": [
    {
     "data": {
      "text/plain": [
       "153436"
      ]
     },
     "execution_count": 87,
     "metadata": {},
     "output_type": "execute_result"
    }
   ],
   "source": [
    "len(X)"
   ]
  },
  {
   "cell_type": "code",
   "execution_count": 252,
   "metadata": {},
   "outputs": [],
   "source": [
    "total['mod_adpt_time'] = total.apply(lambda x: np.power(((x['adoption_time'])+6),(0.2)), axis=1)"
   ]
  },
  {
   "cell_type": "code",
   "execution_count": 186,
   "metadata": {},
   "outputs": [
    {
     "name": "stdout",
     "output_type": "stream",
     "text": [
      "Training set size = 72502 and Test set size = 18126\n"
     ]
    }
   ],
   "source": [
    "from sklearn.model_selection import train_test_split\n",
    "#trainval_X, test_X, trainval_y, test_y = train_test_split(X, y, test_size=0.2)\n",
    "#use log_adpt_time as feature\n",
    "trainval_X, test_X, trainval_y, test_y = train_test_split(X, total['cg_adpt_time'], test_size=0.2)\n",
    "print('Training set size = {} and Test set size = {}'.format(len(trainval_X),len(test_X)))"
   ]
  },
  {
   "cell_type": "code",
   "execution_count": 187,
   "metadata": {},
   "outputs": [],
   "source": [
    "total_test = pd.concat([test_X,test_y], axis=1)\n",
    "export = total_test.to_csv('./data/test_set_scoped_cg.csv', header=True, index = False)\n",
    "total_trainval = pd.concat([trainval_X,trainval_y], axis=1)\n",
    "export = total_trainval.to_csv('./data/trainval_set_scoped_cg.csv', header=True, index = False)"
   ]
  }
 ],
 "metadata": {
  "kernelspec": {
   "display_name": "Python 3",
   "language": "python",
   "name": "python3"
  },
  "language_info": {
   "codemirror_mode": {
    "name": "ipython",
    "version": 3
   },
   "file_extension": ".py",
   "mimetype": "text/x-python",
   "name": "python",
   "nbconvert_exporter": "python",
   "pygments_lexer": "ipython3",
   "version": "3.7.6"
  }
 },
 "nbformat": 4,
 "nbformat_minor": 2
}
