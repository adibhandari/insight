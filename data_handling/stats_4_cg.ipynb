{
 "cells": [
  {
   "cell_type": "code",
   "execution_count": 1,
   "metadata": {},
   "outputs": [],
   "source": [
    "#merge data from several states\n",
    "import numpy as np\n",
    "import pandas as pd\n",
    "import json\n",
    "from pandas.io.json import json_normalize\n",
    "import matplotlib.pyplot as plt\n",
    "import pprint\n",
    "import seaborn as sns\n",
    "from pprint import pprint"
   ]
  },
  {
   "cell_type": "code",
   "execution_count": 2,
   "metadata": {},
   "outputs": [],
   "source": [
    "alldogs_merged = pd.read_csv('./data/alldogs_scoped_merged.csv')\n",
    "state={'CA':'Los Angeles', 'MN': 'Minneapolis', 'NY':'New York', 'TX': 'Houston'}"
   ]
  },
  {
   "cell_type": "code",
   "execution_count": 3,
   "metadata": {},
   "outputs": [
    {
     "data": {
      "text/plain": [
       "184542"
      ]
     },
     "execution_count": 3,
     "metadata": {},
     "output_type": "execute_result"
    }
   ],
   "source": [
    "len(alldogs_merged)"
   ]
  },
  {
   "cell_type": "code",
   "execution_count": 4,
   "metadata": {},
   "outputs": [
    {
     "data": {
      "text/html": [
       "<div>\n",
       "<style scoped>\n",
       "    .dataframe tbody tr th:only-of-type {\n",
       "        vertical-align: middle;\n",
       "    }\n",
       "\n",
       "    .dataframe tbody tr th {\n",
       "        vertical-align: top;\n",
       "    }\n",
       "\n",
       "    .dataframe thead th {\n",
       "        text-align: right;\n",
       "    }\n",
       "</style>\n",
       "<table border=\"1\" class=\"dataframe\">\n",
       "  <thead>\n",
       "    <tr style=\"text-align: right;\">\n",
       "      <th></th>\n",
       "      <th>id</th>\n",
       "      <th>organization_id</th>\n",
       "      <th>url</th>\n",
       "      <th>age</th>\n",
       "      <th>gender</th>\n",
       "      <th>size</th>\n",
       "      <th>coat</th>\n",
       "      <th>tags</th>\n",
       "      <th>name</th>\n",
       "      <th>status</th>\n",
       "      <th>...</th>\n",
       "      <th>attributes.declawed</th>\n",
       "      <th>attributes.special_needs</th>\n",
       "      <th>attributes.shots_current</th>\n",
       "      <th>environment.children</th>\n",
       "      <th>environment.dogs</th>\n",
       "      <th>environment.cats</th>\n",
       "      <th>contact.address.city</th>\n",
       "      <th>contact.address.state</th>\n",
       "      <th>contact.address.postcode</th>\n",
       "      <th>adoption_time</th>\n",
       "    </tr>\n",
       "  </thead>\n",
       "  <tbody>\n",
       "    <tr>\n",
       "      <th>0</th>\n",
       "      <td>33853923</td>\n",
       "      <td>CA2395</td>\n",
       "      <td>https://www.petfinder.com/dog/sunny-33853923/c...</td>\n",
       "      <td>Baby</td>\n",
       "      <td>Female</td>\n",
       "      <td>Small</td>\n",
       "      <td>NaN</td>\n",
       "      <td>[]</td>\n",
       "      <td>Sunny</td>\n",
       "      <td>adopted</td>\n",
       "      <td>...</td>\n",
       "      <td>NaN</td>\n",
       "      <td>False</td>\n",
       "      <td>True</td>\n",
       "      <td>NaN</td>\n",
       "      <td>NaN</td>\n",
       "      <td>NaN</td>\n",
       "      <td>Los Angeles</td>\n",
       "      <td>CA</td>\n",
       "      <td>90013</td>\n",
       "      <td>19</td>\n",
       "    </tr>\n",
       "    <tr>\n",
       "      <th>1</th>\n",
       "      <td>33853969</td>\n",
       "      <td>CA2395</td>\n",
       "      <td>https://www.petfinder.com/dog/batman-33853969/...</td>\n",
       "      <td>Young</td>\n",
       "      <td>Male</td>\n",
       "      <td>Small</td>\n",
       "      <td>Short</td>\n",
       "      <td>[]</td>\n",
       "      <td>Batman</td>\n",
       "      <td>adopted</td>\n",
       "      <td>...</td>\n",
       "      <td>NaN</td>\n",
       "      <td>False</td>\n",
       "      <td>True</td>\n",
       "      <td>NaN</td>\n",
       "      <td>NaN</td>\n",
       "      <td>NaN</td>\n",
       "      <td>Los Angeles</td>\n",
       "      <td>CA</td>\n",
       "      <td>90013</td>\n",
       "      <td>29</td>\n",
       "    </tr>\n",
       "    <tr>\n",
       "      <th>2</th>\n",
       "      <td>34004290</td>\n",
       "      <td>CA2395</td>\n",
       "      <td>https://www.petfinder.com/dog/benji-34004290/c...</td>\n",
       "      <td>Young</td>\n",
       "      <td>Male</td>\n",
       "      <td>Medium</td>\n",
       "      <td>Short</td>\n",
       "      <td>[]</td>\n",
       "      <td>Benji</td>\n",
       "      <td>adopted</td>\n",
       "      <td>...</td>\n",
       "      <td>NaN</td>\n",
       "      <td>False</td>\n",
       "      <td>True</td>\n",
       "      <td>NaN</td>\n",
       "      <td>NaN</td>\n",
       "      <td>NaN</td>\n",
       "      <td>Los Angeles</td>\n",
       "      <td>CA</td>\n",
       "      <td>90013</td>\n",
       "      <td>18</td>\n",
       "    </tr>\n",
       "    <tr>\n",
       "      <th>3</th>\n",
       "      <td>34042721</td>\n",
       "      <td>CA2395</td>\n",
       "      <td>https://www.petfinder.com/dog/zuma-34042721/ca...</td>\n",
       "      <td>Adult</td>\n",
       "      <td>Female</td>\n",
       "      <td>Medium</td>\n",
       "      <td>Short</td>\n",
       "      <td>[]</td>\n",
       "      <td>Zuma</td>\n",
       "      <td>adopted</td>\n",
       "      <td>...</td>\n",
       "      <td>NaN</td>\n",
       "      <td>False</td>\n",
       "      <td>True</td>\n",
       "      <td>NaN</td>\n",
       "      <td>NaN</td>\n",
       "      <td>NaN</td>\n",
       "      <td>Los Angeles</td>\n",
       "      <td>CA</td>\n",
       "      <td>90013</td>\n",
       "      <td>57</td>\n",
       "    </tr>\n",
       "    <tr>\n",
       "      <th>4</th>\n",
       "      <td>34079567</td>\n",
       "      <td>CA2395</td>\n",
       "      <td>https://www.petfinder.com/dog/diego-34079567/c...</td>\n",
       "      <td>Young</td>\n",
       "      <td>Male</td>\n",
       "      <td>Medium</td>\n",
       "      <td>Medium</td>\n",
       "      <td>[]</td>\n",
       "      <td>Diego</td>\n",
       "      <td>adopted</td>\n",
       "      <td>...</td>\n",
       "      <td>NaN</td>\n",
       "      <td>False</td>\n",
       "      <td>True</td>\n",
       "      <td>NaN</td>\n",
       "      <td>NaN</td>\n",
       "      <td>NaN</td>\n",
       "      <td>Los Angeles</td>\n",
       "      <td>CA</td>\n",
       "      <td>90013</td>\n",
       "      <td>8</td>\n",
       "    </tr>\n",
       "  </tbody>\n",
       "</table>\n",
       "<p>5 rows × 32 columns</p>\n",
       "</div>"
      ],
      "text/plain": [
       "         id organization_id  \\\n",
       "0  33853923          CA2395   \n",
       "1  33853969          CA2395   \n",
       "2  34004290          CA2395   \n",
       "3  34042721          CA2395   \n",
       "4  34079567          CA2395   \n",
       "\n",
       "                                                 url    age  gender    size  \\\n",
       "0  https://www.petfinder.com/dog/sunny-33853923/c...   Baby  Female   Small   \n",
       "1  https://www.petfinder.com/dog/batman-33853969/...  Young    Male   Small   \n",
       "2  https://www.petfinder.com/dog/benji-34004290/c...  Young    Male  Medium   \n",
       "3  https://www.petfinder.com/dog/zuma-34042721/ca...  Adult  Female  Medium   \n",
       "4  https://www.petfinder.com/dog/diego-34079567/c...  Young    Male  Medium   \n",
       "\n",
       "     coat tags    name   status  ... attributes.declawed  \\\n",
       "0     NaN   []   Sunny  adopted  ...                 NaN   \n",
       "1   Short   []  Batman  adopted  ...                 NaN   \n",
       "2   Short   []   Benji  adopted  ...                 NaN   \n",
       "3   Short   []    Zuma  adopted  ...                 NaN   \n",
       "4  Medium   []   Diego  adopted  ...                 NaN   \n",
       "\n",
       "  attributes.special_needs  attributes.shots_current environment.children  \\\n",
       "0                    False                      True                  NaN   \n",
       "1                    False                      True                  NaN   \n",
       "2                    False                      True                  NaN   \n",
       "3                    False                      True                  NaN   \n",
       "4                    False                      True                  NaN   \n",
       "\n",
       "  environment.dogs  environment.cats  contact.address.city  \\\n",
       "0              NaN               NaN           Los Angeles   \n",
       "1              NaN               NaN           Los Angeles   \n",
       "2              NaN               NaN           Los Angeles   \n",
       "3              NaN               NaN           Los Angeles   \n",
       "4              NaN               NaN           Los Angeles   \n",
       "\n",
       "  contact.address.state contact.address.postcode adoption_time  \n",
       "0                    CA                    90013            19  \n",
       "1                    CA                    90013            29  \n",
       "2                    CA                    90013            18  \n",
       "3                    CA                    90013            57  \n",
       "4                    CA                    90013             8  \n",
       "\n",
       "[5 rows x 32 columns]"
      ]
     },
     "execution_count": 4,
     "metadata": {},
     "output_type": "execute_result"
    }
   ],
   "source": [
    "alldogs_merged.head()"
   ]
  },
  {
   "cell_type": "code",
   "execution_count": 206,
   "metadata": {},
   "outputs": [
    {
     "data": {
      "text/plain": [
       "New York            15988\n",
       "Staten Island        6022\n",
       "Brooklyn             5965\n",
       "Island Park          4081\n",
       "Long Beach           3762\n",
       "Yonkers              2437\n",
       "Flushing             2271\n",
       "Nyc                  2184\n",
       "Ozone Park           1867\n",
       "East Rockaway        1787\n",
       "Manhasset             909\n",
       "Port Washington       887\n",
       "Mt. Vernon            671\n",
       "Manhattan             543\n",
       "New Hyde Park         442\n",
       "Astoria               379\n",
       "Valley Stream         358\n",
       "Old Westbury          316\n",
       "Glendale              273\n",
       "Long Island City      217\n",
       "Bronx                 209\n",
       "Oakland Gardens       137\n",
       "Far Rockaway           82\n",
       "Roslyn                 43\n",
       "Forest Hills           37\n",
       "Garden City            36\n",
       "Woodside               35\n",
       "South Ozone Park       30\n",
       "Fresh Meadows          20\n",
       "Rego Park              10\n",
       "Middle Village          9\n",
       "Ridgewood               9\n",
       "garden city park        6\n",
       "Jamaica                 6\n",
       "Malverne                4\n",
       "new Hyde Park           4\n",
       "BROOKLYN                3\n",
       "Whitestone              2\n",
       "New Rochelle            2\n",
       "Bronxville              2\n",
       "Jackson Heights         2\n",
       "Douglaston              2\n",
       "ELMONT                  1\n",
       "Eastchester             1\n",
       "FAR ROCKAWAY            1\n",
       "Uniondale               1\n",
       "Mount Vernon            1\n",
       "Rockaway Park           1\n",
       "Flushing                1\n",
       "Tuckahoe                1\n",
       "yonkers                 1\n",
       "Hewlett                 1\n",
       "bronx                   1\n",
       "Pelham                  1\n",
       "Rockville Center        1\n",
       "Name: contact.address.city, dtype: int64"
      ]
     },
     "execution_count": 206,
     "metadata": {},
     "output_type": "execute_result"
    }
   ],
   "source": [
    "alldogs_merged[alldogs_merged['contact.address.state']=='NY']['contact.address.city'].value_counts()"
   ]
  },
  {
   "cell_type": "code",
   "execution_count": 5,
   "metadata": {},
   "outputs": [
    {
     "name": "stdout",
     "output_type": "stream",
     "text": [
      "{'CA': 184.01237496363595,\n",
      " 'MN': 102.96562054208273,\n",
      " 'NY': 227.69666935576814,\n",
      " 'TX': 140.0659042704393}\n"
     ]
    }
   ],
   "source": [
    "mean_adpt_time = {}\n",
    "#create a dict with each state and average adoption time\n",
    "for current_state,current_city in state.items():\n",
    "    key = current_state\n",
    "    val = alldogs_merged[alldogs_merged['contact.address.state'] == current_state]['adoption_time'].mean()\n",
    "    mean_adpt_time[key] = val\n",
    "pprint(mean_adpt_time)"
   ]
  },
  {
   "cell_type": "code",
   "execution_count": 5,
   "metadata": {},
   "outputs": [],
   "source": [
    "from datetime import datetime\n",
    "def get_month(date):\n",
    "    z = datetime.strptime(date,\"%Y-%m-%dT%H:%M:%S%z\")\n",
    "    return z.month"
   ]
  },
  {
   "cell_type": "code",
   "execution_count": 6,
   "metadata": {},
   "outputs": [],
   "source": [
    "alldogs_merged['month'] = alldogs_merged.apply(lambda x: get_month(x['status_changed_at']), axis=1)"
   ]
  },
  {
   "cell_type": "code",
   "execution_count": 7,
   "metadata": {},
   "outputs": [],
   "source": [
    "from datetime import datetime\n",
    "def get_year(date):\n",
    "    z = datetime.strptime(date,\"%Y-%m-%dT%H:%M:%S%z\")\n",
    "    return z.year"
   ]
  },
  {
   "cell_type": "code",
   "execution_count": 8,
   "metadata": {},
   "outputs": [],
   "source": [
    "alldogs_merged['year'] = alldogs_merged.apply(lambda x: get_year(x['status_changed_at']), axis=1)"
   ]
  },
  {
   "cell_type": "code",
   "execution_count": 9,
   "metadata": {},
   "outputs": [
    {
     "data": {
      "text/html": [
       "<div>\n",
       "<style scoped>\n",
       "    .dataframe tbody tr th:only-of-type {\n",
       "        vertical-align: middle;\n",
       "    }\n",
       "\n",
       "    .dataframe tbody tr th {\n",
       "        vertical-align: top;\n",
       "    }\n",
       "\n",
       "    .dataframe thead th {\n",
       "        text-align: right;\n",
       "    }\n",
       "</style>\n",
       "<table border=\"1\" class=\"dataframe\">\n",
       "  <thead>\n",
       "    <tr style=\"text-align: right;\">\n",
       "      <th></th>\n",
       "      <th>id</th>\n",
       "      <th>organization_id</th>\n",
       "      <th>url</th>\n",
       "      <th>age</th>\n",
       "      <th>gender</th>\n",
       "      <th>size</th>\n",
       "      <th>coat</th>\n",
       "      <th>tags</th>\n",
       "      <th>name</th>\n",
       "      <th>status</th>\n",
       "      <th>...</th>\n",
       "      <th>attributes.shots_current</th>\n",
       "      <th>environment.children</th>\n",
       "      <th>environment.dogs</th>\n",
       "      <th>environment.cats</th>\n",
       "      <th>contact.address.city</th>\n",
       "      <th>contact.address.state</th>\n",
       "      <th>contact.address.postcode</th>\n",
       "      <th>adoption_time</th>\n",
       "      <th>month</th>\n",
       "      <th>year</th>\n",
       "    </tr>\n",
       "  </thead>\n",
       "  <tbody>\n",
       "    <tr>\n",
       "      <th>0</th>\n",
       "      <td>33853923</td>\n",
       "      <td>CA2395</td>\n",
       "      <td>https://www.petfinder.com/dog/sunny-33853923/c...</td>\n",
       "      <td>Baby</td>\n",
       "      <td>Female</td>\n",
       "      <td>Small</td>\n",
       "      <td>NaN</td>\n",
       "      <td>[]</td>\n",
       "      <td>Sunny</td>\n",
       "      <td>adopted</td>\n",
       "      <td>...</td>\n",
       "      <td>True</td>\n",
       "      <td>NaN</td>\n",
       "      <td>NaN</td>\n",
       "      <td>NaN</td>\n",
       "      <td>Los Angeles</td>\n",
       "      <td>CA</td>\n",
       "      <td>90013</td>\n",
       "      <td>19</td>\n",
       "      <td>12</td>\n",
       "      <td>2015</td>\n",
       "    </tr>\n",
       "    <tr>\n",
       "      <th>1</th>\n",
       "      <td>33853969</td>\n",
       "      <td>CA2395</td>\n",
       "      <td>https://www.petfinder.com/dog/batman-33853969/...</td>\n",
       "      <td>Young</td>\n",
       "      <td>Male</td>\n",
       "      <td>Small</td>\n",
       "      <td>Short</td>\n",
       "      <td>[]</td>\n",
       "      <td>Batman</td>\n",
       "      <td>adopted</td>\n",
       "      <td>...</td>\n",
       "      <td>True</td>\n",
       "      <td>NaN</td>\n",
       "      <td>NaN</td>\n",
       "      <td>NaN</td>\n",
       "      <td>Los Angeles</td>\n",
       "      <td>CA</td>\n",
       "      <td>90013</td>\n",
       "      <td>29</td>\n",
       "      <td>12</td>\n",
       "      <td>2015</td>\n",
       "    </tr>\n",
       "    <tr>\n",
       "      <th>2</th>\n",
       "      <td>34004290</td>\n",
       "      <td>CA2395</td>\n",
       "      <td>https://www.petfinder.com/dog/benji-34004290/c...</td>\n",
       "      <td>Young</td>\n",
       "      <td>Male</td>\n",
       "      <td>Medium</td>\n",
       "      <td>Short</td>\n",
       "      <td>[]</td>\n",
       "      <td>Benji</td>\n",
       "      <td>adopted</td>\n",
       "      <td>...</td>\n",
       "      <td>True</td>\n",
       "      <td>NaN</td>\n",
       "      <td>NaN</td>\n",
       "      <td>NaN</td>\n",
       "      <td>Los Angeles</td>\n",
       "      <td>CA</td>\n",
       "      <td>90013</td>\n",
       "      <td>18</td>\n",
       "      <td>12</td>\n",
       "      <td>2015</td>\n",
       "    </tr>\n",
       "    <tr>\n",
       "      <th>3</th>\n",
       "      <td>34042721</td>\n",
       "      <td>CA2395</td>\n",
       "      <td>https://www.petfinder.com/dog/zuma-34042721/ca...</td>\n",
       "      <td>Adult</td>\n",
       "      <td>Female</td>\n",
       "      <td>Medium</td>\n",
       "      <td>Short</td>\n",
       "      <td>[]</td>\n",
       "      <td>Zuma</td>\n",
       "      <td>adopted</td>\n",
       "      <td>...</td>\n",
       "      <td>True</td>\n",
       "      <td>NaN</td>\n",
       "      <td>NaN</td>\n",
       "      <td>NaN</td>\n",
       "      <td>Los Angeles</td>\n",
       "      <td>CA</td>\n",
       "      <td>90013</td>\n",
       "      <td>57</td>\n",
       "      <td>2</td>\n",
       "      <td>2016</td>\n",
       "    </tr>\n",
       "    <tr>\n",
       "      <th>4</th>\n",
       "      <td>34079567</td>\n",
       "      <td>CA2395</td>\n",
       "      <td>https://www.petfinder.com/dog/diego-34079567/c...</td>\n",
       "      <td>Young</td>\n",
       "      <td>Male</td>\n",
       "      <td>Medium</td>\n",
       "      <td>Medium</td>\n",
       "      <td>[]</td>\n",
       "      <td>Diego</td>\n",
       "      <td>adopted</td>\n",
       "      <td>...</td>\n",
       "      <td>True</td>\n",
       "      <td>NaN</td>\n",
       "      <td>NaN</td>\n",
       "      <td>NaN</td>\n",
       "      <td>Los Angeles</td>\n",
       "      <td>CA</td>\n",
       "      <td>90013</td>\n",
       "      <td>8</td>\n",
       "      <td>12</td>\n",
       "      <td>2015</td>\n",
       "    </tr>\n",
       "  </tbody>\n",
       "</table>\n",
       "<p>5 rows × 34 columns</p>\n",
       "</div>"
      ],
      "text/plain": [
       "         id organization_id  \\\n",
       "0  33853923          CA2395   \n",
       "1  33853969          CA2395   \n",
       "2  34004290          CA2395   \n",
       "3  34042721          CA2395   \n",
       "4  34079567          CA2395   \n",
       "\n",
       "                                                 url    age  gender    size  \\\n",
       "0  https://www.petfinder.com/dog/sunny-33853923/c...   Baby  Female   Small   \n",
       "1  https://www.petfinder.com/dog/batman-33853969/...  Young    Male   Small   \n",
       "2  https://www.petfinder.com/dog/benji-34004290/c...  Young    Male  Medium   \n",
       "3  https://www.petfinder.com/dog/zuma-34042721/ca...  Adult  Female  Medium   \n",
       "4  https://www.petfinder.com/dog/diego-34079567/c...  Young    Male  Medium   \n",
       "\n",
       "     coat tags    name   status  ... attributes.shots_current  \\\n",
       "0     NaN   []   Sunny  adopted  ...                     True   \n",
       "1   Short   []  Batman  adopted  ...                     True   \n",
       "2   Short   []   Benji  adopted  ...                     True   \n",
       "3   Short   []    Zuma  adopted  ...                     True   \n",
       "4  Medium   []   Diego  adopted  ...                     True   \n",
       "\n",
       "  environment.children  environment.dogs environment.cats  \\\n",
       "0                  NaN               NaN              NaN   \n",
       "1                  NaN               NaN              NaN   \n",
       "2                  NaN               NaN              NaN   \n",
       "3                  NaN               NaN              NaN   \n",
       "4                  NaN               NaN              NaN   \n",
       "\n",
       "  contact.address.city  contact.address.state  contact.address.postcode  \\\n",
       "0          Los Angeles                     CA                     90013   \n",
       "1          Los Angeles                     CA                     90013   \n",
       "2          Los Angeles                     CA                     90013   \n",
       "3          Los Angeles                     CA                     90013   \n",
       "4          Los Angeles                     CA                     90013   \n",
       "\n",
       "  adoption_time month  year  \n",
       "0            19    12  2015  \n",
       "1            29    12  2015  \n",
       "2            18    12  2015  \n",
       "3            57     2  2016  \n",
       "4             8    12  2015  \n",
       "\n",
       "[5 rows x 34 columns]"
      ]
     },
     "execution_count": 9,
     "metadata": {},
     "output_type": "execute_result"
    }
   ],
   "source": [
    "alldogs_merged.head()"
   ]
  },
  {
   "cell_type": "code",
   "execution_count": 10,
   "metadata": {},
   "outputs": [
    {
     "data": {
      "text/plain": [
       "2010    21132\n",
       "2017    19083\n",
       "2016    18565\n",
       "2019    18422\n",
       "2015    17968\n",
       "2018    17705\n",
       "2014    17118\n",
       "2013    16294\n",
       "2012    14872\n",
       "2011    12860\n",
       "2009     6046\n",
       "2008     2144\n",
       "2007     1352\n",
       "2020      921\n",
       "2006       60\n",
       "Name: year, dtype: int64"
      ]
     },
     "execution_count": 10,
     "metadata": {},
     "output_type": "execute_result"
    }
   ],
   "source": [
    "alldogs_merged['year'].value_counts()"
   ]
  },
  {
   "cell_type": "code",
   "execution_count": 11,
   "metadata": {},
   "outputs": [
    {
     "data": {
      "text/plain": [
       "year\n",
       "2016     73.414059\n",
       "2017     76.365089\n",
       "2012     76.758136\n",
       "2019     77.032733\n",
       "2015     79.491374\n",
       "2018     79.584242\n",
       "2013     80.056278\n",
       "2014     86.780699\n",
       "2020     89.714441\n",
       "2011     92.026516\n",
       "2008    274.882463\n",
       "2006    401.583333\n",
       "2009    543.729739\n",
       "2007    615.247781\n",
       "2010    653.359691\n",
       "Name: adoption_time, dtype: float64"
      ]
     },
     "execution_count": 11,
     "metadata": {},
     "output_type": "execute_result"
    }
   ],
   "source": [
    "alldogs_merged.groupby('year')['adoption_time'].mean().sort_values()"
   ]
  },
  {
   "cell_type": "code",
   "execution_count": 12,
   "metadata": {},
   "outputs": [],
   "source": [
    "alldogs_year = alldogs_merged[alldogs_merged['year'] >= 2015]"
   ]
  },
  {
   "cell_type": "code",
   "execution_count": 13,
   "metadata": {},
   "outputs": [],
   "source": [
    "alldogs_year = alldogs_year[alldogs_year['year'] <= 2019]"
   ]
  },
  {
   "cell_type": "code",
   "execution_count": 14,
   "metadata": {},
   "outputs": [
    {
     "data": {
      "text/plain": [
       "91743"
      ]
     },
     "execution_count": 14,
     "metadata": {},
     "output_type": "execute_result"
    }
   ],
   "source": [
    "len(alldogs_year)"
   ]
  },
  {
   "cell_type": "code",
   "execution_count": 15,
   "metadata": {},
   "outputs": [
    {
     "data": {
      "text/plain": [
       "month\n",
       "8     67.254053\n",
       "3     71.229728\n",
       "6     72.453034\n",
       "11    72.882784\n",
       "5     74.287535\n",
       "7     75.475993\n",
       "9     76.399787\n",
       "2     76.894458\n",
       "1     80.419748\n",
       "4     84.082293\n",
       "12    85.465933\n",
       "10    89.175453\n",
       "Name: adoption_time, dtype: float64"
      ]
     },
     "execution_count": 15,
     "metadata": {},
     "output_type": "execute_result"
    }
   ],
   "source": [
    "alldogs_year.groupby('month')['adoption_time'].mean().sort_values()"
   ]
  },
  {
   "cell_type": "code",
   "execution_count": 16,
   "metadata": {},
   "outputs": [],
   "source": [
    "m=alldogs_year.groupby('month')['adoption_time'].mean()"
   ]
  },
  {
   "cell_type": "code",
   "execution_count": 20,
   "metadata": {},
   "outputs": [
    {
     "data": {
      "text/plain": [
       "<matplotlib.axes._subplots.AxesSubplot at 0x25c6b35d608>"
      ]
     },
     "execution_count": 20,
     "metadata": {},
     "output_type": "execute_result"
    },
    {
     "data": {
      "image/png": "[encoded data removed]",
      "text/plain": [
       "<Figure size 432x288 with 1 Axes>"
      ]
     },
     "metadata": {
      "needs_background": "light"
     },
     "output_type": "display_data"
    }
   ],
   "source": [
    "m.plot()"
   ]
  },
  {
   "cell_type": "code",
   "execution_count": 21,
   "metadata": {},
   "outputs": [
    {
     "data": {
      "text/plain": [
       "<matplotlib.axes._subplots.AxesSubplot at 0x25c6b467988>"
      ]
     },
     "execution_count": 21,
     "metadata": {},
     "output_type": "execute_result"
    },
    {
     "data": {
      "image/png": "[encoded data removed]",
      "text/plain": [
       "<Figure size 432x288 with 1 Axes>"
      ]
     },
     "metadata": {
      "needs_background": "light"
     },
     "output_type": "display_data"
    }
   ],
   "source": [
    "y=alldogs_year.groupby('year')['adoption_time'].mean()\n",
    "y.plot()"
   ]
  },
  {
   "cell_type": "code",
   "execution_count": 24,
   "metadata": {},
   "outputs": [
    {
     "data": {
      "text/plain": [
       "<matplotlib.axes._subplots.AxesSubplot at 0x25c6a9a5fc8>"
      ]
     },
     "execution_count": 24,
     "metadata": {},
     "output_type": "execute_result"
    },
    {
     "data": {
      "image/png": "[encoded data removed]",
      "text/plain": [
       "<Figure size 432x288 with 1 Axes>"
      ]
     },
     "metadata": {
      "needs_background": "light"
     },
     "output_type": "display_data"
    }
   ],
   "source": [
    "sns.distplot(alldogs_year['adoption_time'], kde=False)"
   ]
  },
  {
   "cell_type": "code",
   "execution_count": 25,
   "metadata": {},
   "outputs": [
    {
     "data": {
      "text/plain": [
       "<seaborn.axisgrid.FacetGrid at 0x25c6b272888>"
      ]
     },
     "execution_count": 25,
     "metadata": {},
     "output_type": "execute_result"
    },
    {
     "data": {
      "image/png": "[encoded data removed]",
      "text/plain": [
       "<Figure size 360x360 with 1 Axes>"
      ]
     },
     "metadata": {
      "needs_background": "light"
     },
     "output_type": "display_data"
    }
   ],
   "source": [
    "sizeplot3 = sns.catplot(x='contact.address.state', y='adoption_time', order=[\"CA\", \"MN\", \"NY\", \"TX\"] , data=alldogs_year, kind='box');\n",
    "sizeplot3.set(ylim=(0,200))"
   ]
  },
  {
   "cell_type": "code",
   "execution_count": 26,
   "metadata": {},
   "outputs": [
    {
     "data": {
      "text/plain": [
       "count    91743.000000\n",
       "mean        77.135520\n",
       "std        203.562388\n",
       "min          0.000000\n",
       "25%         11.000000\n",
       "50%         26.000000\n",
       "75%         63.000000\n",
       "max       5676.000000\n",
       "Name: adoption_time, dtype: float64"
      ]
     },
     "execution_count": 26,
     "metadata": {},
     "output_type": "execute_result"
    }
   ],
   "source": [
    "alldogs_year['adoption_time'].describe()"
   ]
  },
  {
   "cell_type": "code",
   "execution_count": 27,
   "metadata": {},
   "outputs": [],
   "source": [
    "alldogs_year['log_adpt_time'] = alldogs_year.apply(lambda x: np.log((x['adoption_time'])+1.1), axis=1)"
   ]
  },
  {
   "cell_type": "code",
   "execution_count": 28,
   "metadata": {},
   "outputs": [
    {
     "data": {
      "text/plain": [
       "<matplotlib.axes._subplots.AxesSubplot at 0x25c6b5657c8>"
      ]
     },
     "execution_count": 28,
     "metadata": {},
     "output_type": "execute_result"
    },
    {
     "data": {
      "image/png": "[encoded data removed]",
      "text/plain": [
       "<Figure size 432x288 with 1 Axes>"
      ]
     },
     "metadata": {
      "needs_background": "light"
     },
     "output_type": "display_data"
    }
   ],
   "source": [
    "\n",
    "sns.distplot(alldogs_year['log_adpt_time'], kde=False)"
   ]
  },
  {
   "cell_type": "code",
   "execution_count": 32,
   "metadata": {},
   "outputs": [
    {
     "name": "stdout",
     "output_type": "stream",
     "text": [
      "[-0.25761797  0.04305276 -0.29561567 ... -1.64949925 -1.64949925\n",
      " -0.42284361]\n"
     ]
    }
   ],
   "source": [
    "from scipy import stats\n",
    "z = (stats.zscore(alldogs_year['log_adpt_time']))\n",
    "print(z)"
   ]
  },
  {
   "cell_type": "code",
   "execution_count": 33,
   "metadata": {},
   "outputs": [
    {
     "data": {
      "text/plain": [
       "1115"
      ]
     },
     "execution_count": 33,
     "metadata": {},
     "output_type": "execute_result"
    }
   ],
   "source": [
    "len(np.where(z >= 2.5)[0])"
   ]
  },
  {
   "cell_type": "code",
   "execution_count": 34,
   "metadata": {},
   "outputs": [
    {
     "data": {
      "text/plain": [
       "90628"
      ]
     },
     "execution_count": 34,
     "metadata": {},
     "output_type": "execute_result"
    }
   ],
   "source": [
    "alldogs_year_otl = alldogs_year[z<2.5]\n",
    "len(alldogs_year_otl)"
   ]
  },
  {
   "cell_type": "code",
   "execution_count": 35,
   "metadata": {},
   "outputs": [
    {
     "data": {
      "text/plain": [
       "<matplotlib.axes._subplots.AxesSubplot at 0x25c6b8db3c8>"
      ]
     },
     "execution_count": 35,
     "metadata": {},
     "output_type": "execute_result"
    },
    {
     "data": {
      "image/png": "[encoded data removed]",
      "text/plain": [
       "<Figure size 432x288 with 1 Axes>"
      ]
     },
     "metadata": {
      "needs_background": "light"
     },
     "output_type": "display_data"
    }
   ],
   "source": [
    "sns.distplot(alldogs_year_otl['adoption_time'], kde=False)"
   ]
  },
  {
   "cell_type": "code",
   "execution_count": 36,
   "metadata": {},
   "outputs": [
    {
     "data": {
      "text/plain": [
       "<matplotlib.axes._subplots.AxesSubplot at 0x25c6b8fc4c8>"
      ]
     },
     "execution_count": 36,
     "metadata": {},
     "output_type": "execute_result"
    },
    {
     "data": {
      "image/png": "[encoded data removed]",
      "text/plain": [
       "<Figure size 432x288 with 1 Axes>"
      ]
     },
     "metadata": {
      "needs_background": "light"
     },
     "output_type": "display_data"
    }
   ],
   "source": [
    "sns.distplot(alldogs_year_otl['log_adpt_time'], kde=False)"
   ]
  },
  {
   "cell_type": "code",
   "execution_count": 40,
   "metadata": {},
   "outputs": [
    {
     "name": "stderr",
     "output_type": "stream",
     "text": [
      "C:\\anaconda_python\\envs\\Insight\\lib\\site-packages\\ipykernel_launcher.py:1: SettingWithCopyWarning: \n",
      "A value is trying to be set on a copy of a slice from a DataFrame.\n",
      "Try using .loc[row_indexer,col_indexer] = value instead\n",
      "\n",
      "See the caveats in the documentation: http://pandas.pydata.org/pandas-docs/stable/user_guide/indexing.html#returning-a-view-versus-a-copy\n",
      "  \"\"\"Entry point for launching an IPython kernel.\n"
     ]
    }
   ],
   "source": [
    "alldogs_year_otl['mod_adpt_time'] = alldogs_year_otl.apply(lambda x: np.power(((x['adoption_time'])+6),(0.2)), axis=1)"
   ]
  },
  {
   "cell_type": "code",
   "execution_count": 42,
   "metadata": {},
   "outputs": [
    {
     "data": {
      "text/plain": [
       "<matplotlib.axes._subplots.AxesSubplot at 0x25c73c34088>"
      ]
     },
     "execution_count": 42,
     "metadata": {},
     "output_type": "execute_result"
    },
    {
     "data": {
      "image/png": "[encoded data removed]",
      "text/plain": [
       "<Figure size 432x288 with 1 Axes>"
      ]
     },
     "metadata": {
      "needs_background": "light"
     },
     "output_type": "display_data"
    }
   ],
   "source": [
    "sns.distplot(alldogs_year_otl['mod_adpt_time'], kde=False)"
   ]
  },
  {
   "cell_type": "code",
   "execution_count": 46,
   "metadata": {},
   "outputs": [
    {
     "name": "stderr",
     "output_type": "stream",
     "text": [
      "C:\\anaconda_python\\envs\\Insight\\lib\\site-packages\\ipykernel_launcher.py:1: SettingWithCopyWarning: \n",
      "A value is trying to be set on a copy of a slice from a DataFrame.\n",
      "Try using .loc[row_indexer,col_indexer] = value instead\n",
      "\n",
      "See the caveats in the documentation: http://pandas.pydata.org/pandas-docs/stable/user_guide/indexing.html#returning-a-view-versus-a-copy\n",
      "  \"\"\"Entry point for launching an IPython kernel.\n"
     ]
    }
   ],
   "source": [
    "alldogs_year_otl['logmod_adpt_time'] = alldogs_year_otl.apply(lambda x: np.log((x['adoption_time'])+100), axis=1)"
   ]
  },
  {
   "cell_type": "code",
   "execution_count": 47,
   "metadata": {},
   "outputs": [
    {
     "data": {
      "text/plain": [
       "<matplotlib.axes._subplots.AxesSubplot at 0x25c73c771c8>"
      ]
     },
     "execution_count": 47,
     "metadata": {},
     "output_type": "execute_result"
    },
    {
     "data": {
      "image/png": "[encoded data removed]",
      "text/plain": [
       "<Figure size 432x288 with 1 Axes>"
      ]
     },
     "metadata": {
      "needs_background": "light"
     },
     "output_type": "display_data"
    }
   ],
   "source": [
    "sns.distplot(alldogs_year_otl['logmod_adpt_time'], kde=False)"
   ]
  },
  {
   "cell_type": "code",
   "execution_count": 48,
   "metadata": {},
   "outputs": [
    {
     "data": {
      "text/plain": [
       "NormaltestResult(statistic=34318.16410630503, pvalue=0.0)"
      ]
     },
     "execution_count": 48,
     "metadata": {},
     "output_type": "execute_result"
    }
   ],
   "source": [
    "stats.normaltest(alldogs_year_otl['logmod_adpt_time'])"
   ]
  },
  {
   "cell_type": "code",
   "execution_count": 41,
   "metadata": {},
   "outputs": [
    {
     "data": {
      "text/plain": [
       "NormaltestResult(statistic=14399.947619246293, pvalue=0.0)"
      ]
     },
     "execution_count": 41,
     "metadata": {},
     "output_type": "execute_result"
    }
   ],
   "source": [
    "stats.normaltest(alldogs_year_otl['mod_adpt_time'])"
   ]
  },
  {
   "cell_type": "code",
   "execution_count": 37,
   "metadata": {},
   "outputs": [
    {
     "data": {
      "text/plain": [
       "NormaltestResult(statistic=69109.03824811809, pvalue=0.0)"
      ]
     },
     "execution_count": 37,
     "metadata": {},
     "output_type": "execute_result"
    }
   ],
   "source": [
    "stats.normaltest(alldogs_year_otl['adoption_time'])"
   ]
  },
  {
   "cell_type": "code",
   "execution_count": null,
   "metadata": {},
   "outputs": [],
   "source": []
  },
  {
   "cell_type": "code",
   "execution_count": 38,
   "metadata": {},
   "outputs": [
    {
     "data": {
      "text/plain": [
       "NormaltestResult(statistic=104.6242001522453, pvalue=1.910484859033382e-23)"
      ]
     },
     "execution_count": 38,
     "metadata": {},
     "output_type": "execute_result"
    }
   ],
   "source": [
    "stats.normaltest(alldogs_year_otl['log_adpt_time'])"
   ]
  },
  {
   "cell_type": "code",
   "execution_count": 26,
   "metadata": {},
   "outputs": [
    {
     "data": {
      "text/plain": [
       "1931      2019-08-07T17:49:48+0000\n",
       "8833      2019-02-23T05:26:52+0000\n",
       "20974     2015-01-04T13:32:05+0000\n",
       "21497     2016-07-03T14:24:29+0000\n",
       "24979     2016-07-10T23:17:31+0000\n",
       "                    ...           \n",
       "179686    2017-10-13T13:32:23+0000\n",
       "180221    2017-01-05T19:30:39+0000\n",
       "180342    2016-08-16T12:20:03+0000\n",
       "180485    2019-11-15T01:35:47+0000\n",
       "182024    2018-12-02T12:50:09+0000\n",
       "Name: status_changed_at, Length: 180, dtype: object"
      ]
     },
     "execution_count": 26,
     "metadata": {},
     "output_type": "execute_result"
    }
   ],
   "source": [
    "alldogs_year[alldogs_year['adoption_time']>2000]['status_changed_at']"
   ]
  },
  {
   "cell_type": "code",
   "execution_count": 24,
   "metadata": {},
   "outputs": [
    {
     "data": {
      "text/plain": [
       "<matplotlib.axes._subplots.AxesSubplot at 0x17e83d6db08>"
      ]
     },
     "execution_count": 24,
     "metadata": {},
     "output_type": "execute_result"
    },
    {
     "data": {
      "image/png": "[encoded data removed]",
      "text/plain": [
       "<Figure size 432x288 with 1 Axes>"
      ]
     },
     "metadata": {
      "needs_background": "light"
     },
     "output_type": "display_data"
    }
   ],
   "source": [
    "sns.boxplot(x=alldogs_year['adoption_time'])"
   ]
  },
  {
   "cell_type": "code",
   "execution_count": 89,
   "metadata": {},
   "outputs": [
    {
     "data": {
      "text/plain": [
       "16.074502361301143"
      ]
     },
     "execution_count": 89,
     "metadata": {},
     "output_type": "execute_result"
    }
   ],
   "source": [
    "#1 week -18%, 2 weeks = 33%, 1 month - 56%, 100 days - 85%\n",
    "(len(alldogs_year_otl[alldogs_year_otl['adoption_time']<7])/len(alldogs_year_otl))*100"
   ]
  },
  {
   "cell_type": "code",
   "execution_count": 93,
   "metadata": {},
   "outputs": [],
   "source": [
    "def categorize_times(time):\n",
    "    if time < 7:\n",
    "        return '< 1 week'\n",
    "    elif time <= 14:\n",
    "        return '1 - 2 weeks'\n",
    "    elif time < 30:\n",
    "        return '< 1 month'\n",
    "    elif time < 100:\n",
    "        return '< 100 days'\n",
    "    else:\n",
    "        return '> 100 days'"
   ]
  },
  {
   "cell_type": "code",
   "execution_count": 94,
   "metadata": {},
   "outputs": [
    {
     "name": "stderr",
     "output_type": "stream",
     "text": [
      "C:\\anaconda_python\\envs\\Insight\\lib\\site-packages\\ipykernel_launcher.py:1: SettingWithCopyWarning: \n",
      "A value is trying to be set on a copy of a slice from a DataFrame.\n",
      "Try using .loc[row_indexer,col_indexer] = value instead\n",
      "\n",
      "See the caveats in the documentation: http://pandas.pydata.org/pandas-docs/stable/user_guide/indexing.html#returning-a-view-versus-a-copy\n",
      "  \"\"\"Entry point for launching an IPython kernel.\n"
     ]
    }
   ],
   "source": [
    "alldogs_year_otl['cg_adpt_time'] = alldogs_year_otl.apply(lambda x: categorize_times(x['adoption_time']), axis=1)"
   ]
  },
  {
   "cell_type": "code",
   "execution_count": 95,
   "metadata": {},
   "outputs": [
    {
     "data": {
      "text/html": [
       "<div>\n",
       "<style scoped>\n",
       "    .dataframe tbody tr th:only-of-type {\n",
       "        vertical-align: middle;\n",
       "    }\n",
       "\n",
       "    .dataframe tbody tr th {\n",
       "        vertical-align: top;\n",
       "    }\n",
       "\n",
       "    .dataframe thead th {\n",
       "        text-align: right;\n",
       "    }\n",
       "</style>\n",
       "<table border=\"1\" class=\"dataframe\">\n",
       "  <thead>\n",
       "    <tr style=\"text-align: right;\">\n",
       "      <th></th>\n",
       "      <th>id</th>\n",
       "      <th>organization_id</th>\n",
       "      <th>url</th>\n",
       "      <th>age</th>\n",
       "      <th>gender</th>\n",
       "      <th>size</th>\n",
       "      <th>coat</th>\n",
       "      <th>tags</th>\n",
       "      <th>name</th>\n",
       "      <th>status</th>\n",
       "      <th>...</th>\n",
       "      <th>contact.address.city</th>\n",
       "      <th>contact.address.state</th>\n",
       "      <th>contact.address.postcode</th>\n",
       "      <th>adoption_time</th>\n",
       "      <th>month</th>\n",
       "      <th>year</th>\n",
       "      <th>log_adpt_time</th>\n",
       "      <th>mod_adpt_time</th>\n",
       "      <th>logmod_adpt_time</th>\n",
       "      <th>cg_adpt_time</th>\n",
       "    </tr>\n",
       "  </thead>\n",
       "  <tbody>\n",
       "    <tr>\n",
       "      <th>0</th>\n",
       "      <td>33853923</td>\n",
       "      <td>CA2395</td>\n",
       "      <td>https://www.petfinder.com/dog/sunny-33853923/c...</td>\n",
       "      <td>Baby</td>\n",
       "      <td>Female</td>\n",
       "      <td>Small</td>\n",
       "      <td>NaN</td>\n",
       "      <td>[]</td>\n",
       "      <td>Sunny</td>\n",
       "      <td>adopted</td>\n",
       "      <td>...</td>\n",
       "      <td>Los Angeles</td>\n",
       "      <td>CA</td>\n",
       "      <td>90013</td>\n",
       "      <td>19</td>\n",
       "      <td>12</td>\n",
       "      <td>2015</td>\n",
       "      <td>3.000720</td>\n",
       "      <td>1.903654</td>\n",
       "      <td>4.779123</td>\n",
       "      <td>&lt; 1 month</td>\n",
       "    </tr>\n",
       "    <tr>\n",
       "      <th>1</th>\n",
       "      <td>33853969</td>\n",
       "      <td>CA2395</td>\n",
       "      <td>https://www.petfinder.com/dog/batman-33853969/...</td>\n",
       "      <td>Young</td>\n",
       "      <td>Male</td>\n",
       "      <td>Small</td>\n",
       "      <td>Short</td>\n",
       "      <td>[]</td>\n",
       "      <td>Batman</td>\n",
       "      <td>adopted</td>\n",
       "      <td>...</td>\n",
       "      <td>Los Angeles</td>\n",
       "      <td>CA</td>\n",
       "      <td>90013</td>\n",
       "      <td>29</td>\n",
       "      <td>12</td>\n",
       "      <td>2015</td>\n",
       "      <td>3.404525</td>\n",
       "      <td>2.036168</td>\n",
       "      <td>4.859812</td>\n",
       "      <td>&lt; 1 month</td>\n",
       "    </tr>\n",
       "    <tr>\n",
       "      <th>2</th>\n",
       "      <td>34004290</td>\n",
       "      <td>CA2395</td>\n",
       "      <td>https://www.petfinder.com/dog/benji-34004290/c...</td>\n",
       "      <td>Young</td>\n",
       "      <td>Male</td>\n",
       "      <td>Medium</td>\n",
       "      <td>Short</td>\n",
       "      <td>[]</td>\n",
       "      <td>Benji</td>\n",
       "      <td>adopted</td>\n",
       "      <td>...</td>\n",
       "      <td>Los Angeles</td>\n",
       "      <td>CA</td>\n",
       "      <td>90013</td>\n",
       "      <td>18</td>\n",
       "      <td>12</td>\n",
       "      <td>2015</td>\n",
       "      <td>2.949688</td>\n",
       "      <td>1.888175</td>\n",
       "      <td>4.770685</td>\n",
       "      <td>&lt; 1 month</td>\n",
       "    </tr>\n",
       "    <tr>\n",
       "      <th>3</th>\n",
       "      <td>34042721</td>\n",
       "      <td>CA2395</td>\n",
       "      <td>https://www.petfinder.com/dog/zuma-34042721/ca...</td>\n",
       "      <td>Adult</td>\n",
       "      <td>Female</td>\n",
       "      <td>Medium</td>\n",
       "      <td>Short</td>\n",
       "      <td>[]</td>\n",
       "      <td>Zuma</td>\n",
       "      <td>adopted</td>\n",
       "      <td>...</td>\n",
       "      <td>Los Angeles</td>\n",
       "      <td>CA</td>\n",
       "      <td>90013</td>\n",
       "      <td>57</td>\n",
       "      <td>2</td>\n",
       "      <td>2016</td>\n",
       "      <td>4.062166</td>\n",
       "      <td>2.290172</td>\n",
       "      <td>5.056246</td>\n",
       "      <td>&lt; 100 days</td>\n",
       "    </tr>\n",
       "    <tr>\n",
       "      <th>4</th>\n",
       "      <td>34079567</td>\n",
       "      <td>CA2395</td>\n",
       "      <td>https://www.petfinder.com/dog/diego-34079567/c...</td>\n",
       "      <td>Young</td>\n",
       "      <td>Male</td>\n",
       "      <td>Medium</td>\n",
       "      <td>Medium</td>\n",
       "      <td>[]</td>\n",
       "      <td>Diego</td>\n",
       "      <td>adopted</td>\n",
       "      <td>...</td>\n",
       "      <td>Los Angeles</td>\n",
       "      <td>CA</td>\n",
       "      <td>90013</td>\n",
       "      <td>8</td>\n",
       "      <td>12</td>\n",
       "      <td>2015</td>\n",
       "      <td>2.208274</td>\n",
       "      <td>1.695218</td>\n",
       "      <td>4.682131</td>\n",
       "      <td>1 - 2 weeks</td>\n",
       "    </tr>\n",
       "  </tbody>\n",
       "</table>\n",
       "<p>5 rows × 38 columns</p>\n",
       "</div>"
      ],
      "text/plain": [
       "         id organization_id  \\\n",
       "0  33853923          CA2395   \n",
       "1  33853969          CA2395   \n",
       "2  34004290          CA2395   \n",
       "3  34042721          CA2395   \n",
       "4  34079567          CA2395   \n",
       "\n",
       "                                                 url    age  gender    size  \\\n",
       "0  https://www.petfinder.com/dog/sunny-33853923/c...   Baby  Female   Small   \n",
       "1  https://www.petfinder.com/dog/batman-33853969/...  Young    Male   Small   \n",
       "2  https://www.petfinder.com/dog/benji-34004290/c...  Young    Male  Medium   \n",
       "3  https://www.petfinder.com/dog/zuma-34042721/ca...  Adult  Female  Medium   \n",
       "4  https://www.petfinder.com/dog/diego-34079567/c...  Young    Male  Medium   \n",
       "\n",
       "     coat tags    name   status  ... contact.address.city  \\\n",
       "0     NaN   []   Sunny  adopted  ...          Los Angeles   \n",
       "1   Short   []  Batman  adopted  ...          Los Angeles   \n",
       "2   Short   []   Benji  adopted  ...          Los Angeles   \n",
       "3   Short   []    Zuma  adopted  ...          Los Angeles   \n",
       "4  Medium   []   Diego  adopted  ...          Los Angeles   \n",
       "\n",
       "  contact.address.state  contact.address.postcode adoption_time month  year  \\\n",
       "0                    CA                     90013            19    12  2015   \n",
       "1                    CA                     90013            29    12  2015   \n",
       "2                    CA                     90013            18    12  2015   \n",
       "3                    CA                     90013            57     2  2016   \n",
       "4                    CA                     90013             8    12  2015   \n",
       "\n",
       "   log_adpt_time mod_adpt_time logmod_adpt_time cg_adpt_time  \n",
       "0       3.000720      1.903654         4.779123    < 1 month  \n",
       "1       3.404525      2.036168         4.859812    < 1 month  \n",
       "2       2.949688      1.888175         4.770685    < 1 month  \n",
       "3       4.062166      2.290172         5.056246   < 100 days  \n",
       "4       2.208274      1.695218         4.682131  1 - 2 weeks  \n",
       "\n",
       "[5 rows x 38 columns]"
      ]
     },
     "execution_count": 95,
     "metadata": {},
     "output_type": "execute_result"
    }
   ],
   "source": [
    "alldogs_year_otl.head()"
   ]
  },
  {
   "cell_type": "code",
   "execution_count": 96,
   "metadata": {},
   "outputs": [
    {
     "data": {
      "text/plain": [
       "< 100 days     27029\n",
       "< 1 month      19809\n",
       "1 - 2 weeks    15274\n",
       "< 1 week       14568\n",
       "> 100 days     13948\n",
       "Name: cg_adpt_time, dtype: int64"
      ]
     },
     "execution_count": 96,
     "metadata": {},
     "output_type": "execute_result"
    }
   ],
   "source": [
    "alldogs_year_otl['cg_adpt_time'].value_counts()"
   ]
  },
  {
   "cell_type": "code",
   "execution_count": 6,
   "metadata": {},
   "outputs": [
    {
     "data": {
      "text/plain": [
       "151513"
      ]
     },
     "execution_count": 6,
     "metadata": {},
     "output_type": "execute_result"
    }
   ],
   "source": [
    "#don't do this, it could be important\n",
    "#alldogs_merged = alldogs_merged[alldogs_merged['attributes.special_needs']==False]\n",
    "#len(alldogs_merged)"
   ]
  },
  {
   "cell_type": "code",
   "execution_count": 97,
   "metadata": {},
   "outputs": [
    {
     "data": {
      "text/plain": [
       "90628"
      ]
     },
     "execution_count": 97,
     "metadata": {},
     "output_type": "execute_result"
    }
   ],
   "source": [
    "alldogs_nm = alldogs_year_otl[alldogs_year_otl['gender']!='Unknown']\n",
    "len(alldogs_nm)"
   ]
  },
  {
   "cell_type": "code",
   "execution_count": 98,
   "metadata": {},
   "outputs": [
    {
     "name": "stdout",
     "output_type": "stream",
     "text": [
      "Table size - (90628, 38)\n",
      "Checking for missing values..\n",
      "coat                    35414\n",
      "breeds.secondary        52059\n",
      "colors.primary          23938\n",
      "colors.secondary        55765\n",
      "colors.tertiary         88930\n",
      "attributes.declawed     90628\n",
      "environment.children    65588\n",
      "environment.dogs        57343\n",
      "environment.cats        75276\n",
      "dtype: int64\n"
     ]
    }
   ],
   "source": [
    "# Check for any missing data\n",
    "print(\"Table size -\", end=' ')\n",
    "print(alldogs_nm.shape)\n",
    "\n",
    "print(\"Checking for missing values..\")\n",
    "# Number of missing values in each column of training data\n",
    "missing_val_count_by_column = (alldogs_nm.isnull().sum())\n",
    "print(missing_val_count_by_column[missing_val_count_by_column > 0])\n",
    "\n",
    "# Get names of columns with missing values\n",
    "missing_cols = [col for col in alldogs_nm.columns\n",
    "                     if alldogs_nm[col].isnull().any()]"
   ]
  },
  {
   "cell_type": "code",
   "execution_count": 120,
   "metadata": {},
   "outputs": [],
   "source": [
    "#not needed for this set\n",
    "#alldogs_nm = alldogs_merged.fillna({'name':'Unknown'})"
   ]
  },
  {
   "cell_type": "code",
   "execution_count": 99,
   "metadata": {},
   "outputs": [
    {
     "name": "stdout",
     "output_type": "stream",
     "text": [
      "Table size - (90628, 38)\n",
      "Checking for missing values..\n",
      "coat                    35414\n",
      "breeds.secondary        52059\n",
      "colors.primary          23938\n",
      "colors.secondary        55765\n",
      "colors.tertiary         88930\n",
      "attributes.declawed     90628\n",
      "environment.children    65588\n",
      "environment.dogs        57343\n",
      "environment.cats        75276\n",
      "dtype: int64\n"
     ]
    }
   ],
   "source": [
    "# recheck for any missing data\n",
    "print(\"Table size -\", end=' ')\n",
    "print(alldogs_nm.shape)\n",
    "\n",
    "print(\"Checking for missing values..\")\n",
    "# Number of missing values in each column of training data\n",
    "missing_val_count_by_column = (alldogs_nm.isnull().sum())\n",
    "print(missing_val_count_by_column[missing_val_count_by_column > 0])\n",
    "\n",
    "# Get names of columns with missing values\n",
    "missing_cols = [col for col in alldogs_nm.columns\n",
    "                     if alldogs_nm[col].isnull().any()]"
   ]
  },
  {
   "cell_type": "code",
   "execution_count": 100,
   "metadata": {},
   "outputs": [],
   "source": [
    "alldogs_nm = alldogs_nm.drop(missing_cols, axis=1)"
   ]
  },
  {
   "cell_type": "code",
   "execution_count": 101,
   "metadata": {},
   "outputs": [
    {
     "data": {
      "text/html": [
       "<div>\n",
       "<style scoped>\n",
       "    .dataframe tbody tr th:only-of-type {\n",
       "        vertical-align: middle;\n",
       "    }\n",
       "\n",
       "    .dataframe tbody tr th {\n",
       "        vertical-align: top;\n",
       "    }\n",
       "\n",
       "    .dataframe thead th {\n",
       "        text-align: right;\n",
       "    }\n",
       "</style>\n",
       "<table border=\"1\" class=\"dataframe\">\n",
       "  <thead>\n",
       "    <tr style=\"text-align: right;\">\n",
       "      <th></th>\n",
       "      <th>id</th>\n",
       "      <th>organization_id</th>\n",
       "      <th>url</th>\n",
       "      <th>age</th>\n",
       "      <th>gender</th>\n",
       "      <th>size</th>\n",
       "      <th>tags</th>\n",
       "      <th>name</th>\n",
       "      <th>status</th>\n",
       "      <th>status_changed_at</th>\n",
       "      <th>...</th>\n",
       "      <th>contact.address.city</th>\n",
       "      <th>contact.address.state</th>\n",
       "      <th>contact.address.postcode</th>\n",
       "      <th>adoption_time</th>\n",
       "      <th>month</th>\n",
       "      <th>year</th>\n",
       "      <th>log_adpt_time</th>\n",
       "      <th>mod_adpt_time</th>\n",
       "      <th>logmod_adpt_time</th>\n",
       "      <th>cg_adpt_time</th>\n",
       "    </tr>\n",
       "  </thead>\n",
       "  <tbody>\n",
       "    <tr>\n",
       "      <th>0</th>\n",
       "      <td>33853923</td>\n",
       "      <td>CA2395</td>\n",
       "      <td>https://www.petfinder.com/dog/sunny-33853923/c...</td>\n",
       "      <td>Baby</td>\n",
       "      <td>Female</td>\n",
       "      <td>Small</td>\n",
       "      <td>[]</td>\n",
       "      <td>Sunny</td>\n",
       "      <td>adopted</td>\n",
       "      <td>2015-12-11T20:50:51+0000</td>\n",
       "      <td>...</td>\n",
       "      <td>Los Angeles</td>\n",
       "      <td>CA</td>\n",
       "      <td>90013</td>\n",
       "      <td>19</td>\n",
       "      <td>12</td>\n",
       "      <td>2015</td>\n",
       "      <td>3.000720</td>\n",
       "      <td>1.903654</td>\n",
       "      <td>4.779123</td>\n",
       "      <td>&lt; 1 month</td>\n",
       "    </tr>\n",
       "    <tr>\n",
       "      <th>1</th>\n",
       "      <td>33853969</td>\n",
       "      <td>CA2395</td>\n",
       "      <td>https://www.petfinder.com/dog/batman-33853969/...</td>\n",
       "      <td>Young</td>\n",
       "      <td>Male</td>\n",
       "      <td>Small</td>\n",
       "      <td>[]</td>\n",
       "      <td>Batman</td>\n",
       "      <td>adopted</td>\n",
       "      <td>2015-12-21T22:23:16+0000</td>\n",
       "      <td>...</td>\n",
       "      <td>Los Angeles</td>\n",
       "      <td>CA</td>\n",
       "      <td>90013</td>\n",
       "      <td>29</td>\n",
       "      <td>12</td>\n",
       "      <td>2015</td>\n",
       "      <td>3.404525</td>\n",
       "      <td>2.036168</td>\n",
       "      <td>4.859812</td>\n",
       "      <td>&lt; 1 month</td>\n",
       "    </tr>\n",
       "    <tr>\n",
       "      <th>2</th>\n",
       "      <td>34004290</td>\n",
       "      <td>CA2395</td>\n",
       "      <td>https://www.petfinder.com/dog/benji-34004290/c...</td>\n",
       "      <td>Young</td>\n",
       "      <td>Male</td>\n",
       "      <td>Medium</td>\n",
       "      <td>[]</td>\n",
       "      <td>Benji</td>\n",
       "      <td>adopted</td>\n",
       "      <td>2015-12-30T01:22:04+0000</td>\n",
       "      <td>...</td>\n",
       "      <td>Los Angeles</td>\n",
       "      <td>CA</td>\n",
       "      <td>90013</td>\n",
       "      <td>18</td>\n",
       "      <td>12</td>\n",
       "      <td>2015</td>\n",
       "      <td>2.949688</td>\n",
       "      <td>1.888175</td>\n",
       "      <td>4.770685</td>\n",
       "      <td>&lt; 1 month</td>\n",
       "    </tr>\n",
       "    <tr>\n",
       "      <th>3</th>\n",
       "      <td>34042721</td>\n",
       "      <td>CA2395</td>\n",
       "      <td>https://www.petfinder.com/dog/zuma-34042721/ca...</td>\n",
       "      <td>Adult</td>\n",
       "      <td>Female</td>\n",
       "      <td>Medium</td>\n",
       "      <td>[]</td>\n",
       "      <td>Zuma</td>\n",
       "      <td>adopted</td>\n",
       "      <td>2016-02-12T19:13:27+0000</td>\n",
       "      <td>...</td>\n",
       "      <td>Los Angeles</td>\n",
       "      <td>CA</td>\n",
       "      <td>90013</td>\n",
       "      <td>57</td>\n",
       "      <td>2</td>\n",
       "      <td>2016</td>\n",
       "      <td>4.062166</td>\n",
       "      <td>2.290172</td>\n",
       "      <td>5.056246</td>\n",
       "      <td>&lt; 100 days</td>\n",
       "    </tr>\n",
       "    <tr>\n",
       "      <th>4</th>\n",
       "      <td>34079567</td>\n",
       "      <td>CA2395</td>\n",
       "      <td>https://www.petfinder.com/dog/diego-34079567/c...</td>\n",
       "      <td>Young</td>\n",
       "      <td>Male</td>\n",
       "      <td>Medium</td>\n",
       "      <td>[]</td>\n",
       "      <td>Diego</td>\n",
       "      <td>adopted</td>\n",
       "      <td>2015-12-30T01:21:59+0000</td>\n",
       "      <td>...</td>\n",
       "      <td>Los Angeles</td>\n",
       "      <td>CA</td>\n",
       "      <td>90013</td>\n",
       "      <td>8</td>\n",
       "      <td>12</td>\n",
       "      <td>2015</td>\n",
       "      <td>2.208274</td>\n",
       "      <td>1.695218</td>\n",
       "      <td>4.682131</td>\n",
       "      <td>1 - 2 weeks</td>\n",
       "    </tr>\n",
       "  </tbody>\n",
       "</table>\n",
       "<p>5 rows × 29 columns</p>\n",
       "</div>"
      ],
      "text/plain": [
       "         id organization_id  \\\n",
       "0  33853923          CA2395   \n",
       "1  33853969          CA2395   \n",
       "2  34004290          CA2395   \n",
       "3  34042721          CA2395   \n",
       "4  34079567          CA2395   \n",
       "\n",
       "                                                 url    age  gender    size  \\\n",
       "0  https://www.petfinder.com/dog/sunny-33853923/c...   Baby  Female   Small   \n",
       "1  https://www.petfinder.com/dog/batman-33853969/...  Young    Male   Small   \n",
       "2  https://www.petfinder.com/dog/benji-34004290/c...  Young    Male  Medium   \n",
       "3  https://www.petfinder.com/dog/zuma-34042721/ca...  Adult  Female  Medium   \n",
       "4  https://www.petfinder.com/dog/diego-34079567/c...  Young    Male  Medium   \n",
       "\n",
       "  tags    name   status         status_changed_at  ... contact.address.city  \\\n",
       "0   []   Sunny  adopted  2015-12-11T20:50:51+0000  ...          Los Angeles   \n",
       "1   []  Batman  adopted  2015-12-21T22:23:16+0000  ...          Los Angeles   \n",
       "2   []   Benji  adopted  2015-12-30T01:22:04+0000  ...          Los Angeles   \n",
       "3   []    Zuma  adopted  2016-02-12T19:13:27+0000  ...          Los Angeles   \n",
       "4   []   Diego  adopted  2015-12-30T01:21:59+0000  ...          Los Angeles   \n",
       "\n",
       "   contact.address.state contact.address.postcode  adoption_time  month  year  \\\n",
       "0                     CA                    90013             19     12  2015   \n",
       "1                     CA                    90013             29     12  2015   \n",
       "2                     CA                    90013             18     12  2015   \n",
       "3                     CA                    90013             57      2  2016   \n",
       "4                     CA                    90013              8     12  2015   \n",
       "\n",
       "   log_adpt_time  mod_adpt_time  logmod_adpt_time cg_adpt_time  \n",
       "0       3.000720       1.903654          4.779123    < 1 month  \n",
       "1       3.404525       2.036168          4.859812    < 1 month  \n",
       "2       2.949688       1.888175          4.770685    < 1 month  \n",
       "3       4.062166       2.290172          5.056246   < 100 days  \n",
       "4       2.208274       1.695218          4.682131  1 - 2 weeks  \n",
       "\n",
       "[5 rows x 29 columns]"
      ]
     },
     "execution_count": 101,
     "metadata": {},
     "output_type": "execute_result"
    }
   ],
   "source": [
    "alldogs_nm.head()"
   ]
  },
  {
   "cell_type": "code",
   "execution_count": 54,
   "metadata": {},
   "outputs": [
    {
     "data": {
      "text/plain": [
       "90628"
      ]
     },
     "execution_count": 54,
     "metadata": {},
     "output_type": "execute_result"
    }
   ],
   "source": [
    "len(alldogs_nm)"
   ]
  },
  {
   "cell_type": "code",
   "execution_count": 55,
   "metadata": {},
   "outputs": [],
   "source": [
    "#remove negative days error\n",
    "alldogs_nm = alldogs_nm[alldogs_nm['adoption_time']>=0]"
   ]
  },
  {
   "cell_type": "code",
   "execution_count": 56,
   "metadata": {},
   "outputs": [
    {
     "data": {
      "text/plain": [
       "90628"
      ]
     },
     "execution_count": 56,
     "metadata": {},
     "output_type": "execute_result"
    }
   ],
   "source": [
    "len(alldogs_nm)"
   ]
  },
  {
   "cell_type": "code",
   "execution_count": 102,
   "metadata": {},
   "outputs": [
    {
     "data": {
      "text/plain": [
       "Index(['id', 'organization_id', 'url', 'age', 'gender', 'size', 'tags', 'name',\n",
       "       'status', 'status_changed_at', 'published_at', 'distance',\n",
       "       'breeds.primary', 'breeds.mixed', 'breeds.unknown',\n",
       "       'attributes.spayed_neutered', 'attributes.house_trained',\n",
       "       'attributes.special_needs', 'attributes.shots_current',\n",
       "       'contact.address.city', 'contact.address.state',\n",
       "       'contact.address.postcode', 'adoption_time', 'month', 'year',\n",
       "       'log_adpt_time', 'mod_adpt_time', 'logmod_adpt_time', 'cg_adpt_time'],\n",
       "      dtype='object')"
      ]
     },
     "execution_count": 102,
     "metadata": {},
     "output_type": "execute_result"
    }
   ],
   "source": [
    "alldogs_nm.columns"
   ]
  },
  {
   "cell_type": "code",
   "execution_count": 103,
   "metadata": {
    "scrolled": true
   },
   "outputs": [
    {
     "data": {
      "text/plain": [
       "Bella    273\n",
       "Max      261\n",
       "Lucy     252\n",
       "Daisy    237\n",
       "Buddy    234\n",
       "Name: name, dtype: int64"
      ]
     },
     "execution_count": 103,
     "metadata": {},
     "output_type": "execute_result"
    }
   ],
   "source": [
    "namelist = alldogs_nm['name'].value_counts()\n",
    "namelist.head()"
   ]
  },
  {
   "cell_type": "code",
   "execution_count": 104,
   "metadata": {},
   "outputs": [
    {
     "data": {
      "text/plain": [
       "0.21978021978021978"
      ]
     },
     "execution_count": 104,
     "metadata": {},
     "output_type": "execute_result"
    }
   ],
   "source": [
    "namelist[alldogs_nm['name'].iloc[89983]]/namelist.max()"
   ]
  },
  {
   "cell_type": "code",
   "execution_count": 105,
   "metadata": {},
   "outputs": [],
   "source": [
    "maxname = namelist.max()"
   ]
  },
  {
   "cell_type": "code",
   "execution_count": 106,
   "metadata": {},
   "outputs": [
    {
     "data": {
      "text/html": [
       "<div>\n",
       "<style scoped>\n",
       "    .dataframe tbody tr th:only-of-type {\n",
       "        vertical-align: middle;\n",
       "    }\n",
       "\n",
       "    .dataframe tbody tr th {\n",
       "        vertical-align: top;\n",
       "    }\n",
       "\n",
       "    .dataframe thead th {\n",
       "        text-align: right;\n",
       "    }\n",
       "</style>\n",
       "<table border=\"1\" class=\"dataframe\">\n",
       "  <thead>\n",
       "    <tr style=\"text-align: right;\">\n",
       "      <th></th>\n",
       "      <th>id</th>\n",
       "      <th>organization_id</th>\n",
       "      <th>url</th>\n",
       "      <th>age</th>\n",
       "      <th>gender</th>\n",
       "      <th>size</th>\n",
       "      <th>tags</th>\n",
       "      <th>name</th>\n",
       "      <th>status</th>\n",
       "      <th>status_changed_at</th>\n",
       "      <th>...</th>\n",
       "      <th>contact.address.city</th>\n",
       "      <th>contact.address.state</th>\n",
       "      <th>contact.address.postcode</th>\n",
       "      <th>adoption_time</th>\n",
       "      <th>month</th>\n",
       "      <th>year</th>\n",
       "      <th>log_adpt_time</th>\n",
       "      <th>mod_adpt_time</th>\n",
       "      <th>logmod_adpt_time</th>\n",
       "      <th>cg_adpt_time</th>\n",
       "    </tr>\n",
       "  </thead>\n",
       "  <tbody>\n",
       "  </tbody>\n",
       "</table>\n",
       "<p>0 rows × 29 columns</p>\n",
       "</div>"
      ],
      "text/plain": [
       "Empty DataFrame\n",
       "Columns: [id, organization_id, url, age, gender, size, tags, name, status, status_changed_at, published_at, distance, breeds.primary, breeds.mixed, breeds.unknown, attributes.spayed_neutered, attributes.house_trained, attributes.special_needs, attributes.shots_current, contact.address.city, contact.address.state, contact.address.postcode, adoption_time, month, year, log_adpt_time, mod_adpt_time, logmod_adpt_time, cg_adpt_time]\n",
       "Index: []\n",
       "\n",
       "[0 rows x 29 columns]"
      ]
     },
     "execution_count": 106,
     "metadata": {},
     "output_type": "execute_result"
    }
   ],
   "source": [
    "alldogs_nm[alldogs_nm['name'].isnull()]"
   ]
  },
  {
   "cell_type": "code",
   "execution_count": 107,
   "metadata": {},
   "outputs": [
    {
     "data": {
      "text/plain": [
       "0.21978021978021978"
      ]
     },
     "execution_count": 107,
     "metadata": {},
     "output_type": "execute_result"
    }
   ],
   "source": [
    "def get_norm_name_freq(name):\n",
    "    return namelist[name]/maxname\n",
    "get_norm_name_freq(alldogs_nm['name'].iloc[0])"
   ]
  },
  {
   "cell_type": "code",
   "execution_count": 108,
   "metadata": {},
   "outputs": [
    {
     "data": {
      "text/html": [
       "<div>\n",
       "<style scoped>\n",
       "    .dataframe tbody tr th:only-of-type {\n",
       "        vertical-align: middle;\n",
       "    }\n",
       "\n",
       "    .dataframe tbody tr th {\n",
       "        vertical-align: top;\n",
       "    }\n",
       "\n",
       "    .dataframe thead th {\n",
       "        text-align: right;\n",
       "    }\n",
       "</style>\n",
       "<table border=\"1\" class=\"dataframe\">\n",
       "  <thead>\n",
       "    <tr style=\"text-align: right;\">\n",
       "      <th></th>\n",
       "      <th>id</th>\n",
       "      <th>organization_id</th>\n",
       "      <th>url</th>\n",
       "      <th>age</th>\n",
       "      <th>gender</th>\n",
       "      <th>size</th>\n",
       "      <th>tags</th>\n",
       "      <th>name</th>\n",
       "      <th>status</th>\n",
       "      <th>status_changed_at</th>\n",
       "      <th>...</th>\n",
       "      <th>contact.address.state</th>\n",
       "      <th>contact.address.postcode</th>\n",
       "      <th>adoption_time</th>\n",
       "      <th>month</th>\n",
       "      <th>year</th>\n",
       "      <th>log_adpt_time</th>\n",
       "      <th>mod_adpt_time</th>\n",
       "      <th>logmod_adpt_time</th>\n",
       "      <th>cg_adpt_time</th>\n",
       "      <th>norm_name_freq</th>\n",
       "    </tr>\n",
       "  </thead>\n",
       "  <tbody>\n",
       "    <tr>\n",
       "      <th>0</th>\n",
       "      <td>33853923</td>\n",
       "      <td>CA2395</td>\n",
       "      <td>https://www.petfinder.com/dog/sunny-33853923/c...</td>\n",
       "      <td>Baby</td>\n",
       "      <td>Female</td>\n",
       "      <td>Small</td>\n",
       "      <td>[]</td>\n",
       "      <td>Sunny</td>\n",
       "      <td>adopted</td>\n",
       "      <td>2015-12-11T20:50:51+0000</td>\n",
       "      <td>...</td>\n",
       "      <td>CA</td>\n",
       "      <td>90013</td>\n",
       "      <td>19</td>\n",
       "      <td>12</td>\n",
       "      <td>2015</td>\n",
       "      <td>3.000720</td>\n",
       "      <td>1.903654</td>\n",
       "      <td>4.779123</td>\n",
       "      <td>&lt; 1 month</td>\n",
       "      <td>0.219780</td>\n",
       "    </tr>\n",
       "    <tr>\n",
       "      <th>1</th>\n",
       "      <td>33853969</td>\n",
       "      <td>CA2395</td>\n",
       "      <td>https://www.petfinder.com/dog/batman-33853969/...</td>\n",
       "      <td>Young</td>\n",
       "      <td>Male</td>\n",
       "      <td>Small</td>\n",
       "      <td>[]</td>\n",
       "      <td>Batman</td>\n",
       "      <td>adopted</td>\n",
       "      <td>2015-12-21T22:23:16+0000</td>\n",
       "      <td>...</td>\n",
       "      <td>CA</td>\n",
       "      <td>90013</td>\n",
       "      <td>29</td>\n",
       "      <td>12</td>\n",
       "      <td>2015</td>\n",
       "      <td>3.404525</td>\n",
       "      <td>2.036168</td>\n",
       "      <td>4.859812</td>\n",
       "      <td>&lt; 1 month</td>\n",
       "      <td>0.109890</td>\n",
       "    </tr>\n",
       "    <tr>\n",
       "      <th>2</th>\n",
       "      <td>34004290</td>\n",
       "      <td>CA2395</td>\n",
       "      <td>https://www.petfinder.com/dog/benji-34004290/c...</td>\n",
       "      <td>Young</td>\n",
       "      <td>Male</td>\n",
       "      <td>Medium</td>\n",
       "      <td>[]</td>\n",
       "      <td>Benji</td>\n",
       "      <td>adopted</td>\n",
       "      <td>2015-12-30T01:22:04+0000</td>\n",
       "      <td>...</td>\n",
       "      <td>CA</td>\n",
       "      <td>90013</td>\n",
       "      <td>18</td>\n",
       "      <td>12</td>\n",
       "      <td>2015</td>\n",
       "      <td>2.949688</td>\n",
       "      <td>1.888175</td>\n",
       "      <td>4.770685</td>\n",
       "      <td>&lt; 1 month</td>\n",
       "      <td>0.267399</td>\n",
       "    </tr>\n",
       "    <tr>\n",
       "      <th>3</th>\n",
       "      <td>34042721</td>\n",
       "      <td>CA2395</td>\n",
       "      <td>https://www.petfinder.com/dog/zuma-34042721/ca...</td>\n",
       "      <td>Adult</td>\n",
       "      <td>Female</td>\n",
       "      <td>Medium</td>\n",
       "      <td>[]</td>\n",
       "      <td>Zuma</td>\n",
       "      <td>adopted</td>\n",
       "      <td>2016-02-12T19:13:27+0000</td>\n",
       "      <td>...</td>\n",
       "      <td>CA</td>\n",
       "      <td>90013</td>\n",
       "      <td>57</td>\n",
       "      <td>2</td>\n",
       "      <td>2016</td>\n",
       "      <td>4.062166</td>\n",
       "      <td>2.290172</td>\n",
       "      <td>5.056246</td>\n",
       "      <td>&lt; 100 days</td>\n",
       "      <td>0.025641</td>\n",
       "    </tr>\n",
       "    <tr>\n",
       "      <th>4</th>\n",
       "      <td>34079567</td>\n",
       "      <td>CA2395</td>\n",
       "      <td>https://www.petfinder.com/dog/diego-34079567/c...</td>\n",
       "      <td>Young</td>\n",
       "      <td>Male</td>\n",
       "      <td>Medium</td>\n",
       "      <td>[]</td>\n",
       "      <td>Diego</td>\n",
       "      <td>adopted</td>\n",
       "      <td>2015-12-30T01:21:59+0000</td>\n",
       "      <td>...</td>\n",
       "      <td>CA</td>\n",
       "      <td>90013</td>\n",
       "      <td>8</td>\n",
       "      <td>12</td>\n",
       "      <td>2015</td>\n",
       "      <td>2.208274</td>\n",
       "      <td>1.695218</td>\n",
       "      <td>4.682131</td>\n",
       "      <td>1 - 2 weeks</td>\n",
       "      <td>0.095238</td>\n",
       "    </tr>\n",
       "  </tbody>\n",
       "</table>\n",
       "<p>5 rows × 30 columns</p>\n",
       "</div>"
      ],
      "text/plain": [
       "         id organization_id  \\\n",
       "0  33853923          CA2395   \n",
       "1  33853969          CA2395   \n",
       "2  34004290          CA2395   \n",
       "3  34042721          CA2395   \n",
       "4  34079567          CA2395   \n",
       "\n",
       "                                                 url    age  gender    size  \\\n",
       "0  https://www.petfinder.com/dog/sunny-33853923/c...   Baby  Female   Small   \n",
       "1  https://www.petfinder.com/dog/batman-33853969/...  Young    Male   Small   \n",
       "2  https://www.petfinder.com/dog/benji-34004290/c...  Young    Male  Medium   \n",
       "3  https://www.petfinder.com/dog/zuma-34042721/ca...  Adult  Female  Medium   \n",
       "4  https://www.petfinder.com/dog/diego-34079567/c...  Young    Male  Medium   \n",
       "\n",
       "  tags    name   status         status_changed_at  ... contact.address.state  \\\n",
       "0   []   Sunny  adopted  2015-12-11T20:50:51+0000  ...                    CA   \n",
       "1   []  Batman  adopted  2015-12-21T22:23:16+0000  ...                    CA   \n",
       "2   []   Benji  adopted  2015-12-30T01:22:04+0000  ...                    CA   \n",
       "3   []    Zuma  adopted  2016-02-12T19:13:27+0000  ...                    CA   \n",
       "4   []   Diego  adopted  2015-12-30T01:21:59+0000  ...                    CA   \n",
       "\n",
       "   contact.address.postcode adoption_time  month  year  log_adpt_time  \\\n",
       "0                     90013            19     12  2015       3.000720   \n",
       "1                     90013            29     12  2015       3.404525   \n",
       "2                     90013            18     12  2015       2.949688   \n",
       "3                     90013            57      2  2016       4.062166   \n",
       "4                     90013             8     12  2015       2.208274   \n",
       "\n",
       "   mod_adpt_time  logmod_adpt_time  cg_adpt_time norm_name_freq  \n",
       "0       1.903654          4.779123     < 1 month       0.219780  \n",
       "1       2.036168          4.859812     < 1 month       0.109890  \n",
       "2       1.888175          4.770685     < 1 month       0.267399  \n",
       "3       2.290172          5.056246    < 100 days       0.025641  \n",
       "4       1.695218          4.682131   1 - 2 weeks       0.095238  \n",
       "\n",
       "[5 rows x 30 columns]"
      ]
     },
     "execution_count": 108,
     "metadata": {},
     "output_type": "execute_result"
    }
   ],
   "source": [
    "alldogs_nm['norm_name_freq'] = alldogs_nm.apply(lambda x: get_norm_name_freq(x['name']), axis=1)\n",
    "alldogs_nm.head()"
   ]
  },
  {
   "cell_type": "code",
   "execution_count": 109,
   "metadata": {},
   "outputs": [
    {
     "data": {
      "text/plain": [
       "Labrador Retriever     10044\n",
       "Chihuahua               7097\n",
       "German Shepherd Dog     5243\n",
       "Terrier                 4985\n",
       "Pit Bull Terrier        4134\n",
       "Name: breeds.primary, dtype: int64"
      ]
     },
     "execution_count": 109,
     "metadata": {},
     "output_type": "execute_result"
    }
   ],
   "source": [
    "breedlist = alldogs_nm['breeds.primary'].value_counts()\n",
    "breedlist.head()"
   ]
  },
  {
   "cell_type": "code",
   "execution_count": 189,
   "metadata": {},
   "outputs": [
    {
     "data": {
      "text/plain": [
       "236"
      ]
     },
     "execution_count": 189,
     "metadata": {},
     "output_type": "execute_result"
    }
   ],
   "source": [
    "len(breedlist)"
   ]
  },
  {
   "cell_type": "code",
   "execution_count": null,
   "metadata": {},
   "outputs": [],
   "source": []
  },
  {
   "cell_type": "code",
   "execution_count": null,
   "metadata": {},
   "outputs": [],
   "source": [
    "breedlist.to_csv('names.csv', header=False, index=True)"
   ]
  },
  {
   "cell_type": "code",
   "execution_count": 110,
   "metadata": {},
   "outputs": [
    {
     "data": {
      "text/plain": [
       "0.4963162086818001"
      ]
     },
     "execution_count": 110,
     "metadata": {},
     "output_type": "execute_result"
    }
   ],
   "source": [
    "def get_norm_breed_freq(breed):\n",
    "    return breedlist[breed]/breedlist.max()\n",
    "alldogs_nm['breeds.primary'].iloc[0]\n",
    "get_norm_breed_freq(alldogs_nm['breeds.primary'].iloc[0])"
   ]
  },
  {
   "cell_type": "code",
   "execution_count": 111,
   "metadata": {},
   "outputs": [
    {
     "data": {
      "text/html": [
       "<div>\n",
       "<style scoped>\n",
       "    .dataframe tbody tr th:only-of-type {\n",
       "        vertical-align: middle;\n",
       "    }\n",
       "\n",
       "    .dataframe tbody tr th {\n",
       "        vertical-align: top;\n",
       "    }\n",
       "\n",
       "    .dataframe thead th {\n",
       "        text-align: right;\n",
       "    }\n",
       "</style>\n",
       "<table border=\"1\" class=\"dataframe\">\n",
       "  <thead>\n",
       "    <tr style=\"text-align: right;\">\n",
       "      <th></th>\n",
       "      <th>id</th>\n",
       "      <th>organization_id</th>\n",
       "      <th>url</th>\n",
       "      <th>age</th>\n",
       "      <th>gender</th>\n",
       "      <th>size</th>\n",
       "      <th>tags</th>\n",
       "      <th>name</th>\n",
       "      <th>status</th>\n",
       "      <th>status_changed_at</th>\n",
       "      <th>...</th>\n",
       "      <th>contact.address.postcode</th>\n",
       "      <th>adoption_time</th>\n",
       "      <th>month</th>\n",
       "      <th>year</th>\n",
       "      <th>log_adpt_time</th>\n",
       "      <th>mod_adpt_time</th>\n",
       "      <th>logmod_adpt_time</th>\n",
       "      <th>cg_adpt_time</th>\n",
       "      <th>norm_name_freq</th>\n",
       "      <th>norm_breed_freq</th>\n",
       "    </tr>\n",
       "  </thead>\n",
       "  <tbody>\n",
       "    <tr>\n",
       "      <th>0</th>\n",
       "      <td>33853923</td>\n",
       "      <td>CA2395</td>\n",
       "      <td>https://www.petfinder.com/dog/sunny-33853923/c...</td>\n",
       "      <td>Baby</td>\n",
       "      <td>Female</td>\n",
       "      <td>Small</td>\n",
       "      <td>[]</td>\n",
       "      <td>Sunny</td>\n",
       "      <td>adopted</td>\n",
       "      <td>2015-12-11T20:50:51+0000</td>\n",
       "      <td>...</td>\n",
       "      <td>90013</td>\n",
       "      <td>19</td>\n",
       "      <td>12</td>\n",
       "      <td>2015</td>\n",
       "      <td>3.000720</td>\n",
       "      <td>1.903654</td>\n",
       "      <td>4.779123</td>\n",
       "      <td>&lt; 1 month</td>\n",
       "      <td>0.219780</td>\n",
       "      <td>0.496316</td>\n",
       "    </tr>\n",
       "    <tr>\n",
       "      <th>1</th>\n",
       "      <td>33853969</td>\n",
       "      <td>CA2395</td>\n",
       "      <td>https://www.petfinder.com/dog/batman-33853969/...</td>\n",
       "      <td>Young</td>\n",
       "      <td>Male</td>\n",
       "      <td>Small</td>\n",
       "      <td>[]</td>\n",
       "      <td>Batman</td>\n",
       "      <td>adopted</td>\n",
       "      <td>2015-12-21T22:23:16+0000</td>\n",
       "      <td>...</td>\n",
       "      <td>90013</td>\n",
       "      <td>29</td>\n",
       "      <td>12</td>\n",
       "      <td>2015</td>\n",
       "      <td>3.404525</td>\n",
       "      <td>2.036168</td>\n",
       "      <td>4.859812</td>\n",
       "      <td>&lt; 1 month</td>\n",
       "      <td>0.109890</td>\n",
       "      <td>0.057746</td>\n",
       "    </tr>\n",
       "    <tr>\n",
       "      <th>2</th>\n",
       "      <td>34004290</td>\n",
       "      <td>CA2395</td>\n",
       "      <td>https://www.petfinder.com/dog/benji-34004290/c...</td>\n",
       "      <td>Young</td>\n",
       "      <td>Male</td>\n",
       "      <td>Medium</td>\n",
       "      <td>[]</td>\n",
       "      <td>Benji</td>\n",
       "      <td>adopted</td>\n",
       "      <td>2015-12-30T01:22:04+0000</td>\n",
       "      <td>...</td>\n",
       "      <td>90013</td>\n",
       "      <td>18</td>\n",
       "      <td>12</td>\n",
       "      <td>2015</td>\n",
       "      <td>2.949688</td>\n",
       "      <td>1.888175</td>\n",
       "      <td>4.770685</td>\n",
       "      <td>&lt; 1 month</td>\n",
       "      <td>0.267399</td>\n",
       "      <td>0.018419</td>\n",
       "    </tr>\n",
       "    <tr>\n",
       "      <th>3</th>\n",
       "      <td>34042721</td>\n",
       "      <td>CA2395</td>\n",
       "      <td>https://www.petfinder.com/dog/zuma-34042721/ca...</td>\n",
       "      <td>Adult</td>\n",
       "      <td>Female</td>\n",
       "      <td>Medium</td>\n",
       "      <td>[]</td>\n",
       "      <td>Zuma</td>\n",
       "      <td>adopted</td>\n",
       "      <td>2016-02-12T19:13:27+0000</td>\n",
       "      <td>...</td>\n",
       "      <td>90013</td>\n",
       "      <td>57</td>\n",
       "      <td>2</td>\n",
       "      <td>2016</td>\n",
       "      <td>4.062166</td>\n",
       "      <td>2.290172</td>\n",
       "      <td>5.056246</td>\n",
       "      <td>&lt; 100 days</td>\n",
       "      <td>0.025641</td>\n",
       "      <td>0.001195</td>\n",
       "    </tr>\n",
       "    <tr>\n",
       "      <th>4</th>\n",
       "      <td>34079567</td>\n",
       "      <td>CA2395</td>\n",
       "      <td>https://www.petfinder.com/dog/diego-34079567/c...</td>\n",
       "      <td>Young</td>\n",
       "      <td>Male</td>\n",
       "      <td>Medium</td>\n",
       "      <td>[]</td>\n",
       "      <td>Diego</td>\n",
       "      <td>adopted</td>\n",
       "      <td>2015-12-30T01:21:59+0000</td>\n",
       "      <td>...</td>\n",
       "      <td>90013</td>\n",
       "      <td>8</td>\n",
       "      <td>12</td>\n",
       "      <td>2015</td>\n",
       "      <td>2.208274</td>\n",
       "      <td>1.695218</td>\n",
       "      <td>4.682131</td>\n",
       "      <td>1 - 2 weeks</td>\n",
       "      <td>0.095238</td>\n",
       "      <td>0.496316</td>\n",
       "    </tr>\n",
       "  </tbody>\n",
       "</table>\n",
       "<p>5 rows × 31 columns</p>\n",
       "</div>"
      ],
      "text/plain": [
       "         id organization_id  \\\n",
       "0  33853923          CA2395   \n",
       "1  33853969          CA2395   \n",
       "2  34004290          CA2395   \n",
       "3  34042721          CA2395   \n",
       "4  34079567          CA2395   \n",
       "\n",
       "                                                 url    age  gender    size  \\\n",
       "0  https://www.petfinder.com/dog/sunny-33853923/c...   Baby  Female   Small   \n",
       "1  https://www.petfinder.com/dog/batman-33853969/...  Young    Male   Small   \n",
       "2  https://www.petfinder.com/dog/benji-34004290/c...  Young    Male  Medium   \n",
       "3  https://www.petfinder.com/dog/zuma-34042721/ca...  Adult  Female  Medium   \n",
       "4  https://www.petfinder.com/dog/diego-34079567/c...  Young    Male  Medium   \n",
       "\n",
       "  tags    name   status         status_changed_at  ...  \\\n",
       "0   []   Sunny  adopted  2015-12-11T20:50:51+0000  ...   \n",
       "1   []  Batman  adopted  2015-12-21T22:23:16+0000  ...   \n",
       "2   []   Benji  adopted  2015-12-30T01:22:04+0000  ...   \n",
       "3   []    Zuma  adopted  2016-02-12T19:13:27+0000  ...   \n",
       "4   []   Diego  adopted  2015-12-30T01:21:59+0000  ...   \n",
       "\n",
       "  contact.address.postcode  adoption_time month  year  log_adpt_time  \\\n",
       "0                    90013             19    12  2015       3.000720   \n",
       "1                    90013             29    12  2015       3.404525   \n",
       "2                    90013             18    12  2015       2.949688   \n",
       "3                    90013             57     2  2016       4.062166   \n",
       "4                    90013              8    12  2015       2.208274   \n",
       "\n",
       "   mod_adpt_time  logmod_adpt_time  cg_adpt_time  norm_name_freq  \\\n",
       "0       1.903654          4.779123     < 1 month        0.219780   \n",
       "1       2.036168          4.859812     < 1 month        0.109890   \n",
       "2       1.888175          4.770685     < 1 month        0.267399   \n",
       "3       2.290172          5.056246    < 100 days        0.025641   \n",
       "4       1.695218          4.682131   1 - 2 weeks        0.095238   \n",
       "\n",
       "  norm_breed_freq  \n",
       "0        0.496316  \n",
       "1        0.057746  \n",
       "2        0.018419  \n",
       "3        0.001195  \n",
       "4        0.496316  \n",
       "\n",
       "[5 rows x 31 columns]"
      ]
     },
     "execution_count": 111,
     "metadata": {},
     "output_type": "execute_result"
    }
   ],
   "source": [
    "alldogs_nm['norm_breed_freq'] = alldogs_nm.apply(lambda x: get_norm_breed_freq(x['breeds.primary']), axis=1)\n",
    "alldogs_nm.head()"
   ]
  },
  {
   "cell_type": "code",
   "execution_count": null,
   "metadata": {},
   "outputs": [],
   "source": []
  },
  {
   "cell_type": "code",
   "execution_count": 112,
   "metadata": {},
   "outputs": [
    {
     "data": {
      "text/plain": [
       "count    90628.000000\n",
       "mean         0.099114\n",
       "std          0.162752\n",
       "min          0.003663\n",
       "25%          0.003663\n",
       "50%          0.029304\n",
       "75%          0.124542\n",
       "max          1.000000\n",
       "Name: norm_name_freq, dtype: float64"
      ]
     },
     "execution_count": 112,
     "metadata": {},
     "output_type": "execute_result"
    }
   ],
   "source": [
    "alldogs_nm['norm_name_freq'].describe()"
   ]
  },
  {
   "cell_type": "code",
   "execution_count": null,
   "metadata": {},
   "outputs": [],
   "source": []
  },
  {
   "cell_type": "code",
   "execution_count": 113,
   "metadata": {},
   "outputs": [
    {
     "data": {
      "text/plain": [
       "0           High\n",
       "1           High\n",
       "2           High\n",
       "3         Medium\n",
       "4           High\n",
       "           ...  \n",
       "184384      High\n",
       "184385      High\n",
       "184386    Medium\n",
       "184387       Low\n",
       "184388    Medium\n",
       "Name: norm_name_freq, Length: 90628, dtype: category\n",
       "Categories (3, object): [Low < Medium < High]"
      ]
     },
     "execution_count": 113,
     "metadata": {},
     "output_type": "execute_result"
    }
   ],
   "source": [
    "pd.qcut(alldogs_nm['norm_name_freq'], q=[0, 0.33, 0.67, 1], labels = ['Low', 'Medium', 'High'])"
   ]
  },
  {
   "cell_type": "code",
   "execution_count": 114,
   "metadata": {},
   "outputs": [],
   "source": [
    "alldogs_nm['name_pop'] = pd.qcut(alldogs_nm['norm_name_freq'], q=[0, 0.33, 0.67, 1], labels = ['Low', 'Medium', 'High'])"
   ]
  },
  {
   "cell_type": "code",
   "execution_count": 115,
   "metadata": {},
   "outputs": [
    {
     "data": {
      "text/plain": [
       "Low       33137\n",
       "High      29506\n",
       "Medium    27985\n",
       "Name: name_pop, dtype: int64"
      ]
     },
     "execution_count": 115,
     "metadata": {},
     "output_type": "execute_result"
    }
   ],
   "source": [
    "alldogs_nm['name_pop'].value_counts()"
   ]
  },
  {
   "cell_type": "code",
   "execution_count": 116,
   "metadata": {},
   "outputs": [
    {
     "data": {
      "text/plain": [
       "Medium    33279\n",
       "Low       29980\n",
       "High      27369\n",
       "Name: breed_pop, dtype: int64"
      ]
     },
     "execution_count": 116,
     "metadata": {},
     "output_type": "execute_result"
    }
   ],
   "source": [
    "alldogs_nm['breed_pop'] = pd.qcut(alldogs_nm['norm_breed_freq'], q=[0, 0.33, 0.67, 1], labels = ['Low', 'Medium', 'High'])\n",
    "alldogs_nm['breed_pop'].value_counts()"
   ]
  },
  {
   "cell_type": "code",
   "execution_count": 117,
   "metadata": {},
   "outputs": [
    {
     "data": {
      "text/plain": [
       "breed_pop\n",
       "High      57.582155\n",
       "Low       60.043462\n",
       "Medium    61.293218\n",
       "Name: adoption_time, dtype: float64"
      ]
     },
     "execution_count": 117,
     "metadata": {},
     "output_type": "execute_result"
    }
   ],
   "source": [
    "alldogs_nm.groupby('breed_pop')['adoption_time'].mean().sort_values()"
   ]
  },
  {
   "cell_type": "code",
   "execution_count": 118,
   "metadata": {},
   "outputs": [
    {
     "data": {
      "text/plain": [
       "name_pop\n",
       "Medium    54.755297\n",
       "Low       61.811087\n",
       "High      62.200400\n",
       "Name: adoption_time, dtype: float64"
      ]
     },
     "execution_count": 118,
     "metadata": {},
     "output_type": "execute_result"
    }
   ],
   "source": [
    "alldogs_nm.groupby('name_pop')['adoption_time'].mean().sort_values()"
   ]
  },
  {
   "cell_type": "code",
   "execution_count": 190,
   "metadata": {},
   "outputs": [
    {
     "data": {
      "text/html": [
       "<div>\n",
       "<style scoped>\n",
       "    .dataframe tbody tr th:only-of-type {\n",
       "        vertical-align: middle;\n",
       "    }\n",
       "\n",
       "    .dataframe tbody tr th {\n",
       "        vertical-align: top;\n",
       "    }\n",
       "\n",
       "    .dataframe thead th {\n",
       "        text-align: right;\n",
       "    }\n",
       "</style>\n",
       "<table border=\"1\" class=\"dataframe\">\n",
       "  <thead>\n",
       "    <tr style=\"text-align: right;\">\n",
       "      <th></th>\n",
       "      <th>id</th>\n",
       "      <th>organization_id</th>\n",
       "      <th>url</th>\n",
       "      <th>age</th>\n",
       "      <th>gender</th>\n",
       "      <th>size</th>\n",
       "      <th>tags</th>\n",
       "      <th>name</th>\n",
       "      <th>status</th>\n",
       "      <th>status_changed_at</th>\n",
       "      <th>...</th>\n",
       "      <th>month</th>\n",
       "      <th>year</th>\n",
       "      <th>log_adpt_time</th>\n",
       "      <th>mod_adpt_time</th>\n",
       "      <th>logmod_adpt_time</th>\n",
       "      <th>cg_adpt_time</th>\n",
       "      <th>norm_name_freq</th>\n",
       "      <th>norm_breed_freq</th>\n",
       "      <th>name_pop</th>\n",
       "      <th>breed_pop</th>\n",
       "    </tr>\n",
       "  </thead>\n",
       "  <tbody>\n",
       "    <tr>\n",
       "      <th>0</th>\n",
       "      <td>33853923</td>\n",
       "      <td>CA2395</td>\n",
       "      <td>https://www.petfinder.com/dog/sunny-33853923/c...</td>\n",
       "      <td>Baby</td>\n",
       "      <td>Female</td>\n",
       "      <td>Small</td>\n",
       "      <td>[]</td>\n",
       "      <td>Sunny</td>\n",
       "      <td>adopted</td>\n",
       "      <td>2015-12-11T20:50:51+0000</td>\n",
       "      <td>...</td>\n",
       "      <td>12</td>\n",
       "      <td>2015</td>\n",
       "      <td>3.000720</td>\n",
       "      <td>1.903654</td>\n",
       "      <td>4.779123</td>\n",
       "      <td>&lt; 1 month</td>\n",
       "      <td>0.219780</td>\n",
       "      <td>0.496316</td>\n",
       "      <td>High</td>\n",
       "      <td>High</td>\n",
       "    </tr>\n",
       "    <tr>\n",
       "      <th>1</th>\n",
       "      <td>33853969</td>\n",
       "      <td>CA2395</td>\n",
       "      <td>https://www.petfinder.com/dog/batman-33853969/...</td>\n",
       "      <td>Young</td>\n",
       "      <td>Male</td>\n",
       "      <td>Small</td>\n",
       "      <td>[]</td>\n",
       "      <td>Batman</td>\n",
       "      <td>adopted</td>\n",
       "      <td>2015-12-21T22:23:16+0000</td>\n",
       "      <td>...</td>\n",
       "      <td>12</td>\n",
       "      <td>2015</td>\n",
       "      <td>3.404525</td>\n",
       "      <td>2.036168</td>\n",
       "      <td>4.859812</td>\n",
       "      <td>&lt; 1 month</td>\n",
       "      <td>0.109890</td>\n",
       "      <td>0.057746</td>\n",
       "      <td>High</td>\n",
       "      <td>Low</td>\n",
       "    </tr>\n",
       "    <tr>\n",
       "      <th>2</th>\n",
       "      <td>34004290</td>\n",
       "      <td>CA2395</td>\n",
       "      <td>https://www.petfinder.com/dog/benji-34004290/c...</td>\n",
       "      <td>Young</td>\n",
       "      <td>Male</td>\n",
       "      <td>Medium</td>\n",
       "      <td>[]</td>\n",
       "      <td>Benji</td>\n",
       "      <td>adopted</td>\n",
       "      <td>2015-12-30T01:22:04+0000</td>\n",
       "      <td>...</td>\n",
       "      <td>12</td>\n",
       "      <td>2015</td>\n",
       "      <td>2.949688</td>\n",
       "      <td>1.888175</td>\n",
       "      <td>4.770685</td>\n",
       "      <td>&lt; 1 month</td>\n",
       "      <td>0.267399</td>\n",
       "      <td>0.018419</td>\n",
       "      <td>High</td>\n",
       "      <td>Low</td>\n",
       "    </tr>\n",
       "    <tr>\n",
       "      <th>3</th>\n",
       "      <td>34042721</td>\n",
       "      <td>CA2395</td>\n",
       "      <td>https://www.petfinder.com/dog/zuma-34042721/ca...</td>\n",
       "      <td>Adult</td>\n",
       "      <td>Female</td>\n",
       "      <td>Medium</td>\n",
       "      <td>[]</td>\n",
       "      <td>Zuma</td>\n",
       "      <td>adopted</td>\n",
       "      <td>2016-02-12T19:13:27+0000</td>\n",
       "      <td>...</td>\n",
       "      <td>2</td>\n",
       "      <td>2016</td>\n",
       "      <td>4.062166</td>\n",
       "      <td>2.290172</td>\n",
       "      <td>5.056246</td>\n",
       "      <td>&lt; 100 days</td>\n",
       "      <td>0.025641</td>\n",
       "      <td>0.001195</td>\n",
       "      <td>Medium</td>\n",
       "      <td>Low</td>\n",
       "    </tr>\n",
       "    <tr>\n",
       "      <th>4</th>\n",
       "      <td>34079567</td>\n",
       "      <td>CA2395</td>\n",
       "      <td>https://www.petfinder.com/dog/diego-34079567/c...</td>\n",
       "      <td>Young</td>\n",
       "      <td>Male</td>\n",
       "      <td>Medium</td>\n",
       "      <td>[]</td>\n",
       "      <td>Diego</td>\n",
       "      <td>adopted</td>\n",
       "      <td>2015-12-30T01:21:59+0000</td>\n",
       "      <td>...</td>\n",
       "      <td>12</td>\n",
       "      <td>2015</td>\n",
       "      <td>2.208274</td>\n",
       "      <td>1.695218</td>\n",
       "      <td>4.682131</td>\n",
       "      <td>1 - 2 weeks</td>\n",
       "      <td>0.095238</td>\n",
       "      <td>0.496316</td>\n",
       "      <td>High</td>\n",
       "      <td>High</td>\n",
       "    </tr>\n",
       "  </tbody>\n",
       "</table>\n",
       "<p>5 rows × 33 columns</p>\n",
       "</div>"
      ],
      "text/plain": [
       "         id organization_id  \\\n",
       "0  33853923          CA2395   \n",
       "1  33853969          CA2395   \n",
       "2  34004290          CA2395   \n",
       "3  34042721          CA2395   \n",
       "4  34079567          CA2395   \n",
       "\n",
       "                                                 url    age  gender    size  \\\n",
       "0  https://www.petfinder.com/dog/sunny-33853923/c...   Baby  Female   Small   \n",
       "1  https://www.petfinder.com/dog/batman-33853969/...  Young    Male   Small   \n",
       "2  https://www.petfinder.com/dog/benji-34004290/c...  Young    Male  Medium   \n",
       "3  https://www.petfinder.com/dog/zuma-34042721/ca...  Adult  Female  Medium   \n",
       "4  https://www.petfinder.com/dog/diego-34079567/c...  Young    Male  Medium   \n",
       "\n",
       "  tags    name   status         status_changed_at  ... month  year  \\\n",
       "0   []   Sunny  adopted  2015-12-11T20:50:51+0000  ...    12  2015   \n",
       "1   []  Batman  adopted  2015-12-21T22:23:16+0000  ...    12  2015   \n",
       "2   []   Benji  adopted  2015-12-30T01:22:04+0000  ...    12  2015   \n",
       "3   []    Zuma  adopted  2016-02-12T19:13:27+0000  ...     2  2016   \n",
       "4   []   Diego  adopted  2015-12-30T01:21:59+0000  ...    12  2015   \n",
       "\n",
       "  log_adpt_time  mod_adpt_time  logmod_adpt_time  cg_adpt_time  \\\n",
       "0      3.000720       1.903654          4.779123     < 1 month   \n",
       "1      3.404525       2.036168          4.859812     < 1 month   \n",
       "2      2.949688       1.888175          4.770685     < 1 month   \n",
       "3      4.062166       2.290172          5.056246    < 100 days   \n",
       "4      2.208274       1.695218          4.682131   1 - 2 weeks   \n",
       "\n",
       "   norm_name_freq  norm_breed_freq  name_pop breed_pop  \n",
       "0        0.219780         0.496316      High      High  \n",
       "1        0.109890         0.057746      High       Low  \n",
       "2        0.267399         0.018419      High       Low  \n",
       "3        0.025641         0.001195    Medium       Low  \n",
       "4        0.095238         0.496316      High      High  \n",
       "\n",
       "[5 rows x 33 columns]"
      ]
     },
     "execution_count": 190,
     "metadata": {},
     "output_type": "execute_result"
    }
   ],
   "source": [
    "alldogs_nm.head()"
   ]
  },
  {
   "cell_type": "code",
   "execution_count": 199,
   "metadata": {},
   "outputs": [
    {
     "data": {
      "text/html": [
       "<div>\n",
       "<style scoped>\n",
       "    .dataframe tbody tr th:only-of-type {\n",
       "        vertical-align: middle;\n",
       "    }\n",
       "\n",
       "    .dataframe tbody tr th {\n",
       "        vertical-align: top;\n",
       "    }\n",
       "\n",
       "    .dataframe thead th {\n",
       "        text-align: right;\n",
       "    }\n",
       "</style>\n",
       "<table border=\"1\" class=\"dataframe\">\n",
       "  <thead>\n",
       "    <tr style=\"text-align: right;\">\n",
       "      <th></th>\n",
       "      <th>breeds.primary</th>\n",
       "      <th>breed_pop</th>\n",
       "    </tr>\n",
       "  </thead>\n",
       "  <tbody>\n",
       "    <tr>\n",
       "      <th>0</th>\n",
       "      <td>Terrier</td>\n",
       "      <td>High</td>\n",
       "    </tr>\n",
       "    <tr>\n",
       "      <th>1</th>\n",
       "      <td>Rat Terrier</td>\n",
       "      <td>Low</td>\n",
       "    </tr>\n",
       "    <tr>\n",
       "      <th>2</th>\n",
       "      <td>Parson Russell Terrier</td>\n",
       "      <td>Low</td>\n",
       "    </tr>\n",
       "    <tr>\n",
       "      <th>3</th>\n",
       "      <td>Xoloitzcuintli / Mexican Hairless</td>\n",
       "      <td>Low</td>\n",
       "    </tr>\n",
       "    <tr>\n",
       "      <th>4</th>\n",
       "      <td>Terrier</td>\n",
       "      <td>High</td>\n",
       "    </tr>\n",
       "  </tbody>\n",
       "</table>\n",
       "</div>"
      ],
      "text/plain": [
       "                      breeds.primary breed_pop\n",
       "0                            Terrier      High\n",
       "1                        Rat Terrier       Low\n",
       "2             Parson Russell Terrier       Low\n",
       "3  Xoloitzcuintli / Mexican Hairless       Low\n",
       "4                            Terrier      High"
      ]
     },
     "execution_count": 199,
     "metadata": {},
     "output_type": "execute_result"
    }
   ],
   "source": [
    "breedsdf = alldogs_nm.loc[:,['breeds.primary','breed_pop']]\n",
    "breedsdf.head()"
   ]
  },
  {
   "cell_type": "code",
   "execution_count": 202,
   "metadata": {},
   "outputs": [],
   "source": [
    "breedsdf = breedsdf.drop_duplicates()"
   ]
  },
  {
   "cell_type": "code",
   "execution_count": 204,
   "metadata": {},
   "outputs": [],
   "source": [
    "breedsdf.to_csv('breedlist.csv', header=False, index=False)"
   ]
  },
  {
   "cell_type": "code",
   "execution_count": 137,
   "metadata": {},
   "outputs": [
    {
     "data": {
      "text/html": [
       "<div>\n",
       "<style scoped>\n",
       "    .dataframe tbody tr th:only-of-type {\n",
       "        vertical-align: middle;\n",
       "    }\n",
       "\n",
       "    .dataframe tbody tr th {\n",
       "        vertical-align: top;\n",
       "    }\n",
       "\n",
       "    .dataframe thead th {\n",
       "        text-align: right;\n",
       "    }\n",
       "</style>\n",
       "<table border=\"1\" class=\"dataframe\">\n",
       "  <thead>\n",
       "    <tr style=\"text-align: right;\">\n",
       "      <th></th>\n",
       "      <th>id</th>\n",
       "      <th>organization_id</th>\n",
       "      <th>url</th>\n",
       "      <th>age</th>\n",
       "      <th>gender</th>\n",
       "      <th>size</th>\n",
       "      <th>tags</th>\n",
       "      <th>name</th>\n",
       "      <th>status</th>\n",
       "      <th>status_changed_at</th>\n",
       "      <th>...</th>\n",
       "      <th>month</th>\n",
       "      <th>year</th>\n",
       "      <th>log_adpt_time</th>\n",
       "      <th>mod_adpt_time</th>\n",
       "      <th>logmod_adpt_time</th>\n",
       "      <th>cg_adpt_time</th>\n",
       "      <th>norm_name_freq</th>\n",
       "      <th>norm_breed_freq</th>\n",
       "      <th>name_pop</th>\n",
       "      <th>breed_pop</th>\n",
       "    </tr>\n",
       "  </thead>\n",
       "  <tbody>\n",
       "    <tr>\n",
       "      <th>0</th>\n",
       "      <td>33853923</td>\n",
       "      <td>CA2395</td>\n",
       "      <td>https://www.petfinder.com/dog/sunny-33853923/c...</td>\n",
       "      <td>Baby</td>\n",
       "      <td>Female</td>\n",
       "      <td>Small</td>\n",
       "      <td>[]</td>\n",
       "      <td>Sunny</td>\n",
       "      <td>adopted</td>\n",
       "      <td>2015-12-11T20:50:51+0000</td>\n",
       "      <td>...</td>\n",
       "      <td>12</td>\n",
       "      <td>2015</td>\n",
       "      <td>3.000720</td>\n",
       "      <td>1.903654</td>\n",
       "      <td>4.779123</td>\n",
       "      <td>&lt; 1 month</td>\n",
       "      <td>0.219780</td>\n",
       "      <td>0.496316</td>\n",
       "      <td>High</td>\n",
       "      <td>High</td>\n",
       "    </tr>\n",
       "    <tr>\n",
       "      <th>1</th>\n",
       "      <td>33853969</td>\n",
       "      <td>CA2395</td>\n",
       "      <td>https://www.petfinder.com/dog/batman-33853969/...</td>\n",
       "      <td>Young</td>\n",
       "      <td>Male</td>\n",
       "      <td>Small</td>\n",
       "      <td>[]</td>\n",
       "      <td>Batman</td>\n",
       "      <td>adopted</td>\n",
       "      <td>2015-12-21T22:23:16+0000</td>\n",
       "      <td>...</td>\n",
       "      <td>12</td>\n",
       "      <td>2015</td>\n",
       "      <td>3.404525</td>\n",
       "      <td>2.036168</td>\n",
       "      <td>4.859812</td>\n",
       "      <td>&lt; 1 month</td>\n",
       "      <td>0.109890</td>\n",
       "      <td>0.057746</td>\n",
       "      <td>High</td>\n",
       "      <td>Low</td>\n",
       "    </tr>\n",
       "    <tr>\n",
       "      <th>2</th>\n",
       "      <td>34004290</td>\n",
       "      <td>CA2395</td>\n",
       "      <td>https://www.petfinder.com/dog/benji-34004290/c...</td>\n",
       "      <td>Young</td>\n",
       "      <td>Male</td>\n",
       "      <td>Medium</td>\n",
       "      <td>[]</td>\n",
       "      <td>Benji</td>\n",
       "      <td>adopted</td>\n",
       "      <td>2015-12-30T01:22:04+0000</td>\n",
       "      <td>...</td>\n",
       "      <td>12</td>\n",
       "      <td>2015</td>\n",
       "      <td>2.949688</td>\n",
       "      <td>1.888175</td>\n",
       "      <td>4.770685</td>\n",
       "      <td>&lt; 1 month</td>\n",
       "      <td>0.267399</td>\n",
       "      <td>0.018419</td>\n",
       "      <td>High</td>\n",
       "      <td>Low</td>\n",
       "    </tr>\n",
       "    <tr>\n",
       "      <th>3</th>\n",
       "      <td>34042721</td>\n",
       "      <td>CA2395</td>\n",
       "      <td>https://www.petfinder.com/dog/zuma-34042721/ca...</td>\n",
       "      <td>Adult</td>\n",
       "      <td>Female</td>\n",
       "      <td>Medium</td>\n",
       "      <td>[]</td>\n",
       "      <td>Zuma</td>\n",
       "      <td>adopted</td>\n",
       "      <td>2016-02-12T19:13:27+0000</td>\n",
       "      <td>...</td>\n",
       "      <td>2</td>\n",
       "      <td>2016</td>\n",
       "      <td>4.062166</td>\n",
       "      <td>2.290172</td>\n",
       "      <td>5.056246</td>\n",
       "      <td>&lt; 100 days</td>\n",
       "      <td>0.025641</td>\n",
       "      <td>0.001195</td>\n",
       "      <td>Medium</td>\n",
       "      <td>Low</td>\n",
       "    </tr>\n",
       "    <tr>\n",
       "      <th>4</th>\n",
       "      <td>34079567</td>\n",
       "      <td>CA2395</td>\n",
       "      <td>https://www.petfinder.com/dog/diego-34079567/c...</td>\n",
       "      <td>Young</td>\n",
       "      <td>Male</td>\n",
       "      <td>Medium</td>\n",
       "      <td>[]</td>\n",
       "      <td>Diego</td>\n",
       "      <td>adopted</td>\n",
       "      <td>2015-12-30T01:21:59+0000</td>\n",
       "      <td>...</td>\n",
       "      <td>12</td>\n",
       "      <td>2015</td>\n",
       "      <td>2.208274</td>\n",
       "      <td>1.695218</td>\n",
       "      <td>4.682131</td>\n",
       "      <td>1 - 2 weeks</td>\n",
       "      <td>0.095238</td>\n",
       "      <td>0.496316</td>\n",
       "      <td>High</td>\n",
       "      <td>High</td>\n",
       "    </tr>\n",
       "  </tbody>\n",
       "</table>\n",
       "<p>5 rows × 33 columns</p>\n",
       "</div>"
      ],
      "text/plain": [
       "         id organization_id  \\\n",
       "0  33853923          CA2395   \n",
       "1  33853969          CA2395   \n",
       "2  34004290          CA2395   \n",
       "3  34042721          CA2395   \n",
       "4  34079567          CA2395   \n",
       "\n",
       "                                                 url    age  gender    size  \\\n",
       "0  https://www.petfinder.com/dog/sunny-33853923/c...   Baby  Female   Small   \n",
       "1  https://www.petfinder.com/dog/batman-33853969/...  Young    Male   Small   \n",
       "2  https://www.petfinder.com/dog/benji-34004290/c...  Young    Male  Medium   \n",
       "3  https://www.petfinder.com/dog/zuma-34042721/ca...  Adult  Female  Medium   \n",
       "4  https://www.petfinder.com/dog/diego-34079567/c...  Young    Male  Medium   \n",
       "\n",
       "  tags    name   status         status_changed_at  ... month  year  \\\n",
       "0   []   Sunny  adopted  2015-12-11T20:50:51+0000  ...    12  2015   \n",
       "1   []  Batman  adopted  2015-12-21T22:23:16+0000  ...    12  2015   \n",
       "2   []   Benji  adopted  2015-12-30T01:22:04+0000  ...    12  2015   \n",
       "3   []    Zuma  adopted  2016-02-12T19:13:27+0000  ...     2  2016   \n",
       "4   []   Diego  adopted  2015-12-30T01:21:59+0000  ...    12  2015   \n",
       "\n",
       "  log_adpt_time  mod_adpt_time  logmod_adpt_time  cg_adpt_time  \\\n",
       "0      3.000720       1.903654          4.779123     < 1 month   \n",
       "1      3.404525       2.036168          4.859812     < 1 month   \n",
       "2      2.949688       1.888175          4.770685     < 1 month   \n",
       "3      4.062166       2.290172          5.056246    < 100 days   \n",
       "4      2.208274       1.695218          4.682131   1 - 2 weeks   \n",
       "\n",
       "   norm_name_freq  norm_breed_freq  name_pop breed_pop  \n",
       "0        0.219780         0.496316      High      High  \n",
       "1        0.109890         0.057746      High       Low  \n",
       "2        0.267399         0.018419      High       Low  \n",
       "3        0.025641         0.001195    Medium       Low  \n",
       "4        0.095238         0.496316      High      High  \n",
       "\n",
       "[5 rows x 33 columns]"
      ]
     },
     "execution_count": 137,
     "metadata": {},
     "output_type": "execute_result"
    }
   ],
   "source": [
    "# change XL to Large for ease of access\n",
    "test2 = alldogs_nm\n",
    "test2.head()"
   ]
  },
  {
   "cell_type": "code",
   "execution_count": null,
   "metadata": {},
   "outputs": [],
   "source": []
  },
  {
   "cell_type": "code",
   "execution_count": 152,
   "metadata": {},
   "outputs": [],
   "source": [
    "test2.loc[test2['size'] == 'Extra Large', 'size'] = 'Large'"
   ]
  },
  {
   "cell_type": "code",
   "execution_count": 153,
   "metadata": {},
   "outputs": [
    {
     "data": {
      "text/html": [
       "<div>\n",
       "<style scoped>\n",
       "    .dataframe tbody tr th:only-of-type {\n",
       "        vertical-align: middle;\n",
       "    }\n",
       "\n",
       "    .dataframe tbody tr th {\n",
       "        vertical-align: top;\n",
       "    }\n",
       "\n",
       "    .dataframe thead th {\n",
       "        text-align: right;\n",
       "    }\n",
       "</style>\n",
       "<table border=\"1\" class=\"dataframe\">\n",
       "  <thead>\n",
       "    <tr style=\"text-align: right;\">\n",
       "      <th></th>\n",
       "      <th>id</th>\n",
       "      <th>organization_id</th>\n",
       "      <th>url</th>\n",
       "      <th>age</th>\n",
       "      <th>gender</th>\n",
       "      <th>size</th>\n",
       "      <th>tags</th>\n",
       "      <th>name</th>\n",
       "      <th>status</th>\n",
       "      <th>status_changed_at</th>\n",
       "      <th>...</th>\n",
       "      <th>month</th>\n",
       "      <th>year</th>\n",
       "      <th>log_adpt_time</th>\n",
       "      <th>mod_adpt_time</th>\n",
       "      <th>logmod_adpt_time</th>\n",
       "      <th>cg_adpt_time</th>\n",
       "      <th>norm_name_freq</th>\n",
       "      <th>norm_breed_freq</th>\n",
       "      <th>name_pop</th>\n",
       "      <th>breed_pop</th>\n",
       "    </tr>\n",
       "  </thead>\n",
       "  <tbody>\n",
       "  </tbody>\n",
       "</table>\n",
       "<p>0 rows × 33 columns</p>\n",
       "</div>"
      ],
      "text/plain": [
       "Empty DataFrame\n",
       "Columns: [id, organization_id, url, age, gender, size, tags, name, status, status_changed_at, published_at, distance, breeds.primary, breeds.mixed, breeds.unknown, attributes.spayed_neutered, attributes.house_trained, attributes.special_needs, attributes.shots_current, contact.address.city, contact.address.state, contact.address.postcode, adoption_time, month, year, log_adpt_time, mod_adpt_time, logmod_adpt_time, cg_adpt_time, norm_name_freq, norm_breed_freq, name_pop, breed_pop]\n",
       "Index: []\n",
       "\n",
       "[0 rows x 33 columns]"
      ]
     },
     "execution_count": 153,
     "metadata": {},
     "output_type": "execute_result"
    }
   ],
   "source": [
    "test2[test2['size'] == 'Extra Large']"
   ]
  },
  {
   "cell_type": "code",
   "execution_count": 154,
   "metadata": {},
   "outputs": [],
   "source": [
    "alldogs_nm.loc[alldogs_nm['size'] == 'Extra Large', 'size'] = 'Large'"
   ]
  },
  {
   "cell_type": "code",
   "execution_count": 155,
   "metadata": {},
   "outputs": [
    {
     "data": {
      "text/plain": [
       "Index(['id', 'organization_id', 'url', 'age', 'gender', 'size', 'tags', 'name',\n",
       "       'status', 'status_changed_at', 'published_at', 'distance',\n",
       "       'breeds.primary', 'breeds.mixed', 'breeds.unknown',\n",
       "       'attributes.spayed_neutered', 'attributes.house_trained',\n",
       "       'attributes.special_needs', 'attributes.shots_current',\n",
       "       'contact.address.city', 'contact.address.state',\n",
       "       'contact.address.postcode', 'adoption_time', 'month', 'year',\n",
       "       'log_adpt_time', 'mod_adpt_time', 'logmod_adpt_time', 'cg_adpt_time',\n",
       "       'norm_name_freq', 'norm_breed_freq', 'name_pop', 'breed_pop'],\n",
       "      dtype='object')"
      ]
     },
     "execution_count": 155,
     "metadata": {},
     "output_type": "execute_result"
    }
   ],
   "source": [
    "alldogs_nm.columns"
   ]
  },
  {
   "cell_type": "code",
   "execution_count": 156,
   "metadata": {},
   "outputs": [
    {
     "data": {
      "text/html": [
       "<div>\n",
       "<style scoped>\n",
       "    .dataframe tbody tr th:only-of-type {\n",
       "        vertical-align: middle;\n",
       "    }\n",
       "\n",
       "    .dataframe tbody tr th {\n",
       "        vertical-align: top;\n",
       "    }\n",
       "\n",
       "    .dataframe thead th {\n",
       "        text-align: right;\n",
       "    }\n",
       "</style>\n",
       "<table border=\"1\" class=\"dataframe\">\n",
       "  <thead>\n",
       "    <tr style=\"text-align: right;\">\n",
       "      <th></th>\n",
       "      <th>id</th>\n",
       "      <th>age</th>\n",
       "      <th>gender</th>\n",
       "      <th>size</th>\n",
       "      <th>breeds.primary</th>\n",
       "      <th>breeds.mixed</th>\n",
       "      <th>attributes.spayed_neutered</th>\n",
       "      <th>attributes.house_trained</th>\n",
       "      <th>attributes.special_needs</th>\n",
       "      <th>attributes.shots_current</th>\n",
       "      <th>contact.address.state</th>\n",
       "      <th>name_pop</th>\n",
       "      <th>breed_pop</th>\n",
       "      <th>month</th>\n",
       "    </tr>\n",
       "  </thead>\n",
       "  <tbody>\n",
       "    <tr>\n",
       "      <th>0</th>\n",
       "      <td>33853923</td>\n",
       "      <td>Baby</td>\n",
       "      <td>Female</td>\n",
       "      <td>Small</td>\n",
       "      <td>Terrier</td>\n",
       "      <td>True</td>\n",
       "      <td>True</td>\n",
       "      <td>True</td>\n",
       "      <td>False</td>\n",
       "      <td>True</td>\n",
       "      <td>CA</td>\n",
       "      <td>High</td>\n",
       "      <td>High</td>\n",
       "      <td>12</td>\n",
       "    </tr>\n",
       "    <tr>\n",
       "      <th>1</th>\n",
       "      <td>33853969</td>\n",
       "      <td>Young</td>\n",
       "      <td>Male</td>\n",
       "      <td>Small</td>\n",
       "      <td>Rat Terrier</td>\n",
       "      <td>False</td>\n",
       "      <td>True</td>\n",
       "      <td>True</td>\n",
       "      <td>False</td>\n",
       "      <td>True</td>\n",
       "      <td>CA</td>\n",
       "      <td>High</td>\n",
       "      <td>Low</td>\n",
       "      <td>12</td>\n",
       "    </tr>\n",
       "    <tr>\n",
       "      <th>2</th>\n",
       "      <td>34004290</td>\n",
       "      <td>Young</td>\n",
       "      <td>Male</td>\n",
       "      <td>Medium</td>\n",
       "      <td>Parson Russell Terrier</td>\n",
       "      <td>False</td>\n",
       "      <td>True</td>\n",
       "      <td>False</td>\n",
       "      <td>False</td>\n",
       "      <td>True</td>\n",
       "      <td>CA</td>\n",
       "      <td>High</td>\n",
       "      <td>Low</td>\n",
       "      <td>12</td>\n",
       "    </tr>\n",
       "    <tr>\n",
       "      <th>3</th>\n",
       "      <td>34042721</td>\n",
       "      <td>Adult</td>\n",
       "      <td>Female</td>\n",
       "      <td>Medium</td>\n",
       "      <td>Xoloitzcuintli / Mexican Hairless</td>\n",
       "      <td>False</td>\n",
       "      <td>True</td>\n",
       "      <td>False</td>\n",
       "      <td>False</td>\n",
       "      <td>True</td>\n",
       "      <td>CA</td>\n",
       "      <td>Medium</td>\n",
       "      <td>Low</td>\n",
       "      <td>2</td>\n",
       "    </tr>\n",
       "    <tr>\n",
       "      <th>4</th>\n",
       "      <td>34079567</td>\n",
       "      <td>Young</td>\n",
       "      <td>Male</td>\n",
       "      <td>Medium</td>\n",
       "      <td>Terrier</td>\n",
       "      <td>True</td>\n",
       "      <td>True</td>\n",
       "      <td>False</td>\n",
       "      <td>False</td>\n",
       "      <td>True</td>\n",
       "      <td>CA</td>\n",
       "      <td>High</td>\n",
       "      <td>High</td>\n",
       "      <td>12</td>\n",
       "    </tr>\n",
       "  </tbody>\n",
       "</table>\n",
       "</div>"
      ],
      "text/plain": [
       "         id    age  gender    size                     breeds.primary  \\\n",
       "0  33853923   Baby  Female   Small                            Terrier   \n",
       "1  33853969  Young    Male   Small                        Rat Terrier   \n",
       "2  34004290  Young    Male  Medium             Parson Russell Terrier   \n",
       "3  34042721  Adult  Female  Medium  Xoloitzcuintli / Mexican Hairless   \n",
       "4  34079567  Young    Male  Medium                            Terrier   \n",
       "\n",
       "   breeds.mixed  attributes.spayed_neutered  attributes.house_trained  \\\n",
       "0          True                        True                      True   \n",
       "1         False                        True                      True   \n",
       "2         False                        True                     False   \n",
       "3         False                        True                     False   \n",
       "4          True                        True                     False   \n",
       "\n",
       "   attributes.special_needs  attributes.shots_current contact.address.state  \\\n",
       "0                     False                      True                    CA   \n",
       "1                     False                      True                    CA   \n",
       "2                     False                      True                    CA   \n",
       "3                     False                      True                    CA   \n",
       "4                     False                      True                    CA   \n",
       "\n",
       "  name_pop breed_pop  month  \n",
       "0     High      High     12  \n",
       "1     High       Low     12  \n",
       "2     High       Low     12  \n",
       "3   Medium       Low      2  \n",
       "4     High      High     12  "
      ]
     },
     "execution_count": 156,
     "metadata": {},
     "output_type": "execute_result"
    }
   ],
   "source": [
    "X_features = ['id','age', 'gender', 'size', 'breeds.primary',\n",
    "              'breeds.mixed', 'attributes.spayed_neutered', 'attributes.house_trained',\n",
    "              'attributes.special_needs', 'attributes.shots_current', 'contact.address.state', \n",
    "              'name_pop', 'breed_pop', 'month']\n",
    "X = alldogs_nm[X_features]\n",
    "X.head()"
   ]
  },
  {
   "cell_type": "code",
   "execution_count": 21,
   "metadata": {},
   "outputs": [
    {
     "data": {
      "text/plain": [
       "Young     55488\n",
       "Baby      51911\n",
       "Adult     40256\n",
       "Senior     3829\n",
       "Name: age, dtype: int64"
      ]
     },
     "execution_count": 21,
     "metadata": {},
     "output_type": "execute_result"
    }
   ],
   "source": [
    "X['age'].value_counts()"
   ]
  },
  {
   "cell_type": "code",
   "execution_count": 22,
   "metadata": {},
   "outputs": [
    {
     "data": {
      "text/plain": [
       "Male      76377\n",
       "Female    75107\n",
       "Name: gender, dtype: int64"
      ]
     },
     "execution_count": 22,
     "metadata": {},
     "output_type": "execute_result"
    }
   ],
   "source": [
    "X['gender'].value_counts()"
   ]
  },
  {
   "cell_type": "code",
   "execution_count": 23,
   "metadata": {},
   "outputs": [
    {
     "data": {
      "text/plain": [
       "Medium         60828\n",
       "Small          58982\n",
       "Large          29530\n",
       "Extra Large     2144\n",
       "Name: size, dtype: int64"
      ]
     },
     "execution_count": 23,
     "metadata": {},
     "output_type": "execute_result"
    }
   ],
   "source": [
    "X['size'].value_counts()"
   ]
  },
  {
   "cell_type": "code",
   "execution_count": 24,
   "metadata": {},
   "outputs": [
    {
     "data": {
      "text/plain": [
       "NY    40526\n",
       "TX    38231\n",
       "MN    36721\n",
       "CA    36006\n",
       "Name: contact.address.state, dtype: int64"
      ]
     },
     "execution_count": 24,
     "metadata": {},
     "output_type": "execute_result"
    }
   ],
   "source": [
    "X['contact.address.state'].value_counts()"
   ]
  },
  {
   "cell_type": "code",
   "execution_count": 78,
   "metadata": {},
   "outputs": [
    {
     "data": {
      "text/plain": [
       "Bella          499\n",
       "Max            441\n",
       "Lucy           438\n",
       "Daisy          436\n",
       "Buddy          416\n",
       "Charlie        394\n",
       "Jack           337\n",
       "Molly          335\n",
       "Lola           312\n",
       "Bear           280\n",
       "Bailey         276\n",
       "Ginger         274\n",
       "Rocky          262\n",
       "Penny          258\n",
       "Toby           252\n",
       "Maggie         252\n",
       "Luna           246\n",
       "Sadie          243\n",
       "Coco           242\n",
       "Rosie          238\n",
       "Lady           237\n",
       "Sophie         233\n",
       "Duke           230\n",
       "Lucky          216\n",
       "Lily           214\n",
       "Teddy          210\n",
       "Ruby           207\n",
       "Stella         205\n",
       "Cooper         203\n",
       "Princess       202\n",
       "              ... \n",
       "Cheerio         11\n",
       "SKY             11\n",
       "FOXY            11\n",
       "ELLA            11\n",
       "Val             11\n",
       "Carrot          11\n",
       "Jess            11\n",
       "Davis           11\n",
       "Cherub          11\n",
       "Jeter           11\n",
       "Pinkie          11\n",
       "ROMEO           11\n",
       "Kimmie          11\n",
       "Little Bear     11\n",
       "OREO            11\n",
       "Jazmine         11\n",
       "Cadence         11\n",
       "Alana           11\n",
       "Monet           11\n",
       "Barnie          11\n",
       "Suzie Q         11\n",
       "Muneca          11\n",
       "Rock            11\n",
       "Jayden          11\n",
       "Dodge           11\n",
       "Cory            11\n",
       "Clinton         11\n",
       "Dempsey         11\n",
       "Elmo            11\n",
       "Rhea            11\n",
       "Name: name, Length: 2234, dtype: int64"
      ]
     },
     "execution_count": 78,
     "metadata": {},
     "output_type": "execute_result"
    }
   ],
   "source": [
    "test = alldogs_merged['name'].value_counts()"
   ]
  },
  {
   "cell_type": "code",
   "execution_count": 79,
   "metadata": {},
   "outputs": [],
   "source": [
    "test.to_csv('names.csv', header=False, index=True)"
   ]
  },
  {
   "cell_type": "code",
   "execution_count": 121,
   "metadata": {},
   "outputs": [
    {
     "data": {
      "text/html": [
       "<div>\n",
       "<style scoped>\n",
       "    .dataframe tbody tr th:only-of-type {\n",
       "        vertical-align: middle;\n",
       "    }\n",
       "\n",
       "    .dataframe tbody tr th {\n",
       "        vertical-align: top;\n",
       "    }\n",
       "\n",
       "    .dataframe thead th {\n",
       "        text-align: right;\n",
       "    }\n",
       "</style>\n",
       "<table border=\"1\" class=\"dataframe\">\n",
       "  <thead>\n",
       "    <tr style=\"text-align: right;\">\n",
       "      <th></th>\n",
       "      <th>id</th>\n",
       "      <th>age</th>\n",
       "      <th>gender</th>\n",
       "      <th>size</th>\n",
       "      <th>breeds.primary</th>\n",
       "      <th>breeds.mixed</th>\n",
       "      <th>attributes.spayed_neutered</th>\n",
       "      <th>attributes.house_trained</th>\n",
       "      <th>attributes.special_needs</th>\n",
       "      <th>attributes.shots_current</th>\n",
       "      <th>contact.address.state</th>\n",
       "      <th>name_pop</th>\n",
       "      <th>breed_pop</th>\n",
       "      <th>month</th>\n",
       "    </tr>\n",
       "  </thead>\n",
       "  <tbody>\n",
       "    <tr>\n",
       "      <th>0</th>\n",
       "      <td>33853923</td>\n",
       "      <td>Baby</td>\n",
       "      <td>Female</td>\n",
       "      <td>Small</td>\n",
       "      <td>Terrier</td>\n",
       "      <td>True</td>\n",
       "      <td>True</td>\n",
       "      <td>True</td>\n",
       "      <td>False</td>\n",
       "      <td>True</td>\n",
       "      <td>CA</td>\n",
       "      <td>High</td>\n",
       "      <td>High</td>\n",
       "      <td>12</td>\n",
       "    </tr>\n",
       "    <tr>\n",
       "      <th>1</th>\n",
       "      <td>33853969</td>\n",
       "      <td>Young</td>\n",
       "      <td>Male</td>\n",
       "      <td>Small</td>\n",
       "      <td>Rat Terrier</td>\n",
       "      <td>False</td>\n",
       "      <td>True</td>\n",
       "      <td>True</td>\n",
       "      <td>False</td>\n",
       "      <td>True</td>\n",
       "      <td>CA</td>\n",
       "      <td>High</td>\n",
       "      <td>Low</td>\n",
       "      <td>12</td>\n",
       "    </tr>\n",
       "    <tr>\n",
       "      <th>2</th>\n",
       "      <td>34004290</td>\n",
       "      <td>Young</td>\n",
       "      <td>Male</td>\n",
       "      <td>Medium</td>\n",
       "      <td>Parson Russell Terrier</td>\n",
       "      <td>False</td>\n",
       "      <td>True</td>\n",
       "      <td>False</td>\n",
       "      <td>False</td>\n",
       "      <td>True</td>\n",
       "      <td>CA</td>\n",
       "      <td>High</td>\n",
       "      <td>Low</td>\n",
       "      <td>12</td>\n",
       "    </tr>\n",
       "    <tr>\n",
       "      <th>3</th>\n",
       "      <td>34042721</td>\n",
       "      <td>Adult</td>\n",
       "      <td>Female</td>\n",
       "      <td>Medium</td>\n",
       "      <td>Xoloitzcuintli / Mexican Hairless</td>\n",
       "      <td>False</td>\n",
       "      <td>True</td>\n",
       "      <td>False</td>\n",
       "      <td>False</td>\n",
       "      <td>True</td>\n",
       "      <td>CA</td>\n",
       "      <td>Medium</td>\n",
       "      <td>Low</td>\n",
       "      <td>2</td>\n",
       "    </tr>\n",
       "    <tr>\n",
       "      <th>4</th>\n",
       "      <td>34079567</td>\n",
       "      <td>Young</td>\n",
       "      <td>Male</td>\n",
       "      <td>Medium</td>\n",
       "      <td>Terrier</td>\n",
       "      <td>True</td>\n",
       "      <td>True</td>\n",
       "      <td>False</td>\n",
       "      <td>False</td>\n",
       "      <td>True</td>\n",
       "      <td>CA</td>\n",
       "      <td>High</td>\n",
       "      <td>High</td>\n",
       "      <td>12</td>\n",
       "    </tr>\n",
       "  </tbody>\n",
       "</table>\n",
       "</div>"
      ],
      "text/plain": [
       "         id    age  gender    size                     breeds.primary  \\\n",
       "0  33853923   Baby  Female   Small                            Terrier   \n",
       "1  33853969  Young    Male   Small                        Rat Terrier   \n",
       "2  34004290  Young    Male  Medium             Parson Russell Terrier   \n",
       "3  34042721  Adult  Female  Medium  Xoloitzcuintli / Mexican Hairless   \n",
       "4  34079567  Young    Male  Medium                            Terrier   \n",
       "\n",
       "   breeds.mixed  attributes.spayed_neutered  attributes.house_trained  \\\n",
       "0          True                        True                      True   \n",
       "1         False                        True                      True   \n",
       "2         False                        True                     False   \n",
       "3         False                        True                     False   \n",
       "4          True                        True                     False   \n",
       "\n",
       "   attributes.special_needs  attributes.shots_current contact.address.state  \\\n",
       "0                     False                      True                    CA   \n",
       "1                     False                      True                    CA   \n",
       "2                     False                      True                    CA   \n",
       "3                     False                      True                    CA   \n",
       "4                     False                      True                    CA   \n",
       "\n",
       "  name_pop breed_pop  month  \n",
       "0     High      High     12  \n",
       "1     High       Low     12  \n",
       "2     High       Low     12  \n",
       "3   Medium       Low      2  \n",
       "4     High      High     12  "
      ]
     },
     "execution_count": 121,
     "metadata": {},
     "output_type": "execute_result"
    }
   ],
   "source": [
    "X.head()"
   ]
  },
  {
   "cell_type": "code",
   "execution_count": 157,
   "metadata": {},
   "outputs": [],
   "source": [
    "y = alldogs_nm['cg_adpt_time']"
   ]
  },
  {
   "cell_type": "code",
   "execution_count": 123,
   "metadata": {},
   "outputs": [
    {
     "data": {
      "text/plain": [
       "90628"
      ]
     },
     "execution_count": 123,
     "metadata": {},
     "output_type": "execute_result"
    }
   ],
   "source": [
    "len(X)"
   ]
  },
  {
   "cell_type": "code",
   "execution_count": 124,
   "metadata": {},
   "outputs": [],
   "source": [
    "cat_col = ['age','gender','size','contact.address.state', 'name_pop', 'breed_pop', 'month']"
   ]
  },
  {
   "cell_type": "code",
   "execution_count": 125,
   "metadata": {},
   "outputs": [
    {
     "name": "stderr",
     "output_type": "stream",
     "text": [
      "C:\\anaconda_python\\envs\\Insight\\lib\\site-packages\\pandas\\core\\frame.py:3509: SettingWithCopyWarning: \n",
      "A value is trying to be set on a copy of a slice from a DataFrame.\n",
      "Try using .loc[row_indexer,col_indexer] = value instead\n",
      "\n",
      "See the caveats in the documentation: http://pandas.pydata.org/pandas-docs/stable/user_guide/indexing.html#returning-a-view-versus-a-copy\n",
      "  self[k1] = value[k2]\n"
     ]
    }
   ],
   "source": [
    "X[cat_col]=X[cat_col].astype('category')"
   ]
  },
  {
   "cell_type": "code",
   "execution_count": 162,
   "metadata": {},
   "outputs": [
    {
     "data": {
      "text/html": [
       "<div>\n",
       "<style scoped>\n",
       "    .dataframe tbody tr th:only-of-type {\n",
       "        vertical-align: middle;\n",
       "    }\n",
       "\n",
       "    .dataframe tbody tr th {\n",
       "        vertical-align: top;\n",
       "    }\n",
       "\n",
       "    .dataframe thead th {\n",
       "        text-align: right;\n",
       "    }\n",
       "</style>\n",
       "<table border=\"1\" class=\"dataframe\">\n",
       "  <thead>\n",
       "    <tr style=\"text-align: right;\">\n",
       "      <th></th>\n",
       "      <th>id</th>\n",
       "      <th>age</th>\n",
       "      <th>gender</th>\n",
       "      <th>size</th>\n",
       "      <th>breeds.primary</th>\n",
       "      <th>breeds.mixed</th>\n",
       "      <th>attributes.spayed_neutered</th>\n",
       "      <th>attributes.house_trained</th>\n",
       "      <th>attributes.special_needs</th>\n",
       "      <th>attributes.shots_current</th>\n",
       "      <th>contact.address.state</th>\n",
       "      <th>name_pop</th>\n",
       "      <th>breed_pop</th>\n",
       "      <th>month</th>\n",
       "      <th>cg_adpt_time</th>\n",
       "    </tr>\n",
       "  </thead>\n",
       "  <tbody>\n",
       "    <tr>\n",
       "      <th>0</th>\n",
       "      <td>33853923</td>\n",
       "      <td>Baby</td>\n",
       "      <td>Female</td>\n",
       "      <td>Small</td>\n",
       "      <td>Terrier</td>\n",
       "      <td>True</td>\n",
       "      <td>True</td>\n",
       "      <td>True</td>\n",
       "      <td>False</td>\n",
       "      <td>True</td>\n",
       "      <td>CA</td>\n",
       "      <td>High</td>\n",
       "      <td>High</td>\n",
       "      <td>12</td>\n",
       "      <td>&lt; 1 month</td>\n",
       "    </tr>\n",
       "    <tr>\n",
       "      <th>1</th>\n",
       "      <td>33853969</td>\n",
       "      <td>Young</td>\n",
       "      <td>Male</td>\n",
       "      <td>Small</td>\n",
       "      <td>Rat Terrier</td>\n",
       "      <td>False</td>\n",
       "      <td>True</td>\n",
       "      <td>True</td>\n",
       "      <td>False</td>\n",
       "      <td>True</td>\n",
       "      <td>CA</td>\n",
       "      <td>High</td>\n",
       "      <td>Low</td>\n",
       "      <td>12</td>\n",
       "      <td>&lt; 1 month</td>\n",
       "    </tr>\n",
       "    <tr>\n",
       "      <th>2</th>\n",
       "      <td>34004290</td>\n",
       "      <td>Young</td>\n",
       "      <td>Male</td>\n",
       "      <td>Medium</td>\n",
       "      <td>Parson Russell Terrier</td>\n",
       "      <td>False</td>\n",
       "      <td>True</td>\n",
       "      <td>False</td>\n",
       "      <td>False</td>\n",
       "      <td>True</td>\n",
       "      <td>CA</td>\n",
       "      <td>High</td>\n",
       "      <td>Low</td>\n",
       "      <td>12</td>\n",
       "      <td>&lt; 1 month</td>\n",
       "    </tr>\n",
       "    <tr>\n",
       "      <th>3</th>\n",
       "      <td>34042721</td>\n",
       "      <td>Adult</td>\n",
       "      <td>Female</td>\n",
       "      <td>Medium</td>\n",
       "      <td>Xoloitzcuintli / Mexican Hairless</td>\n",
       "      <td>False</td>\n",
       "      <td>True</td>\n",
       "      <td>False</td>\n",
       "      <td>False</td>\n",
       "      <td>True</td>\n",
       "      <td>CA</td>\n",
       "      <td>Medium</td>\n",
       "      <td>Low</td>\n",
       "      <td>2</td>\n",
       "      <td>&lt; 100 days</td>\n",
       "    </tr>\n",
       "    <tr>\n",
       "      <th>4</th>\n",
       "      <td>34079567</td>\n",
       "      <td>Young</td>\n",
       "      <td>Male</td>\n",
       "      <td>Medium</td>\n",
       "      <td>Terrier</td>\n",
       "      <td>True</td>\n",
       "      <td>True</td>\n",
       "      <td>False</td>\n",
       "      <td>False</td>\n",
       "      <td>True</td>\n",
       "      <td>CA</td>\n",
       "      <td>High</td>\n",
       "      <td>High</td>\n",
       "      <td>12</td>\n",
       "      <td>1 - 2 weeks</td>\n",
       "    </tr>\n",
       "  </tbody>\n",
       "</table>\n",
       "</div>"
      ],
      "text/plain": [
       "         id    age  gender    size                     breeds.primary  \\\n",
       "0  33853923   Baby  Female   Small                            Terrier   \n",
       "1  33853969  Young    Male   Small                        Rat Terrier   \n",
       "2  34004290  Young    Male  Medium             Parson Russell Terrier   \n",
       "3  34042721  Adult  Female  Medium  Xoloitzcuintli / Mexican Hairless   \n",
       "4  34079567  Young    Male  Medium                            Terrier   \n",
       "\n",
       "   breeds.mixed  attributes.spayed_neutered  attributes.house_trained  \\\n",
       "0          True                        True                      True   \n",
       "1         False                        True                      True   \n",
       "2         False                        True                     False   \n",
       "3         False                        True                     False   \n",
       "4          True                        True                     False   \n",
       "\n",
       "   attributes.special_needs  attributes.shots_current contact.address.state  \\\n",
       "0                     False                      True                    CA   \n",
       "1                     False                      True                    CA   \n",
       "2                     False                      True                    CA   \n",
       "3                     False                      True                    CA   \n",
       "4                     False                      True                    CA   \n",
       "\n",
       "  name_pop breed_pop  month cg_adpt_time  \n",
       "0     High      High     12    < 1 month  \n",
       "1     High       Low     12    < 1 month  \n",
       "2     High       Low     12    < 1 month  \n",
       "3   Medium       Low      2   < 100 days  \n",
       "4     High      High     12  1 - 2 weeks  "
      ]
     },
     "execution_count": 162,
     "metadata": {},
     "output_type": "execute_result"
    }
   ],
   "source": [
    "total = pd.concat([X,y], axis=1)\n",
    "total.head()"
   ]
  },
  {
   "cell_type": "code",
   "execution_count": 127,
   "metadata": {},
   "outputs": [
    {
     "data": {
      "text/plain": [
       "90628"
      ]
     },
     "execution_count": 127,
     "metadata": {},
     "output_type": "execute_result"
    }
   ],
   "source": [
    "len(total)"
   ]
  },
  {
   "cell_type": "code",
   "execution_count": 165,
   "metadata": {},
   "outputs": [
    {
     "data": {
      "image/png": "[encoded data removed]",
      "text/plain": [
       "<Figure size 432x288 with 1 Axes>"
      ]
     },
     "metadata": {
      "needs_background": "light"
     },
     "output_type": "display_data"
    }
   ],
   "source": [
    "timeplot = sns.countplot(y='cg_adpt_time', data=total, palette=\"ch:.25\")"
   ]
  },
  {
   "cell_type": "code",
   "execution_count": null,
   "metadata": {},
   "outputs": [],
   "source": []
  },
  {
   "cell_type": "code",
   "execution_count": 166,
   "metadata": {},
   "outputs": [
    {
     "data": {
      "image/png": "[encoded data removed]",
      "text/plain": [
       "<Figure size 432x288 with 1 Axes>"
      ]
     },
     "metadata": {
      "needs_background": "light"
     },
     "output_type": "display_data"
    }
   ],
   "source": [
    "nameplot = sns.countplot(y='cg_adpt_time', hue='name_pop', data=total, palette=\"ch:.25\")"
   ]
  },
  {
   "cell_type": "code",
   "execution_count": 167,
   "metadata": {},
   "outputs": [
    {
     "data": {
      "image/png": "[encoded data removed]",
      "text/plain": [
       "<Figure size 432x288 with 1 Axes>"
      ]
     },
     "metadata": {
      "needs_background": "light"
     },
     "output_type": "display_data"
    }
   ],
   "source": [
    "breedplot = sns.countplot(y='cg_adpt_time', hue='breed_pop', data=total, palette=\"ch:.25\")"
   ]
  },
  {
   "cell_type": "code",
   "execution_count": 168,
   "metadata": {},
   "outputs": [
    {
     "data": {
      "image/png": "[encoded data removed]",
      "text/plain": [
       "<Figure size 432x288 with 1 Axes>"
      ]
     },
     "metadata": {
      "needs_background": "light"
     },
     "output_type": "display_data"
    }
   ],
   "source": [
    "ageplot = sns.countplot(y='cg_adpt_time', hue='age', data=total, palette=\"ch:.25\")"
   ]
  },
  {
   "cell_type": "code",
   "execution_count": 169,
   "metadata": {},
   "outputs": [
    {
     "data": {
      "image/png": "[encoded data removed]",
      "text/plain": [
       "<Figure size 432x288 with 1 Axes>"
      ]
     },
     "metadata": {
      "needs_background": "light"
     },
     "output_type": "display_data"
    }
   ],
   "source": [
    "ageplot = sns.countplot(y='cg_adpt_time', hue='size', data=total, palette=\"ch:.25\")"
   ]
  },
  {
   "cell_type": "code",
   "execution_count": 170,
   "metadata": {},
   "outputs": [
    {
     "data": {
      "image/png": "[encoded data removed]",
      "text/plain": [
       "<Figure size 432x288 with 1 Axes>"
      ]
     },
     "metadata": {
      "needs_background": "light"
     },
     "output_type": "display_data"
    }
   ],
   "source": [
    "ageplot = sns.countplot(y='cg_adpt_time', hue='contact.address.state', data=total, palette=\"ch:.25\")"
   ]
  },
  {
   "cell_type": "code",
   "execution_count": 171,
   "metadata": {},
   "outputs": [
    {
     "data": {
      "image/png": "[encoded data removed]",
      "text/plain": [
       "<Figure size 432x288 with 1 Axes>"
      ]
     },
     "metadata": {
      "needs_background": "light"
     },
     "output_type": "display_data"
    }
   ],
   "source": [
    "ageplot = sns.countplot(y='cg_adpt_time', hue='gender', data=total, palette=\"ch:.25\")"
   ]
  },
  {
   "cell_type": "code",
   "execution_count": 172,
   "metadata": {},
   "outputs": [
    {
     "data": {
      "image/png": "[encoded data removed]",
      "text/plain": [
       "<Figure size 432x288 with 1 Axes>"
      ]
     },
     "metadata": {
      "needs_background": "light"
     },
     "output_type": "display_data"
    }
   ],
   "source": [
    "ageplot = sns.countplot(y='cg_adpt_time', hue='breeds.mixed', data=total, palette=\"ch:.25\")"
   ]
  },
  {
   "cell_type": "code",
   "execution_count": 173,
   "metadata": {},
   "outputs": [
    {
     "data": {
      "image/png": "[encoded data removed]",
      "text/plain": [
       "<Figure size 432x288 with 1 Axes>"
      ]
     },
     "metadata": {
      "needs_background": "light"
     },
     "output_type": "display_data"
    }
   ],
   "source": [
    "ageplot = sns.countplot(y='cg_adpt_time', hue='attributes.spayed_neutered', data=total, palette=\"ch:.25\")"
   ]
  },
  {
   "cell_type": "code",
   "execution_count": 174,
   "metadata": {},
   "outputs": [
    {
     "data": {
      "image/png": "[encoded data removed]",
      "text/plain": [
       "<Figure size 432x288 with 1 Axes>"
      ]
     },
     "metadata": {
      "needs_background": "light"
     },
     "output_type": "display_data"
    }
   ],
   "source": [
    "ageplot = sns.countplot(y='cg_adpt_time', hue='attributes.house_trained', data=total, palette=\"ch:.25\")"
   ]
  },
  {
   "cell_type": "code",
   "execution_count": 175,
   "metadata": {},
   "outputs": [
    {
     "data": {
      "image/png": "[encoded data removed]",
      "text/plain": [
       "<Figure size 432x288 with 1 Axes>"
      ]
     },
     "metadata": {
      "needs_background": "light"
     },
     "output_type": "display_data"
    }
   ],
   "source": [
    "ageplot = sns.countplot(y='cg_adpt_time', hue='attributes.shots_current', data=total, palette=\"ch:.25\")"
   ]
  },
  {
   "cell_type": "code",
   "execution_count": 176,
   "metadata": {},
   "outputs": [
    {
     "data": {
      "image/png": "[encoded data removed]",
      "text/plain": [
       "<Figure size 432x288 with 1 Axes>"
      ]
     },
     "metadata": {
      "needs_background": "light"
     },
     "output_type": "display_data"
    }
   ],
   "source": [
    "ageplot = sns.countplot(y='cg_adpt_time', hue='attributes.special_needs', data=total, palette=\"ch:.25\")"
   ]
  },
  {
   "cell_type": "code",
   "execution_count": 177,
   "metadata": {},
   "outputs": [
    {
     "data": {
      "image/png": "[encoded data removed]",
      "text/plain": [
       "<Figure size 360x360 with 1 Axes>"
      ]
     },
     "metadata": {
      "needs_background": "light"
     },
     "output_type": "display_data"
    }
   ],
   "source": [
    "sns.catplot(x=\"size\", kind=\"count\", palette=\"ch:.25\", data=total);"
   ]
  },
  {
   "cell_type": "code",
   "execution_count": 178,
   "metadata": {},
   "outputs": [
    {
     "data": {
      "image/png": "[encoded data removed]",
      "text/plain": [
       "<Figure size 427.75x360 with 1 Axes>"
      ]
     },
     "metadata": {
      "needs_background": "light"
     },
     "output_type": "display_data"
    }
   ],
   "source": [
    "sns.catplot(x=\"size\", kind=\"count\", hue=\"age\", palette=\"ch:.25\", data=total);"
   ]
  },
  {
   "cell_type": "code",
   "execution_count": 179,
   "metadata": {},
   "outputs": [
    {
     "data": {
      "image/png": "[encoded data removed]",
      "text/plain": [
       "<Figure size 360x360 with 1 Axes>"
      ]
     },
     "metadata": {
      "needs_background": "light"
     },
     "output_type": "display_data"
    }
   ],
   "source": [
    "sns.catplot(x=\"contact.address.state\", kind=\"count\", palette=\"ch:.25\", data=total);"
   ]
  },
  {
   "cell_type": "code",
   "execution_count": 180,
   "metadata": {},
   "outputs": [
    {
     "data": {
      "image/png": "[encoded data removed]",
      "text/plain": [
       "<Figure size 360x360 with 1 Axes>"
      ]
     },
     "metadata": {
      "needs_background": "light"
     },
     "output_type": "display_data"
    }
   ],
   "source": [
    "sns.catplot(x=\"age\", kind=\"count\", palette=\"ch:.25\",order=[\"Baby\", \"Young\", \"Adult\", \"Senior\"], data=total);"
   ]
  },
  {
   "cell_type": "code",
   "execution_count": 181,
   "metadata": {},
   "outputs": [
    {
     "data": {
      "image/png": "[encoded data removed]",
      "text/plain": [
       "<Figure size 360x360 with 1 Axes>"
      ]
     },
     "metadata": {
      "needs_background": "light"
     },
     "output_type": "display_data"
    }
   ],
   "source": [
    "sns.catplot(x=\"gender\", kind=\"count\", palette=\"ch:.25\", data=total);"
   ]
  },
  {
   "cell_type": "code",
   "execution_count": 182,
   "metadata": {},
   "outputs": [
    {
     "data": {
      "image/png": "[encoded data removed]",
      "text/plain": [
       "<Figure size 360x360 with 1 Axes>"
      ]
     },
     "metadata": {
      "needs_background": "light"
     },
     "output_type": "display_data"
    }
   ],
   "source": [
    "sns.catplot(x=\"breeds.mixed\", kind=\"count\", palette=\"ch:.25\", data=total);"
   ]
  },
  {
   "cell_type": "code",
   "execution_count": 183,
   "metadata": {},
   "outputs": [
    {
     "data": {
      "image/png": "[encoded data removed]",
      "text/plain": [
       "<Figure size 360x360 with 1 Axes>"
      ]
     },
     "metadata": {
      "needs_background": "light"
     },
     "output_type": "display_data"
    }
   ],
   "source": [
    "sns.catplot(x=\"attributes.spayed_neutered\", kind=\"count\", palette=\"ch:.25\", data=total);"
   ]
  },
  {
   "cell_type": "code",
   "execution_count": 184,
   "metadata": {},
   "outputs": [
    {
     "data": {
      "image/png": "[encoded data removed]",
      "text/plain": [
       "<Figure size 360x360 with 1 Axes>"
      ]
     },
     "metadata": {
      "needs_background": "light"
     },
     "output_type": "display_data"
    }
   ],
   "source": [
    "sns.catplot(x=\"attributes.house_trained\", kind=\"count\", palette=\"ch:.25\", data=total);"
   ]
  },
  {
   "cell_type": "code",
   "execution_count": 185,
   "metadata": {},
   "outputs": [
    {
     "data": {
      "image/png": "[encoded data removed]",
      "text/plain": [
       "<Figure size 360x360 with 1 Axes>"
      ]
     },
     "metadata": {
      "needs_background": "light"
     },
     "output_type": "display_data"
    }
   ],
   "source": [
    "sns.catplot(x=\"attributes.shots_current\", kind=\"count\", palette=\"ch:.25\", data=total);"
   ]
  },
  {
   "cell_type": "code",
   "execution_count": 250,
   "metadata": {},
   "outputs": [
    {
     "ename": "KeyError",
     "evalue": "'log_adpt_time'",
     "output_type": "error",
     "traceback": [
      "\u001b[1;31m---------------------------------------------------------------------------\u001b[0m",
      "\u001b[1;31mKeyError\u001b[0m                                  Traceback (most recent call last)",
      "\u001b[1;32mC:\\anaconda_python\\envs\\Insight\\lib\\site-packages\\pandas\\core\\indexes\\base.py\u001b[0m in \u001b[0;36mget_loc\u001b[1;34m(self, key, method, tolerance)\u001b[0m\n\u001b[0;32m   2896\u001b[0m             \u001b[1;32mtry\u001b[0m\u001b[1;33m:\u001b[0m\u001b[1;33m\u001b[0m\u001b[1;33m\u001b[0m\u001b[0m\n\u001b[1;32m-> 2897\u001b[1;33m                 \u001b[1;32mreturn\u001b[0m \u001b[0mself\u001b[0m\u001b[1;33m.\u001b[0m\u001b[0m_engine\u001b[0m\u001b[1;33m.\u001b[0m\u001b[0mget_loc\u001b[0m\u001b[1;33m(\u001b[0m\u001b[0mkey\u001b[0m\u001b[1;33m)\u001b[0m\u001b[1;33m\u001b[0m\u001b[1;33m\u001b[0m\u001b[0m\n\u001b[0m\u001b[0;32m   2898\u001b[0m             \u001b[1;32mexcept\u001b[0m \u001b[0mKeyError\u001b[0m\u001b[1;33m:\u001b[0m\u001b[1;33m\u001b[0m\u001b[1;33m\u001b[0m\u001b[0m\n",
      "\u001b[1;32mpandas/_libs/index.pyx\u001b[0m in \u001b[0;36mpandas._libs.index.IndexEngine.get_loc\u001b[1;34m()\u001b[0m\n",
      "\u001b[1;32mpandas/_libs/index.pyx\u001b[0m in \u001b[0;36mpandas._libs.index.IndexEngine.get_loc\u001b[1;34m()\u001b[0m\n",
      "\u001b[1;32mpandas/_libs/hashtable_class_helper.pxi\u001b[0m in \u001b[0;36mpandas._libs.hashtable.PyObjectHashTable.get_item\u001b[1;34m()\u001b[0m\n",
      "\u001b[1;32mpandas/_libs/hashtable_class_helper.pxi\u001b[0m in \u001b[0;36mpandas._libs.hashtable.PyObjectHashTable.get_item\u001b[1;34m()\u001b[0m\n",
      "\u001b[1;31mKeyError\u001b[0m: 'log_adpt_time'",
      "\nDuring handling of the above exception, another exception occurred:\n",
      "\u001b[1;31mKeyError\u001b[0m                                  Traceback (most recent call last)",
      "\u001b[1;32m<ipython-input-250-8418342b0b92>\u001b[0m in \u001b[0;36m<module>\u001b[1;34m\u001b[0m\n\u001b[0;32m      2\u001b[0m \u001b[1;31m#trainval_X, test_X, trainval_y, test_y = train_test_split(X, y, test_size=0.2)\u001b[0m\u001b[1;33m\u001b[0m\u001b[1;33m\u001b[0m\u001b[1;33m\u001b[0m\u001b[0m\n\u001b[0;32m      3\u001b[0m \u001b[1;31m#use log_adpt_time as feature\u001b[0m\u001b[1;33m\u001b[0m\u001b[1;33m\u001b[0m\u001b[1;33m\u001b[0m\u001b[0m\n\u001b[1;32m----> 4\u001b[1;33m \u001b[0mtrainval_X\u001b[0m\u001b[1;33m,\u001b[0m \u001b[0mtest_X\u001b[0m\u001b[1;33m,\u001b[0m \u001b[0mtrainval_y\u001b[0m\u001b[1;33m,\u001b[0m \u001b[0mtest_y\u001b[0m \u001b[1;33m=\u001b[0m \u001b[0mtrain_test_split\u001b[0m\u001b[1;33m(\u001b[0m\u001b[0mX\u001b[0m\u001b[1;33m,\u001b[0m \u001b[0mtotal\u001b[0m\u001b[1;33m[\u001b[0m\u001b[1;34m'log_adpt_time'\u001b[0m\u001b[1;33m]\u001b[0m\u001b[1;33m,\u001b[0m \u001b[0mtest_size\u001b[0m\u001b[1;33m=\u001b[0m\u001b[1;36m0.2\u001b[0m\u001b[1;33m)\u001b[0m\u001b[1;33m\u001b[0m\u001b[1;33m\u001b[0m\u001b[0m\n\u001b[0m\u001b[0;32m      5\u001b[0m \u001b[0mprint\u001b[0m\u001b[1;33m(\u001b[0m\u001b[1;34m'Training set size = {} and Test set size = {}'\u001b[0m\u001b[1;33m.\u001b[0m\u001b[0mformat\u001b[0m\u001b[1;33m(\u001b[0m\u001b[0mlen\u001b[0m\u001b[1;33m(\u001b[0m\u001b[0mtrainval_X\u001b[0m\u001b[1;33m)\u001b[0m\u001b[1;33m,\u001b[0m\u001b[0mlen\u001b[0m\u001b[1;33m(\u001b[0m\u001b[0mtest_X\u001b[0m\u001b[1;33m)\u001b[0m\u001b[1;33m)\u001b[0m\u001b[1;33m)\u001b[0m\u001b[1;33m\u001b[0m\u001b[1;33m\u001b[0m\u001b[0m\n",
      "\u001b[1;32mC:\\anaconda_python\\envs\\Insight\\lib\\site-packages\\pandas\\core\\frame.py\u001b[0m in \u001b[0;36m__getitem__\u001b[1;34m(self, key)\u001b[0m\n\u001b[0;32m   2993\u001b[0m             \u001b[1;32mif\u001b[0m \u001b[0mself\u001b[0m\u001b[1;33m.\u001b[0m\u001b[0mcolumns\u001b[0m\u001b[1;33m.\u001b[0m\u001b[0mnlevels\u001b[0m \u001b[1;33m>\u001b[0m \u001b[1;36m1\u001b[0m\u001b[1;33m:\u001b[0m\u001b[1;33m\u001b[0m\u001b[1;33m\u001b[0m\u001b[0m\n\u001b[0;32m   2994\u001b[0m                 \u001b[1;32mreturn\u001b[0m \u001b[0mself\u001b[0m\u001b[1;33m.\u001b[0m\u001b[0m_getitem_multilevel\u001b[0m\u001b[1;33m(\u001b[0m\u001b[0mkey\u001b[0m\u001b[1;33m)\u001b[0m\u001b[1;33m\u001b[0m\u001b[1;33m\u001b[0m\u001b[0m\n\u001b[1;32m-> 2995\u001b[1;33m             \u001b[0mindexer\u001b[0m \u001b[1;33m=\u001b[0m \u001b[0mself\u001b[0m\u001b[1;33m.\u001b[0m\u001b[0mcolumns\u001b[0m\u001b[1;33m.\u001b[0m\u001b[0mget_loc\u001b[0m\u001b[1;33m(\u001b[0m\u001b[0mkey\u001b[0m\u001b[1;33m)\u001b[0m\u001b[1;33m\u001b[0m\u001b[1;33m\u001b[0m\u001b[0m\n\u001b[0m\u001b[0;32m   2996\u001b[0m             \u001b[1;32mif\u001b[0m \u001b[0mis_integer\u001b[0m\u001b[1;33m(\u001b[0m\u001b[0mindexer\u001b[0m\u001b[1;33m)\u001b[0m\u001b[1;33m:\u001b[0m\u001b[1;33m\u001b[0m\u001b[1;33m\u001b[0m\u001b[0m\n\u001b[0;32m   2997\u001b[0m                 \u001b[0mindexer\u001b[0m \u001b[1;33m=\u001b[0m \u001b[1;33m[\u001b[0m\u001b[0mindexer\u001b[0m\u001b[1;33m]\u001b[0m\u001b[1;33m\u001b[0m\u001b[1;33m\u001b[0m\u001b[0m\n",
      "\u001b[1;32mC:\\anaconda_python\\envs\\Insight\\lib\\site-packages\\pandas\\core\\indexes\\base.py\u001b[0m in \u001b[0;36mget_loc\u001b[1;34m(self, key, method, tolerance)\u001b[0m\n\u001b[0;32m   2897\u001b[0m                 \u001b[1;32mreturn\u001b[0m \u001b[0mself\u001b[0m\u001b[1;33m.\u001b[0m\u001b[0m_engine\u001b[0m\u001b[1;33m.\u001b[0m\u001b[0mget_loc\u001b[0m\u001b[1;33m(\u001b[0m\u001b[0mkey\u001b[0m\u001b[1;33m)\u001b[0m\u001b[1;33m\u001b[0m\u001b[1;33m\u001b[0m\u001b[0m\n\u001b[0;32m   2898\u001b[0m             \u001b[1;32mexcept\u001b[0m \u001b[0mKeyError\u001b[0m\u001b[1;33m:\u001b[0m\u001b[1;33m\u001b[0m\u001b[1;33m\u001b[0m\u001b[0m\n\u001b[1;32m-> 2899\u001b[1;33m                 \u001b[1;32mreturn\u001b[0m \u001b[0mself\u001b[0m\u001b[1;33m.\u001b[0m\u001b[0m_engine\u001b[0m\u001b[1;33m.\u001b[0m\u001b[0mget_loc\u001b[0m\u001b[1;33m(\u001b[0m\u001b[0mself\u001b[0m\u001b[1;33m.\u001b[0m\u001b[0m_maybe_cast_indexer\u001b[0m\u001b[1;33m(\u001b[0m\u001b[0mkey\u001b[0m\u001b[1;33m)\u001b[0m\u001b[1;33m)\u001b[0m\u001b[1;33m\u001b[0m\u001b[1;33m\u001b[0m\u001b[0m\n\u001b[0m\u001b[0;32m   2900\u001b[0m         \u001b[0mindexer\u001b[0m \u001b[1;33m=\u001b[0m \u001b[0mself\u001b[0m\u001b[1;33m.\u001b[0m\u001b[0mget_indexer\u001b[0m\u001b[1;33m(\u001b[0m\u001b[1;33m[\u001b[0m\u001b[0mkey\u001b[0m\u001b[1;33m]\u001b[0m\u001b[1;33m,\u001b[0m \u001b[0mmethod\u001b[0m\u001b[1;33m=\u001b[0m\u001b[0mmethod\u001b[0m\u001b[1;33m,\u001b[0m \u001b[0mtolerance\u001b[0m\u001b[1;33m=\u001b[0m\u001b[0mtolerance\u001b[0m\u001b[1;33m)\u001b[0m\u001b[1;33m\u001b[0m\u001b[1;33m\u001b[0m\u001b[0m\n\u001b[0;32m   2901\u001b[0m         \u001b[1;32mif\u001b[0m \u001b[0mindexer\u001b[0m\u001b[1;33m.\u001b[0m\u001b[0mndim\u001b[0m \u001b[1;33m>\u001b[0m \u001b[1;36m1\u001b[0m \u001b[1;32mor\u001b[0m \u001b[0mindexer\u001b[0m\u001b[1;33m.\u001b[0m\u001b[0msize\u001b[0m \u001b[1;33m>\u001b[0m \u001b[1;36m1\u001b[0m\u001b[1;33m:\u001b[0m\u001b[1;33m\u001b[0m\u001b[1;33m\u001b[0m\u001b[0m\n",
      "\u001b[1;32mpandas/_libs/index.pyx\u001b[0m in \u001b[0;36mpandas._libs.index.IndexEngine.get_loc\u001b[1;34m()\u001b[0m\n",
      "\u001b[1;32mpandas/_libs/index.pyx\u001b[0m in \u001b[0;36mpandas._libs.index.IndexEngine.get_loc\u001b[1;34m()\u001b[0m\n",
      "\u001b[1;32mpandas/_libs/hashtable_class_helper.pxi\u001b[0m in \u001b[0;36mpandas._libs.hashtable.PyObjectHashTable.get_item\u001b[1;34m()\u001b[0m\n",
      "\u001b[1;32mpandas/_libs/hashtable_class_helper.pxi\u001b[0m in \u001b[0;36mpandas._libs.hashtable.PyObjectHashTable.get_item\u001b[1;34m()\u001b[0m\n",
      "\u001b[1;31mKeyError\u001b[0m: 'log_adpt_time'"
     ]
    }
   ],
   "source": [
    "from sklearn.model_selection import train_test_split\n",
    "#trainval_X, test_X, trainval_y, test_y = train_test_split(X, y, test_size=0.2)\n",
    "#use log_adpt_time as feature\n",
    "trainval_X, test_X, trainval_y, test_y = train_test_split(X, total['log_adpt_time'], test_size=0.2)\n",
    "print('Training set size = {} and Test set size = {}'.format(len(trainval_X),len(test_X)))"
   ]
  },
  {
   "cell_type": "code",
   "execution_count": null,
   "metadata": {},
   "outputs": [],
   "source": []
  },
  {
   "cell_type": "code",
   "execution_count": 69,
   "metadata": {},
   "outputs": [
    {
     "data": {
      "text/html": [
       "<div>\n",
       "<style scoped>\n",
       "    .dataframe tbody tr th:only-of-type {\n",
       "        vertical-align: middle;\n",
       "    }\n",
       "\n",
       "    .dataframe tbody tr th {\n",
       "        vertical-align: top;\n",
       "    }\n",
       "\n",
       "    .dataframe thead th {\n",
       "        text-align: right;\n",
       "    }\n",
       "</style>\n",
       "<table border=\"1\" class=\"dataframe\">\n",
       "  <thead>\n",
       "    <tr style=\"text-align: right;\">\n",
       "      <th></th>\n",
       "      <th>age</th>\n",
       "      <th>gender</th>\n",
       "      <th>size</th>\n",
       "      <th>breeds.mixed</th>\n",
       "      <th>attributes.spayed_neutered</th>\n",
       "      <th>attributes.house_trained</th>\n",
       "      <th>attributes.shots_current</th>\n",
       "      <th>contact.address.state</th>\n",
       "    </tr>\n",
       "  </thead>\n",
       "  <tbody>\n",
       "    <tr>\n",
       "      <th>0</th>\n",
       "      <td>Baby</td>\n",
       "      <td>Female</td>\n",
       "      <td>Small</td>\n",
       "      <td>True</td>\n",
       "      <td>True</td>\n",
       "      <td>True</td>\n",
       "      <td>True</td>\n",
       "      <td>CA</td>\n",
       "    </tr>\n",
       "    <tr>\n",
       "      <th>1</th>\n",
       "      <td>Young</td>\n",
       "      <td>Male</td>\n",
       "      <td>Small</td>\n",
       "      <td>False</td>\n",
       "      <td>True</td>\n",
       "      <td>True</td>\n",
       "      <td>True</td>\n",
       "      <td>CA</td>\n",
       "    </tr>\n",
       "    <tr>\n",
       "      <th>2</th>\n",
       "      <td>Young</td>\n",
       "      <td>Male</td>\n",
       "      <td>Medium</td>\n",
       "      <td>False</td>\n",
       "      <td>True</td>\n",
       "      <td>False</td>\n",
       "      <td>True</td>\n",
       "      <td>CA</td>\n",
       "    </tr>\n",
       "    <tr>\n",
       "      <th>3</th>\n",
       "      <td>Adult</td>\n",
       "      <td>Female</td>\n",
       "      <td>Medium</td>\n",
       "      <td>False</td>\n",
       "      <td>True</td>\n",
       "      <td>False</td>\n",
       "      <td>True</td>\n",
       "      <td>CA</td>\n",
       "    </tr>\n",
       "    <tr>\n",
       "      <th>4</th>\n",
       "      <td>Young</td>\n",
       "      <td>Male</td>\n",
       "      <td>Medium</td>\n",
       "      <td>True</td>\n",
       "      <td>True</td>\n",
       "      <td>False</td>\n",
       "      <td>True</td>\n",
       "      <td>CA</td>\n",
       "    </tr>\n",
       "  </tbody>\n",
       "</table>\n",
       "</div>"
      ],
      "text/plain": [
       "     age  gender    size  breeds.mixed  attributes.spayed_neutered  \\\n",
       "0   Baby  Female   Small          True                        True   \n",
       "1  Young    Male   Small         False                        True   \n",
       "2  Young    Male  Medium         False                        True   \n",
       "3  Adult  Female  Medium         False                        True   \n",
       "4  Young    Male  Medium          True                        True   \n",
       "\n",
       "   attributes.house_trained  attributes.shots_current contact.address.state  \n",
       "0                      True                      True                    CA  \n",
       "1                      True                      True                    CA  \n",
       "2                     False                      True                    CA  \n",
       "3                     False                      True                    CA  \n",
       "4                     False                      True                    CA  "
      ]
     },
     "execution_count": 69,
     "metadata": {},
     "output_type": "execute_result"
    }
   ],
   "source": [
    "X.head()"
   ]
  },
  {
   "cell_type": "code",
   "execution_count": 70,
   "metadata": {},
   "outputs": [],
   "source": [
    "total_test = pd.concat([test_X,test_y], axis=1)"
   ]
  },
  {
   "cell_type": "code",
   "execution_count": 71,
   "metadata": {},
   "outputs": [],
   "source": [
    "export = total_test.to_csv('./data/test_set_scoped_A1.csv', header=True, index = False)"
   ]
  },
  {
   "cell_type": "code",
   "execution_count": 72,
   "metadata": {},
   "outputs": [],
   "source": [
    "total_trainval = pd.concat([trainval_X,trainval_y], axis=1)"
   ]
  },
  {
   "cell_type": "code",
   "execution_count": 73,
   "metadata": {},
   "outputs": [],
   "source": [
    "export = total_trainval.to_csv('./data/trainval_set_scoped_A1.csv', header=True, index = False)"
   ]
  },
  {
   "cell_type": "code",
   "execution_count": 147,
   "metadata": {},
   "outputs": [],
   "source": [
    "#from scipy import stats"
   ]
  },
  {
   "cell_type": "code",
   "execution_count": 169,
   "metadata": {},
   "outputs": [],
   "source": [
    "#bc_adpt_time,lmbda = stats.boxcox((total['adoption_time']+1))"
   ]
  },
  {
   "cell_type": "code",
   "execution_count": 170,
   "metadata": {},
   "outputs": [
    {
     "data": {
      "text/plain": [
       "<matplotlib.axes._subplots.AxesSubplot at 0x1fbf8ff4358>"
      ]
     },
     "execution_count": 170,
     "metadata": {},
     "output_type": "execute_result"
    },
    {
     "data": {
      "image/png": "[encoded data removed]",
      "text/plain": [
       "<Figure size 432x288 with 1 Axes>"
      ]
     },
     "metadata": {
      "needs_background": "light"
     },
     "output_type": "display_data"
    }
   ],
   "source": [
    "#sns.distplot(bc_adpt_time)"
   ]
  },
  {
   "cell_type": "code",
   "execution_count": 171,
   "metadata": {},
   "outputs": [
    {
     "data": {
      "text/plain": [
       "0.13720434611179522"
      ]
     },
     "execution_count": 171,
     "metadata": {},
     "output_type": "execute_result"
    }
   ],
   "source": [
    "#lmbda"
   ]
  },
  {
   "cell_type": "code",
   "execution_count": 172,
   "metadata": {},
   "outputs": [],
   "source": [
    "#from scipy.special import boxcox,inv_boxcox"
   ]
  },
  {
   "cell_type": "code",
   "execution_count": 251,
   "metadata": {},
   "outputs": [
    {
     "data": {
      "text/plain": [
       "[Text(0, 0.5, 'count'), Text(0.5, 0, 'transformed time')]"
      ]
     },
     "execution_count": 251,
     "metadata": {},
     "output_type": "execute_result"
    },
    {
     "data": {
      "image/png": "[encoded data removed]",
      "text/plain": [
       "<Figure size 432x288 with 1 Axes>"
      ]
     },
     "metadata": {
      "needs_background": "light"
     },
     "output_type": "display_data"
    }
   ],
   "source": [
    "tf_adpt_time = total.apply(lambda x: np.power(((x['adoption_time'])+6),(0.2)), axis=1)\n",
    "ax = sns.distplot(tf_adpt_time, kde=False)\n",
    "ax.set(xlabel='transformed time', ylabel='count')"
   ]
  },
  {
   "cell_type": "code",
   "execution_count": 86,
   "metadata": {},
   "outputs": [
    {
     "data": {
      "text/html": [
       "<div>\n",
       "<style scoped>\n",
       "    .dataframe tbody tr th:only-of-type {\n",
       "        vertical-align: middle;\n",
       "    }\n",
       "\n",
       "    .dataframe tbody tr th {\n",
       "        vertical-align: top;\n",
       "    }\n",
       "\n",
       "    .dataframe thead th {\n",
       "        text-align: right;\n",
       "    }\n",
       "</style>\n",
       "<table border=\"1\" class=\"dataframe\">\n",
       "  <thead>\n",
       "    <tr style=\"text-align: right;\">\n",
       "      <th></th>\n",
       "      <th>age</th>\n",
       "      <th>gender</th>\n",
       "      <th>size</th>\n",
       "      <th>breeds.mixed</th>\n",
       "      <th>attributes.spayed_neutered</th>\n",
       "      <th>attributes.house_trained</th>\n",
       "      <th>attributes.special_needs</th>\n",
       "      <th>attributes.shots_current</th>\n",
       "      <th>contact.address.state</th>\n",
       "      <th>adoption_time</th>\n",
       "    </tr>\n",
       "  </thead>\n",
       "  <tbody>\n",
       "    <tr>\n",
       "      <th>0</th>\n",
       "      <td>Baby</td>\n",
       "      <td>Female</td>\n",
       "      <td>Small</td>\n",
       "      <td>True</td>\n",
       "      <td>True</td>\n",
       "      <td>True</td>\n",
       "      <td>False</td>\n",
       "      <td>True</td>\n",
       "      <td>CA</td>\n",
       "      <td>19</td>\n",
       "    </tr>\n",
       "    <tr>\n",
       "      <th>1</th>\n",
       "      <td>Young</td>\n",
       "      <td>Male</td>\n",
       "      <td>Small</td>\n",
       "      <td>False</td>\n",
       "      <td>True</td>\n",
       "      <td>True</td>\n",
       "      <td>False</td>\n",
       "      <td>True</td>\n",
       "      <td>CA</td>\n",
       "      <td>29</td>\n",
       "    </tr>\n",
       "    <tr>\n",
       "      <th>2</th>\n",
       "      <td>Young</td>\n",
       "      <td>Male</td>\n",
       "      <td>Medium</td>\n",
       "      <td>False</td>\n",
       "      <td>True</td>\n",
       "      <td>False</td>\n",
       "      <td>False</td>\n",
       "      <td>True</td>\n",
       "      <td>CA</td>\n",
       "      <td>18</td>\n",
       "    </tr>\n",
       "    <tr>\n",
       "      <th>3</th>\n",
       "      <td>Adult</td>\n",
       "      <td>Female</td>\n",
       "      <td>Medium</td>\n",
       "      <td>False</td>\n",
       "      <td>True</td>\n",
       "      <td>False</td>\n",
       "      <td>False</td>\n",
       "      <td>True</td>\n",
       "      <td>CA</td>\n",
       "      <td>57</td>\n",
       "    </tr>\n",
       "    <tr>\n",
       "      <th>4</th>\n",
       "      <td>Young</td>\n",
       "      <td>Male</td>\n",
       "      <td>Medium</td>\n",
       "      <td>True</td>\n",
       "      <td>True</td>\n",
       "      <td>False</td>\n",
       "      <td>False</td>\n",
       "      <td>True</td>\n",
       "      <td>CA</td>\n",
       "      <td>8</td>\n",
       "    </tr>\n",
       "  </tbody>\n",
       "</table>\n",
       "</div>"
      ],
      "text/plain": [
       "     age  gender    size  breeds.mixed  attributes.spayed_neutered  \\\n",
       "0   Baby  Female   Small          True                        True   \n",
       "1  Young    Male   Small         False                        True   \n",
       "2  Young    Male  Medium         False                        True   \n",
       "3  Adult  Female  Medium         False                        True   \n",
       "4  Young    Male  Medium          True                        True   \n",
       "\n",
       "   attributes.house_trained  attributes.special_needs  \\\n",
       "0                      True                     False   \n",
       "1                      True                     False   \n",
       "2                     False                     False   \n",
       "3                     False                     False   \n",
       "4                     False                     False   \n",
       "\n",
       "   attributes.shots_current contact.address.state  adoption_time  \n",
       "0                      True                    CA             19  \n",
       "1                      True                    CA             29  \n",
       "2                      True                    CA             18  \n",
       "3                      True                    CA             57  \n",
       "4                      True                    CA              8  "
      ]
     },
     "execution_count": 86,
     "metadata": {},
     "output_type": "execute_result"
    }
   ],
   "source": [
    "total.head()"
   ]
  },
  {
   "cell_type": "code",
   "execution_count": 87,
   "metadata": {},
   "outputs": [
    {
     "data": {
      "text/plain": [
       "153436"
      ]
     },
     "execution_count": 87,
     "metadata": {},
     "output_type": "execute_result"
    }
   ],
   "source": [
    "len(X)"
   ]
  },
  {
   "cell_type": "code",
   "execution_count": 252,
   "metadata": {},
   "outputs": [],
   "source": [
    "total['mod_adpt_time'] = total.apply(lambda x: np.power(((x['adoption_time'])+6),(0.2)), axis=1)"
   ]
  },
  {
   "cell_type": "code",
   "execution_count": 186,
   "metadata": {},
   "outputs": [
    {
     "name": "stdout",
     "output_type": "stream",
     "text": [
      "Training set size = 72502 and Test set size = 18126\n"
     ]
    }
   ],
   "source": [
    "from sklearn.model_selection import train_test_split\n",
    "#trainval_X, test_X, trainval_y, test_y = train_test_split(X, y, test_size=0.2)\n",
    "#use log_adpt_time as feature\n",
    "trainval_X, test_X, trainval_y, test_y = train_test_split(X, total['cg_adpt_time'], test_size=0.2)\n",
    "print('Training set size = {} and Test set size = {}'.format(len(trainval_X),len(test_X)))"
   ]
  },
  {
   "cell_type": "code",
   "execution_count": 187,
   "metadata": {},
   "outputs": [],
   "source": [
    "total_test = pd.concat([test_X,test_y], axis=1)\n",
    "export = total_test.to_csv('./data/test_set_scoped_cg.csv', header=True, index = False)\n",
    "total_trainval = pd.concat([trainval_X,trainval_y], axis=1)\n",
    "export = total_trainval.to_csv('./data/trainval_set_scoped_cg.csv', header=True, index = False)"
   ]
  }
 ],
 "metadata": {
  "kernelspec": {
   "display_name": "Python 3",
   "language": "python",
   "name": "python3"
  },
  "language_info": {
   "codemirror_mode": {
    "name": "ipython",
    "version": 3
   },
   "file_extension": ".py",
   "mimetype": "text/x-python",
   "name": "python",
   "nbconvert_exporter": "python",
   "pygments_lexer": "ipython3",
   "version": "3.7.6"
  }
 },
 "nbformat": 4,
 "nbformat_minor": 2
}
