{
 "cells": [
  {
   "cell_type": "code",
   "execution_count": 2,
   "metadata": {},
   "outputs": [],
   "source": [
    "#merge data from several states\n",
    "import numpy as np\n",
    "import pandas as pd\n",
    "import matplotlib.pyplot as plt"
   ]
  },
  {
   "cell_type": "code",
   "execution_count": 3,
   "metadata": {},
   "outputs": [
    {
     "data": {
      "text/html": [
       "<div>\n",
       "<style scoped>\n",
       "    .dataframe tbody tr th:only-of-type {\n",
       "        vertical-align: middle;\n",
       "    }\n",
       "\n",
       "    .dataframe tbody tr th {\n",
       "        vertical-align: top;\n",
       "    }\n",
       "\n",
       "    .dataframe thead th {\n",
       "        text-align: right;\n",
       "    }\n",
       "</style>\n",
       "<table border=\"1\" class=\"dataframe\">\n",
       "  <thead>\n",
       "    <tr style=\"text-align: right;\">\n",
       "      <th></th>\n",
       "      <th>age</th>\n",
       "      <th>gender</th>\n",
       "      <th>size</th>\n",
       "      <th>breeds.mixed</th>\n",
       "      <th>attributes.spayed_neutered</th>\n",
       "      <th>attributes.house_trained</th>\n",
       "      <th>attributes.shots_current</th>\n",
       "      <th>contact.address.state</th>\n",
       "      <th>log_adpt_time</th>\n",
       "    </tr>\n",
       "  </thead>\n",
       "  <tbody>\n",
       "    <tr>\n",
       "      <th>0</th>\n",
       "      <td>Adult</td>\n",
       "      <td>Female</td>\n",
       "      <td>Small</td>\n",
       "      <td>True</td>\n",
       "      <td>False</td>\n",
       "      <td>False</td>\n",
       "      <td>False</td>\n",
       "      <td>NY</td>\n",
       "      <td>0.741937</td>\n",
       "    </tr>\n",
       "    <tr>\n",
       "      <th>1</th>\n",
       "      <td>Adult</td>\n",
       "      <td>Female</td>\n",
       "      <td>Large</td>\n",
       "      <td>False</td>\n",
       "      <td>True</td>\n",
       "      <td>True</td>\n",
       "      <td>True</td>\n",
       "      <td>TX</td>\n",
       "      <td>5.193512</td>\n",
       "    </tr>\n",
       "    <tr>\n",
       "      <th>2</th>\n",
       "      <td>Young</td>\n",
       "      <td>Male</td>\n",
       "      <td>Medium</td>\n",
       "      <td>True</td>\n",
       "      <td>False</td>\n",
       "      <td>False</td>\n",
       "      <td>True</td>\n",
       "      <td>TX</td>\n",
       "      <td>3.873282</td>\n",
       "    </tr>\n",
       "    <tr>\n",
       "      <th>3</th>\n",
       "      <td>Young</td>\n",
       "      <td>Female</td>\n",
       "      <td>Medium</td>\n",
       "      <td>False</td>\n",
       "      <td>True</td>\n",
       "      <td>False</td>\n",
       "      <td>False</td>\n",
       "      <td>CA</td>\n",
       "      <td>1.960095</td>\n",
       "    </tr>\n",
       "    <tr>\n",
       "      <th>4</th>\n",
       "      <td>Young</td>\n",
       "      <td>Male</td>\n",
       "      <td>Medium</td>\n",
       "      <td>True</td>\n",
       "      <td>True</td>\n",
       "      <td>False</td>\n",
       "      <td>True</td>\n",
       "      <td>TX</td>\n",
       "      <td>3.000720</td>\n",
       "    </tr>\n",
       "  </tbody>\n",
       "</table>\n",
       "</div>"
      ],
      "text/plain": [
       "     age  gender    size  breeds.mixed  attributes.spayed_neutered  \\\n",
       "0  Adult  Female   Small          True                       False   \n",
       "1  Adult  Female   Large         False                        True   \n",
       "2  Young    Male  Medium          True                       False   \n",
       "3  Young  Female  Medium         False                        True   \n",
       "4  Young    Male  Medium          True                        True   \n",
       "\n",
       "   attributes.house_trained  attributes.shots_current contact.address.state  \\\n",
       "0                     False                     False                    NY   \n",
       "1                      True                      True                    TX   \n",
       "2                     False                      True                    TX   \n",
       "3                     False                     False                    CA   \n",
       "4                     False                      True                    TX   \n",
       "\n",
       "   log_adpt_time  \n",
       "0       0.741937  \n",
       "1       5.193512  \n",
       "2       3.873282  \n",
       "3       1.960095  \n",
       "4       3.000720  "
      ]
     },
     "execution_count": 3,
     "metadata": {},
     "output_type": "execute_result"
    }
   ],
   "source": [
    "trainval = pd.read_csv('./data/trainval_set_scoped_A1.csv')\n",
    "trainval.head()"
   ]
  },
  {
   "cell_type": "code",
   "execution_count": 4,
   "metadata": {},
   "outputs": [
    {
     "data": {
      "text/html": [
       "<div>\n",
       "<style scoped>\n",
       "    .dataframe tbody tr th:only-of-type {\n",
       "        vertical-align: middle;\n",
       "    }\n",
       "\n",
       "    .dataframe tbody tr th {\n",
       "        vertical-align: top;\n",
       "    }\n",
       "\n",
       "    .dataframe thead th {\n",
       "        text-align: right;\n",
       "    }\n",
       "</style>\n",
       "<table border=\"1\" class=\"dataframe\">\n",
       "  <thead>\n",
       "    <tr style=\"text-align: right;\">\n",
       "      <th></th>\n",
       "      <th>age</th>\n",
       "      <th>gender</th>\n",
       "      <th>size</th>\n",
       "      <th>breeds.mixed</th>\n",
       "      <th>attributes.spayed_neutered</th>\n",
       "      <th>attributes.house_trained</th>\n",
       "      <th>attributes.shots_current</th>\n",
       "      <th>contact.address.state</th>\n",
       "      <th>log_adpt_time</th>\n",
       "    </tr>\n",
       "  </thead>\n",
       "  <tbody>\n",
       "    <tr>\n",
       "      <th>0</th>\n",
       "      <td>Young</td>\n",
       "      <td>Male</td>\n",
       "      <td>Small</td>\n",
       "      <td>False</td>\n",
       "      <td>True</td>\n",
       "      <td>False</td>\n",
       "      <td>True</td>\n",
       "      <td>CA</td>\n",
       "      <td>3.691376</td>\n",
       "    </tr>\n",
       "    <tr>\n",
       "      <th>1</th>\n",
       "      <td>Young</td>\n",
       "      <td>Male</td>\n",
       "      <td>Large</td>\n",
       "      <td>True</td>\n",
       "      <td>True</td>\n",
       "      <td>True</td>\n",
       "      <td>True</td>\n",
       "      <td>NY</td>\n",
       "      <td>4.710431</td>\n",
       "    </tr>\n",
       "    <tr>\n",
       "      <th>2</th>\n",
       "      <td>Young</td>\n",
       "      <td>Female</td>\n",
       "      <td>Small</td>\n",
       "      <td>True</td>\n",
       "      <td>True</td>\n",
       "      <td>False</td>\n",
       "      <td>True</td>\n",
       "      <td>TX</td>\n",
       "      <td>2.778819</td>\n",
       "    </tr>\n",
       "    <tr>\n",
       "      <th>3</th>\n",
       "      <td>Baby</td>\n",
       "      <td>Female</td>\n",
       "      <td>Small</td>\n",
       "      <td>True</td>\n",
       "      <td>True</td>\n",
       "      <td>False</td>\n",
       "      <td>True</td>\n",
       "      <td>CA</td>\n",
       "      <td>1.410987</td>\n",
       "    </tr>\n",
       "    <tr>\n",
       "      <th>4</th>\n",
       "      <td>Young</td>\n",
       "      <td>Female</td>\n",
       "      <td>Large</td>\n",
       "      <td>True</td>\n",
       "      <td>True</td>\n",
       "      <td>True</td>\n",
       "      <td>True</td>\n",
       "      <td>MN</td>\n",
       "      <td>3.808882</td>\n",
       "    </tr>\n",
       "  </tbody>\n",
       "</table>\n",
       "</div>"
      ],
      "text/plain": [
       "     age  gender   size  breeds.mixed  attributes.spayed_neutered  \\\n",
       "0  Young    Male  Small         False                        True   \n",
       "1  Young    Male  Large          True                        True   \n",
       "2  Young  Female  Small          True                        True   \n",
       "3   Baby  Female  Small          True                        True   \n",
       "4  Young  Female  Large          True                        True   \n",
       "\n",
       "   attributes.house_trained  attributes.shots_current contact.address.state  \\\n",
       "0                     False                      True                    CA   \n",
       "1                      True                      True                    NY   \n",
       "2                     False                      True                    TX   \n",
       "3                     False                      True                    CA   \n",
       "4                      True                      True                    MN   \n",
       "\n",
       "   log_adpt_time  \n",
       "0       3.691376  \n",
       "1       4.710431  \n",
       "2       2.778819  \n",
       "3       1.410987  \n",
       "4       3.808882  "
      ]
     },
     "execution_count": 4,
     "metadata": {},
     "output_type": "execute_result"
    }
   ],
   "source": [
    "test = pd.read_csv('./data/test_set_scoped_A1.csv')\n",
    "test.head()"
   ]
  },
  {
   "cell_type": "code",
   "execution_count": 5,
   "metadata": {},
   "outputs": [],
   "source": [
    "cat_col = ['age','gender','size','contact.address.state']\n",
    "trainval[cat_col]=trainval[cat_col].astype('category')\n",
    "test[cat_col]=test[cat_col].astype('category')"
   ]
  },
  {
   "cell_type": "code",
   "execution_count": 6,
   "metadata": {},
   "outputs": [
    {
     "name": "stdout",
     "output_type": "stream",
     "text": [
      "Table size - (121187, 9)\n",
      "Checking for missing values..\n",
      "Series([], dtype: int64)\n"
     ]
    }
   ],
   "source": [
    "# Check for any missing data\n",
    "print(\"Table size -\", end=' ')\n",
    "print(trainval.shape)\n",
    "\n",
    "print(\"Checking for missing values..\")\n",
    "# Number of missing values in each column of training data\n",
    "missing_val_count_by_column = (trainval.isnull().sum())\n",
    "print(missing_val_count_by_column[missing_val_count_by_column > 0])\n",
    "\n",
    "# Get names of columns with missing values\n",
    "#missing_cols = [col for col in extension_data.columns\n",
    "#                     if extension_train[col].isnull().any()]"
   ]
  },
  {
   "cell_type": "code",
   "execution_count": 7,
   "metadata": {},
   "outputs": [
    {
     "data": {
      "text/html": [
       "<div>\n",
       "<style scoped>\n",
       "    .dataframe tbody tr th:only-of-type {\n",
       "        vertical-align: middle;\n",
       "    }\n",
       "\n",
       "    .dataframe tbody tr th {\n",
       "        vertical-align: top;\n",
       "    }\n",
       "\n",
       "    .dataframe thead th {\n",
       "        text-align: right;\n",
       "    }\n",
       "</style>\n",
       "<table border=\"1\" class=\"dataframe\">\n",
       "  <thead>\n",
       "    <tr style=\"text-align: right;\">\n",
       "      <th></th>\n",
       "      <th>age</th>\n",
       "      <th>gender</th>\n",
       "      <th>size</th>\n",
       "      <th>breeds.mixed</th>\n",
       "      <th>attributes.spayed_neutered</th>\n",
       "      <th>attributes.house_trained</th>\n",
       "      <th>attributes.shots_current</th>\n",
       "      <th>contact.address.state</th>\n",
       "    </tr>\n",
       "  </thead>\n",
       "  <tbody>\n",
       "    <tr>\n",
       "      <th>0</th>\n",
       "      <td>Adult</td>\n",
       "      <td>Female</td>\n",
       "      <td>Small</td>\n",
       "      <td>True</td>\n",
       "      <td>False</td>\n",
       "      <td>False</td>\n",
       "      <td>False</td>\n",
       "      <td>NY</td>\n",
       "    </tr>\n",
       "    <tr>\n",
       "      <th>1</th>\n",
       "      <td>Adult</td>\n",
       "      <td>Female</td>\n",
       "      <td>Large</td>\n",
       "      <td>False</td>\n",
       "      <td>True</td>\n",
       "      <td>True</td>\n",
       "      <td>True</td>\n",
       "      <td>TX</td>\n",
       "    </tr>\n",
       "    <tr>\n",
       "      <th>2</th>\n",
       "      <td>Young</td>\n",
       "      <td>Male</td>\n",
       "      <td>Medium</td>\n",
       "      <td>True</td>\n",
       "      <td>False</td>\n",
       "      <td>False</td>\n",
       "      <td>True</td>\n",
       "      <td>TX</td>\n",
       "    </tr>\n",
       "    <tr>\n",
       "      <th>3</th>\n",
       "      <td>Young</td>\n",
       "      <td>Female</td>\n",
       "      <td>Medium</td>\n",
       "      <td>False</td>\n",
       "      <td>True</td>\n",
       "      <td>False</td>\n",
       "      <td>False</td>\n",
       "      <td>CA</td>\n",
       "    </tr>\n",
       "    <tr>\n",
       "      <th>4</th>\n",
       "      <td>Young</td>\n",
       "      <td>Male</td>\n",
       "      <td>Medium</td>\n",
       "      <td>True</td>\n",
       "      <td>True</td>\n",
       "      <td>False</td>\n",
       "      <td>True</td>\n",
       "      <td>TX</td>\n",
       "    </tr>\n",
       "  </tbody>\n",
       "</table>\n",
       "</div>"
      ],
      "text/plain": [
       "     age  gender    size  breeds.mixed  attributes.spayed_neutered  \\\n",
       "0  Adult  Female   Small          True                       False   \n",
       "1  Adult  Female   Large         False                        True   \n",
       "2  Young    Male  Medium          True                       False   \n",
       "3  Young  Female  Medium         False                        True   \n",
       "4  Young    Male  Medium          True                        True   \n",
       "\n",
       "   attributes.house_trained  attributes.shots_current contact.address.state  \n",
       "0                     False                     False                    NY  \n",
       "1                      True                      True                    TX  \n",
       "2                     False                      True                    TX  \n",
       "3                     False                     False                    CA  \n",
       "4                     False                      True                    TX  "
      ]
     },
     "execution_count": 7,
     "metadata": {},
     "output_type": "execute_result"
    }
   ],
   "source": [
    "X_features = ['age', 'gender', 'size',\n",
    "              'breeds.mixed', 'attributes.spayed_neutered', 'attributes.house_trained',\n",
    "              'attributes.shots_current', 'contact.address.state']\n",
    "trainval_X = trainval[X_features]\n",
    "trainval_X.head()"
   ]
  },
  {
   "cell_type": "code",
   "execution_count": 8,
   "metadata": {},
   "outputs": [
    {
     "data": {
      "text/plain": [
       "0    0.741937\n",
       "1    5.193512\n",
       "2    3.873282\n",
       "3    1.960095\n",
       "4    3.000720\n",
       "Name: log_adpt_time, dtype: float64"
      ]
     },
     "execution_count": 8,
     "metadata": {},
     "output_type": "execute_result"
    }
   ],
   "source": [
    "trainval_y = trainval['log_adpt_time']\n",
    "trainval_y.head()"
   ]
  },
  {
   "cell_type": "code",
   "execution_count": 9,
   "metadata": {},
   "outputs": [
    {
     "data": {
      "text/plain": [
       "0.09531017980432492"
      ]
     },
     "execution_count": 9,
     "metadata": {},
     "output_type": "execute_result"
    }
   ],
   "source": [
    "trainval_y.min()"
   ]
  },
  {
   "cell_type": "code",
   "execution_count": 10,
   "metadata": {},
   "outputs": [
    {
     "name": "stdout",
     "output_type": "stream",
     "text": [
      "Training set size = 96949 and Validation set size = 24238\n"
     ]
    }
   ],
   "source": [
    "from sklearn.model_selection import train_test_split\n",
    "train_X, val_X, train_y, val_y = train_test_split(trainval_X, trainval_y, test_size=0.2)\n",
    "print('Training set size = {} and Validation set size = {}'.format(len(train_X),len(val_X)))"
   ]
  },
  {
   "cell_type": "code",
   "execution_count": 11,
   "metadata": {},
   "outputs": [],
   "source": [
    "from sklearn.ensemble import RandomForestRegressor\n",
    "from sklearn.tree import DecisionTreeRegressor\n",
    "from sklearn.linear_model import LogisticRegression\n",
    "from xgboost import XGBRegressor\n",
    "from sklearn.pipeline import Pipeline\n",
    "from sklearn.model_selection import cross_val_score\n",
    "from sklearn.metrics import mean_absolute_error\n",
    "#pipeline_1 = Pipeline(steps=[('model', RandomForestRegressor(random_state=0))])\n",
    "#pipeline_2 = Pipeline(steps=[('model', DecisionTreeRegressor(random_state=0))])\n",
    "#pipeline_3 = Pipeline(steps=[('model', XGBRegressor(random_state=0))])"
   ]
  },
  {
   "cell_type": "code",
   "execution_count": null,
   "metadata": {},
   "outputs": [],
   "source": [
    "#next few cells are just testing"
   ]
  },
  {
   "cell_type": "code",
   "execution_count": null,
   "metadata": {},
   "outputs": [],
   "source": [
    "#testing out encoders"
   ]
  },
  {
   "cell_type": "code",
   "execution_count": 36,
   "metadata": {},
   "outputs": [],
   "source": []
  },
  {
   "cell_type": "code",
   "execution_count": 37,
   "metadata": {},
   "outputs": [],
   "source": [
    "OH_encoder = OneHotEncoder(handle_unknown='ignore', sparse=False)\n",
    "OH_cols_train = pd.DataFrame(OH_encoder.fit_transform(train_X[cat_col]))\n",
    "OH_cols_val = pd.DataFrame(OH_encoder.transform(val_X[cat_col]))"
   ]
  },
  {
   "cell_type": "code",
   "execution_count": 39,
   "metadata": {},
   "outputs": [],
   "source": [
    "# One-hot encoding removed index; put it back\n",
    "OH_cols_train.index = train_X.index\n",
    "OH_cols_val.index = val_X.index\n",
    "rest_train = train_X.drop(cat_col, axis=1)\n",
    "rest_val = val_X.drop(cat_col, axis=1)\n",
    "OH_train_X = pd.concat([rest_train, OH_cols_train], axis=1)\n",
    "OH_val_X = pd.concat([rest_val, OH_cols_val], axis=1)"
   ]
  },
  {
   "cell_type": "code",
   "execution_count": 42,
   "metadata": {},
   "outputs": [
    {
     "data": {
      "text/plain": [
       "198.06307707707575"
      ]
     },
     "execution_count": 42,
     "metadata": {},
     "output_type": "execute_result"
    }
   ],
   "source": [
    "rf = RandomForestRegressor(n_estimators=10, max_depth=5, n_jobs=-1)\n",
    "rf_model = rf.fit(OH_train_X, train_y)\n",
    "y_pred = rf_model.predict(OH_val_X)\n",
    "mae_x=mean_absolute_error(val_y, y_pred)\n",
    "mae_x"
   ]
  },
  {
   "cell_type": "code",
   "execution_count": 12,
   "metadata": {},
   "outputs": [
    {
     "name": "stdout",
     "output_type": "stream",
     "text": [
      "Est: 10 / Depth: 10 ---- MAE: 196.655\n"
     ]
    }
   ],
   "source": [
    "oh = OneHotEncoder(handle_unknown='ignore', sparse=False)\n",
    "rf = RandomForestRegressor(n_estimators=10, max_depth=5, n_jobs=-1)\n",
    "pipeline_temp = Pipeline(steps=[('preprocessor', oh),('model', rf)])\n",
    "scores= -1 * cross_val_score(pipeline_temp, train_X, train_y,cv=5,scoring='neg_mean_absolute_error')\n",
    "print('Est: {} / Depth: {} ---- MAE: {}'.format(n_est,depth,round(scores.mean(), 3)))"
   ]
  },
  {
   "cell_type": "code",
   "execution_count": null,
   "metadata": {},
   "outputs": [],
   "source": [
    "#main code starts here"
   ]
  },
  {
   "cell_type": "code",
   "execution_count": null,
   "metadata": {},
   "outputs": [],
   "source": []
  },
  {
   "cell_type": "code",
   "execution_count": 13,
   "metadata": {},
   "outputs": [],
   "source": [
    "from sklearn.preprocessing import OneHotEncoder\n",
    "oh = OneHotEncoder(handle_unknown='ignore', sparse=False)"
   ]
  },
  {
   "cell_type": "code",
   "execution_count": 27,
   "metadata": {},
   "outputs": [],
   "source": [
    "def train_RF(n_est, depth):\n",
    "    rf = RandomForestRegressor(n_estimators=n_est, max_depth=depth, n_jobs=-1)\n",
    "    pipeline_temp = Pipeline(steps=[('preprocessor', oh),('model', rf)])\n",
    "    #scores= -1 * cross_val_score(pipeline_temp, train_X, train_y,cv=5,scoring='neg_mean_absolute_error')\n",
    "    r2s= cross_val_score(pipeline_temp, train_X, train_y,cv=5,scoring='r2')\n",
    "    #print('Est: {} / Depth: {} ---- MAE: {} R^2: {}'.format(n_est,depth,round(scores.mean(), 3),round(r2s.mean(), 3)))\n",
    "    print('Est: {} / Depth: {} ---- R^2: {}'.format(n_est,depth,round(r2s.mean(), 3)))"
   ]
  },
  {
   "cell_type": "code",
   "execution_count": 28,
   "metadata": {},
   "outputs": [
    {
     "name": "stdout",
     "output_type": "stream",
     "text": [
      "Est: 10 / Depth: 10 ---- R^2: 0.098\n",
      "Est: 10 / Depth: 50 ---- R^2: 0.087\n",
      "Est: 10 / Depth: 100 ---- R^2: 0.087\n",
      "Est: 50 / Depth: 10 ---- R^2: 0.098\n",
      "Est: 50 / Depth: 50 ---- R^2: 0.088\n",
      "Est: 50 / Depth: 100 ---- R^2: 0.089\n",
      "Est: 100 / Depth: 10 ---- R^2: 0.099\n",
      "Est: 100 / Depth: 50 ---- R^2: 0.089\n",
      "Est: 100 / Depth: 100 ---- R^2: 0.089\n"
     ]
    }
   ],
   "source": [
    "for n_est in [10, 50, 100]:\n",
    "    for depth in [10, 50, 100]:\n",
    "        train_RF(n_est, depth)"
   ]
  },
  {
   "cell_type": "code",
   "execution_count": 73,
   "metadata": {},
   "outputs": [
    {
     "data": {
      "text/html": [
       "<div>\n",
       "<style scoped>\n",
       "    .dataframe tbody tr th:only-of-type {\n",
       "        vertical-align: middle;\n",
       "    }\n",
       "\n",
       "    .dataframe tbody tr th {\n",
       "        vertical-align: top;\n",
       "    }\n",
       "\n",
       "    .dataframe thead th {\n",
       "        text-align: right;\n",
       "    }\n",
       "</style>\n",
       "<table border=\"1\" class=\"dataframe\">\n",
       "  <thead>\n",
       "    <tr style=\"text-align: right;\">\n",
       "      <th></th>\n",
       "      <th>age</th>\n",
       "      <th>gender</th>\n",
       "      <th>size</th>\n",
       "      <th>breeds.mixed</th>\n",
       "      <th>breeds.unknown</th>\n",
       "      <th>attributes.spayed_neutered</th>\n",
       "      <th>attributes.house_trained</th>\n",
       "      <th>attributes.special_needs</th>\n",
       "      <th>attributes.shots_current</th>\n",
       "      <th>contact.address.state</th>\n",
       "    </tr>\n",
       "  </thead>\n",
       "  <tbody>\n",
       "    <tr>\n",
       "      <th>41254</th>\n",
       "      <td>Young</td>\n",
       "      <td>Male</td>\n",
       "      <td>Small</td>\n",
       "      <td>True</td>\n",
       "      <td>False</td>\n",
       "      <td>True</td>\n",
       "      <td>False</td>\n",
       "      <td>False</td>\n",
       "      <td>True</td>\n",
       "      <td>NY</td>\n",
       "    </tr>\n",
       "    <tr>\n",
       "      <th>69024</th>\n",
       "      <td>Baby</td>\n",
       "      <td>Male</td>\n",
       "      <td>Small</td>\n",
       "      <td>False</td>\n",
       "      <td>False</td>\n",
       "      <td>False</td>\n",
       "      <td>False</td>\n",
       "      <td>False</td>\n",
       "      <td>True</td>\n",
       "      <td>CA</td>\n",
       "    </tr>\n",
       "    <tr>\n",
       "      <th>109856</th>\n",
       "      <td>Adult</td>\n",
       "      <td>Female</td>\n",
       "      <td>Medium</td>\n",
       "      <td>True</td>\n",
       "      <td>False</td>\n",
       "      <td>True</td>\n",
       "      <td>True</td>\n",
       "      <td>False</td>\n",
       "      <td>True</td>\n",
       "      <td>MN</td>\n",
       "    </tr>\n",
       "    <tr>\n",
       "      <th>60535</th>\n",
       "      <td>Young</td>\n",
       "      <td>Male</td>\n",
       "      <td>Medium</td>\n",
       "      <td>True</td>\n",
       "      <td>False</td>\n",
       "      <td>True</td>\n",
       "      <td>True</td>\n",
       "      <td>False</td>\n",
       "      <td>True</td>\n",
       "      <td>TX</td>\n",
       "    </tr>\n",
       "    <tr>\n",
       "      <th>95078</th>\n",
       "      <td>Adult</td>\n",
       "      <td>Female</td>\n",
       "      <td>Medium</td>\n",
       "      <td>True</td>\n",
       "      <td>False</td>\n",
       "      <td>True</td>\n",
       "      <td>True</td>\n",
       "      <td>False</td>\n",
       "      <td>True</td>\n",
       "      <td>MN</td>\n",
       "    </tr>\n",
       "    <tr>\n",
       "      <th>84503</th>\n",
       "      <td>Adult</td>\n",
       "      <td>Female</td>\n",
       "      <td>Large</td>\n",
       "      <td>False</td>\n",
       "      <td>False</td>\n",
       "      <td>True</td>\n",
       "      <td>False</td>\n",
       "      <td>False</td>\n",
       "      <td>False</td>\n",
       "      <td>MN</td>\n",
       "    </tr>\n",
       "    <tr>\n",
       "      <th>21702</th>\n",
       "      <td>Adult</td>\n",
       "      <td>Male</td>\n",
       "      <td>Large</td>\n",
       "      <td>False</td>\n",
       "      <td>False</td>\n",
       "      <td>True</td>\n",
       "      <td>False</td>\n",
       "      <td>False</td>\n",
       "      <td>True</td>\n",
       "      <td>CA</td>\n",
       "    </tr>\n",
       "    <tr>\n",
       "      <th>17294</th>\n",
       "      <td>Young</td>\n",
       "      <td>Female</td>\n",
       "      <td>Large</td>\n",
       "      <td>False</td>\n",
       "      <td>False</td>\n",
       "      <td>True</td>\n",
       "      <td>True</td>\n",
       "      <td>False</td>\n",
       "      <td>True</td>\n",
       "      <td>TX</td>\n",
       "    </tr>\n",
       "    <tr>\n",
       "      <th>21343</th>\n",
       "      <td>Baby</td>\n",
       "      <td>Male</td>\n",
       "      <td>Medium</td>\n",
       "      <td>False</td>\n",
       "      <td>False</td>\n",
       "      <td>True</td>\n",
       "      <td>False</td>\n",
       "      <td>False</td>\n",
       "      <td>True</td>\n",
       "      <td>NY</td>\n",
       "    </tr>\n",
       "    <tr>\n",
       "      <th>68691</th>\n",
       "      <td>Baby</td>\n",
       "      <td>Male</td>\n",
       "      <td>Small</td>\n",
       "      <td>True</td>\n",
       "      <td>False</td>\n",
       "      <td>False</td>\n",
       "      <td>True</td>\n",
       "      <td>False</td>\n",
       "      <td>True</td>\n",
       "      <td>TX</td>\n",
       "    </tr>\n",
       "    <tr>\n",
       "      <th>7834</th>\n",
       "      <td>Baby</td>\n",
       "      <td>Male</td>\n",
       "      <td>Medium</td>\n",
       "      <td>False</td>\n",
       "      <td>False</td>\n",
       "      <td>True</td>\n",
       "      <td>False</td>\n",
       "      <td>False</td>\n",
       "      <td>True</td>\n",
       "      <td>CA</td>\n",
       "    </tr>\n",
       "    <tr>\n",
       "      <th>109214</th>\n",
       "      <td>Adult</td>\n",
       "      <td>Female</td>\n",
       "      <td>Small</td>\n",
       "      <td>False</td>\n",
       "      <td>False</td>\n",
       "      <td>True</td>\n",
       "      <td>False</td>\n",
       "      <td>False</td>\n",
       "      <td>True</td>\n",
       "      <td>TX</td>\n",
       "    </tr>\n",
       "    <tr>\n",
       "      <th>34690</th>\n",
       "      <td>Young</td>\n",
       "      <td>Male</td>\n",
       "      <td>Medium</td>\n",
       "      <td>True</td>\n",
       "      <td>False</td>\n",
       "      <td>True</td>\n",
       "      <td>False</td>\n",
       "      <td>False</td>\n",
       "      <td>True</td>\n",
       "      <td>MN</td>\n",
       "    </tr>\n",
       "    <tr>\n",
       "      <th>70171</th>\n",
       "      <td>Adult</td>\n",
       "      <td>Female</td>\n",
       "      <td>Large</td>\n",
       "      <td>False</td>\n",
       "      <td>False</td>\n",
       "      <td>True</td>\n",
       "      <td>False</td>\n",
       "      <td>False</td>\n",
       "      <td>True</td>\n",
       "      <td>CA</td>\n",
       "    </tr>\n",
       "    <tr>\n",
       "      <th>12032</th>\n",
       "      <td>Adult</td>\n",
       "      <td>Male</td>\n",
       "      <td>Small</td>\n",
       "      <td>True</td>\n",
       "      <td>False</td>\n",
       "      <td>True</td>\n",
       "      <td>False</td>\n",
       "      <td>False</td>\n",
       "      <td>True</td>\n",
       "      <td>MN</td>\n",
       "    </tr>\n",
       "    <tr>\n",
       "      <th>23841</th>\n",
       "      <td>Adult</td>\n",
       "      <td>Male</td>\n",
       "      <td>Small</td>\n",
       "      <td>True</td>\n",
       "      <td>False</td>\n",
       "      <td>True</td>\n",
       "      <td>False</td>\n",
       "      <td>False</td>\n",
       "      <td>True</td>\n",
       "      <td>NY</td>\n",
       "    </tr>\n",
       "    <tr>\n",
       "      <th>12500</th>\n",
       "      <td>Adult</td>\n",
       "      <td>Male</td>\n",
       "      <td>Large</td>\n",
       "      <td>True</td>\n",
       "      <td>False</td>\n",
       "      <td>True</td>\n",
       "      <td>False</td>\n",
       "      <td>False</td>\n",
       "      <td>False</td>\n",
       "      <td>MN</td>\n",
       "    </tr>\n",
       "    <tr>\n",
       "      <th>24166</th>\n",
       "      <td>Baby</td>\n",
       "      <td>Male</td>\n",
       "      <td>Large</td>\n",
       "      <td>True</td>\n",
       "      <td>False</td>\n",
       "      <td>False</td>\n",
       "      <td>False</td>\n",
       "      <td>False</td>\n",
       "      <td>False</td>\n",
       "      <td>TX</td>\n",
       "    </tr>\n",
       "    <tr>\n",
       "      <th>62324</th>\n",
       "      <td>Young</td>\n",
       "      <td>Female</td>\n",
       "      <td>Small</td>\n",
       "      <td>True</td>\n",
       "      <td>False</td>\n",
       "      <td>True</td>\n",
       "      <td>False</td>\n",
       "      <td>False</td>\n",
       "      <td>True</td>\n",
       "      <td>CA</td>\n",
       "    </tr>\n",
       "    <tr>\n",
       "      <th>18905</th>\n",
       "      <td>Young</td>\n",
       "      <td>Female</td>\n",
       "      <td>Medium</td>\n",
       "      <td>False</td>\n",
       "      <td>False</td>\n",
       "      <td>True</td>\n",
       "      <td>False</td>\n",
       "      <td>False</td>\n",
       "      <td>True</td>\n",
       "      <td>TX</td>\n",
       "    </tr>\n",
       "    <tr>\n",
       "      <th>31543</th>\n",
       "      <td>Young</td>\n",
       "      <td>Male</td>\n",
       "      <td>Small</td>\n",
       "      <td>True</td>\n",
       "      <td>False</td>\n",
       "      <td>True</td>\n",
       "      <td>False</td>\n",
       "      <td>False</td>\n",
       "      <td>True</td>\n",
       "      <td>NY</td>\n",
       "    </tr>\n",
       "    <tr>\n",
       "      <th>121110</th>\n",
       "      <td>Young</td>\n",
       "      <td>Female</td>\n",
       "      <td>Small</td>\n",
       "      <td>True</td>\n",
       "      <td>False</td>\n",
       "      <td>True</td>\n",
       "      <td>False</td>\n",
       "      <td>False</td>\n",
       "      <td>True</td>\n",
       "      <td>TX</td>\n",
       "    </tr>\n",
       "    <tr>\n",
       "      <th>59202</th>\n",
       "      <td>Baby</td>\n",
       "      <td>Female</td>\n",
       "      <td>Medium</td>\n",
       "      <td>False</td>\n",
       "      <td>False</td>\n",
       "      <td>True</td>\n",
       "      <td>False</td>\n",
       "      <td>False</td>\n",
       "      <td>True</td>\n",
       "      <td>TX</td>\n",
       "    </tr>\n",
       "    <tr>\n",
       "      <th>50936</th>\n",
       "      <td>Baby</td>\n",
       "      <td>Male</td>\n",
       "      <td>Medium</td>\n",
       "      <td>True</td>\n",
       "      <td>False</td>\n",
       "      <td>True</td>\n",
       "      <td>False</td>\n",
       "      <td>False</td>\n",
       "      <td>True</td>\n",
       "      <td>TX</td>\n",
       "    </tr>\n",
       "    <tr>\n",
       "      <th>15776</th>\n",
       "      <td>Adult</td>\n",
       "      <td>Male</td>\n",
       "      <td>Small</td>\n",
       "      <td>False</td>\n",
       "      <td>False</td>\n",
       "      <td>True</td>\n",
       "      <td>False</td>\n",
       "      <td>True</td>\n",
       "      <td>True</td>\n",
       "      <td>TX</td>\n",
       "    </tr>\n",
       "    <tr>\n",
       "      <th>20252</th>\n",
       "      <td>Baby</td>\n",
       "      <td>Male</td>\n",
       "      <td>Large</td>\n",
       "      <td>False</td>\n",
       "      <td>False</td>\n",
       "      <td>True</td>\n",
       "      <td>False</td>\n",
       "      <td>False</td>\n",
       "      <td>True</td>\n",
       "      <td>CA</td>\n",
       "    </tr>\n",
       "    <tr>\n",
       "      <th>94070</th>\n",
       "      <td>Senior</td>\n",
       "      <td>Female</td>\n",
       "      <td>Small</td>\n",
       "      <td>False</td>\n",
       "      <td>False</td>\n",
       "      <td>True</td>\n",
       "      <td>True</td>\n",
       "      <td>False</td>\n",
       "      <td>False</td>\n",
       "      <td>NY</td>\n",
       "    </tr>\n",
       "    <tr>\n",
       "      <th>28082</th>\n",
       "      <td>Adult</td>\n",
       "      <td>Male</td>\n",
       "      <td>Large</td>\n",
       "      <td>True</td>\n",
       "      <td>False</td>\n",
       "      <td>True</td>\n",
       "      <td>True</td>\n",
       "      <td>False</td>\n",
       "      <td>True</td>\n",
       "      <td>MN</td>\n",
       "    </tr>\n",
       "    <tr>\n",
       "      <th>112650</th>\n",
       "      <td>Baby</td>\n",
       "      <td>Male</td>\n",
       "      <td>Small</td>\n",
       "      <td>True</td>\n",
       "      <td>False</td>\n",
       "      <td>False</td>\n",
       "      <td>False</td>\n",
       "      <td>False</td>\n",
       "      <td>False</td>\n",
       "      <td>CA</td>\n",
       "    </tr>\n",
       "    <tr>\n",
       "      <th>8443</th>\n",
       "      <td>Adult</td>\n",
       "      <td>Female</td>\n",
       "      <td>Large</td>\n",
       "      <td>True</td>\n",
       "      <td>False</td>\n",
       "      <td>True</td>\n",
       "      <td>False</td>\n",
       "      <td>False</td>\n",
       "      <td>True</td>\n",
       "      <td>TX</td>\n",
       "    </tr>\n",
       "    <tr>\n",
       "      <th>...</th>\n",
       "      <td>...</td>\n",
       "      <td>...</td>\n",
       "      <td>...</td>\n",
       "      <td>...</td>\n",
       "      <td>...</td>\n",
       "      <td>...</td>\n",
       "      <td>...</td>\n",
       "      <td>...</td>\n",
       "      <td>...</td>\n",
       "      <td>...</td>\n",
       "    </tr>\n",
       "    <tr>\n",
       "      <th>101058</th>\n",
       "      <td>Young</td>\n",
       "      <td>Male</td>\n",
       "      <td>Medium</td>\n",
       "      <td>True</td>\n",
       "      <td>False</td>\n",
       "      <td>True</td>\n",
       "      <td>False</td>\n",
       "      <td>False</td>\n",
       "      <td>True</td>\n",
       "      <td>TX</td>\n",
       "    </tr>\n",
       "    <tr>\n",
       "      <th>85390</th>\n",
       "      <td>Young</td>\n",
       "      <td>Male</td>\n",
       "      <td>Small</td>\n",
       "      <td>False</td>\n",
       "      <td>False</td>\n",
       "      <td>True</td>\n",
       "      <td>False</td>\n",
       "      <td>False</td>\n",
       "      <td>True</td>\n",
       "      <td>TX</td>\n",
       "    </tr>\n",
       "    <tr>\n",
       "      <th>106184</th>\n",
       "      <td>Young</td>\n",
       "      <td>Female</td>\n",
       "      <td>Medium</td>\n",
       "      <td>True</td>\n",
       "      <td>False</td>\n",
       "      <td>True</td>\n",
       "      <td>True</td>\n",
       "      <td>False</td>\n",
       "      <td>True</td>\n",
       "      <td>TX</td>\n",
       "    </tr>\n",
       "    <tr>\n",
       "      <th>75479</th>\n",
       "      <td>Baby</td>\n",
       "      <td>Male</td>\n",
       "      <td>Small</td>\n",
       "      <td>True</td>\n",
       "      <td>False</td>\n",
       "      <td>True</td>\n",
       "      <td>False</td>\n",
       "      <td>False</td>\n",
       "      <td>True</td>\n",
       "      <td>NY</td>\n",
       "    </tr>\n",
       "    <tr>\n",
       "      <th>22781</th>\n",
       "      <td>Baby</td>\n",
       "      <td>Male</td>\n",
       "      <td>Medium</td>\n",
       "      <td>False</td>\n",
       "      <td>False</td>\n",
       "      <td>True</td>\n",
       "      <td>True</td>\n",
       "      <td>False</td>\n",
       "      <td>True</td>\n",
       "      <td>NY</td>\n",
       "    </tr>\n",
       "    <tr>\n",
       "      <th>28533</th>\n",
       "      <td>Adult</td>\n",
       "      <td>Female</td>\n",
       "      <td>Medium</td>\n",
       "      <td>True</td>\n",
       "      <td>False</td>\n",
       "      <td>True</td>\n",
       "      <td>True</td>\n",
       "      <td>False</td>\n",
       "      <td>False</td>\n",
       "      <td>NY</td>\n",
       "    </tr>\n",
       "    <tr>\n",
       "      <th>11998</th>\n",
       "      <td>Young</td>\n",
       "      <td>Male</td>\n",
       "      <td>Medium</td>\n",
       "      <td>True</td>\n",
       "      <td>False</td>\n",
       "      <td>True</td>\n",
       "      <td>False</td>\n",
       "      <td>False</td>\n",
       "      <td>False</td>\n",
       "      <td>NY</td>\n",
       "    </tr>\n",
       "    <tr>\n",
       "      <th>92464</th>\n",
       "      <td>Baby</td>\n",
       "      <td>Male</td>\n",
       "      <td>Small</td>\n",
       "      <td>True</td>\n",
       "      <td>False</td>\n",
       "      <td>True</td>\n",
       "      <td>False</td>\n",
       "      <td>False</td>\n",
       "      <td>True</td>\n",
       "      <td>CA</td>\n",
       "    </tr>\n",
       "    <tr>\n",
       "      <th>101480</th>\n",
       "      <td>Young</td>\n",
       "      <td>Female</td>\n",
       "      <td>Small</td>\n",
       "      <td>False</td>\n",
       "      <td>False</td>\n",
       "      <td>True</td>\n",
       "      <td>False</td>\n",
       "      <td>False</td>\n",
       "      <td>True</td>\n",
       "      <td>TX</td>\n",
       "    </tr>\n",
       "    <tr>\n",
       "      <th>80122</th>\n",
       "      <td>Young</td>\n",
       "      <td>Male</td>\n",
       "      <td>Small</td>\n",
       "      <td>True</td>\n",
       "      <td>False</td>\n",
       "      <td>True</td>\n",
       "      <td>False</td>\n",
       "      <td>False</td>\n",
       "      <td>True</td>\n",
       "      <td>TX</td>\n",
       "    </tr>\n",
       "    <tr>\n",
       "      <th>78921</th>\n",
       "      <td>Young</td>\n",
       "      <td>Male</td>\n",
       "      <td>Medium</td>\n",
       "      <td>True</td>\n",
       "      <td>False</td>\n",
       "      <td>True</td>\n",
       "      <td>False</td>\n",
       "      <td>False</td>\n",
       "      <td>True</td>\n",
       "      <td>NY</td>\n",
       "    </tr>\n",
       "    <tr>\n",
       "      <th>43364</th>\n",
       "      <td>Baby</td>\n",
       "      <td>Male</td>\n",
       "      <td>Large</td>\n",
       "      <td>True</td>\n",
       "      <td>False</td>\n",
       "      <td>True</td>\n",
       "      <td>False</td>\n",
       "      <td>False</td>\n",
       "      <td>True</td>\n",
       "      <td>MN</td>\n",
       "    </tr>\n",
       "    <tr>\n",
       "      <th>70759</th>\n",
       "      <td>Baby</td>\n",
       "      <td>Male</td>\n",
       "      <td>Small</td>\n",
       "      <td>True</td>\n",
       "      <td>False</td>\n",
       "      <td>True</td>\n",
       "      <td>False</td>\n",
       "      <td>False</td>\n",
       "      <td>True</td>\n",
       "      <td>NY</td>\n",
       "    </tr>\n",
       "    <tr>\n",
       "      <th>83128</th>\n",
       "      <td>Adult</td>\n",
       "      <td>Male</td>\n",
       "      <td>Small</td>\n",
       "      <td>True</td>\n",
       "      <td>False</td>\n",
       "      <td>True</td>\n",
       "      <td>True</td>\n",
       "      <td>False</td>\n",
       "      <td>True</td>\n",
       "      <td>CA</td>\n",
       "    </tr>\n",
       "    <tr>\n",
       "      <th>30783</th>\n",
       "      <td>Young</td>\n",
       "      <td>Female</td>\n",
       "      <td>Small</td>\n",
       "      <td>False</td>\n",
       "      <td>False</td>\n",
       "      <td>True</td>\n",
       "      <td>False</td>\n",
       "      <td>False</td>\n",
       "      <td>True</td>\n",
       "      <td>CA</td>\n",
       "    </tr>\n",
       "    <tr>\n",
       "      <th>88167</th>\n",
       "      <td>Young</td>\n",
       "      <td>Male</td>\n",
       "      <td>Small</td>\n",
       "      <td>True</td>\n",
       "      <td>False</td>\n",
       "      <td>False</td>\n",
       "      <td>False</td>\n",
       "      <td>False</td>\n",
       "      <td>False</td>\n",
       "      <td>NY</td>\n",
       "    </tr>\n",
       "    <tr>\n",
       "      <th>122153</th>\n",
       "      <td>Adult</td>\n",
       "      <td>Female</td>\n",
       "      <td>Medium</td>\n",
       "      <td>True</td>\n",
       "      <td>False</td>\n",
       "      <td>True</td>\n",
       "      <td>True</td>\n",
       "      <td>False</td>\n",
       "      <td>True</td>\n",
       "      <td>CA</td>\n",
       "    </tr>\n",
       "    <tr>\n",
       "      <th>85192</th>\n",
       "      <td>Baby</td>\n",
       "      <td>Female</td>\n",
       "      <td>Medium</td>\n",
       "      <td>True</td>\n",
       "      <td>False</td>\n",
       "      <td>True</td>\n",
       "      <td>True</td>\n",
       "      <td>False</td>\n",
       "      <td>True</td>\n",
       "      <td>NY</td>\n",
       "    </tr>\n",
       "    <tr>\n",
       "      <th>55638</th>\n",
       "      <td>Young</td>\n",
       "      <td>Female</td>\n",
       "      <td>Large</td>\n",
       "      <td>True</td>\n",
       "      <td>False</td>\n",
       "      <td>True</td>\n",
       "      <td>False</td>\n",
       "      <td>False</td>\n",
       "      <td>True</td>\n",
       "      <td>MN</td>\n",
       "    </tr>\n",
       "    <tr>\n",
       "      <th>43941</th>\n",
       "      <td>Young</td>\n",
       "      <td>Female</td>\n",
       "      <td>Medium</td>\n",
       "      <td>True</td>\n",
       "      <td>False</td>\n",
       "      <td>True</td>\n",
       "      <td>True</td>\n",
       "      <td>False</td>\n",
       "      <td>True</td>\n",
       "      <td>TX</td>\n",
       "    </tr>\n",
       "    <tr>\n",
       "      <th>32537</th>\n",
       "      <td>Young</td>\n",
       "      <td>Female</td>\n",
       "      <td>Medium</td>\n",
       "      <td>False</td>\n",
       "      <td>False</td>\n",
       "      <td>True</td>\n",
       "      <td>False</td>\n",
       "      <td>False</td>\n",
       "      <td>True</td>\n",
       "      <td>CA</td>\n",
       "    </tr>\n",
       "    <tr>\n",
       "      <th>95175</th>\n",
       "      <td>Adult</td>\n",
       "      <td>Male</td>\n",
       "      <td>Small</td>\n",
       "      <td>False</td>\n",
       "      <td>False</td>\n",
       "      <td>True</td>\n",
       "      <td>True</td>\n",
       "      <td>False</td>\n",
       "      <td>True</td>\n",
       "      <td>MN</td>\n",
       "    </tr>\n",
       "    <tr>\n",
       "      <th>17833</th>\n",
       "      <td>Young</td>\n",
       "      <td>Female</td>\n",
       "      <td>Medium</td>\n",
       "      <td>True</td>\n",
       "      <td>False</td>\n",
       "      <td>False</td>\n",
       "      <td>False</td>\n",
       "      <td>False</td>\n",
       "      <td>False</td>\n",
       "      <td>NY</td>\n",
       "    </tr>\n",
       "    <tr>\n",
       "      <th>48828</th>\n",
       "      <td>Adult</td>\n",
       "      <td>Female</td>\n",
       "      <td>Medium</td>\n",
       "      <td>True</td>\n",
       "      <td>False</td>\n",
       "      <td>True</td>\n",
       "      <td>False</td>\n",
       "      <td>True</td>\n",
       "      <td>True</td>\n",
       "      <td>TX</td>\n",
       "    </tr>\n",
       "    <tr>\n",
       "      <th>16791</th>\n",
       "      <td>Adult</td>\n",
       "      <td>Female</td>\n",
       "      <td>Small</td>\n",
       "      <td>True</td>\n",
       "      <td>False</td>\n",
       "      <td>True</td>\n",
       "      <td>True</td>\n",
       "      <td>False</td>\n",
       "      <td>True</td>\n",
       "      <td>NY</td>\n",
       "    </tr>\n",
       "    <tr>\n",
       "      <th>78190</th>\n",
       "      <td>Baby</td>\n",
       "      <td>Female</td>\n",
       "      <td>Small</td>\n",
       "      <td>True</td>\n",
       "      <td>False</td>\n",
       "      <td>False</td>\n",
       "      <td>False</td>\n",
       "      <td>False</td>\n",
       "      <td>False</td>\n",
       "      <td>CA</td>\n",
       "    </tr>\n",
       "    <tr>\n",
       "      <th>80909</th>\n",
       "      <td>Young</td>\n",
       "      <td>Female</td>\n",
       "      <td>Small</td>\n",
       "      <td>True</td>\n",
       "      <td>False</td>\n",
       "      <td>False</td>\n",
       "      <td>False</td>\n",
       "      <td>False</td>\n",
       "      <td>False</td>\n",
       "      <td>TX</td>\n",
       "    </tr>\n",
       "    <tr>\n",
       "      <th>86845</th>\n",
       "      <td>Young</td>\n",
       "      <td>Male</td>\n",
       "      <td>Medium</td>\n",
       "      <td>True</td>\n",
       "      <td>False</td>\n",
       "      <td>True</td>\n",
       "      <td>True</td>\n",
       "      <td>False</td>\n",
       "      <td>True</td>\n",
       "      <td>TX</td>\n",
       "    </tr>\n",
       "    <tr>\n",
       "      <th>86309</th>\n",
       "      <td>Young</td>\n",
       "      <td>Male</td>\n",
       "      <td>Small</td>\n",
       "      <td>True</td>\n",
       "      <td>False</td>\n",
       "      <td>True</td>\n",
       "      <td>False</td>\n",
       "      <td>False</td>\n",
       "      <td>True</td>\n",
       "      <td>NY</td>\n",
       "    </tr>\n",
       "    <tr>\n",
       "      <th>25105</th>\n",
       "      <td>Adult</td>\n",
       "      <td>Male</td>\n",
       "      <td>Medium</td>\n",
       "      <td>False</td>\n",
       "      <td>False</td>\n",
       "      <td>True</td>\n",
       "      <td>True</td>\n",
       "      <td>False</td>\n",
       "      <td>True</td>\n",
       "      <td>NY</td>\n",
       "    </tr>\n",
       "  </tbody>\n",
       "</table>\n",
       "<p>98217 rows × 10 columns</p>\n",
       "</div>"
      ],
      "text/plain": [
       "           age  gender    size  breeds.mixed  breeds.unknown  \\\n",
       "41254    Young    Male   Small          True           False   \n",
       "69024     Baby    Male   Small         False           False   \n",
       "109856   Adult  Female  Medium          True           False   \n",
       "60535    Young    Male  Medium          True           False   \n",
       "95078    Adult  Female  Medium          True           False   \n",
       "84503    Adult  Female   Large         False           False   \n",
       "21702    Adult    Male   Large         False           False   \n",
       "17294    Young  Female   Large         False           False   \n",
       "21343     Baby    Male  Medium         False           False   \n",
       "68691     Baby    Male   Small          True           False   \n",
       "7834      Baby    Male  Medium         False           False   \n",
       "109214   Adult  Female   Small         False           False   \n",
       "34690    Young    Male  Medium          True           False   \n",
       "70171    Adult  Female   Large         False           False   \n",
       "12032    Adult    Male   Small          True           False   \n",
       "23841    Adult    Male   Small          True           False   \n",
       "12500    Adult    Male   Large          True           False   \n",
       "24166     Baby    Male   Large          True           False   \n",
       "62324    Young  Female   Small          True           False   \n",
       "18905    Young  Female  Medium         False           False   \n",
       "31543    Young    Male   Small          True           False   \n",
       "121110   Young  Female   Small          True           False   \n",
       "59202     Baby  Female  Medium         False           False   \n",
       "50936     Baby    Male  Medium          True           False   \n",
       "15776    Adult    Male   Small         False           False   \n",
       "20252     Baby    Male   Large         False           False   \n",
       "94070   Senior  Female   Small         False           False   \n",
       "28082    Adult    Male   Large          True           False   \n",
       "112650    Baby    Male   Small          True           False   \n",
       "8443     Adult  Female   Large          True           False   \n",
       "...        ...     ...     ...           ...             ...   \n",
       "101058   Young    Male  Medium          True           False   \n",
       "85390    Young    Male   Small         False           False   \n",
       "106184   Young  Female  Medium          True           False   \n",
       "75479     Baby    Male   Small          True           False   \n",
       "22781     Baby    Male  Medium         False           False   \n",
       "28533    Adult  Female  Medium          True           False   \n",
       "11998    Young    Male  Medium          True           False   \n",
       "92464     Baby    Male   Small          True           False   \n",
       "101480   Young  Female   Small         False           False   \n",
       "80122    Young    Male   Small          True           False   \n",
       "78921    Young    Male  Medium          True           False   \n",
       "43364     Baby    Male   Large          True           False   \n",
       "70759     Baby    Male   Small          True           False   \n",
       "83128    Adult    Male   Small          True           False   \n",
       "30783    Young  Female   Small         False           False   \n",
       "88167    Young    Male   Small          True           False   \n",
       "122153   Adult  Female  Medium          True           False   \n",
       "85192     Baby  Female  Medium          True           False   \n",
       "55638    Young  Female   Large          True           False   \n",
       "43941    Young  Female  Medium          True           False   \n",
       "32537    Young  Female  Medium         False           False   \n",
       "95175    Adult    Male   Small         False           False   \n",
       "17833    Young  Female  Medium          True           False   \n",
       "48828    Adult  Female  Medium          True           False   \n",
       "16791    Adult  Female   Small          True           False   \n",
       "78190     Baby  Female   Small          True           False   \n",
       "80909    Young  Female   Small          True           False   \n",
       "86845    Young    Male  Medium          True           False   \n",
       "86309    Young    Male   Small          True           False   \n",
       "25105    Adult    Male  Medium         False           False   \n",
       "\n",
       "        attributes.spayed_neutered  attributes.house_trained  \\\n",
       "41254                         True                     False   \n",
       "69024                        False                     False   \n",
       "109856                        True                      True   \n",
       "60535                         True                      True   \n",
       "95078                         True                      True   \n",
       "84503                         True                     False   \n",
       "21702                         True                     False   \n",
       "17294                         True                      True   \n",
       "21343                         True                     False   \n",
       "68691                        False                      True   \n",
       "7834                          True                     False   \n",
       "109214                        True                     False   \n",
       "34690                         True                     False   \n",
       "70171                         True                     False   \n",
       "12032                         True                     False   \n",
       "23841                         True                     False   \n",
       "12500                         True                     False   \n",
       "24166                        False                     False   \n",
       "62324                         True                     False   \n",
       "18905                         True                     False   \n",
       "31543                         True                     False   \n",
       "121110                        True                     False   \n",
       "59202                         True                     False   \n",
       "50936                         True                     False   \n",
       "15776                         True                     False   \n",
       "20252                         True                     False   \n",
       "94070                         True                      True   \n",
       "28082                         True                      True   \n",
       "112650                       False                     False   \n",
       "8443                          True                     False   \n",
       "...                            ...                       ...   \n",
       "101058                        True                     False   \n",
       "85390                         True                     False   \n",
       "106184                        True                      True   \n",
       "75479                         True                     False   \n",
       "22781                         True                      True   \n",
       "28533                         True                      True   \n",
       "11998                         True                     False   \n",
       "92464                         True                     False   \n",
       "101480                        True                     False   \n",
       "80122                         True                     False   \n",
       "78921                         True                     False   \n",
       "43364                         True                     False   \n",
       "70759                         True                     False   \n",
       "83128                         True                      True   \n",
       "30783                         True                     False   \n",
       "88167                        False                     False   \n",
       "122153                        True                      True   \n",
       "85192                         True                      True   \n",
       "55638                         True                     False   \n",
       "43941                         True                      True   \n",
       "32537                         True                     False   \n",
       "95175                         True                      True   \n",
       "17833                        False                     False   \n",
       "48828                         True                     False   \n",
       "16791                         True                      True   \n",
       "78190                        False                     False   \n",
       "80909                        False                     False   \n",
       "86845                         True                      True   \n",
       "86309                         True                     False   \n",
       "25105                         True                      True   \n",
       "\n",
       "        attributes.special_needs  attributes.shots_current  \\\n",
       "41254                      False                      True   \n",
       "69024                      False                      True   \n",
       "109856                     False                      True   \n",
       "60535                      False                      True   \n",
       "95078                      False                      True   \n",
       "84503                      False                     False   \n",
       "21702                      False                      True   \n",
       "17294                      False                      True   \n",
       "21343                      False                      True   \n",
       "68691                      False                      True   \n",
       "7834                       False                      True   \n",
       "109214                     False                      True   \n",
       "34690                      False                      True   \n",
       "70171                      False                      True   \n",
       "12032                      False                      True   \n",
       "23841                      False                      True   \n",
       "12500                      False                     False   \n",
       "24166                      False                     False   \n",
       "62324                      False                      True   \n",
       "18905                      False                      True   \n",
       "31543                      False                      True   \n",
       "121110                     False                      True   \n",
       "59202                      False                      True   \n",
       "50936                      False                      True   \n",
       "15776                       True                      True   \n",
       "20252                      False                      True   \n",
       "94070                      False                     False   \n",
       "28082                      False                      True   \n",
       "112650                     False                     False   \n",
       "8443                       False                      True   \n",
       "...                          ...                       ...   \n",
       "101058                     False                      True   \n",
       "85390                      False                      True   \n",
       "106184                     False                      True   \n",
       "75479                      False                      True   \n",
       "22781                      False                      True   \n",
       "28533                      False                     False   \n",
       "11998                      False                     False   \n",
       "92464                      False                      True   \n",
       "101480                     False                      True   \n",
       "80122                      False                      True   \n",
       "78921                      False                      True   \n",
       "43364                      False                      True   \n",
       "70759                      False                      True   \n",
       "83128                      False                      True   \n",
       "30783                      False                      True   \n",
       "88167                      False                     False   \n",
       "122153                     False                      True   \n",
       "85192                      False                      True   \n",
       "55638                      False                      True   \n",
       "43941                      False                      True   \n",
       "32537                      False                      True   \n",
       "95175                      False                      True   \n",
       "17833                      False                     False   \n",
       "48828                       True                      True   \n",
       "16791                      False                      True   \n",
       "78190                      False                     False   \n",
       "80909                      False                     False   \n",
       "86845                      False                      True   \n",
       "86309                      False                      True   \n",
       "25105                      False                      True   \n",
       "\n",
       "       contact.address.state  \n",
       "41254                     NY  \n",
       "69024                     CA  \n",
       "109856                    MN  \n",
       "60535                     TX  \n",
       "95078                     MN  \n",
       "84503                     MN  \n",
       "21702                     CA  \n",
       "17294                     TX  \n",
       "21343                     NY  \n",
       "68691                     TX  \n",
       "7834                      CA  \n",
       "109214                    TX  \n",
       "34690                     MN  \n",
       "70171                     CA  \n",
       "12032                     MN  \n",
       "23841                     NY  \n",
       "12500                     MN  \n",
       "24166                     TX  \n",
       "62324                     CA  \n",
       "18905                     TX  \n",
       "31543                     NY  \n",
       "121110                    TX  \n",
       "59202                     TX  \n",
       "50936                     TX  \n",
       "15776                     TX  \n",
       "20252                     CA  \n",
       "94070                     NY  \n",
       "28082                     MN  \n",
       "112650                    CA  \n",
       "8443                      TX  \n",
       "...                      ...  \n",
       "101058                    TX  \n",
       "85390                     TX  \n",
       "106184                    TX  \n",
       "75479                     NY  \n",
       "22781                     NY  \n",
       "28533                     NY  \n",
       "11998                     NY  \n",
       "92464                     CA  \n",
       "101480                    TX  \n",
       "80122                     TX  \n",
       "78921                     NY  \n",
       "43364                     MN  \n",
       "70759                     NY  \n",
       "83128                     CA  \n",
       "30783                     CA  \n",
       "88167                     NY  \n",
       "122153                    CA  \n",
       "85192                     NY  \n",
       "55638                     MN  \n",
       "43941                     TX  \n",
       "32537                     CA  \n",
       "95175                     MN  \n",
       "17833                     NY  \n",
       "48828                     TX  \n",
       "16791                     NY  \n",
       "78190                     CA  \n",
       "80909                     TX  \n",
       "86845                     TX  \n",
       "86309                     NY  \n",
       "25105                     NY  \n",
       "\n",
       "[98217 rows x 10 columns]"
      ]
     },
     "execution_count": 73,
     "metadata": {},
     "output_type": "execute_result"
    }
   ],
   "source": [
    "train_X"
   ]
  },
  {
   "cell_type": "code",
   "execution_count": 19,
   "metadata": {},
   "outputs": [],
   "source": [
    "def train_DT(n_est, depth):\n",
    "    rf = DecisionTreeRegressor(min_samples_split=mss, max_depth=depth,n_jobs=-1)\n",
    "    pipeline_temp = Pipeline(steps=[('preprocessor', oh),('model', rf)])\n",
    "    scores= -1 * cross_val_score(pipeline_temp, trainval_X, trainval_y,cv=5,scoring='neg_mean_absolute_error')\n",
    "    print('MSS: {} / Depth: {} ---- MAE: {}'.format(n_est,depth,round(scores.mean(), 3)))"
   ]
  },
  {
   "cell_type": "code",
   "execution_count": 20,
   "metadata": {},
   "outputs": [
    {
     "name": "stdout",
     "output_type": "stream",
     "text": [
      "Est: 2 / Depth: 10 ---- MAE: 95.435\n",
      "Est: 2 / Depth: 50 ---- MAE: 95.535\n",
      "Est: 2 / Depth: 100 ---- MAE: 95.539\n",
      "Est: 5 / Depth: 10 ---- MAE: 95.436\n",
      "Est: 5 / Depth: 50 ---- MAE: 95.508\n",
      "Est: 5 / Depth: 100 ---- MAE: 95.504\n",
      "Est: 10 / Depth: 10 ---- MAE: 95.413\n",
      "Est: 10 / Depth: 50 ---- MAE: 95.44\n",
      "Est: 10 / Depth: 100 ---- MAE: 95.441\n"
     ]
    }
   ],
   "source": [
    "for mss in [2, 5, 10]:\n",
    "    for depth in [10, 50, 100]:\n",
    "        train_DT(mss, depth)"
   ]
  },
  {
   "cell_type": "code",
   "execution_count": null,
   "metadata": {},
   "outputs": [],
   "source": [
    "#model validation"
   ]
  },
  {
   "cell_type": "code",
   "execution_count": 14,
   "metadata": {},
   "outputs": [],
   "source": [
    "import time\n",
    "from sklearn.preprocessing import OneHotEncoder\n",
    "from sklearn.metrics import r2_score\n",
    "oh = OneHotEncoder(handle_unknown='ignore', sparse=False)\n",
    "OH_cols_train = pd.DataFrame(oh.fit_transform(train_X[cat_col]))\n",
    "OH_cols_val = pd.DataFrame(oh.transform(val_X[cat_col]))\n",
    "OH_cols_train.index = train_X.index\n",
    "OH_cols_val.index = val_X.index\n",
    "rest_train = train_X.drop(cat_col, axis=1)\n",
    "rest_val = val_X.drop(cat_col, axis=1)\n",
    "OH_train_X = pd.concat([rest_train, OH_cols_train], axis=1)\n",
    "OH_val_X = pd.concat([rest_val, OH_cols_val], axis=1)"
   ]
  },
  {
   "cell_type": "code",
   "execution_count": 15,
   "metadata": {},
   "outputs": [
    {
     "data": {
      "text/html": [
       "<div>\n",
       "<style scoped>\n",
       "    .dataframe tbody tr th:only-of-type {\n",
       "        vertical-align: middle;\n",
       "    }\n",
       "\n",
       "    .dataframe tbody tr th {\n",
       "        vertical-align: top;\n",
       "    }\n",
       "\n",
       "    .dataframe thead th {\n",
       "        text-align: right;\n",
       "    }\n",
       "</style>\n",
       "<table border=\"1\" class=\"dataframe\">\n",
       "  <thead>\n",
       "    <tr style=\"text-align: right;\">\n",
       "      <th></th>\n",
       "      <th>breeds.mixed</th>\n",
       "      <th>attributes.spayed_neutered</th>\n",
       "      <th>attributes.house_trained</th>\n",
       "      <th>attributes.shots_current</th>\n",
       "      <th>0</th>\n",
       "      <th>1</th>\n",
       "      <th>2</th>\n",
       "      <th>3</th>\n",
       "      <th>4</th>\n",
       "      <th>5</th>\n",
       "      <th>6</th>\n",
       "      <th>7</th>\n",
       "      <th>8</th>\n",
       "      <th>9</th>\n",
       "      <th>10</th>\n",
       "      <th>11</th>\n",
       "      <th>12</th>\n",
       "      <th>13</th>\n",
       "    </tr>\n",
       "  </thead>\n",
       "  <tbody>\n",
       "    <tr>\n",
       "      <th>2223</th>\n",
       "      <td>True</td>\n",
       "      <td>True</td>\n",
       "      <td>True</td>\n",
       "      <td>True</td>\n",
       "      <td>0.0</td>\n",
       "      <td>1.0</td>\n",
       "      <td>0.0</td>\n",
       "      <td>0.0</td>\n",
       "      <td>0.0</td>\n",
       "      <td>1.0</td>\n",
       "      <td>0.0</td>\n",
       "      <td>0.0</td>\n",
       "      <td>1.0</td>\n",
       "      <td>0.0</td>\n",
       "      <td>1.0</td>\n",
       "      <td>0.0</td>\n",
       "      <td>0.0</td>\n",
       "      <td>0.0</td>\n",
       "    </tr>\n",
       "    <tr>\n",
       "      <th>4379</th>\n",
       "      <td>False</td>\n",
       "      <td>True</td>\n",
       "      <td>False</td>\n",
       "      <td>True</td>\n",
       "      <td>0.0</td>\n",
       "      <td>0.0</td>\n",
       "      <td>0.0</td>\n",
       "      <td>1.0</td>\n",
       "      <td>0.0</td>\n",
       "      <td>1.0</td>\n",
       "      <td>0.0</td>\n",
       "      <td>0.0</td>\n",
       "      <td>0.0</td>\n",
       "      <td>1.0</td>\n",
       "      <td>0.0</td>\n",
       "      <td>0.0</td>\n",
       "      <td>0.0</td>\n",
       "      <td>1.0</td>\n",
       "    </tr>\n",
       "    <tr>\n",
       "      <th>91798</th>\n",
       "      <td>False</td>\n",
       "      <td>True</td>\n",
       "      <td>False</td>\n",
       "      <td>True</td>\n",
       "      <td>0.0</td>\n",
       "      <td>1.0</td>\n",
       "      <td>0.0</td>\n",
       "      <td>0.0</td>\n",
       "      <td>1.0</td>\n",
       "      <td>0.0</td>\n",
       "      <td>0.0</td>\n",
       "      <td>1.0</td>\n",
       "      <td>0.0</td>\n",
       "      <td>0.0</td>\n",
       "      <td>0.0</td>\n",
       "      <td>0.0</td>\n",
       "      <td>1.0</td>\n",
       "      <td>0.0</td>\n",
       "    </tr>\n",
       "    <tr>\n",
       "      <th>96250</th>\n",
       "      <td>False</td>\n",
       "      <td>True</td>\n",
       "      <td>True</td>\n",
       "      <td>True</td>\n",
       "      <td>1.0</td>\n",
       "      <td>0.0</td>\n",
       "      <td>0.0</td>\n",
       "      <td>0.0</td>\n",
       "      <td>1.0</td>\n",
       "      <td>0.0</td>\n",
       "      <td>0.0</td>\n",
       "      <td>0.0</td>\n",
       "      <td>1.0</td>\n",
       "      <td>0.0</td>\n",
       "      <td>0.0</td>\n",
       "      <td>0.0</td>\n",
       "      <td>0.0</td>\n",
       "      <td>1.0</td>\n",
       "    </tr>\n",
       "    <tr>\n",
       "      <th>92776</th>\n",
       "      <td>True</td>\n",
       "      <td>True</td>\n",
       "      <td>True</td>\n",
       "      <td>True</td>\n",
       "      <td>1.0</td>\n",
       "      <td>0.0</td>\n",
       "      <td>0.0</td>\n",
       "      <td>0.0</td>\n",
       "      <td>0.0</td>\n",
       "      <td>1.0</td>\n",
       "      <td>0.0</td>\n",
       "      <td>0.0</td>\n",
       "      <td>1.0</td>\n",
       "      <td>0.0</td>\n",
       "      <td>0.0</td>\n",
       "      <td>1.0</td>\n",
       "      <td>0.0</td>\n",
       "      <td>0.0</td>\n",
       "    </tr>\n",
       "  </tbody>\n",
       "</table>\n",
       "</div>"
      ],
      "text/plain": [
       "       breeds.mixed  attributes.spayed_neutered  attributes.house_trained  \\\n",
       "2223           True                        True                      True   \n",
       "4379          False                        True                     False   \n",
       "91798         False                        True                     False   \n",
       "96250         False                        True                      True   \n",
       "92776          True                        True                      True   \n",
       "\n",
       "       attributes.shots_current    0    1    2    3    4    5    6    7    8  \\\n",
       "2223                       True  0.0  1.0  0.0  0.0  0.0  1.0  0.0  0.0  1.0   \n",
       "4379                       True  0.0  0.0  0.0  1.0  0.0  1.0  0.0  0.0  0.0   \n",
       "91798                      True  0.0  1.0  0.0  0.0  1.0  0.0  0.0  1.0  0.0   \n",
       "96250                      True  1.0  0.0  0.0  0.0  1.0  0.0  0.0  0.0  1.0   \n",
       "92776                      True  1.0  0.0  0.0  0.0  0.0  1.0  0.0  0.0  1.0   \n",
       "\n",
       "         9   10   11   12   13  \n",
       "2223   0.0  1.0  0.0  0.0  0.0  \n",
       "4379   1.0  0.0  0.0  0.0  1.0  \n",
       "91798  0.0  0.0  0.0  1.0  0.0  \n",
       "96250  0.0  0.0  0.0  0.0  1.0  \n",
       "92776  0.0  0.0  1.0  0.0  0.0  "
      ]
     },
     "execution_count": 15,
     "metadata": {},
     "output_type": "execute_result"
    }
   ],
   "source": [
    "OH_train_X.head()"
   ]
  },
  {
   "cell_type": "code",
   "execution_count": 16,
   "metadata": {},
   "outputs": [
    {
     "name": "stdout",
     "output_type": "stream",
     "text": [
      "Fit time: 6.252 / Predict time: 0.136 ---- MAE: 0.863 / R^2: 0.085\n"
     ]
    }
   ],
   "source": [
    "rf = RandomForestRegressor(n_estimators=100, max_depth=10, n_jobs=-1)\n",
    "start = time.time()\n",
    "rf_model = rf.fit(OH_train_X, train_y)\n",
    "end = time.time()\n",
    "fit_time = (end - start)\n",
    "\n",
    "start = time.time()\n",
    "y_pred = rf_model.predict(OH_val_X)\n",
    "end = time.time()\n",
    "pred_time = (end - start)\n",
    "mae_x=mean_absolute_error(val_y, y_pred)\n",
    "r2 =r2_score(val_y,y_pred)\n",
    "print('Fit time: {} / Predict time: {} ---- MAE: {} / R^2: {}'.format(\n",
    "    round(fit_time, 3), round(pred_time, 3), round(mae_x, 3), round(r2,3)))"
   ]
  },
  {
   "cell_type": "code",
   "execution_count": 17,
   "metadata": {},
   "outputs": [
    {
     "data": {
      "image/png": "[encoded data removed]",
      "text/plain": [
       "<Figure size 432x288 with 1 Axes>"
      ]
     },
     "metadata": {
      "needs_background": "light"
     },
     "output_type": "display_data"
    }
   ],
   "source": [
    "fig, ax = plt.subplots()\n",
    "ax.scatter(val_y, y_pred)\n",
    "ax.plot([val_y.min(), val_y.max()], [val_y.min(), val_y.max()], 'k--', lw=4)\n",
    "ax.set_xlabel('Actual')\n",
    "ax.set_ylabel('Predicted')\n",
    "plt.show()"
   ]
  },
  {
   "cell_type": "code",
   "execution_count": 28,
   "metadata": {},
   "outputs": [
    {
     "name": "stdout",
     "output_type": "stream",
     "text": [
      "Fit time: 1.03 / Predict time: 0.16 ---- MAE: 95.866 / R^2: 0.076\n"
     ]
    }
   ],
   "source": [
    "rf = RandomForestRegressor(n_estimators=10, max_depth=10, n_jobs=-1)\n",
    "\n",
    "start = time.time()\n",
    "rf_model = rf.fit(OH_train_X, train_y)\n",
    "end = time.time()\n",
    "fit_time = (end - start)\n",
    "\n",
    "start = time.time()\n",
    "y_pred = rf_model.predict(OH_val_X)\n",
    "end = time.time()\n",
    "pred_time = (end - start)\n",
    "mae_x=mean_absolute_error(val_y, y_pred)\n",
    "r2 =r2_score(val_y,y_pred)\n",
    "print('Fit time: {} / Predict time: {} ---- MAE: {} / R^2: {}'.format(\n",
    "    round(fit_time, 3), round(pred_time, 3), round(mae_x, 3), round(r2,3)))"
   ]
  },
  {
   "cell_type": "code",
   "execution_count": 29,
   "metadata": {},
   "outputs": [
    {
     "data": {
      "image/png": "[encoded data removed]",
      "text/plain": [
       "<Figure size 432x288 with 1 Axes>"
      ]
     },
     "metadata": {
      "needs_background": "light"
     },
     "output_type": "display_data"
    }
   ],
   "source": [
    "fig, ax = plt.subplots()\n",
    "ax.scatter(val_y, y_pred)\n",
    "ax.plot([val_y.min(), val_y.max()], [val_y.min(), val_y.max()], 'k--', lw=4)\n",
    "ax.set_xlabel('Actual')\n",
    "ax.set_ylabel('Predicted')\n",
    "plt.show()"
   ]
  },
  {
   "cell_type": "code",
   "execution_count": 20,
   "metadata": {},
   "outputs": [],
   "source": [
    "def train_GB(est, max_depth, lr):\n",
    "    gb = XGBRegressor(n_estimators=est, max_depth=max_depth, learning_rate=lr, n_jobs=-1)\n",
    "    gb_model = gb.fit(OH_train_X, train_y)\n",
    "    y_pred = gb_model.predict(OH_val_X)\n",
    "    r2 =r2_score(val_y,y_pred)\n",
    "    print('Est: {} / Depth: {} / Learning Rate: {} ---- R^2: {}'.format(n_est,max_depth,lr,round(r2, 3)))"
   ]
  },
  {
   "cell_type": "code",
   "execution_count": 21,
   "metadata": {},
   "outputs": [
    {
     "name": "stderr",
     "output_type": "stream",
     "text": [
      "C:\\anaconda_python\\lib\\site-packages\\xgboost\\core.py:587: FutureWarning: Series.base is deprecated and will be removed in a future version\n",
      "  if getattr(data, 'base', None) is not None and \\\n"
     ]
    },
    {
     "name": "stdout",
     "output_type": "stream",
     "text": [
      "[21:28:16] WARNING: C:/Jenkins/workspace/xgboost-win64_release_0.90/src/objective/regression_obj.cu:152: reg:linear is now deprecated in favor of reg:squarederror.\n",
      "Est: 50 / Depth: 3 / Learning Rate: 0.01 ---- R^2: -1.973\n"
     ]
    },
    {
     "name": "stderr",
     "output_type": "stream",
     "text": [
      "C:\\anaconda_python\\lib\\site-packages\\xgboost\\core.py:587: FutureWarning: Series.base is deprecated and will be removed in a future version\n",
      "  if getattr(data, 'base', None) is not None and \\\n"
     ]
    },
    {
     "name": "stdout",
     "output_type": "stream",
     "text": [
      "[21:28:18] WARNING: C:/Jenkins/workspace/xgboost-win64_release_0.90/src/objective/regression_obj.cu:152: reg:linear is now deprecated in favor of reg:squarederror.\n",
      "Est: 50 / Depth: 3 / Learning Rate: 0.1 ---- R^2: 0.081\n"
     ]
    },
    {
     "name": "stderr",
     "output_type": "stream",
     "text": [
      "C:\\anaconda_python\\lib\\site-packages\\xgboost\\core.py:587: FutureWarning: Series.base is deprecated and will be removed in a future version\n",
      "  if getattr(data, 'base', None) is not None and \\\n"
     ]
    },
    {
     "name": "stdout",
     "output_type": "stream",
     "text": [
      "[21:28:21] WARNING: C:/Jenkins/workspace/xgboost-win64_release_0.90/src/objective/regression_obj.cu:152: reg:linear is now deprecated in favor of reg:squarederror.\n",
      "Est: 50 / Depth: 3 / Learning Rate: 1 ---- R^2: 0.086\n"
     ]
    },
    {
     "name": "stderr",
     "output_type": "stream",
     "text": [
      "C:\\anaconda_python\\lib\\site-packages\\xgboost\\core.py:587: FutureWarning: Series.base is deprecated and will be removed in a future version\n",
      "  if getattr(data, 'base', None) is not None and \\\n"
     ]
    },
    {
     "name": "stdout",
     "output_type": "stream",
     "text": [
      "[21:28:23] WARNING: C:/Jenkins/workspace/xgboost-win64_release_0.90/src/objective/regression_obj.cu:152: reg:linear is now deprecated in favor of reg:squarederror.\n",
      "Est: 50 / Depth: 7 / Learning Rate: 0.01 ---- R^2: -1.962\n"
     ]
    },
    {
     "name": "stderr",
     "output_type": "stream",
     "text": [
      "C:\\anaconda_python\\lib\\site-packages\\xgboost\\core.py:587: FutureWarning: Series.base is deprecated and will be removed in a future version\n",
      "  if getattr(data, 'base', None) is not None and \\\n"
     ]
    },
    {
     "name": "stdout",
     "output_type": "stream",
     "text": [
      "[21:28:28] WARNING: C:/Jenkins/workspace/xgboost-win64_release_0.90/src/objective/regression_obj.cu:152: reg:linear is now deprecated in favor of reg:squarederror.\n",
      "Est: 50 / Depth: 7 / Learning Rate: 0.1 ---- R^2: 0.088\n"
     ]
    },
    {
     "name": "stderr",
     "output_type": "stream",
     "text": [
      "C:\\anaconda_python\\lib\\site-packages\\xgboost\\core.py:587: FutureWarning: Series.base is deprecated and will be removed in a future version\n",
      "  if getattr(data, 'base', None) is not None and \\\n"
     ]
    },
    {
     "name": "stdout",
     "output_type": "stream",
     "text": [
      "[21:28:33] WARNING: C:/Jenkins/workspace/xgboost-win64_release_0.90/src/objective/regression_obj.cu:152: reg:linear is now deprecated in favor of reg:squarederror.\n",
      "Est: 50 / Depth: 7 / Learning Rate: 1 ---- R^2: 0.079\n",
      "[21:28:38] WARNING: C:/Jenkins/workspace/xgboost-win64_release_0.90/src/objective/regression_obj.cu:152: reg:linear is now deprecated in favor of reg:squarederror."
     ]
    },
    {
     "name": "stderr",
     "output_type": "stream",
     "text": [
      "C:\\anaconda_python\\lib\\site-packages\\xgboost\\core.py:587: FutureWarning: Series.base is deprecated and will be removed in a future version\n",
      "  if getattr(data, 'base', None) is not None and \\\n"
     ]
    },
    {
     "name": "stdout",
     "output_type": "stream",
     "text": [
      "\n",
      "Est: 50 / Depth: 11 / Learning Rate: 0.01 ---- R^2: -1.961\n"
     ]
    },
    {
     "name": "stderr",
     "output_type": "stream",
     "text": [
      "C:\\anaconda_python\\lib\\site-packages\\xgboost\\core.py:587: FutureWarning: Series.base is deprecated and will be removed in a future version\n",
      "  if getattr(data, 'base', None) is not None and \\\n"
     ]
    },
    {
     "name": "stdout",
     "output_type": "stream",
     "text": [
      "[21:28:45] WARNING: C:/Jenkins/workspace/xgboost-win64_release_0.90/src/objective/regression_obj.cu:152: reg:linear is now deprecated in favor of reg:squarederror.\n",
      "Est: 50 / Depth: 11 / Learning Rate: 0.1 ---- R^2: 0.082\n"
     ]
    },
    {
     "name": "stderr",
     "output_type": "stream",
     "text": [
      "C:\\anaconda_python\\lib\\site-packages\\xgboost\\core.py:587: FutureWarning: Series.base is deprecated and will be removed in a future version\n",
      "  if getattr(data, 'base', None) is not None and \\\n"
     ]
    },
    {
     "name": "stdout",
     "output_type": "stream",
     "text": [
      "[21:28:53] WARNING: C:/Jenkins/workspace/xgboost-win64_release_0.90/src/objective/regression_obj.cu:152: reg:linear is now deprecated in favor of reg:squarederror.\n",
      "Est: 50 / Depth: 11 / Learning Rate: 1 ---- R^2: 0.077\n"
     ]
    },
    {
     "name": "stderr",
     "output_type": "stream",
     "text": [
      "C:\\anaconda_python\\lib\\site-packages\\xgboost\\core.py:587: FutureWarning: Series.base is deprecated and will be removed in a future version\n",
      "  if getattr(data, 'base', None) is not None and \\\n"
     ]
    },
    {
     "name": "stdout",
     "output_type": "stream",
     "text": [
      "[21:28:57] WARNING: C:/Jenkins/workspace/xgboost-win64_release_0.90/src/objective/regression_obj.cu:152: reg:linear is now deprecated in favor of reg:squarederror.\n",
      "Est: 50 / Depth: 15 / Learning Rate: 0.01 ---- R^2: -1.961\n"
     ]
    },
    {
     "name": "stderr",
     "output_type": "stream",
     "text": [
      "C:\\anaconda_python\\lib\\site-packages\\xgboost\\core.py:587: FutureWarning: Series.base is deprecated and will be removed in a future version\n",
      "  if getattr(data, 'base', None) is not None and \\\n"
     ]
    },
    {
     "name": "stdout",
     "output_type": "stream",
     "text": [
      "[21:29:05] WARNING: C:/Jenkins/workspace/xgboost-win64_release_0.90/src/objective/regression_obj.cu:152: reg:linear is now deprecated in favor of reg:squarederror.\n",
      "Est: 50 / Depth: 15 / Learning Rate: 0.1 ---- R^2: 0.08\n"
     ]
    },
    {
     "name": "stderr",
     "output_type": "stream",
     "text": [
      "C:\\anaconda_python\\lib\\site-packages\\xgboost\\core.py:587: FutureWarning: Series.base is deprecated and will be removed in a future version\n",
      "  if getattr(data, 'base', None) is not None and \\\n"
     ]
    },
    {
     "name": "stdout",
     "output_type": "stream",
     "text": [
      "[21:29:14] WARNING: C:/Jenkins/workspace/xgboost-win64_release_0.90/src/objective/regression_obj.cu:152: reg:linear is now deprecated in favor of reg:squarederror.\n",
      "Est: 50 / Depth: 15 / Learning Rate: 1 ---- R^2: 0.077\n",
      "[21:29:17] WARNING: C:/Jenkins/workspace/xgboost-win64_release_0.90/src/objective/regression_obj.cu:152: reg:linear is now deprecated in favor of reg:squarederror.\n"
     ]
    },
    {
     "name": "stderr",
     "output_type": "stream",
     "text": [
      "C:\\anaconda_python\\lib\\site-packages\\xgboost\\core.py:587: FutureWarning: Series.base is deprecated and will be removed in a future version\n",
      "  if getattr(data, 'base', None) is not None and \\\n"
     ]
    },
    {
     "name": "stdout",
     "output_type": "stream",
     "text": [
      "Est: 100 / Depth: 3 / Learning Rate: 0.01 ---- R^2: -0.668\n"
     ]
    },
    {
     "name": "stderr",
     "output_type": "stream",
     "text": [
      "C:\\anaconda_python\\lib\\site-packages\\xgboost\\core.py:587: FutureWarning: Series.base is deprecated and will be removed in a future version\n",
      "  if getattr(data, 'base', None) is not None and \\\n"
     ]
    },
    {
     "name": "stdout",
     "output_type": "stream",
     "text": [
      "[21:29:22] WARNING: C:/Jenkins/workspace/xgboost-win64_release_0.90/src/objective/regression_obj.cu:152: reg:linear is now deprecated in favor of reg:squarederror.\n",
      "Est: 100 / Depth: 3 / Learning Rate: 0.1 ---- R^2: 0.083\n"
     ]
    },
    {
     "name": "stderr",
     "output_type": "stream",
     "text": [
      "C:\\anaconda_python\\lib\\site-packages\\xgboost\\core.py:587: FutureWarning: Series.base is deprecated and will be removed in a future version\n",
      "  if getattr(data, 'base', None) is not None and \\\n"
     ]
    },
    {
     "name": "stdout",
     "output_type": "stream",
     "text": [
      "[21:29:27] WARNING: C:/Jenkins/workspace/xgboost-win64_release_0.90/src/objective/regression_obj.cu:152: reg:linear is now deprecated in favor of reg:squarederror.\n",
      "Est: 100 / Depth: 3 / Learning Rate: 1 ---- R^2: 0.087\n"
     ]
    },
    {
     "name": "stderr",
     "output_type": "stream",
     "text": [
      "C:\\anaconda_python\\lib\\site-packages\\xgboost\\core.py:587: FutureWarning: Series.base is deprecated and will be removed in a future version\n",
      "  if getattr(data, 'base', None) is not None and \\\n"
     ]
    },
    {
     "name": "stdout",
     "output_type": "stream",
     "text": [
      "[21:29:33] WARNING: C:/Jenkins/workspace/xgboost-win64_release_0.90/src/objective/regression_obj.cu:152: reg:linear is now deprecated in favor of reg:squarederror.\n",
      "Est: 100 / Depth: 7 / Learning Rate: 0.01 ---- R^2: -0.653\n"
     ]
    },
    {
     "name": "stderr",
     "output_type": "stream",
     "text": [
      "C:\\anaconda_python\\lib\\site-packages\\xgboost\\core.py:587: FutureWarning: Series.base is deprecated and will be removed in a future version\n",
      "  if getattr(data, 'base', None) is not None and \\\n"
     ]
    },
    {
     "name": "stdout",
     "output_type": "stream",
     "text": [
      "[21:29:43] WARNING: C:/Jenkins/workspace/xgboost-win64_release_0.90/src/objective/regression_obj.cu:152: reg:linear is now deprecated in favor of reg:squarederror.\n",
      "Est: 100 / Depth: 7 / Learning Rate: 0.1 ---- R^2: 0.086\n"
     ]
    },
    {
     "name": "stderr",
     "output_type": "stream",
     "text": [
      "C:\\anaconda_python\\lib\\site-packages\\xgboost\\core.py:587: FutureWarning: Series.base is deprecated and will be removed in a future version\n",
      "  if getattr(data, 'base', None) is not None and \\\n"
     ]
    },
    {
     "name": "stdout",
     "output_type": "stream",
     "text": [
      "[21:29:53] WARNING: C:/Jenkins/workspace/xgboost-win64_release_0.90/src/objective/regression_obj.cu:152: reg:linear is now deprecated in favor of reg:squarederror.\n",
      "Est: 100 / Depth: 7 / Learning Rate: 1 ---- R^2: 0.077\n"
     ]
    },
    {
     "name": "stderr",
     "output_type": "stream",
     "text": [
      "C:\\anaconda_python\\lib\\site-packages\\xgboost\\core.py:587: FutureWarning: Series.base is deprecated and will be removed in a future version\n",
      "  if getattr(data, 'base', None) is not None and \\\n"
     ]
    },
    {
     "name": "stdout",
     "output_type": "stream",
     "text": [
      "[21:30:02] WARNING: C:/Jenkins/workspace/xgboost-win64_release_0.90/src/objective/regression_obj.cu:152: reg:linear is now deprecated in favor of reg:squarederror.\n",
      "Est: 100 / Depth: 11 / Learning Rate: 0.01 ---- R^2: -0.653\n"
     ]
    },
    {
     "name": "stderr",
     "output_type": "stream",
     "text": [
      "C:\\anaconda_python\\lib\\site-packages\\xgboost\\core.py:587: FutureWarning: Series.base is deprecated and will be removed in a future version\n",
      "  if getattr(data, 'base', None) is not None and \\\n"
     ]
    },
    {
     "name": "stdout",
     "output_type": "stream",
     "text": [
      "[21:30:16] WARNING: C:/Jenkins/workspace/xgboost-win64_release_0.90/src/objective/regression_obj.cu:152: reg:linear is now deprecated in favor of reg:squarederror.\n",
      "Est: 100 / Depth: 11 / Learning Rate: 0.1 ---- R^2: 0.078\n",
      "[21:30:30] WARNING: C:/Jenkins/workspace/xgboost-win64_release_0.90/src/objective/regression_obj.cu:152: reg:linear is now deprecated in favor of reg:squarederror."
     ]
    },
    {
     "name": "stderr",
     "output_type": "stream",
     "text": [
      "C:\\anaconda_python\\lib\\site-packages\\xgboost\\core.py:587: FutureWarning: Series.base is deprecated and will be removed in a future version\n",
      "  if getattr(data, 'base', None) is not None and \\\n"
     ]
    },
    {
     "name": "stdout",
     "output_type": "stream",
     "text": [
      "\n",
      "Est: 100 / Depth: 11 / Learning Rate: 1 ---- R^2: 0.077\n"
     ]
    },
    {
     "name": "stderr",
     "output_type": "stream",
     "text": [
      "C:\\anaconda_python\\lib\\site-packages\\xgboost\\core.py:587: FutureWarning: Series.base is deprecated and will be removed in a future version\n",
      "  if getattr(data, 'base', None) is not None and \\\n"
     ]
    },
    {
     "name": "stdout",
     "output_type": "stream",
     "text": [
      "[21:30:34] WARNING: C:/Jenkins/workspace/xgboost-win64_release_0.90/src/objective/regression_obj.cu:152: reg:linear is now deprecated in favor of reg:squarederror.\n",
      "Est: 100 / Depth: 15 / Learning Rate: 0.01 ---- R^2: -0.653\n"
     ]
    },
    {
     "name": "stderr",
     "output_type": "stream",
     "text": [
      "C:\\anaconda_python\\lib\\site-packages\\xgboost\\core.py:587: FutureWarning: Series.base is deprecated and will be removed in a future version\n",
      "  if getattr(data, 'base', None) is not None and \\\n"
     ]
    },
    {
     "name": "stdout",
     "output_type": "stream",
     "text": [
      "[21:30:49] WARNING: C:/Jenkins/workspace/xgboost-win64_release_0.90/src/objective/regression_obj.cu:152: reg:linear is now deprecated in favor of reg:squarederror.\n",
      "Est: 100 / Depth: 15 / Learning Rate: 0.1 ---- R^2: 0.078\n"
     ]
    },
    {
     "name": "stderr",
     "output_type": "stream",
     "text": [
      "C:\\anaconda_python\\lib\\site-packages\\xgboost\\core.py:587: FutureWarning: Series.base is deprecated and will be removed in a future version\n",
      "  if getattr(data, 'base', None) is not None and \\\n"
     ]
    },
    {
     "name": "stdout",
     "output_type": "stream",
     "text": [
      "[21:31:06] WARNING: C:/Jenkins/workspace/xgboost-win64_release_0.90/src/objective/regression_obj.cu:152: reg:linear is now deprecated in favor of reg:squarederror.\n",
      "Est: 100 / Depth: 15 / Learning Rate: 1 ---- R^2: 0.077\n"
     ]
    },
    {
     "name": "stderr",
     "output_type": "stream",
     "text": [
      "C:\\anaconda_python\\lib\\site-packages\\xgboost\\core.py:587: FutureWarning: Series.base is deprecated and will be removed in a future version\n",
      "  if getattr(data, 'base', None) is not None and \\\n"
     ]
    },
    {
     "name": "stdout",
     "output_type": "stream",
     "text": [
      "[21:31:10] WARNING: C:/Jenkins/workspace/xgboost-win64_release_0.90/src/objective/regression_obj.cu:152: reg:linear is now deprecated in favor of reg:squarederror.\n",
      "Est: 150 / Depth: 3 / Learning Rate: 0.01 ---- R^2: -0.193\n",
      "[21:31:17] WARNING: C:/Jenkins/workspace/xgboost-win64_release_0.90/src/objective/regression_obj.cu:152: reg:linear is now deprecated in favor of reg:squarederror."
     ]
    },
    {
     "name": "stderr",
     "output_type": "stream",
     "text": [
      "C:\\anaconda_python\\lib\\site-packages\\xgboost\\core.py:587: FutureWarning: Series.base is deprecated and will be removed in a future version\n",
      "  if getattr(data, 'base', None) is not None and \\\n"
     ]
    },
    {
     "name": "stdout",
     "output_type": "stream",
     "text": [
      "\n",
      "Est: 150 / Depth: 3 / Learning Rate: 0.1 ---- R^2: 0.085\n"
     ]
    },
    {
     "name": "stderr",
     "output_type": "stream",
     "text": [
      "C:\\anaconda_python\\lib\\site-packages\\xgboost\\core.py:587: FutureWarning: Series.base is deprecated and will be removed in a future version\n",
      "  if getattr(data, 'base', None) is not None and \\\n"
     ]
    },
    {
     "name": "stdout",
     "output_type": "stream",
     "text": [
      "[21:31:23] WARNING: C:/Jenkins/workspace/xgboost-win64_release_0.90/src/objective/regression_obj.cu:152: reg:linear is now deprecated in favor of reg:squarederror.\n",
      "Est: 150 / Depth: 3 / Learning Rate: 1 ---- R^2: 0.087\n"
     ]
    },
    {
     "name": "stderr",
     "output_type": "stream",
     "text": [
      "C:\\anaconda_python\\lib\\site-packages\\xgboost\\core.py:587: FutureWarning: Series.base is deprecated and will be removed in a future version\n",
      "  if getattr(data, 'base', None) is not None and \\\n"
     ]
    },
    {
     "name": "stdout",
     "output_type": "stream",
     "text": [
      "[21:31:30] WARNING: C:/Jenkins/workspace/xgboost-win64_release_0.90/src/objective/regression_obj.cu:152: reg:linear is now deprecated in favor of reg:squarederror.\n",
      "Est: 150 / Depth: 7 / Learning Rate: 0.01 ---- R^2: -0.177\n"
     ]
    },
    {
     "name": "stderr",
     "output_type": "stream",
     "text": [
      "C:\\anaconda_python\\lib\\site-packages\\xgboost\\core.py:587: FutureWarning: Series.base is deprecated and will be removed in a future version\n",
      "  if getattr(data, 'base', None) is not None and \\\n"
     ]
    },
    {
     "name": "stdout",
     "output_type": "stream",
     "text": [
      "[21:31:43] WARNING: C:/Jenkins/workspace/xgboost-win64_release_0.90/src/objective/regression_obj.cu:152: reg:linear is now deprecated in favor of reg:squarederror.\n",
      "Est: 150 / Depth: 7 / Learning Rate: 0.1 ---- R^2: 0.085\n"
     ]
    },
    {
     "name": "stderr",
     "output_type": "stream",
     "text": [
      "C:\\anaconda_python\\lib\\site-packages\\xgboost\\core.py:587: FutureWarning: Series.base is deprecated and will be removed in a future version\n",
      "  if getattr(data, 'base', None) is not None and \\\n"
     ]
    },
    {
     "name": "stdout",
     "output_type": "stream",
     "text": [
      "[21:31:57] WARNING: C:/Jenkins/workspace/xgboost-win64_release_0.90/src/objective/regression_obj.cu:152: reg:linear is now deprecated in favor of reg:squarederror.\n",
      "Est: 150 / Depth: 7 / Learning Rate: 1 ---- R^2: 0.077\n"
     ]
    },
    {
     "name": "stderr",
     "output_type": "stream",
     "text": [
      "C:\\anaconda_python\\lib\\site-packages\\xgboost\\core.py:587: FutureWarning: Series.base is deprecated and will be removed in a future version\n",
      "  if getattr(data, 'base', None) is not None and \\\n"
     ]
    },
    {
     "name": "stdout",
     "output_type": "stream",
     "text": [
      "[21:32:10] WARNING: C:/Jenkins/workspace/xgboost-win64_release_0.90/src/objective/regression_obj.cu:152: reg:linear is now deprecated in favor of reg:squarederror.\n",
      "Est: 150 / Depth: 11 / Learning Rate: 0.01 ---- R^2: -0.178\n"
     ]
    },
    {
     "name": "stderr",
     "output_type": "stream",
     "text": [
      "C:\\anaconda_python\\lib\\site-packages\\xgboost\\core.py:587: FutureWarning: Series.base is deprecated and will be removed in a future version\n",
      "  if getattr(data, 'base', None) is not None and \\\n"
     ]
    },
    {
     "name": "stdout",
     "output_type": "stream",
     "text": [
      "[21:32:30] WARNING: C:/Jenkins/workspace/xgboost-win64_release_0.90/src/objective/regression_obj.cu:152: reg:linear is now deprecated in favor of reg:squarederror.\n",
      "Est: 150 / Depth: 11 / Learning Rate: 0.1 ---- R^2: 0.078\n"
     ]
    },
    {
     "name": "stderr",
     "output_type": "stream",
     "text": [
      "C:\\anaconda_python\\lib\\site-packages\\xgboost\\core.py:587: FutureWarning: Series.base is deprecated and will be removed in a future version\n",
      "  if getattr(data, 'base', None) is not None and \\\n"
     ]
    },
    {
     "name": "stdout",
     "output_type": "stream",
     "text": [
      "[21:32:50] WARNING: C:/Jenkins/workspace/xgboost-win64_release_0.90/src/objective/regression_obj.cu:152: reg:linear is now deprecated in favor of reg:squarederror.\n",
      "Est: 150 / Depth: 11 / Learning Rate: 1 ---- R^2: 0.077\n"
     ]
    },
    {
     "name": "stderr",
     "output_type": "stream",
     "text": [
      "C:\\anaconda_python\\lib\\site-packages\\xgboost\\core.py:587: FutureWarning: Series.base is deprecated and will be removed in a future version\n",
      "  if getattr(data, 'base', None) is not None and \\\n"
     ]
    },
    {
     "name": "stdout",
     "output_type": "stream",
     "text": [
      "[21:32:56] WARNING: C:/Jenkins/workspace/xgboost-win64_release_0.90/src/objective/regression_obj.cu:152: reg:linear is now deprecated in favor of reg:squarederror.\n",
      "Est: 150 / Depth: 15 / Learning Rate: 0.01 ---- R^2: -0.178\n"
     ]
    },
    {
     "name": "stderr",
     "output_type": "stream",
     "text": [
      "C:\\anaconda_python\\lib\\site-packages\\xgboost\\core.py:587: FutureWarning: Series.base is deprecated and will be removed in a future version\n",
      "  if getattr(data, 'base', None) is not None and \\\n"
     ]
    },
    {
     "name": "stdout",
     "output_type": "stream",
     "text": [
      "[21:33:18] WARNING: C:/Jenkins/workspace/xgboost-win64_release_0.90/src/objective/regression_obj.cu:152: reg:linear is now deprecated in favor of reg:squarederror.\n",
      "Est: 150 / Depth: 15 / Learning Rate: 0.1 ---- R^2: 0.078\n"
     ]
    },
    {
     "name": "stderr",
     "output_type": "stream",
     "text": [
      "C:\\anaconda_python\\lib\\site-packages\\xgboost\\core.py:587: FutureWarning: Series.base is deprecated and will be removed in a future version\n",
      "  if getattr(data, 'base', None) is not None and \\\n"
     ]
    },
    {
     "name": "stdout",
     "output_type": "stream",
     "text": [
      "[21:33:40] WARNING: C:/Jenkins/workspace/xgboost-win64_release_0.90/src/objective/regression_obj.cu:152: reg:linear is now deprecated in favor of reg:squarederror.\n",
      "Est: 150 / Depth: 15 / Learning Rate: 1 ---- R^2: 0.077\n"
     ]
    }
   ],
   "source": [
    "for n_est in [50, 100, 150]:\n",
    "    for max_depth in [3, 7, 11, 15]:\n",
    "        for lr in [0.01, 0.1, 1]:\n",
    "            train_GB(n_est, max_depth, lr)"
   ]
  },
  {
   "cell_type": "code",
   "execution_count": 23,
   "metadata": {},
   "outputs": [
    {
     "name": "stderr",
     "output_type": "stream",
     "text": [
      "C:\\anaconda_python\\lib\\site-packages\\xgboost\\core.py:587: FutureWarning: Series.base is deprecated and will be removed in a future version\n",
      "  if getattr(data, 'base', None) is not None and \\\n"
     ]
    },
    {
     "name": "stdout",
     "output_type": "stream",
     "text": [
      "[21:36:38] WARNING: C:/Jenkins/workspace/xgboost-win64_release_0.90/src/objective/regression_obj.cu:152: reg:linear is now deprecated in favor of reg:squarederror.\n",
      "Fit time: 13.173 / Predict time: 0.172 ---- MAE: 0.863 / R^2: 0.085\n"
     ]
    }
   ],
   "source": [
    "from xgboost import XGBRegressor\n",
    "gb = XGBRegressor(n_estimators=150, max_depth=7, learning_rate=0.1, n_jobs=-1)\n",
    "\n",
    "start = time.time()\n",
    "gb_model = gb.fit(OH_train_X, train_y)\n",
    "end = time.time()\n",
    "fit_time = (end - start)\n",
    "\n",
    "start = time.time()\n",
    "y_pred = gb_model.predict(OH_val_X)\n",
    "end = time.time()\n",
    "pred_time = (end - start)\n",
    "mae_x=mean_absolute_error(val_y, y_pred)\n",
    "r2 =r2_score(val_y,y_pred)\n",
    "print('Fit time: {} / Predict time: {} ---- MAE: {} / R^2: {}'.format(\n",
    "    round(fit_time, 3), round(pred_time, 3), round(mae_x, 3), round(r2,3)))"
   ]
  },
  {
   "cell_type": "code",
   "execution_count": 33,
   "metadata": {},
   "outputs": [
    {
     "name": "stderr",
     "output_type": "stream",
     "text": [
      "C:\\anaconda_python\\lib\\site-packages\\xgboost\\core.py:587: FutureWarning: Series.base is deprecated and will be removed in a future version\n",
      "  if getattr(data, 'base', None) is not None and \\\n"
     ]
    },
    {
     "name": "stdout",
     "output_type": "stream",
     "text": [
      "[18:44:38] WARNING: C:/Jenkins/workspace/xgboost-win64_release_0.90/src/objective/regression_obj.cu:152: reg:linear is now deprecated in favor of reg:squarederror.\n",
      "Fit time: 13.329 / Predict time: 0.161 ---- MAE: 0.863 / R^2: 0.088\n"
     ]
    }
   ],
   "source": [
    "from xgboost import XGBRegressor\n",
    "xg = XGBRegressor(n_estimators=100, max_depth=10, n_jobs=-1)\n",
    "\n",
    "start = time.time()\n",
    "xg_model = xg.fit(OH_train_X, train_y)\n",
    "end = time.time()\n",
    "fit_time = (end - start)\n",
    "\n",
    "start = time.time()\n",
    "y_pred = xg_model.predict(OH_val_X)\n",
    "end = time.time()\n",
    "pred_time = (end - start)\n",
    "mae_x=mean_absolute_error(val_y, y_pred)\n",
    "r2 =r2_score(val_y,y_pred)\n",
    "print('Fit time: {} / Predict time: {} ---- MAE: {} / R^2: {}'.format(\n",
    "    round(fit_time, 3), round(pred_time, 3), round(mae_x, 3), round(r2,3)))"
   ]
  },
  {
   "cell_type": "code",
   "execution_count": 25,
   "metadata": {},
   "outputs": [
    {
     "data": {
      "image/png": "[encoded data removed]",
      "text/plain": [
       "<Figure size 432x288 with 1 Axes>"
      ]
     },
     "metadata": {
      "needs_background": "light"
     },
     "output_type": "display_data"
    }
   ],
   "source": [
    "fig, ax = plt.subplots()\n",
    "ax.scatter(val_y, y_pred)\n",
    "ax.plot([val_y.min(), val_y.max()], [val_y.min(), val_y.max()], 'k--', lw=4)\n",
    "ax.set_xlabel('Actual')\n",
    "ax.set_ylabel('Predicted')\n",
    "plt.show()"
   ]
  },
  {
   "cell_type": "code",
   "execution_count": 24,
   "metadata": {},
   "outputs": [
    {
     "data": {
      "text/plain": [
       "XGBRegressor(base_score=0.5, booster='gbtree', colsample_bylevel=1,\n",
       "       colsample_bynode=1, colsample_bytree=1, gamma=0,\n",
       "       importance_type='gain', learning_rate=0.1, max_delta_step=0,\n",
       "       max_depth=7, min_child_weight=1, missing=None, n_estimators=150,\n",
       "       n_jobs=-1, nthread=None, objective='reg:linear', random_state=0,\n",
       "       reg_alpha=0, reg_lambda=1, scale_pos_weight=1, seed=None,\n",
       "       silent=None, subsample=1, verbosity=1)"
      ]
     },
     "execution_count": 24,
     "metadata": {},
     "output_type": "execute_result"
    }
   ],
   "source": [
    "gb_model"
   ]
  },
  {
   "cell_type": "code",
   "execution_count": 59,
   "metadata": {},
   "outputs": [
    {
     "ename": "NameError",
     "evalue": "name 'scores' is not defined",
     "output_type": "error",
     "traceback": [
      "\u001b[1;31m---------------------------------------------------------------------------\u001b[0m",
      "\u001b[1;31mNameError\u001b[0m                                 Traceback (most recent call last)",
      "\u001b[1;32m<ipython-input-59-fa8cef49474b>\u001b[0m in \u001b[0;36m<module>\u001b[1;34m\u001b[0m\n\u001b[1;32m----> 1\u001b[1;33m \u001b[0mscores\u001b[0m\u001b[1;33m\u001b[0m\u001b[1;33m\u001b[0m\u001b[0m\n\u001b[0m",
      "\u001b[1;31mNameError\u001b[0m: name 'scores' is not defined"
     ]
    }
   ],
   "source": [
    "#import pickle\n",
    "#filename = 'finalized_model_demo.sav'\n",
    "#pickle.dump(model, open(filename, 'wb'))\n",
    "\n",
    "#filename = 'finalized_model_demo.sav'\n",
    "#loaded_model = pickle.load(open(filename, 'rb'))\n",
    "#test pickle\n",
    "#from sklearn.metrics import mean_absolute_error\n",
    "#extension_preds = loaded_model.predict(test_X)\n",
    "#mae_x=mean_absolute_error(test_y, extension_preds)\n",
    "#print('The mean absolute error is {} which is about {:.2%} of the mean extension'.format(mae_x,(mae_x/mean_x_total)))"
   ]
  },
  {
   "cell_type": "code",
   "execution_count": 26,
   "metadata": {},
   "outputs": [],
   "source": [
    "import pickle\n",
    "filename = './models/xgmodel_A1.sav'\n",
    "pickle.dump(gb_model, open(filename, 'wb'))"
   ]
  },
  {
   "cell_type": "code",
   "execution_count": 27,
   "metadata": {},
   "outputs": [
    {
     "name": "stdout",
     "output_type": "stream",
     "text": [
      "[0.00819394 0.01413456 0.05657678 0.01594974 0.00683653 0.57577676\n",
      " 0.01046662 0.03128027 0.00530374 0.         0.00627081 0.01098838\n",
      " 0.00645253 0.07611864 0.09295049 0.03436321 0.02685539 0.02148158]\n"
     ]
    }
   ],
   "source": [
    "print(gb_model.feature_importances_)"
   ]
  },
  {
   "cell_type": "code",
   "execution_count": 28,
   "metadata": {},
   "outputs": [
    {
     "data": {
      "image/png": "[encoded data removed]",
      "text/plain": [
       "<Figure size 432x288 with 1 Axes>"
      ]
     },
     "metadata": {
      "needs_background": "light"
     },
     "output_type": "display_data"
    }
   ],
   "source": [
    "plt.bar(range(len(gb_model.feature_importances_)), gb_model.feature_importances_)\n",
    "plt.show()"
   ]
  },
  {
   "cell_type": "code",
   "execution_count": 29,
   "metadata": {},
   "outputs": [
    {
     "data": {
      "text/html": [
       "<div>\n",
       "<style scoped>\n",
       "    .dataframe tbody tr th:only-of-type {\n",
       "        vertical-align: middle;\n",
       "    }\n",
       "\n",
       "    .dataframe tbody tr th {\n",
       "        vertical-align: top;\n",
       "    }\n",
       "\n",
       "    .dataframe thead th {\n",
       "        text-align: right;\n",
       "    }\n",
       "</style>\n",
       "<table border=\"1\" class=\"dataframe\">\n",
       "  <thead>\n",
       "    <tr style=\"text-align: right;\">\n",
       "      <th></th>\n",
       "      <th>breeds.mixed</th>\n",
       "      <th>attributes.spayed_neutered</th>\n",
       "      <th>attributes.house_trained</th>\n",
       "      <th>attributes.shots_current</th>\n",
       "      <th>0</th>\n",
       "      <th>1</th>\n",
       "      <th>2</th>\n",
       "      <th>3</th>\n",
       "      <th>4</th>\n",
       "      <th>5</th>\n",
       "      <th>6</th>\n",
       "      <th>7</th>\n",
       "      <th>8</th>\n",
       "      <th>9</th>\n",
       "      <th>10</th>\n",
       "      <th>11</th>\n",
       "      <th>12</th>\n",
       "      <th>13</th>\n",
       "    </tr>\n",
       "  </thead>\n",
       "  <tbody>\n",
       "    <tr>\n",
       "      <th>2223</th>\n",
       "      <td>True</td>\n",
       "      <td>True</td>\n",
       "      <td>True</td>\n",
       "      <td>True</td>\n",
       "      <td>0.0</td>\n",
       "      <td>1.0</td>\n",
       "      <td>0.0</td>\n",
       "      <td>0.0</td>\n",
       "      <td>0.0</td>\n",
       "      <td>1.0</td>\n",
       "      <td>0.0</td>\n",
       "      <td>0.0</td>\n",
       "      <td>1.0</td>\n",
       "      <td>0.0</td>\n",
       "      <td>1.0</td>\n",
       "      <td>0.0</td>\n",
       "      <td>0.0</td>\n",
       "      <td>0.0</td>\n",
       "    </tr>\n",
       "    <tr>\n",
       "      <th>4379</th>\n",
       "      <td>False</td>\n",
       "      <td>True</td>\n",
       "      <td>False</td>\n",
       "      <td>True</td>\n",
       "      <td>0.0</td>\n",
       "      <td>0.0</td>\n",
       "      <td>0.0</td>\n",
       "      <td>1.0</td>\n",
       "      <td>0.0</td>\n",
       "      <td>1.0</td>\n",
       "      <td>0.0</td>\n",
       "      <td>0.0</td>\n",
       "      <td>0.0</td>\n",
       "      <td>1.0</td>\n",
       "      <td>0.0</td>\n",
       "      <td>0.0</td>\n",
       "      <td>0.0</td>\n",
       "      <td>1.0</td>\n",
       "    </tr>\n",
       "    <tr>\n",
       "      <th>91798</th>\n",
       "      <td>False</td>\n",
       "      <td>True</td>\n",
       "      <td>False</td>\n",
       "      <td>True</td>\n",
       "      <td>0.0</td>\n",
       "      <td>1.0</td>\n",
       "      <td>0.0</td>\n",
       "      <td>0.0</td>\n",
       "      <td>1.0</td>\n",
       "      <td>0.0</td>\n",
       "      <td>0.0</td>\n",
       "      <td>1.0</td>\n",
       "      <td>0.0</td>\n",
       "      <td>0.0</td>\n",
       "      <td>0.0</td>\n",
       "      <td>0.0</td>\n",
       "      <td>1.0</td>\n",
       "      <td>0.0</td>\n",
       "    </tr>\n",
       "    <tr>\n",
       "      <th>96250</th>\n",
       "      <td>False</td>\n",
       "      <td>True</td>\n",
       "      <td>True</td>\n",
       "      <td>True</td>\n",
       "      <td>1.0</td>\n",
       "      <td>0.0</td>\n",
       "      <td>0.0</td>\n",
       "      <td>0.0</td>\n",
       "      <td>1.0</td>\n",
       "      <td>0.0</td>\n",
       "      <td>0.0</td>\n",
       "      <td>0.0</td>\n",
       "      <td>1.0</td>\n",
       "      <td>0.0</td>\n",
       "      <td>0.0</td>\n",
       "      <td>0.0</td>\n",
       "      <td>0.0</td>\n",
       "      <td>1.0</td>\n",
       "    </tr>\n",
       "    <tr>\n",
       "      <th>92776</th>\n",
       "      <td>True</td>\n",
       "      <td>True</td>\n",
       "      <td>True</td>\n",
       "      <td>True</td>\n",
       "      <td>1.0</td>\n",
       "      <td>0.0</td>\n",
       "      <td>0.0</td>\n",
       "      <td>0.0</td>\n",
       "      <td>0.0</td>\n",
       "      <td>1.0</td>\n",
       "      <td>0.0</td>\n",
       "      <td>0.0</td>\n",
       "      <td>1.0</td>\n",
       "      <td>0.0</td>\n",
       "      <td>0.0</td>\n",
       "      <td>1.0</td>\n",
       "      <td>0.0</td>\n",
       "      <td>0.0</td>\n",
       "    </tr>\n",
       "  </tbody>\n",
       "</table>\n",
       "</div>"
      ],
      "text/plain": [
       "       breeds.mixed  attributes.spayed_neutered  attributes.house_trained  \\\n",
       "2223           True                        True                      True   \n",
       "4379          False                        True                     False   \n",
       "91798         False                        True                     False   \n",
       "96250         False                        True                      True   \n",
       "92776          True                        True                      True   \n",
       "\n",
       "       attributes.shots_current    0    1    2    3    4    5    6    7    8  \\\n",
       "2223                       True  0.0  1.0  0.0  0.0  0.0  1.0  0.0  0.0  1.0   \n",
       "4379                       True  0.0  0.0  0.0  1.0  0.0  1.0  0.0  0.0  0.0   \n",
       "91798                      True  0.0  1.0  0.0  0.0  1.0  0.0  0.0  1.0  0.0   \n",
       "96250                      True  1.0  0.0  0.0  0.0  1.0  0.0  0.0  0.0  1.0   \n",
       "92776                      True  1.0  0.0  0.0  0.0  0.0  1.0  0.0  0.0  1.0   \n",
       "\n",
       "         9   10   11   12   13  \n",
       "2223   0.0  1.0  0.0  0.0  0.0  \n",
       "4379   1.0  0.0  0.0  0.0  1.0  \n",
       "91798  0.0  0.0  0.0  1.0  0.0  \n",
       "96250  0.0  0.0  0.0  0.0  1.0  \n",
       "92776  0.0  0.0  1.0  0.0  0.0  "
      ]
     },
     "execution_count": 29,
     "metadata": {},
     "output_type": "execute_result"
    }
   ],
   "source": [
    "OH_train_X.head()"
   ]
  },
  {
   "cell_type": "code",
   "execution_count": 37,
   "metadata": {},
   "outputs": [],
   "source": [
    "a=OH_train_X.iloc[0]"
   ]
  },
  {
   "cell_type": "code",
   "execution_count": 38,
   "metadata": {},
   "outputs": [
    {
     "data": {
      "text/plain": [
       "breeds.mixed                  True\n",
       "attributes.spayed_neutered    True\n",
       "attributes.house_trained      True\n",
       "attributes.shots_current      True\n",
       "0                                0\n",
       "1                                1\n",
       "2                                0\n",
       "3                                0\n",
       "4                                0\n",
       "5                                1\n",
       "6                                0\n",
       "7                                0\n",
       "8                                1\n",
       "9                                0\n",
       "10                               1\n",
       "11                               0\n",
       "12                               0\n",
       "13                               0\n",
       "Name: 2223, dtype: object"
      ]
     },
     "execution_count": 38,
     "metadata": {},
     "output_type": "execute_result"
    }
   ],
   "source": [
    "a"
   ]
  },
  {
   "cell_type": "code",
   "execution_count": 47,
   "metadata": {},
   "outputs": [],
   "source": [
    "xnew = [[True, True, True, True, 0, 1, 0, 0, 0, 1, 0, 0, 1, 0, 1, 0, 0, 0]]"
   ]
  },
  {
   "cell_type": "code",
   "execution_count": 50,
   "metadata": {},
   "outputs": [],
   "source": [
    "d = pd.DataFrame(xnew, columns=['breeds.mixed', 'attributes.spayed_neutered', 'attributes.house_trained', 'attributes.shots_current', '0', '1', '2', '3', '4', '5', '6', '7', '8', '9', '10', '11', '12', '13'])"
   ]
  },
  {
   "cell_type": "code",
   "execution_count": 51,
   "metadata": {},
   "outputs": [
    {
     "data": {
      "text/html": [
       "<div>\n",
       "<style scoped>\n",
       "    .dataframe tbody tr th:only-of-type {\n",
       "        vertical-align: middle;\n",
       "    }\n",
       "\n",
       "    .dataframe tbody tr th {\n",
       "        vertical-align: top;\n",
       "    }\n",
       "\n",
       "    .dataframe thead th {\n",
       "        text-align: right;\n",
       "    }\n",
       "</style>\n",
       "<table border=\"1\" class=\"dataframe\">\n",
       "  <thead>\n",
       "    <tr style=\"text-align: right;\">\n",
       "      <th></th>\n",
       "      <th>breeds.mixed</th>\n",
       "      <th>attributes.spayed_neutered</th>\n",
       "      <th>attributes.house_trained</th>\n",
       "      <th>attributes.shots_current</th>\n",
       "      <th>0</th>\n",
       "      <th>1</th>\n",
       "      <th>2</th>\n",
       "      <th>3</th>\n",
       "      <th>4</th>\n",
       "      <th>5</th>\n",
       "      <th>6</th>\n",
       "      <th>7</th>\n",
       "      <th>8</th>\n",
       "      <th>9</th>\n",
       "      <th>10</th>\n",
       "      <th>11</th>\n",
       "      <th>12</th>\n",
       "      <th>13</th>\n",
       "    </tr>\n",
       "  </thead>\n",
       "  <tbody>\n",
       "    <tr>\n",
       "      <th>0</th>\n",
       "      <td>True</td>\n",
       "      <td>True</td>\n",
       "      <td>True</td>\n",
       "      <td>True</td>\n",
       "      <td>0</td>\n",
       "      <td>1</td>\n",
       "      <td>0</td>\n",
       "      <td>0</td>\n",
       "      <td>0</td>\n",
       "      <td>1</td>\n",
       "      <td>0</td>\n",
       "      <td>0</td>\n",
       "      <td>1</td>\n",
       "      <td>0</td>\n",
       "      <td>1</td>\n",
       "      <td>0</td>\n",
       "      <td>0</td>\n",
       "      <td>0</td>\n",
       "    </tr>\n",
       "  </tbody>\n",
       "</table>\n",
       "</div>"
      ],
      "text/plain": [
       "   breeds.mixed  attributes.spayed_neutered  attributes.house_trained  \\\n",
       "0          True                        True                      True   \n",
       "\n",
       "   attributes.shots_current  0  1  2  3  4  5  6  7  8  9  10  11  12  13  \n",
       "0                      True  0  1  0  0  0  1  0  0  1  0   1   0   0   0  "
      ]
     },
     "execution_count": 51,
     "metadata": {},
     "output_type": "execute_result"
    }
   ],
   "source": [
    "d"
   ]
  },
  {
   "cell_type": "code",
   "execution_count": 53,
   "metadata": {},
   "outputs": [
    {
     "data": {
      "text/plain": [
       "array([30.07968], dtype=float32)"
      ]
     },
     "execution_count": 53,
     "metadata": {},
     "output_type": "execute_result"
    }
   ],
   "source": [
    "np.exp(gb_model.predict(d))"
   ]
  },
  {
   "cell_type": "code",
   "execution_count": 54,
   "metadata": {},
   "outputs": [
    {
     "data": {
      "text/html": [
       "<div>\n",
       "<style scoped>\n",
       "    .dataframe tbody tr th:only-of-type {\n",
       "        vertical-align: middle;\n",
       "    }\n",
       "\n",
       "    .dataframe tbody tr th {\n",
       "        vertical-align: top;\n",
       "    }\n",
       "\n",
       "    .dataframe thead th {\n",
       "        text-align: right;\n",
       "    }\n",
       "</style>\n",
       "<table border=\"1\" class=\"dataframe\">\n",
       "  <thead>\n",
       "    <tr style=\"text-align: right;\">\n",
       "      <th></th>\n",
       "      <th>breeds.mixed</th>\n",
       "      <th>attributes.spayed_neutered</th>\n",
       "      <th>attributes.house_trained</th>\n",
       "      <th>attributes.shots_current</th>\n",
       "      <th>0</th>\n",
       "      <th>1</th>\n",
       "      <th>2</th>\n",
       "      <th>3</th>\n",
       "      <th>4</th>\n",
       "      <th>5</th>\n",
       "      <th>6</th>\n",
       "      <th>7</th>\n",
       "      <th>8</th>\n",
       "      <th>9</th>\n",
       "      <th>10</th>\n",
       "      <th>11</th>\n",
       "      <th>12</th>\n",
       "      <th>13</th>\n",
       "    </tr>\n",
       "  </thead>\n",
       "  <tbody>\n",
       "    <tr>\n",
       "      <th>0</th>\n",
       "      <td>True</td>\n",
       "      <td>True</td>\n",
       "      <td>True</td>\n",
       "      <td>True</td>\n",
       "      <td>0</td>\n",
       "      <td>1</td>\n",
       "      <td>0</td>\n",
       "      <td>0</td>\n",
       "      <td>0</td>\n",
       "      <td>1</td>\n",
       "      <td>0</td>\n",
       "      <td>0</td>\n",
       "      <td>1</td>\n",
       "      <td>0</td>\n",
       "      <td>0</td>\n",
       "      <td>1</td>\n",
       "      <td>0</td>\n",
       "      <td>0</td>\n",
       "    </tr>\n",
       "  </tbody>\n",
       "</table>\n",
       "</div>"
      ],
      "text/plain": [
       "   breeds.mixed  attributes.spayed_neutered  attributes.house_trained  \\\n",
       "0          True                        True                      True   \n",
       "\n",
       "   attributes.shots_current  0  1  2  3  4  5  6  7  8  9  10  11  12  13  \n",
       "0                      True  0  1  0  0  0  1  0  0  1  0   0   1   0   0  "
      ]
     },
     "execution_count": 54,
     "metadata": {},
     "output_type": "execute_result"
    }
   ],
   "source": [
    "d['10'] = 0\n",
    "d['11'] = 1\n",
    "d"
   ]
  },
  {
   "cell_type": "code",
   "execution_count": 55,
   "metadata": {},
   "outputs": [
    {
     "data": {
      "text/plain": [
       "array([19.768171], dtype=float32)"
      ]
     },
     "execution_count": 55,
     "metadata": {},
     "output_type": "execute_result"
    }
   ],
   "source": [
    "np.exp(gb_model.predict(d))"
   ]
  },
  {
   "cell_type": "code",
   "execution_count": 56,
   "metadata": {},
   "outputs": [
    {
     "data": {
      "text/plain": [
       "array([21.004389], dtype=float32)"
      ]
     },
     "execution_count": 56,
     "metadata": {},
     "output_type": "execute_result"
    }
   ],
   "source": [
    "d['11'] = 0\n",
    "d['12'] = 1\n",
    "np.exp(gb_model.predict(d))"
   ]
  },
  {
   "cell_type": "code",
   "execution_count": 57,
   "metadata": {},
   "outputs": [
    {
     "data": {
      "text/plain": [
       "array([31.470345], dtype=float32)"
      ]
     },
     "execution_count": 57,
     "metadata": {},
     "output_type": "execute_result"
    }
   ],
   "source": [
    "d['12'] = 0\n",
    "d['13'] = 1\n",
    "np.exp(gb_model.predict(d))"
   ]
  },
  {
   "cell_type": "code",
   "execution_count": 44,
   "metadata": {},
   "outputs": [
    {
     "name": "stdout",
     "output_type": "stream",
     "text": [
      "Fit time: 0.243 / Predict time: 0.028 ---- MAE: 0.876 / R^2: 0.069\n"
     ]
    }
   ],
   "source": [
    "#Linear regression\n",
    "from sklearn.linear_model import LinearRegression\n",
    "lr = LinearRegression()\n",
    "\n",
    "start = time.time()\n",
    "lr_model = lr.fit(OH_train_X, train_y)\n",
    "end = time.time()\n",
    "fit_time = (end - start)\n",
    "\n",
    "start = time.time()\n",
    "y_pred = lr_model.predict(OH_val_X)\n",
    "end = time.time()\n",
    "pred_time = (end - start)\n",
    "mae_x=mean_absolute_error(val_y, y_pred)\n",
    "r2 =r2_score(val_y,y_pred)\n",
    "print('Fit time: {} / Predict time: {} ---- MAE: {} / R^2: {}'.format(\n",
    "    round(fit_time, 3), round(pred_time, 3), round(mae_x, 3), round(r2,3)))"
   ]
  },
  {
   "cell_type": "code",
   "execution_count": 48,
   "metadata": {},
   "outputs": [
    {
     "name": "stdout",
     "output_type": "stream",
     "text": [
      "{'alpha': 10}\n",
      "0.06972839584829206\n"
     ]
    }
   ],
   "source": [
    "from sklearn.model_selection import GridSearchCV\n",
    "from sklearn.linear_model import Ridge\n",
    "ridge = Ridge()\n",
    "params = {'alpha': [0.001, 0.01, 0.1, 1, 5, 10]}\n",
    "ridge_regressor = GridSearchCV(ridge, params, scoring='r2', cv=5)\n",
    "ridge_regressor.fit(OH_train_X, train_y)\n",
    "print(ridge_regressor.best_params_)\n",
    "print(ridge_regressor.best_score_)"
   ]
  },
  {
   "cell_type": "code",
   "execution_count": 49,
   "metadata": {},
   "outputs": [
    {
     "name": "stderr",
     "output_type": "stream",
     "text": [
      "C:\\anaconda_python\\lib\\site-packages\\sklearn\\linear_model\\coordinate_descent.py:492: ConvergenceWarning: Objective did not converge. You might want to increase the number of iterations. Fitting data with very small alpha may cause precision problems.\n",
      "  ConvergenceWarning)\n",
      "C:\\anaconda_python\\lib\\site-packages\\sklearn\\linear_model\\coordinate_descent.py:492: ConvergenceWarning: Objective did not converge. You might want to increase the number of iterations. Fitting data with very small alpha may cause precision problems.\n",
      "  ConvergenceWarning)\n",
      "C:\\anaconda_python\\lib\\site-packages\\sklearn\\linear_model\\coordinate_descent.py:492: ConvergenceWarning: Objective did not converge. You might want to increase the number of iterations. Fitting data with very small alpha may cause precision problems.\n",
      "  ConvergenceWarning)\n",
      "C:\\anaconda_python\\lib\\site-packages\\sklearn\\linear_model\\coordinate_descent.py:492: ConvergenceWarning: Objective did not converge. You might want to increase the number of iterations. Fitting data with very small alpha may cause precision problems.\n",
      "  ConvergenceWarning)\n",
      "C:\\anaconda_python\\lib\\site-packages\\sklearn\\linear_model\\coordinate_descent.py:492: ConvergenceWarning: Objective did not converge. You might want to increase the number of iterations. Fitting data with very small alpha may cause precision problems.\n",
      "  ConvergenceWarning)\n",
      "C:\\anaconda_python\\lib\\site-packages\\sklearn\\linear_model\\coordinate_descent.py:492: ConvergenceWarning: Objective did not converge. You might want to increase the number of iterations. Fitting data with very small alpha may cause precision problems.\n",
      "  ConvergenceWarning)\n",
      "C:\\anaconda_python\\lib\\site-packages\\sklearn\\linear_model\\coordinate_descent.py:492: ConvergenceWarning: Objective did not converge. You might want to increase the number of iterations. Fitting data with very small alpha may cause precision problems.\n",
      "  ConvergenceWarning)\n",
      "C:\\anaconda_python\\lib\\site-packages\\sklearn\\linear_model\\coordinate_descent.py:492: ConvergenceWarning: Objective did not converge. You might want to increase the number of iterations. Fitting data with very small alpha may cause precision problems.\n",
      "  ConvergenceWarning)\n",
      "C:\\anaconda_python\\lib\\site-packages\\sklearn\\linear_model\\coordinate_descent.py:492: ConvergenceWarning: Objective did not converge. You might want to increase the number of iterations. Fitting data with very small alpha may cause precision problems.\n",
      "  ConvergenceWarning)\n",
      "C:\\anaconda_python\\lib\\site-packages\\sklearn\\linear_model\\coordinate_descent.py:492: ConvergenceWarning: Objective did not converge. You might want to increase the number of iterations. Fitting data with very small alpha may cause precision problems.\n",
      "  ConvergenceWarning)\n"
     ]
    },
    {
     "name": "stdout",
     "output_type": "stream",
     "text": [
      "{'alpha': 10}\n",
      "0.06972839584829206\n"
     ]
    },
    {
     "name": "stderr",
     "output_type": "stream",
     "text": [
      "C:\\anaconda_python\\lib\\site-packages\\sklearn\\linear_model\\coordinate_descent.py:492: ConvergenceWarning: Objective did not converge. You might want to increase the number of iterations. Fitting data with very small alpha may cause precision problems.\n",
      "  ConvergenceWarning)\n"
     ]
    }
   ],
   "source": [
    "from sklearn.linear_model import Lasso\n",
    "lasso = Lasso()\n",
    "params = {'alpha': [1e-10, 1e-5, 1e-3, 1, 10, 30]}\n",
    "lasso_regressor = GridSearchCV(lasso, params, scoring='r2', cv=5)\n",
    "lasso_regressor.fit(OH_train_X, train_y)\n",
    "print(ridge_regressor.best_params_)\n",
    "print(ridge_regressor.best_score_)"
   ]
  },
  {
   "cell_type": "code",
   "execution_count": 50,
   "metadata": {},
   "outputs": [
    {
     "name": "stdout",
     "output_type": "stream",
     "text": [
      "{'alpha': 1e-05}\n",
      "0.06973029023361599\n"
     ]
    }
   ],
   "source": [
    "print(lasso_regressor.best_params_)\n",
    "print(lasso_regressor.best_score_)"
   ]
  },
  {
   "cell_type": "code",
   "execution_count": null,
   "metadata": {},
   "outputs": [],
   "source": [
    "#Lasso regression\n",
    "from sklearn.linear_model import Lasso\n",
    "lasso = Lasso()\n",
    "\n",
    "start = time.time()\n",
    "lr_model = lr.fit(OH_train_X, train_y)\n",
    "end = time.time()\n",
    "fit_time = (end - start)\n",
    "\n",
    "start = time.time()\n",
    "y_pred = lr_model.predict(OH_val_X)\n",
    "end = time.time()\n",
    "pred_time = (end - start)\n",
    "mae_x=mean_absolute_error(val_y, y_pred)\n",
    "r2 =r2_score(val_y,y_pred)\n",
    "print('Fit time: {} / Predict time: {} ---- MAE: {} / R^2: {}'.format(\n",
    "    round(fit_time, 3), round(pred_time, 3), round(mae_x, 3), round(r2,3)))"
   ]
  },
  {
   "cell_type": "code",
   "execution_count": 57,
   "metadata": {},
   "outputs": [],
   "source": [
    "alphas = 10**np.linspace(10,-2,100)*0.5"
   ]
  },
  {
   "cell_type": "code",
   "execution_count": 60,
   "metadata": {},
   "outputs": [
    {
     "data": {
      "text/plain": [
       "0.005"
      ]
     },
     "execution_count": 60,
     "metadata": {},
     "output_type": "execute_result"
    }
   ],
   "source": [
    "from sklearn.linear_model import RidgeCV\n",
    "rcv = RidgeCV(alphas=alphas, scoring='r2', normalize=True)\n",
    "rcv.fit(OH_train_X, train_y)\n",
    "rcv.alpha_"
   ]
  },
  {
   "cell_type": "code",
   "execution_count": 63,
   "metadata": {},
   "outputs": [
    {
     "data": {
      "text/plain": [
       "0.06922171956313983"
      ]
     },
     "execution_count": 63,
     "metadata": {},
     "output_type": "execute_result"
    }
   ],
   "source": [
    "ridgemodel = Ridge(alpha = rcv.alpha_, normalize = True)\n",
    "ridgemodel.fit(OH_train_X, train_y)\n",
    "y_pred = ridgemodel.predict(OH_val_X)\n",
    "r2 =r2_score(val_y,y_pred)\n",
    "r2"
   ]
  },
  {
   "cell_type": "code",
   "execution_count": 64,
   "metadata": {},
   "outputs": [
    {
     "data": {
      "text/plain": [
       "breeds.mixed                  0.011778\n",
       "breeds.unknown                0.000000\n",
       "attributes.spayed_neutered    0.044283\n",
       "attributes.house_trained      0.238269\n",
       "attributes.special_needs      0.432499\n",
       "attributes.shots_current      0.099156\n",
       "0                             0.169981\n",
       "1                            -0.276809\n",
       "2                             0.352069\n",
       "3                             0.083693\n",
       "4                             0.001179\n",
       "5                            -0.001202\n",
       "6                             0.027061\n",
       "7                            -0.074519\n",
       "8                             0.113026\n",
       "9                             0.050514\n",
       "10                           -0.120750\n",
       "11                           -0.109579\n",
       "12                            0.034705\n",
       "13                            0.005263\n",
       "14                            0.065023\n",
       "dtype: float64"
      ]
     },
     "execution_count": 64,
     "metadata": {},
     "output_type": "execute_result"
    }
   ],
   "source": [
    "pd.Series(ridgemodel.coef_, index = OH_val_X.columns)"
   ]
  },
  {
   "cell_type": "code",
   "execution_count": 66,
   "metadata": {},
   "outputs": [
    {
     "name": "stderr",
     "output_type": "stream",
     "text": [
      "C:\\anaconda_python\\lib\\site-packages\\sklearn\\model_selection\\_split.py:2053: FutureWarning: You should specify a value for 'cv' instead of relying on the default value. The default value will change from 3 to 5 in version 0.22.\n",
      "  warnings.warn(CV_WARNING, FutureWarning)\n"
     ]
    },
    {
     "data": {
      "text/plain": [
       "5000000000.0"
      ]
     },
     "execution_count": 66,
     "metadata": {},
     "output_type": "execute_result"
    }
   ],
   "source": [
    "from sklearn.linear_model import LassoCV\n",
    "lcv = LassoCV(alphas=alphas, max_iter=100000, normalize=True)\n",
    "lcv.fit(OH_train_X, train_y)\n",
    "lcv.alpha_"
   ]
  },
  {
   "cell_type": "code",
   "execution_count": 70,
   "metadata": {},
   "outputs": [
    {
     "data": {
      "text/plain": [
       "-0.00012802684020307709"
      ]
     },
     "execution_count": 70,
     "metadata": {},
     "output_type": "execute_result"
    }
   ],
   "source": [
    "lmodel = Lasso(alpha = 0.005, max_iter=100000, normalize = True)\n",
    "lmodel.fit(OH_train_X, train_y)\n",
    "y_pred = lmodel.predict(OH_val_X)\n",
    "r2 =r2_score(val_y,y_pred)\n",
    "r2"
   ]
  },
  {
   "cell_type": "code",
   "execution_count": 72,
   "metadata": {},
   "outputs": [
    {
     "data": {
      "text/plain": [
       "98217"
      ]
     },
     "execution_count": 72,
     "metadata": {},
     "output_type": "execute_result"
    }
   ],
   "source": [
    "len(train_y)"
   ]
  },
  {
   "cell_type": "code",
   "execution_count": 51,
   "metadata": {},
   "outputs": [
    {
     "name": "stdout",
     "output_type": "stream",
     "text": [
      "Fit time: 0.158 / Predict time: 0.029 ---- MAE: 0.876 / R^2: 0.069\n"
     ]
    }
   ],
   "source": [
    "#Ridge regression\n",
    "from sklearn.linear_model import Ridge\n",
    "rr = Ridge()\n",
    "\n",
    "start = time.time()\n",
    "rr_model = rr.fit(OH_train_X, train_y)\n",
    "end = time.time()\n",
    "fit_time = (end - start)\n",
    "\n",
    "start = time.time()\n",
    "y_pred = rr_model.predict(OH_val_X)\n",
    "end = time.time()\n",
    "pred_time = (end - start)\n",
    "mae_x=mean_absolute_error(val_y, y_pred)\n",
    "r2 =r2_score(val_y,y_pred)\n",
    "print('Fit time: {} / Predict time: {} ---- MAE: {} / R^2: {}'.format(\n",
    "    round(fit_time, 3), round(pred_time, 3), round(mae_x, 3), round(r2,3)))"
   ]
  }
 ],
 "metadata": {
  "kernelspec": {
   "display_name": "Python 3",
   "language": "python",
   "name": "python3"
  },
  "language_info": {
   "codemirror_mode": {
    "name": "ipython",
    "version": 3
   },
   "file_extension": ".py",
   "mimetype": "text/x-python",
   "name": "python",
   "nbconvert_exporter": "python",
   "pygments_lexer": "ipython3",
   "version": "3.7.3"
  }
 },
 "nbformat": 4,
 "nbformat_minor": 2
}
