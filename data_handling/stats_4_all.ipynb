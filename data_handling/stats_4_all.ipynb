{
 "cells": [
  {
   "cell_type": "code",
   "execution_count": 207,
   "metadata": {},
   "outputs": [],
   "source": [
    "#merge data from several states\n",
    "import numpy as np\n",
    "import pandas as pd\n",
    "import json\n",
    "from pandas.io.json import json_normalize\n",
    "import matplotlib.pyplot as plt\n",
    "import pprint\n",
    "import seaborn as sns\n",
    "from pprint import pprint"
   ]
  },
  {
   "cell_type": "code",
   "execution_count": 208,
   "metadata": {},
   "outputs": [],
   "source": [
    "alldogs_merged = pd.read_csv('./data_all/alldogs_merged_all.csv')\n",
    "#state={'CA':'Los Angeles', 'MN': 'Minneapolis', 'NY':'New York', 'TX': 'Houston'}"
   ]
  },
  {
   "cell_type": "code",
   "execution_count": 209,
   "metadata": {},
   "outputs": [
    {
     "data": {
      "text/plain": [
       "1472050"
      ]
     },
     "execution_count": 209,
     "metadata": {},
     "output_type": "execute_result"
    }
   ],
   "source": [
    "len(alldogs_merged)"
   ]
  },
  {
   "cell_type": "code",
   "execution_count": 210,
   "metadata": {},
   "outputs": [
    {
     "data": {
      "text/html": [
       "<div>\n",
       "<style scoped>\n",
       "    .dataframe tbody tr th:only-of-type {\n",
       "        vertical-align: middle;\n",
       "    }\n",
       "\n",
       "    .dataframe tbody tr th {\n",
       "        vertical-align: top;\n",
       "    }\n",
       "\n",
       "    .dataframe thead th {\n",
       "        text-align: right;\n",
       "    }\n",
       "</style>\n",
       "<table border=\"1\" class=\"dataframe\">\n",
       "  <thead>\n",
       "    <tr style=\"text-align: right;\">\n",
       "      <th></th>\n",
       "      <th>adoption_time</th>\n",
       "      <th>age</th>\n",
       "      <th>attributes.declawed</th>\n",
       "      <th>attributes.house_trained</th>\n",
       "      <th>attributes.shots_current</th>\n",
       "      <th>attributes.spayed_neutered</th>\n",
       "      <th>attributes.special_needs</th>\n",
       "      <th>breeds.mixed</th>\n",
       "      <th>breeds.primary</th>\n",
       "      <th>breeds.secondary</th>\n",
       "      <th>...</th>\n",
       "      <th>month</th>\n",
       "      <th>name</th>\n",
       "      <th>organization_id</th>\n",
       "      <th>published_at</th>\n",
       "      <th>size</th>\n",
       "      <th>status</th>\n",
       "      <th>status_changed_at</th>\n",
       "      <th>tags</th>\n",
       "      <th>url</th>\n",
       "      <th>year</th>\n",
       "    </tr>\n",
       "  </thead>\n",
       "  <tbody>\n",
       "    <tr>\n",
       "      <th>0</th>\n",
       "      <td>20</td>\n",
       "      <td>Adult</td>\n",
       "      <td>NaN</td>\n",
       "      <td>True</td>\n",
       "      <td>True</td>\n",
       "      <td>True</td>\n",
       "      <td>False</td>\n",
       "      <td>False</td>\n",
       "      <td>Japanese Chin</td>\n",
       "      <td>NaN</td>\n",
       "      <td>...</td>\n",
       "      <td>10</td>\n",
       "      <td>Madonna</td>\n",
       "      <td>CA712</td>\n",
       "      <td>2012-09-13T12:51:33+0000</td>\n",
       "      <td>Small</td>\n",
       "      <td>adopted</td>\n",
       "      <td>2012-10-04T11:36:05+0000</td>\n",
       "      <td>[]</td>\n",
       "      <td>https://www.petfinder.com/dog/madonna-24113097...</td>\n",
       "      <td>2012</td>\n",
       "    </tr>\n",
       "    <tr>\n",
       "      <th>1</th>\n",
       "      <td>96</td>\n",
       "      <td>Adult</td>\n",
       "      <td>NaN</td>\n",
       "      <td>True</td>\n",
       "      <td>True</td>\n",
       "      <td>True</td>\n",
       "      <td>False</td>\n",
       "      <td>False</td>\n",
       "      <td>Japanese Chin</td>\n",
       "      <td>NaN</td>\n",
       "      <td>...</td>\n",
       "      <td>11</td>\n",
       "      <td>Bess (located in Birmingam, AL)</td>\n",
       "      <td>CA712</td>\n",
       "      <td>2016-08-08T19:15:43+0000</td>\n",
       "      <td>Small</td>\n",
       "      <td>adopted</td>\n",
       "      <td>2016-11-13T08:14:08+0000</td>\n",
       "      <td>[]</td>\n",
       "      <td>https://www.petfinder.com/dog/bess-located-in-...</td>\n",
       "      <td>2016</td>\n",
       "    </tr>\n",
       "    <tr>\n",
       "      <th>2</th>\n",
       "      <td>98</td>\n",
       "      <td>Young</td>\n",
       "      <td>NaN</td>\n",
       "      <td>True</td>\n",
       "      <td>True</td>\n",
       "      <td>True</td>\n",
       "      <td>False</td>\n",
       "      <td>True</td>\n",
       "      <td>Scottish Terrier</td>\n",
       "      <td>NaN</td>\n",
       "      <td>...</td>\n",
       "      <td>1</td>\n",
       "      <td>Madonna</td>\n",
       "      <td>TX1860</td>\n",
       "      <td>2014-10-14T09:20:08+0000</td>\n",
       "      <td>Small</td>\n",
       "      <td>adopted</td>\n",
       "      <td>2015-01-20T17:31:49+0000</td>\n",
       "      <td>[]</td>\n",
       "      <td>https://www.petfinder.com/dog/madonna-30542160...</td>\n",
       "      <td>2015</td>\n",
       "    </tr>\n",
       "    <tr>\n",
       "      <th>3</th>\n",
       "      <td>32</td>\n",
       "      <td>Adult</td>\n",
       "      <td>NaN</td>\n",
       "      <td>True</td>\n",
       "      <td>True</td>\n",
       "      <td>True</td>\n",
       "      <td>False</td>\n",
       "      <td>False</td>\n",
       "      <td>Bullmastiff</td>\n",
       "      <td>NaN</td>\n",
       "      <td>...</td>\n",
       "      <td>3</td>\n",
       "      <td>AL - Sweetie/Birmingham</td>\n",
       "      <td>FL653</td>\n",
       "      <td>2018-02-21T00:02:35+0000</td>\n",
       "      <td>Extra Large</td>\n",
       "      <td>adopted</td>\n",
       "      <td>2018-03-25T13:18:45+0000</td>\n",
       "      <td>[]</td>\n",
       "      <td>https://www.petfinder.com/dog/al-sweetie-birmi...</td>\n",
       "      <td>2018</td>\n",
       "    </tr>\n",
       "    <tr>\n",
       "      <th>4</th>\n",
       "      <td>16</td>\n",
       "      <td>Young</td>\n",
       "      <td>NaN</td>\n",
       "      <td>True</td>\n",
       "      <td>True</td>\n",
       "      <td>True</td>\n",
       "      <td>False</td>\n",
       "      <td>False</td>\n",
       "      <td>Bullmastiff</td>\n",
       "      <td>NaN</td>\n",
       "      <td>...</td>\n",
       "      <td>11</td>\n",
       "      <td>AL - Rosie/Prattville</td>\n",
       "      <td>FL653</td>\n",
       "      <td>2015-10-26T11:05:40+0000</td>\n",
       "      <td>Large</td>\n",
       "      <td>adopted</td>\n",
       "      <td>2015-11-11T18:28:03+0000</td>\n",
       "      <td>[]</td>\n",
       "      <td>https://www.petfinder.com/dog/al-rosie-prattvi...</td>\n",
       "      <td>2015</td>\n",
       "    </tr>\n",
       "  </tbody>\n",
       "</table>\n",
       "<p>5 rows × 34 columns</p>\n",
       "</div>"
      ],
      "text/plain": [
       "   adoption_time    age  attributes.declawed  attributes.house_trained  \\\n",
       "0             20  Adult                  NaN                      True   \n",
       "1             96  Adult                  NaN                      True   \n",
       "2             98  Young                  NaN                      True   \n",
       "3             32  Adult                  NaN                      True   \n",
       "4             16  Young                  NaN                      True   \n",
       "\n",
       "   attributes.shots_current  attributes.spayed_neutered  \\\n",
       "0                      True                        True   \n",
       "1                      True                        True   \n",
       "2                      True                        True   \n",
       "3                      True                        True   \n",
       "4                      True                        True   \n",
       "\n",
       "   attributes.special_needs  breeds.mixed    breeds.primary breeds.secondary  \\\n",
       "0                     False         False     Japanese Chin              NaN   \n",
       "1                     False         False     Japanese Chin              NaN   \n",
       "2                     False          True  Scottish Terrier              NaN   \n",
       "3                     False         False       Bullmastiff              NaN   \n",
       "4                     False         False       Bullmastiff              NaN   \n",
       "\n",
       "   ...  month                             name organization_id  \\\n",
       "0  ...     10                          Madonna           CA712   \n",
       "1  ...     11  Bess (located in Birmingam, AL)           CA712   \n",
       "2  ...      1                          Madonna          TX1860   \n",
       "3  ...      3          AL - Sweetie/Birmingham           FL653   \n",
       "4  ...     11            AL - Rosie/Prattville           FL653   \n",
       "\n",
       "               published_at         size   status         status_changed_at  \\\n",
       "0  2012-09-13T12:51:33+0000        Small  adopted  2012-10-04T11:36:05+0000   \n",
       "1  2016-08-08T19:15:43+0000        Small  adopted  2016-11-13T08:14:08+0000   \n",
       "2  2014-10-14T09:20:08+0000        Small  adopted  2015-01-20T17:31:49+0000   \n",
       "3  2018-02-21T00:02:35+0000  Extra Large  adopted  2018-03-25T13:18:45+0000   \n",
       "4  2015-10-26T11:05:40+0000        Large  adopted  2015-11-11T18:28:03+0000   \n",
       "\n",
       "  tags                                                url  year  \n",
       "0   []  https://www.petfinder.com/dog/madonna-24113097...  2012  \n",
       "1   []  https://www.petfinder.com/dog/bess-located-in-...  2016  \n",
       "2   []  https://www.petfinder.com/dog/madonna-30542160...  2015  \n",
       "3   []  https://www.petfinder.com/dog/al-sweetie-birmi...  2018  \n",
       "4   []  https://www.petfinder.com/dog/al-rosie-prattvi...  2015  \n",
       "\n",
       "[5 rows x 34 columns]"
      ]
     },
     "execution_count": 210,
     "metadata": {},
     "output_type": "execute_result"
    }
   ],
   "source": [
    "alldogs_merged.head()"
   ]
  },
  {
   "cell_type": "code",
   "execution_count": 5,
   "metadata": {},
   "outputs": [
    {
     "name": "stdout",
     "output_type": "stream",
     "text": [
      "{'CA': 184.01237496363595,\n",
      " 'MN': 102.96562054208273,\n",
      " 'NY': 227.69666935576814,\n",
      " 'TX': 140.0659042704393}\n"
     ]
    }
   ],
   "source": [
    "state_info = pd.read_csv('stats_all.csv')\n",
    "mean_adpt_time = {}\n",
    "#create a dict with each state and average adoption time\n",
    "for state_pos in range(1,49):\n",
    "    current_state = state_info['state'][state_pos]\n",
    "    key = current_state\n",
    "    val = alldogs_merged[alldogs_merged['contact.address.state'] == current_state]['adoption_time'].mean()\n",
    "    mean_adpt_time[key] = val\n",
    "pprint(mean_adpt_time)"
   ]
  },
  {
   "cell_type": "code",
   "execution_count": 211,
   "metadata": {},
   "outputs": [
    {
     "data": {
      "text/plain": [
       "contact.address.state\n",
       "MT     36.828786\n",
       "WY     46.584674\n",
       "ID     49.849677\n",
       "SC     67.454908\n",
       "NH     70.808894\n",
       "MS     83.079180\n",
       "PA     84.188627\n",
       "CO     85.838635\n",
       "OH     87.721029\n",
       "VT     88.836907\n",
       "IL     93.102591\n",
       "ND     93.470378\n",
       "WA     93.814776\n",
       "MN    102.965621\n",
       "RI    107.201073\n",
       "MA    108.364548\n",
       "WI    109.686375\n",
       "MD    110.435780\n",
       "VA    118.225938\n",
       "LA    120.193585\n",
       "ME    122.736462\n",
       "AK    124.820449\n",
       "AR    125.363077\n",
       "UT    125.400673\n",
       "TN    131.549588\n",
       "AZ    138.621148\n",
       "TX    140.065904\n",
       "GA    141.359581\n",
       "NE    144.288541\n",
       "KS    153.267549\n",
       "NM    162.038734\n",
       "KY    166.339105\n",
       "IA    166.441197\n",
       "CT    167.932088\n",
       "AL    169.512191\n",
       "NJ    173.957788\n",
       "MO    174.401168\n",
       "IN    174.763227\n",
       "CA    184.012375\n",
       "OR    189.981649\n",
       "WV    204.210876\n",
       "FL    211.237100\n",
       "MI    222.346728\n",
       "NY    227.696669\n",
       "OK    238.790731\n",
       "NV    265.662577\n",
       "DE    276.759936\n",
       "NC    288.047769\n",
       "SD    379.557841\n",
       "Name: adoption_time, dtype: float64"
      ]
     },
     "execution_count": 211,
     "metadata": {},
     "output_type": "execute_result"
    }
   ],
   "source": [
    "alldogs_merged.groupby('contact.address.state')['adoption_time'].mean().sort_values()"
   ]
  },
  {
   "cell_type": "code",
   "execution_count": 212,
   "metadata": {},
   "outputs": [
    {
     "data": {
      "text/html": [
       "<div>\n",
       "<style scoped>\n",
       "    .dataframe tbody tr th:only-of-type {\n",
       "        vertical-align: middle;\n",
       "    }\n",
       "\n",
       "    .dataframe tbody tr th {\n",
       "        vertical-align: top;\n",
       "    }\n",
       "\n",
       "    .dataframe thead th {\n",
       "        text-align: right;\n",
       "    }\n",
       "</style>\n",
       "<table border=\"1\" class=\"dataframe\">\n",
       "  <thead>\n",
       "    <tr style=\"text-align: right;\">\n",
       "      <th></th>\n",
       "      <th>adoption_time</th>\n",
       "      <th>age</th>\n",
       "      <th>attributes.declawed</th>\n",
       "      <th>attributes.house_trained</th>\n",
       "      <th>attributes.shots_current</th>\n",
       "      <th>attributes.spayed_neutered</th>\n",
       "      <th>attributes.special_needs</th>\n",
       "      <th>breeds.mixed</th>\n",
       "      <th>breeds.primary</th>\n",
       "      <th>breeds.secondary</th>\n",
       "      <th>...</th>\n",
       "      <th>month</th>\n",
       "      <th>name</th>\n",
       "      <th>organization_id</th>\n",
       "      <th>published_at</th>\n",
       "      <th>size</th>\n",
       "      <th>status</th>\n",
       "      <th>status_changed_at</th>\n",
       "      <th>tags</th>\n",
       "      <th>url</th>\n",
       "      <th>year</th>\n",
       "    </tr>\n",
       "  </thead>\n",
       "  <tbody>\n",
       "    <tr>\n",
       "      <th>0</th>\n",
       "      <td>20</td>\n",
       "      <td>Adult</td>\n",
       "      <td>NaN</td>\n",
       "      <td>True</td>\n",
       "      <td>True</td>\n",
       "      <td>True</td>\n",
       "      <td>False</td>\n",
       "      <td>False</td>\n",
       "      <td>Japanese Chin</td>\n",
       "      <td>NaN</td>\n",
       "      <td>...</td>\n",
       "      <td>10</td>\n",
       "      <td>Madonna</td>\n",
       "      <td>CA712</td>\n",
       "      <td>2012-09-13T12:51:33+0000</td>\n",
       "      <td>Small</td>\n",
       "      <td>adopted</td>\n",
       "      <td>2012-10-04T11:36:05+0000</td>\n",
       "      <td>[]</td>\n",
       "      <td>https://www.petfinder.com/dog/madonna-24113097...</td>\n",
       "      <td>2012</td>\n",
       "    </tr>\n",
       "    <tr>\n",
       "      <th>1</th>\n",
       "      <td>96</td>\n",
       "      <td>Adult</td>\n",
       "      <td>NaN</td>\n",
       "      <td>True</td>\n",
       "      <td>True</td>\n",
       "      <td>True</td>\n",
       "      <td>False</td>\n",
       "      <td>False</td>\n",
       "      <td>Japanese Chin</td>\n",
       "      <td>NaN</td>\n",
       "      <td>...</td>\n",
       "      <td>11</td>\n",
       "      <td>Bess (located in Birmingam, AL)</td>\n",
       "      <td>CA712</td>\n",
       "      <td>2016-08-08T19:15:43+0000</td>\n",
       "      <td>Small</td>\n",
       "      <td>adopted</td>\n",
       "      <td>2016-11-13T08:14:08+0000</td>\n",
       "      <td>[]</td>\n",
       "      <td>https://www.petfinder.com/dog/bess-located-in-...</td>\n",
       "      <td>2016</td>\n",
       "    </tr>\n",
       "    <tr>\n",
       "      <th>2</th>\n",
       "      <td>98</td>\n",
       "      <td>Young</td>\n",
       "      <td>NaN</td>\n",
       "      <td>True</td>\n",
       "      <td>True</td>\n",
       "      <td>True</td>\n",
       "      <td>False</td>\n",
       "      <td>True</td>\n",
       "      <td>Scottish Terrier</td>\n",
       "      <td>NaN</td>\n",
       "      <td>...</td>\n",
       "      <td>1</td>\n",
       "      <td>Madonna</td>\n",
       "      <td>TX1860</td>\n",
       "      <td>2014-10-14T09:20:08+0000</td>\n",
       "      <td>Small</td>\n",
       "      <td>adopted</td>\n",
       "      <td>2015-01-20T17:31:49+0000</td>\n",
       "      <td>[]</td>\n",
       "      <td>https://www.petfinder.com/dog/madonna-30542160...</td>\n",
       "      <td>2015</td>\n",
       "    </tr>\n",
       "    <tr>\n",
       "      <th>3</th>\n",
       "      <td>32</td>\n",
       "      <td>Adult</td>\n",
       "      <td>NaN</td>\n",
       "      <td>True</td>\n",
       "      <td>True</td>\n",
       "      <td>True</td>\n",
       "      <td>False</td>\n",
       "      <td>False</td>\n",
       "      <td>Bullmastiff</td>\n",
       "      <td>NaN</td>\n",
       "      <td>...</td>\n",
       "      <td>3</td>\n",
       "      <td>AL - Sweetie/Birmingham</td>\n",
       "      <td>FL653</td>\n",
       "      <td>2018-02-21T00:02:35+0000</td>\n",
       "      <td>Extra Large</td>\n",
       "      <td>adopted</td>\n",
       "      <td>2018-03-25T13:18:45+0000</td>\n",
       "      <td>[]</td>\n",
       "      <td>https://www.petfinder.com/dog/al-sweetie-birmi...</td>\n",
       "      <td>2018</td>\n",
       "    </tr>\n",
       "    <tr>\n",
       "      <th>4</th>\n",
       "      <td>16</td>\n",
       "      <td>Young</td>\n",
       "      <td>NaN</td>\n",
       "      <td>True</td>\n",
       "      <td>True</td>\n",
       "      <td>True</td>\n",
       "      <td>False</td>\n",
       "      <td>False</td>\n",
       "      <td>Bullmastiff</td>\n",
       "      <td>NaN</td>\n",
       "      <td>...</td>\n",
       "      <td>11</td>\n",
       "      <td>AL - Rosie/Prattville</td>\n",
       "      <td>FL653</td>\n",
       "      <td>2015-10-26T11:05:40+0000</td>\n",
       "      <td>Large</td>\n",
       "      <td>adopted</td>\n",
       "      <td>2015-11-11T18:28:03+0000</td>\n",
       "      <td>[]</td>\n",
       "      <td>https://www.petfinder.com/dog/al-rosie-prattvi...</td>\n",
       "      <td>2015</td>\n",
       "    </tr>\n",
       "  </tbody>\n",
       "</table>\n",
       "<p>5 rows × 34 columns</p>\n",
       "</div>"
      ],
      "text/plain": [
       "   adoption_time    age  attributes.declawed  attributes.house_trained  \\\n",
       "0             20  Adult                  NaN                      True   \n",
       "1             96  Adult                  NaN                      True   \n",
       "2             98  Young                  NaN                      True   \n",
       "3             32  Adult                  NaN                      True   \n",
       "4             16  Young                  NaN                      True   \n",
       "\n",
       "   attributes.shots_current  attributes.spayed_neutered  \\\n",
       "0                      True                        True   \n",
       "1                      True                        True   \n",
       "2                      True                        True   \n",
       "3                      True                        True   \n",
       "4                      True                        True   \n",
       "\n",
       "   attributes.special_needs  breeds.mixed    breeds.primary breeds.secondary  \\\n",
       "0                     False         False     Japanese Chin              NaN   \n",
       "1                     False         False     Japanese Chin              NaN   \n",
       "2                     False          True  Scottish Terrier              NaN   \n",
       "3                     False         False       Bullmastiff              NaN   \n",
       "4                     False         False       Bullmastiff              NaN   \n",
       "\n",
       "   ...  month                             name organization_id  \\\n",
       "0  ...     10                          Madonna           CA712   \n",
       "1  ...     11  Bess (located in Birmingam, AL)           CA712   \n",
       "2  ...      1                          Madonna          TX1860   \n",
       "3  ...      3          AL - Sweetie/Birmingham           FL653   \n",
       "4  ...     11            AL - Rosie/Prattville           FL653   \n",
       "\n",
       "               published_at         size   status         status_changed_at  \\\n",
       "0  2012-09-13T12:51:33+0000        Small  adopted  2012-10-04T11:36:05+0000   \n",
       "1  2016-08-08T19:15:43+0000        Small  adopted  2016-11-13T08:14:08+0000   \n",
       "2  2014-10-14T09:20:08+0000        Small  adopted  2015-01-20T17:31:49+0000   \n",
       "3  2018-02-21T00:02:35+0000  Extra Large  adopted  2018-03-25T13:18:45+0000   \n",
       "4  2015-10-26T11:05:40+0000        Large  adopted  2015-11-11T18:28:03+0000   \n",
       "\n",
       "  tags                                                url  year  \n",
       "0   []  https://www.petfinder.com/dog/madonna-24113097...  2012  \n",
       "1   []  https://www.petfinder.com/dog/bess-located-in-...  2016  \n",
       "2   []  https://www.petfinder.com/dog/madonna-30542160...  2015  \n",
       "3   []  https://www.petfinder.com/dog/al-sweetie-birmi...  2018  \n",
       "4   []  https://www.petfinder.com/dog/al-rosie-prattvi...  2015  \n",
       "\n",
       "[5 rows x 34 columns]"
      ]
     },
     "execution_count": 212,
     "metadata": {},
     "output_type": "execute_result"
    }
   ],
   "source": [
    "alldogs_merged.head()"
   ]
  },
  {
   "cell_type": "code",
   "execution_count": 213,
   "metadata": {},
   "outputs": [
    {
     "data": {
      "text/plain": [
       "2010    163612\n",
       "2019    149381\n",
       "2015    143465\n",
       "2014    142116\n",
       "2016    141410\n",
       "2017    138204\n",
       "2018    137070\n",
       "2013    134959\n",
       "2012    126292\n",
       "2011    107894\n",
       "2009     61292\n",
       "2008     12617\n",
       "2020      6470\n",
       "2007      4466\n",
       "2006      1299\n",
       "2005       896\n",
       "2004       564\n",
       "2003        43\n",
       "Name: year, dtype: int64"
      ]
     },
     "execution_count": 213,
     "metadata": {},
     "output_type": "execute_result"
    }
   ],
   "source": [
    "alldogs_merged['year'].value_counts()"
   ]
  },
  {
   "cell_type": "code",
   "execution_count": 11,
   "metadata": {},
   "outputs": [
    {
     "data": {
      "text/plain": [
       "year\n",
       "2016     73.414059\n",
       "2017     76.365089\n",
       "2012     76.758136\n",
       "2019     77.032733\n",
       "2015     79.491374\n",
       "2018     79.584242\n",
       "2013     80.056278\n",
       "2014     86.780699\n",
       "2020     89.714441\n",
       "2011     92.026516\n",
       "2008    274.882463\n",
       "2006    401.583333\n",
       "2009    543.729739\n",
       "2007    615.247781\n",
       "2010    653.359691\n",
       "Name: adoption_time, dtype: float64"
      ]
     },
     "execution_count": 11,
     "metadata": {},
     "output_type": "execute_result"
    }
   ],
   "source": [
    "alldogs_merged.groupby('year')['adoption_time'].mean().sort_values()"
   ]
  },
  {
   "cell_type": "code",
   "execution_count": 214,
   "metadata": {},
   "outputs": [],
   "source": [
    "alldogs_year = alldogs_merged[alldogs_merged['year'] >= 2015]"
   ]
  },
  {
   "cell_type": "code",
   "execution_count": 215,
   "metadata": {},
   "outputs": [],
   "source": [
    "alldogs_year = alldogs_year[alldogs_year['year'] <= 2019]"
   ]
  },
  {
   "cell_type": "code",
   "execution_count": 216,
   "metadata": {},
   "outputs": [
    {
     "data": {
      "text/plain": [
       "709530"
      ]
     },
     "execution_count": 216,
     "metadata": {},
     "output_type": "execute_result"
    }
   ],
   "source": [
    "len(alldogs_year)"
   ]
  },
  {
   "cell_type": "code",
   "execution_count": 217,
   "metadata": {},
   "outputs": [
    {
     "data": {
      "text/plain": [
       "month\n",
       "8     57.733467\n",
       "5     58.336647\n",
       "3     58.903002\n",
       "4     60.224461\n",
       "6     60.682694\n",
       "2     62.149868\n",
       "7     63.089704\n",
       "12    63.235770\n",
       "11    63.978540\n",
       "10    67.510244\n",
       "9     72.287168\n",
       "1     90.359256\n",
       "Name: adoption_time, dtype: float64"
      ]
     },
     "execution_count": 217,
     "metadata": {},
     "output_type": "execute_result"
    }
   ],
   "source": [
    "alldogs_year.groupby('month')['adoption_time'].mean().sort_values()"
   ]
  },
  {
   "cell_type": "code",
   "execution_count": 218,
   "metadata": {},
   "outputs": [],
   "source": [
    "m=alldogs_year.groupby('month')['adoption_time'].mean()"
   ]
  },
  {
   "cell_type": "code",
   "execution_count": 219,
   "metadata": {},
   "outputs": [
    {
     "data": {
      "text/plain": [
       "<matplotlib.axes._subplots.AxesSubplot at 0x25c33c961c8>"
      ]
     },
     "execution_count": 219,
     "metadata": {},
     "output_type": "execute_result"
    },
    {
     "data": {
      "image/png": "[encoded data removed]",
      "text/plain": [
       "<Figure size 432x288 with 1 Axes>"
      ]
     },
     "metadata": {
      "needs_background": "light"
     },
     "output_type": "display_data"
    }
   ],
   "source": [
    "m.plot()"
   ]
  },
  {
   "cell_type": "code",
   "execution_count": 21,
   "metadata": {},
   "outputs": [
    {
     "data": {
      "text/plain": [
       "<matplotlib.axes._subplots.AxesSubplot at 0x25c6b467988>"
      ]
     },
     "execution_count": 21,
     "metadata": {},
     "output_type": "execute_result"
    },
    {
     "data": {
      "image/png": "[encoded data removed]",
      "text/plain": [
       "<Figure size 432x288 with 1 Axes>"
      ]
     },
     "metadata": {
      "needs_background": "light"
     },
     "output_type": "display_data"
    }
   ],
   "source": [
    "y=alldogs_year.groupby('year')['adoption_time'].mean()\n",
    "y.plot()"
   ]
  },
  {
   "cell_type": "code",
   "execution_count": 220,
   "metadata": {},
   "outputs": [
    {
     "data": {
      "text/plain": [
       "<matplotlib.axes._subplots.AxesSubplot at 0x25c0de73448>"
      ]
     },
     "execution_count": 220,
     "metadata": {},
     "output_type": "execute_result"
    },
    {
     "data": {
      "image/png": "[encoded data removed]",
      "text/plain": [
       "<Figure size 432x288 with 1 Axes>"
      ]
     },
     "metadata": {
      "needs_background": "light"
     },
     "output_type": "display_data"
    }
   ],
   "source": [
    "sns.distplot(alldogs_year['adoption_time'], kde=False)"
   ]
  },
  {
   "cell_type": "code",
   "execution_count": 221,
   "metadata": {},
   "outputs": [],
   "source": [
    "#remove negative days error\n",
    "alldogs_year = alldogs_year[alldogs_year['adoption_time']>=0]"
   ]
  },
  {
   "cell_type": "code",
   "execution_count": 222,
   "metadata": {},
   "outputs": [
    {
     "data": {
      "text/plain": [
       "<matplotlib.axes._subplots.AxesSubplot at 0x25c00cd5848>"
      ]
     },
     "execution_count": 222,
     "metadata": {},
     "output_type": "execute_result"
    },
    {
     "data": {
      "image/png": "[encoded data removed]",
      "text/plain": [
       "<Figure size 432x288 with 1 Axes>"
      ]
     },
     "metadata": {
      "needs_background": "light"
     },
     "output_type": "display_data"
    }
   ],
   "source": [
    "sns.distplot(alldogs_year['adoption_time'], kde=False)"
   ]
  },
  {
   "cell_type": "code",
   "execution_count": 224,
   "metadata": {},
   "outputs": [],
   "source": [
    "alldogs_year['log_adpt_time'] = alldogs_year.apply(lambda x: np.log((x['adoption_time'])+1.1), axis=1)"
   ]
  },
  {
   "cell_type": "code",
   "execution_count": 225,
   "metadata": {},
   "outputs": [
    {
     "data": {
      "text/plain": [
       "<matplotlib.axes._subplots.AxesSubplot at 0x25c00dcdc88>"
      ]
     },
     "execution_count": 225,
     "metadata": {},
     "output_type": "execute_result"
    },
    {
     "data": {
      "image/png": "[encoded data removed]",
      "text/plain": [
       "<Figure size 432x288 with 1 Axes>"
      ]
     },
     "metadata": {
      "needs_background": "light"
     },
     "output_type": "display_data"
    }
   ],
   "source": [
    "sns.distplot(alldogs_year['log_adpt_time'], kde=False)"
   ]
  },
  {
   "cell_type": "code",
   "execution_count": 226,
   "metadata": {},
   "outputs": [
    {
     "data": {
      "text/plain": [
       "9707"
      ]
     },
     "execution_count": 226,
     "metadata": {},
     "output_type": "execute_result"
    }
   ],
   "source": [
    "from scipy import stats\n",
    "z = (stats.zscore(alldogs_year['log_adpt_time']))\n",
    "len(np.where(z >= 2.5)[0])"
   ]
  },
  {
   "cell_type": "code",
   "execution_count": 227,
   "metadata": {},
   "outputs": [
    {
     "data": {
      "text/plain": [
       "699822"
      ]
     },
     "execution_count": 227,
     "metadata": {},
     "output_type": "execute_result"
    }
   ],
   "source": [
    "alldogs_year_otl = alldogs_year[z<2.5]\n",
    "len(alldogs_year_otl)"
   ]
  },
  {
   "cell_type": "code",
   "execution_count": 229,
   "metadata": {},
   "outputs": [
    {
     "data": {
      "text/plain": [
       "<matplotlib.axes._subplots.AxesSubplot at 0x25c0286ab88>"
      ]
     },
     "execution_count": 229,
     "metadata": {},
     "output_type": "execute_result"
    },
    {
     "data": {
      "image/png": "[encoded data removed]",
      "text/plain": [
       "<Figure size 432x288 with 1 Axes>"
      ]
     },
     "metadata": {
      "needs_background": "light"
     },
     "output_type": "display_data"
    }
   ],
   "source": [
    "sns.distplot(alldogs_year_otl['adoption_time'], kde=False)"
   ]
  },
  {
   "cell_type": "code",
   "execution_count": 230,
   "metadata": {},
   "outputs": [
    {
     "data": {
      "text/plain": [
       "<seaborn.axisgrid.FacetGrid at 0x25c0291bb88>"
      ]
     },
     "execution_count": 230,
     "metadata": {},
     "output_type": "execute_result"
    },
    {
     "data": {
      "image/png": "[encoded data removed]",
      "text/plain": [
       "<Figure size 360x360 with 1 Axes>"
      ]
     },
     "metadata": {
      "needs_background": "light"
     },
     "output_type": "display_data"
    }
   ],
   "source": [
    "sizeplot3 = sns.catplot(x='contact.address.state', y='adoption_time', data=alldogs_year_otl, kind='box');\n",
    "sizeplot3.set(ylim=(0,200))"
   ]
  },
  {
   "cell_type": "code",
   "execution_count": 238,
   "metadata": {},
   "outputs": [
    {
     "data": {
      "text/plain": [
       "86.79607100091165"
      ]
     },
     "execution_count": 238,
     "metadata": {},
     "output_type": "execute_result"
    }
   ],
   "source": [
    "#1 week -23%, 2 weeks = 43%, 1 month - 64%%, 90 days - 87%\n",
    "(len(alldogs_year_otl[alldogs_year_otl['adoption_time']<90])/len(alldogs_year_otl))*100"
   ]
  },
  {
   "cell_type": "code",
   "execution_count": 239,
   "metadata": {},
   "outputs": [],
   "source": [
    "def categorize_times(time):\n",
    "    if time < 7:\n",
    "        return '< 1 week'\n",
    "    elif time <= 14:\n",
    "        return '1 - 2 weeks'\n",
    "    elif time < 30:\n",
    "        return '< 1 month'\n",
    "    elif time < 90:\n",
    "        return '< 3 months'\n",
    "    else:\n",
    "        return '> 100 days'"
   ]
  },
  {
   "cell_type": "code",
   "execution_count": 240,
   "metadata": {},
   "outputs": [
    {
     "name": "stderr",
     "output_type": "stream",
     "text": [
      "C:\\anaconda_python\\envs\\Insight\\lib\\site-packages\\ipykernel_launcher.py:1: SettingWithCopyWarning: \n",
      "A value is trying to be set on a copy of a slice from a DataFrame.\n",
      "Try using .loc[row_indexer,col_indexer] = value instead\n",
      "\n",
      "See the caveats in the documentation: http://pandas.pydata.org/pandas-docs/stable/user_guide/indexing.html#returning-a-view-versus-a-copy\n",
      "  \"\"\"Entry point for launching an IPython kernel.\n"
     ]
    }
   ],
   "source": [
    "alldogs_year_otl['cg_adpt_time'] = alldogs_year_otl.apply(lambda x: categorize_times(x['adoption_time']), axis=1)"
   ]
  },
  {
   "cell_type": "code",
   "execution_count": 241,
   "metadata": {},
   "outputs": [
    {
     "data": {
      "text/html": [
       "<div>\n",
       "<style scoped>\n",
       "    .dataframe tbody tr th:only-of-type {\n",
       "        vertical-align: middle;\n",
       "    }\n",
       "\n",
       "    .dataframe tbody tr th {\n",
       "        vertical-align: top;\n",
       "    }\n",
       "\n",
       "    .dataframe thead th {\n",
       "        text-align: right;\n",
       "    }\n",
       "</style>\n",
       "<table border=\"1\" class=\"dataframe\">\n",
       "  <thead>\n",
       "    <tr style=\"text-align: right;\">\n",
       "      <th></th>\n",
       "      <th>adoption_time</th>\n",
       "      <th>age</th>\n",
       "      <th>attributes.declawed</th>\n",
       "      <th>attributes.house_trained</th>\n",
       "      <th>attributes.shots_current</th>\n",
       "      <th>attributes.spayed_neutered</th>\n",
       "      <th>attributes.special_needs</th>\n",
       "      <th>breeds.mixed</th>\n",
       "      <th>breeds.primary</th>\n",
       "      <th>breeds.secondary</th>\n",
       "      <th>...</th>\n",
       "      <th>organization_id</th>\n",
       "      <th>published_at</th>\n",
       "      <th>size</th>\n",
       "      <th>status</th>\n",
       "      <th>status_changed_at</th>\n",
       "      <th>tags</th>\n",
       "      <th>url</th>\n",
       "      <th>year</th>\n",
       "      <th>log_adpt_time</th>\n",
       "      <th>cg_adpt_time</th>\n",
       "    </tr>\n",
       "  </thead>\n",
       "  <tbody>\n",
       "    <tr>\n",
       "      <th>1</th>\n",
       "      <td>96</td>\n",
       "      <td>Adult</td>\n",
       "      <td>NaN</td>\n",
       "      <td>True</td>\n",
       "      <td>True</td>\n",
       "      <td>True</td>\n",
       "      <td>False</td>\n",
       "      <td>False</td>\n",
       "      <td>Japanese Chin</td>\n",
       "      <td>NaN</td>\n",
       "      <td>...</td>\n",
       "      <td>CA712</td>\n",
       "      <td>2016-08-08T19:15:43+0000</td>\n",
       "      <td>Small</td>\n",
       "      <td>adopted</td>\n",
       "      <td>2016-11-13T08:14:08+0000</td>\n",
       "      <td>[]</td>\n",
       "      <td>https://www.petfinder.com/dog/bess-located-in-...</td>\n",
       "      <td>2016</td>\n",
       "      <td>4.575741</td>\n",
       "      <td>&gt; 100 days</td>\n",
       "    </tr>\n",
       "    <tr>\n",
       "      <th>2</th>\n",
       "      <td>98</td>\n",
       "      <td>Young</td>\n",
       "      <td>NaN</td>\n",
       "      <td>True</td>\n",
       "      <td>True</td>\n",
       "      <td>True</td>\n",
       "      <td>False</td>\n",
       "      <td>True</td>\n",
       "      <td>Scottish Terrier</td>\n",
       "      <td>NaN</td>\n",
       "      <td>...</td>\n",
       "      <td>TX1860</td>\n",
       "      <td>2014-10-14T09:20:08+0000</td>\n",
       "      <td>Small</td>\n",
       "      <td>adopted</td>\n",
       "      <td>2015-01-20T17:31:49+0000</td>\n",
       "      <td>[]</td>\n",
       "      <td>https://www.petfinder.com/dog/madonna-30542160...</td>\n",
       "      <td>2015</td>\n",
       "      <td>4.596129</td>\n",
       "      <td>&gt; 100 days</td>\n",
       "    </tr>\n",
       "    <tr>\n",
       "      <th>3</th>\n",
       "      <td>32</td>\n",
       "      <td>Adult</td>\n",
       "      <td>NaN</td>\n",
       "      <td>True</td>\n",
       "      <td>True</td>\n",
       "      <td>True</td>\n",
       "      <td>False</td>\n",
       "      <td>False</td>\n",
       "      <td>Bullmastiff</td>\n",
       "      <td>NaN</td>\n",
       "      <td>...</td>\n",
       "      <td>FL653</td>\n",
       "      <td>2018-02-21T00:02:35+0000</td>\n",
       "      <td>Extra Large</td>\n",
       "      <td>adopted</td>\n",
       "      <td>2018-03-25T13:18:45+0000</td>\n",
       "      <td>[]</td>\n",
       "      <td>https://www.petfinder.com/dog/al-sweetie-birmi...</td>\n",
       "      <td>2018</td>\n",
       "      <td>3.499533</td>\n",
       "      <td>&lt; 3 months</td>\n",
       "    </tr>\n",
       "    <tr>\n",
       "      <th>4</th>\n",
       "      <td>16</td>\n",
       "      <td>Young</td>\n",
       "      <td>NaN</td>\n",
       "      <td>True</td>\n",
       "      <td>True</td>\n",
       "      <td>True</td>\n",
       "      <td>False</td>\n",
       "      <td>False</td>\n",
       "      <td>Bullmastiff</td>\n",
       "      <td>NaN</td>\n",
       "      <td>...</td>\n",
       "      <td>FL653</td>\n",
       "      <td>2015-10-26T11:05:40+0000</td>\n",
       "      <td>Large</td>\n",
       "      <td>adopted</td>\n",
       "      <td>2015-11-11T18:28:03+0000</td>\n",
       "      <td>[]</td>\n",
       "      <td>https://www.petfinder.com/dog/al-rosie-prattvi...</td>\n",
       "      <td>2015</td>\n",
       "      <td>2.839078</td>\n",
       "      <td>&lt; 1 month</td>\n",
       "    </tr>\n",
       "    <tr>\n",
       "      <th>5</th>\n",
       "      <td>56</td>\n",
       "      <td>Adult</td>\n",
       "      <td>NaN</td>\n",
       "      <td>True</td>\n",
       "      <td>True</td>\n",
       "      <td>True</td>\n",
       "      <td>False</td>\n",
       "      <td>False</td>\n",
       "      <td>Bullmastiff</td>\n",
       "      <td>NaN</td>\n",
       "      <td>...</td>\n",
       "      <td>FL653</td>\n",
       "      <td>2016-06-24T16:49:40+0000</td>\n",
       "      <td>Extra Large</td>\n",
       "      <td>adopted</td>\n",
       "      <td>2016-08-20T13:23:19+0000</td>\n",
       "      <td>[]</td>\n",
       "      <td>https://www.petfinder.com/dog/al-tank-montgome...</td>\n",
       "      <td>2016</td>\n",
       "      <td>4.044804</td>\n",
       "      <td>&lt; 3 months</td>\n",
       "    </tr>\n",
       "  </tbody>\n",
       "</table>\n",
       "<p>5 rows × 36 columns</p>\n",
       "</div>"
      ],
      "text/plain": [
       "   adoption_time    age  attributes.declawed  attributes.house_trained  \\\n",
       "1             96  Adult                  NaN                      True   \n",
       "2             98  Young                  NaN                      True   \n",
       "3             32  Adult                  NaN                      True   \n",
       "4             16  Young                  NaN                      True   \n",
       "5             56  Adult                  NaN                      True   \n",
       "\n",
       "   attributes.shots_current  attributes.spayed_neutered  \\\n",
       "1                      True                        True   \n",
       "2                      True                        True   \n",
       "3                      True                        True   \n",
       "4                      True                        True   \n",
       "5                      True                        True   \n",
       "\n",
       "   attributes.special_needs  breeds.mixed    breeds.primary breeds.secondary  \\\n",
       "1                     False         False     Japanese Chin              NaN   \n",
       "2                     False          True  Scottish Terrier              NaN   \n",
       "3                     False         False       Bullmastiff              NaN   \n",
       "4                     False         False       Bullmastiff              NaN   \n",
       "5                     False         False       Bullmastiff              NaN   \n",
       "\n",
       "   ...  organization_id              published_at         size   status  \\\n",
       "1  ...            CA712  2016-08-08T19:15:43+0000        Small  adopted   \n",
       "2  ...           TX1860  2014-10-14T09:20:08+0000        Small  adopted   \n",
       "3  ...            FL653  2018-02-21T00:02:35+0000  Extra Large  adopted   \n",
       "4  ...            FL653  2015-10-26T11:05:40+0000        Large  adopted   \n",
       "5  ...            FL653  2016-06-24T16:49:40+0000  Extra Large  adopted   \n",
       "\n",
       "          status_changed_at tags  \\\n",
       "1  2016-11-13T08:14:08+0000   []   \n",
       "2  2015-01-20T17:31:49+0000   []   \n",
       "3  2018-03-25T13:18:45+0000   []   \n",
       "4  2015-11-11T18:28:03+0000   []   \n",
       "5  2016-08-20T13:23:19+0000   []   \n",
       "\n",
       "                                                 url  year  log_adpt_time  \\\n",
       "1  https://www.petfinder.com/dog/bess-located-in-...  2016       4.575741   \n",
       "2  https://www.petfinder.com/dog/madonna-30542160...  2015       4.596129   \n",
       "3  https://www.petfinder.com/dog/al-sweetie-birmi...  2018       3.499533   \n",
       "4  https://www.petfinder.com/dog/al-rosie-prattvi...  2015       2.839078   \n",
       "5  https://www.petfinder.com/dog/al-tank-montgome...  2016       4.044804   \n",
       "\n",
       "  cg_adpt_time  \n",
       "1   > 100 days  \n",
       "2   > 100 days  \n",
       "3   < 3 months  \n",
       "4    < 1 month  \n",
       "5   < 3 months  \n",
       "\n",
       "[5 rows x 36 columns]"
      ]
     },
     "execution_count": 241,
     "metadata": {},
     "output_type": "execute_result"
    }
   ],
   "source": [
    "alldogs_year_otl.head()"
   ]
  },
  {
   "cell_type": "code",
   "execution_count": 242,
   "metadata": {},
   "outputs": [
    {
     "data": {
      "text/plain": [
       "<matplotlib.axes._subplots.AxesSubplot at 0x25c3511b388>"
      ]
     },
     "execution_count": 242,
     "metadata": {},
     "output_type": "execute_result"
    },
    {
     "data": {
      "image/png": "[encoded data removed]",
      "text/plain": [
       "<Figure size 432x288 with 1 Axes>"
      ]
     },
     "metadata": {
      "needs_background": "light"
     },
     "output_type": "display_data"
    }
   ],
   "source": [
    "sns.boxplot(x=alldogs_year_otl['adoption_time'])"
   ]
  },
  {
   "cell_type": "code",
   "execution_count": 243,
   "metadata": {},
   "outputs": [
    {
     "data": {
      "text/plain": [
       "< 3 months     163853\n",
       "< 1 week       160637\n",
       "< 1 month      145553\n",
       "1 - 2 weeks    137375\n",
       "> 100 days      92404\n",
       "Name: cg_adpt_time, dtype: int64"
      ]
     },
     "execution_count": 243,
     "metadata": {},
     "output_type": "execute_result"
    }
   ],
   "source": [
    "alldogs_year_otl['cg_adpt_time'].value_counts()"
   ]
  },
  {
   "cell_type": "code",
   "execution_count": 244,
   "metadata": {},
   "outputs": [
    {
     "data": {
      "text/plain": [
       "0"
      ]
     },
     "execution_count": 244,
     "metadata": {},
     "output_type": "execute_result"
    }
   ],
   "source": [
    "len(alldogs_year_otl[alldogs_year_otl['gender']=='Unknown'])"
   ]
  },
  {
   "cell_type": "code",
   "execution_count": 97,
   "metadata": {},
   "outputs": [
    {
     "data": {
      "text/plain": [
       "90628"
      ]
     },
     "execution_count": 97,
     "metadata": {},
     "output_type": "execute_result"
    }
   ],
   "source": [
    "alldogs_nm = alldogs_year_otl[alldogs_year_otl['gender']!='Unknown']\n",
    "len(alldogs_nm)"
   ]
  },
  {
   "cell_type": "code",
   "execution_count": 246,
   "metadata": {},
   "outputs": [
    {
     "name": "stdout",
     "output_type": "stream",
     "text": [
      "Table size - (90628, 33)\n",
      "Checking for missing values..\n",
      "attributes.declawed         699822\n",
      "breeds.secondary            444452\n",
      "coat                        223702\n",
      "colors.primary              169294\n",
      "colors.secondary            425529\n",
      "colors.tertiary             687606\n",
      "contact.address.postcode        16\n",
      "environment.cats            568309\n",
      "environment.children        486683\n",
      "environment.dogs            452060\n",
      "dtype: int64\n"
     ]
    }
   ],
   "source": [
    "# Check for any missing data\n",
    "print(\"Table size -\", end=' ')\n",
    "print(alldogs_nm.shape)\n",
    "\n",
    "print(\"Checking for missing values..\")\n",
    "# Number of missing values in each column of training data\n",
    "missing_val_count_by_column = (alldogs_year_otl.isnull().sum())\n",
    "print(missing_val_count_by_column[missing_val_count_by_column > 0])\n",
    "\n",
    "# Get names of columns with missing values\n",
    "missing_cols = [col for col in alldogs_year_otl.columns\n",
    "                     if alldogs_year_otl[col].isnull().any()]"
   ]
  },
  {
   "cell_type": "code",
   "execution_count": 250,
   "metadata": {},
   "outputs": [
    {
     "name": "stderr",
     "output_type": "stream",
     "text": [
      "C:\\anaconda_python\\envs\\Insight\\lib\\site-packages\\ipykernel_launcher.py:1: SettingWithCopyWarning: \n",
      "A value is trying to be set on a copy of a slice from a DataFrame.\n",
      "Try using .loc[row_indexer,col_indexer] = value instead\n",
      "\n",
      "See the caveats in the documentation: http://pandas.pydata.org/pandas-docs/stable/user_guide/indexing.html#returning-a-view-versus-a-copy\n",
      "  \"\"\"Entry point for launching an IPython kernel.\n"
     ]
    }
   ],
   "source": [
    "alldogs_year_otl['contact.address.postcode'] = alldogs_year_otl['contact.address.postcode'].fillna(method='ffill')"
   ]
  },
  {
   "cell_type": "code",
   "execution_count": 251,
   "metadata": {},
   "outputs": [
    {
     "name": "stdout",
     "output_type": "stream",
     "text": [
      "Table size - (90628, 33)\n",
      "Checking for missing values..\n",
      "attributes.declawed     699822\n",
      "breeds.secondary        444452\n",
      "coat                    223702\n",
      "colors.primary          169294\n",
      "colors.secondary        425529\n",
      "colors.tertiary         687606\n",
      "environment.cats        568309\n",
      "environment.children    486683\n",
      "environment.dogs        452060\n",
      "dtype: int64\n"
     ]
    }
   ],
   "source": [
    "# Check for any missing data\n",
    "print(\"Table size -\", end=' ')\n",
    "print(alldogs_nm.shape)\n",
    "\n",
    "print(\"Checking for missing values..\")\n",
    "# Number of missing values in each column of training data\n",
    "missing_val_count_by_column = (alldogs_year_otl.isnull().sum())\n",
    "print(missing_val_count_by_column[missing_val_count_by_column > 0])\n",
    "\n",
    "# Get names of columns with missing values\n",
    "missing_cols = [col for col in alldogs_year_otl.columns\n",
    "                     if alldogs_year_otl[col].isnull().any()]"
   ]
  },
  {
   "cell_type": "code",
   "execution_count": 120,
   "metadata": {},
   "outputs": [],
   "source": [
    "#not needed for this set\n",
    "#alldogs_nm = alldogs_merged.fillna({'name':'Unknown'})"
   ]
  },
  {
   "cell_type": "code",
   "execution_count": 99,
   "metadata": {},
   "outputs": [
    {
     "name": "stdout",
     "output_type": "stream",
     "text": [
      "Table size - (90628, 38)\n",
      "Checking for missing values..\n",
      "coat                    35414\n",
      "breeds.secondary        52059\n",
      "colors.primary          23938\n",
      "colors.secondary        55765\n",
      "colors.tertiary         88930\n",
      "attributes.declawed     90628\n",
      "environment.children    65588\n",
      "environment.dogs        57343\n",
      "environment.cats        75276\n",
      "dtype: int64\n"
     ]
    }
   ],
   "source": [
    "# recheck for any missing data\n",
    "print(\"Table size -\", end=' ')\n",
    "print(alldogs_nm.shape)\n",
    "\n",
    "print(\"Checking for missing values..\")\n",
    "# Number of missing values in each column of training data\n",
    "missing_val_count_by_column = (alldogs_nm.isnull().sum())\n",
    "print(missing_val_count_by_column[missing_val_count_by_column > 0])\n",
    "\n",
    "# Get names of columns with missing values\n",
    "missing_cols = [col for col in alldogs_nm.columns\n",
    "                     if alldogs_nm[col].isnull().any()]"
   ]
  },
  {
   "cell_type": "code",
   "execution_count": 253,
   "metadata": {},
   "outputs": [],
   "source": [
    "alldogs_nm = alldogs_year_otl.drop(missing_cols, axis=1)"
   ]
  },
  {
   "cell_type": "code",
   "execution_count": 254,
   "metadata": {},
   "outputs": [
    {
     "data": {
      "text/html": [
       "<div>\n",
       "<style scoped>\n",
       "    .dataframe tbody tr th:only-of-type {\n",
       "        vertical-align: middle;\n",
       "    }\n",
       "\n",
       "    .dataframe tbody tr th {\n",
       "        vertical-align: top;\n",
       "    }\n",
       "\n",
       "    .dataframe thead th {\n",
       "        text-align: right;\n",
       "    }\n",
       "</style>\n",
       "<table border=\"1\" class=\"dataframe\">\n",
       "  <thead>\n",
       "    <tr style=\"text-align: right;\">\n",
       "      <th></th>\n",
       "      <th>adoption_time</th>\n",
       "      <th>age</th>\n",
       "      <th>attributes.house_trained</th>\n",
       "      <th>attributes.shots_current</th>\n",
       "      <th>attributes.spayed_neutered</th>\n",
       "      <th>attributes.special_needs</th>\n",
       "      <th>breeds.mixed</th>\n",
       "      <th>breeds.primary</th>\n",
       "      <th>breeds.unknown</th>\n",
       "      <th>contact.address.city</th>\n",
       "      <th>...</th>\n",
       "      <th>organization_id</th>\n",
       "      <th>published_at</th>\n",
       "      <th>size</th>\n",
       "      <th>status</th>\n",
       "      <th>status_changed_at</th>\n",
       "      <th>tags</th>\n",
       "      <th>url</th>\n",
       "      <th>year</th>\n",
       "      <th>log_adpt_time</th>\n",
       "      <th>cg_adpt_time</th>\n",
       "    </tr>\n",
       "  </thead>\n",
       "  <tbody>\n",
       "    <tr>\n",
       "      <th>1</th>\n",
       "      <td>96</td>\n",
       "      <td>Adult</td>\n",
       "      <td>True</td>\n",
       "      <td>True</td>\n",
       "      <td>True</td>\n",
       "      <td>False</td>\n",
       "      <td>False</td>\n",
       "      <td>Japanese Chin</td>\n",
       "      <td>False</td>\n",
       "      <td>Birmingham</td>\n",
       "      <td>...</td>\n",
       "      <td>CA712</td>\n",
       "      <td>2016-08-08T19:15:43+0000</td>\n",
       "      <td>Small</td>\n",
       "      <td>adopted</td>\n",
       "      <td>2016-11-13T08:14:08+0000</td>\n",
       "      <td>[]</td>\n",
       "      <td>https://www.petfinder.com/dog/bess-located-in-...</td>\n",
       "      <td>2016</td>\n",
       "      <td>4.575741</td>\n",
       "      <td>&gt; 100 days</td>\n",
       "    </tr>\n",
       "    <tr>\n",
       "      <th>2</th>\n",
       "      <td>98</td>\n",
       "      <td>Young</td>\n",
       "      <td>True</td>\n",
       "      <td>True</td>\n",
       "      <td>True</td>\n",
       "      <td>False</td>\n",
       "      <td>True</td>\n",
       "      <td>Scottish Terrier</td>\n",
       "      <td>False</td>\n",
       "      <td>Birmingham</td>\n",
       "      <td>...</td>\n",
       "      <td>TX1860</td>\n",
       "      <td>2014-10-14T09:20:08+0000</td>\n",
       "      <td>Small</td>\n",
       "      <td>adopted</td>\n",
       "      <td>2015-01-20T17:31:49+0000</td>\n",
       "      <td>[]</td>\n",
       "      <td>https://www.petfinder.com/dog/madonna-30542160...</td>\n",
       "      <td>2015</td>\n",
       "      <td>4.596129</td>\n",
       "      <td>&gt; 100 days</td>\n",
       "    </tr>\n",
       "    <tr>\n",
       "      <th>3</th>\n",
       "      <td>32</td>\n",
       "      <td>Adult</td>\n",
       "      <td>True</td>\n",
       "      <td>True</td>\n",
       "      <td>True</td>\n",
       "      <td>False</td>\n",
       "      <td>False</td>\n",
       "      <td>Bullmastiff</td>\n",
       "      <td>False</td>\n",
       "      <td>Birmingham</td>\n",
       "      <td>...</td>\n",
       "      <td>FL653</td>\n",
       "      <td>2018-02-21T00:02:35+0000</td>\n",
       "      <td>Extra Large</td>\n",
       "      <td>adopted</td>\n",
       "      <td>2018-03-25T13:18:45+0000</td>\n",
       "      <td>[]</td>\n",
       "      <td>https://www.petfinder.com/dog/al-sweetie-birmi...</td>\n",
       "      <td>2018</td>\n",
       "      <td>3.499533</td>\n",
       "      <td>&lt; 3 months</td>\n",
       "    </tr>\n",
       "    <tr>\n",
       "      <th>4</th>\n",
       "      <td>16</td>\n",
       "      <td>Young</td>\n",
       "      <td>True</td>\n",
       "      <td>True</td>\n",
       "      <td>True</td>\n",
       "      <td>False</td>\n",
       "      <td>False</td>\n",
       "      <td>Bullmastiff</td>\n",
       "      <td>False</td>\n",
       "      <td>Birmingham</td>\n",
       "      <td>...</td>\n",
       "      <td>FL653</td>\n",
       "      <td>2015-10-26T11:05:40+0000</td>\n",
       "      <td>Large</td>\n",
       "      <td>adopted</td>\n",
       "      <td>2015-11-11T18:28:03+0000</td>\n",
       "      <td>[]</td>\n",
       "      <td>https://www.petfinder.com/dog/al-rosie-prattvi...</td>\n",
       "      <td>2015</td>\n",
       "      <td>2.839078</td>\n",
       "      <td>&lt; 1 month</td>\n",
       "    </tr>\n",
       "    <tr>\n",
       "      <th>5</th>\n",
       "      <td>56</td>\n",
       "      <td>Adult</td>\n",
       "      <td>True</td>\n",
       "      <td>True</td>\n",
       "      <td>True</td>\n",
       "      <td>False</td>\n",
       "      <td>False</td>\n",
       "      <td>Bullmastiff</td>\n",
       "      <td>False</td>\n",
       "      <td>Birmingham</td>\n",
       "      <td>...</td>\n",
       "      <td>FL653</td>\n",
       "      <td>2016-06-24T16:49:40+0000</td>\n",
       "      <td>Extra Large</td>\n",
       "      <td>adopted</td>\n",
       "      <td>2016-08-20T13:23:19+0000</td>\n",
       "      <td>[]</td>\n",
       "      <td>https://www.petfinder.com/dog/al-tank-montgome...</td>\n",
       "      <td>2016</td>\n",
       "      <td>4.044804</td>\n",
       "      <td>&lt; 3 months</td>\n",
       "    </tr>\n",
       "  </tbody>\n",
       "</table>\n",
       "<p>5 rows × 27 columns</p>\n",
       "</div>"
      ],
      "text/plain": [
       "   adoption_time    age  attributes.house_trained  attributes.shots_current  \\\n",
       "1             96  Adult                      True                      True   \n",
       "2             98  Young                      True                      True   \n",
       "3             32  Adult                      True                      True   \n",
       "4             16  Young                      True                      True   \n",
       "5             56  Adult                      True                      True   \n",
       "\n",
       "   attributes.spayed_neutered  attributes.special_needs  breeds.mixed  \\\n",
       "1                        True                     False         False   \n",
       "2                        True                     False          True   \n",
       "3                        True                     False         False   \n",
       "4                        True                     False         False   \n",
       "5                        True                     False         False   \n",
       "\n",
       "     breeds.primary  breeds.unknown contact.address.city  ...  \\\n",
       "1     Japanese Chin           False           Birmingham  ...   \n",
       "2  Scottish Terrier           False           Birmingham  ...   \n",
       "3       Bullmastiff           False           Birmingham  ...   \n",
       "4       Bullmastiff           False           Birmingham  ...   \n",
       "5       Bullmastiff           False           Birmingham  ...   \n",
       "\n",
       "   organization_id              published_at         size   status  \\\n",
       "1            CA712  2016-08-08T19:15:43+0000        Small  adopted   \n",
       "2           TX1860  2014-10-14T09:20:08+0000        Small  adopted   \n",
       "3            FL653  2018-02-21T00:02:35+0000  Extra Large  adopted   \n",
       "4            FL653  2015-10-26T11:05:40+0000        Large  adopted   \n",
       "5            FL653  2016-06-24T16:49:40+0000  Extra Large  adopted   \n",
       "\n",
       "          status_changed_at  tags  \\\n",
       "1  2016-11-13T08:14:08+0000    []   \n",
       "2  2015-01-20T17:31:49+0000    []   \n",
       "3  2018-03-25T13:18:45+0000    []   \n",
       "4  2015-11-11T18:28:03+0000    []   \n",
       "5  2016-08-20T13:23:19+0000    []   \n",
       "\n",
       "                                                 url  year log_adpt_time  \\\n",
       "1  https://www.petfinder.com/dog/bess-located-in-...  2016      4.575741   \n",
       "2  https://www.petfinder.com/dog/madonna-30542160...  2015      4.596129   \n",
       "3  https://www.petfinder.com/dog/al-sweetie-birmi...  2018      3.499533   \n",
       "4  https://www.petfinder.com/dog/al-rosie-prattvi...  2015      2.839078   \n",
       "5  https://www.petfinder.com/dog/al-tank-montgome...  2016      4.044804   \n",
       "\n",
       "  cg_adpt_time  \n",
       "1   > 100 days  \n",
       "2   > 100 days  \n",
       "3   < 3 months  \n",
       "4    < 1 month  \n",
       "5   < 3 months  \n",
       "\n",
       "[5 rows x 27 columns]"
      ]
     },
     "execution_count": 254,
     "metadata": {},
     "output_type": "execute_result"
    }
   ],
   "source": [
    "alldogs_nm.head()"
   ]
  },
  {
   "cell_type": "code",
   "execution_count": 255,
   "metadata": {},
   "outputs": [
    {
     "data": {
      "text/plain": [
       "699822"
      ]
     },
     "execution_count": 255,
     "metadata": {},
     "output_type": "execute_result"
    }
   ],
   "source": [
    "len(alldogs_nm)"
   ]
  },
  {
   "cell_type": "code",
   "execution_count": 256,
   "metadata": {},
   "outputs": [],
   "source": [
    "#remove negative days error\n",
    "alldogs_nm = alldogs_nm[alldogs_nm['adoption_time']>=0]"
   ]
  },
  {
   "cell_type": "code",
   "execution_count": 257,
   "metadata": {},
   "outputs": [
    {
     "data": {
      "text/plain": [
       "699822"
      ]
     },
     "execution_count": 257,
     "metadata": {},
     "output_type": "execute_result"
    }
   ],
   "source": [
    "len(alldogs_nm)"
   ]
  },
  {
   "cell_type": "code",
   "execution_count": 102,
   "metadata": {},
   "outputs": [
    {
     "data": {
      "text/plain": [
       "Index(['id', 'organization_id', 'url', 'age', 'gender', 'size', 'tags', 'name',\n",
       "       'status', 'status_changed_at', 'published_at', 'distance',\n",
       "       'breeds.primary', 'breeds.mixed', 'breeds.unknown',\n",
       "       'attributes.spayed_neutered', 'attributes.house_trained',\n",
       "       'attributes.special_needs', 'attributes.shots_current',\n",
       "       'contact.address.city', 'contact.address.state',\n",
       "       'contact.address.postcode', 'adoption_time', 'month', 'year',\n",
       "       'log_adpt_time', 'mod_adpt_time', 'logmod_adpt_time', 'cg_adpt_time'],\n",
       "      dtype='object')"
      ]
     },
     "execution_count": 102,
     "metadata": {},
     "output_type": "execute_result"
    }
   ],
   "source": [
    "alldogs_nm.columns"
   ]
  },
  {
   "cell_type": "code",
   "execution_count": 258,
   "metadata": {
    "scrolled": true
   },
   "outputs": [
    {
     "data": {
      "text/plain": [
       "Bella      2475\n",
       "Daisy      2180\n",
       "Buddy      2108\n",
       "Max        2096\n",
       "Charlie    1980\n",
       "Name: name, dtype: int64"
      ]
     },
     "execution_count": 258,
     "metadata": {},
     "output_type": "execute_result"
    }
   ],
   "source": [
    "namelist = alldogs_nm['name'].value_counts()\n",
    "namelist.head()"
   ]
  },
  {
   "cell_type": "code",
   "execution_count": 259,
   "metadata": {},
   "outputs": [
    {
     "data": {
      "text/plain": [
       "178839"
      ]
     },
     "execution_count": 259,
     "metadata": {},
     "output_type": "execute_result"
    }
   ],
   "source": [
    "len(namelist)"
   ]
  },
  {
   "cell_type": "code",
   "execution_count": 260,
   "metadata": {},
   "outputs": [
    {
     "data": {
      "text/plain": [
       "0.00040404040404040404"
      ]
     },
     "execution_count": 260,
     "metadata": {},
     "output_type": "execute_result"
    }
   ],
   "source": [
    "namelist[alldogs_nm['name'].iloc[89983]]/namelist.max()"
   ]
  },
  {
   "cell_type": "code",
   "execution_count": 261,
   "metadata": {},
   "outputs": [],
   "source": [
    "maxname = namelist.max()"
   ]
  },
  {
   "cell_type": "code",
   "execution_count": 262,
   "metadata": {},
   "outputs": [
    {
     "data": {
      "text/html": [
       "<div>\n",
       "<style scoped>\n",
       "    .dataframe tbody tr th:only-of-type {\n",
       "        vertical-align: middle;\n",
       "    }\n",
       "\n",
       "    .dataframe tbody tr th {\n",
       "        vertical-align: top;\n",
       "    }\n",
       "\n",
       "    .dataframe thead th {\n",
       "        text-align: right;\n",
       "    }\n",
       "</style>\n",
       "<table border=\"1\" class=\"dataframe\">\n",
       "  <thead>\n",
       "    <tr style=\"text-align: right;\">\n",
       "      <th></th>\n",
       "      <th>adoption_time</th>\n",
       "      <th>age</th>\n",
       "      <th>attributes.house_trained</th>\n",
       "      <th>attributes.shots_current</th>\n",
       "      <th>attributes.spayed_neutered</th>\n",
       "      <th>attributes.special_needs</th>\n",
       "      <th>breeds.mixed</th>\n",
       "      <th>breeds.primary</th>\n",
       "      <th>breeds.unknown</th>\n",
       "      <th>contact.address.city</th>\n",
       "      <th>...</th>\n",
       "      <th>organization_id</th>\n",
       "      <th>published_at</th>\n",
       "      <th>size</th>\n",
       "      <th>status</th>\n",
       "      <th>status_changed_at</th>\n",
       "      <th>tags</th>\n",
       "      <th>url</th>\n",
       "      <th>year</th>\n",
       "      <th>log_adpt_time</th>\n",
       "      <th>cg_adpt_time</th>\n",
       "    </tr>\n",
       "  </thead>\n",
       "  <tbody>\n",
       "  </tbody>\n",
       "</table>\n",
       "<p>0 rows × 27 columns</p>\n",
       "</div>"
      ],
      "text/plain": [
       "Empty DataFrame\n",
       "Columns: [adoption_time, age, attributes.house_trained, attributes.shots_current, attributes.spayed_neutered, attributes.special_needs, breeds.mixed, breeds.primary, breeds.unknown, contact.address.city, contact.address.postcode, contact.address.state, distance, gender, id, month, name, organization_id, published_at, size, status, status_changed_at, tags, url, year, log_adpt_time, cg_adpt_time]\n",
       "Index: []\n",
       "\n",
       "[0 rows x 27 columns]"
      ]
     },
     "execution_count": 262,
     "metadata": {},
     "output_type": "execute_result"
    }
   ],
   "source": [
    "alldogs_nm[alldogs_nm['name'].isnull()]"
   ]
  },
  {
   "cell_type": "code",
   "execution_count": 107,
   "metadata": {},
   "outputs": [
    {
     "data": {
      "text/plain": [
       "0.21978021978021978"
      ]
     },
     "execution_count": 107,
     "metadata": {},
     "output_type": "execute_result"
    }
   ],
   "source": [
    "def get_norm_name_freq(name):\n",
    "    return namelist[name]/maxname\n",
    "get_norm_name_freq(alldogs_nm['name'].iloc[0])"
   ]
  },
  {
   "cell_type": "code",
   "execution_count": 108,
   "metadata": {},
   "outputs": [
    {
     "data": {
      "text/html": [
       "<div>\n",
       "<style scoped>\n",
       "    .dataframe tbody tr th:only-of-type {\n",
       "        vertical-align: middle;\n",
       "    }\n",
       "\n",
       "    .dataframe tbody tr th {\n",
       "        vertical-align: top;\n",
       "    }\n",
       "\n",
       "    .dataframe thead th {\n",
       "        text-align: right;\n",
       "    }\n",
       "</style>\n",
       "<table border=\"1\" class=\"dataframe\">\n",
       "  <thead>\n",
       "    <tr style=\"text-align: right;\">\n",
       "      <th></th>\n",
       "      <th>id</th>\n",
       "      <th>organization_id</th>\n",
       "      <th>url</th>\n",
       "      <th>age</th>\n",
       "      <th>gender</th>\n",
       "      <th>size</th>\n",
       "      <th>tags</th>\n",
       "      <th>name</th>\n",
       "      <th>status</th>\n",
       "      <th>status_changed_at</th>\n",
       "      <th>...</th>\n",
       "      <th>contact.address.state</th>\n",
       "      <th>contact.address.postcode</th>\n",
       "      <th>adoption_time</th>\n",
       "      <th>month</th>\n",
       "      <th>year</th>\n",
       "      <th>log_adpt_time</th>\n",
       "      <th>mod_adpt_time</th>\n",
       "      <th>logmod_adpt_time</th>\n",
       "      <th>cg_adpt_time</th>\n",
       "      <th>norm_name_freq</th>\n",
       "    </tr>\n",
       "  </thead>\n",
       "  <tbody>\n",
       "    <tr>\n",
       "      <th>0</th>\n",
       "      <td>33853923</td>\n",
       "      <td>CA2395</td>\n",
       "      <td>https://www.petfinder.com/dog/sunny-33853923/c...</td>\n",
       "      <td>Baby</td>\n",
       "      <td>Female</td>\n",
       "      <td>Small</td>\n",
       "      <td>[]</td>\n",
       "      <td>Sunny</td>\n",
       "      <td>adopted</td>\n",
       "      <td>2015-12-11T20:50:51+0000</td>\n",
       "      <td>...</td>\n",
       "      <td>CA</td>\n",
       "      <td>90013</td>\n",
       "      <td>19</td>\n",
       "      <td>12</td>\n",
       "      <td>2015</td>\n",
       "      <td>3.000720</td>\n",
       "      <td>1.903654</td>\n",
       "      <td>4.779123</td>\n",
       "      <td>&lt; 1 month</td>\n",
       "      <td>0.219780</td>\n",
       "    </tr>\n",
       "    <tr>\n",
       "      <th>1</th>\n",
       "      <td>33853969</td>\n",
       "      <td>CA2395</td>\n",
       "      <td>https://www.petfinder.com/dog/batman-33853969/...</td>\n",
       "      <td>Young</td>\n",
       "      <td>Male</td>\n",
       "      <td>Small</td>\n",
       "      <td>[]</td>\n",
       "      <td>Batman</td>\n",
       "      <td>adopted</td>\n",
       "      <td>2015-12-21T22:23:16+0000</td>\n",
       "      <td>...</td>\n",
       "      <td>CA</td>\n",
       "      <td>90013</td>\n",
       "      <td>29</td>\n",
       "      <td>12</td>\n",
       "      <td>2015</td>\n",
       "      <td>3.404525</td>\n",
       "      <td>2.036168</td>\n",
       "      <td>4.859812</td>\n",
       "      <td>&lt; 1 month</td>\n",
       "      <td>0.109890</td>\n",
       "    </tr>\n",
       "    <tr>\n",
       "      <th>2</th>\n",
       "      <td>34004290</td>\n",
       "      <td>CA2395</td>\n",
       "      <td>https://www.petfinder.com/dog/benji-34004290/c...</td>\n",
       "      <td>Young</td>\n",
       "      <td>Male</td>\n",
       "      <td>Medium</td>\n",
       "      <td>[]</td>\n",
       "      <td>Benji</td>\n",
       "      <td>adopted</td>\n",
       "      <td>2015-12-30T01:22:04+0000</td>\n",
       "      <td>...</td>\n",
       "      <td>CA</td>\n",
       "      <td>90013</td>\n",
       "      <td>18</td>\n",
       "      <td>12</td>\n",
       "      <td>2015</td>\n",
       "      <td>2.949688</td>\n",
       "      <td>1.888175</td>\n",
       "      <td>4.770685</td>\n",
       "      <td>&lt; 1 month</td>\n",
       "      <td>0.267399</td>\n",
       "    </tr>\n",
       "    <tr>\n",
       "      <th>3</th>\n",
       "      <td>34042721</td>\n",
       "      <td>CA2395</td>\n",
       "      <td>https://www.petfinder.com/dog/zuma-34042721/ca...</td>\n",
       "      <td>Adult</td>\n",
       "      <td>Female</td>\n",
       "      <td>Medium</td>\n",
       "      <td>[]</td>\n",
       "      <td>Zuma</td>\n",
       "      <td>adopted</td>\n",
       "      <td>2016-02-12T19:13:27+0000</td>\n",
       "      <td>...</td>\n",
       "      <td>CA</td>\n",
       "      <td>90013</td>\n",
       "      <td>57</td>\n",
       "      <td>2</td>\n",
       "      <td>2016</td>\n",
       "      <td>4.062166</td>\n",
       "      <td>2.290172</td>\n",
       "      <td>5.056246</td>\n",
       "      <td>&lt; 100 days</td>\n",
       "      <td>0.025641</td>\n",
       "    </tr>\n",
       "    <tr>\n",
       "      <th>4</th>\n",
       "      <td>34079567</td>\n",
       "      <td>CA2395</td>\n",
       "      <td>https://www.petfinder.com/dog/diego-34079567/c...</td>\n",
       "      <td>Young</td>\n",
       "      <td>Male</td>\n",
       "      <td>Medium</td>\n",
       "      <td>[]</td>\n",
       "      <td>Diego</td>\n",
       "      <td>adopted</td>\n",
       "      <td>2015-12-30T01:21:59+0000</td>\n",
       "      <td>...</td>\n",
       "      <td>CA</td>\n",
       "      <td>90013</td>\n",
       "      <td>8</td>\n",
       "      <td>12</td>\n",
       "      <td>2015</td>\n",
       "      <td>2.208274</td>\n",
       "      <td>1.695218</td>\n",
       "      <td>4.682131</td>\n",
       "      <td>1 - 2 weeks</td>\n",
       "      <td>0.095238</td>\n",
       "    </tr>\n",
       "  </tbody>\n",
       "</table>\n",
       "<p>5 rows × 30 columns</p>\n",
       "</div>"
      ],
      "text/plain": [
       "         id organization_id  \\\n",
       "0  33853923          CA2395   \n",
       "1  33853969          CA2395   \n",
       "2  34004290          CA2395   \n",
       "3  34042721          CA2395   \n",
       "4  34079567          CA2395   \n",
       "\n",
       "                                                 url    age  gender    size  \\\n",
       "0  https://www.petfinder.com/dog/sunny-33853923/c...   Baby  Female   Small   \n",
       "1  https://www.petfinder.com/dog/batman-33853969/...  Young    Male   Small   \n",
       "2  https://www.petfinder.com/dog/benji-34004290/c...  Young    Male  Medium   \n",
       "3  https://www.petfinder.com/dog/zuma-34042721/ca...  Adult  Female  Medium   \n",
       "4  https://www.petfinder.com/dog/diego-34079567/c...  Young    Male  Medium   \n",
       "\n",
       "  tags    name   status         status_changed_at  ... contact.address.state  \\\n",
       "0   []   Sunny  adopted  2015-12-11T20:50:51+0000  ...                    CA   \n",
       "1   []  Batman  adopted  2015-12-21T22:23:16+0000  ...                    CA   \n",
       "2   []   Benji  adopted  2015-12-30T01:22:04+0000  ...                    CA   \n",
       "3   []    Zuma  adopted  2016-02-12T19:13:27+0000  ...                    CA   \n",
       "4   []   Diego  adopted  2015-12-30T01:21:59+0000  ...                    CA   \n",
       "\n",
       "   contact.address.postcode adoption_time  month  year  log_adpt_time  \\\n",
       "0                     90013            19     12  2015       3.000720   \n",
       "1                     90013            29     12  2015       3.404525   \n",
       "2                     90013            18     12  2015       2.949688   \n",
       "3                     90013            57      2  2016       4.062166   \n",
       "4                     90013             8     12  2015       2.208274   \n",
       "\n",
       "   mod_adpt_time  logmod_adpt_time  cg_adpt_time norm_name_freq  \n",
       "0       1.903654          4.779123     < 1 month       0.219780  \n",
       "1       2.036168          4.859812     < 1 month       0.109890  \n",
       "2       1.888175          4.770685     < 1 month       0.267399  \n",
       "3       2.290172          5.056246    < 100 days       0.025641  \n",
       "4       1.695218          4.682131   1 - 2 weeks       0.095238  \n",
       "\n",
       "[5 rows x 30 columns]"
      ]
     },
     "execution_count": 108,
     "metadata": {},
     "output_type": "execute_result"
    }
   ],
   "source": [
    "alldogs_nm['norm_name_freq'] = alldogs_nm.apply(lambda x: get_norm_name_freq(x['name']), axis=1)\n",
    "alldogs_nm.head()"
   ]
  },
  {
   "cell_type": "code",
   "execution_count": 263,
   "metadata": {},
   "outputs": [
    {
     "data": {
      "text/plain": [
       "Labrador Retriever    86443\n",
       "Chihuahua             51958\n",
       "Pit Bull Terrier      41228\n",
       "Terrier               34084\n",
       "Shepherd              27418\n",
       "Name: breeds.primary, dtype: int64"
      ]
     },
     "execution_count": 263,
     "metadata": {},
     "output_type": "execute_result"
    }
   ],
   "source": [
    "breedlist = alldogs_nm['breeds.primary'].value_counts()\n",
    "breedlist.head()"
   ]
  },
  {
   "cell_type": "code",
   "execution_count": 264,
   "metadata": {},
   "outputs": [
    {
     "data": {
      "text/plain": [
       "261"
      ]
     },
     "execution_count": 264,
     "metadata": {},
     "output_type": "execute_result"
    }
   ],
   "source": [
    "len(breedlist)"
   ]
  },
  {
   "cell_type": "code",
   "execution_count": null,
   "metadata": {},
   "outputs": [],
   "source": []
  },
  {
   "cell_type": "code",
   "execution_count": 265,
   "metadata": {},
   "outputs": [
    {
     "data": {
      "text/plain": [
       "0.0032738336244693034"
      ]
     },
     "execution_count": 265,
     "metadata": {},
     "output_type": "execute_result"
    }
   ],
   "source": [
    "def get_norm_breed_freq(breed):\n",
    "    return breedlist[breed]/breedlist.max()\n",
    "alldogs_nm['breeds.primary'].iloc[0]\n",
    "get_norm_breed_freq(alldogs_nm['breeds.primary'].iloc[0])"
   ]
  },
  {
   "cell_type": "code",
   "execution_count": 266,
   "metadata": {},
   "outputs": [
    {
     "data": {
      "text/html": [
       "<div>\n",
       "<style scoped>\n",
       "    .dataframe tbody tr th:only-of-type {\n",
       "        vertical-align: middle;\n",
       "    }\n",
       "\n",
       "    .dataframe tbody tr th {\n",
       "        vertical-align: top;\n",
       "    }\n",
       "\n",
       "    .dataframe thead th {\n",
       "        text-align: right;\n",
       "    }\n",
       "</style>\n",
       "<table border=\"1\" class=\"dataframe\">\n",
       "  <thead>\n",
       "    <tr style=\"text-align: right;\">\n",
       "      <th></th>\n",
       "      <th>adoption_time</th>\n",
       "      <th>age</th>\n",
       "      <th>attributes.house_trained</th>\n",
       "      <th>attributes.shots_current</th>\n",
       "      <th>attributes.spayed_neutered</th>\n",
       "      <th>attributes.special_needs</th>\n",
       "      <th>breeds.mixed</th>\n",
       "      <th>breeds.primary</th>\n",
       "      <th>breeds.unknown</th>\n",
       "      <th>contact.address.city</th>\n",
       "      <th>...</th>\n",
       "      <th>published_at</th>\n",
       "      <th>size</th>\n",
       "      <th>status</th>\n",
       "      <th>status_changed_at</th>\n",
       "      <th>tags</th>\n",
       "      <th>url</th>\n",
       "      <th>year</th>\n",
       "      <th>log_adpt_time</th>\n",
       "      <th>cg_adpt_time</th>\n",
       "      <th>norm_breed_freq</th>\n",
       "    </tr>\n",
       "  </thead>\n",
       "  <tbody>\n",
       "    <tr>\n",
       "      <th>1</th>\n",
       "      <td>96</td>\n",
       "      <td>Adult</td>\n",
       "      <td>True</td>\n",
       "      <td>True</td>\n",
       "      <td>True</td>\n",
       "      <td>False</td>\n",
       "      <td>False</td>\n",
       "      <td>Japanese Chin</td>\n",
       "      <td>False</td>\n",
       "      <td>Birmingham</td>\n",
       "      <td>...</td>\n",
       "      <td>2016-08-08T19:15:43+0000</td>\n",
       "      <td>Small</td>\n",
       "      <td>adopted</td>\n",
       "      <td>2016-11-13T08:14:08+0000</td>\n",
       "      <td>[]</td>\n",
       "      <td>https://www.petfinder.com/dog/bess-located-in-...</td>\n",
       "      <td>2016</td>\n",
       "      <td>4.575741</td>\n",
       "      <td>&gt; 100 days</td>\n",
       "      <td>0.003274</td>\n",
       "    </tr>\n",
       "    <tr>\n",
       "      <th>2</th>\n",
       "      <td>98</td>\n",
       "      <td>Young</td>\n",
       "      <td>True</td>\n",
       "      <td>True</td>\n",
       "      <td>True</td>\n",
       "      <td>False</td>\n",
       "      <td>True</td>\n",
       "      <td>Scottish Terrier</td>\n",
       "      <td>False</td>\n",
       "      <td>Birmingham</td>\n",
       "      <td>...</td>\n",
       "      <td>2014-10-14T09:20:08+0000</td>\n",
       "      <td>Small</td>\n",
       "      <td>adopted</td>\n",
       "      <td>2015-01-20T17:31:49+0000</td>\n",
       "      <td>[]</td>\n",
       "      <td>https://www.petfinder.com/dog/madonna-30542160...</td>\n",
       "      <td>2015</td>\n",
       "      <td>4.596129</td>\n",
       "      <td>&gt; 100 days</td>\n",
       "      <td>0.006918</td>\n",
       "    </tr>\n",
       "    <tr>\n",
       "      <th>3</th>\n",
       "      <td>32</td>\n",
       "      <td>Adult</td>\n",
       "      <td>True</td>\n",
       "      <td>True</td>\n",
       "      <td>True</td>\n",
       "      <td>False</td>\n",
       "      <td>False</td>\n",
       "      <td>Bullmastiff</td>\n",
       "      <td>False</td>\n",
       "      <td>Birmingham</td>\n",
       "      <td>...</td>\n",
       "      <td>2018-02-21T00:02:35+0000</td>\n",
       "      <td>Extra Large</td>\n",
       "      <td>adopted</td>\n",
       "      <td>2018-03-25T13:18:45+0000</td>\n",
       "      <td>[]</td>\n",
       "      <td>https://www.petfinder.com/dog/al-sweetie-birmi...</td>\n",
       "      <td>2018</td>\n",
       "      <td>3.499533</td>\n",
       "      <td>&lt; 3 months</td>\n",
       "      <td>0.006686</td>\n",
       "    </tr>\n",
       "    <tr>\n",
       "      <th>4</th>\n",
       "      <td>16</td>\n",
       "      <td>Young</td>\n",
       "      <td>True</td>\n",
       "      <td>True</td>\n",
       "      <td>True</td>\n",
       "      <td>False</td>\n",
       "      <td>False</td>\n",
       "      <td>Bullmastiff</td>\n",
       "      <td>False</td>\n",
       "      <td>Birmingham</td>\n",
       "      <td>...</td>\n",
       "      <td>2015-10-26T11:05:40+0000</td>\n",
       "      <td>Large</td>\n",
       "      <td>adopted</td>\n",
       "      <td>2015-11-11T18:28:03+0000</td>\n",
       "      <td>[]</td>\n",
       "      <td>https://www.petfinder.com/dog/al-rosie-prattvi...</td>\n",
       "      <td>2015</td>\n",
       "      <td>2.839078</td>\n",
       "      <td>&lt; 1 month</td>\n",
       "      <td>0.006686</td>\n",
       "    </tr>\n",
       "    <tr>\n",
       "      <th>5</th>\n",
       "      <td>56</td>\n",
       "      <td>Adult</td>\n",
       "      <td>True</td>\n",
       "      <td>True</td>\n",
       "      <td>True</td>\n",
       "      <td>False</td>\n",
       "      <td>False</td>\n",
       "      <td>Bullmastiff</td>\n",
       "      <td>False</td>\n",
       "      <td>Birmingham</td>\n",
       "      <td>...</td>\n",
       "      <td>2016-06-24T16:49:40+0000</td>\n",
       "      <td>Extra Large</td>\n",
       "      <td>adopted</td>\n",
       "      <td>2016-08-20T13:23:19+0000</td>\n",
       "      <td>[]</td>\n",
       "      <td>https://www.petfinder.com/dog/al-tank-montgome...</td>\n",
       "      <td>2016</td>\n",
       "      <td>4.044804</td>\n",
       "      <td>&lt; 3 months</td>\n",
       "      <td>0.006686</td>\n",
       "    </tr>\n",
       "  </tbody>\n",
       "</table>\n",
       "<p>5 rows × 28 columns</p>\n",
       "</div>"
      ],
      "text/plain": [
       "   adoption_time    age  attributes.house_trained  attributes.shots_current  \\\n",
       "1             96  Adult                      True                      True   \n",
       "2             98  Young                      True                      True   \n",
       "3             32  Adult                      True                      True   \n",
       "4             16  Young                      True                      True   \n",
       "5             56  Adult                      True                      True   \n",
       "\n",
       "   attributes.spayed_neutered  attributes.special_needs  breeds.mixed  \\\n",
       "1                        True                     False         False   \n",
       "2                        True                     False          True   \n",
       "3                        True                     False         False   \n",
       "4                        True                     False         False   \n",
       "5                        True                     False         False   \n",
       "\n",
       "     breeds.primary  breeds.unknown contact.address.city  ...  \\\n",
       "1     Japanese Chin           False           Birmingham  ...   \n",
       "2  Scottish Terrier           False           Birmingham  ...   \n",
       "3       Bullmastiff           False           Birmingham  ...   \n",
       "4       Bullmastiff           False           Birmingham  ...   \n",
       "5       Bullmastiff           False           Birmingham  ...   \n",
       "\n",
       "               published_at         size   status         status_changed_at  \\\n",
       "1  2016-08-08T19:15:43+0000        Small  adopted  2016-11-13T08:14:08+0000   \n",
       "2  2014-10-14T09:20:08+0000        Small  adopted  2015-01-20T17:31:49+0000   \n",
       "3  2018-02-21T00:02:35+0000  Extra Large  adopted  2018-03-25T13:18:45+0000   \n",
       "4  2015-10-26T11:05:40+0000        Large  adopted  2015-11-11T18:28:03+0000   \n",
       "5  2016-06-24T16:49:40+0000  Extra Large  adopted  2016-08-20T13:23:19+0000   \n",
       "\n",
       "   tags                                                url  year  \\\n",
       "1    []  https://www.petfinder.com/dog/bess-located-in-...  2016   \n",
       "2    []  https://www.petfinder.com/dog/madonna-30542160...  2015   \n",
       "3    []  https://www.petfinder.com/dog/al-sweetie-birmi...  2018   \n",
       "4    []  https://www.petfinder.com/dog/al-rosie-prattvi...  2015   \n",
       "5    []  https://www.petfinder.com/dog/al-tank-montgome...  2016   \n",
       "\n",
       "  log_adpt_time cg_adpt_time norm_breed_freq  \n",
       "1      4.575741   > 100 days        0.003274  \n",
       "2      4.596129   > 100 days        0.006918  \n",
       "3      3.499533   < 3 months        0.006686  \n",
       "4      2.839078    < 1 month        0.006686  \n",
       "5      4.044804   < 3 months        0.006686  \n",
       "\n",
       "[5 rows x 28 columns]"
      ]
     },
     "execution_count": 266,
     "metadata": {},
     "output_type": "execute_result"
    }
   ],
   "source": [
    "alldogs_nm['norm_breed_freq'] = alldogs_nm.apply(lambda x: get_norm_breed_freq(x['breeds.primary']), axis=1)\n",
    "alldogs_nm.head()"
   ]
  },
  {
   "cell_type": "code",
   "execution_count": null,
   "metadata": {},
   "outputs": [],
   "source": []
  },
  {
   "cell_type": "code",
   "execution_count": 268,
   "metadata": {},
   "outputs": [
    {
     "data": {
      "text/plain": [
       "count    699822.000000\n",
       "mean          0.306171\n",
       "std           0.310070\n",
       "min           0.000012\n",
       "25%           0.066714\n",
       "50%           0.168585\n",
       "75%           0.476939\n",
       "max           1.000000\n",
       "Name: norm_breed_freq, dtype: float64"
      ]
     },
     "execution_count": 268,
     "metadata": {},
     "output_type": "execute_result"
    }
   ],
   "source": [
    "alldogs_nm['norm_breed_freq'].describe()"
   ]
  },
  {
   "cell_type": "code",
   "execution_count": null,
   "metadata": {},
   "outputs": [],
   "source": []
  },
  {
   "cell_type": "code",
   "execution_count": 113,
   "metadata": {},
   "outputs": [
    {
     "data": {
      "text/plain": [
       "0           High\n",
       "1           High\n",
       "2           High\n",
       "3         Medium\n",
       "4           High\n",
       "           ...  \n",
       "184384      High\n",
       "184385      High\n",
       "184386    Medium\n",
       "184387       Low\n",
       "184388    Medium\n",
       "Name: norm_name_freq, Length: 90628, dtype: category\n",
       "Categories (3, object): [Low < Medium < High]"
      ]
     },
     "execution_count": 113,
     "metadata": {},
     "output_type": "execute_result"
    }
   ],
   "source": [
    "pd.qcut(alldogs_nm['norm_name_freq'], q=[0, 0.33, 0.67, 1], labels = ['Low', 'Medium', 'High'])"
   ]
  },
  {
   "cell_type": "code",
   "execution_count": 114,
   "metadata": {},
   "outputs": [],
   "source": [
    "alldogs_nm['name_pop'] = pd.qcut(alldogs_nm['norm_name_freq'], q=[0, 0.33, 0.67, 1], labels = ['Low', 'Medium', 'High'])"
   ]
  },
  {
   "cell_type": "code",
   "execution_count": 115,
   "metadata": {},
   "outputs": [
    {
     "data": {
      "text/plain": [
       "Low       33137\n",
       "High      29506\n",
       "Medium    27985\n",
       "Name: name_pop, dtype: int64"
      ]
     },
     "execution_count": 115,
     "metadata": {},
     "output_type": "execute_result"
    }
   ],
   "source": [
    "alldogs_nm['name_pop'].value_counts()"
   ]
  },
  {
   "cell_type": "code",
   "execution_count": 269,
   "metadata": {},
   "outputs": [
    {
     "data": {
      "text/plain": [
       "Medium    253565\n",
       "Low       232544\n",
       "High      213713\n",
       "Name: breed_pop, dtype: int64"
      ]
     },
     "execution_count": 269,
     "metadata": {},
     "output_type": "execute_result"
    }
   ],
   "source": [
    "alldogs_nm['breed_pop'] = pd.qcut(alldogs_nm['norm_breed_freq'], q=[0, 0.33, 0.67, 1], labels = ['Low', 'Medium', 'High'])\n",
    "alldogs_nm['breed_pop'].value_counts()"
   ]
  },
  {
   "cell_type": "code",
   "execution_count": 270,
   "metadata": {},
   "outputs": [
    {
     "data": {
      "text/plain": [
       "breed_pop\n",
       "Medium    42.957735\n",
       "High      48.302658\n",
       "Low       49.132697\n",
       "Name: adoption_time, dtype: float64"
      ]
     },
     "execution_count": 270,
     "metadata": {},
     "output_type": "execute_result"
    }
   ],
   "source": [
    "alldogs_nm.groupby('breed_pop')['adoption_time'].mean().sort_values()"
   ]
  },
  {
   "cell_type": "code",
   "execution_count": 118,
   "metadata": {},
   "outputs": [
    {
     "data": {
      "text/plain": [
       "name_pop\n",
       "Medium    54.755297\n",
       "Low       61.811087\n",
       "High      62.200400\n",
       "Name: adoption_time, dtype: float64"
      ]
     },
     "execution_count": 118,
     "metadata": {},
     "output_type": "execute_result"
    }
   ],
   "source": [
    "alldogs_nm.groupby('name_pop')['adoption_time'].mean().sort_values()"
   ]
  },
  {
   "cell_type": "code",
   "execution_count": 190,
   "metadata": {},
   "outputs": [
    {
     "data": {
      "text/html": [
       "<div>\n",
       "<style scoped>\n",
       "    .dataframe tbody tr th:only-of-type {\n",
       "        vertical-align: middle;\n",
       "    }\n",
       "\n",
       "    .dataframe tbody tr th {\n",
       "        vertical-align: top;\n",
       "    }\n",
       "\n",
       "    .dataframe thead th {\n",
       "        text-align: right;\n",
       "    }\n",
       "</style>\n",
       "<table border=\"1\" class=\"dataframe\">\n",
       "  <thead>\n",
       "    <tr style=\"text-align: right;\">\n",
       "      <th></th>\n",
       "      <th>id</th>\n",
       "      <th>organization_id</th>\n",
       "      <th>url</th>\n",
       "      <th>age</th>\n",
       "      <th>gender</th>\n",
       "      <th>size</th>\n",
       "      <th>tags</th>\n",
       "      <th>name</th>\n",
       "      <th>status</th>\n",
       "      <th>status_changed_at</th>\n",
       "      <th>...</th>\n",
       "      <th>month</th>\n",
       "      <th>year</th>\n",
       "      <th>log_adpt_time</th>\n",
       "      <th>mod_adpt_time</th>\n",
       "      <th>logmod_adpt_time</th>\n",
       "      <th>cg_adpt_time</th>\n",
       "      <th>norm_name_freq</th>\n",
       "      <th>norm_breed_freq</th>\n",
       "      <th>name_pop</th>\n",
       "      <th>breed_pop</th>\n",
       "    </tr>\n",
       "  </thead>\n",
       "  <tbody>\n",
       "    <tr>\n",
       "      <th>0</th>\n",
       "      <td>33853923</td>\n",
       "      <td>CA2395</td>\n",
       "      <td>https://www.petfinder.com/dog/sunny-33853923/c...</td>\n",
       "      <td>Baby</td>\n",
       "      <td>Female</td>\n",
       "      <td>Small</td>\n",
       "      <td>[]</td>\n",
       "      <td>Sunny</td>\n",
       "      <td>adopted</td>\n",
       "      <td>2015-12-11T20:50:51+0000</td>\n",
       "      <td>...</td>\n",
       "      <td>12</td>\n",
       "      <td>2015</td>\n",
       "      <td>3.000720</td>\n",
       "      <td>1.903654</td>\n",
       "      <td>4.779123</td>\n",
       "      <td>&lt; 1 month</td>\n",
       "      <td>0.219780</td>\n",
       "      <td>0.496316</td>\n",
       "      <td>High</td>\n",
       "      <td>High</td>\n",
       "    </tr>\n",
       "    <tr>\n",
       "      <th>1</th>\n",
       "      <td>33853969</td>\n",
       "      <td>CA2395</td>\n",
       "      <td>https://www.petfinder.com/dog/batman-33853969/...</td>\n",
       "      <td>Young</td>\n",
       "      <td>Male</td>\n",
       "      <td>Small</td>\n",
       "      <td>[]</td>\n",
       "      <td>Batman</td>\n",
       "      <td>adopted</td>\n",
       "      <td>2015-12-21T22:23:16+0000</td>\n",
       "      <td>...</td>\n",
       "      <td>12</td>\n",
       "      <td>2015</td>\n",
       "      <td>3.404525</td>\n",
       "      <td>2.036168</td>\n",
       "      <td>4.859812</td>\n",
       "      <td>&lt; 1 month</td>\n",
       "      <td>0.109890</td>\n",
       "      <td>0.057746</td>\n",
       "      <td>High</td>\n",
       "      <td>Low</td>\n",
       "    </tr>\n",
       "    <tr>\n",
       "      <th>2</th>\n",
       "      <td>34004290</td>\n",
       "      <td>CA2395</td>\n",
       "      <td>https://www.petfinder.com/dog/benji-34004290/c...</td>\n",
       "      <td>Young</td>\n",
       "      <td>Male</td>\n",
       "      <td>Medium</td>\n",
       "      <td>[]</td>\n",
       "      <td>Benji</td>\n",
       "      <td>adopted</td>\n",
       "      <td>2015-12-30T01:22:04+0000</td>\n",
       "      <td>...</td>\n",
       "      <td>12</td>\n",
       "      <td>2015</td>\n",
       "      <td>2.949688</td>\n",
       "      <td>1.888175</td>\n",
       "      <td>4.770685</td>\n",
       "      <td>&lt; 1 month</td>\n",
       "      <td>0.267399</td>\n",
       "      <td>0.018419</td>\n",
       "      <td>High</td>\n",
       "      <td>Low</td>\n",
       "    </tr>\n",
       "    <tr>\n",
       "      <th>3</th>\n",
       "      <td>34042721</td>\n",
       "      <td>CA2395</td>\n",
       "      <td>https://www.petfinder.com/dog/zuma-34042721/ca...</td>\n",
       "      <td>Adult</td>\n",
       "      <td>Female</td>\n",
       "      <td>Medium</td>\n",
       "      <td>[]</td>\n",
       "      <td>Zuma</td>\n",
       "      <td>adopted</td>\n",
       "      <td>2016-02-12T19:13:27+0000</td>\n",
       "      <td>...</td>\n",
       "      <td>2</td>\n",
       "      <td>2016</td>\n",
       "      <td>4.062166</td>\n",
       "      <td>2.290172</td>\n",
       "      <td>5.056246</td>\n",
       "      <td>&lt; 100 days</td>\n",
       "      <td>0.025641</td>\n",
       "      <td>0.001195</td>\n",
       "      <td>Medium</td>\n",
       "      <td>Low</td>\n",
       "    </tr>\n",
       "    <tr>\n",
       "      <th>4</th>\n",
       "      <td>34079567</td>\n",
       "      <td>CA2395</td>\n",
       "      <td>https://www.petfinder.com/dog/diego-34079567/c...</td>\n",
       "      <td>Young</td>\n",
       "      <td>Male</td>\n",
       "      <td>Medium</td>\n",
       "      <td>[]</td>\n",
       "      <td>Diego</td>\n",
       "      <td>adopted</td>\n",
       "      <td>2015-12-30T01:21:59+0000</td>\n",
       "      <td>...</td>\n",
       "      <td>12</td>\n",
       "      <td>2015</td>\n",
       "      <td>2.208274</td>\n",
       "      <td>1.695218</td>\n",
       "      <td>4.682131</td>\n",
       "      <td>1 - 2 weeks</td>\n",
       "      <td>0.095238</td>\n",
       "      <td>0.496316</td>\n",
       "      <td>High</td>\n",
       "      <td>High</td>\n",
       "    </tr>\n",
       "  </tbody>\n",
       "</table>\n",
       "<p>5 rows × 33 columns</p>\n",
       "</div>"
      ],
      "text/plain": [
       "         id organization_id  \\\n",
       "0  33853923          CA2395   \n",
       "1  33853969          CA2395   \n",
       "2  34004290          CA2395   \n",
       "3  34042721          CA2395   \n",
       "4  34079567          CA2395   \n",
       "\n",
       "                                                 url    age  gender    size  \\\n",
       "0  https://www.petfinder.com/dog/sunny-33853923/c...   Baby  Female   Small   \n",
       "1  https://www.petfinder.com/dog/batman-33853969/...  Young    Male   Small   \n",
       "2  https://www.petfinder.com/dog/benji-34004290/c...  Young    Male  Medium   \n",
       "3  https://www.petfinder.com/dog/zuma-34042721/ca...  Adult  Female  Medium   \n",
       "4  https://www.petfinder.com/dog/diego-34079567/c...  Young    Male  Medium   \n",
       "\n",
       "  tags    name   status         status_changed_at  ... month  year  \\\n",
       "0   []   Sunny  adopted  2015-12-11T20:50:51+0000  ...    12  2015   \n",
       "1   []  Batman  adopted  2015-12-21T22:23:16+0000  ...    12  2015   \n",
       "2   []   Benji  adopted  2015-12-30T01:22:04+0000  ...    12  2015   \n",
       "3   []    Zuma  adopted  2016-02-12T19:13:27+0000  ...     2  2016   \n",
       "4   []   Diego  adopted  2015-12-30T01:21:59+0000  ...    12  2015   \n",
       "\n",
       "  log_adpt_time  mod_adpt_time  logmod_adpt_time  cg_adpt_time  \\\n",
       "0      3.000720       1.903654          4.779123     < 1 month   \n",
       "1      3.404525       2.036168          4.859812     < 1 month   \n",
       "2      2.949688       1.888175          4.770685     < 1 month   \n",
       "3      4.062166       2.290172          5.056246    < 100 days   \n",
       "4      2.208274       1.695218          4.682131   1 - 2 weeks   \n",
       "\n",
       "   norm_name_freq  norm_breed_freq  name_pop breed_pop  \n",
       "0        0.219780         0.496316      High      High  \n",
       "1        0.109890         0.057746      High       Low  \n",
       "2        0.267399         0.018419      High       Low  \n",
       "3        0.025641         0.001195    Medium       Low  \n",
       "4        0.095238         0.496316      High      High  \n",
       "\n",
       "[5 rows x 33 columns]"
      ]
     },
     "execution_count": 190,
     "metadata": {},
     "output_type": "execute_result"
    }
   ],
   "source": [
    "alldogs_nm.head()"
   ]
  },
  {
   "cell_type": "code",
   "execution_count": 271,
   "metadata": {},
   "outputs": [
    {
     "data": {
      "text/html": [
       "<div>\n",
       "<style scoped>\n",
       "    .dataframe tbody tr th:only-of-type {\n",
       "        vertical-align: middle;\n",
       "    }\n",
       "\n",
       "    .dataframe tbody tr th {\n",
       "        vertical-align: top;\n",
       "    }\n",
       "\n",
       "    .dataframe thead th {\n",
       "        text-align: right;\n",
       "    }\n",
       "</style>\n",
       "<table border=\"1\" class=\"dataframe\">\n",
       "  <thead>\n",
       "    <tr style=\"text-align: right;\">\n",
       "      <th></th>\n",
       "      <th>breeds.primary</th>\n",
       "      <th>breed_pop</th>\n",
       "    </tr>\n",
       "  </thead>\n",
       "  <tbody>\n",
       "    <tr>\n",
       "      <th>1</th>\n",
       "      <td>Japanese Chin</td>\n",
       "      <td>Low</td>\n",
       "    </tr>\n",
       "    <tr>\n",
       "      <th>2</th>\n",
       "      <td>Scottish Terrier</td>\n",
       "      <td>Low</td>\n",
       "    </tr>\n",
       "    <tr>\n",
       "      <th>3</th>\n",
       "      <td>Bullmastiff</td>\n",
       "      <td>Low</td>\n",
       "    </tr>\n",
       "    <tr>\n",
       "      <th>4</th>\n",
       "      <td>Bullmastiff</td>\n",
       "      <td>Low</td>\n",
       "    </tr>\n",
       "    <tr>\n",
       "      <th>5</th>\n",
       "      <td>Bullmastiff</td>\n",
       "      <td>Low</td>\n",
       "    </tr>\n",
       "  </tbody>\n",
       "</table>\n",
       "</div>"
      ],
      "text/plain": [
       "     breeds.primary breed_pop\n",
       "1     Japanese Chin       Low\n",
       "2  Scottish Terrier       Low\n",
       "3       Bullmastiff       Low\n",
       "4       Bullmastiff       Low\n",
       "5       Bullmastiff       Low"
      ]
     },
     "execution_count": 271,
     "metadata": {},
     "output_type": "execute_result"
    }
   ],
   "source": [
    "breedsdf = alldogs_nm.loc[:,['breeds.primary','breed_pop']]\n",
    "breedsdf.head()"
   ]
  },
  {
   "cell_type": "code",
   "execution_count": 272,
   "metadata": {},
   "outputs": [],
   "source": [
    "breedsdf = breedsdf.drop_duplicates()"
   ]
  },
  {
   "cell_type": "code",
   "execution_count": 273,
   "metadata": {},
   "outputs": [],
   "source": [
    "breedsdf.to_csv('breedlist_all.csv', header=False, index=False)"
   ]
  },
  {
   "cell_type": "code",
   "execution_count": 275,
   "metadata": {},
   "outputs": [
    {
     "data": {
      "image/png": "[encoded data removed]",
      "text/plain": [
       "<Figure size 360x360 with 1 Axes>"
      ]
     },
     "metadata": {
      "needs_background": "light"
     },
     "output_type": "display_data"
    }
   ],
   "source": [
    "sns.catplot(x=\"size\", kind=\"count\", palette=\"ch:.25\", data=alldogs_nm);"
   ]
  },
  {
   "cell_type": "code",
   "execution_count": 276,
   "metadata": {},
   "outputs": [],
   "source": [
    "alldogs_nm.loc[alldogs_nm['size'] == 'Extra Large', 'size'] = 'Large'"
   ]
  },
  {
   "cell_type": "code",
   "execution_count": 277,
   "metadata": {},
   "outputs": [
    {
     "data": {
      "image/png": "[encoded data removed]",
      "text/plain": [
       "<Figure size 360x360 with 1 Axes>"
      ]
     },
     "metadata": {
      "needs_background": "light"
     },
     "output_type": "display_data"
    }
   ],
   "source": [
    "sns.catplot(x=\"size\", kind=\"count\", palette=\"ch:.25\", data=alldogs_nm);"
   ]
  },
  {
   "cell_type": "code",
   "execution_count": 278,
   "metadata": {},
   "outputs": [
    {
     "data": {
      "text/plain": [
       "Index(['adoption_time', 'age', 'attributes.house_trained',\n",
       "       'attributes.shots_current', 'attributes.spayed_neutered',\n",
       "       'attributes.special_needs', 'breeds.mixed', 'breeds.primary',\n",
       "       'breeds.unknown', 'contact.address.city', 'contact.address.postcode',\n",
       "       'contact.address.state', 'distance', 'gender', 'id', 'month', 'name',\n",
       "       'organization_id', 'published_at', 'size', 'status',\n",
       "       'status_changed_at', 'tags', 'url', 'year', 'log_adpt_time',\n",
       "       'cg_adpt_time', 'norm_breed_freq', 'breed_pop'],\n",
       "      dtype='object')"
      ]
     },
     "execution_count": 278,
     "metadata": {},
     "output_type": "execute_result"
    }
   ],
   "source": [
    "alldogs_nm.columns"
   ]
  },
  {
   "cell_type": "code",
   "execution_count": 279,
   "metadata": {},
   "outputs": [
    {
     "data": {
      "text/html": [
       "<div>\n",
       "<style scoped>\n",
       "    .dataframe tbody tr th:only-of-type {\n",
       "        vertical-align: middle;\n",
       "    }\n",
       "\n",
       "    .dataframe tbody tr th {\n",
       "        vertical-align: top;\n",
       "    }\n",
       "\n",
       "    .dataframe thead th {\n",
       "        text-align: right;\n",
       "    }\n",
       "</style>\n",
       "<table border=\"1\" class=\"dataframe\">\n",
       "  <thead>\n",
       "    <tr style=\"text-align: right;\">\n",
       "      <th></th>\n",
       "      <th>id</th>\n",
       "      <th>age</th>\n",
       "      <th>gender</th>\n",
       "      <th>size</th>\n",
       "      <th>breeds.primary</th>\n",
       "      <th>breeds.mixed</th>\n",
       "      <th>attributes.spayed_neutered</th>\n",
       "      <th>attributes.house_trained</th>\n",
       "      <th>attributes.special_needs</th>\n",
       "      <th>attributes.shots_current</th>\n",
       "      <th>contact.address.state</th>\n",
       "      <th>breed_pop</th>\n",
       "      <th>month</th>\n",
       "    </tr>\n",
       "  </thead>\n",
       "  <tbody>\n",
       "    <tr>\n",
       "      <th>1</th>\n",
       "      <td>35898350</td>\n",
       "      <td>Adult</td>\n",
       "      <td>Female</td>\n",
       "      <td>Small</td>\n",
       "      <td>Japanese Chin</td>\n",
       "      <td>False</td>\n",
       "      <td>True</td>\n",
       "      <td>True</td>\n",
       "      <td>False</td>\n",
       "      <td>True</td>\n",
       "      <td>AL</td>\n",
       "      <td>Low</td>\n",
       "      <td>11</td>\n",
       "    </tr>\n",
       "    <tr>\n",
       "      <th>2</th>\n",
       "      <td>30542160</td>\n",
       "      <td>Young</td>\n",
       "      <td>Female</td>\n",
       "      <td>Small</td>\n",
       "      <td>Scottish Terrier</td>\n",
       "      <td>True</td>\n",
       "      <td>True</td>\n",
       "      <td>True</td>\n",
       "      <td>False</td>\n",
       "      <td>True</td>\n",
       "      <td>AL</td>\n",
       "      <td>Low</td>\n",
       "      <td>1</td>\n",
       "    </tr>\n",
       "    <tr>\n",
       "      <th>3</th>\n",
       "      <td>41000971</td>\n",
       "      <td>Adult</td>\n",
       "      <td>Female</td>\n",
       "      <td>Large</td>\n",
       "      <td>Bullmastiff</td>\n",
       "      <td>False</td>\n",
       "      <td>True</td>\n",
       "      <td>True</td>\n",
       "      <td>False</td>\n",
       "      <td>True</td>\n",
       "      <td>AL</td>\n",
       "      <td>Low</td>\n",
       "      <td>3</td>\n",
       "    </tr>\n",
       "    <tr>\n",
       "      <th>4</th>\n",
       "      <td>33618001</td>\n",
       "      <td>Young</td>\n",
       "      <td>Female</td>\n",
       "      <td>Large</td>\n",
       "      <td>Bullmastiff</td>\n",
       "      <td>False</td>\n",
       "      <td>True</td>\n",
       "      <td>True</td>\n",
       "      <td>False</td>\n",
       "      <td>True</td>\n",
       "      <td>AL</td>\n",
       "      <td>Low</td>\n",
       "      <td>11</td>\n",
       "    </tr>\n",
       "    <tr>\n",
       "      <th>5</th>\n",
       "      <td>35479179</td>\n",
       "      <td>Adult</td>\n",
       "      <td>Male</td>\n",
       "      <td>Large</td>\n",
       "      <td>Bullmastiff</td>\n",
       "      <td>False</td>\n",
       "      <td>True</td>\n",
       "      <td>True</td>\n",
       "      <td>False</td>\n",
       "      <td>True</td>\n",
       "      <td>AL</td>\n",
       "      <td>Low</td>\n",
       "      <td>8</td>\n",
       "    </tr>\n",
       "  </tbody>\n",
       "</table>\n",
       "</div>"
      ],
      "text/plain": [
       "         id    age  gender   size    breeds.primary  breeds.mixed  \\\n",
       "1  35898350  Adult  Female  Small     Japanese Chin         False   \n",
       "2  30542160  Young  Female  Small  Scottish Terrier          True   \n",
       "3  41000971  Adult  Female  Large       Bullmastiff         False   \n",
       "4  33618001  Young  Female  Large       Bullmastiff         False   \n",
       "5  35479179  Adult    Male  Large       Bullmastiff         False   \n",
       "\n",
       "   attributes.spayed_neutered  attributes.house_trained  \\\n",
       "1                        True                      True   \n",
       "2                        True                      True   \n",
       "3                        True                      True   \n",
       "4                        True                      True   \n",
       "5                        True                      True   \n",
       "\n",
       "   attributes.special_needs  attributes.shots_current contact.address.state  \\\n",
       "1                     False                      True                    AL   \n",
       "2                     False                      True                    AL   \n",
       "3                     False                      True                    AL   \n",
       "4                     False                      True                    AL   \n",
       "5                     False                      True                    AL   \n",
       "\n",
       "  breed_pop  month  \n",
       "1       Low     11  \n",
       "2       Low      1  \n",
       "3       Low      3  \n",
       "4       Low     11  \n",
       "5       Low      8  "
      ]
     },
     "execution_count": 279,
     "metadata": {},
     "output_type": "execute_result"
    }
   ],
   "source": [
    "X_features = ['id','age', 'gender', 'size', 'breeds.primary',\n",
    "              'breeds.mixed', 'attributes.spayed_neutered', 'attributes.house_trained',\n",
    "              'attributes.special_needs', 'attributes.shots_current', 'contact.address.state', \n",
    "              'breed_pop', 'month']\n",
    "X = alldogs_nm[X_features]\n",
    "X.head()"
   ]
  },
  {
   "cell_type": "code",
   "execution_count": 21,
   "metadata": {},
   "outputs": [
    {
     "data": {
      "text/plain": [
       "Young     55488\n",
       "Baby      51911\n",
       "Adult     40256\n",
       "Senior     3829\n",
       "Name: age, dtype: int64"
      ]
     },
     "execution_count": 21,
     "metadata": {},
     "output_type": "execute_result"
    }
   ],
   "source": [
    "X['age'].value_counts()"
   ]
  },
  {
   "cell_type": "code",
   "execution_count": 22,
   "metadata": {},
   "outputs": [
    {
     "data": {
      "text/plain": [
       "Male      76377\n",
       "Female    75107\n",
       "Name: gender, dtype: int64"
      ]
     },
     "execution_count": 22,
     "metadata": {},
     "output_type": "execute_result"
    }
   ],
   "source": [
    "X['gender'].value_counts()"
   ]
  },
  {
   "cell_type": "code",
   "execution_count": 23,
   "metadata": {},
   "outputs": [
    {
     "data": {
      "text/plain": [
       "Medium         60828\n",
       "Small          58982\n",
       "Large          29530\n",
       "Extra Large     2144\n",
       "Name: size, dtype: int64"
      ]
     },
     "execution_count": 23,
     "metadata": {},
     "output_type": "execute_result"
    }
   ],
   "source": [
    "X['size'].value_counts()"
   ]
  },
  {
   "cell_type": "code",
   "execution_count": 24,
   "metadata": {},
   "outputs": [
    {
     "data": {
      "text/plain": [
       "NY    40526\n",
       "TX    38231\n",
       "MN    36721\n",
       "CA    36006\n",
       "Name: contact.address.state, dtype: int64"
      ]
     },
     "execution_count": 24,
     "metadata": {},
     "output_type": "execute_result"
    }
   ],
   "source": [
    "X['contact.address.state'].value_counts()"
   ]
  },
  {
   "cell_type": "code",
   "execution_count": 121,
   "metadata": {},
   "outputs": [
    {
     "data": {
      "text/html": [
       "<div>\n",
       "<style scoped>\n",
       "    .dataframe tbody tr th:only-of-type {\n",
       "        vertical-align: middle;\n",
       "    }\n",
       "\n",
       "    .dataframe tbody tr th {\n",
       "        vertical-align: top;\n",
       "    }\n",
       "\n",
       "    .dataframe thead th {\n",
       "        text-align: right;\n",
       "    }\n",
       "</style>\n",
       "<table border=\"1\" class=\"dataframe\">\n",
       "  <thead>\n",
       "    <tr style=\"text-align: right;\">\n",
       "      <th></th>\n",
       "      <th>id</th>\n",
       "      <th>age</th>\n",
       "      <th>gender</th>\n",
       "      <th>size</th>\n",
       "      <th>breeds.primary</th>\n",
       "      <th>breeds.mixed</th>\n",
       "      <th>attributes.spayed_neutered</th>\n",
       "      <th>attributes.house_trained</th>\n",
       "      <th>attributes.special_needs</th>\n",
       "      <th>attributes.shots_current</th>\n",
       "      <th>contact.address.state</th>\n",
       "      <th>name_pop</th>\n",
       "      <th>breed_pop</th>\n",
       "      <th>month</th>\n",
       "    </tr>\n",
       "  </thead>\n",
       "  <tbody>\n",
       "    <tr>\n",
       "      <th>0</th>\n",
       "      <td>33853923</td>\n",
       "      <td>Baby</td>\n",
       "      <td>Female</td>\n",
       "      <td>Small</td>\n",
       "      <td>Terrier</td>\n",
       "      <td>True</td>\n",
       "      <td>True</td>\n",
       "      <td>True</td>\n",
       "      <td>False</td>\n",
       "      <td>True</td>\n",
       "      <td>CA</td>\n",
       "      <td>High</td>\n",
       "      <td>High</td>\n",
       "      <td>12</td>\n",
       "    </tr>\n",
       "    <tr>\n",
       "      <th>1</th>\n",
       "      <td>33853969</td>\n",
       "      <td>Young</td>\n",
       "      <td>Male</td>\n",
       "      <td>Small</td>\n",
       "      <td>Rat Terrier</td>\n",
       "      <td>False</td>\n",
       "      <td>True</td>\n",
       "      <td>True</td>\n",
       "      <td>False</td>\n",
       "      <td>True</td>\n",
       "      <td>CA</td>\n",
       "      <td>High</td>\n",
       "      <td>Low</td>\n",
       "      <td>12</td>\n",
       "    </tr>\n",
       "    <tr>\n",
       "      <th>2</th>\n",
       "      <td>34004290</td>\n",
       "      <td>Young</td>\n",
       "      <td>Male</td>\n",
       "      <td>Medium</td>\n",
       "      <td>Parson Russell Terrier</td>\n",
       "      <td>False</td>\n",
       "      <td>True</td>\n",
       "      <td>False</td>\n",
       "      <td>False</td>\n",
       "      <td>True</td>\n",
       "      <td>CA</td>\n",
       "      <td>High</td>\n",
       "      <td>Low</td>\n",
       "      <td>12</td>\n",
       "    </tr>\n",
       "    <tr>\n",
       "      <th>3</th>\n",
       "      <td>34042721</td>\n",
       "      <td>Adult</td>\n",
       "      <td>Female</td>\n",
       "      <td>Medium</td>\n",
       "      <td>Xoloitzcuintli / Mexican Hairless</td>\n",
       "      <td>False</td>\n",
       "      <td>True</td>\n",
       "      <td>False</td>\n",
       "      <td>False</td>\n",
       "      <td>True</td>\n",
       "      <td>CA</td>\n",
       "      <td>Medium</td>\n",
       "      <td>Low</td>\n",
       "      <td>2</td>\n",
       "    </tr>\n",
       "    <tr>\n",
       "      <th>4</th>\n",
       "      <td>34079567</td>\n",
       "      <td>Young</td>\n",
       "      <td>Male</td>\n",
       "      <td>Medium</td>\n",
       "      <td>Terrier</td>\n",
       "      <td>True</td>\n",
       "      <td>True</td>\n",
       "      <td>False</td>\n",
       "      <td>False</td>\n",
       "      <td>True</td>\n",
       "      <td>CA</td>\n",
       "      <td>High</td>\n",
       "      <td>High</td>\n",
       "      <td>12</td>\n",
       "    </tr>\n",
       "  </tbody>\n",
       "</table>\n",
       "</div>"
      ],
      "text/plain": [
       "         id    age  gender    size                     breeds.primary  \\\n",
       "0  33853923   Baby  Female   Small                            Terrier   \n",
       "1  33853969  Young    Male   Small                        Rat Terrier   \n",
       "2  34004290  Young    Male  Medium             Parson Russell Terrier   \n",
       "3  34042721  Adult  Female  Medium  Xoloitzcuintli / Mexican Hairless   \n",
       "4  34079567  Young    Male  Medium                            Terrier   \n",
       "\n",
       "   breeds.mixed  attributes.spayed_neutered  attributes.house_trained  \\\n",
       "0          True                        True                      True   \n",
       "1         False                        True                      True   \n",
       "2         False                        True                     False   \n",
       "3         False                        True                     False   \n",
       "4          True                        True                     False   \n",
       "\n",
       "   attributes.special_needs  attributes.shots_current contact.address.state  \\\n",
       "0                     False                      True                    CA   \n",
       "1                     False                      True                    CA   \n",
       "2                     False                      True                    CA   \n",
       "3                     False                      True                    CA   \n",
       "4                     False                      True                    CA   \n",
       "\n",
       "  name_pop breed_pop  month  \n",
       "0     High      High     12  \n",
       "1     High       Low     12  \n",
       "2     High       Low     12  \n",
       "3   Medium       Low      2  \n",
       "4     High      High     12  "
      ]
     },
     "execution_count": 121,
     "metadata": {},
     "output_type": "execute_result"
    }
   ],
   "source": [
    "X.head()"
   ]
  },
  {
   "cell_type": "code",
   "execution_count": 280,
   "metadata": {},
   "outputs": [],
   "source": [
    "y = alldogs_nm['cg_adpt_time']"
   ]
  },
  {
   "cell_type": "code",
   "execution_count": 281,
   "metadata": {},
   "outputs": [
    {
     "data": {
      "text/plain": [
       "699822"
      ]
     },
     "execution_count": 281,
     "metadata": {},
     "output_type": "execute_result"
    }
   ],
   "source": [
    "len(X)"
   ]
  },
  {
   "cell_type": "code",
   "execution_count": 284,
   "metadata": {},
   "outputs": [],
   "source": [
    "cat_col = ['age','gender','size','contact.address.state', 'breed_pop', 'month']"
   ]
  },
  {
   "cell_type": "code",
   "execution_count": 285,
   "metadata": {},
   "outputs": [
    {
     "name": "stderr",
     "output_type": "stream",
     "text": [
      "C:\\anaconda_python\\envs\\Insight\\lib\\site-packages\\pandas\\core\\frame.py:3509: SettingWithCopyWarning: \n",
      "A value is trying to be set on a copy of a slice from a DataFrame.\n",
      "Try using .loc[row_indexer,col_indexer] = value instead\n",
      "\n",
      "See the caveats in the documentation: http://pandas.pydata.org/pandas-docs/stable/user_guide/indexing.html#returning-a-view-versus-a-copy\n",
      "  self[k1] = value[k2]\n"
     ]
    }
   ],
   "source": [
    "X[cat_col]=X[cat_col].astype('category')"
   ]
  },
  {
   "cell_type": "code",
   "execution_count": 289,
   "metadata": {},
   "outputs": [
    {
     "data": {
      "text/html": [
       "<div>\n",
       "<style scoped>\n",
       "    .dataframe tbody tr th:only-of-type {\n",
       "        vertical-align: middle;\n",
       "    }\n",
       "\n",
       "    .dataframe tbody tr th {\n",
       "        vertical-align: top;\n",
       "    }\n",
       "\n",
       "    .dataframe thead th {\n",
       "        text-align: right;\n",
       "    }\n",
       "</style>\n",
       "<table border=\"1\" class=\"dataframe\">\n",
       "  <thead>\n",
       "    <tr style=\"text-align: right;\">\n",
       "      <th></th>\n",
       "      <th>id</th>\n",
       "      <th>age</th>\n",
       "      <th>gender</th>\n",
       "      <th>size</th>\n",
       "      <th>breeds.primary</th>\n",
       "      <th>breeds.mixed</th>\n",
       "      <th>attributes.spayed_neutered</th>\n",
       "      <th>attributes.house_trained</th>\n",
       "      <th>attributes.special_needs</th>\n",
       "      <th>attributes.shots_current</th>\n",
       "      <th>contact.address.state</th>\n",
       "      <th>breed_pop</th>\n",
       "      <th>month</th>\n",
       "      <th>cg_adpt_time</th>\n",
       "    </tr>\n",
       "  </thead>\n",
       "  <tbody>\n",
       "    <tr>\n",
       "      <th>1</th>\n",
       "      <td>35898350</td>\n",
       "      <td>Adult</td>\n",
       "      <td>Female</td>\n",
       "      <td>Small</td>\n",
       "      <td>Japanese Chin</td>\n",
       "      <td>False</td>\n",
       "      <td>True</td>\n",
       "      <td>True</td>\n",
       "      <td>False</td>\n",
       "      <td>True</td>\n",
       "      <td>AL</td>\n",
       "      <td>Low</td>\n",
       "      <td>11</td>\n",
       "      <td>&gt; 100 days</td>\n",
       "    </tr>\n",
       "    <tr>\n",
       "      <th>2</th>\n",
       "      <td>30542160</td>\n",
       "      <td>Young</td>\n",
       "      <td>Female</td>\n",
       "      <td>Small</td>\n",
       "      <td>Scottish Terrier</td>\n",
       "      <td>True</td>\n",
       "      <td>True</td>\n",
       "      <td>True</td>\n",
       "      <td>False</td>\n",
       "      <td>True</td>\n",
       "      <td>AL</td>\n",
       "      <td>Low</td>\n",
       "      <td>1</td>\n",
       "      <td>&gt; 100 days</td>\n",
       "    </tr>\n",
       "    <tr>\n",
       "      <th>3</th>\n",
       "      <td>41000971</td>\n",
       "      <td>Adult</td>\n",
       "      <td>Female</td>\n",
       "      <td>Large</td>\n",
       "      <td>Bullmastiff</td>\n",
       "      <td>False</td>\n",
       "      <td>True</td>\n",
       "      <td>True</td>\n",
       "      <td>False</td>\n",
       "      <td>True</td>\n",
       "      <td>AL</td>\n",
       "      <td>Low</td>\n",
       "      <td>3</td>\n",
       "      <td>&lt; 3 months</td>\n",
       "    </tr>\n",
       "    <tr>\n",
       "      <th>4</th>\n",
       "      <td>33618001</td>\n",
       "      <td>Young</td>\n",
       "      <td>Female</td>\n",
       "      <td>Large</td>\n",
       "      <td>Bullmastiff</td>\n",
       "      <td>False</td>\n",
       "      <td>True</td>\n",
       "      <td>True</td>\n",
       "      <td>False</td>\n",
       "      <td>True</td>\n",
       "      <td>AL</td>\n",
       "      <td>Low</td>\n",
       "      <td>11</td>\n",
       "      <td>&lt; 1 month</td>\n",
       "    </tr>\n",
       "    <tr>\n",
       "      <th>5</th>\n",
       "      <td>35479179</td>\n",
       "      <td>Adult</td>\n",
       "      <td>Male</td>\n",
       "      <td>Large</td>\n",
       "      <td>Bullmastiff</td>\n",
       "      <td>False</td>\n",
       "      <td>True</td>\n",
       "      <td>True</td>\n",
       "      <td>False</td>\n",
       "      <td>True</td>\n",
       "      <td>AL</td>\n",
       "      <td>Low</td>\n",
       "      <td>8</td>\n",
       "      <td>&lt; 3 months</td>\n",
       "    </tr>\n",
       "  </tbody>\n",
       "</table>\n",
       "</div>"
      ],
      "text/plain": [
       "         id    age  gender   size    breeds.primary  breeds.mixed  \\\n",
       "1  35898350  Adult  Female  Small     Japanese Chin         False   \n",
       "2  30542160  Young  Female  Small  Scottish Terrier          True   \n",
       "3  41000971  Adult  Female  Large       Bullmastiff         False   \n",
       "4  33618001  Young  Female  Large       Bullmastiff         False   \n",
       "5  35479179  Adult    Male  Large       Bullmastiff         False   \n",
       "\n",
       "   attributes.spayed_neutered  attributes.house_trained  \\\n",
       "1                        True                      True   \n",
       "2                        True                      True   \n",
       "3                        True                      True   \n",
       "4                        True                      True   \n",
       "5                        True                      True   \n",
       "\n",
       "   attributes.special_needs  attributes.shots_current contact.address.state  \\\n",
       "1                     False                      True                    AL   \n",
       "2                     False                      True                    AL   \n",
       "3                     False                      True                    AL   \n",
       "4                     False                      True                    AL   \n",
       "5                     False                      True                    AL   \n",
       "\n",
       "  breed_pop month cg_adpt_time  \n",
       "1       Low    11   > 100 days  \n",
       "2       Low     1   > 100 days  \n",
       "3       Low     3   < 3 months  \n",
       "4       Low    11    < 1 month  \n",
       "5       Low     8   < 3 months  "
      ]
     },
     "execution_count": 289,
     "metadata": {},
     "output_type": "execute_result"
    }
   ],
   "source": [
    "total = pd.concat([X,y], axis=1)\n",
    "total.head()"
   ]
  },
  {
   "cell_type": "code",
   "execution_count": 288,
   "metadata": {},
   "outputs": [
    {
     "data": {
      "text/plain": [
       "id                               int64\n",
       "age                           category\n",
       "gender                        category\n",
       "size                          category\n",
       "breeds.primary                  object\n",
       "breeds.mixed                      bool\n",
       "attributes.spayed_neutered        bool\n",
       "attributes.house_trained          bool\n",
       "attributes.special_needs          bool\n",
       "attributes.shots_current          bool\n",
       "contact.address.state         category\n",
       "breed_pop                     category\n",
       "month                         category\n",
       "dtype: object"
      ]
     },
     "execution_count": 288,
     "metadata": {},
     "output_type": "execute_result"
    }
   ],
   "source": [
    "X.dtypes"
   ]
  },
  {
   "cell_type": "code",
   "execution_count": 127,
   "metadata": {},
   "outputs": [
    {
     "data": {
      "text/plain": [
       "90628"
      ]
     },
     "execution_count": 127,
     "metadata": {},
     "output_type": "execute_result"
    }
   ],
   "source": [
    "len(total)"
   ]
  },
  {
   "cell_type": "code",
   "execution_count": 290,
   "metadata": {},
   "outputs": [
    {
     "data": {
      "image/png": "[encoded data removed]",
      "text/plain": [
       "<Figure size 432x288 with 1 Axes>"
      ]
     },
     "metadata": {
      "needs_background": "light"
     },
     "output_type": "display_data"
    }
   ],
   "source": [
    "timeplot = sns.countplot(y='cg_adpt_time', data=total, palette=\"ch:.25\")"
   ]
  },
  {
   "cell_type": "code",
   "execution_count": null,
   "metadata": {},
   "outputs": [],
   "source": []
  },
  {
   "cell_type": "code",
   "execution_count": 166,
   "metadata": {},
   "outputs": [
    {
     "data": {
      "image/png": "[encoded data removed]",
      "text/plain": [
       "<Figure size 432x288 with 1 Axes>"
      ]
     },
     "metadata": {
      "needs_background": "light"
     },
     "output_type": "display_data"
    }
   ],
   "source": [
    "nameplot = sns.countplot(y='cg_adpt_time', hue='name_pop', data=total, palette=\"ch:.25\")"
   ]
  },
  {
   "cell_type": "code",
   "execution_count": 291,
   "metadata": {},
   "outputs": [
    {
     "data": {
      "image/png": "[encoded data removed]",
      "text/plain": [
       "<Figure size 432x288 with 1 Axes>"
      ]
     },
     "metadata": {
      "needs_background": "light"
     },
     "output_type": "display_data"
    }
   ],
   "source": [
    "breedplot = sns.countplot(y='cg_adpt_time', hue='breed_pop', data=total, palette=\"ch:.25\")"
   ]
  },
  {
   "cell_type": "code",
   "execution_count": 168,
   "metadata": {},
   "outputs": [
    {
     "data": {
      "image/png": "[encoded data removed]",
      "text/plain": [
       "<Figure size 432x288 with 1 Axes>"
      ]
     },
     "metadata": {
      "needs_background": "light"
     },
     "output_type": "display_data"
    }
   ],
   "source": [
    "ageplot = sns.countplot(y='cg_adpt_time', hue='age', data=total, palette=\"ch:.25\")"
   ]
  },
  {
   "cell_type": "code",
   "execution_count": 169,
   "metadata": {},
   "outputs": [
    {
     "data": {
      "image/png": "[encoded data removed]",
      "text/plain": [
       "<Figure size 432x288 with 1 Axes>"
      ]
     },
     "metadata": {
      "needs_background": "light"
     },
     "output_type": "display_data"
    }
   ],
   "source": [
    "ageplot = sns.countplot(y='cg_adpt_time', hue='size', data=total, palette=\"ch:.25\")"
   ]
  },
  {
   "cell_type": "code",
   "execution_count": 170,
   "metadata": {},
   "outputs": [
    {
     "data": {
      "image/png": "[encoded data removed]",
      "text/plain": [
       "<Figure size 432x288 with 1 Axes>"
      ]
     },
     "metadata": {
      "needs_background": "light"
     },
     "output_type": "display_data"
    }
   ],
   "source": [
    "ageplot = sns.countplot(y='cg_adpt_time', hue='contact.address.state', data=total, palette=\"ch:.25\")"
   ]
  },
  {
   "cell_type": "code",
   "execution_count": 171,
   "metadata": {},
   "outputs": [
    {
     "data": {
      "image/png": "[encoded data removed]",
      "text/plain": [
       "<Figure size 432x288 with 1 Axes>"
      ]
     },
     "metadata": {
      "needs_background": "light"
     },
     "output_type": "display_data"
    }
   ],
   "source": [
    "ageplot = sns.countplot(y='cg_adpt_time', hue='gender', data=total, palette=\"ch:.25\")"
   ]
  },
  {
   "cell_type": "code",
   "execution_count": 172,
   "metadata": {},
   "outputs": [
    {
     "data": {
      "image/png": "[encoded data removed]",
      "text/plain": [
       "<Figure size 432x288 with 1 Axes>"
      ]
     },
     "metadata": {
      "needs_background": "light"
     },
     "output_type": "display_data"
    }
   ],
   "source": [
    "ageplot = sns.countplot(y='cg_adpt_time', hue='breeds.mixed', data=total, palette=\"ch:.25\")"
   ]
  },
  {
   "cell_type": "code",
   "execution_count": 173,
   "metadata": {},
   "outputs": [
    {
     "data": {
      "image/png": "[encoded data removed]",
      "text/plain": [
       "<Figure size 432x288 with 1 Axes>"
      ]
     },
     "metadata": {
      "needs_background": "light"
     },
     "output_type": "display_data"
    }
   ],
   "source": [
    "ageplot = sns.countplot(y='cg_adpt_time', hue='attributes.spayed_neutered', data=total, palette=\"ch:.25\")"
   ]
  },
  {
   "cell_type": "code",
   "execution_count": 174,
   "metadata": {},
   "outputs": [
    {
     "data": {
      "image/png": "[encoded data removed]",
      "text/plain": [
       "<Figure size 432x288 with 1 Axes>"
      ]
     },
     "metadata": {
      "needs_background": "light"
     },
     "output_type": "display_data"
    }
   ],
   "source": [
    "ageplot = sns.countplot(y='cg_adpt_time', hue='attributes.house_trained', data=total, palette=\"ch:.25\")"
   ]
  },
  {
   "cell_type": "code",
   "execution_count": 175,
   "metadata": {},
   "outputs": [
    {
     "data": {
      "image/png": "[encoded data removed]",
      "text/plain": [
       "<Figure size 432x288 with 1 Axes>"
      ]
     },
     "metadata": {
      "needs_background": "light"
     },
     "output_type": "display_data"
    }
   ],
   "source": [
    "ageplot = sns.countplot(y='cg_adpt_time', hue='attributes.shots_current', data=total, palette=\"ch:.25\")"
   ]
  },
  {
   "cell_type": "code",
   "execution_count": 176,
   "metadata": {},
   "outputs": [
    {
     "data": {
      "image/png": "[encoded data removed]",
      "text/plain": [
       "<Figure size 432x288 with 1 Axes>"
      ]
     },
     "metadata": {
      "needs_background": "light"
     },
     "output_type": "display_data"
    }
   ],
   "source": [
    "ageplot = sns.countplot(y='cg_adpt_time', hue='attributes.special_needs', data=total, palette=\"ch:.25\")"
   ]
  },
  {
   "cell_type": "code",
   "execution_count": 292,
   "metadata": {},
   "outputs": [
    {
     "data": {
      "image/png": "[encoded data removed]",
      "text/plain": [
       "<Figure size 360x360 with 1 Axes>"
      ]
     },
     "metadata": {
      "needs_background": "light"
     },
     "output_type": "display_data"
    }
   ],
   "source": [
    "sns.catplot(x=\"size\", kind=\"count\", palette=\"ch:.25\", data=total);"
   ]
  },
  {
   "cell_type": "code",
   "execution_count": 293,
   "metadata": {},
   "outputs": [
    {
     "data": {
      "image/png": "[encoded data removed]",
      "text/plain": [
       "<Figure size 427.75x360 with 1 Axes>"
      ]
     },
     "metadata": {
      "needs_background": "light"
     },
     "output_type": "display_data"
    }
   ],
   "source": [
    "sns.catplot(x=\"size\", kind=\"count\", hue=\"age\", palette=\"ch:.25\", data=total);"
   ]
  },
  {
   "cell_type": "code",
   "execution_count": 299,
   "metadata": {},
   "outputs": [
    {
     "data": {
      "text/plain": [
       "<Figure size 864x4608 with 0 Axes>"
      ]
     },
     "metadata": {},
     "output_type": "display_data"
    },
    {
     "data": {
      "image/png": "[encoded data removed]",
      "text/plain": [
       "<Figure size 360x360 with 1 Axes>"
      ]
     },
     "metadata": {
      "needs_background": "light"
     },
     "output_type": "display_data"
    }
   ],
   "source": [
    "plt.figure(figsize=(12, 64))\n",
    "sns.catplot(y=\"contact.address.state\", kind=\"count\", palette=\"ch:.25\", data=total);"
   ]
  },
  {
   "cell_type": "code",
   "execution_count": 300,
   "metadata": {},
   "outputs": [
    {
     "data": {
      "image/png": "[encoded data removed]",
      "text/plain": [
       "<Figure size 360x360 with 1 Axes>"
      ]
     },
     "metadata": {
      "needs_background": "light"
     },
     "output_type": "display_data"
    }
   ],
   "source": [
    "sns.catplot(x=\"age\", kind=\"count\", palette=\"ch:.25\",order=[\"Baby\", \"Young\", \"Adult\", \"Senior\"], data=total);"
   ]
  },
  {
   "cell_type": "code",
   "execution_count": 301,
   "metadata": {},
   "outputs": [
    {
     "data": {
      "image/png": "[encoded data removed]",
      "text/plain": [
       "<Figure size 360x360 with 1 Axes>"
      ]
     },
     "metadata": {
      "needs_background": "light"
     },
     "output_type": "display_data"
    }
   ],
   "source": [
    "sns.catplot(x=\"gender\", kind=\"count\", palette=\"ch:.25\", data=total);"
   ]
  },
  {
   "cell_type": "code",
   "execution_count": 302,
   "metadata": {},
   "outputs": [
    {
     "data": {
      "image/png": "[encoded data removed]",
      "text/plain": [
       "<Figure size 360x360 with 1 Axes>"
      ]
     },
     "metadata": {
      "needs_background": "light"
     },
     "output_type": "display_data"
    }
   ],
   "source": [
    "sns.catplot(x=\"breeds.mixed\", kind=\"count\", palette=\"ch:.25\", data=total);"
   ]
  },
  {
   "cell_type": "code",
   "execution_count": 303,
   "metadata": {},
   "outputs": [
    {
     "data": {
      "image/png": "[encoded data removed]",
      "text/plain": [
       "<Figure size 360x360 with 1 Axes>"
      ]
     },
     "metadata": {
      "needs_background": "light"
     },
     "output_type": "display_data"
    }
   ],
   "source": [
    "sns.catplot(x=\"attributes.spayed_neutered\", kind=\"count\", palette=\"ch:.25\", data=total);"
   ]
  },
  {
   "cell_type": "code",
   "execution_count": 304,
   "metadata": {},
   "outputs": [
    {
     "data": {
      "image/png": "[encoded data removed]",
      "text/plain": [
       "<Figure size 360x360 with 1 Axes>"
      ]
     },
     "metadata": {
      "needs_background": "light"
     },
     "output_type": "display_data"
    }
   ],
   "source": [
    "sns.catplot(x=\"attributes.house_trained\", kind=\"count\", palette=\"ch:.25\", data=total);"
   ]
  },
  {
   "cell_type": "code",
   "execution_count": 305,
   "metadata": {},
   "outputs": [
    {
     "data": {
      "image/png": "[encoded data removed]",
      "text/plain": [
       "<Figure size 360x360 with 1 Axes>"
      ]
     },
     "metadata": {
      "needs_background": "light"
     },
     "output_type": "display_data"
    }
   ],
   "source": [
    "sns.catplot(x=\"attributes.shots_current\", kind=\"count\", palette=\"ch:.25\", data=total);"
   ]
  },
  {
   "cell_type": "code",
   "execution_count": 307,
   "metadata": {},
   "outputs": [
    {
     "name": "stdout",
     "output_type": "stream",
     "text": [
      "Training set size = 559857 and Test set size = 139965\n"
     ]
    }
   ],
   "source": [
    "from sklearn.model_selection import train_test_split\n",
    "#trainval_X, test_X, trainval_y, test_y = train_test_split(X, y, test_size=0.2)\n",
    "#use log_adpt_time as feature\n",
    "trainval_X, test_X, trainval_y, test_y = train_test_split(X, total['cg_adpt_time'], test_size=0.2)\n",
    "print('Training set size = {} and Test set size = {}'.format(len(trainval_X),len(test_X)))"
   ]
  },
  {
   "cell_type": "code",
   "execution_count": null,
   "metadata": {},
   "outputs": [],
   "source": []
  },
  {
   "cell_type": "code",
   "execution_count": 69,
   "metadata": {},
   "outputs": [
    {
     "data": {
      "text/html": [
       "<div>\n",
       "<style scoped>\n",
       "    .dataframe tbody tr th:only-of-type {\n",
       "        vertical-align: middle;\n",
       "    }\n",
       "\n",
       "    .dataframe tbody tr th {\n",
       "        vertical-align: top;\n",
       "    }\n",
       "\n",
       "    .dataframe thead th {\n",
       "        text-align: right;\n",
       "    }\n",
       "</style>\n",
       "<table border=\"1\" class=\"dataframe\">\n",
       "  <thead>\n",
       "    <tr style=\"text-align: right;\">\n",
       "      <th></th>\n",
       "      <th>age</th>\n",
       "      <th>gender</th>\n",
       "      <th>size</th>\n",
       "      <th>breeds.mixed</th>\n",
       "      <th>attributes.spayed_neutered</th>\n",
       "      <th>attributes.house_trained</th>\n",
       "      <th>attributes.shots_current</th>\n",
       "      <th>contact.address.state</th>\n",
       "    </tr>\n",
       "  </thead>\n",
       "  <tbody>\n",
       "    <tr>\n",
       "      <th>0</th>\n",
       "      <td>Baby</td>\n",
       "      <td>Female</td>\n",
       "      <td>Small</td>\n",
       "      <td>True</td>\n",
       "      <td>True</td>\n",
       "      <td>True</td>\n",
       "      <td>True</td>\n",
       "      <td>CA</td>\n",
       "    </tr>\n",
       "    <tr>\n",
       "      <th>1</th>\n",
       "      <td>Young</td>\n",
       "      <td>Male</td>\n",
       "      <td>Small</td>\n",
       "      <td>False</td>\n",
       "      <td>True</td>\n",
       "      <td>True</td>\n",
       "      <td>True</td>\n",
       "      <td>CA</td>\n",
       "    </tr>\n",
       "    <tr>\n",
       "      <th>2</th>\n",
       "      <td>Young</td>\n",
       "      <td>Male</td>\n",
       "      <td>Medium</td>\n",
       "      <td>False</td>\n",
       "      <td>True</td>\n",
       "      <td>False</td>\n",
       "      <td>True</td>\n",
       "      <td>CA</td>\n",
       "    </tr>\n",
       "    <tr>\n",
       "      <th>3</th>\n",
       "      <td>Adult</td>\n",
       "      <td>Female</td>\n",
       "      <td>Medium</td>\n",
       "      <td>False</td>\n",
       "      <td>True</td>\n",
       "      <td>False</td>\n",
       "      <td>True</td>\n",
       "      <td>CA</td>\n",
       "    </tr>\n",
       "    <tr>\n",
       "      <th>4</th>\n",
       "      <td>Young</td>\n",
       "      <td>Male</td>\n",
       "      <td>Medium</td>\n",
       "      <td>True</td>\n",
       "      <td>True</td>\n",
       "      <td>False</td>\n",
       "      <td>True</td>\n",
       "      <td>CA</td>\n",
       "    </tr>\n",
       "  </tbody>\n",
       "</table>\n",
       "</div>"
      ],
      "text/plain": [
       "     age  gender    size  breeds.mixed  attributes.spayed_neutered  \\\n",
       "0   Baby  Female   Small          True                        True   \n",
       "1  Young    Male   Small         False                        True   \n",
       "2  Young    Male  Medium         False                        True   \n",
       "3  Adult  Female  Medium         False                        True   \n",
       "4  Young    Male  Medium          True                        True   \n",
       "\n",
       "   attributes.house_trained  attributes.shots_current contact.address.state  \n",
       "0                      True                      True                    CA  \n",
       "1                      True                      True                    CA  \n",
       "2                     False                      True                    CA  \n",
       "3                     False                      True                    CA  \n",
       "4                     False                      True                    CA  "
      ]
     },
     "execution_count": 69,
     "metadata": {},
     "output_type": "execute_result"
    }
   ],
   "source": [
    "X.head()"
   ]
  },
  {
   "cell_type": "code",
   "execution_count": 308,
   "metadata": {},
   "outputs": [],
   "source": [
    "total_test = pd.concat([test_X,test_y], axis=1)"
   ]
  },
  {
   "cell_type": "code",
   "execution_count": 309,
   "metadata": {},
   "outputs": [],
   "source": [
    "export = total_test.to_csv('./data/test_set_all.csv', header=True, index = False)"
   ]
  },
  {
   "cell_type": "code",
   "execution_count": 310,
   "metadata": {},
   "outputs": [],
   "source": [
    "total_trainval = pd.concat([trainval_X,trainval_y], axis=1)"
   ]
  },
  {
   "cell_type": "code",
   "execution_count": 311,
   "metadata": {},
   "outputs": [],
   "source": [
    "export = total_trainval.to_csv('./data/trainval_set_all.csv', header=True, index = False)"
   ]
  },
  {
   "cell_type": "code",
   "execution_count": 147,
   "metadata": {},
   "outputs": [],
   "source": [
    "#from scipy import stats"
   ]
  },
  {
   "cell_type": "code",
   "execution_count": 169,
   "metadata": {},
   "outputs": [],
   "source": [
    "#bc_adpt_time,lmbda = stats.boxcox((total['adoption_time']+1))"
   ]
  },
  {
   "cell_type": "code",
   "execution_count": 170,
   "metadata": {},
   "outputs": [
    {
     "data": {
      "text/plain": [
       "<matplotlib.axes._subplots.AxesSubplot at 0x1fbf8ff4358>"
      ]
     },
     "execution_count": 170,
     "metadata": {},
     "output_type": "execute_result"
    },
    {
     "data": {
      "image/png": "[encoded data removed]",
      "text/plain": [
       "<Figure size 432x288 with 1 Axes>"
      ]
     },
     "metadata": {
      "needs_background": "light"
     },
     "output_type": "display_data"
    }
   ],
   "source": [
    "#sns.distplot(bc_adpt_time)"
   ]
  },
  {
   "cell_type": "code",
   "execution_count": 171,
   "metadata": {},
   "outputs": [
    {
     "data": {
      "text/plain": [
       "0.13720434611179522"
      ]
     },
     "execution_count": 171,
     "metadata": {},
     "output_type": "execute_result"
    }
   ],
   "source": [
    "#lmbda"
   ]
  },
  {
   "cell_type": "code",
   "execution_count": 172,
   "metadata": {},
   "outputs": [],
   "source": [
    "#from scipy.special import boxcox,inv_boxcox"
   ]
  },
  {
   "cell_type": "code",
   "execution_count": 251,
   "metadata": {},
   "outputs": [
    {
     "data": {
      "text/plain": [
       "[Text(0, 0.5, 'count'), Text(0.5, 0, 'transformed time')]"
      ]
     },
     "execution_count": 251,
     "metadata": {},
     "output_type": "execute_result"
    },
    {
     "data": {
      "image/png": "[encoded data removed]",
      "text/plain": [
       "<Figure size 432x288 with 1 Axes>"
      ]
     },
     "metadata": {
      "needs_background": "light"
     },
     "output_type": "display_data"
    }
   ],
   "source": [
    "tf_adpt_time = total.apply(lambda x: np.power(((x['adoption_time'])+6),(0.2)), axis=1)\n",
    "ax = sns.distplot(tf_adpt_time, kde=False)\n",
    "ax.set(xlabel='transformed time', ylabel='count')"
   ]
  },
  {
   "cell_type": "code",
   "execution_count": 86,
   "metadata": {},
   "outputs": [
    {
     "data": {
      "text/html": [
       "<div>\n",
       "<style scoped>\n",
       "    .dataframe tbody tr th:only-of-type {\n",
       "        vertical-align: middle;\n",
       "    }\n",
       "\n",
       "    .dataframe tbody tr th {\n",
       "        vertical-align: top;\n",
       "    }\n",
       "\n",
       "    .dataframe thead th {\n",
       "        text-align: right;\n",
       "    }\n",
       "</style>\n",
       "<table border=\"1\" class=\"dataframe\">\n",
       "  <thead>\n",
       "    <tr style=\"text-align: right;\">\n",
       "      <th></th>\n",
       "      <th>age</th>\n",
       "      <th>gender</th>\n",
       "      <th>size</th>\n",
       "      <th>breeds.mixed</th>\n",
       "      <th>attributes.spayed_neutered</th>\n",
       "      <th>attributes.house_trained</th>\n",
       "      <th>attributes.special_needs</th>\n",
       "      <th>attributes.shots_current</th>\n",
       "      <th>contact.address.state</th>\n",
       "      <th>adoption_time</th>\n",
       "    </tr>\n",
       "  </thead>\n",
       "  <tbody>\n",
       "    <tr>\n",
       "      <th>0</th>\n",
       "      <td>Baby</td>\n",
       "      <td>Female</td>\n",
       "      <td>Small</td>\n",
       "      <td>True</td>\n",
       "      <td>True</td>\n",
       "      <td>True</td>\n",
       "      <td>False</td>\n",
       "      <td>True</td>\n",
       "      <td>CA</td>\n",
       "      <td>19</td>\n",
       "    </tr>\n",
       "    <tr>\n",
       "      <th>1</th>\n",
       "      <td>Young</td>\n",
       "      <td>Male</td>\n",
       "      <td>Small</td>\n",
       "      <td>False</td>\n",
       "      <td>True</td>\n",
       "      <td>True</td>\n",
       "      <td>False</td>\n",
       "      <td>True</td>\n",
       "      <td>CA</td>\n",
       "      <td>29</td>\n",
       "    </tr>\n",
       "    <tr>\n",
       "      <th>2</th>\n",
       "      <td>Young</td>\n",
       "      <td>Male</td>\n",
       "      <td>Medium</td>\n",
       "      <td>False</td>\n",
       "      <td>True</td>\n",
       "      <td>False</td>\n",
       "      <td>False</td>\n",
       "      <td>True</td>\n",
       "      <td>CA</td>\n",
       "      <td>18</td>\n",
       "    </tr>\n",
       "    <tr>\n",
       "      <th>3</th>\n",
       "      <td>Adult</td>\n",
       "      <td>Female</td>\n",
       "      <td>Medium</td>\n",
       "      <td>False</td>\n",
       "      <td>True</td>\n",
       "      <td>False</td>\n",
       "      <td>False</td>\n",
       "      <td>True</td>\n",
       "      <td>CA</td>\n",
       "      <td>57</td>\n",
       "    </tr>\n",
       "    <tr>\n",
       "      <th>4</th>\n",
       "      <td>Young</td>\n",
       "      <td>Male</td>\n",
       "      <td>Medium</td>\n",
       "      <td>True</td>\n",
       "      <td>True</td>\n",
       "      <td>False</td>\n",
       "      <td>False</td>\n",
       "      <td>True</td>\n",
       "      <td>CA</td>\n",
       "      <td>8</td>\n",
       "    </tr>\n",
       "  </tbody>\n",
       "</table>\n",
       "</div>"
      ],
      "text/plain": [
       "     age  gender    size  breeds.mixed  attributes.spayed_neutered  \\\n",
       "0   Baby  Female   Small          True                        True   \n",
       "1  Young    Male   Small         False                        True   \n",
       "2  Young    Male  Medium         False                        True   \n",
       "3  Adult  Female  Medium         False                        True   \n",
       "4  Young    Male  Medium          True                        True   \n",
       "\n",
       "   attributes.house_trained  attributes.special_needs  \\\n",
       "0                      True                     False   \n",
       "1                      True                     False   \n",
       "2                     False                     False   \n",
       "3                     False                     False   \n",
       "4                     False                     False   \n",
       "\n",
       "   attributes.shots_current contact.address.state  adoption_time  \n",
       "0                      True                    CA             19  \n",
       "1                      True                    CA             29  \n",
       "2                      True                    CA             18  \n",
       "3                      True                    CA             57  \n",
       "4                      True                    CA              8  "
      ]
     },
     "execution_count": 86,
     "metadata": {},
     "output_type": "execute_result"
    }
   ],
   "source": [
    "total.head()"
   ]
  },
  {
   "cell_type": "code",
   "execution_count": 87,
   "metadata": {},
   "outputs": [
    {
     "data": {
      "text/plain": [
       "153436"
      ]
     },
     "execution_count": 87,
     "metadata": {},
     "output_type": "execute_result"
    }
   ],
   "source": [
    "len(X)"
   ]
  },
  {
   "cell_type": "code",
   "execution_count": 252,
   "metadata": {},
   "outputs": [],
   "source": [
    "total['mod_adpt_time'] = total.apply(lambda x: np.power(((x['adoption_time'])+6),(0.2)), axis=1)"
   ]
  },
  {
   "cell_type": "code",
   "execution_count": 186,
   "metadata": {},
   "outputs": [
    {
     "name": "stdout",
     "output_type": "stream",
     "text": [
      "Training set size = 72502 and Test set size = 18126\n"
     ]
    }
   ],
   "source": [
    "from sklearn.model_selection import train_test_split\n",
    "#trainval_X, test_X, trainval_y, test_y = train_test_split(X, y, test_size=0.2)\n",
    "#use log_adpt_time as feature\n",
    "trainval_X, test_X, trainval_y, test_y = train_test_split(X, total['cg_adpt_time'], test_size=0.2)\n",
    "print('Training set size = {} and Test set size = {}'.format(len(trainval_X),len(test_X)))"
   ]
  },
  {
   "cell_type": "code",
   "execution_count": 187,
   "metadata": {},
   "outputs": [],
   "source": [
    "total_test = pd.concat([test_X,test_y], axis=1)\n",
    "export = total_test.to_csv('./data/test_set_scoped_cg.csv', header=True, index = False)\n",
    "total_trainval = pd.concat([trainval_X,trainval_y], axis=1)\n",
    "export = total_trainval.to_csv('./data/trainval_set_scoped_cg.csv', header=True, index = False)"
   ]
  }
 ],
 "metadata": {
  "kernelspec": {
   "display_name": "Python 3",
   "language": "python",
   "name": "python3"
  },
  "language_info": {
   "codemirror_mode": {
    "name": "ipython",
    "version": 3
   },
   "file_extension": ".py",
   "mimetype": "text/x-python",
   "name": "python",
   "nbconvert_exporter": "python",
   "pygments_lexer": "ipython3",
   "version": "3.7.6"
  }
 },
 "nbformat": 4,
 "nbformat_minor": 2
}
