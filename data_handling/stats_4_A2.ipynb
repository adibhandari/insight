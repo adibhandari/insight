{
 "cells": [
  {
   "cell_type": "code",
   "execution_count": 1,
   "metadata": {},
   "outputs": [],
   "source": [
    "#merge data from several states\n",
    "import numpy as np\n",
    "import pandas as pd\n",
    "import json\n",
    "from pandas.io.json import json_normalize\n",
    "import matplotlib.pyplot as plt\n",
    "import pprint\n",
    "import seaborn as sns\n",
    "from pprint import pprint"
   ]
  },
  {
   "cell_type": "code",
   "execution_count": 2,
   "metadata": {},
   "outputs": [],
   "source": [
    "alldogs_merged = pd.read_csv('./data/alldogs_scoped_merged.csv')\n",
    "state={'CA':'Los Angeles', 'MN': 'Minneapolis', 'NY':'New York', 'TX': 'Houston'}"
   ]
  },
  {
   "cell_type": "code",
   "execution_count": 3,
   "metadata": {},
   "outputs": [
    {
     "data": {
      "text/plain": [
       "184542"
      ]
     },
     "execution_count": 3,
     "metadata": {},
     "output_type": "execute_result"
    }
   ],
   "source": [
    "len(alldogs_merged)"
   ]
  },
  {
   "cell_type": "code",
   "execution_count": 4,
   "metadata": {},
   "outputs": [
    {
     "data": {
      "text/html": [
       "<div>\n",
       "<style scoped>\n",
       "    .dataframe tbody tr th:only-of-type {\n",
       "        vertical-align: middle;\n",
       "    }\n",
       "\n",
       "    .dataframe tbody tr th {\n",
       "        vertical-align: top;\n",
       "    }\n",
       "\n",
       "    .dataframe thead th {\n",
       "        text-align: right;\n",
       "    }\n",
       "</style>\n",
       "<table border=\"1\" class=\"dataframe\">\n",
       "  <thead>\n",
       "    <tr style=\"text-align: right;\">\n",
       "      <th></th>\n",
       "      <th>id</th>\n",
       "      <th>organization_id</th>\n",
       "      <th>url</th>\n",
       "      <th>age</th>\n",
       "      <th>gender</th>\n",
       "      <th>size</th>\n",
       "      <th>coat</th>\n",
       "      <th>tags</th>\n",
       "      <th>name</th>\n",
       "      <th>status</th>\n",
       "      <th>...</th>\n",
       "      <th>attributes.declawed</th>\n",
       "      <th>attributes.special_needs</th>\n",
       "      <th>attributes.shots_current</th>\n",
       "      <th>environment.children</th>\n",
       "      <th>environment.dogs</th>\n",
       "      <th>environment.cats</th>\n",
       "      <th>contact.address.city</th>\n",
       "      <th>contact.address.state</th>\n",
       "      <th>contact.address.postcode</th>\n",
       "      <th>adoption_time</th>\n",
       "    </tr>\n",
       "  </thead>\n",
       "  <tbody>\n",
       "    <tr>\n",
       "      <th>0</th>\n",
       "      <td>33853923</td>\n",
       "      <td>CA2395</td>\n",
       "      <td>https://www.petfinder.com/dog/sunny-33853923/c...</td>\n",
       "      <td>Baby</td>\n",
       "      <td>Female</td>\n",
       "      <td>Small</td>\n",
       "      <td>NaN</td>\n",
       "      <td>[]</td>\n",
       "      <td>Sunny</td>\n",
       "      <td>adopted</td>\n",
       "      <td>...</td>\n",
       "      <td>NaN</td>\n",
       "      <td>False</td>\n",
       "      <td>True</td>\n",
       "      <td>NaN</td>\n",
       "      <td>NaN</td>\n",
       "      <td>NaN</td>\n",
       "      <td>Los Angeles</td>\n",
       "      <td>CA</td>\n",
       "      <td>90013</td>\n",
       "      <td>19</td>\n",
       "    </tr>\n",
       "    <tr>\n",
       "      <th>1</th>\n",
       "      <td>33853969</td>\n",
       "      <td>CA2395</td>\n",
       "      <td>https://www.petfinder.com/dog/batman-33853969/...</td>\n",
       "      <td>Young</td>\n",
       "      <td>Male</td>\n",
       "      <td>Small</td>\n",
       "      <td>Short</td>\n",
       "      <td>[]</td>\n",
       "      <td>Batman</td>\n",
       "      <td>adopted</td>\n",
       "      <td>...</td>\n",
       "      <td>NaN</td>\n",
       "      <td>False</td>\n",
       "      <td>True</td>\n",
       "      <td>NaN</td>\n",
       "      <td>NaN</td>\n",
       "      <td>NaN</td>\n",
       "      <td>Los Angeles</td>\n",
       "      <td>CA</td>\n",
       "      <td>90013</td>\n",
       "      <td>29</td>\n",
       "    </tr>\n",
       "    <tr>\n",
       "      <th>2</th>\n",
       "      <td>34004290</td>\n",
       "      <td>CA2395</td>\n",
       "      <td>https://www.petfinder.com/dog/benji-34004290/c...</td>\n",
       "      <td>Young</td>\n",
       "      <td>Male</td>\n",
       "      <td>Medium</td>\n",
       "      <td>Short</td>\n",
       "      <td>[]</td>\n",
       "      <td>Benji</td>\n",
       "      <td>adopted</td>\n",
       "      <td>...</td>\n",
       "      <td>NaN</td>\n",
       "      <td>False</td>\n",
       "      <td>True</td>\n",
       "      <td>NaN</td>\n",
       "      <td>NaN</td>\n",
       "      <td>NaN</td>\n",
       "      <td>Los Angeles</td>\n",
       "      <td>CA</td>\n",
       "      <td>90013</td>\n",
       "      <td>18</td>\n",
       "    </tr>\n",
       "    <tr>\n",
       "      <th>3</th>\n",
       "      <td>34042721</td>\n",
       "      <td>CA2395</td>\n",
       "      <td>https://www.petfinder.com/dog/zuma-34042721/ca...</td>\n",
       "      <td>Adult</td>\n",
       "      <td>Female</td>\n",
       "      <td>Medium</td>\n",
       "      <td>Short</td>\n",
       "      <td>[]</td>\n",
       "      <td>Zuma</td>\n",
       "      <td>adopted</td>\n",
       "      <td>...</td>\n",
       "      <td>NaN</td>\n",
       "      <td>False</td>\n",
       "      <td>True</td>\n",
       "      <td>NaN</td>\n",
       "      <td>NaN</td>\n",
       "      <td>NaN</td>\n",
       "      <td>Los Angeles</td>\n",
       "      <td>CA</td>\n",
       "      <td>90013</td>\n",
       "      <td>57</td>\n",
       "    </tr>\n",
       "    <tr>\n",
       "      <th>4</th>\n",
       "      <td>34079567</td>\n",
       "      <td>CA2395</td>\n",
       "      <td>https://www.petfinder.com/dog/diego-34079567/c...</td>\n",
       "      <td>Young</td>\n",
       "      <td>Male</td>\n",
       "      <td>Medium</td>\n",
       "      <td>Medium</td>\n",
       "      <td>[]</td>\n",
       "      <td>Diego</td>\n",
       "      <td>adopted</td>\n",
       "      <td>...</td>\n",
       "      <td>NaN</td>\n",
       "      <td>False</td>\n",
       "      <td>True</td>\n",
       "      <td>NaN</td>\n",
       "      <td>NaN</td>\n",
       "      <td>NaN</td>\n",
       "      <td>Los Angeles</td>\n",
       "      <td>CA</td>\n",
       "      <td>90013</td>\n",
       "      <td>8</td>\n",
       "    </tr>\n",
       "  </tbody>\n",
       "</table>\n",
       "<p>5 rows × 32 columns</p>\n",
       "</div>"
      ],
      "text/plain": [
       "         id organization_id  \\\n",
       "0  33853923          CA2395   \n",
       "1  33853969          CA2395   \n",
       "2  34004290          CA2395   \n",
       "3  34042721          CA2395   \n",
       "4  34079567          CA2395   \n",
       "\n",
       "                                                 url    age  gender    size  \\\n",
       "0  https://www.petfinder.com/dog/sunny-33853923/c...   Baby  Female   Small   \n",
       "1  https://www.petfinder.com/dog/batman-33853969/...  Young    Male   Small   \n",
       "2  https://www.petfinder.com/dog/benji-34004290/c...  Young    Male  Medium   \n",
       "3  https://www.petfinder.com/dog/zuma-34042721/ca...  Adult  Female  Medium   \n",
       "4  https://www.petfinder.com/dog/diego-34079567/c...  Young    Male  Medium   \n",
       "\n",
       "     coat tags    name   status  ... attributes.declawed  \\\n",
       "0     NaN   []   Sunny  adopted  ...                 NaN   \n",
       "1   Short   []  Batman  adopted  ...                 NaN   \n",
       "2   Short   []   Benji  adopted  ...                 NaN   \n",
       "3   Short   []    Zuma  adopted  ...                 NaN   \n",
       "4  Medium   []   Diego  adopted  ...                 NaN   \n",
       "\n",
       "  attributes.special_needs  attributes.shots_current environment.children  \\\n",
       "0                    False                      True                  NaN   \n",
       "1                    False                      True                  NaN   \n",
       "2                    False                      True                  NaN   \n",
       "3                    False                      True                  NaN   \n",
       "4                    False                      True                  NaN   \n",
       "\n",
       "  environment.dogs  environment.cats  contact.address.city  \\\n",
       "0              NaN               NaN           Los Angeles   \n",
       "1              NaN               NaN           Los Angeles   \n",
       "2              NaN               NaN           Los Angeles   \n",
       "3              NaN               NaN           Los Angeles   \n",
       "4              NaN               NaN           Los Angeles   \n",
       "\n",
       "  contact.address.state contact.address.postcode adoption_time  \n",
       "0                    CA                    90013            19  \n",
       "1                    CA                    90013            29  \n",
       "2                    CA                    90013            18  \n",
       "3                    CA                    90013            57  \n",
       "4                    CA                    90013             8  \n",
       "\n",
       "[5 rows x 32 columns]"
      ]
     },
     "execution_count": 4,
     "metadata": {},
     "output_type": "execute_result"
    }
   ],
   "source": [
    "alldogs_merged.head()"
   ]
  },
  {
   "cell_type": "code",
   "execution_count": 66,
   "metadata": {},
   "outputs": [
    {
     "name": "stdout",
     "output_type": "stream",
     "text": [
      "{'CA': 184.01237496363595,\n",
      " 'MN': 102.96562054208273,\n",
      " 'NY': 227.69666935576814,\n",
      " 'TX': 140.0659042704393}\n"
     ]
    }
   ],
   "source": [
    "mean_adpt_time = {}\n",
    "#create a dict with each state and average adoption time\n",
    "for current_state,current_city in state.items():\n",
    "    key = current_state\n",
    "    val = alldogs_merged[alldogs_merged['contact.address.state'] == current_state]['adoption_time'].mean()\n",
    "    mean_adpt_time[key] = val\n",
    "pprint(mean_adpt_time)"
   ]
  },
  {
   "cell_type": "code",
   "execution_count": 5,
   "metadata": {},
   "outputs": [
    {
     "data": {
      "text/plain": [
       "153466"
      ]
     },
     "execution_count": 5,
     "metadata": {},
     "output_type": "execute_result"
    }
   ],
   "source": [
    "alldogs_merged = alldogs_merged[alldogs_merged['adoption_time']<=200]\n",
    "len(alldogs_merged)"
   ]
  },
  {
   "cell_type": "code",
   "execution_count": 6,
   "metadata": {},
   "outputs": [
    {
     "data": {
      "text/plain": [
       "151513"
      ]
     },
     "execution_count": 6,
     "metadata": {},
     "output_type": "execute_result"
    }
   ],
   "source": [
    "#don't do this, it could be important\n",
    "#alldogs_merged = alldogs_merged[alldogs_merged['attributes.special_needs']==False]\n",
    "#len(alldogs_merged)"
   ]
  },
  {
   "cell_type": "code",
   "execution_count": 6,
   "metadata": {},
   "outputs": [
    {
     "data": {
      "text/plain": [
       "153436"
      ]
     },
     "execution_count": 6,
     "metadata": {},
     "output_type": "execute_result"
    }
   ],
   "source": [
    "alldogs_merged = alldogs_merged[alldogs_merged['gender']!='Unknown']\n",
    "len(alldogs_merged)"
   ]
  },
  {
   "cell_type": "code",
   "execution_count": null,
   "metadata": {},
   "outputs": [],
   "source": []
  },
  {
   "cell_type": "code",
   "execution_count": 7,
   "metadata": {},
   "outputs": [
    {
     "name": "stdout",
     "output_type": "stream",
     "text": [
      "Table size - (153436, 32)\n",
      "Checking for missing values..\n",
      "coat                     66953\n",
      "name                        16\n",
      "breeds.secondary         88860\n",
      "colors.primary           50734\n",
      "colors.secondary        100162\n",
      "colors.tertiary         151755\n",
      "attributes.declawed     153436\n",
      "environment.children    126539\n",
      "environment.dogs        120748\n",
      "environment.cats        137443\n",
      "dtype: int64\n"
     ]
    }
   ],
   "source": [
    "# Check for any missing data\n",
    "print(\"Table size -\", end=' ')\n",
    "print(alldogs_merged.shape)\n",
    "\n",
    "print(\"Checking for missing values..\")\n",
    "# Number of missing values in each column of training data\n",
    "missing_val_count_by_column = (alldogs_merged.isnull().sum())\n",
    "print(missing_val_count_by_column[missing_val_count_by_column > 0])\n",
    "\n",
    "# Get names of columns with missing values\n",
    "missing_cols = [col for col in alldogs_merged.columns\n",
    "                     if alldogs_merged[col].isnull().any()]"
   ]
  },
  {
   "cell_type": "code",
   "execution_count": 120,
   "metadata": {},
   "outputs": [],
   "source": [
    "alldogs_nm = alldogs_merged.fillna({'name':'Unknown'})"
   ]
  },
  {
   "cell_type": "code",
   "execution_count": 121,
   "metadata": {},
   "outputs": [
    {
     "name": "stdout",
     "output_type": "stream",
     "text": [
      "Table size - (153436, 32)\n",
      "Checking for missing values..\n",
      "coat                     66953\n",
      "breeds.secondary         88860\n",
      "colors.primary           50734\n",
      "colors.secondary        100162\n",
      "colors.tertiary         151755\n",
      "attributes.declawed     153436\n",
      "environment.children    126539\n",
      "environment.dogs        120748\n",
      "environment.cats        137443\n",
      "dtype: int64\n"
     ]
    }
   ],
   "source": [
    "# recheck for any missing data\n",
    "print(\"Table size -\", end=' ')\n",
    "print(alldogs_nm.shape)\n",
    "\n",
    "print(\"Checking for missing values..\")\n",
    "# Number of missing values in each column of training data\n",
    "missing_val_count_by_column = (alldogs_nm.isnull().sum())\n",
    "print(missing_val_count_by_column[missing_val_count_by_column > 0])\n",
    "\n",
    "# Get names of columns with missing values\n",
    "missing_cols = [col for col in alldogs_nm.columns\n",
    "                     if alldogs_nm[col].isnull().any()]"
   ]
  },
  {
   "cell_type": "code",
   "execution_count": 122,
   "metadata": {},
   "outputs": [
    {
     "data": {
      "text/plain": [
       "109689"
      ]
     },
     "execution_count": 122,
     "metadata": {},
     "output_type": "execute_result"
    }
   ],
   "source": [
    "len(alldogs_nm[alldogs_nm['breeds.mixed'] == True])"
   ]
  },
  {
   "cell_type": "code",
   "execution_count": 123,
   "metadata": {},
   "outputs": [],
   "source": [
    "alldogs_nm = alldogs_nm.drop(missing_cols, axis=1)"
   ]
  },
  {
   "cell_type": "code",
   "execution_count": 124,
   "metadata": {},
   "outputs": [
    {
     "data": {
      "text/html": [
       "<div>\n",
       "<style scoped>\n",
       "    .dataframe tbody tr th:only-of-type {\n",
       "        vertical-align: middle;\n",
       "    }\n",
       "\n",
       "    .dataframe tbody tr th {\n",
       "        vertical-align: top;\n",
       "    }\n",
       "\n",
       "    .dataframe thead th {\n",
       "        text-align: right;\n",
       "    }\n",
       "</style>\n",
       "<table border=\"1\" class=\"dataframe\">\n",
       "  <thead>\n",
       "    <tr style=\"text-align: right;\">\n",
       "      <th></th>\n",
       "      <th>id</th>\n",
       "      <th>organization_id</th>\n",
       "      <th>url</th>\n",
       "      <th>age</th>\n",
       "      <th>gender</th>\n",
       "      <th>size</th>\n",
       "      <th>tags</th>\n",
       "      <th>name</th>\n",
       "      <th>status</th>\n",
       "      <th>status_changed_at</th>\n",
       "      <th>...</th>\n",
       "      <th>breeds.mixed</th>\n",
       "      <th>breeds.unknown</th>\n",
       "      <th>attributes.spayed_neutered</th>\n",
       "      <th>attributes.house_trained</th>\n",
       "      <th>attributes.special_needs</th>\n",
       "      <th>attributes.shots_current</th>\n",
       "      <th>contact.address.city</th>\n",
       "      <th>contact.address.state</th>\n",
       "      <th>contact.address.postcode</th>\n",
       "      <th>adoption_time</th>\n",
       "    </tr>\n",
       "  </thead>\n",
       "  <tbody>\n",
       "    <tr>\n",
       "      <th>0</th>\n",
       "      <td>33853923</td>\n",
       "      <td>CA2395</td>\n",
       "      <td>https://www.petfinder.com/dog/sunny-33853923/c...</td>\n",
       "      <td>Baby</td>\n",
       "      <td>Female</td>\n",
       "      <td>Small</td>\n",
       "      <td>[]</td>\n",
       "      <td>Sunny</td>\n",
       "      <td>adopted</td>\n",
       "      <td>2015-12-11T20:50:51+0000</td>\n",
       "      <td>...</td>\n",
       "      <td>True</td>\n",
       "      <td>False</td>\n",
       "      <td>True</td>\n",
       "      <td>True</td>\n",
       "      <td>False</td>\n",
       "      <td>True</td>\n",
       "      <td>Los Angeles</td>\n",
       "      <td>CA</td>\n",
       "      <td>90013</td>\n",
       "      <td>19</td>\n",
       "    </tr>\n",
       "    <tr>\n",
       "      <th>1</th>\n",
       "      <td>33853969</td>\n",
       "      <td>CA2395</td>\n",
       "      <td>https://www.petfinder.com/dog/batman-33853969/...</td>\n",
       "      <td>Young</td>\n",
       "      <td>Male</td>\n",
       "      <td>Small</td>\n",
       "      <td>[]</td>\n",
       "      <td>Batman</td>\n",
       "      <td>adopted</td>\n",
       "      <td>2015-12-21T22:23:16+0000</td>\n",
       "      <td>...</td>\n",
       "      <td>False</td>\n",
       "      <td>False</td>\n",
       "      <td>True</td>\n",
       "      <td>True</td>\n",
       "      <td>False</td>\n",
       "      <td>True</td>\n",
       "      <td>Los Angeles</td>\n",
       "      <td>CA</td>\n",
       "      <td>90013</td>\n",
       "      <td>29</td>\n",
       "    </tr>\n",
       "    <tr>\n",
       "      <th>2</th>\n",
       "      <td>34004290</td>\n",
       "      <td>CA2395</td>\n",
       "      <td>https://www.petfinder.com/dog/benji-34004290/c...</td>\n",
       "      <td>Young</td>\n",
       "      <td>Male</td>\n",
       "      <td>Medium</td>\n",
       "      <td>[]</td>\n",
       "      <td>Benji</td>\n",
       "      <td>adopted</td>\n",
       "      <td>2015-12-30T01:22:04+0000</td>\n",
       "      <td>...</td>\n",
       "      <td>False</td>\n",
       "      <td>False</td>\n",
       "      <td>True</td>\n",
       "      <td>False</td>\n",
       "      <td>False</td>\n",
       "      <td>True</td>\n",
       "      <td>Los Angeles</td>\n",
       "      <td>CA</td>\n",
       "      <td>90013</td>\n",
       "      <td>18</td>\n",
       "    </tr>\n",
       "    <tr>\n",
       "      <th>3</th>\n",
       "      <td>34042721</td>\n",
       "      <td>CA2395</td>\n",
       "      <td>https://www.petfinder.com/dog/zuma-34042721/ca...</td>\n",
       "      <td>Adult</td>\n",
       "      <td>Female</td>\n",
       "      <td>Medium</td>\n",
       "      <td>[]</td>\n",
       "      <td>Zuma</td>\n",
       "      <td>adopted</td>\n",
       "      <td>2016-02-12T19:13:27+0000</td>\n",
       "      <td>...</td>\n",
       "      <td>False</td>\n",
       "      <td>False</td>\n",
       "      <td>True</td>\n",
       "      <td>False</td>\n",
       "      <td>False</td>\n",
       "      <td>True</td>\n",
       "      <td>Los Angeles</td>\n",
       "      <td>CA</td>\n",
       "      <td>90013</td>\n",
       "      <td>57</td>\n",
       "    </tr>\n",
       "    <tr>\n",
       "      <th>4</th>\n",
       "      <td>34079567</td>\n",
       "      <td>CA2395</td>\n",
       "      <td>https://www.petfinder.com/dog/diego-34079567/c...</td>\n",
       "      <td>Young</td>\n",
       "      <td>Male</td>\n",
       "      <td>Medium</td>\n",
       "      <td>[]</td>\n",
       "      <td>Diego</td>\n",
       "      <td>adopted</td>\n",
       "      <td>2015-12-30T01:21:59+0000</td>\n",
       "      <td>...</td>\n",
       "      <td>True</td>\n",
       "      <td>False</td>\n",
       "      <td>True</td>\n",
       "      <td>False</td>\n",
       "      <td>False</td>\n",
       "      <td>True</td>\n",
       "      <td>Los Angeles</td>\n",
       "      <td>CA</td>\n",
       "      <td>90013</td>\n",
       "      <td>8</td>\n",
       "    </tr>\n",
       "  </tbody>\n",
       "</table>\n",
       "<p>5 rows × 23 columns</p>\n",
       "</div>"
      ],
      "text/plain": [
       "         id organization_id  \\\n",
       "0  33853923          CA2395   \n",
       "1  33853969          CA2395   \n",
       "2  34004290          CA2395   \n",
       "3  34042721          CA2395   \n",
       "4  34079567          CA2395   \n",
       "\n",
       "                                                 url    age  gender    size  \\\n",
       "0  https://www.petfinder.com/dog/sunny-33853923/c...   Baby  Female   Small   \n",
       "1  https://www.petfinder.com/dog/batman-33853969/...  Young    Male   Small   \n",
       "2  https://www.petfinder.com/dog/benji-34004290/c...  Young    Male  Medium   \n",
       "3  https://www.petfinder.com/dog/zuma-34042721/ca...  Adult  Female  Medium   \n",
       "4  https://www.petfinder.com/dog/diego-34079567/c...  Young    Male  Medium   \n",
       "\n",
       "  tags    name   status         status_changed_at  ... breeds.mixed  \\\n",
       "0   []   Sunny  adopted  2015-12-11T20:50:51+0000  ...         True   \n",
       "1   []  Batman  adopted  2015-12-21T22:23:16+0000  ...        False   \n",
       "2   []   Benji  adopted  2015-12-30T01:22:04+0000  ...        False   \n",
       "3   []    Zuma  adopted  2016-02-12T19:13:27+0000  ...        False   \n",
       "4   []   Diego  adopted  2015-12-30T01:21:59+0000  ...         True   \n",
       "\n",
       "   breeds.unknown attributes.spayed_neutered  attributes.house_trained  \\\n",
       "0           False                       True                      True   \n",
       "1           False                       True                      True   \n",
       "2           False                       True                     False   \n",
       "3           False                       True                     False   \n",
       "4           False                       True                     False   \n",
       "\n",
       "   attributes.special_needs  attributes.shots_current  contact.address.city  \\\n",
       "0                     False                      True           Los Angeles   \n",
       "1                     False                      True           Los Angeles   \n",
       "2                     False                      True           Los Angeles   \n",
       "3                     False                      True           Los Angeles   \n",
       "4                     False                      True           Los Angeles   \n",
       "\n",
       "   contact.address.state  contact.address.postcode adoption_time  \n",
       "0                     CA                     90013            19  \n",
       "1                     CA                     90013            29  \n",
       "2                     CA                     90013            18  \n",
       "3                     CA                     90013            57  \n",
       "4                     CA                     90013             8  \n",
       "\n",
       "[5 rows x 23 columns]"
      ]
     },
     "execution_count": 124,
     "metadata": {},
     "output_type": "execute_result"
    }
   ],
   "source": [
    "alldogs_nm.head()"
   ]
  },
  {
   "cell_type": "code",
   "execution_count": 125,
   "metadata": {},
   "outputs": [
    {
     "data": {
      "text/plain": [
       "153436"
      ]
     },
     "execution_count": 125,
     "metadata": {},
     "output_type": "execute_result"
    }
   ],
   "source": [
    "len(alldogs_nm)"
   ]
  },
  {
   "cell_type": "code",
   "execution_count": 126,
   "metadata": {},
   "outputs": [],
   "source": [
    "#remove negative days error\n",
    "alldogs_nm = alldogs_nm[alldogs_nm['adoption_time']>=0]"
   ]
  },
  {
   "cell_type": "code",
   "execution_count": 15,
   "metadata": {},
   "outputs": [
    {
     "data": {
      "text/plain": [
       "153436"
      ]
     },
     "execution_count": 15,
     "metadata": {},
     "output_type": "execute_result"
    }
   ],
   "source": [
    "len(alldogs_nm)"
   ]
  },
  {
   "cell_type": "code",
   "execution_count": 127,
   "metadata": {},
   "outputs": [
    {
     "data": {
      "text/plain": [
       "Index(['id', 'organization_id', 'url', 'age', 'gender', 'size', 'tags', 'name',\n",
       "       'status', 'status_changed_at', 'published_at', 'distance',\n",
       "       'breeds.primary', 'breeds.mixed', 'breeds.unknown',\n",
       "       'attributes.spayed_neutered', 'attributes.house_trained',\n",
       "       'attributes.special_needs', 'attributes.shots_current',\n",
       "       'contact.address.city', 'contact.address.state',\n",
       "       'contact.address.postcode', 'adoption_time'],\n",
       "      dtype='object')"
      ]
     },
     "execution_count": 127,
     "metadata": {},
     "output_type": "execute_result"
    }
   ],
   "source": [
    "alldogs_nm.columns"
   ]
  },
  {
   "cell_type": "code",
   "execution_count": 128,
   "metadata": {
    "scrolled": true
   },
   "outputs": [
    {
     "data": {
      "text/plain": [
       "Bella    499\n",
       "Max      441\n",
       "Lucy     438\n",
       "Daisy    436\n",
       "Buddy    416\n",
       "Name: name, dtype: int64"
      ]
     },
     "execution_count": 128,
     "metadata": {},
     "output_type": "execute_result"
    }
   ],
   "source": [
    "namelist = alldogs_nm['name'].value_counts()\n",
    "namelist.head()"
   ]
  },
  {
   "cell_type": "code",
   "execution_count": 129,
   "metadata": {},
   "outputs": [
    {
     "data": {
      "text/plain": [
       "0.17034068136272545"
      ]
     },
     "execution_count": 129,
     "metadata": {},
     "output_type": "execute_result"
    }
   ],
   "source": [
    "namelist[alldogs_nm['name'].iloc[89983]]/namelist.max()"
   ]
  },
  {
   "cell_type": "code",
   "execution_count": 130,
   "metadata": {},
   "outputs": [],
   "source": [
    "maxname = namelist.max()"
   ]
  },
  {
   "cell_type": "code",
   "execution_count": 131,
   "metadata": {},
   "outputs": [
    {
     "data": {
      "text/html": [
       "<div>\n",
       "<style scoped>\n",
       "    .dataframe tbody tr th:only-of-type {\n",
       "        vertical-align: middle;\n",
       "    }\n",
       "\n",
       "    .dataframe tbody tr th {\n",
       "        vertical-align: top;\n",
       "    }\n",
       "\n",
       "    .dataframe thead th {\n",
       "        text-align: right;\n",
       "    }\n",
       "</style>\n",
       "<table border=\"1\" class=\"dataframe\">\n",
       "  <thead>\n",
       "    <tr style=\"text-align: right;\">\n",
       "      <th></th>\n",
       "      <th>id</th>\n",
       "      <th>organization_id</th>\n",
       "      <th>url</th>\n",
       "      <th>age</th>\n",
       "      <th>gender</th>\n",
       "      <th>size</th>\n",
       "      <th>tags</th>\n",
       "      <th>name</th>\n",
       "      <th>status</th>\n",
       "      <th>status_changed_at</th>\n",
       "      <th>...</th>\n",
       "      <th>breeds.mixed</th>\n",
       "      <th>breeds.unknown</th>\n",
       "      <th>attributes.spayed_neutered</th>\n",
       "      <th>attributes.house_trained</th>\n",
       "      <th>attributes.special_needs</th>\n",
       "      <th>attributes.shots_current</th>\n",
       "      <th>contact.address.city</th>\n",
       "      <th>contact.address.state</th>\n",
       "      <th>contact.address.postcode</th>\n",
       "      <th>adoption_time</th>\n",
       "    </tr>\n",
       "  </thead>\n",
       "  <tbody>\n",
       "  </tbody>\n",
       "</table>\n",
       "<p>0 rows × 23 columns</p>\n",
       "</div>"
      ],
      "text/plain": [
       "Empty DataFrame\n",
       "Columns: [id, organization_id, url, age, gender, size, tags, name, status, status_changed_at, published_at, distance, breeds.primary, breeds.mixed, breeds.unknown, attributes.spayed_neutered, attributes.house_trained, attributes.special_needs, attributes.shots_current, contact.address.city, contact.address.state, contact.address.postcode, adoption_time]\n",
       "Index: []\n",
       "\n",
       "[0 rows x 23 columns]"
      ]
     },
     "execution_count": 131,
     "metadata": {},
     "output_type": "execute_result"
    }
   ],
   "source": [
    "alldogs_nm[alldogs_nm['name'].isnull()]"
   ]
  },
  {
   "cell_type": "code",
   "execution_count": 132,
   "metadata": {},
   "outputs": [
    {
     "data": {
      "text/plain": [
       "0.20841683366733466"
      ]
     },
     "execution_count": 132,
     "metadata": {},
     "output_type": "execute_result"
    }
   ],
   "source": [
    "def get_norm_name_freq(name):\n",
    "    return namelist[name]/maxname\n",
    "get_norm_name_freq(alldogs_nm['name'].iloc[0])"
   ]
  },
  {
   "cell_type": "code",
   "execution_count": 133,
   "metadata": {},
   "outputs": [
    {
     "data": {
      "text/html": [
       "<div>\n",
       "<style scoped>\n",
       "    .dataframe tbody tr th:only-of-type {\n",
       "        vertical-align: middle;\n",
       "    }\n",
       "\n",
       "    .dataframe tbody tr th {\n",
       "        vertical-align: top;\n",
       "    }\n",
       "\n",
       "    .dataframe thead th {\n",
       "        text-align: right;\n",
       "    }\n",
       "</style>\n",
       "<table border=\"1\" class=\"dataframe\">\n",
       "  <thead>\n",
       "    <tr style=\"text-align: right;\">\n",
       "      <th></th>\n",
       "      <th>id</th>\n",
       "      <th>organization_id</th>\n",
       "      <th>url</th>\n",
       "      <th>age</th>\n",
       "      <th>gender</th>\n",
       "      <th>size</th>\n",
       "      <th>tags</th>\n",
       "      <th>name</th>\n",
       "      <th>status</th>\n",
       "      <th>status_changed_at</th>\n",
       "      <th>...</th>\n",
       "      <th>breeds.unknown</th>\n",
       "      <th>attributes.spayed_neutered</th>\n",
       "      <th>attributes.house_trained</th>\n",
       "      <th>attributes.special_needs</th>\n",
       "      <th>attributes.shots_current</th>\n",
       "      <th>contact.address.city</th>\n",
       "      <th>contact.address.state</th>\n",
       "      <th>contact.address.postcode</th>\n",
       "      <th>adoption_time</th>\n",
       "      <th>norm_name_freq</th>\n",
       "    </tr>\n",
       "  </thead>\n",
       "  <tbody>\n",
       "    <tr>\n",
       "      <th>0</th>\n",
       "      <td>33853923</td>\n",
       "      <td>CA2395</td>\n",
       "      <td>https://www.petfinder.com/dog/sunny-33853923/c...</td>\n",
       "      <td>Baby</td>\n",
       "      <td>Female</td>\n",
       "      <td>Small</td>\n",
       "      <td>[]</td>\n",
       "      <td>Sunny</td>\n",
       "      <td>adopted</td>\n",
       "      <td>2015-12-11T20:50:51+0000</td>\n",
       "      <td>...</td>\n",
       "      <td>False</td>\n",
       "      <td>True</td>\n",
       "      <td>True</td>\n",
       "      <td>False</td>\n",
       "      <td>True</td>\n",
       "      <td>Los Angeles</td>\n",
       "      <td>CA</td>\n",
       "      <td>90013</td>\n",
       "      <td>19</td>\n",
       "      <td>0.208417</td>\n",
       "    </tr>\n",
       "    <tr>\n",
       "      <th>1</th>\n",
       "      <td>33853969</td>\n",
       "      <td>CA2395</td>\n",
       "      <td>https://www.petfinder.com/dog/batman-33853969/...</td>\n",
       "      <td>Young</td>\n",
       "      <td>Male</td>\n",
       "      <td>Small</td>\n",
       "      <td>[]</td>\n",
       "      <td>Batman</td>\n",
       "      <td>adopted</td>\n",
       "      <td>2015-12-21T22:23:16+0000</td>\n",
       "      <td>...</td>\n",
       "      <td>False</td>\n",
       "      <td>True</td>\n",
       "      <td>True</td>\n",
       "      <td>False</td>\n",
       "      <td>True</td>\n",
       "      <td>Los Angeles</td>\n",
       "      <td>CA</td>\n",
       "      <td>90013</td>\n",
       "      <td>29</td>\n",
       "      <td>0.080160</td>\n",
       "    </tr>\n",
       "    <tr>\n",
       "      <th>2</th>\n",
       "      <td>34004290</td>\n",
       "      <td>CA2395</td>\n",
       "      <td>https://www.petfinder.com/dog/benji-34004290/c...</td>\n",
       "      <td>Young</td>\n",
       "      <td>Male</td>\n",
       "      <td>Medium</td>\n",
       "      <td>[]</td>\n",
       "      <td>Benji</td>\n",
       "      <td>adopted</td>\n",
       "      <td>2015-12-30T01:22:04+0000</td>\n",
       "      <td>...</td>\n",
       "      <td>False</td>\n",
       "      <td>True</td>\n",
       "      <td>False</td>\n",
       "      <td>False</td>\n",
       "      <td>True</td>\n",
       "      <td>Los Angeles</td>\n",
       "      <td>CA</td>\n",
       "      <td>90013</td>\n",
       "      <td>18</td>\n",
       "      <td>0.220441</td>\n",
       "    </tr>\n",
       "    <tr>\n",
       "      <th>3</th>\n",
       "      <td>34042721</td>\n",
       "      <td>CA2395</td>\n",
       "      <td>https://www.petfinder.com/dog/zuma-34042721/ca...</td>\n",
       "      <td>Adult</td>\n",
       "      <td>Female</td>\n",
       "      <td>Medium</td>\n",
       "      <td>[]</td>\n",
       "      <td>Zuma</td>\n",
       "      <td>adopted</td>\n",
       "      <td>2016-02-12T19:13:27+0000</td>\n",
       "      <td>...</td>\n",
       "      <td>False</td>\n",
       "      <td>True</td>\n",
       "      <td>False</td>\n",
       "      <td>False</td>\n",
       "      <td>True</td>\n",
       "      <td>Los Angeles</td>\n",
       "      <td>CA</td>\n",
       "      <td>90013</td>\n",
       "      <td>57</td>\n",
       "      <td>0.018036</td>\n",
       "    </tr>\n",
       "    <tr>\n",
       "      <th>4</th>\n",
       "      <td>34079567</td>\n",
       "      <td>CA2395</td>\n",
       "      <td>https://www.petfinder.com/dog/diego-34079567/c...</td>\n",
       "      <td>Young</td>\n",
       "      <td>Male</td>\n",
       "      <td>Medium</td>\n",
       "      <td>[]</td>\n",
       "      <td>Diego</td>\n",
       "      <td>adopted</td>\n",
       "      <td>2015-12-30T01:21:59+0000</td>\n",
       "      <td>...</td>\n",
       "      <td>False</td>\n",
       "      <td>True</td>\n",
       "      <td>False</td>\n",
       "      <td>False</td>\n",
       "      <td>True</td>\n",
       "      <td>Los Angeles</td>\n",
       "      <td>CA</td>\n",
       "      <td>90013</td>\n",
       "      <td>8</td>\n",
       "      <td>0.094188</td>\n",
       "    </tr>\n",
       "  </tbody>\n",
       "</table>\n",
       "<p>5 rows × 24 columns</p>\n",
       "</div>"
      ],
      "text/plain": [
       "         id organization_id  \\\n",
       "0  33853923          CA2395   \n",
       "1  33853969          CA2395   \n",
       "2  34004290          CA2395   \n",
       "3  34042721          CA2395   \n",
       "4  34079567          CA2395   \n",
       "\n",
       "                                                 url    age  gender    size  \\\n",
       "0  https://www.petfinder.com/dog/sunny-33853923/c...   Baby  Female   Small   \n",
       "1  https://www.petfinder.com/dog/batman-33853969/...  Young    Male   Small   \n",
       "2  https://www.petfinder.com/dog/benji-34004290/c...  Young    Male  Medium   \n",
       "3  https://www.petfinder.com/dog/zuma-34042721/ca...  Adult  Female  Medium   \n",
       "4  https://www.petfinder.com/dog/diego-34079567/c...  Young    Male  Medium   \n",
       "\n",
       "  tags    name   status         status_changed_at  ... breeds.unknown  \\\n",
       "0   []   Sunny  adopted  2015-12-11T20:50:51+0000  ...          False   \n",
       "1   []  Batman  adopted  2015-12-21T22:23:16+0000  ...          False   \n",
       "2   []   Benji  adopted  2015-12-30T01:22:04+0000  ...          False   \n",
       "3   []    Zuma  adopted  2016-02-12T19:13:27+0000  ...          False   \n",
       "4   []   Diego  adopted  2015-12-30T01:21:59+0000  ...          False   \n",
       "\n",
       "   attributes.spayed_neutered attributes.house_trained  \\\n",
       "0                        True                     True   \n",
       "1                        True                     True   \n",
       "2                        True                    False   \n",
       "3                        True                    False   \n",
       "4                        True                    False   \n",
       "\n",
       "   attributes.special_needs  attributes.shots_current  contact.address.city  \\\n",
       "0                     False                      True           Los Angeles   \n",
       "1                     False                      True           Los Angeles   \n",
       "2                     False                      True           Los Angeles   \n",
       "3                     False                      True           Los Angeles   \n",
       "4                     False                      True           Los Angeles   \n",
       "\n",
       "   contact.address.state  contact.address.postcode  adoption_time  \\\n",
       "0                     CA                     90013             19   \n",
       "1                     CA                     90013             29   \n",
       "2                     CA                     90013             18   \n",
       "3                     CA                     90013             57   \n",
       "4                     CA                     90013              8   \n",
       "\n",
       "  norm_name_freq  \n",
       "0       0.208417  \n",
       "1       0.080160  \n",
       "2       0.220441  \n",
       "3       0.018036  \n",
       "4       0.094188  \n",
       "\n",
       "[5 rows x 24 columns]"
      ]
     },
     "execution_count": 133,
     "metadata": {},
     "output_type": "execute_result"
    }
   ],
   "source": [
    "alldogs_nm['norm_name_freq'] = alldogs_nm.apply(lambda x: get_norm_name_freq(x['name']), axis=1)\n",
    "alldogs_nm.head()"
   ]
  },
  {
   "cell_type": "code",
   "execution_count": 134,
   "metadata": {},
   "outputs": [
    {
     "data": {
      "text/plain": [
       "Labrador Retriever     15836\n",
       "Chihuahua              11104\n",
       "Terrier                 7489\n",
       "German Shepherd Dog     6581\n",
       "Pit Bull Terrier        6371\n",
       "Name: breeds.primary, dtype: int64"
      ]
     },
     "execution_count": 134,
     "metadata": {},
     "output_type": "execute_result"
    }
   ],
   "source": [
    "breedlist = alldogs_nm['breeds.primary'].value_counts()\n",
    "breedlist.head()"
   ]
  },
  {
   "cell_type": "code",
   "execution_count": 135,
   "metadata": {},
   "outputs": [
    {
     "data": {
      "text/plain": [
       "0.47290982571356405"
      ]
     },
     "execution_count": 135,
     "metadata": {},
     "output_type": "execute_result"
    }
   ],
   "source": [
    "def get_norm_breed_freq(breed):\n",
    "    return breedlist[breed]/breedlist.max()\n",
    "alldogs_nm['breeds.primary'].iloc[0]\n",
    "get_norm_breed_freq(alldogs_nm['breeds.primary'].iloc[0])"
   ]
  },
  {
   "cell_type": "code",
   "execution_count": 136,
   "metadata": {},
   "outputs": [
    {
     "data": {
      "text/html": [
       "<div>\n",
       "<style scoped>\n",
       "    .dataframe tbody tr th:only-of-type {\n",
       "        vertical-align: middle;\n",
       "    }\n",
       "\n",
       "    .dataframe tbody tr th {\n",
       "        vertical-align: top;\n",
       "    }\n",
       "\n",
       "    .dataframe thead th {\n",
       "        text-align: right;\n",
       "    }\n",
       "</style>\n",
       "<table border=\"1\" class=\"dataframe\">\n",
       "  <thead>\n",
       "    <tr style=\"text-align: right;\">\n",
       "      <th></th>\n",
       "      <th>id</th>\n",
       "      <th>organization_id</th>\n",
       "      <th>url</th>\n",
       "      <th>age</th>\n",
       "      <th>gender</th>\n",
       "      <th>size</th>\n",
       "      <th>tags</th>\n",
       "      <th>name</th>\n",
       "      <th>status</th>\n",
       "      <th>status_changed_at</th>\n",
       "      <th>...</th>\n",
       "      <th>attributes.spayed_neutered</th>\n",
       "      <th>attributes.house_trained</th>\n",
       "      <th>attributes.special_needs</th>\n",
       "      <th>attributes.shots_current</th>\n",
       "      <th>contact.address.city</th>\n",
       "      <th>contact.address.state</th>\n",
       "      <th>contact.address.postcode</th>\n",
       "      <th>adoption_time</th>\n",
       "      <th>norm_name_freq</th>\n",
       "      <th>norm_breed_freq</th>\n",
       "    </tr>\n",
       "  </thead>\n",
       "  <tbody>\n",
       "    <tr>\n",
       "      <th>0</th>\n",
       "      <td>33853923</td>\n",
       "      <td>CA2395</td>\n",
       "      <td>https://www.petfinder.com/dog/sunny-33853923/c...</td>\n",
       "      <td>Baby</td>\n",
       "      <td>Female</td>\n",
       "      <td>Small</td>\n",
       "      <td>[]</td>\n",
       "      <td>Sunny</td>\n",
       "      <td>adopted</td>\n",
       "      <td>2015-12-11T20:50:51+0000</td>\n",
       "      <td>...</td>\n",
       "      <td>True</td>\n",
       "      <td>True</td>\n",
       "      <td>False</td>\n",
       "      <td>True</td>\n",
       "      <td>Los Angeles</td>\n",
       "      <td>CA</td>\n",
       "      <td>90013</td>\n",
       "      <td>19</td>\n",
       "      <td>0.208417</td>\n",
       "      <td>0.472910</td>\n",
       "    </tr>\n",
       "    <tr>\n",
       "      <th>1</th>\n",
       "      <td>33853969</td>\n",
       "      <td>CA2395</td>\n",
       "      <td>https://www.petfinder.com/dog/batman-33853969/...</td>\n",
       "      <td>Young</td>\n",
       "      <td>Male</td>\n",
       "      <td>Small</td>\n",
       "      <td>[]</td>\n",
       "      <td>Batman</td>\n",
       "      <td>adopted</td>\n",
       "      <td>2015-12-21T22:23:16+0000</td>\n",
       "      <td>...</td>\n",
       "      <td>True</td>\n",
       "      <td>True</td>\n",
       "      <td>False</td>\n",
       "      <td>True</td>\n",
       "      <td>Los Angeles</td>\n",
       "      <td>CA</td>\n",
       "      <td>90013</td>\n",
       "      <td>29</td>\n",
       "      <td>0.080160</td>\n",
       "      <td>0.064979</td>\n",
       "    </tr>\n",
       "    <tr>\n",
       "      <th>2</th>\n",
       "      <td>34004290</td>\n",
       "      <td>CA2395</td>\n",
       "      <td>https://www.petfinder.com/dog/benji-34004290/c...</td>\n",
       "      <td>Young</td>\n",
       "      <td>Male</td>\n",
       "      <td>Medium</td>\n",
       "      <td>[]</td>\n",
       "      <td>Benji</td>\n",
       "      <td>adopted</td>\n",
       "      <td>2015-12-30T01:22:04+0000</td>\n",
       "      <td>...</td>\n",
       "      <td>True</td>\n",
       "      <td>False</td>\n",
       "      <td>False</td>\n",
       "      <td>True</td>\n",
       "      <td>Los Angeles</td>\n",
       "      <td>CA</td>\n",
       "      <td>90013</td>\n",
       "      <td>18</td>\n",
       "      <td>0.220441</td>\n",
       "      <td>0.020775</td>\n",
       "    </tr>\n",
       "    <tr>\n",
       "      <th>3</th>\n",
       "      <td>34042721</td>\n",
       "      <td>CA2395</td>\n",
       "      <td>https://www.petfinder.com/dog/zuma-34042721/ca...</td>\n",
       "      <td>Adult</td>\n",
       "      <td>Female</td>\n",
       "      <td>Medium</td>\n",
       "      <td>[]</td>\n",
       "      <td>Zuma</td>\n",
       "      <td>adopted</td>\n",
       "      <td>2016-02-12T19:13:27+0000</td>\n",
       "      <td>...</td>\n",
       "      <td>True</td>\n",
       "      <td>False</td>\n",
       "      <td>False</td>\n",
       "      <td>True</td>\n",
       "      <td>Los Angeles</td>\n",
       "      <td>CA</td>\n",
       "      <td>90013</td>\n",
       "      <td>57</td>\n",
       "      <td>0.018036</td>\n",
       "      <td>0.001010</td>\n",
       "    </tr>\n",
       "    <tr>\n",
       "      <th>4</th>\n",
       "      <td>34079567</td>\n",
       "      <td>CA2395</td>\n",
       "      <td>https://www.petfinder.com/dog/diego-34079567/c...</td>\n",
       "      <td>Young</td>\n",
       "      <td>Male</td>\n",
       "      <td>Medium</td>\n",
       "      <td>[]</td>\n",
       "      <td>Diego</td>\n",
       "      <td>adopted</td>\n",
       "      <td>2015-12-30T01:21:59+0000</td>\n",
       "      <td>...</td>\n",
       "      <td>True</td>\n",
       "      <td>False</td>\n",
       "      <td>False</td>\n",
       "      <td>True</td>\n",
       "      <td>Los Angeles</td>\n",
       "      <td>CA</td>\n",
       "      <td>90013</td>\n",
       "      <td>8</td>\n",
       "      <td>0.094188</td>\n",
       "      <td>0.472910</td>\n",
       "    </tr>\n",
       "  </tbody>\n",
       "</table>\n",
       "<p>5 rows × 25 columns</p>\n",
       "</div>"
      ],
      "text/plain": [
       "         id organization_id  \\\n",
       "0  33853923          CA2395   \n",
       "1  33853969          CA2395   \n",
       "2  34004290          CA2395   \n",
       "3  34042721          CA2395   \n",
       "4  34079567          CA2395   \n",
       "\n",
       "                                                 url    age  gender    size  \\\n",
       "0  https://www.petfinder.com/dog/sunny-33853923/c...   Baby  Female   Small   \n",
       "1  https://www.petfinder.com/dog/batman-33853969/...  Young    Male   Small   \n",
       "2  https://www.petfinder.com/dog/benji-34004290/c...  Young    Male  Medium   \n",
       "3  https://www.petfinder.com/dog/zuma-34042721/ca...  Adult  Female  Medium   \n",
       "4  https://www.petfinder.com/dog/diego-34079567/c...  Young    Male  Medium   \n",
       "\n",
       "  tags    name   status         status_changed_at  ...  \\\n",
       "0   []   Sunny  adopted  2015-12-11T20:50:51+0000  ...   \n",
       "1   []  Batman  adopted  2015-12-21T22:23:16+0000  ...   \n",
       "2   []   Benji  adopted  2015-12-30T01:22:04+0000  ...   \n",
       "3   []    Zuma  adopted  2016-02-12T19:13:27+0000  ...   \n",
       "4   []   Diego  adopted  2015-12-30T01:21:59+0000  ...   \n",
       "\n",
       "  attributes.spayed_neutered  attributes.house_trained  \\\n",
       "0                       True                      True   \n",
       "1                       True                      True   \n",
       "2                       True                     False   \n",
       "3                       True                     False   \n",
       "4                       True                     False   \n",
       "\n",
       "  attributes.special_needs  attributes.shots_current  contact.address.city  \\\n",
       "0                    False                      True           Los Angeles   \n",
       "1                    False                      True           Los Angeles   \n",
       "2                    False                      True           Los Angeles   \n",
       "3                    False                      True           Los Angeles   \n",
       "4                    False                      True           Los Angeles   \n",
       "\n",
       "   contact.address.state  contact.address.postcode  adoption_time  \\\n",
       "0                     CA                     90013             19   \n",
       "1                     CA                     90013             29   \n",
       "2                     CA                     90013             18   \n",
       "3                     CA                     90013             57   \n",
       "4                     CA                     90013              8   \n",
       "\n",
       "   norm_name_freq norm_breed_freq  \n",
       "0        0.208417        0.472910  \n",
       "1        0.080160        0.064979  \n",
       "2        0.220441        0.020775  \n",
       "3        0.018036        0.001010  \n",
       "4        0.094188        0.472910  \n",
       "\n",
       "[5 rows x 25 columns]"
      ]
     },
     "execution_count": 136,
     "metadata": {},
     "output_type": "execute_result"
    }
   ],
   "source": [
    "alldogs_nm['norm_breed_freq'] = alldogs_nm.apply(lambda x: get_norm_breed_freq(x['breeds.primary']), axis=1)\n",
    "alldogs_nm.head()"
   ]
  },
  {
   "cell_type": "code",
   "execution_count": 222,
   "metadata": {},
   "outputs": [
    {
     "data": {
      "text/plain": [
       "count    153436.000000\n",
       "mean          0.099055\n",
       "std           0.162896\n",
       "min           0.002004\n",
       "25%           0.002004\n",
       "50%           0.028056\n",
       "75%           0.122244\n",
       "max           1.000000\n",
       "Name: norm_name_freq, dtype: float64"
      ]
     },
     "execution_count": 222,
     "metadata": {},
     "output_type": "execute_result"
    }
   ],
   "source": [
    "alldogs_nm['norm_name_freq'].describe()"
   ]
  },
  {
   "cell_type": "code",
   "execution_count": 227,
   "metadata": {},
   "outputs": [
    {
     "data": {
      "text/plain": [
       "0           High\n",
       "1           High\n",
       "2           High\n",
       "3         Medium\n",
       "4           High\n",
       "           ...  \n",
       "184384      High\n",
       "184385    Medium\n",
       "184386    Medium\n",
       "184387       Low\n",
       "184388    Medium\n",
       "Name: norm_name_freq, Length: 153436, dtype: category\n",
       "Categories (3, object): [Low < Medium < High]"
      ]
     },
     "execution_count": 227,
     "metadata": {},
     "output_type": "execute_result"
    }
   ],
   "source": [
    "pd.qcut(alldogs_nm['norm_name_freq'], q=[0, 0.33, 0.67, 1], labels = ['Low', 'Medium', 'High'])"
   ]
  },
  {
   "cell_type": "code",
   "execution_count": 228,
   "metadata": {},
   "outputs": [],
   "source": [
    "alldogs_nm['name_pop'] = pd.qcut(alldogs_nm['norm_name_freq'], q=[0, 0.33, 0.67, 1], labels = ['Low', 'Medium', 'High'])"
   ]
  },
  {
   "cell_type": "code",
   "execution_count": 229,
   "metadata": {},
   "outputs": [
    {
     "data": {
      "text/plain": [
       "Low       52739\n",
       "High      50611\n",
       "Medium    50086\n",
       "Name: name_pop, dtype: int64"
      ]
     },
     "execution_count": 229,
     "metadata": {},
     "output_type": "execute_result"
    }
   ],
   "source": [
    "alldogs_nm['name_pop'].value_counts()"
   ]
  },
  {
   "cell_type": "code",
   "execution_count": 230,
   "metadata": {},
   "outputs": [
    {
     "data": {
      "text/plain": [
       "Medium    55187\n",
       "Low       50868\n",
       "High      47381\n",
       "Name: breed_pop, dtype: int64"
      ]
     },
     "execution_count": 230,
     "metadata": {},
     "output_type": "execute_result"
    }
   ],
   "source": [
    "alldogs_nm['breed_pop'] = pd.qcut(alldogs_nm['norm_breed_freq'], q=[0, 0.33, 0.67, 1], labels = ['Low', 'Medium', 'High'])\n",
    "alldogs_nm['breed_pop'].value_counts()"
   ]
  },
  {
   "cell_type": "code",
   "execution_count": 231,
   "metadata": {},
   "outputs": [
    {
     "data": {
      "text/plain": [
       "breed_pop\n",
       "Medium    38.893236\n",
       "Low       40.924786\n",
       "High      41.140436\n",
       "Name: adoption_time, dtype: float64"
      ]
     },
     "execution_count": 231,
     "metadata": {},
     "output_type": "execute_result"
    }
   ],
   "source": [
    "alldogs_nm.groupby('breed_pop')['adoption_time'].mean().sort_values()"
   ]
  },
  {
   "cell_type": "code",
   "execution_count": 232,
   "metadata": {},
   "outputs": [
    {
     "data": {
      "text/plain": [
       "name_pop\n",
       "Medium    38.379966\n",
       "Low       41.073134\n",
       "High      41.275276\n",
       "Name: adoption_time, dtype: float64"
      ]
     },
     "execution_count": 232,
     "metadata": {},
     "output_type": "execute_result"
    }
   ],
   "source": [
    "alldogs_nm.groupby('name_pop')['adoption_time'].mean().sort_values()"
   ]
  },
  {
   "cell_type": "code",
   "execution_count": 257,
   "metadata": {},
   "outputs": [
    {
     "data": {
      "text/plain": [
       "breed_pop\n",
       "Medium    54.238475\n",
       "Low       55.921150\n",
       "High      58.682297\n",
       "Name: adoption_time, dtype: float64"
      ]
     },
     "execution_count": 257,
     "metadata": {},
     "output_type": "execute_result"
    }
   ],
   "source": [
    "alldogs_nm[alldogs_nm['age']=='Senior'].groupby('breed_pop')['adoption_time'].mean().sort_values()"
   ]
  },
  {
   "cell_type": "code",
   "execution_count": 258,
   "metadata": {},
   "outputs": [
    {
     "data": {
      "text/plain": [
       "name_pop\n",
       "High      54.703780\n",
       "Medium    56.241627\n",
       "Low       56.816552\n",
       "Name: adoption_time, dtype: float64"
      ]
     },
     "execution_count": 258,
     "metadata": {},
     "output_type": "execute_result"
    }
   ],
   "source": [
    "alldogs_nm[alldogs_nm['age']=='Senior'].groupby('name_pop')['adoption_time'].mean().sort_values()"
   ]
  },
  {
   "cell_type": "code",
   "execution_count": 82,
   "metadata": {},
   "outputs": [],
   "source": [
    "z = datetime.strptime(alldogs_nm['status_changed_at'].iloc[0],\"%Y-%m-%dT%H:%M:%S%z\")"
   ]
  },
  {
   "cell_type": "code",
   "execution_count": 90,
   "metadata": {},
   "outputs": [
    {
     "data": {
      "text/plain": [
       "2015"
      ]
     },
     "execution_count": 90,
     "metadata": {},
     "output_type": "execute_result"
    }
   ],
   "source": [
    "z.year"
   ]
  },
  {
   "cell_type": "code",
   "execution_count": 137,
   "metadata": {},
   "outputs": [],
   "source": [
    "from datetime import datetime\n",
    "def get_month(date):\n",
    "    z = datetime.strptime(date,\"%Y-%m-%dT%H:%M:%S%z\")\n",
    "    return z.month"
   ]
  },
  {
   "cell_type": "code",
   "execution_count": 138,
   "metadata": {},
   "outputs": [],
   "source": [
    "alldogs_nm['month'] = alldogs_nm.apply(lambda x: get_month(x['status_changed_at']), axis=1)"
   ]
  },
  {
   "cell_type": "code",
   "execution_count": 139,
   "metadata": {},
   "outputs": [],
   "source": [
    "from datetime import datetime\n",
    "def get_year(date):\n",
    "    z = datetime.strptime(date,\"%Y-%m-%dT%H:%M:%S%z\")\n",
    "    return z.year"
   ]
  },
  {
   "cell_type": "code",
   "execution_count": 140,
   "metadata": {},
   "outputs": [],
   "source": [
    "alldogs_nm['year'] = alldogs_nm.apply(lambda x: get_year(x['status_changed_at']), axis=1)"
   ]
  },
  {
   "cell_type": "code",
   "execution_count": 233,
   "metadata": {},
   "outputs": [
    {
     "data": {
      "text/html": [
       "<div>\n",
       "<style scoped>\n",
       "    .dataframe tbody tr th:only-of-type {\n",
       "        vertical-align: middle;\n",
       "    }\n",
       "\n",
       "    .dataframe tbody tr th {\n",
       "        vertical-align: top;\n",
       "    }\n",
       "\n",
       "    .dataframe thead th {\n",
       "        text-align: right;\n",
       "    }\n",
       "</style>\n",
       "<table border=\"1\" class=\"dataframe\">\n",
       "  <thead>\n",
       "    <tr style=\"text-align: right;\">\n",
       "      <th></th>\n",
       "      <th>id</th>\n",
       "      <th>organization_id</th>\n",
       "      <th>url</th>\n",
       "      <th>age</th>\n",
       "      <th>gender</th>\n",
       "      <th>size</th>\n",
       "      <th>tags</th>\n",
       "      <th>name</th>\n",
       "      <th>status</th>\n",
       "      <th>status_changed_at</th>\n",
       "      <th>...</th>\n",
       "      <th>contact.address.city</th>\n",
       "      <th>contact.address.state</th>\n",
       "      <th>contact.address.postcode</th>\n",
       "      <th>adoption_time</th>\n",
       "      <th>norm_name_freq</th>\n",
       "      <th>norm_breed_freq</th>\n",
       "      <th>month</th>\n",
       "      <th>year</th>\n",
       "      <th>name_pop</th>\n",
       "      <th>breed_pop</th>\n",
       "    </tr>\n",
       "  </thead>\n",
       "  <tbody>\n",
       "    <tr>\n",
       "      <th>0</th>\n",
       "      <td>33853923</td>\n",
       "      <td>CA2395</td>\n",
       "      <td>https://www.petfinder.com/dog/sunny-33853923/c...</td>\n",
       "      <td>Baby</td>\n",
       "      <td>Female</td>\n",
       "      <td>Small</td>\n",
       "      <td>[]</td>\n",
       "      <td>Sunny</td>\n",
       "      <td>adopted</td>\n",
       "      <td>2015-12-11T20:50:51+0000</td>\n",
       "      <td>...</td>\n",
       "      <td>Los Angeles</td>\n",
       "      <td>CA</td>\n",
       "      <td>90013</td>\n",
       "      <td>19</td>\n",
       "      <td>0.208417</td>\n",
       "      <td>0.472910</td>\n",
       "      <td>12</td>\n",
       "      <td>2015</td>\n",
       "      <td>High</td>\n",
       "      <td>High</td>\n",
       "    </tr>\n",
       "    <tr>\n",
       "      <th>1</th>\n",
       "      <td>33853969</td>\n",
       "      <td>CA2395</td>\n",
       "      <td>https://www.petfinder.com/dog/batman-33853969/...</td>\n",
       "      <td>Young</td>\n",
       "      <td>Male</td>\n",
       "      <td>Small</td>\n",
       "      <td>[]</td>\n",
       "      <td>Batman</td>\n",
       "      <td>adopted</td>\n",
       "      <td>2015-12-21T22:23:16+0000</td>\n",
       "      <td>...</td>\n",
       "      <td>Los Angeles</td>\n",
       "      <td>CA</td>\n",
       "      <td>90013</td>\n",
       "      <td>29</td>\n",
       "      <td>0.080160</td>\n",
       "      <td>0.064979</td>\n",
       "      <td>12</td>\n",
       "      <td>2015</td>\n",
       "      <td>High</td>\n",
       "      <td>Low</td>\n",
       "    </tr>\n",
       "    <tr>\n",
       "      <th>2</th>\n",
       "      <td>34004290</td>\n",
       "      <td>CA2395</td>\n",
       "      <td>https://www.petfinder.com/dog/benji-34004290/c...</td>\n",
       "      <td>Young</td>\n",
       "      <td>Male</td>\n",
       "      <td>Medium</td>\n",
       "      <td>[]</td>\n",
       "      <td>Benji</td>\n",
       "      <td>adopted</td>\n",
       "      <td>2015-12-30T01:22:04+0000</td>\n",
       "      <td>...</td>\n",
       "      <td>Los Angeles</td>\n",
       "      <td>CA</td>\n",
       "      <td>90013</td>\n",
       "      <td>18</td>\n",
       "      <td>0.220441</td>\n",
       "      <td>0.020775</td>\n",
       "      <td>12</td>\n",
       "      <td>2015</td>\n",
       "      <td>High</td>\n",
       "      <td>Low</td>\n",
       "    </tr>\n",
       "    <tr>\n",
       "      <th>3</th>\n",
       "      <td>34042721</td>\n",
       "      <td>CA2395</td>\n",
       "      <td>https://www.petfinder.com/dog/zuma-34042721/ca...</td>\n",
       "      <td>Adult</td>\n",
       "      <td>Female</td>\n",
       "      <td>Medium</td>\n",
       "      <td>[]</td>\n",
       "      <td>Zuma</td>\n",
       "      <td>adopted</td>\n",
       "      <td>2016-02-12T19:13:27+0000</td>\n",
       "      <td>...</td>\n",
       "      <td>Los Angeles</td>\n",
       "      <td>CA</td>\n",
       "      <td>90013</td>\n",
       "      <td>57</td>\n",
       "      <td>0.018036</td>\n",
       "      <td>0.001010</td>\n",
       "      <td>2</td>\n",
       "      <td>2016</td>\n",
       "      <td>Medium</td>\n",
       "      <td>Low</td>\n",
       "    </tr>\n",
       "    <tr>\n",
       "      <th>4</th>\n",
       "      <td>34079567</td>\n",
       "      <td>CA2395</td>\n",
       "      <td>https://www.petfinder.com/dog/diego-34079567/c...</td>\n",
       "      <td>Young</td>\n",
       "      <td>Male</td>\n",
       "      <td>Medium</td>\n",
       "      <td>[]</td>\n",
       "      <td>Diego</td>\n",
       "      <td>adopted</td>\n",
       "      <td>2015-12-30T01:21:59+0000</td>\n",
       "      <td>...</td>\n",
       "      <td>Los Angeles</td>\n",
       "      <td>CA</td>\n",
       "      <td>90013</td>\n",
       "      <td>8</td>\n",
       "      <td>0.094188</td>\n",
       "      <td>0.472910</td>\n",
       "      <td>12</td>\n",
       "      <td>2015</td>\n",
       "      <td>High</td>\n",
       "      <td>High</td>\n",
       "    </tr>\n",
       "  </tbody>\n",
       "</table>\n",
       "<p>5 rows × 29 columns</p>\n",
       "</div>"
      ],
      "text/plain": [
       "         id organization_id  \\\n",
       "0  33853923          CA2395   \n",
       "1  33853969          CA2395   \n",
       "2  34004290          CA2395   \n",
       "3  34042721          CA2395   \n",
       "4  34079567          CA2395   \n",
       "\n",
       "                                                 url    age  gender    size  \\\n",
       "0  https://www.petfinder.com/dog/sunny-33853923/c...   Baby  Female   Small   \n",
       "1  https://www.petfinder.com/dog/batman-33853969/...  Young    Male   Small   \n",
       "2  https://www.petfinder.com/dog/benji-34004290/c...  Young    Male  Medium   \n",
       "3  https://www.petfinder.com/dog/zuma-34042721/ca...  Adult  Female  Medium   \n",
       "4  https://www.petfinder.com/dog/diego-34079567/c...  Young    Male  Medium   \n",
       "\n",
       "  tags    name   status         status_changed_at  ... contact.address.city  \\\n",
       "0   []   Sunny  adopted  2015-12-11T20:50:51+0000  ...          Los Angeles   \n",
       "1   []  Batman  adopted  2015-12-21T22:23:16+0000  ...          Los Angeles   \n",
       "2   []   Benji  adopted  2015-12-30T01:22:04+0000  ...          Los Angeles   \n",
       "3   []    Zuma  adopted  2016-02-12T19:13:27+0000  ...          Los Angeles   \n",
       "4   []   Diego  adopted  2015-12-30T01:21:59+0000  ...          Los Angeles   \n",
       "\n",
       "   contact.address.state contact.address.postcode  adoption_time  \\\n",
       "0                     CA                    90013             19   \n",
       "1                     CA                    90013             29   \n",
       "2                     CA                    90013             18   \n",
       "3                     CA                    90013             57   \n",
       "4                     CA                    90013              8   \n",
       "\n",
       "   norm_name_freq  norm_breed_freq  month  year  name_pop breed_pop  \n",
       "0        0.208417         0.472910     12  2015      High      High  \n",
       "1        0.080160         0.064979     12  2015      High       Low  \n",
       "2        0.220441         0.020775     12  2015      High       Low  \n",
       "3        0.018036         0.001010      2  2016    Medium       Low  \n",
       "4        0.094188         0.472910     12  2015      High      High  \n",
       "\n",
       "[5 rows x 29 columns]"
      ]
     },
     "execution_count": 233,
     "metadata": {},
     "output_type": "execute_result"
    }
   ],
   "source": [
    "alldogs_nm.head()"
   ]
  },
  {
   "cell_type": "code",
   "execution_count": 142,
   "metadata": {},
   "outputs": [
    {
     "data": {
      "text/plain": [
       "2017    17481\n",
       "2016    17126\n",
       "2019    17066\n",
       "2018    16429\n",
       "2015    16400\n",
       "2014    15665\n",
       "2013    14911\n",
       "2012    13584\n",
       "2011    11600\n",
       "2010     7996\n",
       "2009     2615\n",
       "2008     1415\n",
       "2020      835\n",
       "2007      298\n",
       "2006       15\n",
       "Name: year, dtype: int64"
      ]
     },
     "execution_count": 142,
     "metadata": {},
     "output_type": "execute_result"
    }
   ],
   "source": [
    "alldogs_nm['year'].value_counts()"
   ]
  },
  {
   "cell_type": "code",
   "execution_count": 143,
   "metadata": {},
   "outputs": [
    {
     "data": {
      "text/plain": [
       "12    13860\n",
       "8     13716\n",
       "9     13471\n",
       "7     13113\n",
       "10    12941\n",
       "1     12697\n",
       "11    12682\n",
       "3     12543\n",
       "4     12531\n",
       "5     12472\n",
       "6     12246\n",
       "2     11164\n",
       "Name: month, dtype: int64"
      ]
     },
     "execution_count": 143,
     "metadata": {},
     "output_type": "execute_result"
    }
   ],
   "source": [
    "alldogs_nm['month'].value_counts()"
   ]
  },
  {
   "cell_type": "code",
   "execution_count": 144,
   "metadata": {},
   "outputs": [
    {
     "data": {
      "text/plain": [
       "year\n",
       "2008     34.413428\n",
       "2017     36.176649\n",
       "2016     36.700280\n",
       "2018     36.881551\n",
       "2019     37.853803\n",
       "2013     39.776742\n",
       "2015     39.830122\n",
       "2012     40.939635\n",
       "2014     41.149697\n",
       "2011     41.631466\n",
       "2020     51.918563\n",
       "2010     55.131941\n",
       "2009     66.795411\n",
       "2007     85.483221\n",
       "2006    103.666667\n",
       "Name: adoption_time, dtype: float64"
      ]
     },
     "execution_count": 144,
     "metadata": {},
     "output_type": "execute_result"
    }
   ],
   "source": [
    "alldogs_nm.groupby('year')['adoption_time'].mean().sort_values()"
   ]
  },
  {
   "cell_type": "code",
   "execution_count": 145,
   "metadata": {},
   "outputs": [
    {
     "data": {
      "text/plain": [
       "month\n",
       "2     36.667234\n",
       "3     37.009168\n",
       "4     37.899210\n",
       "5     38.989897\n",
       "8     39.400992\n",
       "6     39.716479\n",
       "10    40.737501\n",
       "12    40.760173\n",
       "11    40.858303\n",
       "7     41.523831\n",
       "1     42.519572\n",
       "9     46.116250\n",
       "Name: adoption_time, dtype: float64"
      ]
     },
     "execution_count": 145,
     "metadata": {},
     "output_type": "execute_result"
    }
   ],
   "source": [
    "alldogs_nm.groupby('month')['adoption_time'].mean().sort_values()"
   ]
  },
  {
   "cell_type": "code",
   "execution_count": 153,
   "metadata": {},
   "outputs": [
    {
     "data": {
      "text/plain": [
       "153436"
      ]
     },
     "execution_count": 153,
     "metadata": {},
     "output_type": "execute_result"
    }
   ],
   "source": [
    "len(alldogs_nm)"
   ]
  },
  {
   "cell_type": "code",
   "execution_count": 154,
   "metadata": {},
   "outputs": [
    {
     "data": {
      "text/html": [
       "<div>\n",
       "<style scoped>\n",
       "    .dataframe tbody tr th:only-of-type {\n",
       "        vertical-align: middle;\n",
       "    }\n",
       "\n",
       "    .dataframe tbody tr th {\n",
       "        vertical-align: top;\n",
       "    }\n",
       "\n",
       "    .dataframe thead th {\n",
       "        text-align: right;\n",
       "    }\n",
       "</style>\n",
       "<table border=\"1\" class=\"dataframe\">\n",
       "  <thead>\n",
       "    <tr style=\"text-align: right;\">\n",
       "      <th></th>\n",
       "      <th>id</th>\n",
       "      <th>organization_id</th>\n",
       "      <th>url</th>\n",
       "      <th>age</th>\n",
       "      <th>gender</th>\n",
       "      <th>size</th>\n",
       "      <th>tags</th>\n",
       "      <th>name</th>\n",
       "      <th>status</th>\n",
       "      <th>status_changed_at</th>\n",
       "      <th>...</th>\n",
       "      <th>attributes.special_needs</th>\n",
       "      <th>attributes.shots_current</th>\n",
       "      <th>contact.address.city</th>\n",
       "      <th>contact.address.state</th>\n",
       "      <th>contact.address.postcode</th>\n",
       "      <th>adoption_time</th>\n",
       "      <th>norm_name_freq</th>\n",
       "      <th>norm_breed_freq</th>\n",
       "      <th>month</th>\n",
       "      <th>year</th>\n",
       "    </tr>\n",
       "  </thead>\n",
       "  <tbody>\n",
       "    <tr>\n",
       "      <th>0</th>\n",
       "      <td>33853923</td>\n",
       "      <td>CA2395</td>\n",
       "      <td>https://www.petfinder.com/dog/sunny-33853923/c...</td>\n",
       "      <td>Baby</td>\n",
       "      <td>Female</td>\n",
       "      <td>Small</td>\n",
       "      <td>[]</td>\n",
       "      <td>Sunny</td>\n",
       "      <td>adopted</td>\n",
       "      <td>2015-12-11T20:50:51+0000</td>\n",
       "      <td>...</td>\n",
       "      <td>False</td>\n",
       "      <td>True</td>\n",
       "      <td>Los Angeles</td>\n",
       "      <td>CA</td>\n",
       "      <td>90013</td>\n",
       "      <td>19</td>\n",
       "      <td>0.208417</td>\n",
       "      <td>0.472910</td>\n",
       "      <td>12</td>\n",
       "      <td>2015</td>\n",
       "    </tr>\n",
       "    <tr>\n",
       "      <th>1</th>\n",
       "      <td>33853969</td>\n",
       "      <td>CA2395</td>\n",
       "      <td>https://www.petfinder.com/dog/batman-33853969/...</td>\n",
       "      <td>Young</td>\n",
       "      <td>Male</td>\n",
       "      <td>Small</td>\n",
       "      <td>[]</td>\n",
       "      <td>Batman</td>\n",
       "      <td>adopted</td>\n",
       "      <td>2015-12-21T22:23:16+0000</td>\n",
       "      <td>...</td>\n",
       "      <td>False</td>\n",
       "      <td>True</td>\n",
       "      <td>Los Angeles</td>\n",
       "      <td>CA</td>\n",
       "      <td>90013</td>\n",
       "      <td>29</td>\n",
       "      <td>0.080160</td>\n",
       "      <td>0.064979</td>\n",
       "      <td>12</td>\n",
       "      <td>2015</td>\n",
       "    </tr>\n",
       "    <tr>\n",
       "      <th>2</th>\n",
       "      <td>34004290</td>\n",
       "      <td>CA2395</td>\n",
       "      <td>https://www.petfinder.com/dog/benji-34004290/c...</td>\n",
       "      <td>Young</td>\n",
       "      <td>Male</td>\n",
       "      <td>Medium</td>\n",
       "      <td>[]</td>\n",
       "      <td>Benji</td>\n",
       "      <td>adopted</td>\n",
       "      <td>2015-12-30T01:22:04+0000</td>\n",
       "      <td>...</td>\n",
       "      <td>False</td>\n",
       "      <td>True</td>\n",
       "      <td>Los Angeles</td>\n",
       "      <td>CA</td>\n",
       "      <td>90013</td>\n",
       "      <td>18</td>\n",
       "      <td>0.220441</td>\n",
       "      <td>0.020775</td>\n",
       "      <td>12</td>\n",
       "      <td>2015</td>\n",
       "    </tr>\n",
       "    <tr>\n",
       "      <th>4</th>\n",
       "      <td>34079567</td>\n",
       "      <td>CA2395</td>\n",
       "      <td>https://www.petfinder.com/dog/diego-34079567/c...</td>\n",
       "      <td>Young</td>\n",
       "      <td>Male</td>\n",
       "      <td>Medium</td>\n",
       "      <td>[]</td>\n",
       "      <td>Diego</td>\n",
       "      <td>adopted</td>\n",
       "      <td>2015-12-30T01:21:59+0000</td>\n",
       "      <td>...</td>\n",
       "      <td>False</td>\n",
       "      <td>True</td>\n",
       "      <td>Los Angeles</td>\n",
       "      <td>CA</td>\n",
       "      <td>90013</td>\n",
       "      <td>8</td>\n",
       "      <td>0.094188</td>\n",
       "      <td>0.472910</td>\n",
       "      <td>12</td>\n",
       "      <td>2015</td>\n",
       "    </tr>\n",
       "    <tr>\n",
       "      <th>86</th>\n",
       "      <td>18769601</td>\n",
       "      <td>AZ181</td>\n",
       "      <td>https://www.petfinder.com/dog/bosco-in-ca-adop...</td>\n",
       "      <td>Adult</td>\n",
       "      <td>Male</td>\n",
       "      <td>Small</td>\n",
       "      <td>[]</td>\n",
       "      <td>Bosco in CA-ADOPTED 3/24/11</td>\n",
       "      <td>adopted</td>\n",
       "      <td>2011-03-25T08:01:26+0000</td>\n",
       "      <td>...</td>\n",
       "      <td>False</td>\n",
       "      <td>True</td>\n",
       "      <td>Los Angeles</td>\n",
       "      <td>CA</td>\n",
       "      <td>90012</td>\n",
       "      <td>26</td>\n",
       "      <td>0.002004</td>\n",
       "      <td>0.039151</td>\n",
       "      <td>3</td>\n",
       "      <td>2011</td>\n",
       "    </tr>\n",
       "    <tr>\n",
       "      <th>...</th>\n",
       "      <td>...</td>\n",
       "      <td>...</td>\n",
       "      <td>...</td>\n",
       "      <td>...</td>\n",
       "      <td>...</td>\n",
       "      <td>...</td>\n",
       "      <td>...</td>\n",
       "      <td>...</td>\n",
       "      <td>...</td>\n",
       "      <td>...</td>\n",
       "      <td>...</td>\n",
       "      <td>...</td>\n",
       "      <td>...</td>\n",
       "      <td>...</td>\n",
       "      <td>...</td>\n",
       "      <td>...</td>\n",
       "      <td>...</td>\n",
       "      <td>...</td>\n",
       "      <td>...</td>\n",
       "      <td>...</td>\n",
       "      <td>...</td>\n",
       "    </tr>\n",
       "    <tr>\n",
       "      <th>184136</th>\n",
       "      <td>24232755</td>\n",
       "      <td>TX734</td>\n",
       "      <td>https://www.petfinder.com/dog/little-beau-jang...</td>\n",
       "      <td>Young</td>\n",
       "      <td>Male</td>\n",
       "      <td>Small</td>\n",
       "      <td>[]</td>\n",
       "      <td>Little Beau Jangles</td>\n",
       "      <td>adopted</td>\n",
       "      <td>2012-12-09T22:28:13+0000</td>\n",
       "      <td>...</td>\n",
       "      <td>False</td>\n",
       "      <td>True</td>\n",
       "      <td>Houston</td>\n",
       "      <td>TX</td>\n",
       "      <td>77070</td>\n",
       "      <td>74</td>\n",
       "      <td>0.002004</td>\n",
       "      <td>0.390313</td>\n",
       "      <td>12</td>\n",
       "      <td>2012</td>\n",
       "    </tr>\n",
       "    <tr>\n",
       "      <th>184138</th>\n",
       "      <td>24232797</td>\n",
       "      <td>TX734</td>\n",
       "      <td>https://www.petfinder.com/dog/shadow-box-24232...</td>\n",
       "      <td>Young</td>\n",
       "      <td>Male</td>\n",
       "      <td>Small</td>\n",
       "      <td>[]</td>\n",
       "      <td>Shadow Box</td>\n",
       "      <td>adopted</td>\n",
       "      <td>2012-10-14T16:15:26+0000</td>\n",
       "      <td>...</td>\n",
       "      <td>False</td>\n",
       "      <td>True</td>\n",
       "      <td>Houston</td>\n",
       "      <td>TX</td>\n",
       "      <td>77070</td>\n",
       "      <td>17</td>\n",
       "      <td>0.002004</td>\n",
       "      <td>0.390313</td>\n",
       "      <td>10</td>\n",
       "      <td>2012</td>\n",
       "    </tr>\n",
       "    <tr>\n",
       "      <th>184140</th>\n",
       "      <td>24273469</td>\n",
       "      <td>TX734</td>\n",
       "      <td>https://www.petfinder.com/dog/celeste-24273469...</td>\n",
       "      <td>Young</td>\n",
       "      <td>Male</td>\n",
       "      <td>Small</td>\n",
       "      <td>[]</td>\n",
       "      <td>Celeste</td>\n",
       "      <td>adopted</td>\n",
       "      <td>2012-10-14T16:13:41+0000</td>\n",
       "      <td>...</td>\n",
       "      <td>False</td>\n",
       "      <td>True</td>\n",
       "      <td>Houston</td>\n",
       "      <td>TX</td>\n",
       "      <td>77070</td>\n",
       "      <td>12</td>\n",
       "      <td>0.040080</td>\n",
       "      <td>0.390313</td>\n",
       "      <td>10</td>\n",
       "      <td>2012</td>\n",
       "    </tr>\n",
       "    <tr>\n",
       "      <th>184143</th>\n",
       "      <td>24273504</td>\n",
       "      <td>TX734</td>\n",
       "      <td>https://www.petfinder.com/dog/slaten-24273504/...</td>\n",
       "      <td>Young</td>\n",
       "      <td>Male</td>\n",
       "      <td>Small</td>\n",
       "      <td>[]</td>\n",
       "      <td>Slaten</td>\n",
       "      <td>adopted</td>\n",
       "      <td>2012-10-24T21:43:31+0000</td>\n",
       "      <td>...</td>\n",
       "      <td>False</td>\n",
       "      <td>True</td>\n",
       "      <td>Houston</td>\n",
       "      <td>TX</td>\n",
       "      <td>77070</td>\n",
       "      <td>23</td>\n",
       "      <td>0.002004</td>\n",
       "      <td>0.390313</td>\n",
       "      <td>10</td>\n",
       "      <td>2012</td>\n",
       "    </tr>\n",
       "    <tr>\n",
       "      <th>184145</th>\n",
       "      <td>24273510</td>\n",
       "      <td>TX734</td>\n",
       "      <td>https://www.petfinder.com/dog/teddy-freddy-242...</td>\n",
       "      <td>Young</td>\n",
       "      <td>Male</td>\n",
       "      <td>Small</td>\n",
       "      <td>[]</td>\n",
       "      <td>Teddy Freddy</td>\n",
       "      <td>adopted</td>\n",
       "      <td>2012-11-24T20:49:56+0000</td>\n",
       "      <td>...</td>\n",
       "      <td>False</td>\n",
       "      <td>True</td>\n",
       "      <td>Houston</td>\n",
       "      <td>TX</td>\n",
       "      <td>77070</td>\n",
       "      <td>54</td>\n",
       "      <td>0.002004</td>\n",
       "      <td>0.390313</td>\n",
       "      <td>11</td>\n",
       "      <td>2012</td>\n",
       "    </tr>\n",
       "  </tbody>\n",
       "</table>\n",
       "<p>84499 rows × 27 columns</p>\n",
       "</div>"
      ],
      "text/plain": [
       "              id organization_id  \\\n",
       "0       33853923          CA2395   \n",
       "1       33853969          CA2395   \n",
       "2       34004290          CA2395   \n",
       "4       34079567          CA2395   \n",
       "86      18769601           AZ181   \n",
       "...          ...             ...   \n",
       "184136  24232755           TX734   \n",
       "184138  24232797           TX734   \n",
       "184140  24273469           TX734   \n",
       "184143  24273504           TX734   \n",
       "184145  24273510           TX734   \n",
       "\n",
       "                                                      url    age  gender  \\\n",
       "0       https://www.petfinder.com/dog/sunny-33853923/c...   Baby  Female   \n",
       "1       https://www.petfinder.com/dog/batman-33853969/...  Young    Male   \n",
       "2       https://www.petfinder.com/dog/benji-34004290/c...  Young    Male   \n",
       "4       https://www.petfinder.com/dog/diego-34079567/c...  Young    Male   \n",
       "86      https://www.petfinder.com/dog/bosco-in-ca-adop...  Adult    Male   \n",
       "...                                                   ...    ...     ...   \n",
       "184136  https://www.petfinder.com/dog/little-beau-jang...  Young    Male   \n",
       "184138  https://www.petfinder.com/dog/shadow-box-24232...  Young    Male   \n",
       "184140  https://www.petfinder.com/dog/celeste-24273469...  Young    Male   \n",
       "184143  https://www.petfinder.com/dog/slaten-24273504/...  Young    Male   \n",
       "184145  https://www.petfinder.com/dog/teddy-freddy-242...  Young    Male   \n",
       "\n",
       "          size tags                         name   status  \\\n",
       "0        Small   []                        Sunny  adopted   \n",
       "1        Small   []                       Batman  adopted   \n",
       "2       Medium   []                        Benji  adopted   \n",
       "4       Medium   []                        Diego  adopted   \n",
       "86       Small   []  Bosco in CA-ADOPTED 3/24/11  adopted   \n",
       "...        ...  ...                          ...      ...   \n",
       "184136   Small   []          Little Beau Jangles  adopted   \n",
       "184138   Small   []                   Shadow Box  adopted   \n",
       "184140   Small   []                      Celeste  adopted   \n",
       "184143   Small   []                       Slaten  adopted   \n",
       "184145   Small   []                 Teddy Freddy  adopted   \n",
       "\n",
       "               status_changed_at  ... attributes.special_needs  \\\n",
       "0       2015-12-11T20:50:51+0000  ...                    False   \n",
       "1       2015-12-21T22:23:16+0000  ...                    False   \n",
       "2       2015-12-30T01:22:04+0000  ...                    False   \n",
       "4       2015-12-30T01:21:59+0000  ...                    False   \n",
       "86      2011-03-25T08:01:26+0000  ...                    False   \n",
       "...                          ...  ...                      ...   \n",
       "184136  2012-12-09T22:28:13+0000  ...                    False   \n",
       "184138  2012-10-14T16:15:26+0000  ...                    False   \n",
       "184140  2012-10-14T16:13:41+0000  ...                    False   \n",
       "184143  2012-10-24T21:43:31+0000  ...                    False   \n",
       "184145  2012-11-24T20:49:56+0000  ...                    False   \n",
       "\n",
       "        attributes.shots_current contact.address.city  contact.address.state  \\\n",
       "0                           True          Los Angeles                     CA   \n",
       "1                           True          Los Angeles                     CA   \n",
       "2                           True          Los Angeles                     CA   \n",
       "4                           True          Los Angeles                     CA   \n",
       "86                          True          Los Angeles                     CA   \n",
       "...                          ...                  ...                    ...   \n",
       "184136                      True              Houston                     TX   \n",
       "184138                      True              Houston                     TX   \n",
       "184140                      True              Houston                     TX   \n",
       "184143                      True              Houston                     TX   \n",
       "184145                      True              Houston                     TX   \n",
       "\n",
       "        contact.address.postcode  adoption_time  norm_name_freq  \\\n",
       "0                          90013             19        0.208417   \n",
       "1                          90013             29        0.080160   \n",
       "2                          90013             18        0.220441   \n",
       "4                          90013              8        0.094188   \n",
       "86                         90012             26        0.002004   \n",
       "...                          ...            ...             ...   \n",
       "184136                     77070             74        0.002004   \n",
       "184138                     77070             17        0.002004   \n",
       "184140                     77070             12        0.040080   \n",
       "184143                     77070             23        0.002004   \n",
       "184145                     77070             54        0.002004   \n",
       "\n",
       "        norm_breed_freq  month  year  \n",
       "0              0.472910     12  2015  \n",
       "1              0.064979     12  2015  \n",
       "2              0.020775     12  2015  \n",
       "4              0.472910     12  2015  \n",
       "86             0.039151      3  2011  \n",
       "...                 ...    ...   ...  \n",
       "184136         0.390313     12  2012  \n",
       "184138         0.390313     10  2012  \n",
       "184140         0.390313     10  2012  \n",
       "184143         0.390313     10  2012  \n",
       "184145         0.390313     11  2012  \n",
       "\n",
       "[84499 rows x 27 columns]"
      ]
     },
     "execution_count": 154,
     "metadata": {},
     "output_type": "execute_result"
    }
   ],
   "source": [
    "months1 = [2,3]\n",
    "alldogs_nm[alldogs_nm['year'] < 2016]"
   ]
  },
  {
   "cell_type": "code",
   "execution_count": 234,
   "metadata": {},
   "outputs": [],
   "source": [
    "alldogs_nm_year = alldogs_nm[alldogs_nm['year'] >= 2016]"
   ]
  },
  {
   "cell_type": "code",
   "execution_count": 235,
   "metadata": {},
   "outputs": [],
   "source": [
    "alldogs_nm_year = alldogs_nm_year[alldogs_nm_year['year'] <= 2019]"
   ]
  },
  {
   "cell_type": "code",
   "execution_count": 236,
   "metadata": {},
   "outputs": [
    {
     "data": {
      "text/plain": [
       "68102"
      ]
     },
     "execution_count": 236,
     "metadata": {},
     "output_type": "execute_result"
    }
   ],
   "source": [
    "len(alldogs_nm_year)"
   ]
  },
  {
   "cell_type": "code",
   "execution_count": 237,
   "metadata": {},
   "outputs": [
    {
     "data": {
      "text/plain": [
       "Index(['id', 'organization_id', 'url', 'age', 'gender', 'size', 'tags', 'name',\n",
       "       'status', 'status_changed_at', 'published_at', 'distance',\n",
       "       'breeds.primary', 'breeds.mixed', 'breeds.unknown',\n",
       "       'attributes.spayed_neutered', 'attributes.house_trained',\n",
       "       'attributes.special_needs', 'attributes.shots_current',\n",
       "       'contact.address.city', 'contact.address.state',\n",
       "       'contact.address.postcode', 'adoption_time', 'norm_name_freq',\n",
       "       'norm_breed_freq', 'month', 'year', 'name_pop', 'breed_pop'],\n",
       "      dtype='object')"
      ]
     },
     "execution_count": 237,
     "metadata": {},
     "output_type": "execute_result"
    }
   ],
   "source": [
    "alldogs_nm_year.columns"
   ]
  },
  {
   "cell_type": "code",
   "execution_count": 238,
   "metadata": {},
   "outputs": [
    {
     "data": {
      "text/html": [
       "<div>\n",
       "<style scoped>\n",
       "    .dataframe tbody tr th:only-of-type {\n",
       "        vertical-align: middle;\n",
       "    }\n",
       "\n",
       "    .dataframe tbody tr th {\n",
       "        vertical-align: top;\n",
       "    }\n",
       "\n",
       "    .dataframe thead th {\n",
       "        text-align: right;\n",
       "    }\n",
       "</style>\n",
       "<table border=\"1\" class=\"dataframe\">\n",
       "  <thead>\n",
       "    <tr style=\"text-align: right;\">\n",
       "      <th></th>\n",
       "      <th>age</th>\n",
       "      <th>gender</th>\n",
       "      <th>size</th>\n",
       "      <th>breeds.primary</th>\n",
       "      <th>breeds.mixed</th>\n",
       "      <th>attributes.spayed_neutered</th>\n",
       "      <th>attributes.house_trained</th>\n",
       "      <th>attributes.special_needs</th>\n",
       "      <th>attributes.shots_current</th>\n",
       "      <th>contact.address.state</th>\n",
       "      <th>name_pop</th>\n",
       "      <th>breed_pop</th>\n",
       "      <th>month</th>\n",
       "    </tr>\n",
       "  </thead>\n",
       "  <tbody>\n",
       "    <tr>\n",
       "      <th>3</th>\n",
       "      <td>Adult</td>\n",
       "      <td>Female</td>\n",
       "      <td>Medium</td>\n",
       "      <td>Xoloitzcuintli / Mexican Hairless</td>\n",
       "      <td>False</td>\n",
       "      <td>True</td>\n",
       "      <td>False</td>\n",
       "      <td>False</td>\n",
       "      <td>True</td>\n",
       "      <td>CA</td>\n",
       "      <td>Medium</td>\n",
       "      <td>Low</td>\n",
       "      <td>2</td>\n",
       "    </tr>\n",
       "    <tr>\n",
       "      <th>5</th>\n",
       "      <td>Adult</td>\n",
       "      <td>Female</td>\n",
       "      <td>Small</td>\n",
       "      <td>Maltese</td>\n",
       "      <td>False</td>\n",
       "      <td>True</td>\n",
       "      <td>False</td>\n",
       "      <td>False</td>\n",
       "      <td>True</td>\n",
       "      <td>CA</td>\n",
       "      <td>High</td>\n",
       "      <td>Medium</td>\n",
       "      <td>1</td>\n",
       "    </tr>\n",
       "    <tr>\n",
       "      <th>6</th>\n",
       "      <td>Young</td>\n",
       "      <td>Female</td>\n",
       "      <td>Small</td>\n",
       "      <td>Beagle</td>\n",
       "      <td>True</td>\n",
       "      <td>False</td>\n",
       "      <td>False</td>\n",
       "      <td>False</td>\n",
       "      <td>False</td>\n",
       "      <td>CA</td>\n",
       "      <td>Low</td>\n",
       "      <td>Medium</td>\n",
       "      <td>2</td>\n",
       "    </tr>\n",
       "    <tr>\n",
       "      <th>7</th>\n",
       "      <td>Young</td>\n",
       "      <td>Male</td>\n",
       "      <td>Small</td>\n",
       "      <td>Terrier</td>\n",
       "      <td>True</td>\n",
       "      <td>True</td>\n",
       "      <td>False</td>\n",
       "      <td>False</td>\n",
       "      <td>True</td>\n",
       "      <td>CA</td>\n",
       "      <td>Medium</td>\n",
       "      <td>High</td>\n",
       "      <td>2</td>\n",
       "    </tr>\n",
       "    <tr>\n",
       "      <th>8</th>\n",
       "      <td>Young</td>\n",
       "      <td>Male</td>\n",
       "      <td>Small</td>\n",
       "      <td>Fox Terrier</td>\n",
       "      <td>True</td>\n",
       "      <td>True</td>\n",
       "      <td>False</td>\n",
       "      <td>False</td>\n",
       "      <td>True</td>\n",
       "      <td>CA</td>\n",
       "      <td>Medium</td>\n",
       "      <td>Low</td>\n",
       "      <td>3</td>\n",
       "    </tr>\n",
       "  </tbody>\n",
       "</table>\n",
       "</div>"
      ],
      "text/plain": [
       "     age  gender    size                     breeds.primary  breeds.mixed  \\\n",
       "3  Adult  Female  Medium  Xoloitzcuintli / Mexican Hairless         False   \n",
       "5  Adult  Female   Small                            Maltese         False   \n",
       "6  Young  Female   Small                             Beagle          True   \n",
       "7  Young    Male   Small                            Terrier          True   \n",
       "8  Young    Male   Small                        Fox Terrier          True   \n",
       "\n",
       "   attributes.spayed_neutered  attributes.house_trained  \\\n",
       "3                        True                     False   \n",
       "5                        True                     False   \n",
       "6                       False                     False   \n",
       "7                        True                     False   \n",
       "8                        True                     False   \n",
       "\n",
       "   attributes.special_needs  attributes.shots_current contact.address.state  \\\n",
       "3                     False                      True                    CA   \n",
       "5                     False                      True                    CA   \n",
       "6                     False                     False                    CA   \n",
       "7                     False                      True                    CA   \n",
       "8                     False                      True                    CA   \n",
       "\n",
       "  name_pop breed_pop  month  \n",
       "3   Medium       Low      2  \n",
       "5     High    Medium      1  \n",
       "6      Low    Medium      2  \n",
       "7   Medium      High      2  \n",
       "8   Medium       Low      3  "
      ]
     },
     "execution_count": 238,
     "metadata": {},
     "output_type": "execute_result"
    }
   ],
   "source": [
    "X_features = ['age', 'gender', 'size', 'breeds.primary',\n",
    "              'breeds.mixed', 'attributes.spayed_neutered', 'attributes.house_trained',\n",
    "              'attributes.special_needs', 'attributes.shots_current', 'contact.address.state', \n",
    "              'name_pop', 'breed_pop', 'month']\n",
    "X = alldogs_nm_year[X_features]\n",
    "X.head()"
   ]
  },
  {
   "cell_type": "code",
   "execution_count": 21,
   "metadata": {},
   "outputs": [
    {
     "data": {
      "text/plain": [
       "Young     55488\n",
       "Baby      51911\n",
       "Adult     40256\n",
       "Senior     3829\n",
       "Name: age, dtype: int64"
      ]
     },
     "execution_count": 21,
     "metadata": {},
     "output_type": "execute_result"
    }
   ],
   "source": [
    "X['age'].value_counts()"
   ]
  },
  {
   "cell_type": "code",
   "execution_count": 22,
   "metadata": {},
   "outputs": [
    {
     "data": {
      "text/plain": [
       "Male      76377\n",
       "Female    75107\n",
       "Name: gender, dtype: int64"
      ]
     },
     "execution_count": 22,
     "metadata": {},
     "output_type": "execute_result"
    }
   ],
   "source": [
    "X['gender'].value_counts()"
   ]
  },
  {
   "cell_type": "code",
   "execution_count": 23,
   "metadata": {},
   "outputs": [
    {
     "data": {
      "text/plain": [
       "Medium         60828\n",
       "Small          58982\n",
       "Large          29530\n",
       "Extra Large     2144\n",
       "Name: size, dtype: int64"
      ]
     },
     "execution_count": 23,
     "metadata": {},
     "output_type": "execute_result"
    }
   ],
   "source": [
    "X['size'].value_counts()"
   ]
  },
  {
   "cell_type": "code",
   "execution_count": 24,
   "metadata": {},
   "outputs": [
    {
     "data": {
      "text/plain": [
       "NY    40526\n",
       "TX    38231\n",
       "MN    36721\n",
       "CA    36006\n",
       "Name: contact.address.state, dtype: int64"
      ]
     },
     "execution_count": 24,
     "metadata": {},
     "output_type": "execute_result"
    }
   ],
   "source": [
    "X['contact.address.state'].value_counts()"
   ]
  },
  {
   "cell_type": "code",
   "execution_count": 78,
   "metadata": {},
   "outputs": [
    {
     "data": {
      "text/plain": [
       "Bella          499\n",
       "Max            441\n",
       "Lucy           438\n",
       "Daisy          436\n",
       "Buddy          416\n",
       "Charlie        394\n",
       "Jack           337\n",
       "Molly          335\n",
       "Lola           312\n",
       "Bear           280\n",
       "Bailey         276\n",
       "Ginger         274\n",
       "Rocky          262\n",
       "Penny          258\n",
       "Toby           252\n",
       "Maggie         252\n",
       "Luna           246\n",
       "Sadie          243\n",
       "Coco           242\n",
       "Rosie          238\n",
       "Lady           237\n",
       "Sophie         233\n",
       "Duke           230\n",
       "Lucky          216\n",
       "Lily           214\n",
       "Teddy          210\n",
       "Ruby           207\n",
       "Stella         205\n",
       "Cooper         203\n",
       "Princess       202\n",
       "              ... \n",
       "Cheerio         11\n",
       "SKY             11\n",
       "FOXY            11\n",
       "ELLA            11\n",
       "Val             11\n",
       "Carrot          11\n",
       "Jess            11\n",
       "Davis           11\n",
       "Cherub          11\n",
       "Jeter           11\n",
       "Pinkie          11\n",
       "ROMEO           11\n",
       "Kimmie          11\n",
       "Little Bear     11\n",
       "OREO            11\n",
       "Jazmine         11\n",
       "Cadence         11\n",
       "Alana           11\n",
       "Monet           11\n",
       "Barnie          11\n",
       "Suzie Q         11\n",
       "Muneca          11\n",
       "Rock            11\n",
       "Jayden          11\n",
       "Dodge           11\n",
       "Cory            11\n",
       "Clinton         11\n",
       "Dempsey         11\n",
       "Elmo            11\n",
       "Rhea            11\n",
       "Name: name, Length: 2234, dtype: int64"
      ]
     },
     "execution_count": 78,
     "metadata": {},
     "output_type": "execute_result"
    }
   ],
   "source": [
    "test = alldogs_merged['name'].value_counts()\n",
    "test[test>10]"
   ]
  },
  {
   "cell_type": "code",
   "execution_count": 79,
   "metadata": {},
   "outputs": [],
   "source": [
    "test.to_csv('names.csv', header=False, index=True)"
   ]
  },
  {
   "cell_type": "code",
   "execution_count": 162,
   "metadata": {},
   "outputs": [
    {
     "data": {
      "text/html": [
       "<div>\n",
       "<style scoped>\n",
       "    .dataframe tbody tr th:only-of-type {\n",
       "        vertical-align: middle;\n",
       "    }\n",
       "\n",
       "    .dataframe tbody tr th {\n",
       "        vertical-align: top;\n",
       "    }\n",
       "\n",
       "    .dataframe thead th {\n",
       "        text-align: right;\n",
       "    }\n",
       "</style>\n",
       "<table border=\"1\" class=\"dataframe\">\n",
       "  <thead>\n",
       "    <tr style=\"text-align: right;\">\n",
       "      <th></th>\n",
       "      <th>age</th>\n",
       "      <th>gender</th>\n",
       "      <th>size</th>\n",
       "      <th>breeds.mixed</th>\n",
       "      <th>attributes.spayed_neutered</th>\n",
       "      <th>attributes.house_trained</th>\n",
       "      <th>attributes.special_needs</th>\n",
       "      <th>attributes.shots_current</th>\n",
       "      <th>contact.address.state</th>\n",
       "      <th>norm_name_freq</th>\n",
       "      <th>norm_breed_freq</th>\n",
       "      <th>month</th>\n",
       "    </tr>\n",
       "  </thead>\n",
       "  <tbody>\n",
       "    <tr>\n",
       "      <th>3</th>\n",
       "      <td>Adult</td>\n",
       "      <td>Female</td>\n",
       "      <td>Medium</td>\n",
       "      <td>False</td>\n",
       "      <td>True</td>\n",
       "      <td>False</td>\n",
       "      <td>False</td>\n",
       "      <td>True</td>\n",
       "      <td>CA</td>\n",
       "      <td>0.018036</td>\n",
       "      <td>0.001010</td>\n",
       "      <td>2</td>\n",
       "    </tr>\n",
       "    <tr>\n",
       "      <th>5</th>\n",
       "      <td>Adult</td>\n",
       "      <td>Female</td>\n",
       "      <td>Small</td>\n",
       "      <td>False</td>\n",
       "      <td>True</td>\n",
       "      <td>False</td>\n",
       "      <td>False</td>\n",
       "      <td>True</td>\n",
       "      <td>CA</td>\n",
       "      <td>0.202405</td>\n",
       "      <td>0.166709</td>\n",
       "      <td>1</td>\n",
       "    </tr>\n",
       "    <tr>\n",
       "      <th>6</th>\n",
       "      <td>Young</td>\n",
       "      <td>Female</td>\n",
       "      <td>Small</td>\n",
       "      <td>True</td>\n",
       "      <td>False</td>\n",
       "      <td>False</td>\n",
       "      <td>False</td>\n",
       "      <td>False</td>\n",
       "      <td>CA</td>\n",
       "      <td>0.004008</td>\n",
       "      <td>0.230551</td>\n",
       "      <td>2</td>\n",
       "    </tr>\n",
       "    <tr>\n",
       "      <th>7</th>\n",
       "      <td>Young</td>\n",
       "      <td>Male</td>\n",
       "      <td>Small</td>\n",
       "      <td>True</td>\n",
       "      <td>True</td>\n",
       "      <td>False</td>\n",
       "      <td>False</td>\n",
       "      <td>True</td>\n",
       "      <td>CA</td>\n",
       "      <td>0.058116</td>\n",
       "      <td>0.472910</td>\n",
       "      <td>2</td>\n",
       "    </tr>\n",
       "    <tr>\n",
       "      <th>8</th>\n",
       "      <td>Young</td>\n",
       "      <td>Male</td>\n",
       "      <td>Small</td>\n",
       "      <td>True</td>\n",
       "      <td>True</td>\n",
       "      <td>False</td>\n",
       "      <td>False</td>\n",
       "      <td>True</td>\n",
       "      <td>CA</td>\n",
       "      <td>0.010020</td>\n",
       "      <td>0.009283</td>\n",
       "      <td>3</td>\n",
       "    </tr>\n",
       "  </tbody>\n",
       "</table>\n",
       "</div>"
      ],
      "text/plain": [
       "     age  gender    size  breeds.mixed  attributes.spayed_neutered  \\\n",
       "3  Adult  Female  Medium         False                        True   \n",
       "5  Adult  Female   Small         False                        True   \n",
       "6  Young  Female   Small          True                       False   \n",
       "7  Young    Male   Small          True                        True   \n",
       "8  Young    Male   Small          True                        True   \n",
       "\n",
       "   attributes.house_trained  attributes.special_needs  \\\n",
       "3                     False                     False   \n",
       "5                     False                     False   \n",
       "6                     False                     False   \n",
       "7                     False                     False   \n",
       "8                     False                     False   \n",
       "\n",
       "   attributes.shots_current contact.address.state  norm_name_freq  \\\n",
       "3                      True                    CA        0.018036   \n",
       "5                      True                    CA        0.202405   \n",
       "6                     False                    CA        0.004008   \n",
       "7                      True                    CA        0.058116   \n",
       "8                      True                    CA        0.010020   \n",
       "\n",
       "   norm_breed_freq  month  \n",
       "3         0.001010      2  \n",
       "5         0.166709      1  \n",
       "6         0.230551      2  \n",
       "7         0.472910      2  \n",
       "8         0.009283      3  "
      ]
     },
     "execution_count": 162,
     "metadata": {},
     "output_type": "execute_result"
    }
   ],
   "source": [
    "X.head()"
   ]
  },
  {
   "cell_type": "code",
   "execution_count": 239,
   "metadata": {},
   "outputs": [],
   "source": [
    "y = alldogs_nm_year['adoption_time']"
   ]
  },
  {
   "cell_type": "code",
   "execution_count": 240,
   "metadata": {},
   "outputs": [
    {
     "data": {
      "text/plain": [
       "68102"
      ]
     },
     "execution_count": 240,
     "metadata": {},
     "output_type": "execute_result"
    }
   ],
   "source": [
    "len(X)"
   ]
  },
  {
   "cell_type": "code",
   "execution_count": 241,
   "metadata": {},
   "outputs": [],
   "source": [
    "cat_col = ['age','gender','size','contact.address.state', 'month']"
   ]
  },
  {
   "cell_type": "code",
   "execution_count": 242,
   "metadata": {},
   "outputs": [
    {
     "name": "stderr",
     "output_type": "stream",
     "text": [
      "C:\\anaconda_python\\envs\\Insight\\lib\\site-packages\\pandas\\core\\frame.py:3509: SettingWithCopyWarning: \n",
      "A value is trying to be set on a copy of a slice from a DataFrame.\n",
      "Try using .loc[row_indexer,col_indexer] = value instead\n",
      "\n",
      "See the caveats in the documentation: http://pandas.pydata.org/pandas-docs/stable/user_guide/indexing.html#returning-a-view-versus-a-copy\n",
      "  self[k1] = value[k2]\n"
     ]
    }
   ],
   "source": [
    "X[cat_col]=X[cat_col].astype('category')"
   ]
  },
  {
   "cell_type": "code",
   "execution_count": 243,
   "metadata": {},
   "outputs": [
    {
     "data": {
      "text/html": [
       "<div>\n",
       "<style scoped>\n",
       "    .dataframe tbody tr th:only-of-type {\n",
       "        vertical-align: middle;\n",
       "    }\n",
       "\n",
       "    .dataframe tbody tr th {\n",
       "        vertical-align: top;\n",
       "    }\n",
       "\n",
       "    .dataframe thead th {\n",
       "        text-align: right;\n",
       "    }\n",
       "</style>\n",
       "<table border=\"1\" class=\"dataframe\">\n",
       "  <thead>\n",
       "    <tr style=\"text-align: right;\">\n",
       "      <th></th>\n",
       "      <th>age</th>\n",
       "      <th>gender</th>\n",
       "      <th>size</th>\n",
       "      <th>breeds.primary</th>\n",
       "      <th>breeds.mixed</th>\n",
       "      <th>attributes.spayed_neutered</th>\n",
       "      <th>attributes.house_trained</th>\n",
       "      <th>attributes.special_needs</th>\n",
       "      <th>attributes.shots_current</th>\n",
       "      <th>contact.address.state</th>\n",
       "      <th>name_pop</th>\n",
       "      <th>breed_pop</th>\n",
       "      <th>month</th>\n",
       "      <th>adoption_time</th>\n",
       "    </tr>\n",
       "  </thead>\n",
       "  <tbody>\n",
       "    <tr>\n",
       "      <th>3</th>\n",
       "      <td>Adult</td>\n",
       "      <td>Female</td>\n",
       "      <td>Medium</td>\n",
       "      <td>Xoloitzcuintli / Mexican Hairless</td>\n",
       "      <td>False</td>\n",
       "      <td>True</td>\n",
       "      <td>False</td>\n",
       "      <td>False</td>\n",
       "      <td>True</td>\n",
       "      <td>CA</td>\n",
       "      <td>Medium</td>\n",
       "      <td>Low</td>\n",
       "      <td>2</td>\n",
       "      <td>57</td>\n",
       "    </tr>\n",
       "    <tr>\n",
       "      <th>5</th>\n",
       "      <td>Adult</td>\n",
       "      <td>Female</td>\n",
       "      <td>Small</td>\n",
       "      <td>Maltese</td>\n",
       "      <td>False</td>\n",
       "      <td>True</td>\n",
       "      <td>False</td>\n",
       "      <td>False</td>\n",
       "      <td>True</td>\n",
       "      <td>CA</td>\n",
       "      <td>High</td>\n",
       "      <td>Medium</td>\n",
       "      <td>1</td>\n",
       "      <td>33</td>\n",
       "    </tr>\n",
       "    <tr>\n",
       "      <th>6</th>\n",
       "      <td>Young</td>\n",
       "      <td>Female</td>\n",
       "      <td>Small</td>\n",
       "      <td>Beagle</td>\n",
       "      <td>True</td>\n",
       "      <td>False</td>\n",
       "      <td>False</td>\n",
       "      <td>False</td>\n",
       "      <td>False</td>\n",
       "      <td>CA</td>\n",
       "      <td>Low</td>\n",
       "      <td>Medium</td>\n",
       "      <td>2</td>\n",
       "      <td>13</td>\n",
       "    </tr>\n",
       "    <tr>\n",
       "      <th>7</th>\n",
       "      <td>Young</td>\n",
       "      <td>Male</td>\n",
       "      <td>Small</td>\n",
       "      <td>Terrier</td>\n",
       "      <td>True</td>\n",
       "      <td>True</td>\n",
       "      <td>False</td>\n",
       "      <td>False</td>\n",
       "      <td>True</td>\n",
       "      <td>CA</td>\n",
       "      <td>Medium</td>\n",
       "      <td>High</td>\n",
       "      <td>2</td>\n",
       "      <td>14</td>\n",
       "    </tr>\n",
       "    <tr>\n",
       "      <th>8</th>\n",
       "      <td>Young</td>\n",
       "      <td>Male</td>\n",
       "      <td>Small</td>\n",
       "      <td>Fox Terrier</td>\n",
       "      <td>True</td>\n",
       "      <td>True</td>\n",
       "      <td>False</td>\n",
       "      <td>False</td>\n",
       "      <td>True</td>\n",
       "      <td>CA</td>\n",
       "      <td>Medium</td>\n",
       "      <td>Low</td>\n",
       "      <td>3</td>\n",
       "      <td>32</td>\n",
       "    </tr>\n",
       "  </tbody>\n",
       "</table>\n",
       "</div>"
      ],
      "text/plain": [
       "     age  gender    size                     breeds.primary  breeds.mixed  \\\n",
       "3  Adult  Female  Medium  Xoloitzcuintli / Mexican Hairless         False   \n",
       "5  Adult  Female   Small                            Maltese         False   \n",
       "6  Young  Female   Small                             Beagle          True   \n",
       "7  Young    Male   Small                            Terrier          True   \n",
       "8  Young    Male   Small                        Fox Terrier          True   \n",
       "\n",
       "   attributes.spayed_neutered  attributes.house_trained  \\\n",
       "3                        True                     False   \n",
       "5                        True                     False   \n",
       "6                       False                     False   \n",
       "7                        True                     False   \n",
       "8                        True                     False   \n",
       "\n",
       "   attributes.special_needs  attributes.shots_current contact.address.state  \\\n",
       "3                     False                      True                    CA   \n",
       "5                     False                      True                    CA   \n",
       "6                     False                     False                    CA   \n",
       "7                     False                      True                    CA   \n",
       "8                     False                      True                    CA   \n",
       "\n",
       "  name_pop breed_pop month  adoption_time  \n",
       "3   Medium       Low     2             57  \n",
       "5     High    Medium     1             33  \n",
       "6      Low    Medium     2             13  \n",
       "7   Medium      High     2             14  \n",
       "8   Medium       Low     3             32  "
      ]
     },
     "execution_count": 243,
     "metadata": {},
     "output_type": "execute_result"
    }
   ],
   "source": [
    "total = pd.concat([X,y], axis=1)\n",
    "total.head()"
   ]
  },
  {
   "cell_type": "code",
   "execution_count": 167,
   "metadata": {},
   "outputs": [
    {
     "data": {
      "text/plain": [
       "68102"
      ]
     },
     "execution_count": 167,
     "metadata": {},
     "output_type": "execute_result"
    }
   ],
   "source": [
    "len(total)"
   ]
  },
  {
   "cell_type": "code",
   "execution_count": 168,
   "metadata": {},
   "outputs": [
    {
     "data": {
      "image/png": "[encoded data removed]",
      "text/plain": [
       "<Figure size 432x288 with 1 Axes>"
      ]
     },
     "metadata": {
      "needs_background": "light"
     },
     "output_type": "display_data"
    }
   ],
   "source": [
    "nameplot = sns.scatterplot(x='norm_name_freq', y='adoption_time', data=total)"
   ]
  },
  {
   "cell_type": "code",
   "execution_count": 256,
   "metadata": {},
   "outputs": [
    {
     "data": {
      "text/html": [
       "<div>\n",
       "<style scoped>\n",
       "    .dataframe tbody tr th:only-of-type {\n",
       "        vertical-align: middle;\n",
       "    }\n",
       "\n",
       "    .dataframe tbody tr th {\n",
       "        vertical-align: top;\n",
       "    }\n",
       "\n",
       "    .dataframe thead th {\n",
       "        text-align: right;\n",
       "    }\n",
       "</style>\n",
       "<table border=\"1\" class=\"dataframe\">\n",
       "  <thead>\n",
       "    <tr style=\"text-align: right;\">\n",
       "      <th></th>\n",
       "      <th>age</th>\n",
       "      <th>gender</th>\n",
       "      <th>size</th>\n",
       "      <th>breeds.primary</th>\n",
       "      <th>breeds.mixed</th>\n",
       "      <th>attributes.spayed_neutered</th>\n",
       "      <th>attributes.house_trained</th>\n",
       "      <th>attributes.special_needs</th>\n",
       "      <th>attributes.shots_current</th>\n",
       "      <th>contact.address.state</th>\n",
       "      <th>name_pop</th>\n",
       "      <th>breed_pop</th>\n",
       "      <th>month</th>\n",
       "      <th>adoption_time</th>\n",
       "      <th>mod_adpt_time</th>\n",
       "    </tr>\n",
       "  </thead>\n",
       "  <tbody>\n",
       "    <tr>\n",
       "      <th>282</th>\n",
       "      <td>Senior</td>\n",
       "      <td>Male</td>\n",
       "      <td>Small</td>\n",
       "      <td>Shih Tzu</td>\n",
       "      <td>True</td>\n",
       "      <td>True</td>\n",
       "      <td>True</td>\n",
       "      <td>False</td>\n",
       "      <td>True</td>\n",
       "      <td>CA</td>\n",
       "      <td>Low</td>\n",
       "      <td>Medium</td>\n",
       "      <td>3</td>\n",
       "      <td>27</td>\n",
       "      <td>2.012347</td>\n",
       "    </tr>\n",
       "    <tr>\n",
       "      <th>405</th>\n",
       "      <td>Senior</td>\n",
       "      <td>Female</td>\n",
       "      <td>Small</td>\n",
       "      <td>German Spitz</td>\n",
       "      <td>True</td>\n",
       "      <td>True</td>\n",
       "      <td>True</td>\n",
       "      <td>False</td>\n",
       "      <td>True</td>\n",
       "      <td>CA</td>\n",
       "      <td>Medium</td>\n",
       "      <td>Low</td>\n",
       "      <td>4</td>\n",
       "      <td>21</td>\n",
       "      <td>1.933182</td>\n",
       "    </tr>\n",
       "    <tr>\n",
       "      <th>702</th>\n",
       "      <td>Senior</td>\n",
       "      <td>Female</td>\n",
       "      <td>Medium</td>\n",
       "      <td>Labrador Retriever</td>\n",
       "      <td>True</td>\n",
       "      <td>True</td>\n",
       "      <td>True</td>\n",
       "      <td>False</td>\n",
       "      <td>True</td>\n",
       "      <td>CA</td>\n",
       "      <td>Medium</td>\n",
       "      <td>High</td>\n",
       "      <td>1</td>\n",
       "      <td>54</td>\n",
       "      <td>2.267933</td>\n",
       "    </tr>\n",
       "    <tr>\n",
       "      <th>713</th>\n",
       "      <td>Senior</td>\n",
       "      <td>Male</td>\n",
       "      <td>Large</td>\n",
       "      <td>German Shepherd Dog</td>\n",
       "      <td>True</td>\n",
       "      <td>True</td>\n",
       "      <td>False</td>\n",
       "      <td>True</td>\n",
       "      <td>False</td>\n",
       "      <td>CA</td>\n",
       "      <td>Low</td>\n",
       "      <td>High</td>\n",
       "      <td>11</td>\n",
       "      <td>128</td>\n",
       "      <td>2.663305</td>\n",
       "    </tr>\n",
       "    <tr>\n",
       "      <th>800</th>\n",
       "      <td>Senior</td>\n",
       "      <td>Male</td>\n",
       "      <td>Small</td>\n",
       "      <td>Chihuahua</td>\n",
       "      <td>False</td>\n",
       "      <td>False</td>\n",
       "      <td>True</td>\n",
       "      <td>False</td>\n",
       "      <td>False</td>\n",
       "      <td>CA</td>\n",
       "      <td>Medium</td>\n",
       "      <td>High</td>\n",
       "      <td>6</td>\n",
       "      <td>16</td>\n",
       "      <td>1.855601</td>\n",
       "    </tr>\n",
       "    <tr>\n",
       "      <th>...</th>\n",
       "      <td>...</td>\n",
       "      <td>...</td>\n",
       "      <td>...</td>\n",
       "      <td>...</td>\n",
       "      <td>...</td>\n",
       "      <td>...</td>\n",
       "      <td>...</td>\n",
       "      <td>...</td>\n",
       "      <td>...</td>\n",
       "      <td>...</td>\n",
       "      <td>...</td>\n",
       "      <td>...</td>\n",
       "      <td>...</td>\n",
       "      <td>...</td>\n",
       "      <td>...</td>\n",
       "    </tr>\n",
       "    <tr>\n",
       "      <th>184086</th>\n",
       "      <td>Senior</td>\n",
       "      <td>Female</td>\n",
       "      <td>Small</td>\n",
       "      <td>Cockapoo</td>\n",
       "      <td>True</td>\n",
       "      <td>True</td>\n",
       "      <td>False</td>\n",
       "      <td>False</td>\n",
       "      <td>True</td>\n",
       "      <td>TX</td>\n",
       "      <td>Low</td>\n",
       "      <td>Low</td>\n",
       "      <td>10</td>\n",
       "      <td>25</td>\n",
       "      <td>1.987341</td>\n",
       "    </tr>\n",
       "    <tr>\n",
       "      <th>184089</th>\n",
       "      <td>Senior</td>\n",
       "      <td>Female</td>\n",
       "      <td>Small</td>\n",
       "      <td>Poodle</td>\n",
       "      <td>False</td>\n",
       "      <td>True</td>\n",
       "      <td>False</td>\n",
       "      <td>False</td>\n",
       "      <td>True</td>\n",
       "      <td>TX</td>\n",
       "      <td>Medium</td>\n",
       "      <td>Medium</td>\n",
       "      <td>9</td>\n",
       "      <td>17</td>\n",
       "      <td>1.872171</td>\n",
       "    </tr>\n",
       "    <tr>\n",
       "      <th>184153</th>\n",
       "      <td>Senior</td>\n",
       "      <td>Male</td>\n",
       "      <td>Medium</td>\n",
       "      <td>Poodle</td>\n",
       "      <td>False</td>\n",
       "      <td>True</td>\n",
       "      <td>False</td>\n",
       "      <td>False</td>\n",
       "      <td>True</td>\n",
       "      <td>TX</td>\n",
       "      <td>Medium</td>\n",
       "      <td>Medium</td>\n",
       "      <td>1</td>\n",
       "      <td>0</td>\n",
       "      <td>1.430969</td>\n",
       "    </tr>\n",
       "    <tr>\n",
       "      <th>184257</th>\n",
       "      <td>Senior</td>\n",
       "      <td>Female</td>\n",
       "      <td>Small</td>\n",
       "      <td>Poodle</td>\n",
       "      <td>False</td>\n",
       "      <td>True</td>\n",
       "      <td>False</td>\n",
       "      <td>False</td>\n",
       "      <td>True</td>\n",
       "      <td>TX</td>\n",
       "      <td>Medium</td>\n",
       "      <td>Medium</td>\n",
       "      <td>5</td>\n",
       "      <td>1</td>\n",
       "      <td>1.475773</td>\n",
       "    </tr>\n",
       "    <tr>\n",
       "      <th>184340</th>\n",
       "      <td>Senior</td>\n",
       "      <td>Female</td>\n",
       "      <td>Small</td>\n",
       "      <td>Poodle</td>\n",
       "      <td>False</td>\n",
       "      <td>True</td>\n",
       "      <td>False</td>\n",
       "      <td>False</td>\n",
       "      <td>True</td>\n",
       "      <td>TX</td>\n",
       "      <td>High</td>\n",
       "      <td>Medium</td>\n",
       "      <td>9</td>\n",
       "      <td>2</td>\n",
       "      <td>1.515717</td>\n",
       "    </tr>\n",
       "  </tbody>\n",
       "</table>\n",
       "<p>2340 rows × 15 columns</p>\n",
       "</div>"
      ],
      "text/plain": [
       "           age  gender    size       breeds.primary  breeds.mixed  \\\n",
       "282     Senior    Male   Small             Shih Tzu          True   \n",
       "405     Senior  Female   Small         German Spitz          True   \n",
       "702     Senior  Female  Medium   Labrador Retriever          True   \n",
       "713     Senior    Male   Large  German Shepherd Dog          True   \n",
       "800     Senior    Male   Small            Chihuahua         False   \n",
       "...        ...     ...     ...                  ...           ...   \n",
       "184086  Senior  Female   Small             Cockapoo          True   \n",
       "184089  Senior  Female   Small               Poodle         False   \n",
       "184153  Senior    Male  Medium               Poodle         False   \n",
       "184257  Senior  Female   Small               Poodle         False   \n",
       "184340  Senior  Female   Small               Poodle         False   \n",
       "\n",
       "        attributes.spayed_neutered  attributes.house_trained  \\\n",
       "282                           True                      True   \n",
       "405                           True                      True   \n",
       "702                           True                      True   \n",
       "713                           True                     False   \n",
       "800                          False                      True   \n",
       "...                            ...                       ...   \n",
       "184086                        True                     False   \n",
       "184089                        True                     False   \n",
       "184153                        True                     False   \n",
       "184257                        True                     False   \n",
       "184340                        True                     False   \n",
       "\n",
       "        attributes.special_needs  attributes.shots_current  \\\n",
       "282                        False                      True   \n",
       "405                        False                      True   \n",
       "702                        False                      True   \n",
       "713                         True                     False   \n",
       "800                        False                     False   \n",
       "...                          ...                       ...   \n",
       "184086                     False                      True   \n",
       "184089                     False                      True   \n",
       "184153                     False                      True   \n",
       "184257                     False                      True   \n",
       "184340                     False                      True   \n",
       "\n",
       "       contact.address.state name_pop breed_pop month  adoption_time  \\\n",
       "282                       CA      Low    Medium     3             27   \n",
       "405                       CA   Medium       Low     4             21   \n",
       "702                       CA   Medium      High     1             54   \n",
       "713                       CA      Low      High    11            128   \n",
       "800                       CA   Medium      High     6             16   \n",
       "...                      ...      ...       ...   ...            ...   \n",
       "184086                    TX      Low       Low    10             25   \n",
       "184089                    TX   Medium    Medium     9             17   \n",
       "184153                    TX   Medium    Medium     1              0   \n",
       "184257                    TX   Medium    Medium     5              1   \n",
       "184340                    TX     High    Medium     9              2   \n",
       "\n",
       "        mod_adpt_time  \n",
       "282          2.012347  \n",
       "405          1.933182  \n",
       "702          2.267933  \n",
       "713          2.663305  \n",
       "800          1.855601  \n",
       "...               ...  \n",
       "184086       1.987341  \n",
       "184089       1.872171  \n",
       "184153       1.430969  \n",
       "184257       1.475773  \n",
       "184340       1.515717  \n",
       "\n",
       "[2340 rows x 15 columns]"
      ]
     },
     "execution_count": 256,
     "metadata": {},
     "output_type": "execute_result"
    }
   ],
   "source": [
    "total[total['age']=='Senior']"
   ]
  },
  {
   "cell_type": "code",
   "execution_count": 255,
   "metadata": {},
   "outputs": [
    {
     "ename": "ValueError",
     "evalue": "Could not interpret input 'norm_name_freq'",
     "output_type": "error",
     "traceback": [
      "\u001b[1;31m---------------------------------------------------------------------------\u001b[0m",
      "\u001b[1;31mValueError\u001b[0m                                Traceback (most recent call last)",
      "\u001b[1;32m<ipython-input-255-3bc011033bf6>\u001b[0m in \u001b[0;36m<module>\u001b[1;34m\u001b[0m\n\u001b[1;32m----> 1\u001b[1;33m \u001b[0mnameplot\u001b[0m \u001b[1;33m=\u001b[0m \u001b[0msns\u001b[0m\u001b[1;33m.\u001b[0m\u001b[0mscatterplot\u001b[0m\u001b[1;33m(\u001b[0m\u001b[0mx\u001b[0m\u001b[1;33m=\u001b[0m\u001b[1;34m'norm_name_freq'\u001b[0m\u001b[1;33m,\u001b[0m \u001b[0my\u001b[0m\u001b[1;33m=\u001b[0m\u001b[1;34m'adoption_time'\u001b[0m\u001b[1;33m,\u001b[0m \u001b[0mdata\u001b[0m\u001b[1;33m=\u001b[0m\u001b[0mtotal\u001b[0m\u001b[1;33m[\u001b[0m\u001b[0mtotal\u001b[0m\u001b[1;33m[\u001b[0m\u001b[1;34m'age'\u001b[0m\u001b[1;33m]\u001b[0m\u001b[1;33m==\u001b[0m\u001b[1;34m'Senior'\u001b[0m\u001b[1;33m]\u001b[0m\u001b[1;33m)\u001b[0m\u001b[1;33m\u001b[0m\u001b[1;33m\u001b[0m\u001b[0m\n\u001b[0m",
      "\u001b[1;32mC:\\anaconda_python\\envs\\Insight\\lib\\site-packages\\seaborn\\relational.py\u001b[0m in \u001b[0;36mscatterplot\u001b[1;34m(x, y, hue, style, size, data, palette, hue_order, hue_norm, sizes, size_order, size_norm, markers, style_order, x_bins, y_bins, units, estimator, ci, n_boot, alpha, x_jitter, y_jitter, legend, ax, **kwargs)\u001b[0m\n\u001b[0;32m   1333\u001b[0m         \u001b[0mx_bins\u001b[0m\u001b[1;33m=\u001b[0m\u001b[0mx_bins\u001b[0m\u001b[1;33m,\u001b[0m \u001b[0my_bins\u001b[0m\u001b[1;33m=\u001b[0m\u001b[0my_bins\u001b[0m\u001b[1;33m,\u001b[0m\u001b[1;33m\u001b[0m\u001b[1;33m\u001b[0m\u001b[0m\n\u001b[0;32m   1334\u001b[0m         \u001b[0mestimator\u001b[0m\u001b[1;33m=\u001b[0m\u001b[0mestimator\u001b[0m\u001b[1;33m,\u001b[0m \u001b[0mci\u001b[0m\u001b[1;33m=\u001b[0m\u001b[0mci\u001b[0m\u001b[1;33m,\u001b[0m \u001b[0mn_boot\u001b[0m\u001b[1;33m=\u001b[0m\u001b[0mn_boot\u001b[0m\u001b[1;33m,\u001b[0m\u001b[1;33m\u001b[0m\u001b[1;33m\u001b[0m\u001b[0m\n\u001b[1;32m-> 1335\u001b[1;33m         \u001b[0malpha\u001b[0m\u001b[1;33m=\u001b[0m\u001b[0malpha\u001b[0m\u001b[1;33m,\u001b[0m \u001b[0mx_jitter\u001b[0m\u001b[1;33m=\u001b[0m\u001b[0mx_jitter\u001b[0m\u001b[1;33m,\u001b[0m \u001b[0my_jitter\u001b[0m\u001b[1;33m=\u001b[0m\u001b[0my_jitter\u001b[0m\u001b[1;33m,\u001b[0m \u001b[0mlegend\u001b[0m\u001b[1;33m=\u001b[0m\u001b[0mlegend\u001b[0m\u001b[1;33m,\u001b[0m\u001b[1;33m\u001b[0m\u001b[1;33m\u001b[0m\u001b[0m\n\u001b[0m\u001b[0;32m   1336\u001b[0m     )\n\u001b[0;32m   1337\u001b[0m \u001b[1;33m\u001b[0m\u001b[0m\n",
      "\u001b[1;32mC:\\anaconda_python\\envs\\Insight\\lib\\site-packages\\seaborn\\relational.py\u001b[0m in \u001b[0;36m__init__\u001b[1;34m(self, x, y, hue, size, style, data, palette, hue_order, hue_norm, sizes, size_order, size_norm, dashes, markers, style_order, x_bins, y_bins, units, estimator, ci, n_boot, alpha, x_jitter, y_jitter, legend)\u001b[0m\n\u001b[0;32m    850\u001b[0m \u001b[1;33m\u001b[0m\u001b[0m\n\u001b[0;32m    851\u001b[0m         plot_data = self.establish_variables(\n\u001b[1;32m--> 852\u001b[1;33m             \u001b[0mx\u001b[0m\u001b[1;33m,\u001b[0m \u001b[0my\u001b[0m\u001b[1;33m,\u001b[0m \u001b[0mhue\u001b[0m\u001b[1;33m,\u001b[0m \u001b[0msize\u001b[0m\u001b[1;33m,\u001b[0m \u001b[0mstyle\u001b[0m\u001b[1;33m,\u001b[0m \u001b[0munits\u001b[0m\u001b[1;33m,\u001b[0m \u001b[0mdata\u001b[0m\u001b[1;33m\u001b[0m\u001b[1;33m\u001b[0m\u001b[0m\n\u001b[0m\u001b[0;32m    853\u001b[0m         )\n\u001b[0;32m    854\u001b[0m \u001b[1;33m\u001b[0m\u001b[0m\n",
      "\u001b[1;32mC:\\anaconda_python\\envs\\Insight\\lib\\site-packages\\seaborn\\relational.py\u001b[0m in \u001b[0;36mestablish_variables\u001b[1;34m(self, x, y, hue, size, style, units, data)\u001b[0m\n\u001b[0;32m    140\u001b[0m                 \u001b[1;32mif\u001b[0m \u001b[0misinstance\u001b[0m\u001b[1;33m(\u001b[0m\u001b[0mvar\u001b[0m\u001b[1;33m,\u001b[0m \u001b[0mstring_types\u001b[0m\u001b[1;33m)\u001b[0m\u001b[1;33m:\u001b[0m\u001b[1;33m\u001b[0m\u001b[1;33m\u001b[0m\u001b[0m\n\u001b[0;32m    141\u001b[0m                     \u001b[0merr\u001b[0m \u001b[1;33m=\u001b[0m \u001b[1;34m\"Could not interpret input '{}'\"\u001b[0m\u001b[1;33m.\u001b[0m\u001b[0mformat\u001b[0m\u001b[1;33m(\u001b[0m\u001b[0mvar\u001b[0m\u001b[1;33m)\u001b[0m\u001b[1;33m\u001b[0m\u001b[1;33m\u001b[0m\u001b[0m\n\u001b[1;32m--> 142\u001b[1;33m                     \u001b[1;32mraise\u001b[0m \u001b[0mValueError\u001b[0m\u001b[1;33m(\u001b[0m\u001b[0merr\u001b[0m\u001b[1;33m)\u001b[0m\u001b[1;33m\u001b[0m\u001b[1;33m\u001b[0m\u001b[0m\n\u001b[0m\u001b[0;32m    143\u001b[0m \u001b[1;33m\u001b[0m\u001b[0m\n\u001b[0;32m    144\u001b[0m             \u001b[1;31m# Extract variable names\u001b[0m\u001b[1;33m\u001b[0m\u001b[1;33m\u001b[0m\u001b[1;33m\u001b[0m\u001b[0m\n",
      "\u001b[1;31mValueError\u001b[0m: Could not interpret input 'norm_name_freq'"
     ]
    }
   ],
   "source": [
    "nameplot = sns.scatterplot(x='norm_name_freq', y='adoption_time', data=total[total['age']=='Senior'])"
   ]
  },
  {
   "cell_type": "code",
   "execution_count": 177,
   "metadata": {},
   "outputs": [
    {
     "data": {
      "text/plain": [
       "<matplotlib.axes._subplots.AxesSubplot at 0x1f9617a7948>"
      ]
     },
     "execution_count": 177,
     "metadata": {},
     "output_type": "execute_result"
    },
    {
     "data": {
      "image/png": "[encoded data removed]",
      "text/plain": [
       "<Figure size 432x288 with 1 Axes>"
      ]
     },
     "metadata": {
      "needs_background": "light"
     },
     "output_type": "display_data"
    }
   ],
   "source": [
    "sns.distplot((total['norm_name_freq']), kde=False)"
   ]
  },
  {
   "cell_type": "code",
   "execution_count": 208,
   "metadata": {},
   "outputs": [
    {
     "data": {
      "text/plain": [
       "0.7575548442042818"
      ]
     },
     "execution_count": 208,
     "metadata": {},
     "output_type": "execute_result"
    }
   ],
   "source": [
    "len(total[total['norm_name_freq']<0.12])/len(total)"
   ]
  },
  {
   "cell_type": "code",
   "execution_count": 169,
   "metadata": {},
   "outputs": [
    {
     "data": {
      "image/png": "[encoded data removed]",
      "text/plain": [
       "<Figure size 432x288 with 1 Axes>"
      ]
     },
     "metadata": {
      "needs_background": "light"
     },
     "output_type": "display_data"
    }
   ],
   "source": [
    "breedplot = sns.scatterplot(x='norm_breed_freq', y='adoption_time', data=total)"
   ]
  },
  {
   "cell_type": "code",
   "execution_count": 171,
   "metadata": {},
   "outputs": [
    {
     "data": {
      "text/plain": [
       "<matplotlib.axes._subplots.AxesSubplot at 0x1f9030a73c8>"
      ]
     },
     "execution_count": 171,
     "metadata": {},
     "output_type": "execute_result"
    },
    {
     "data": {
      "image/png": "[encoded data removed]",
      "text/plain": [
       "<Figure size 432x288 with 1 Axes>"
      ]
     },
     "metadata": {
      "needs_background": "light"
     },
     "output_type": "display_data"
    }
   ],
   "source": [
    "sns.distplot(total['norm_breed_freq'], kde=False)"
   ]
  },
  {
   "cell_type": "code",
   "execution_count": 221,
   "metadata": {},
   "outputs": [
    {
     "data": {
      "text/plain": [
       "0.3440280755337582"
      ]
     },
     "execution_count": 221,
     "metadata": {},
     "output_type": "execute_result"
    }
   ],
   "source": [
    "len(total[total['norm_breed_freq']<0.12])/len(total)"
   ]
  },
  {
   "cell_type": "code",
   "execution_count": 34,
   "metadata": {},
   "outputs": [
    {
     "data": {
      "image/png": "[encoded data removed]",
      "text/plain": [
       "<Figure size 360x360 with 1 Axes>"
      ]
     },
     "metadata": {
      "needs_background": "light"
     },
     "output_type": "display_data"
    }
   ],
   "source": [
    "sizeplot = sns.catplot(x='size', y='adoption_time', order=[\"Small\", \"Medium\", \"Large\", \"Extra Large\"] , data=total, kind='boxen');"
   ]
  },
  {
   "cell_type": "code",
   "execution_count": 35,
   "metadata": {},
   "outputs": [
    {
     "data": {
      "text/plain": [
       "<seaborn.axisgrid.FacetGrid at 0x17305af7198>"
      ]
     },
     "execution_count": 35,
     "metadata": {},
     "output_type": "execute_result"
    },
    {
     "data": {
      "image/png": "[encoded data removed]",
      "text/plain": [
       "<Figure size 360x360 with 1 Axes>"
      ]
     },
     "metadata": {
      "needs_background": "light"
     },
     "output_type": "display_data"
    }
   ],
   "source": [
    "sizeplot2 = sns.catplot(x='size', y='adoption_time', order=[\"Small\", \"Medium\", \"Large\", \"Extra Large\"] , data=total, kind='box');\n",
    "sizeplot2.set(ylim=(0,200))"
   ]
  },
  {
   "cell_type": "code",
   "execution_count": 36,
   "metadata": {},
   "outputs": [
    {
     "data": {
      "image/png": "[encoded data removed]",
      "text/plain": [
       "<Figure size 360x360 with 1 Axes>"
      ]
     },
     "metadata": {
      "needs_background": "light"
     },
     "output_type": "display_data"
    }
   ],
   "source": [
    "sns.catplot(x=\"size\", kind=\"count\", palette=\"ch:.25\", data=total);"
   ]
  },
  {
   "cell_type": "code",
   "execution_count": 37,
   "metadata": {},
   "outputs": [
    {
     "data": {
      "image/png": "[encoded data removed]",
      "text/plain": [
       "<Figure size 427.75x360 with 1 Axes>"
      ]
     },
     "metadata": {
      "needs_background": "light"
     },
     "output_type": "display_data"
    }
   ],
   "source": [
    "sns.catplot(x=\"size\", kind=\"count\", hue=\"age\", palette=\"ch:.25\", data=total);"
   ]
  },
  {
   "cell_type": "code",
   "execution_count": 38,
   "metadata": {},
   "outputs": [
    {
     "data": {
      "image/png": "[encoded data removed]",
      "text/plain": [
       "<Figure size 360x360 with 1 Axes>"
      ]
     },
     "metadata": {
      "needs_background": "light"
     },
     "output_type": "display_data"
    }
   ],
   "source": [
    "sns.catplot(x='contact.address.state', y='adoption_time', kind=\"boxen\", data=total);"
   ]
  },
  {
   "cell_type": "code",
   "execution_count": 39,
   "metadata": {},
   "outputs": [
    {
     "data": {
      "text/plain": [
       "<seaborn.axisgrid.FacetGrid at 0x173042f9748>"
      ]
     },
     "execution_count": 39,
     "metadata": {},
     "output_type": "execute_result"
    },
    {
     "data": {
      "image/png": "[encoded data removed]",
      "text/plain": [
       "<Figure size 360x360 with 1 Axes>"
      ]
     },
     "metadata": {
      "needs_background": "light"
     },
     "output_type": "display_data"
    }
   ],
   "source": [
    "sizeplot3 = sns.catplot(x='contact.address.state', y='adoption_time', order=[\"CA\", \"MN\", \"NY\", \"TX\"] , data=total, kind='box');\n",
    "sizeplot3.set(ylim=(0,200))"
   ]
  },
  {
   "cell_type": "code",
   "execution_count": 40,
   "metadata": {},
   "outputs": [
    {
     "data": {
      "image/png": "[encoded data removed]",
      "text/plain": [
       "<Figure size 360x360 with 1 Axes>"
      ]
     },
     "metadata": {
      "needs_background": "light"
     },
     "output_type": "display_data"
    }
   ],
   "source": [
    "sns.catplot(x=\"contact.address.state\", kind=\"count\", palette=\"ch:.25\", data=total);"
   ]
  },
  {
   "cell_type": "code",
   "execution_count": 41,
   "metadata": {},
   "outputs": [
    {
     "data": {
      "text/plain": [
       "<seaborn.axisgrid.FacetGrid at 0x17302504550>"
      ]
     },
     "execution_count": 41,
     "metadata": {},
     "output_type": "execute_result"
    },
    {
     "data": {
      "image/png": "[encoded data removed]",
      "text/plain": [
       "<Figure size 360x360 with 1 Axes>"
      ]
     },
     "metadata": {
      "needs_background": "light"
     },
     "output_type": "display_data"
    }
   ],
   "source": [
    "sizeplot3 = sns.catplot(x='contact.address.state', y='adoption_time', order=[\"CA\", \"MN\", \"NY\", \"TX\"] , data=total, kind='box');\n",
    "sizeplot3.set(ylim=(0,200))"
   ]
  },
  {
   "cell_type": "code",
   "execution_count": 21,
   "metadata": {},
   "outputs": [
    {
     "data": {
      "text/plain": [
       "<matplotlib.axes._subplots.AxesSubplot at 0x20400037c50>"
      ]
     },
     "execution_count": 21,
     "metadata": {},
     "output_type": "execute_result"
    },
    {
     "data": {
      "image/png": "[encoded data removed]",
      "text/plain": [
       "<Figure size 432x288 with 1 Axes>"
      ]
     },
     "metadata": {
      "needs_background": "light"
     },
     "output_type": "display_data"
    }
   ],
   "source": [
    "sns.distplot(total['adoption_time'], kde=False)"
   ]
  },
  {
   "cell_type": "code",
   "execution_count": 95,
   "metadata": {},
   "outputs": [],
   "source": [
    "log_adpt_time = total.apply(lambda x: np.log((x['adoption_time'])+1.1), axis=1)"
   ]
  },
  {
   "cell_type": "code",
   "execution_count": 44,
   "metadata": {},
   "outputs": [
    {
     "data": {
      "text/plain": [
       "151484"
      ]
     },
     "execution_count": 44,
     "metadata": {},
     "output_type": "execute_result"
    }
   ],
   "source": [
    "len(total)"
   ]
  },
  {
   "cell_type": "code",
   "execution_count": 45,
   "metadata": {},
   "outputs": [
    {
     "data": {
      "text/html": [
       "<div>\n",
       "<style scoped>\n",
       "    .dataframe tbody tr th:only-of-type {\n",
       "        vertical-align: middle;\n",
       "    }\n",
       "\n",
       "    .dataframe tbody tr th {\n",
       "        vertical-align: top;\n",
       "    }\n",
       "\n",
       "    .dataframe thead th {\n",
       "        text-align: right;\n",
       "    }\n",
       "</style>\n",
       "<table border=\"1\" class=\"dataframe\">\n",
       "  <thead>\n",
       "    <tr style=\"text-align: right;\">\n",
       "      <th></th>\n",
       "      <th>age</th>\n",
       "      <th>gender</th>\n",
       "      <th>size</th>\n",
       "      <th>breeds.mixed</th>\n",
       "      <th>attributes.spayed_neutered</th>\n",
       "      <th>attributes.house_trained</th>\n",
       "      <th>attributes.shots_current</th>\n",
       "      <th>contact.address.state</th>\n",
       "      <th>adoption_time</th>\n",
       "    </tr>\n",
       "  </thead>\n",
       "  <tbody>\n",
       "    <tr>\n",
       "      <th>0</th>\n",
       "      <td>Baby</td>\n",
       "      <td>Female</td>\n",
       "      <td>Small</td>\n",
       "      <td>True</td>\n",
       "      <td>True</td>\n",
       "      <td>True</td>\n",
       "      <td>True</td>\n",
       "      <td>CA</td>\n",
       "      <td>19</td>\n",
       "    </tr>\n",
       "    <tr>\n",
       "      <th>1</th>\n",
       "      <td>Young</td>\n",
       "      <td>Male</td>\n",
       "      <td>Small</td>\n",
       "      <td>False</td>\n",
       "      <td>True</td>\n",
       "      <td>True</td>\n",
       "      <td>True</td>\n",
       "      <td>CA</td>\n",
       "      <td>29</td>\n",
       "    </tr>\n",
       "    <tr>\n",
       "      <th>2</th>\n",
       "      <td>Young</td>\n",
       "      <td>Male</td>\n",
       "      <td>Medium</td>\n",
       "      <td>False</td>\n",
       "      <td>True</td>\n",
       "      <td>False</td>\n",
       "      <td>True</td>\n",
       "      <td>CA</td>\n",
       "      <td>18</td>\n",
       "    </tr>\n",
       "    <tr>\n",
       "      <th>3</th>\n",
       "      <td>Adult</td>\n",
       "      <td>Female</td>\n",
       "      <td>Medium</td>\n",
       "      <td>False</td>\n",
       "      <td>True</td>\n",
       "      <td>False</td>\n",
       "      <td>True</td>\n",
       "      <td>CA</td>\n",
       "      <td>57</td>\n",
       "    </tr>\n",
       "    <tr>\n",
       "      <th>4</th>\n",
       "      <td>Young</td>\n",
       "      <td>Male</td>\n",
       "      <td>Medium</td>\n",
       "      <td>True</td>\n",
       "      <td>True</td>\n",
       "      <td>False</td>\n",
       "      <td>True</td>\n",
       "      <td>CA</td>\n",
       "      <td>8</td>\n",
       "    </tr>\n",
       "  </tbody>\n",
       "</table>\n",
       "</div>"
      ],
      "text/plain": [
       "     age  gender    size  breeds.mixed  attributes.spayed_neutered  \\\n",
       "0   Baby  Female   Small          True                        True   \n",
       "1  Young    Male   Small         False                        True   \n",
       "2  Young    Male  Medium         False                        True   \n",
       "3  Adult  Female  Medium         False                        True   \n",
       "4  Young    Male  Medium          True                        True   \n",
       "\n",
       "   attributes.house_trained  attributes.shots_current contact.address.state  \\\n",
       "0                      True                      True                    CA   \n",
       "1                      True                      True                    CA   \n",
       "2                     False                      True                    CA   \n",
       "3                     False                      True                    CA   \n",
       "4                     False                      True                    CA   \n",
       "\n",
       "   adoption_time  \n",
       "0             19  \n",
       "1             29  \n",
       "2             18  \n",
       "3             57  \n",
       "4              8  "
      ]
     },
     "execution_count": 45,
     "metadata": {},
     "output_type": "execute_result"
    }
   ],
   "source": [
    "total.head()"
   ]
  },
  {
   "cell_type": "code",
   "execution_count": 96,
   "metadata": {},
   "outputs": [
    {
     "data": {
      "text/plain": [
       "[Text(0, 0.5, 'count'), Text(0.5, 0, 'log adoption time')]"
      ]
     },
     "execution_count": 96,
     "metadata": {},
     "output_type": "execute_result"
    },
    {
     "data": {
      "image/png": "[encoded data removed]",
      "text/plain": [
       "<Figure size 432x288 with 1 Axes>"
      ]
     },
     "metadata": {
      "needs_background": "light"
     },
     "output_type": "display_data"
    }
   ],
   "source": [
    "ax = sns.distplot(log_adpt_time, kde=False)\n",
    "ax.set(xlabel='log adoption time', ylabel='count')"
   ]
  },
  {
   "cell_type": "code",
   "execution_count": 48,
   "metadata": {},
   "outputs": [],
   "source": [
    "time_inv = total.apply(lambda x: 1/(x['adoption_time']+1), axis=1)"
   ]
  },
  {
   "cell_type": "code",
   "execution_count": 49,
   "metadata": {},
   "outputs": [
    {
     "data": {
      "text/plain": [
       "<matplotlib.axes._subplots.AxesSubplot at 0x173042764a8>"
      ]
     },
     "execution_count": 49,
     "metadata": {},
     "output_type": "execute_result"
    },
    {
     "data": {
      "image/png": "[encoded data removed]",
      "text/plain": [
       "<Figure size 432x288 with 1 Axes>"
      ]
     },
     "metadata": {
      "needs_background": "light"
     },
     "output_type": "display_data"
    }
   ],
   "source": [
    "sns.distplot(time_inv)"
   ]
  },
  {
   "cell_type": "code",
   "execution_count": 50,
   "metadata": {},
   "outputs": [],
   "source": [
    "total['log_adpt_time'] = total.apply(lambda x: np.log((x['adoption_time'])+1.1), axis=1)"
   ]
  },
  {
   "cell_type": "code",
   "execution_count": 51,
   "metadata": {},
   "outputs": [
    {
     "data": {
      "text/html": [
       "<div>\n",
       "<style scoped>\n",
       "    .dataframe tbody tr th:only-of-type {\n",
       "        vertical-align: middle;\n",
       "    }\n",
       "\n",
       "    .dataframe tbody tr th {\n",
       "        vertical-align: top;\n",
       "    }\n",
       "\n",
       "    .dataframe thead th {\n",
       "        text-align: right;\n",
       "    }\n",
       "</style>\n",
       "<table border=\"1\" class=\"dataframe\">\n",
       "  <thead>\n",
       "    <tr style=\"text-align: right;\">\n",
       "      <th></th>\n",
       "      <th>age</th>\n",
       "      <th>gender</th>\n",
       "      <th>size</th>\n",
       "      <th>breeds.mixed</th>\n",
       "      <th>attributes.spayed_neutered</th>\n",
       "      <th>attributes.house_trained</th>\n",
       "      <th>attributes.shots_current</th>\n",
       "      <th>contact.address.state</th>\n",
       "      <th>adoption_time</th>\n",
       "      <th>log_adpt_time</th>\n",
       "    </tr>\n",
       "  </thead>\n",
       "  <tbody>\n",
       "    <tr>\n",
       "      <th>0</th>\n",
       "      <td>Baby</td>\n",
       "      <td>Female</td>\n",
       "      <td>Small</td>\n",
       "      <td>True</td>\n",
       "      <td>True</td>\n",
       "      <td>True</td>\n",
       "      <td>True</td>\n",
       "      <td>CA</td>\n",
       "      <td>19</td>\n",
       "      <td>3.000720</td>\n",
       "    </tr>\n",
       "    <tr>\n",
       "      <th>1</th>\n",
       "      <td>Young</td>\n",
       "      <td>Male</td>\n",
       "      <td>Small</td>\n",
       "      <td>False</td>\n",
       "      <td>True</td>\n",
       "      <td>True</td>\n",
       "      <td>True</td>\n",
       "      <td>CA</td>\n",
       "      <td>29</td>\n",
       "      <td>3.404525</td>\n",
       "    </tr>\n",
       "    <tr>\n",
       "      <th>2</th>\n",
       "      <td>Young</td>\n",
       "      <td>Male</td>\n",
       "      <td>Medium</td>\n",
       "      <td>False</td>\n",
       "      <td>True</td>\n",
       "      <td>False</td>\n",
       "      <td>True</td>\n",
       "      <td>CA</td>\n",
       "      <td>18</td>\n",
       "      <td>2.949688</td>\n",
       "    </tr>\n",
       "    <tr>\n",
       "      <th>3</th>\n",
       "      <td>Adult</td>\n",
       "      <td>Female</td>\n",
       "      <td>Medium</td>\n",
       "      <td>False</td>\n",
       "      <td>True</td>\n",
       "      <td>False</td>\n",
       "      <td>True</td>\n",
       "      <td>CA</td>\n",
       "      <td>57</td>\n",
       "      <td>4.062166</td>\n",
       "    </tr>\n",
       "    <tr>\n",
       "      <th>4</th>\n",
       "      <td>Young</td>\n",
       "      <td>Male</td>\n",
       "      <td>Medium</td>\n",
       "      <td>True</td>\n",
       "      <td>True</td>\n",
       "      <td>False</td>\n",
       "      <td>True</td>\n",
       "      <td>CA</td>\n",
       "      <td>8</td>\n",
       "      <td>2.208274</td>\n",
       "    </tr>\n",
       "  </tbody>\n",
       "</table>\n",
       "</div>"
      ],
      "text/plain": [
       "     age  gender    size  breeds.mixed  attributes.spayed_neutered  \\\n",
       "0   Baby  Female   Small          True                        True   \n",
       "1  Young    Male   Small         False                        True   \n",
       "2  Young    Male  Medium         False                        True   \n",
       "3  Adult  Female  Medium         False                        True   \n",
       "4  Young    Male  Medium          True                        True   \n",
       "\n",
       "   attributes.house_trained  attributes.shots_current contact.address.state  \\\n",
       "0                      True                      True                    CA   \n",
       "1                      True                      True                    CA   \n",
       "2                     False                      True                    CA   \n",
       "3                     False                      True                    CA   \n",
       "4                     False                      True                    CA   \n",
       "\n",
       "   adoption_time  log_adpt_time  \n",
       "0             19       3.000720  \n",
       "1             29       3.404525  \n",
       "2             18       2.949688  \n",
       "3             57       4.062166  \n",
       "4              8       2.208274  "
      ]
     },
     "execution_count": 51,
     "metadata": {},
     "output_type": "execute_result"
    }
   ],
   "source": [
    "total.head()"
   ]
  },
  {
   "cell_type": "code",
   "execution_count": 52,
   "metadata": {},
   "outputs": [
    {
     "data": {
      "text/plain": [
       "0.09531017980432493"
      ]
     },
     "execution_count": 52,
     "metadata": {},
     "output_type": "execute_result"
    }
   ],
   "source": [
    "total['log_adpt_time'].min()"
   ]
  },
  {
   "cell_type": "code",
   "execution_count": 91,
   "metadata": {},
   "outputs": [
    {
     "data": {
      "text/plain": [
       "<seaborn.axisgrid.FacetGrid at 0x2040a4726d8>"
      ]
     },
     "execution_count": 91,
     "metadata": {},
     "output_type": "execute_result"
    },
    {
     "data": {
      "image/png": "[encoded data removed]",
      "text/plain": [
       "<Figure size 360x360 with 1 Axes>"
      ]
     },
     "metadata": {
      "needs_background": "light"
     },
     "output_type": "display_data"
    }
   ],
   "source": [
    "sizeplot3 = sns.catplot(x='age', y='adoption_time', order=[\"Baby\", \"Young\", \"Adult\", \"Senior\"] , data=total, kind='box');\n",
    "sizeplot3.set(ylim=(0,200))"
   ]
  },
  {
   "cell_type": "code",
   "execution_count": 244,
   "metadata": {},
   "outputs": [
    {
     "data": {
      "image/png": "[encoded data removed]",
      "text/plain": [
       "<Figure size 360x360 with 1 Axes>"
      ]
     },
     "metadata": {
      "needs_background": "light"
     },
     "output_type": "display_data"
    }
   ],
   "source": [
    "sns.catplot(x=\"age\", kind=\"count\", palette=\"ch:.25\",order=[\"Baby\", \"Young\", \"Adult\", \"Senior\"], data=total);"
   ]
  },
  {
   "cell_type": "code",
   "execution_count": 245,
   "metadata": {},
   "outputs": [
    {
     "data": {
      "text/plain": [
       "<seaborn.axisgrid.FacetGrid at 0x1f9755dd9c8>"
      ]
     },
     "execution_count": 245,
     "metadata": {},
     "output_type": "execute_result"
    },
    {
     "data": {
      "image/png": "[encoded data removed]",
      "text/plain": [
       "<Figure size 360x360 with 1 Axes>"
      ]
     },
     "metadata": {
      "needs_background": "light"
     },
     "output_type": "display_data"
    }
   ],
   "source": [
    "sizeplot3 = sns.catplot(x='gender', y='adoption_time', order=[\"Male\", \"Female\"] , data=total, kind='box');\n",
    "sizeplot3.set(ylim=(0,200))"
   ]
  },
  {
   "cell_type": "code",
   "execution_count": 56,
   "metadata": {},
   "outputs": [
    {
     "data": {
      "image/png": "[encoded data removed]",
      "text/plain": [
       "<Figure size 360x360 with 1 Axes>"
      ]
     },
     "metadata": {
      "needs_background": "light"
     },
     "output_type": "display_data"
    }
   ],
   "source": [
    "sns.catplot(x=\"gender\", kind=\"count\", palette=\"ch:.25\", data=total);"
   ]
  },
  {
   "cell_type": "code",
   "execution_count": 246,
   "metadata": {},
   "outputs": [
    {
     "data": {
      "text/plain": [
       "<seaborn.axisgrid.FacetGrid at 0x1f966ba8c08>"
      ]
     },
     "execution_count": 246,
     "metadata": {},
     "output_type": "execute_result"
    },
    {
     "data": {
      "image/png": "[encoded data removed]",
      "text/plain": [
       "<Figure size 360x360 with 1 Axes>"
      ]
     },
     "metadata": {
      "needs_background": "light"
     },
     "output_type": "display_data"
    }
   ],
   "source": [
    "sizeplot3 = sns.catplot(x='breeds.mixed', y='adoption_time', data=total, kind='box');\n",
    "sizeplot3.set(ylim=(0,200))"
   ]
  },
  {
   "cell_type": "code",
   "execution_count": 58,
   "metadata": {},
   "outputs": [
    {
     "data": {
      "image/png": "[encoded data removed]",
      "text/plain": [
       "<Figure size 360x360 with 1 Axes>"
      ]
     },
     "metadata": {
      "needs_background": "light"
     },
     "output_type": "display_data"
    }
   ],
   "source": [
    "sns.catplot(x=\"breeds.mixed\", kind=\"count\", palette=\"ch:.25\", data=total);"
   ]
  },
  {
   "cell_type": "code",
   "execution_count": 247,
   "metadata": {},
   "outputs": [
    {
     "data": {
      "text/plain": [
       "<seaborn.axisgrid.FacetGrid at 0x1f9688c0a48>"
      ]
     },
     "execution_count": 247,
     "metadata": {},
     "output_type": "execute_result"
    },
    {
     "data": {
      "image/png": "[encoded data removed]",
      "text/plain": [
       "<Figure size 360x360 with 1 Axes>"
      ]
     },
     "metadata": {
      "needs_background": "light"
     },
     "output_type": "display_data"
    }
   ],
   "source": [
    "sizeplot3 = sns.catplot(x='attributes.spayed_neutered', y='adoption_time', data=total, kind='box');\n",
    "sizeplot3.set(ylim=(0,200))"
   ]
  },
  {
   "cell_type": "code",
   "execution_count": 61,
   "metadata": {},
   "outputs": [
    {
     "data": {
      "image/png": "[encoded data removed]",
      "text/plain": [
       "<Figure size 360x360 with 1 Axes>"
      ]
     },
     "metadata": {
      "needs_background": "light"
     },
     "output_type": "display_data"
    }
   ],
   "source": [
    "sns.catplot(x=\"attributes.spayed_neutered\", kind=\"count\", palette=\"ch:.25\", data=total);"
   ]
  },
  {
   "cell_type": "code",
   "execution_count": 248,
   "metadata": {},
   "outputs": [
    {
     "data": {
      "text/plain": [
       "<seaborn.axisgrid.FacetGrid at 0x1f9654a2248>"
      ]
     },
     "execution_count": 248,
     "metadata": {},
     "output_type": "execute_result"
    },
    {
     "data": {
      "image/png": "[encoded data removed]",
      "text/plain": [
       "<Figure size 360x360 with 1 Axes>"
      ]
     },
     "metadata": {
      "needs_background": "light"
     },
     "output_type": "display_data"
    }
   ],
   "source": [
    "sizeplot3 = sns.catplot(x='attributes.house_trained', y='adoption_time', data=total, kind='box');\n",
    "sizeplot3.set(ylim=(0,200))"
   ]
  },
  {
   "cell_type": "code",
   "execution_count": 63,
   "metadata": {},
   "outputs": [
    {
     "data": {
      "image/png": "[encoded data removed]",
      "text/plain": [
       "<Figure size 360x360 with 1 Axes>"
      ]
     },
     "metadata": {
      "needs_background": "light"
     },
     "output_type": "display_data"
    }
   ],
   "source": [
    "sns.catplot(x=\"attributes.house_trained\", kind=\"count\", palette=\"ch:.25\", data=total);"
   ]
  },
  {
   "cell_type": "code",
   "execution_count": 249,
   "metadata": {},
   "outputs": [
    {
     "data": {
      "text/plain": [
       "<seaborn.axisgrid.FacetGrid at 0x1f968660a08>"
      ]
     },
     "execution_count": 249,
     "metadata": {},
     "output_type": "execute_result"
    },
    {
     "data": {
      "image/png": "[encoded data removed]",
      "text/plain": [
       "<Figure size 360x360 with 1 Axes>"
      ]
     },
     "metadata": {
      "needs_background": "light"
     },
     "output_type": "display_data"
    }
   ],
   "source": [
    "sizeplot3 = sns.catplot(x='attributes.shots_current', y='adoption_time', data=total, kind='box');\n",
    "sizeplot3.set(ylim=(0,200))"
   ]
  },
  {
   "cell_type": "code",
   "execution_count": 66,
   "metadata": {},
   "outputs": [
    {
     "data": {
      "image/png": "[encoded data removed]",
      "text/plain": [
       "<Figure size 360x360 with 1 Axes>"
      ]
     },
     "metadata": {
      "needs_background": "light"
     },
     "output_type": "display_data"
    }
   ],
   "source": [
    "sns.catplot(x=\"attributes.shots_current\", kind=\"count\", palette=\"ch:.25\", data=total);"
   ]
  },
  {
   "cell_type": "code",
   "execution_count": 250,
   "metadata": {},
   "outputs": [
    {
     "ename": "KeyError",
     "evalue": "'log_adpt_time'",
     "output_type": "error",
     "traceback": [
      "\u001b[1;31m---------------------------------------------------------------------------\u001b[0m",
      "\u001b[1;31mKeyError\u001b[0m                                  Traceback (most recent call last)",
      "\u001b[1;32mC:\\anaconda_python\\envs\\Insight\\lib\\site-packages\\pandas\\core\\indexes\\base.py\u001b[0m in \u001b[0;36mget_loc\u001b[1;34m(self, key, method, tolerance)\u001b[0m\n\u001b[0;32m   2896\u001b[0m             \u001b[1;32mtry\u001b[0m\u001b[1;33m:\u001b[0m\u001b[1;33m\u001b[0m\u001b[1;33m\u001b[0m\u001b[0m\n\u001b[1;32m-> 2897\u001b[1;33m                 \u001b[1;32mreturn\u001b[0m \u001b[0mself\u001b[0m\u001b[1;33m.\u001b[0m\u001b[0m_engine\u001b[0m\u001b[1;33m.\u001b[0m\u001b[0mget_loc\u001b[0m\u001b[1;33m(\u001b[0m\u001b[0mkey\u001b[0m\u001b[1;33m)\u001b[0m\u001b[1;33m\u001b[0m\u001b[1;33m\u001b[0m\u001b[0m\n\u001b[0m\u001b[0;32m   2898\u001b[0m             \u001b[1;32mexcept\u001b[0m \u001b[0mKeyError\u001b[0m\u001b[1;33m:\u001b[0m\u001b[1;33m\u001b[0m\u001b[1;33m\u001b[0m\u001b[0m\n",
      "\u001b[1;32mpandas/_libs/index.pyx\u001b[0m in \u001b[0;36mpandas._libs.index.IndexEngine.get_loc\u001b[1;34m()\u001b[0m\n",
      "\u001b[1;32mpandas/_libs/index.pyx\u001b[0m in \u001b[0;36mpandas._libs.index.IndexEngine.get_loc\u001b[1;34m()\u001b[0m\n",
      "\u001b[1;32mpandas/_libs/hashtable_class_helper.pxi\u001b[0m in \u001b[0;36mpandas._libs.hashtable.PyObjectHashTable.get_item\u001b[1;34m()\u001b[0m\n",
      "\u001b[1;32mpandas/_libs/hashtable_class_helper.pxi\u001b[0m in \u001b[0;36mpandas._libs.hashtable.PyObjectHashTable.get_item\u001b[1;34m()\u001b[0m\n",
      "\u001b[1;31mKeyError\u001b[0m: 'log_adpt_time'",
      "\nDuring handling of the above exception, another exception occurred:\n",
      "\u001b[1;31mKeyError\u001b[0m                                  Traceback (most recent call last)",
      "\u001b[1;32m<ipython-input-250-8418342b0b92>\u001b[0m in \u001b[0;36m<module>\u001b[1;34m\u001b[0m\n\u001b[0;32m      2\u001b[0m \u001b[1;31m#trainval_X, test_X, trainval_y, test_y = train_test_split(X, y, test_size=0.2)\u001b[0m\u001b[1;33m\u001b[0m\u001b[1;33m\u001b[0m\u001b[1;33m\u001b[0m\u001b[0m\n\u001b[0;32m      3\u001b[0m \u001b[1;31m#use log_adpt_time as feature\u001b[0m\u001b[1;33m\u001b[0m\u001b[1;33m\u001b[0m\u001b[1;33m\u001b[0m\u001b[0m\n\u001b[1;32m----> 4\u001b[1;33m \u001b[0mtrainval_X\u001b[0m\u001b[1;33m,\u001b[0m \u001b[0mtest_X\u001b[0m\u001b[1;33m,\u001b[0m \u001b[0mtrainval_y\u001b[0m\u001b[1;33m,\u001b[0m \u001b[0mtest_y\u001b[0m \u001b[1;33m=\u001b[0m \u001b[0mtrain_test_split\u001b[0m\u001b[1;33m(\u001b[0m\u001b[0mX\u001b[0m\u001b[1;33m,\u001b[0m \u001b[0mtotal\u001b[0m\u001b[1;33m[\u001b[0m\u001b[1;34m'log_adpt_time'\u001b[0m\u001b[1;33m]\u001b[0m\u001b[1;33m,\u001b[0m \u001b[0mtest_size\u001b[0m\u001b[1;33m=\u001b[0m\u001b[1;36m0.2\u001b[0m\u001b[1;33m)\u001b[0m\u001b[1;33m\u001b[0m\u001b[1;33m\u001b[0m\u001b[0m\n\u001b[0m\u001b[0;32m      5\u001b[0m \u001b[0mprint\u001b[0m\u001b[1;33m(\u001b[0m\u001b[1;34m'Training set size = {} and Test set size = {}'\u001b[0m\u001b[1;33m.\u001b[0m\u001b[0mformat\u001b[0m\u001b[1;33m(\u001b[0m\u001b[0mlen\u001b[0m\u001b[1;33m(\u001b[0m\u001b[0mtrainval_X\u001b[0m\u001b[1;33m)\u001b[0m\u001b[1;33m,\u001b[0m\u001b[0mlen\u001b[0m\u001b[1;33m(\u001b[0m\u001b[0mtest_X\u001b[0m\u001b[1;33m)\u001b[0m\u001b[1;33m)\u001b[0m\u001b[1;33m)\u001b[0m\u001b[1;33m\u001b[0m\u001b[1;33m\u001b[0m\u001b[0m\n",
      "\u001b[1;32mC:\\anaconda_python\\envs\\Insight\\lib\\site-packages\\pandas\\core\\frame.py\u001b[0m in \u001b[0;36m__getitem__\u001b[1;34m(self, key)\u001b[0m\n\u001b[0;32m   2993\u001b[0m             \u001b[1;32mif\u001b[0m \u001b[0mself\u001b[0m\u001b[1;33m.\u001b[0m\u001b[0mcolumns\u001b[0m\u001b[1;33m.\u001b[0m\u001b[0mnlevels\u001b[0m \u001b[1;33m>\u001b[0m \u001b[1;36m1\u001b[0m\u001b[1;33m:\u001b[0m\u001b[1;33m\u001b[0m\u001b[1;33m\u001b[0m\u001b[0m\n\u001b[0;32m   2994\u001b[0m                 \u001b[1;32mreturn\u001b[0m \u001b[0mself\u001b[0m\u001b[1;33m.\u001b[0m\u001b[0m_getitem_multilevel\u001b[0m\u001b[1;33m(\u001b[0m\u001b[0mkey\u001b[0m\u001b[1;33m)\u001b[0m\u001b[1;33m\u001b[0m\u001b[1;33m\u001b[0m\u001b[0m\n\u001b[1;32m-> 2995\u001b[1;33m             \u001b[0mindexer\u001b[0m \u001b[1;33m=\u001b[0m \u001b[0mself\u001b[0m\u001b[1;33m.\u001b[0m\u001b[0mcolumns\u001b[0m\u001b[1;33m.\u001b[0m\u001b[0mget_loc\u001b[0m\u001b[1;33m(\u001b[0m\u001b[0mkey\u001b[0m\u001b[1;33m)\u001b[0m\u001b[1;33m\u001b[0m\u001b[1;33m\u001b[0m\u001b[0m\n\u001b[0m\u001b[0;32m   2996\u001b[0m             \u001b[1;32mif\u001b[0m \u001b[0mis_integer\u001b[0m\u001b[1;33m(\u001b[0m\u001b[0mindexer\u001b[0m\u001b[1;33m)\u001b[0m\u001b[1;33m:\u001b[0m\u001b[1;33m\u001b[0m\u001b[1;33m\u001b[0m\u001b[0m\n\u001b[0;32m   2997\u001b[0m                 \u001b[0mindexer\u001b[0m \u001b[1;33m=\u001b[0m \u001b[1;33m[\u001b[0m\u001b[0mindexer\u001b[0m\u001b[1;33m]\u001b[0m\u001b[1;33m\u001b[0m\u001b[1;33m\u001b[0m\u001b[0m\n",
      "\u001b[1;32mC:\\anaconda_python\\envs\\Insight\\lib\\site-packages\\pandas\\core\\indexes\\base.py\u001b[0m in \u001b[0;36mget_loc\u001b[1;34m(self, key, method, tolerance)\u001b[0m\n\u001b[0;32m   2897\u001b[0m                 \u001b[1;32mreturn\u001b[0m \u001b[0mself\u001b[0m\u001b[1;33m.\u001b[0m\u001b[0m_engine\u001b[0m\u001b[1;33m.\u001b[0m\u001b[0mget_loc\u001b[0m\u001b[1;33m(\u001b[0m\u001b[0mkey\u001b[0m\u001b[1;33m)\u001b[0m\u001b[1;33m\u001b[0m\u001b[1;33m\u001b[0m\u001b[0m\n\u001b[0;32m   2898\u001b[0m             \u001b[1;32mexcept\u001b[0m \u001b[0mKeyError\u001b[0m\u001b[1;33m:\u001b[0m\u001b[1;33m\u001b[0m\u001b[1;33m\u001b[0m\u001b[0m\n\u001b[1;32m-> 2899\u001b[1;33m                 \u001b[1;32mreturn\u001b[0m \u001b[0mself\u001b[0m\u001b[1;33m.\u001b[0m\u001b[0m_engine\u001b[0m\u001b[1;33m.\u001b[0m\u001b[0mget_loc\u001b[0m\u001b[1;33m(\u001b[0m\u001b[0mself\u001b[0m\u001b[1;33m.\u001b[0m\u001b[0m_maybe_cast_indexer\u001b[0m\u001b[1;33m(\u001b[0m\u001b[0mkey\u001b[0m\u001b[1;33m)\u001b[0m\u001b[1;33m)\u001b[0m\u001b[1;33m\u001b[0m\u001b[1;33m\u001b[0m\u001b[0m\n\u001b[0m\u001b[0;32m   2900\u001b[0m         \u001b[0mindexer\u001b[0m \u001b[1;33m=\u001b[0m \u001b[0mself\u001b[0m\u001b[1;33m.\u001b[0m\u001b[0mget_indexer\u001b[0m\u001b[1;33m(\u001b[0m\u001b[1;33m[\u001b[0m\u001b[0mkey\u001b[0m\u001b[1;33m]\u001b[0m\u001b[1;33m,\u001b[0m \u001b[0mmethod\u001b[0m\u001b[1;33m=\u001b[0m\u001b[0mmethod\u001b[0m\u001b[1;33m,\u001b[0m \u001b[0mtolerance\u001b[0m\u001b[1;33m=\u001b[0m\u001b[0mtolerance\u001b[0m\u001b[1;33m)\u001b[0m\u001b[1;33m\u001b[0m\u001b[1;33m\u001b[0m\u001b[0m\n\u001b[0;32m   2901\u001b[0m         \u001b[1;32mif\u001b[0m \u001b[0mindexer\u001b[0m\u001b[1;33m.\u001b[0m\u001b[0mndim\u001b[0m \u001b[1;33m>\u001b[0m \u001b[1;36m1\u001b[0m \u001b[1;32mor\u001b[0m \u001b[0mindexer\u001b[0m\u001b[1;33m.\u001b[0m\u001b[0msize\u001b[0m \u001b[1;33m>\u001b[0m \u001b[1;36m1\u001b[0m\u001b[1;33m:\u001b[0m\u001b[1;33m\u001b[0m\u001b[1;33m\u001b[0m\u001b[0m\n",
      "\u001b[1;32mpandas/_libs/index.pyx\u001b[0m in \u001b[0;36mpandas._libs.index.IndexEngine.get_loc\u001b[1;34m()\u001b[0m\n",
      "\u001b[1;32mpandas/_libs/index.pyx\u001b[0m in \u001b[0;36mpandas._libs.index.IndexEngine.get_loc\u001b[1;34m()\u001b[0m\n",
      "\u001b[1;32mpandas/_libs/hashtable_class_helper.pxi\u001b[0m in \u001b[0;36mpandas._libs.hashtable.PyObjectHashTable.get_item\u001b[1;34m()\u001b[0m\n",
      "\u001b[1;32mpandas/_libs/hashtable_class_helper.pxi\u001b[0m in \u001b[0;36mpandas._libs.hashtable.PyObjectHashTable.get_item\u001b[1;34m()\u001b[0m\n",
      "\u001b[1;31mKeyError\u001b[0m: 'log_adpt_time'"
     ]
    }
   ],
   "source": [
    "from sklearn.model_selection import train_test_split\n",
    "#trainval_X, test_X, trainval_y, test_y = train_test_split(X, y, test_size=0.2)\n",
    "#use log_adpt_time as feature\n",
    "trainval_X, test_X, trainval_y, test_y = train_test_split(X, total['log_adpt_time'], test_size=0.2)\n",
    "print('Training set size = {} and Test set size = {}'.format(len(trainval_X),len(test_X)))"
   ]
  },
  {
   "cell_type": "code",
   "execution_count": null,
   "metadata": {},
   "outputs": [],
   "source": []
  },
  {
   "cell_type": "code",
   "execution_count": 69,
   "metadata": {},
   "outputs": [
    {
     "data": {
      "text/html": [
       "<div>\n",
       "<style scoped>\n",
       "    .dataframe tbody tr th:only-of-type {\n",
       "        vertical-align: middle;\n",
       "    }\n",
       "\n",
       "    .dataframe tbody tr th {\n",
       "        vertical-align: top;\n",
       "    }\n",
       "\n",
       "    .dataframe thead th {\n",
       "        text-align: right;\n",
       "    }\n",
       "</style>\n",
       "<table border=\"1\" class=\"dataframe\">\n",
       "  <thead>\n",
       "    <tr style=\"text-align: right;\">\n",
       "      <th></th>\n",
       "      <th>age</th>\n",
       "      <th>gender</th>\n",
       "      <th>size</th>\n",
       "      <th>breeds.mixed</th>\n",
       "      <th>attributes.spayed_neutered</th>\n",
       "      <th>attributes.house_trained</th>\n",
       "      <th>attributes.shots_current</th>\n",
       "      <th>contact.address.state</th>\n",
       "    </tr>\n",
       "  </thead>\n",
       "  <tbody>\n",
       "    <tr>\n",
       "      <th>0</th>\n",
       "      <td>Baby</td>\n",
       "      <td>Female</td>\n",
       "      <td>Small</td>\n",
       "      <td>True</td>\n",
       "      <td>True</td>\n",
       "      <td>True</td>\n",
       "      <td>True</td>\n",
       "      <td>CA</td>\n",
       "    </tr>\n",
       "    <tr>\n",
       "      <th>1</th>\n",
       "      <td>Young</td>\n",
       "      <td>Male</td>\n",
       "      <td>Small</td>\n",
       "      <td>False</td>\n",
       "      <td>True</td>\n",
       "      <td>True</td>\n",
       "      <td>True</td>\n",
       "      <td>CA</td>\n",
       "    </tr>\n",
       "    <tr>\n",
       "      <th>2</th>\n",
       "      <td>Young</td>\n",
       "      <td>Male</td>\n",
       "      <td>Medium</td>\n",
       "      <td>False</td>\n",
       "      <td>True</td>\n",
       "      <td>False</td>\n",
       "      <td>True</td>\n",
       "      <td>CA</td>\n",
       "    </tr>\n",
       "    <tr>\n",
       "      <th>3</th>\n",
       "      <td>Adult</td>\n",
       "      <td>Female</td>\n",
       "      <td>Medium</td>\n",
       "      <td>False</td>\n",
       "      <td>True</td>\n",
       "      <td>False</td>\n",
       "      <td>True</td>\n",
       "      <td>CA</td>\n",
       "    </tr>\n",
       "    <tr>\n",
       "      <th>4</th>\n",
       "      <td>Young</td>\n",
       "      <td>Male</td>\n",
       "      <td>Medium</td>\n",
       "      <td>True</td>\n",
       "      <td>True</td>\n",
       "      <td>False</td>\n",
       "      <td>True</td>\n",
       "      <td>CA</td>\n",
       "    </tr>\n",
       "  </tbody>\n",
       "</table>\n",
       "</div>"
      ],
      "text/plain": [
       "     age  gender    size  breeds.mixed  attributes.spayed_neutered  \\\n",
       "0   Baby  Female   Small          True                        True   \n",
       "1  Young    Male   Small         False                        True   \n",
       "2  Young    Male  Medium         False                        True   \n",
       "3  Adult  Female  Medium         False                        True   \n",
       "4  Young    Male  Medium          True                        True   \n",
       "\n",
       "   attributes.house_trained  attributes.shots_current contact.address.state  \n",
       "0                      True                      True                    CA  \n",
       "1                      True                      True                    CA  \n",
       "2                     False                      True                    CA  \n",
       "3                     False                      True                    CA  \n",
       "4                     False                      True                    CA  "
      ]
     },
     "execution_count": 69,
     "metadata": {},
     "output_type": "execute_result"
    }
   ],
   "source": [
    "X.head()"
   ]
  },
  {
   "cell_type": "code",
   "execution_count": 70,
   "metadata": {},
   "outputs": [],
   "source": [
    "total_test = pd.concat([test_X,test_y], axis=1)"
   ]
  },
  {
   "cell_type": "code",
   "execution_count": 71,
   "metadata": {},
   "outputs": [],
   "source": [
    "export = total_test.to_csv('./data/test_set_scoped_A1.csv', header=True, index = False)"
   ]
  },
  {
   "cell_type": "code",
   "execution_count": 72,
   "metadata": {},
   "outputs": [],
   "source": [
    "total_trainval = pd.concat([trainval_X,trainval_y], axis=1)"
   ]
  },
  {
   "cell_type": "code",
   "execution_count": 73,
   "metadata": {},
   "outputs": [],
   "source": [
    "export = total_trainval.to_csv('./data/trainval_set_scoped_A1.csv', header=True, index = False)"
   ]
  },
  {
   "cell_type": "code",
   "execution_count": 147,
   "metadata": {},
   "outputs": [],
   "source": [
    "#from scipy import stats"
   ]
  },
  {
   "cell_type": "code",
   "execution_count": 169,
   "metadata": {},
   "outputs": [],
   "source": [
    "#bc_adpt_time,lmbda = stats.boxcox((total['adoption_time']+1))"
   ]
  },
  {
   "cell_type": "code",
   "execution_count": 170,
   "metadata": {},
   "outputs": [
    {
     "data": {
      "text/plain": [
       "<matplotlib.axes._subplots.AxesSubplot at 0x1fbf8ff4358>"
      ]
     },
     "execution_count": 170,
     "metadata": {},
     "output_type": "execute_result"
    },
    {
     "data": {
      "image/png": "[encoded data removed]",
      "text/plain": [
       "<Figure size 432x288 with 1 Axes>"
      ]
     },
     "metadata": {
      "needs_background": "light"
     },
     "output_type": "display_data"
    }
   ],
   "source": [
    "#sns.distplot(bc_adpt_time)"
   ]
  },
  {
   "cell_type": "code",
   "execution_count": 171,
   "metadata": {},
   "outputs": [
    {
     "data": {
      "text/plain": [
       "0.13720434611179522"
      ]
     },
     "execution_count": 171,
     "metadata": {},
     "output_type": "execute_result"
    }
   ],
   "source": [
    "#lmbda"
   ]
  },
  {
   "cell_type": "code",
   "execution_count": 172,
   "metadata": {},
   "outputs": [],
   "source": [
    "#from scipy.special import boxcox,inv_boxcox"
   ]
  },
  {
   "cell_type": "code",
   "execution_count": 251,
   "metadata": {},
   "outputs": [
    {
     "data": {
      "text/plain": [
       "[Text(0, 0.5, 'count'), Text(0.5, 0, 'transformed time')]"
      ]
     },
     "execution_count": 251,
     "metadata": {},
     "output_type": "execute_result"
    },
    {
     "data": {
      "image/png": "[encoded data removed]",
      "text/plain": [
       "<Figure size 432x288 with 1 Axes>"
      ]
     },
     "metadata": {
      "needs_background": "light"
     },
     "output_type": "display_data"
    }
   ],
   "source": [
    "tf_adpt_time = total.apply(lambda x: np.power(((x['adoption_time'])+6),(0.2)), axis=1)\n",
    "ax = sns.distplot(tf_adpt_time, kde=False)\n",
    "ax.set(xlabel='transformed time', ylabel='count')"
   ]
  },
  {
   "cell_type": "code",
   "execution_count": 86,
   "metadata": {},
   "outputs": [
    {
     "data": {
      "text/html": [
       "<div>\n",
       "<style scoped>\n",
       "    .dataframe tbody tr th:only-of-type {\n",
       "        vertical-align: middle;\n",
       "    }\n",
       "\n",
       "    .dataframe tbody tr th {\n",
       "        vertical-align: top;\n",
       "    }\n",
       "\n",
       "    .dataframe thead th {\n",
       "        text-align: right;\n",
       "    }\n",
       "</style>\n",
       "<table border=\"1\" class=\"dataframe\">\n",
       "  <thead>\n",
       "    <tr style=\"text-align: right;\">\n",
       "      <th></th>\n",
       "      <th>age</th>\n",
       "      <th>gender</th>\n",
       "      <th>size</th>\n",
       "      <th>breeds.mixed</th>\n",
       "      <th>attributes.spayed_neutered</th>\n",
       "      <th>attributes.house_trained</th>\n",
       "      <th>attributes.special_needs</th>\n",
       "      <th>attributes.shots_current</th>\n",
       "      <th>contact.address.state</th>\n",
       "      <th>adoption_time</th>\n",
       "    </tr>\n",
       "  </thead>\n",
       "  <tbody>\n",
       "    <tr>\n",
       "      <th>0</th>\n",
       "      <td>Baby</td>\n",
       "      <td>Female</td>\n",
       "      <td>Small</td>\n",
       "      <td>True</td>\n",
       "      <td>True</td>\n",
       "      <td>True</td>\n",
       "      <td>False</td>\n",
       "      <td>True</td>\n",
       "      <td>CA</td>\n",
       "      <td>19</td>\n",
       "    </tr>\n",
       "    <tr>\n",
       "      <th>1</th>\n",
       "      <td>Young</td>\n",
       "      <td>Male</td>\n",
       "      <td>Small</td>\n",
       "      <td>False</td>\n",
       "      <td>True</td>\n",
       "      <td>True</td>\n",
       "      <td>False</td>\n",
       "      <td>True</td>\n",
       "      <td>CA</td>\n",
       "      <td>29</td>\n",
       "    </tr>\n",
       "    <tr>\n",
       "      <th>2</th>\n",
       "      <td>Young</td>\n",
       "      <td>Male</td>\n",
       "      <td>Medium</td>\n",
       "      <td>False</td>\n",
       "      <td>True</td>\n",
       "      <td>False</td>\n",
       "      <td>False</td>\n",
       "      <td>True</td>\n",
       "      <td>CA</td>\n",
       "      <td>18</td>\n",
       "    </tr>\n",
       "    <tr>\n",
       "      <th>3</th>\n",
       "      <td>Adult</td>\n",
       "      <td>Female</td>\n",
       "      <td>Medium</td>\n",
       "      <td>False</td>\n",
       "      <td>True</td>\n",
       "      <td>False</td>\n",
       "      <td>False</td>\n",
       "      <td>True</td>\n",
       "      <td>CA</td>\n",
       "      <td>57</td>\n",
       "    </tr>\n",
       "    <tr>\n",
       "      <th>4</th>\n",
       "      <td>Young</td>\n",
       "      <td>Male</td>\n",
       "      <td>Medium</td>\n",
       "      <td>True</td>\n",
       "      <td>True</td>\n",
       "      <td>False</td>\n",
       "      <td>False</td>\n",
       "      <td>True</td>\n",
       "      <td>CA</td>\n",
       "      <td>8</td>\n",
       "    </tr>\n",
       "  </tbody>\n",
       "</table>\n",
       "</div>"
      ],
      "text/plain": [
       "     age  gender    size  breeds.mixed  attributes.spayed_neutered  \\\n",
       "0   Baby  Female   Small          True                        True   \n",
       "1  Young    Male   Small         False                        True   \n",
       "2  Young    Male  Medium         False                        True   \n",
       "3  Adult  Female  Medium         False                        True   \n",
       "4  Young    Male  Medium          True                        True   \n",
       "\n",
       "   attributes.house_trained  attributes.special_needs  \\\n",
       "0                      True                     False   \n",
       "1                      True                     False   \n",
       "2                     False                     False   \n",
       "3                     False                     False   \n",
       "4                     False                     False   \n",
       "\n",
       "   attributes.shots_current contact.address.state  adoption_time  \n",
       "0                      True                    CA             19  \n",
       "1                      True                    CA             29  \n",
       "2                      True                    CA             18  \n",
       "3                      True                    CA             57  \n",
       "4                      True                    CA              8  "
      ]
     },
     "execution_count": 86,
     "metadata": {},
     "output_type": "execute_result"
    }
   ],
   "source": [
    "total.head()"
   ]
  },
  {
   "cell_type": "code",
   "execution_count": 87,
   "metadata": {},
   "outputs": [
    {
     "data": {
      "text/plain": [
       "153436"
      ]
     },
     "execution_count": 87,
     "metadata": {},
     "output_type": "execute_result"
    }
   ],
   "source": [
    "len(X)"
   ]
  },
  {
   "cell_type": "code",
   "execution_count": 252,
   "metadata": {},
   "outputs": [],
   "source": [
    "total['mod_adpt_time'] = total.apply(lambda x: np.power(((x['adoption_time'])+6),(0.2)), axis=1)"
   ]
  },
  {
   "cell_type": "code",
   "execution_count": 253,
   "metadata": {},
   "outputs": [
    {
     "name": "stdout",
     "output_type": "stream",
     "text": [
      "Training set size = 54481 and Test set size = 13621\n"
     ]
    }
   ],
   "source": [
    "from sklearn.model_selection import train_test_split\n",
    "#trainval_X, test_X, trainval_y, test_y = train_test_split(X, y, test_size=0.2)\n",
    "#use log_adpt_time as feature\n",
    "trainval_X, test_X, trainval_y, test_y = train_test_split(X, total['mod_adpt_time'], test_size=0.2)\n",
    "print('Training set size = {} and Test set size = {}'.format(len(trainval_X),len(test_X)))"
   ]
  },
  {
   "cell_type": "code",
   "execution_count": 254,
   "metadata": {},
   "outputs": [],
   "source": [
    "total_test = pd.concat([test_X,test_y], axis=1)\n",
    "export = total_test.to_csv('./data/test_set_scoped_A2.csv', header=True, index = False)\n",
    "total_trainval = pd.concat([trainval_X,trainval_y], axis=1)\n",
    "export = total_trainval.to_csv('./data/trainval_set_scoped_A2.csv', header=True, index = False)"
   ]
  }
 ],
 "metadata": {
  "kernelspec": {
   "display_name": "Python 3",
   "language": "python",
   "name": "python3"
  },
  "language_info": {
   "codemirror_mode": {
    "name": "ipython",
    "version": 3
   },
   "file_extension": ".py",
   "mimetype": "text/x-python",
   "name": "python",
   "nbconvert_exporter": "python",
   "pygments_lexer": "ipython3",
   "version": "3.7.6"
  }
 },
 "nbformat": 4,
 "nbformat_minor": 2
}
